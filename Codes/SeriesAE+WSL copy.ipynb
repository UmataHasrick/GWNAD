{
 "cells": [
  {
   "cell_type": "code",
   "execution_count": 1,
   "metadata": {},
   "outputs": [],
   "source": [
    "import numpy as np\n",
    "import matplotlib.pyplot as plt\n",
    "import time"
   ]
  },
  {
   "cell_type": "code",
   "execution_count": 2,
   "metadata": {},
   "outputs": [
    {
     "data": {
      "text/plain": [
       "[<matplotlib.lines.Line2D at 0x1c8a99b9b50>]"
      ]
     },
     "execution_count": 2,
     "metadata": {},
     "output_type": "execute_result"
    },
    {
     "data": {
      "image/png": "[encoded data removed]",
      "text/plain": [
       "<Figure size 640x480 with 1 Axes>"
      ]
     },
     "metadata": {},
     "output_type": "display_data"
    }
   ],
   "source": [
    "plt.plot(np.arange(0, 1, 0.1), 2*np.arange(0, 1, 0.1))"
   ]
  },
  {
   "cell_type": "code",
   "execution_count": 2,
   "metadata": {},
   "outputs": [],
   "source": [
    "import h5py"
   ]
  },
  {
   "cell_type": "code",
   "execution_count": 3,
   "metadata": {},
   "outputs": [],
   "source": [
    "from scipy.stats import norm"
   ]
  },
  {
   "cell_type": "code",
   "execution_count": 4,
   "metadata": {},
   "outputs": [],
   "source": [
    "import torch\n",
    "from torch.utils.data import DataLoader\n",
    "from torch.utils.data import TensorDataset\n",
    "from torch import nn, optim\n",
    "import scipy.io as sio\n",
    "# import pandas as pd\n",
    "import datetime\n",
    "import os\n",
    "# import readligo as rl\n",
    "# from gwpy.timeseries import TimeSeries\n",
    "import math\n",
    "import random\n",
    "\n",
    "import copy"
   ]
  },
  {
   "cell_type": "code",
   "execution_count": 16,
   "metadata": {},
   "outputs": [],
   "source": [
    "os.chdir('D:\\OneDrive - HKUST Connect\\Research\\GWNMMAD\\Codes')"
   ]
  },
  {
   "cell_type": "code",
   "execution_count": 5,
   "metadata": {},
   "outputs": [],
   "source": [
    "import torch.nn.functional as F"
   ]
  },
  {
   "cell_type": "code",
   "execution_count": 6,
   "metadata": {},
   "outputs": [],
   "source": [
    "epochs_wsl = 100;"
   ]
  },
  {
   "cell_type": "code",
   "execution_count": 7,
   "metadata": {},
   "outputs": [],
   "source": [
    "epochs = 100\n",
    "rTrain = 0.7;\n",
    "rTest = 0.2;\n",
    "# input_vector_length = 100\n",
    "batch_size = 32\n",
    "num_bins = 40\n",
    "coef_delta = 0"
   ]
  },
  {
   "cell_type": "markdown",
   "metadata": {},
   "source": [
    "# 4-AE + WSL"
   ]
  },
  {
   "cell_type": "markdown",
   "metadata": {
    "heading_collapsed": true
   },
   "source": [
    "## Networks"
   ]
  },
  {
   "cell_type": "code",
   "execution_count": 9,
   "metadata": {
    "hidden": true
   },
   "outputs": [],
   "source": [
    "class AutoEncoder(nn.Module):\n",
    "    def __init__(self):\n",
    "        super(AutoEncoder, self).__init__()\n",
    "        self.encoder = nn.Sequential(\n",
    "            nn.Linear(101, 20),\n",
    "            nn.ReLU()\n",
    "        )\n",
    "        self.decoder = nn.Sequential(\n",
    "            nn.Linear(20, 101),\n",
    "            nn.Sigmoid()\n",
    "        )\n",
    "\n",
    "    def forward(self, x):\n",
    "        encoded = self.encoder(x)\n",
    "        decoded = self.decoder(encoded)\n",
    "        return encoded, decoded"
   ]
  },
  {
   "cell_type": "code",
   "execution_count": 8,
   "metadata": {},
   "outputs": [],
   "source": [
    "class AutoEncoder(nn.Module):\n",
    "    def __init__(self):\n",
    "        super(AutoEncoder, self).__init__()\n",
    "        self.encoder = nn.Sequential(\n",
    "            nn.Linear(202, 20),\n",
    "            nn.ReLU()\n",
    "        )\n",
    "        self.decoder = nn.Sequential(\n",
    "            nn.Linear(20, 202),\n",
    "            nn.Sigmoid()\n",
    "        )\n",
    "\n",
    "    def forward(self, x):\n",
    "        encoded = self.encoder(x)\n",
    "        decoded = self.decoder(encoded)\n",
    "        return encoded, decoded"
   ]
  },
  {
   "cell_type": "code",
   "execution_count": 43,
   "metadata": {
    "hidden": true
   },
   "outputs": [],
   "source": [
    "class WSClassifier(nn.Module):\n",
    "    def __init__(self):\n",
    "        super(WSClassifier, self).__init__()\n",
    "        self.fc1 = nn.Linear(101, 32)  # 第一层全连接层，输入维度为4，输出维度为64\n",
    "        self.norm1 = nn.BatchNorm1d(32)\n",
    "        self.relu = nn.ReLU()  # 激活函数\n",
    "        self.sigmoid = nn.Sigmoid()\n",
    "        self.fc2 = nn.Linear(32, 8)\n",
    "        self.norm2 = nn.BatchNorm1d(8)\n",
    "        self.fc4 = nn.Linear(8, 1)  # 第三层全连接层，输入维度为32，输出维度为类别数目\n",
    "        \n",
    "        nn.init.kaiming_normal_(self.fc1.weight)\n",
    "        nn.init.kaiming_normal_(self.fc2.weight)\n",
    "        nn.init.kaiming_normal_(self.fc4.weight)\n",
    "\n",
    "    def forward(self, x):\n",
    "        x = self.norm1(self.relu(self.fc1(x)))\n",
    "        x = self.norm2(self.relu(self.fc2(x)))\n",
    "        return self.fc4(x)\n",
    "        # x = self.relu(x)\n",
    "#         x = self.sigmoid(x)"
   ]
  },
  {
   "cell_type": "code",
   "execution_count": 10,
   "metadata": {},
   "outputs": [],
   "source": [
    "class WSClassifier(nn.Module):\n",
    "    def __init__(self):\n",
    "        super(WSClassifier, self).__init__()\n",
    "        self.fc1 = nn.Linear(101, 32)  # 第一层全连接层，输入维度为4，输出维度为64\n",
    "        self.norm1 = nn.BatchNorm1d(32)\n",
    "        self.relu = nn.ReLU()  # 激活函数\n",
    "        self.sigmoid = nn.Sigmoid()\n",
    "        self.fc2 = nn.Linear(32, 1)\n",
    "        # self.norm2 = nn.BatchNorm1d(8)\n",
    "        # self.fc4 = nn.Linear(8, 1)  # 第三层全连接层，输入维度为32，输出维度为类别数目\n",
    "        \n",
    "        nn.init.kaiming_normal_(self.fc1.weight)\n",
    "        nn.init.kaiming_normal_(self.fc2.weight)\n",
    "        # nn.init.kaiming_normal_(self.fc4.weight)\n",
    "\n",
    "    def forward(self, x):\n",
    "        x = self.norm1(self.relu(self.fc1(x)))\n",
    "        return self.fc2(x)\n",
    "        # x = self.relu(x)\n",
    "#         x = self.sigmoid(x)"
   ]
  },
  {
   "cell_type": "code",
   "execution_count": 9,
   "metadata": {},
   "outputs": [],
   "source": [
    "class WSClassifier(nn.Module):\n",
    "    def __init__(self):\n",
    "        super(WSClassifier, self).__init__()\n",
    "        self.fc1 = nn.Linear(202, 32)  # 第一层全连接层，输入维度为4，输出维度为64\n",
    "        self.norm1 = nn.BatchNorm1d(32)\n",
    "        self.relu = nn.ReLU()  # 激活函数\n",
    "        self.sigmoid = nn.Sigmoid()\n",
    "        self.fc2 = nn.Linear(32, 1)\n",
    "        # self.norm2 = nn.BatchNorm1d(8)\n",
    "        # self.fc4 = nn.Linear(8, 1)  # 第三层全连接层，输入维度为32，输出维度为类别数目\n",
    "        \n",
    "        nn.init.kaiming_normal_(self.fc1.weight)\n",
    "        nn.init.kaiming_normal_(self.fc2.weight)\n",
    "        # nn.init.kaiming_normal_(self.fc4.weight)\n",
    "\n",
    "    def forward(self, x):\n",
    "        x = self.norm1(self.relu(self.fc1(x)))\n",
    "        return self.fc2(x)\n",
    "        # x = self.relu(x)\n",
    "#         x = self.sigmoid(x)"
   ]
  },
  {
   "cell_type": "code",
   "execution_count": 10,
   "metadata": {
    "hidden": true
   },
   "outputs": [
    {
     "name": "stdout",
     "output_type": "stream",
     "text": [
      "8302\n"
     ]
    }
   ],
   "source": [
    "ae = AutoEncoder().cuda()\n",
    "print(sum(p.numel() for p in ae.parameters() if p.requires_grad))"
   ]
  },
  {
   "cell_type": "code",
   "execution_count": 11,
   "metadata": {
    "hidden": true
   },
   "outputs": [
    {
     "name": "stdout",
     "output_type": "stream",
     "text": [
      "6593\n"
     ]
    }
   ],
   "source": [
    "wsc = WSClassifier().cuda()\n",
    "print(sum(p.numel() for p in wsc.parameters() if p.requires_grad))"
   ]
  },
  {
   "cell_type": "code",
   "execution_count": 16,
   "metadata": {},
   "outputs": [
    {
     "data": {
      "text/plain": [
       "WSClassifier(\n",
       "  (fc1): Linear(in_features=101, out_features=32, bias=True)\n",
       "  (norm1): BatchNorm1d(32, eps=1e-05, momentum=0.1, affine=True, track_running_stats=True)\n",
       "  (relu): ReLU()\n",
       "  (sigmoid): Sigmoid()\n",
       "  (fc2): Linear(in_features=32, out_features=1, bias=True)\n",
       ")"
      ]
     },
     "execution_count": 16,
     "metadata": {},
     "output_type": "execute_result"
    }
   ],
   "source": [
    "wsc"
   ]
  },
  {
   "cell_type": "markdown",
   "metadata": {},
   "source": [
    "## data loading"
   ]
  },
  {
   "cell_type": "code",
   "execution_count": 12,
   "metadata": {},
   "outputs": [],
   "source": [
    "list_datatype = [\"noise\", \"bbh\", \"sg\", \"glitch\"]"
   ]
  },
  {
   "cell_type": "code",
   "execution_count": 96,
   "metadata": {},
   "outputs": [],
   "source": [
    "N_wsl_total = 30000;\n",
    "N_wsl = {}\n",
    "N_wsl[\"noise\"] = int(0.75*N_wsl_total)\n",
    "N_wsl[\"bbh\"] = int(0.1*N_wsl_total)\n",
    "N_wsl[\"sg\"] = int(0.1*N_wsl_total)\n",
    "N_wsl[\"glitch\"] = int(0.05*N_wsl_total)"
   ]
  },
  {
   "cell_type": "code",
   "execution_count": 97,
   "metadata": {},
   "outputs": [],
   "source": [
    "renorm_factor_0 = 20;\n",
    "renorm_factor_1 = 20;\n",
    "\n",
    "realbkg = np.load('E://GWNMMAD_data/Tw_dataset/Datasets/background.npz')['data'].reshape(-1,200) / renorm_factor_0;\n",
    "realbbh = np.load('E://GWNMMAD_data/Tw_dataset/Datasets/bbh_for_challenge.npy').reshape(-1,200) / renorm_factor_0;\n",
    "\n",
    "realsg = np.load('E://GWNMMAD_data/Tw_dataset/Datasets/sglf_for_challenge.npy').reshape(-1,200) / renorm_factor_0;\n",
    "# realglitch = np.load(\"../data/real_glitches_9998_4000Hz_25ms.npz\")[\"strain_time_data\"]\n",
    "realglitch_L = np.load(\"../Data_cached/real_glitches_snrlt5_60132_4000Hz_25ms.npz\")[\"strain_time_data\"][:30000].reshape(-1,1,200) / renorm_factor_1\n",
    "realglitch_H = np.load('../Data_cached/real_glitches_H_snrlt5_59732_4000Hz_25ms.npz')[\"strain_time_data\"][:30000].reshape(-1,1,200) / renorm_factor_1"
   ]
  },
  {
   "cell_type": "code",
   "execution_count": 98,
   "metadata": {},
   "outputs": [],
   "source": [
    "noise_first50k = realbkg.reshape(-1,2,200)[:30000]\n",
    "\n",
    "glitch_L_noise_H = np.concatenate((realglitch_L, noise_first50k[:,[1],:]), axis = 1)\n",
    "glitch_H_noise_L = np.concatenate((realglitch_H, noise_first50k[:,[0],:]), axis = 1)\n",
    "realglitch = np.vstack((glitch_L_noise_H, glitch_H_noise_L))\n",
    "np.random.shuffle(realglitch)\n",
    "realglitch = realglitch.reshape(-1,200)\n",
    "realbkg = realbkg[60000:]"
   ]
  },
  {
   "cell_type": "code",
   "execution_count": 99,
   "metadata": {},
   "outputs": [],
   "source": [
    "realbkg_reserved = realbkg[-int(0.2 * len(realbkg)):]\n",
    "realbbh_reserved = realbbh[-int(0.2 * len(realbbh)):]\n",
    "realsg_reserved = realsg[-int(0.2 * len(realsg)):]\n",
    "realglitch_reserved = realglitch[-int(0.2 * len(realglitch)):]\n",
    "\n",
    "realbkg = realbkg[:-int(0.2 * len(realbkg))]\n",
    "realbbh = realbbh[:-int(0.2 * len(realbbh))]\n",
    "realsg = realsg[:-int(0.2 * len(realsg))]\n",
    "realglitch = realglitch[:-int(0.2 * len(realglitch))]"
   ]
  },
  {
   "cell_type": "code",
   "execution_count": 100,
   "metadata": {},
   "outputs": [],
   "source": [
    "bkg_fft = abs(np.fft.rfft(realbkg))\n",
    "bkg_fft = bkg_fft/np.linalg.norm([bkg_fft], axis=2).T\n",
    "\n",
    "bbh_fft = abs(np.fft.rfft(realbbh))\n",
    "bbh_fft = bbh_fft/np.linalg.norm([bbh_fft], axis=2).T\n",
    "\n",
    "sg_fft = abs(np.fft.rfft(realsg))\n",
    "sg_fft = sg_fft/np.linalg.norm([sg_fft], axis=2).T\n",
    "\n",
    "glitch_fft = abs(np.fft.rfft(realglitch))\n",
    "glitch_fft = glitch_fft/np.linalg.norm([glitch_fft], axis=2).T"
   ]
  },
  {
   "cell_type": "code",
   "execution_count": 101,
   "metadata": {},
   "outputs": [
    {
     "data": {
      "text/plain": [
       "(112000, 101)"
      ]
     },
     "execution_count": 101,
     "metadata": {},
     "output_type": "execute_result"
    }
   ],
   "source": [
    "bkg_fft.shape"
   ]
  },
  {
   "cell_type": "code",
   "execution_count": 102,
   "metadata": {},
   "outputs": [
    {
     "data": {
      "text/plain": [
       "(96000, 101)"
      ]
     },
     "execution_count": 102,
     "metadata": {},
     "output_type": "execute_result"
    }
   ],
   "source": [
    "glitch_fft.shape"
   ]
  },
  {
   "cell_type": "code",
   "execution_count": 103,
   "metadata": {},
   "outputs": [],
   "source": [
    "bkg_fft = bkg_fft.reshape(-1,202)\n",
    "\n",
    "bbh_fft = bbh_fft.reshape(-1,202)\n",
    "\n",
    "sg_fft = sg_fft.reshape(-1,202)\n",
    "\n",
    "glitch_fft = glitch_fft.reshape(-1,202)"
   ]
  },
  {
   "cell_type": "code",
   "execution_count": 15,
   "metadata": {},
   "outputs": [],
   "source": [
    "# dataset_raw = {};\n",
    "# dataset_raw[\"noise\"] = np.load(\"E://GWNMMAD_data/Tw_dataset/Datasets/background.npz\")['data'].reshape(-1,200);\n",
    "# dataset_raw[\"bbh\"] = np.load(\"E://GWNMMAD_data/Tw_dataset/Datasets/bbh_for_challenge.npy\").reshape(-1,200);\n",
    "# dataset_raw[\"sg\"] = np.load(\"E://GWNMMAD_data/Tw_dataset/Datasets/sglf_for_challenge.npy\").reshape(-1,200);\n",
    "# # realglitch = np.load(\"../data/real_glitches_9998_4000Hz_25ms.npz\")[\"strain_time_data\"]\n",
    "# dataset_raw[\"glitch\"] = np.load(\"../Data_cached/real_glitches_snrlt5_60132_4000Hz_25ms.npz\")[\"strain_time_data\"]\n",
    "\n",
    "# dataset_wsl = {};\n",
    "# dataset_ae = {};\n",
    "# dataset_wsl_fft = {};\n",
    "# dataset_ae_fft = {};\n",
    "\n",
    "# for dt in list_datatype:\n",
    "#     perm = np.random.permutation(len(dataset_raw[dt]))\n",
    "#     nwsl = N_wsl[dt]\n",
    "#     dataset_wsl[dt] = dataset_raw[dt][perm[:nwsl]]\n",
    "#     dataset_wsl[dt] = dataset_wsl[dt] / np.linalg.norm([dataset_wsl[dt]], axis=2).T\n",
    "#     dataset_wsl_fft[dt] = abs(np.fft.rfft(dataset_wsl[dt]))\n",
    "#     dataset_wsl_fft[dt] = dataset_wsl_fft[dt]/np.linalg.norm([dataset_wsl_fft[dt]], axis=2).T\n",
    "    \n",
    "#     dataset_ae[dt]  = dataset_raw[dt][perm[nwsl:]]\n",
    "#     dataset_ae[dt] = dataset_ae[dt] / np.linalg.norm([dataset_ae[dt]], axis=2).T\n",
    "#     dataset_ae_fft[dt] = abs(np.fft.rfft(dataset_ae[dt]))\n",
    "#     dataset_ae_fft[dt] = dataset_ae_fft[dt]/np.linalg.norm([dataset_ae_fft[dt]], axis=2).T\n",
    "    \n",
    "#     np.savetxt(\"../Data_Cached/SequentialTraining/WSL/perm_\"+dt+\"_2det.dat\", perm)"
   ]
  },
  {
   "cell_type": "code",
   "execution_count": 104,
   "metadata": {},
   "outputs": [],
   "source": [
    "dataset_raw_fft = {}\n",
    "\n",
    "dataset_raw_fft[\"noise\"] = bkg_fft\n",
    "dataset_raw_fft[\"bbh\"] = bbh_fft\n",
    "dataset_raw_fft[\"sg\"] = sg_fft\n",
    "dataset_raw_fft[\"glitch\"] = glitch_fft\n",
    "\n",
    "dataset_wsl = {};\n",
    "dataset_ae = {};\n",
    "dataset_wsl_fft = {};\n",
    "dataset_ae_fft = {};\n",
    "\n",
    "for dt in list_datatype:\n",
    "    perm = np.random.permutation(len(dataset_raw_fft[dt]))\n",
    "    nwsl = N_wsl[dt]\n",
    "    dataset_wsl_fft[dt] = dataset_raw_fft[dt][perm[:nwsl]]\n",
    "    # dataset_wsl[dt] = dataset_wsl[dt] / np.linalg.norm([dataset_wsl[dt]], axis=2).T\n",
    "    # dataset_wsl_fft[dt] = abs(np.fft.rfft(dataset_wsl[dt]))\n",
    "    # dataset_wsl_fft[dt] = dataset_wsl_fft[dt]/np.linalg.norm([dataset_wsl_fft[dt]], axis=2).T\n",
    "    \n",
    "    dataset_ae_fft[dt]  = dataset_raw_fft[dt][perm[nwsl:]]\n",
    "    # dataset_ae[dt] = dataset_ae[dt] / np.linalg.norm([dataset_ae[dt]], axis=2).T\n",
    "    # dataset_ae_fft[dt] = abs(np.fft.rfft(dataset_ae[dt]))\n",
    "    # dataset_ae_fft[dt] = dataset_ae_fft[dt]/np.linalg.norm([dataset_ae_fft[dt]], axis=2).T\n",
    "    \n",
    "    np.savetxt(\"../Data_Cached/SequentialTraining/WSL/perm_\"+dt+\"_2det.dat\", perm)"
   ]
  },
  {
   "cell_type": "code",
   "execution_count": 105,
   "metadata": {},
   "outputs": [
    {
     "data": {
      "text/plain": [
       "1.4142135623730951"
      ]
     },
     "execution_count": 105,
     "metadata": {},
     "output_type": "execute_result"
    }
   ],
   "source": [
    "np.linalg.norm(dataset_ae_fft['noise'][0])"
   ]
  },
  {
   "cell_type": "code",
   "execution_count": 106,
   "metadata": {},
   "outputs": [
    {
     "name": "stdout",
     "output_type": "stream",
     "text": [
      "noise\n",
      "(33500, 202)\n",
      "bbh\n",
      "(77000, 202)\n",
      "sg\n",
      "(77000, 202)\n",
      "glitch\n",
      "(46500, 202)\n"
     ]
    }
   ],
   "source": [
    "for key in dataset_ae_fft.keys():\n",
    "    print(key)\n",
    "    print(dataset_ae_fft[key].shape)"
   ]
  },
  {
   "cell_type": "code",
   "execution_count": 25,
   "metadata": {},
   "outputs": [],
   "source": [
    "for key in dataset_wsl.keys():\n",
    "    print(key)\n",
    "    print(dataset_wsl[key].shape)"
   ]
  },
  {
   "cell_type": "code",
   "execution_count": 142,
   "metadata": {},
   "outputs": [
    {
     "data": {
      "text/plain": [
       "(28000, 200)"
      ]
     },
     "execution_count": 142,
     "metadata": {},
     "output_type": "execute_result"
    }
   ],
   "source": [
    "realbkg_reserved.shape"
   ]
  },
  {
   "cell_type": "code",
   "execution_count": 143,
   "metadata": {},
   "outputs": [],
   "source": [
    "bkg_reserved_fft = abs(np.fft.rfft(realbkg_reserved))\n",
    "bkg_reserved_fft = bkg_reserved_fft/np.linalg.norm([bkg_reserved_fft], axis=2).T\n",
    "\n",
    "bbh_reserved_fft = abs(np.fft.rfft(realbbh_reserved))\n",
    "bbh_reserved_fft = bbh_reserved_fft/np.linalg.norm([bbh_reserved_fft], axis=2).T\n",
    "\n",
    "sg_reserved_fft = abs(np.fft.rfft(realsg_reserved))\n",
    "sg_reserved_fft = sg_reserved_fft/np.linalg.norm([sg_reserved_fft], axis=2).T\n",
    "\n",
    "glitch_reserved_fft = abs(np.fft.rfft(realglitch_reserved))\n",
    "glitch_reserved_fft = glitch_reserved_fft/np.linalg.norm([glitch_reserved_fft], axis=2).T"
   ]
  },
  {
   "cell_type": "code",
   "execution_count": 145,
   "metadata": {},
   "outputs": [],
   "source": [
    "bkg_reserved_fft = bkg_reserved_fft.reshape(-1,202)\n",
    "\n",
    "bbh_reserved_fft = bbh_reserved_fft.reshape(-1,202)\n",
    "\n",
    "sg_reserved_fft = sg_reserved_fft.reshape(-1,202)\n",
    "\n",
    "glitch_reserved_fft = glitch_reserved_fft.reshape(-1,202)"
   ]
  },
  {
   "cell_type": "code",
   "execution_count": 149,
   "metadata": {},
   "outputs": [
    {
     "data": {
      "text/plain": [
       "(14000, 202)"
      ]
     },
     "execution_count": 149,
     "metadata": {},
     "output_type": "execute_result"
    }
   ],
   "source": [
    "bkg_reserved_fft.shape"
   ]
  },
  {
   "cell_type": "code",
   "execution_count": 298,
   "metadata": {},
   "outputs": [],
   "source": [
    "N_reserved_test = {}\n",
    "\n",
    "N_reserved_test_total = 20000\n",
    "\n",
    "N_reserved_test['glitch'] = int(0.05 * N_reserved_test_total)\n",
    "N_reserved_test['noise'] = int(0.15 * N_reserved_test_total)\n",
    "N_reserved_test['bbh'] = int(0.15 * N_reserved_test_total)\n",
    "N_reserved_test['sg'] = int(0.65 * N_reserved_test_total)\n",
    "\n",
    "dataset_reserved_test_collected = np.vstack((glitch_reserved_fft[-N_reserved_test['glitch']:], bkg_reserved_fft[-N_reserved_test['noise']:],\n",
    "                                             bbh_reserved_fft[-N_reserved_test['bbh']:], sg_reserved_fft[-N_reserved_test['sg']:]))"
   ]
  },
  {
   "cell_type": "code",
   "execution_count": 299,
   "metadata": {},
   "outputs": [
    {
     "data": {
      "text/plain": [
       "(20000, 202)"
      ]
     },
     "execution_count": 299,
     "metadata": {},
     "output_type": "execute_result"
    }
   ],
   "source": [
    "dataset_reserved_test_collected.shape"
   ]
  },
  {
   "cell_type": "code",
   "execution_count": 300,
   "metadata": {},
   "outputs": [
    {
     "ename": "TypeError",
     "evalue": "Random.choice() missing 1 required positional argument: 'seq'",
     "output_type": "error",
     "traceback": [
      "\u001b[1;31m---------------------------------------------------------------------------\u001b[0m",
      "\u001b[1;31mTypeError\u001b[0m                                 Traceback (most recent call last)",
      "Cell \u001b[1;32mIn[300], line 1\u001b[0m\n\u001b[1;32m----> 1\u001b[0m \u001b[43mrandom\u001b[49m\u001b[38;5;241;43m.\u001b[39;49m\u001b[43mchoice\u001b[49m\u001b[43m(\u001b[49m\u001b[43m)\u001b[49m\n",
      "\u001b[1;31mTypeError\u001b[0m: Random.choice() missing 1 required positional argument: 'seq'"
     ]
    }
   ],
   "source": [
    "random.choice()"
   ]
  },
  {
   "cell_type": "markdown",
   "metadata": {},
   "source": [
    "## training"
   ]
  },
  {
   "cell_type": "code",
   "execution_count": 26,
   "metadata": {},
   "outputs": [],
   "source": [
    "version = \"v5\";"
   ]
  },
  {
   "cell_type": "code",
   "execution_count": 27,
   "metadata": {},
   "outputs": [],
   "source": [
    "epochs = 50;"
   ]
  },
  {
   "cell_type": "code",
   "execution_count": 28,
   "metadata": {},
   "outputs": [],
   "source": [
    "sequence = [\"glitch\", \"noise\", \"bbh\", \"sg\"];\n",
    "ind2datatype = {};\n",
    "datatype2ind = {};\n",
    "for i, dt in enumerate(sequence):\n",
    "    ind2datatype[i] = dt;\n",
    "    datatype2ind[dt] = i;\n",
    "    \n",
    "torch.save(ind2datatype, \"../Data_cached/SequentialTraining/WSL/sequence_\"+version+\".json\")"
   ]
  },
  {
   "cell_type": "code",
   "execution_count": 107,
   "metadata": {},
   "outputs": [],
   "source": [
    "dataset_wsl_fft_collected = np.empty((0, dataset_wsl_fft[\"glitch\"].shape[1]))\n",
    "for dt in sequence:\n",
    "    dataset_wsl_fft_collected = np.vstack((dataset_wsl_fft_collected, dataset_wsl_fft[dt]))"
   ]
  },
  {
   "cell_type": "code",
   "execution_count": 30,
   "metadata": {},
   "outputs": [],
   "source": [
    "# N_bkg = len(bkg_reserved_fft);\n",
    "# N_glitch = int(N_bkg/15);\n",
    "# N_bbh = int(N_bkg*2/15);\n",
    "# N_sg = int(N_bkg*2/15);\n",
    "\n",
    "# testset = np.empty((N_bkg+N_glitch+N_bbh+N_sg, len(bkg_reserved_fft[0])))\n",
    "\n",
    "# s = 0;\n",
    "# testset[s : s+N_glitch] = glitch_reserved_fft[np.random.permutation(len(glitch_reserved_fft))[:N_glitch]];\n",
    "# s += N_glitch;\n",
    "\n",
    "# testset[s : s+N_bkg] = bkg_reserved_fft[np.random.permutation(len(bkg_reserved_fft))[:N_bkg]];\n",
    "# s += N_bkg;\n",
    "\n",
    "# testset[s : s+N_bbh] = bbh_reserved_fft[np.random.permutation(len(bbh_reserved_fft))[:N_bbh]];\n",
    "# s += N_bbh;\n",
    "\n",
    "# testset[s : s+N_sg] = sg_reserved_fft[np.random.permutation(len(sg_reserved_fft))[:N_sg]];\n",
    "# s += N_sg;\n",
    "\n",
    "# correct_ans = np.concatenate(([0]*N_glitch, [1]*N_bkg, [2]*N_bbh, [3]*N_sg))\n",
    "\n",
    "# Nsample = {};\n",
    "# Nsample[\"glitch\"] = N_glitch;\n",
    "# Nsample[\"noise\"] = N_bkg;\n",
    "# Nsample[\"bbh\"] = N_bbh;\n",
    "# Nsample[\"sg\"] = N_sg"
   ]
  },
  {
   "cell_type": "code",
   "execution_count": 31,
   "metadata": {},
   "outputs": [],
   "source": [
    "# Ncut = 5;\n",
    "# cutList = {};\n",
    "\n",
    "# max_glitch = 0.0026;\n",
    "# min_glitch = 0.001;\n",
    "# cutList[\"glitch\"] = np.linspace(min_glitch, max_glitch, Ncut);\n",
    "\n",
    "# max_bkg = 0.0026;\n",
    "# min_bkg = 0.001;\n",
    "# cutList[\"noise\"] = np.linspace(min_bkg, max_bkg, Ncut);\n",
    "\n",
    "# max_bbh = 0.0024;\n",
    "# min_bbh = 0.0008;\n",
    "# cutList[\"bbh\"] = np.linspace(min_bbh, max_bbh, Ncut);\n",
    "\n",
    "# max_sg = 0.003;\n",
    "# min_sg = 0.0003;\n",
    "# cutList[\"sg\"] = np.linspace(min_sg, max_sg, Ncut);\n",
    "\n",
    "# torch.save(cutList, \"../Data_cached/SequentialTraining/WSL/cut_\"+version+\".json\")"
   ]
  },
  {
   "cell_type": "code",
   "execution_count": 32,
   "metadata": {},
   "outputs": [],
   "source": [
    "Ncut = 5;\n",
    "cutList = {};\n",
    "\n",
    "max_glitch = 0.0014;\n",
    "min_glitch = 0.0024;\n",
    "cutList[\"glitch\"] = np.linspace(min_glitch, max_glitch, Ncut);\n",
    "\n",
    "max_bkg = 0.0016;\n",
    "min_bkg = 0.0026;\n",
    "cutList[\"noise\"] = np.linspace(min_bkg, max_bkg, Ncut);\n",
    "\n",
    "max_bbh = 0.0014;\n",
    "min_bbh = 0.0024;\n",
    "cutList[\"bbh\"] = np.linspace(min_bbh, max_bbh, Ncut);\n",
    "\n",
    "max_sg = 0.0008;\n",
    "min_sg = 0.0032;\n",
    "cutList[\"sg\"] = np.linspace(min_sg, max_sg, Ncut);\n",
    "\n",
    "torch.save(cutList, \"../Data_cached/SequentialTraining/WSL/cut_\"+version+\".json\")"
   ]
  },
  {
   "cell_type": "code",
   "execution_count": 33,
   "metadata": {},
   "outputs": [],
   "source": [
    "# models = {};\n",
    "# models[\"glitch\"] = torch.load(\"../Model_cached/4ae_3.pt\")\n",
    "# models[\"glitch\"].cpu().eval()"
   ]
  },
  {
   "cell_type": "code",
   "execution_count": 34,
   "metadata": {},
   "outputs": [
    {
     "data": {
      "text/plain": [
       "AutoEncoder(\n",
       "  (encoder): Sequential(\n",
       "    (0): Linear(in_features=202, out_features=20, bias=True)\n",
       "    (1): ReLU()\n",
       "  )\n",
       "  (decoder): Sequential(\n",
       "    (0): Linear(in_features=20, out_features=202, bias=True)\n",
       "    (1): Sigmoid()\n",
       "  )\n",
       ")"
      ]
     },
     "execution_count": 34,
     "metadata": {},
     "output_type": "execute_result"
    }
   ],
   "source": [
    "models = {};\n",
    "models[\"glitch\"] = torch.load(\"../Model_cached/2_det_oneglitchonenoise_trained.pt\")\n",
    "models[\"glitch\"].cpu().eval()"
   ]
  },
  {
   "cell_type": "code",
   "execution_count": 35,
   "metadata": {},
   "outputs": [],
   "source": [
    "def trainAE(dataset, cutID):\n",
    "    \n",
    "    nTotal = len(dataset);\n",
    "    nTrain = int(rTrain * nTotal)\n",
    "    nTest = int(rTest * nTotal)\n",
    "\n",
    "    X_train = dataset[:nTrain]\n",
    "    X_test = dataset[-nTest:]\n",
    "    X_validation = dataset[nTrain:-nTest]\n",
    "\n",
    "    trainData = torch.FloatTensor(X_train)\n",
    "    testData = torch.FloatTensor(X_test)\n",
    "    validationData = torch.FloatTensor(X_validation)\n",
    "\n",
    "    train_dataset = TensorDataset(trainData)\n",
    "    test_dataset = TensorDataset(testData)\n",
    "    validation_dataset = TensorDataset(validationData)\n",
    "\n",
    "    trainDataLoader = DataLoader(dataset=train_dataset, batch_size=batch_size, shuffle=True)\n",
    "    validationDataLoader = DataLoader(dataset=validation_dataset, batch_size=batch_size, shuffle = True)\n",
    "\n",
    "    autoencoder = AutoEncoder().cuda()\n",
    "    optimizer = optim.Adam(autoencoder.parameters(), lr=0.00005)\n",
    "    loss_func = nn.MSELoss().cuda()\n",
    "    \n",
    "    loss_train = np.empty(epochs)\n",
    "    loss_validation = np.empty(epochs)\n",
    "\n",
    "    for epoch in range(epochs):\n",
    "\n",
    "        autoencoder.train()\n",
    "        for batchidx, x in enumerate(trainDataLoader):\n",
    "            x = x[0].cuda()\n",
    "            encoded, decoded = autoencoder(x)\n",
    "            loss_overall = loss_func(decoded, x)\n",
    "            weighted_lossTrain = loss_overall\n",
    "\n",
    "            optimizer.zero_grad()\n",
    "            weighted_lossTrain.backward()\n",
    "            optimizer.step()\n",
    "            \n",
    "        autoencoder.eval()\n",
    "        with torch.no_grad():\n",
    "            val_loss = 0\n",
    "            for batchidx, x in enumerate(validationDataLoader):\n",
    "                x = x[0].cuda()\n",
    "                encoded, decoded = autoencoder(x)\n",
    "                lossVal = loss_func(decoded, x)\n",
    "                val_loss += lossVal.item()\n",
    "\n",
    "            val_loss /= len(validationDataLoader)\n",
    "\n",
    "        loss_train[epoch] = weighted_lossTrain.item()\n",
    "        loss_validation[epoch] = val_loss\n",
    "    \n",
    "    autoencoder.cpu().eval()\n",
    "    _, ax = plt.subplots(1, 2, figsize=(14, 5))\n",
    "    ax[0].plot(loss_train)\n",
    "    ax[0].plot(loss_validation)\n",
    "    \n",
    "    dcd_train = autoencoder(torch.FloatTensor(X_train))[1].detach().numpy()\n",
    "    err_train = np.var(X_train-dcd_train, axis=1)\n",
    "    dcd_test = autoencoder(torch.FloatTensor(X_test))[1].detach().numpy()\n",
    "    err_test = np.var(X_test-dcd_test, axis=1)\n",
    "    foo = ax[1].hist(err_train, range=(0, max(err_train)), bins=50, density=True, histtype=\"step\")\n",
    "    foo = ax[1].hist(err_test, range=(0, max(err_train)), bins=50, density=True, histtype=\"step\")\n",
    "    \n",
    "    plt.savefig(\"../Pic_cached/SequentialTraining/WSL/training_AE_\"+cutID+\"_1.jpg\")\n",
    "    plt.close()\n",
    "            \n",
    "    return autoencoder.cpu().eval()"
   ]
  },
  {
   "cell_type": "code",
   "execution_count": 36,
   "metadata": {},
   "outputs": [],
   "source": [
    "def trainWSC(dataset0, dataset1, cutID):\n",
    "# dataset0: bkg set from AE\n",
    "# dataset1: identified signal from AE\n",
    "    \n",
    "    nTotal0, nTotal1 = len(dataset0), len(dataset1);\n",
    "    nTrain0, nTrain1 = int(rTrain * nTotal0), int(rTrain * nTotal1)\n",
    "    nTest0 , nTest1  = int(rTest * nTotal0) , int(rTest * nTotal1)\n",
    "\n",
    "    X_train = np.concatenate((dataset0[:nTrain0], dataset1[:nTrain1]))\n",
    "    X_test = np.concatenate((dataset0[-nTest0:], dataset1[-nTest1:]))\n",
    "    X_validation = np.concatenate((dataset0[nTrain0:-nTest0], dataset1[nTrain1:-nTest1]))\n",
    "    \n",
    "    Y_train = np.concatenate((np.zeros((nTrain0, 1)), np.ones((nTrain1, 1))))\n",
    "    Y_test = np.concatenate((np.zeros((nTest0, 1)), np.ones((nTest1, 1))))\n",
    "    Y_validation = np.concatenate((np.zeros((dataset0[nTrain0:-nTest0].shape[0], 1)), np.ones((dataset1[nTrain1:-nTest1].shape[0], 1))))\n",
    "\n",
    "#     trainData = torch.FloatTensor(X_train)\n",
    "#     testData = torch.FloatTensor(X_test)\n",
    "#     validationData = torch.FloatTensor(X_validation)\n",
    "\n",
    "    train_dataset = TensorDataset(torch.FloatTensor(X_train), torch.FloatTensor(Y_train))\n",
    "    validation_dataset = TensorDataset(torch.FloatTensor(X_validation), torch.FloatTensor(Y_validation))\n",
    "#     train_dataset = TensorDataset(torch.FloatTensor(X_train.reshape((X_train.shape[0], 1, X_train.shape[1]))), torch.FloatTensor(Y_train.reshape((Y_train.shape[0], 1, Y_train.shape[1]))))\n",
    "#     validation_dataset = TensorDataset(torch.FloatTensor(X_validation.reshape((X_validation.shape[0], 1, X_validation.shape[1]))), torch.FloatTensor(Y_validation.reshape((Y_validation.shape[0], 1, Y_validation.shape[1]))))\n",
    "\n",
    "    trainDataLoader = DataLoader(dataset=train_dataset, batch_size=batch_size, shuffle=True, drop_last=True)\n",
    "    validationDataLoader = DataLoader(dataset=validation_dataset, batch_size=batch_size, shuffle = True, drop_last=True)\n",
    "\n",
    "    wsc = WSClassifier().cuda()\n",
    "    optimizer = optim.Adam(wsc.parameters(), lr=0.00005)\n",
    "    loss_func = nn.BCEWithLogitsLoss(pos_weight=torch.FloatTensor([nTrain0/nTrain1])).cuda()\n",
    "    \n",
    "    loss_train = np.empty(epochs)\n",
    "    loss_validation = np.empty(epochs)\n",
    "\n",
    "    for epoch in range(epochs):\n",
    "#         t0 = time.time()\n",
    "        wsc.train()\n",
    "        for batchidx, (x, y) in enumerate(trainDataLoader):\n",
    "            x = x.cuda()\n",
    "            y = y.cuda()\n",
    "            yprime = wsc(x)\n",
    "            loss = loss_func(yprime, y)\n",
    "\n",
    "            optimizer.zero_grad()\n",
    "            loss.backward()\n",
    "            optimizer.step()\n",
    "            \n",
    "        wsc.eval()\n",
    "        with torch.no_grad():\n",
    "            val_loss = 0\n",
    "            for batchidx, (x, y) in enumerate(validationDataLoader):\n",
    "                x = x.cuda()\n",
    "                y = y.cuda()\n",
    "                yprime = wsc(x)\n",
    "                lossVal = loss_func(yprime, y)\n",
    "                val_loss += lossVal.item()\n",
    "\n",
    "            val_loss /= len(validationDataLoader)\n",
    "\n",
    "        loss_train[epoch] = loss.item()\n",
    "        loss_validation[epoch] = val_loss\n",
    "#         print(time.time() - t0)\n",
    "        \n",
    "    wsc.cpu().eval()\n",
    "    \n",
    "    _, ax = plt.subplots(1, 2, figsize=(14, 5))\n",
    "    ax[0].plot(loss_train)\n",
    "    ax[0].plot(loss_validation)\n",
    "    foo = ax[1].hist(nn.Sigmoid()(wsc(torch.FloatTensor(X_train))).detach().numpy().flatten(), range=(0, 1), bins=20, density=True, histtype=\"step\")\n",
    "    foo = ax[1].hist(nn.Sigmoid()(wsc(torch.FloatTensor(X_test ))).detach().numpy().flatten(), range=(0, 1), bins=20, density=True, histtype=\"step\")\n",
    "    \n",
    "    plt.savefig(\"../Pic_cached/SequentialTraining/WSL/training_WSC_\"+cutID+\"_1.jpg\")\n",
    "    plt.close()\n",
    "    \n",
    "    return wsc.cpu().eval()"
   ]
  },
  {
   "cell_type": "code",
   "execution_count": 37,
   "metadata": {},
   "outputs": [
    {
     "ename": "NameError",
     "evalue": "name 'dataset0' is not defined",
     "output_type": "error",
     "traceback": [
      "\u001b[1;31m---------------------------------------------------------------------------\u001b[0m",
      "\u001b[1;31mNameError\u001b[0m                                 Traceback (most recent call last)",
      "Cell \u001b[1;32mIn[37], line 1\u001b[0m\n\u001b[1;32m----> 1\u001b[0m model1 \u001b[38;5;241m=\u001b[39m trainWSC(\u001b[43mdataset0\u001b[49m, dataset1, \u001b[38;5;124m\"\u001b[39m\u001b[38;5;124mtest\u001b[39m\u001b[38;5;124m\"\u001b[39m)\u001b[38;5;241m.\u001b[39mcpu()\u001b[38;5;241m.\u001b[39meval();\n",
      "\u001b[1;31mNameError\u001b[0m: name 'dataset0' is not defined"
     ]
    }
   ],
   "source": [
    "model1 = trainWSC(dataset0, dataset1, \"test\").cpu().eval();"
   ]
  },
  {
   "cell_type": "code",
   "execution_count": 38,
   "metadata": {},
   "outputs": [],
   "source": [
    "import itertools"
   ]
  },
  {
   "cell_type": "code",
   "execution_count": 69,
   "metadata": {
    "scrolled": false
   },
   "outputs": [
    {
     "name": "stdout",
     "output_type": "stream",
     "text": [
      "dict_keys(['glitch', 'glitch_WSC', 'noise', 'noise_WSC', 'bbh', 'bbh_WSC', 'sg'])\n",
      "84\n",
      "887.0087673664093\n",
      "dict_keys(['glitch', 'glitch_WSC', 'noise', 'noise_WSC', 'bbh', 'bbh_WSC', 'sg'])\n",
      "85\n",
      "918.9777042865753\n"
     ]
    }
   ],
   "source": [
    "cnt = 0;\n",
    "\n",
    "ic = np.zeros(4, dtype=\"int\")\n",
    "\n",
    "# loop for only the cut in glitch, noise and bbh as it's not really meaningful to set cut in sg w/o new signals\n",
    "ic[3] = Ncut-1;\n",
    "\n",
    "# listResult = {};\n",
    "# listResult[\"cut\"] = np.empty((Ncut**(len(list_datatype)-1), len(list_datatype)), dtype=\"int\");\n",
    "# listResult[\"ans\"] = np.empty((Ncut**(len(list_datatype)-1), len(testset)), dtype=\"int\");\n",
    "# listResult[\"accuracy_4\"] = np.empty((Ncut**(len(list_datatype)-1), len(list_datatype)))\n",
    "# listResult[\"accuracy_2\"] = np.empty((Ncut**(len(list_datatype)-1), 2))\n",
    "\n",
    "for ic[0], ic[1], ic[2] in itertools.product(np.arange(Ncut), np.arange(Ncut), np.arange(Ncut)):\n",
    "# for ic[0], ic[1], ic[2], ic[3] in itertools.product(np.arange(Ncut), np.arange(Ncut), np.arange(Ncut), np.arange(Ncut)):\n",
    "    cnt += 1;\n",
    "    \n",
    "    if cnt < 84:\n",
    "        continue\n",
    "    elif cnt > 85:\n",
    "        continue\n",
    "    \n",
    "    t0 = time.time()\n",
    "    data_filtered = {};\n",
    "    for dt in sequence:\n",
    "        data_filtered[dt] = dataset_ae_fft[dt]\n",
    "#     data_filtered[\"noise\"] = bkg_fft;\n",
    "#     data_filtered[\"bbh\"] = bbh_fft;\n",
    "#     data_filtered[\"sg\"] = sg_fft;\n",
    "\n",
    "    dataset_wsl_filtered = dataset_wsl_fft_collected\n",
    "    \n",
    "    cutID = \"\".join(str(ic[j]) for j in range(3)) + \"_\"+version\n",
    "        \n",
    "    for iPrev in range(3):\n",
    "        previousStep = ind2datatype[iPrev];\n",
    "        modelPrev = models[previousStep]; # previous step AE\n",
    "        \n",
    "        # train the WSC according to previous AE's cut\n",
    "        \n",
    "        dataset0 = data_filtered[previousStep] # here they haven't been updated yet\n",
    "        \n",
    "        dcd = modelPrev(torch.FloatTensor(dataset0))[1].detach().numpy();\n",
    "        dataset1 = dataset0[np.var(dataset0-dcd, axis=1) >= cutList[previousStep][ic[iPrev]]]\n",
    "        \n",
    "        dcd = modelPrev(torch.FloatTensor(dataset_wsl_filtered))[1].detach().numpy();\n",
    "        dataset1 = dataset_wsl_filtered[np.var(dataset_wsl_filtered-dcd, axis=1) >= cutList[previousStep][ic[iPrev]]]\n",
    "        \n",
    "        model = trainWSC(dataset0, dataset1, cutID)\n",
    "        models[previousStep+\"_WSC\"] = model;\n",
    "        \n",
    "        # filter the data according to previous WSC\n",
    "        for j in range(iPrev, 4):\n",
    "            dt = ind2datatype[j];\n",
    "            dcd = nn.Sigmoid()(model(torch.FloatTensor(data_filtered[dt]))).detach().numpy().flatten();\n",
    "            data_filtered[dt] = data_filtered[dt][dcd>0.5]\n",
    "        \n",
    "#         # filter the data\n",
    "#         for j in range(iPrev+1, 4):\n",
    "#             dt = ind2datatype[j];\n",
    "#             dcd = modelPrev(torch.FloatTensor(data_filtered[dt]))[1].detach().numpy()\n",
    "#             data_filtered[dt] = data_filtered[dt][np.var(data_filtered[dt]-dcd, axis=1) >= cutList[previousStep][ic[iPrev]]]            \n",
    "        \n",
    "        # train the current step AE\n",
    "        currentStep = ind2datatype[iPrev+1];\n",
    "        model = trainAE(data_filtered[currentStep], cutID);\n",
    "        models[currentStep] = model;\n",
    "        \n",
    "    torch.save(models, \"../Data_cached/SequentialTraining/WSL/trained_model\" + \"\".join(str(ic[j]) for j in range(3)) + \"_\"+version+\".json\")\n",
    "    print(models.keys())\n",
    "    \n",
    "#     dcd = {};\n",
    "#     err = {};\n",
    "#     ans = np.zeros(len(testset), dtype=\"int\")\n",
    "    \n",
    "#     for datatype in list_datatype:\n",
    "#         dcd[datatype] = models[datatype](torch.FloatTensor(testset))[1].detach().numpy()\n",
    "#         err[datatype] = np.var(testset-dcd[datatype], axis=1)\n",
    "        \n",
    "#     not_select = np.array([True]*len(testset));\n",
    "\n",
    "#     for iStep in range(len(list_datatype)):\n",
    "#         datatype = ind2datatype[iStep];\n",
    "#         ind_pass = np.logical_and(not_select, err[datatype] <= cutList[datatype][ic[iStep]]);\n",
    "#         ans[ind_pass] = iStep;\n",
    "#         not_select[ind_pass] = False;\n",
    "        \n",
    "#     ans[not_select] = -1;\n",
    "    \n",
    "#     listResult[\"cut\"][cnt] = ic;\n",
    "#     listResult[\"ans\"][cnt] = ans;\n",
    "    \n",
    "#     acc = np.zeros(len(ind2datatype));\n",
    "    \n",
    "#     for i in range(len(ind2datatype)):\n",
    "#         acc[i] = np.sum(np.logical_and(ans==i, correct_ans==i))/Nsample[ind2datatype[i]];\n",
    "        \n",
    "#     listResult[\"accuracy_4\"][cnt] = acc;\n",
    "    \n",
    "#     listResult[\"accuracy_2\"][cnt] = [ np.sum(acc[datatype2ind[dtype]]*Nsample[dtype] for dtype in [\"glitch\", \"noise\"])/np.sum(Nsample[dtype] for dtype in [\"glitch\", \"noise\"]), \n",
    "#                                      np.sum(acc[datatype2ind[dtype]]*Nsample[dtype] for dtype in [\"bbh\", \"sg\"])/np.sum(Nsample[dtype] for dtype in [\"bbh\", \"sg\"])]\n",
    "    \n",
    "    \n",
    "    print(cnt)\n",
    "    print(time.time() - t0)\n",
    "    \n",
    "# listResult[\"total_accuracy\"] = np.sum(listResult[\"ans\"]==correct_ans, axis=1)/len(testset);\n",
    "# torch.save(listResult, \"../data/SequentialTraining/training_performance_\"+version+\".json\")"
   ]
  },
  {
   "cell_type": "code",
   "execution_count": 175,
   "metadata": {},
   "outputs": [],
   "source": [
    "testset = dataset_wsl_fft_collected"
   ]
  },
  {
   "cell_type": "code",
   "execution_count": 176,
   "metadata": {},
   "outputs": [],
   "source": [
    "correct_ans = np.hstack(([0]*N_wsl['glitch'], [1]*N_wsl['noise'], [2]*N_wsl['bbh'], [3]*N_wsl['sg']))"
   ]
  },
  {
   "cell_type": "markdown",
   "metadata": {},
   "source": [
    "Below is only concerning the TPR-FPR analysis"
   ]
  },
  {
   "cell_type": "code",
   "execution_count": 301,
   "metadata": {},
   "outputs": [],
   "source": [
    "testset = dataset_reserved_test_collected"
   ]
  },
  {
   "cell_type": "code",
   "execution_count": 302,
   "metadata": {},
   "outputs": [
    {
     "data": {
      "text/plain": [
       "(20000, 202)"
      ]
     },
     "execution_count": 302,
     "metadata": {},
     "output_type": "execute_result"
    }
   ],
   "source": [
    "testset.shape"
   ]
  },
  {
   "cell_type": "code",
   "execution_count": 303,
   "metadata": {},
   "outputs": [],
   "source": [
    "correct_ans = np.hstack(([0]*N_reserved_test['glitch'], [1]*N_reserved_test['noise'], [2]*N_reserved_test['bbh'], [3]*N_reserved_test['sg']))"
   ]
  },
  {
   "cell_type": "code",
   "execution_count": 304,
   "metadata": {},
   "outputs": [
    {
     "data": {
      "text/plain": [
       "(20000,)"
      ]
     },
     "execution_count": 304,
     "metadata": {},
     "output_type": "execute_result"
    }
   ],
   "source": [
    "correct_ans.shape"
   ]
  },
  {
   "cell_type": "code",
   "execution_count": 76,
   "metadata": {},
   "outputs": [],
   "source": [
    "ic[3] = 0"
   ]
  },
  {
   "cell_type": "code",
   "execution_count": 227,
   "metadata": {},
   "outputs": [
    {
     "name": "stdout",
     "output_type": "stream",
     "text": [
      "For cnt = 0, totally 5702 noise events passed the glitch WSL, and 23 noise events within the threshold for TPR=0.9\n",
      "For cnt = 1, totally 5641 noise events passed the glitch WSL, and 17 noise events within the threshold for TPR=0.9\n",
      "For cnt = 2, totally 5688 noise events passed the glitch WSL, and 23 noise events within the threshold for TPR=0.9\n",
      "For cnt = 3, totally 5719 noise events passed the glitch WSL, and 22 noise events within the threshold for TPR=0.9\n"
     ]
    },
    {
     "name": "stderr",
     "output_type": "stream",
     "text": [
      "C:\\Users\\Liyang Miao\\AppData\\Local\\Temp\\ipykernel_11852\\3317973674.py:111: DeprecationWarning: Calling np.sum(generator) is deprecated, and in the future will give a different result. Use np.sum(np.fromiter(generator)) or the python sum builtin instead.\n",
      "  listResult[\"accuracy_2\"][cnt] = [ np.sum(acc[datatype2ind[dtype]]*N_wsl[dtype] for dtype in [\"glitch\", \"noise\"])/np.sum(N_wsl[dtype] for dtype in [\"glitch\", \"noise\"]),\n",
      "C:\\Users\\Liyang Miao\\AppData\\Local\\Temp\\ipykernel_11852\\3317973674.py:112: DeprecationWarning: Calling np.sum(generator) is deprecated, and in the future will give a different result. Use np.sum(np.fromiter(generator)) or the python sum builtin instead.\n",
      "  np.sum(acc[datatype2ind[dtype]]*N_wsl[dtype] for dtype in [\"bbh\", \"sg\"])/np.sum(N_wsl[dtype] for dtype in [\"bbh\", \"sg\"])]\n"
     ]
    },
    {
     "name": "stdout",
     "output_type": "stream",
     "text": [
      "For cnt = 4, totally 5721 noise events passed the glitch WSL, and 20 noise events within the threshold for TPR=0.9\n",
      "For cnt = 5, totally 5488 noise events passed the glitch WSL, and 46 noise events within the threshold for TPR=0.9\n",
      "For cnt = 6, totally 5471 noise events passed the glitch WSL, and 51 noise events within the threshold for TPR=0.9\n",
      "For cnt = 7, totally 5529 noise events passed the glitch WSL, and 40 noise events within the threshold for TPR=0.9\n",
      "For cnt = 8, totally 5557 noise events passed the glitch WSL, and 44 noise events within the threshold for TPR=0.9\n",
      "For cnt = 9, totally 5694 noise events passed the glitch WSL, and 60 noise events within the threshold for TPR=0.9\n",
      "For cnt = 10, totally 5701 noise events passed the glitch WSL, and 72 noise events within the threshold for TPR=0.9\n",
      "For cnt = 11, totally 5522 noise events passed the glitch WSL, and 99 noise events within the threshold for TPR=0.9\n",
      "For cnt = 12, totally 5696 noise events passed the glitch WSL, and 81 noise events within the threshold for TPR=0.9\n",
      "For cnt = 13, totally 5631 noise events passed the glitch WSL, and 89 noise events within the threshold for TPR=0.9\n",
      "For cnt = 14, totally 5750 noise events passed the glitch WSL, and 102 noise events within the threshold for TPR=0.9\n",
      "For cnt = 15, totally 5636 noise events passed the glitch WSL, and 486 noise events within the threshold for TPR=0.9\n",
      "For cnt = 16, totally 5662 noise events passed the glitch WSL, and 579 noise events within the threshold for TPR=0.9\n",
      "For cnt = 17, totally 5477 noise events passed the glitch WSL, and 1014 noise events within the threshold for TPR=0.9\n",
      "For cnt = 18, totally 5715 noise events passed the glitch WSL, and 606 noise events within the threshold for TPR=0.9\n",
      "For cnt = 19, totally 5513 noise events passed the glitch WSL, and 1031 noise events within the threshold for TPR=0.9\n",
      "For cnt = 20, totally 5672 noise events passed the glitch WSL, and 5262 noise events within the threshold for TPR=0.9\n",
      "For cnt = 21, totally 5578 noise events passed the glitch WSL, and 4768 noise events within the threshold for TPR=0.9\n",
      "For cnt = 22, totally 5786 noise events passed the glitch WSL, and 5218 noise events within the threshold for TPR=0.9\n",
      "For cnt = 23, totally 5550 noise events passed the glitch WSL, and 5400 noise events within the threshold for TPR=0.9\n",
      "For cnt = 24, totally 5653 noise events passed the glitch WSL, and 5390 noise events within the threshold for TPR=0.9\n",
      "For cnt = 25, totally 5890 noise events passed the glitch WSL, and 17 noise events within the threshold for TPR=0.9\n",
      "For cnt = 26, totally 5897 noise events passed the glitch WSL, and 15 noise events within the threshold for TPR=0.9\n",
      "For cnt = 27, totally 5908 noise events passed the glitch WSL, and 17 noise events within the threshold for TPR=0.9\n",
      "For cnt = 28, totally 5901 noise events passed the glitch WSL, and 22 noise events within the threshold for TPR=0.9\n",
      "For cnt = 29, totally 5897 noise events passed the glitch WSL, and 15 noise events within the threshold for TPR=0.9\n",
      "For cnt = 30, totally 5941 noise events passed the glitch WSL, and 39 noise events within the threshold for TPR=0.9\n",
      "For cnt = 31, totally 5869 noise events passed the glitch WSL, and 45 noise events within the threshold for TPR=0.9\n",
      "For cnt = 32, totally 5855 noise events passed the glitch WSL, and 44 noise events within the threshold for TPR=0.9\n",
      "For cnt = 33, totally 5914 noise events passed the glitch WSL, and 42 noise events within the threshold for TPR=0.9\n",
      "For cnt = 34, totally 5899 noise events passed the glitch WSL, and 49 noise events within the threshold for TPR=0.9\n",
      "For cnt = 35, totally 5866 noise events passed the glitch WSL, and 87 noise events within the threshold for TPR=0.9\n",
      "For cnt = 36, totally 5917 noise events passed the glitch WSL, and 91 noise events within the threshold for TPR=0.9\n",
      "For cnt = 37, totally 5900 noise events passed the glitch WSL, and 101 noise events within the threshold for TPR=0.9\n",
      "For cnt = 38, totally 5871 noise events passed the glitch WSL, and 67 noise events within the threshold for TPR=0.9\n",
      "For cnt = 39, totally 5912 noise events passed the glitch WSL, and 104 noise events within the threshold for TPR=0.9\n",
      "For cnt = 40, totally 5911 noise events passed the glitch WSL, and 455 noise events within the threshold for TPR=0.9\n",
      "For cnt = 41, totally 5950 noise events passed the glitch WSL, and 662 noise events within the threshold for TPR=0.9\n",
      "For cnt = 42, totally 5908 noise events passed the glitch WSL, and 251 noise events within the threshold for TPR=0.9\n",
      "For cnt = 43, totally 5896 noise events passed the glitch WSL, and 549 noise events within the threshold for TPR=0.9\n",
      "For cnt = 44, totally 5893 noise events passed the glitch WSL, and 606 noise events within the threshold for TPR=0.9\n",
      "For cnt = 45, totally 5918 noise events passed the glitch WSL, and 3907 noise events within the threshold for TPR=0.9\n",
      "For cnt = 46, totally 5896 noise events passed the glitch WSL, and 3542 noise events within the threshold for TPR=0.9\n",
      "For cnt = 47, totally 5857 noise events passed the glitch WSL, and 4696 noise events within the threshold for TPR=0.9\n",
      "For cnt = 48, totally 5894 noise events passed the glitch WSL, and 5418 noise events within the threshold for TPR=0.9\n",
      "For cnt = 49, totally 5879 noise events passed the glitch WSL, and 3475 noise events within the threshold for TPR=0.9\n",
      "For cnt = 50, totally 5976 noise events passed the glitch WSL, and 11 noise events within the threshold for TPR=0.9\n",
      "For cnt = 51, totally 5979 noise events passed the glitch WSL, and 19 noise events within the threshold for TPR=0.9\n",
      "For cnt = 52, totally 5971 noise events passed the glitch WSL, and 18 noise events within the threshold for TPR=0.9\n",
      "For cnt = 53, totally 5960 noise events passed the glitch WSL, and 19 noise events within the threshold for TPR=0.9\n",
      "For cnt = 54, totally 5979 noise events passed the glitch WSL, and 18 noise events within the threshold for TPR=0.9\n",
      "For cnt = 55, totally 5977 noise events passed the glitch WSL, and 49 noise events within the threshold for TPR=0.9\n",
      "For cnt = 56, totally 5972 noise events passed the glitch WSL, and 51 noise events within the threshold for TPR=0.9\n",
      "For cnt = 57, totally 5972 noise events passed the glitch WSL, and 53 noise events within the threshold for TPR=0.9\n",
      "For cnt = 58, totally 5968 noise events passed the glitch WSL, and 48 noise events within the threshold for TPR=0.9\n",
      "For cnt = 59, totally 5963 noise events passed the glitch WSL, and 55 noise events within the threshold for TPR=0.9\n",
      "For cnt = 60, totally 5978 noise events passed the glitch WSL, and 81 noise events within the threshold for TPR=0.9\n",
      "For cnt = 61, totally 5975 noise events passed the glitch WSL, and 85 noise events within the threshold for TPR=0.9\n",
      "For cnt = 62, totally 5977 noise events passed the glitch WSL, and 78 noise events within the threshold for TPR=0.9\n",
      "For cnt = 63, totally 5976 noise events passed the glitch WSL, and 87 noise events within the threshold for TPR=0.9\n",
      "For cnt = 64, totally 5967 noise events passed the glitch WSL, and 64 noise events within the threshold for TPR=0.9\n",
      "For cnt = 65, totally 5977 noise events passed the glitch WSL, and 361 noise events within the threshold for TPR=0.9\n",
      "For cnt = 66, totally 5976 noise events passed the glitch WSL, and 315 noise events within the threshold for TPR=0.9\n",
      "For cnt = 67, totally 5968 noise events passed the glitch WSL, and 323 noise events within the threshold for TPR=0.9\n",
      "For cnt = 68, totally 5978 noise events passed the glitch WSL, and 271 noise events within the threshold for TPR=0.9\n",
      "For cnt = 69, totally 5974 noise events passed the glitch WSL, and 532 noise events within the threshold for TPR=0.9\n",
      "For cnt = 70, totally 5961 noise events passed the glitch WSL, and 5170 noise events within the threshold for TPR=0.9\n",
      "For cnt = 71, totally 5981 noise events passed the glitch WSL, and 5338 noise events within the threshold for TPR=0.9\n",
      "For cnt = 72, totally 5968 noise events passed the glitch WSL, and 3194 noise events within the threshold for TPR=0.9\n",
      "For cnt = 73, totally 5966 noise events passed the glitch WSL, and 4408 noise events within the threshold for TPR=0.9\n",
      "For cnt = 74, totally 5974 noise events passed the glitch WSL, and 3735 noise events within the threshold for TPR=0.9\n",
      "For cnt = 75, totally 5988 noise events passed the glitch WSL, and 14 noise events within the threshold for TPR=0.9\n",
      "For cnt = 76, totally 5992 noise events passed the glitch WSL, and 22 noise events within the threshold for TPR=0.9\n",
      "For cnt = 77, totally 5991 noise events passed the glitch WSL, and 13 noise events within the threshold for TPR=0.9\n",
      "For cnt = 78, totally 5977 noise events passed the glitch WSL, and 14 noise events within the threshold for TPR=0.9\n",
      "For cnt = 79, totally 5984 noise events passed the glitch WSL, and 17 noise events within the threshold for TPR=0.9\n",
      "For cnt = 80, totally 5987 noise events passed the glitch WSL, and 46 noise events within the threshold for TPR=0.9\n",
      "For cnt = 81, totally 5992 noise events passed the glitch WSL, and 38 noise events within the threshold for TPR=0.9\n",
      "For cnt = 82, totally 5989 noise events passed the glitch WSL, and 38 noise events within the threshold for TPR=0.9\n",
      "For cnt = 83, totally 5984 noise events passed the glitch WSL, and 50 noise events within the threshold for TPR=0.9\n",
      "For cnt = 84, totally 5991 noise events passed the glitch WSL, and 44 noise events within the threshold for TPR=0.9\n",
      "For cnt = 85, totally 5988 noise events passed the glitch WSL, and 84 noise events within the threshold for TPR=0.9\n",
      "For cnt = 86, totally 5987 noise events passed the glitch WSL, and 67 noise events within the threshold for TPR=0.9\n",
      "For cnt = 87, totally 5991 noise events passed the glitch WSL, and 78 noise events within the threshold for TPR=0.9\n",
      "For cnt = 88, totally 5988 noise events passed the glitch WSL, and 96 noise events within the threshold for TPR=0.9\n",
      "For cnt = 89, totally 5986 noise events passed the glitch WSL, and 68 noise events within the threshold for TPR=0.9\n",
      "For cnt = 90, totally 5987 noise events passed the glitch WSL, and 270 noise events within the threshold for TPR=0.9\n",
      "For cnt = 91, totally 5980 noise events passed the glitch WSL, and 299 noise events within the threshold for TPR=0.9\n",
      "For cnt = 92, totally 5990 noise events passed the glitch WSL, and 390 noise events within the threshold for TPR=0.9\n",
      "For cnt = 93, totally 5992 noise events passed the glitch WSL, and 528 noise events within the threshold for TPR=0.9\n",
      "For cnt = 94, totally 5989 noise events passed the glitch WSL, and 332 noise events within the threshold for TPR=0.9\n",
      "For cnt = 95, totally 5990 noise events passed the glitch WSL, and 4154 noise events within the threshold for TPR=0.9\n",
      "For cnt = 96, totally 5989 noise events passed the glitch WSL, and 3700 noise events within the threshold for TPR=0.9\n",
      "For cnt = 97, totally 5987 noise events passed the glitch WSL, and 4031 noise events within the threshold for TPR=0.9\n",
      "For cnt = 98, totally 5983 noise events passed the glitch WSL, and 3779 noise events within the threshold for TPR=0.9\n",
      "For cnt = 99, totally 5987 noise events passed the glitch WSL, and 5781 noise events within the threshold for TPR=0.9\n",
      "For cnt = 100, totally 5991 noise events passed the glitch WSL, and 18 noise events within the threshold for TPR=0.9\n",
      "For cnt = 101, totally 5982 noise events passed the glitch WSL, and 16 noise events within the threshold for TPR=0.9\n",
      "For cnt = 102, totally 5986 noise events passed the glitch WSL, and 26 noise events within the threshold for TPR=0.9\n",
      "For cnt = 103, totally 5993 noise events passed the glitch WSL, and 22 noise events within the threshold for TPR=0.9\n",
      "For cnt = 104, totally 5990 noise events passed the glitch WSL, and 20 noise events within the threshold for TPR=0.9\n",
      "For cnt = 105, totally 5986 noise events passed the glitch WSL, and 37 noise events within the threshold for TPR=0.9\n",
      "For cnt = 106, totally 5993 noise events passed the glitch WSL, and 36 noise events within the threshold for TPR=0.9\n",
      "For cnt = 107, totally 5985 noise events passed the glitch WSL, and 32 noise events within the threshold for TPR=0.9\n",
      "For cnt = 108, totally 5992 noise events passed the glitch WSL, and 43 noise events within the threshold for TPR=0.9\n",
      "For cnt = 109, totally 5988 noise events passed the glitch WSL, and 40 noise events within the threshold for TPR=0.9\n",
      "For cnt = 110, totally 5992 noise events passed the glitch WSL, and 115 noise events within the threshold for TPR=0.9\n",
      "For cnt = 111, totally 5988 noise events passed the glitch WSL, and 92 noise events within the threshold for TPR=0.9\n",
      "For cnt = 112, totally 5990 noise events passed the glitch WSL, and 91 noise events within the threshold for TPR=0.9\n",
      "For cnt = 113, totally 5984 noise events passed the glitch WSL, and 78 noise events within the threshold for TPR=0.9\n",
      "For cnt = 114, totally 5982 noise events passed the glitch WSL, and 87 noise events within the threshold for TPR=0.9\n",
      "For cnt = 115, totally 5987 noise events passed the glitch WSL, and 364 noise events within the threshold for TPR=0.9\n",
      "For cnt = 116, totally 5988 noise events passed the glitch WSL, and 399 noise events within the threshold for TPR=0.9\n",
      "For cnt = 117, totally 5978 noise events passed the glitch WSL, and 588 noise events within the threshold for TPR=0.9\n",
      "For cnt = 118, totally 5989 noise events passed the glitch WSL, and 380 noise events within the threshold for TPR=0.9\n",
      "For cnt = 119, totally 5988 noise events passed the glitch WSL, and 637 noise events within the threshold for TPR=0.9\n",
      "For cnt = 120, totally 5990 noise events passed the glitch WSL, and 4074 noise events within the threshold for TPR=0.9\n",
      "For cnt = 121, totally 5988 noise events passed the glitch WSL, and 2665 noise events within the threshold for TPR=0.9\n",
      "For cnt = 122, totally 5987 noise events passed the glitch WSL, and 3231 noise events within the threshold for TPR=0.9\n",
      "For cnt = 123, totally 5986 noise events passed the glitch WSL, and 5074 noise events within the threshold for TPR=0.9\n",
      "For cnt = 124, totally 5995 noise events passed the glitch WSL, and 3542 noise events within the threshold for TPR=0.9\n"
     ]
    }
   ],
   "source": [
    "listResult = {};\n",
    "listResult[\"cut\"] = np.empty((Ncut**(len(list_datatype)-1), len(list_datatype)), dtype=\"int\");\n",
    "listResult[\"ans\"] = np.empty((Ncut**(len(list_datatype)-1), len(testset)), dtype=\"int\");\n",
    "listResult[\"accuracy_4\"] = np.empty((Ncut**(len(list_datatype)-1), len(list_datatype)))\n",
    "listResult[\"accuracy_2\"] = np.empty((Ncut**(len(list_datatype)-1), 2))\n",
    "listResult['FPR'] = np.empty((Ncut**(len(list_datatype)-1), 1))\n",
    "listResult['total_accuracy'] = np.empty((Ncut**(len(list_datatype)-1), 1))\n",
    "cnt = 0\n",
    "\n",
    "\n",
    "for ic[0], ic[1], ic[2] in itertools.product(np.arange(Ncut), np.arange(Ncut), np.arange(Ncut)):\n",
    "\n",
    "    \n",
    "    # if cnt < 86:\n",
    "    #     continue\n",
    "    \n",
    "    t0 = time.time()\n",
    "    data_filtered = {};\n",
    "    for dt in sequence:\n",
    "        data_filtered[dt] = dataset_ae_fft[dt]\n",
    "#     data_filtered[\"noise\"] = bkg_fft;\n",
    "#     data_filtered[\"bbh\"] = bbh_fft;\n",
    "#     data_filtered[\"sg\"] = sg_fft;\n",
    "\n",
    "    dataset_wsl_filtered = dataset_wsl_fft_collected\n",
    "    \n",
    "    cutID = \"\".join(str(ic[j]) for j in range(3)) + \"_\"+version\n",
    "        \n",
    "#     for iPrev in range(3):\n",
    "#         previousStep = ind2datatype[iPrev];\n",
    "#         modelPrev = models[previousStep]; # previous step AE\n",
    "        \n",
    "#         # train the WSC according to previous AE's cut\n",
    "        \n",
    "#         dataset0 = data_filtered[previousStep] # here they haven't been updated yet\n",
    "        \n",
    "#         dcd = modelPrev(torch.FloatTensor(dataset0))[1].detach().numpy();\n",
    "#         dataset1 = dataset0[np.var(dataset0-dcd, axis=1) >= cutList[previousStep][ic[iPrev]]]\n",
    "        \n",
    "#         dcd = modelPrev(torch.FloatTensor(dataset_wsl_filtered))[1].detach().numpy();\n",
    "#         dataset1 = dataset_wsl_filtered[np.var(dataset_wsl_filtered-dcd, axis=1) >= cutList[previousStep][ic[iPrev]]]\n",
    "        \n",
    "#         model = trainWSC(dataset0, dataset1, cutID)\n",
    "#         models[previousStep+\"_WSC\"] = model;\n",
    "        \n",
    "#         # filter the data according to previous WSC\n",
    "#         for j in range(iPrev, 4):\n",
    "#             dt = ind2datatype[j];\n",
    "#             dcd = nn.Sigmoid()(model(torch.FloatTensor(data_filtered[dt]))).detach().numpy().flatten();\n",
    "#             data_filtered[dt] = data_filtered[dt][dcd>0.5]\n",
    "        \n",
    "# #         # filter the data\n",
    "# #         for j in range(iPrev+1, 4):\n",
    "# #             dt = ind2datatype[j];\n",
    "# #             dcd = modelPrev(torch.FloatTensor(data_filtered[dt]))[1].detach().numpy()\n",
    "# #             data_filtered[dt] = data_filtered[dt][np.var(data_filtered[dt]-dcd, axis=1) >= cutList[previousStep][ic[iPrev]]]            \n",
    "        \n",
    "#         # train the current step AE\n",
    "#         currentStep = ind2datatype[iPrev+1];\n",
    "#         model = trainAE(data_filtered[currentStep], cutID);\n",
    "#         models[currentStep] = model;\n",
    "        \n",
    "#     torch.save(models, \"../Data_cached/SequentialTraining/WSL/trained_model\" + \"\".join(str(ic[j]) for j in range(3)) + \"_\"+version+\".json\")\n",
    "#     print(models.keys())\n",
    "    \n",
    "    models = torch.load(\"../Data_cached/SequentialTraining/WSL/trained_model\" + \"\".join(str(ic[j]) for j in range(3)) + \"_\"+version+\".json\")\n",
    "    \n",
    "    dcd = {};\n",
    "    err = {};\n",
    "    ans = np.zeros(len(testset), dtype=\"int\")\n",
    "    \n",
    "    for datatype in list_datatype:\n",
    "        if datatype == 'sg':\n",
    "            dcd[datatype] = models[datatype](torch.FloatTensor(testset))[1].detach().numpy()\n",
    "            err[datatype] = np.var(testset-dcd[datatype], axis=1)\n",
    "        else:\n",
    "            dcd[datatype] = nn.Sigmoid()(models[datatype + \"_WSC\"](torch.FloatTensor(testset))).detach().numpy().reshape(-1)\n",
    "        \n",
    "    not_select = np.array([True]*len(testset));\n",
    "\n",
    "    for iStep in range(len(list_datatype)):\n",
    "        datatype = ind2datatype[iStep];\n",
    "        if datatype == 'sg':\n",
    "            ind_pass = np.logical_and(not_select, err[datatype] <= cutList[datatype][ic[iStep]]);\n",
    "        else:\n",
    "            ind_pass = np.logical_and(not_select, dcd[datatype] <= 0.5);\n",
    "            \n",
    "        if datatype == 'noise':\n",
    "            ind_pass_fprcalc = np.logical_and(not_select, dcd[datatype] <= np.sort(dcd[datatype][-N_wsl['bbh']-N_wsl['sg']:])[int(0.1 * (N_wsl['bbh']+N_wsl['sg']))])\n",
    "            # ind_pass = np.logical_and(not_select, err[datatype] <= np.sort(err[datatype][-N_wsl['bbh']-N_wsl['sg']:])[int(0.1 * (N_wsl['bbh']+N_wsl['sg']))])\n",
    "            noise_number = np.sum(np.logical_and(not_select, correct_ans == 1))\n",
    "            passed_noise_number = noise_number - np.sum(np.logical_and(ind_pass_fprcalc, correct_ans == 1))\n",
    "            listResult['FPR'][cnt] = passed_noise_number / noise_number\n",
    "            print('For cnt = {}, totally {} noise events passed the glitch WSL, and {} noise events within the threshold for TPR=0.9'.format(cnt, noise_number, passed_noise_number))\n",
    "        \n",
    "        ans[ind_pass] = iStep;\n",
    "        not_select[ind_pass] = False;\n",
    "        \n",
    "    ans[not_select] = -1;\n",
    "\n",
    "    listResult[\"cut\"][cnt] = ic;\n",
    "    listResult[\"ans\"][cnt] = ans;\n",
    "\n",
    "    acc = np.zeros(len(ind2datatype));\n",
    "\n",
    "    for i in range(len(ind2datatype)):\n",
    "        acc[i] = np.sum(np.logical_and(ans==i, correct_ans==i))/N_wsl[ind2datatype[i]];\n",
    "        \n",
    "    listResult[\"accuracy_4\"][cnt] = acc;\n",
    "\n",
    "    listResult[\"accuracy_2\"][cnt] = [ np.sum(acc[datatype2ind[dtype]]*N_wsl[dtype] for dtype in [\"glitch\", \"noise\"])/np.sum(N_wsl[dtype] for dtype in [\"glitch\", \"noise\"]), \n",
    "                                        np.sum(acc[datatype2ind[dtype]]*N_wsl[dtype] for dtype in [\"bbh\", \"sg\"])/np.sum(N_wsl[dtype] for dtype in [\"bbh\", \"sg\"])]\n",
    "\n",
    "    cnt += 1;"
   ]
  },
  {
   "cell_type": "code",
   "execution_count": 228,
   "metadata": {},
   "outputs": [
    {
     "data": {
      "text/plain": [
       "(20000, 202)"
      ]
     },
     "execution_count": 228,
     "metadata": {},
     "output_type": "execute_result"
    }
   ],
   "source": [
    "testset.shape"
   ]
  },
  {
   "cell_type": "markdown",
   "metadata": {},
   "source": [
    "# Roburtness check"
   ]
  },
  {
   "cell_type": "code",
   "execution_count": 305,
   "metadata": {},
   "outputs": [
    {
     "name": "stdout",
     "output_type": "stream",
     "text": [
      "For cnt = 0, totally 2865 noise events passed the glitch WSL, and 16 noise events within the threshold for TPR=0.9\n",
      "For cnt = 1, totally 2827 noise events passed the glitch WSL, and 7 noise events within the threshold for TPR=0.9\n",
      "For cnt = 2, totally 2847 noise events passed the glitch WSL, and 9 noise events within the threshold for TPR=0.9\n",
      "For cnt = 3, totally 2861 noise events passed the glitch WSL, and 10 noise events within the threshold for TPR=0.9\n"
     ]
    },
    {
     "name": "stderr",
     "output_type": "stream",
     "text": [
      "C:\\Users\\Liyang Miao\\AppData\\Local\\Temp\\ipykernel_11852\\533476536.py:111: DeprecationWarning: Calling np.sum(generator) is deprecated, and in the future will give a different result. Use np.sum(np.fromiter(generator)) or the python sum builtin instead.\n",
      "  listResult[\"accuracy_2\"][cnt] = [ np.sum(acc[datatype2ind[dtype]]*N_reserved_test[dtype] for dtype in [\"glitch\", \"noise\"])/np.sum(N_reserved_test[dtype] for dtype in [\"glitch\", \"noise\"]),\n",
      "C:\\Users\\Liyang Miao\\AppData\\Local\\Temp\\ipykernel_11852\\533476536.py:112: DeprecationWarning: Calling np.sum(generator) is deprecated, and in the future will give a different result. Use np.sum(np.fromiter(generator)) or the python sum builtin instead.\n",
      "  np.sum(acc[datatype2ind[dtype]]*N_reserved_test[dtype] for dtype in [\"bbh\", \"sg\"])/np.sum(N_reserved_test[dtype] for dtype in [\"bbh\", \"sg\"])]\n"
     ]
    },
    {
     "name": "stdout",
     "output_type": "stream",
     "text": [
      "For cnt = 4, totally 2868 noise events passed the glitch WSL, and 7 noise events within the threshold for TPR=0.9\n",
      "For cnt = 5, totally 2745 noise events passed the glitch WSL, and 31 noise events within the threshold for TPR=0.9\n",
      "For cnt = 6, totally 2729 noise events passed the glitch WSL, and 25 noise events within the threshold for TPR=0.9\n",
      "For cnt = 7, totally 2753 noise events passed the glitch WSL, and 25 noise events within the threshold for TPR=0.9\n",
      "For cnt = 8, totally 2783 noise events passed the glitch WSL, and 38 noise events within the threshold for TPR=0.9\n",
      "For cnt = 9, totally 2846 noise events passed the glitch WSL, and 38 noise events within the threshold for TPR=0.9\n",
      "For cnt = 10, totally 2861 noise events passed the glitch WSL, and 63 noise events within the threshold for TPR=0.9\n",
      "For cnt = 11, totally 2763 noise events passed the glitch WSL, and 81 noise events within the threshold for TPR=0.9\n",
      "For cnt = 12, totally 2841 noise events passed the glitch WSL, and 77 noise events within the threshold for TPR=0.9\n",
      "For cnt = 13, totally 2818 noise events passed the glitch WSL, and 72 noise events within the threshold for TPR=0.9\n",
      "For cnt = 14, totally 2886 noise events passed the glitch WSL, and 66 noise events within the threshold for TPR=0.9\n",
      "For cnt = 15, totally 2822 noise events passed the glitch WSL, and 261 noise events within the threshold for TPR=0.9\n",
      "For cnt = 16, totally 2829 noise events passed the glitch WSL, and 358 noise events within the threshold for TPR=0.9\n",
      "For cnt = 17, totally 2753 noise events passed the glitch WSL, and 553 noise events within the threshold for TPR=0.9\n",
      "For cnt = 18, totally 2855 noise events passed the glitch WSL, and 335 noise events within the threshold for TPR=0.9\n",
      "For cnt = 19, totally 2761 noise events passed the glitch WSL, and 584 noise events within the threshold for TPR=0.9\n",
      "For cnt = 20, totally 2830 noise events passed the glitch WSL, and 2657 noise events within the threshold for TPR=0.9\n",
      "For cnt = 21, totally 2795 noise events passed the glitch WSL, and 2337 noise events within the threshold for TPR=0.9\n",
      "For cnt = 22, totally 2887 noise events passed the glitch WSL, and 2714 noise events within the threshold for TPR=0.9\n",
      "For cnt = 23, totally 2762 noise events passed the glitch WSL, and 2647 noise events within the threshold for TPR=0.9\n",
      "For cnt = 24, totally 2838 noise events passed the glitch WSL, and 2581 noise events within the threshold for TPR=0.9\n",
      "For cnt = 25, totally 2934 noise events passed the glitch WSL, and 8 noise events within the threshold for TPR=0.9\n",
      "For cnt = 26, totally 2938 noise events passed the glitch WSL, and 5 noise events within the threshold for TPR=0.9\n",
      "For cnt = 27, totally 2949 noise events passed the glitch WSL, and 14 noise events within the threshold for TPR=0.9\n",
      "For cnt = 28, totally 2947 noise events passed the glitch WSL, and 9 noise events within the threshold for TPR=0.9\n",
      "For cnt = 29, totally 2947 noise events passed the glitch WSL, and 7 noise events within the threshold for TPR=0.9\n",
      "For cnt = 30, totally 2957 noise events passed the glitch WSL, and 24 noise events within the threshold for TPR=0.9\n",
      "For cnt = 31, totally 2928 noise events passed the glitch WSL, and 28 noise events within the threshold for TPR=0.9\n",
      "For cnt = 32, totally 2920 noise events passed the glitch WSL, and 26 noise events within the threshold for TPR=0.9\n",
      "For cnt = 33, totally 2942 noise events passed the glitch WSL, and 35 noise events within the threshold for TPR=0.9\n",
      "For cnt = 34, totally 2946 noise events passed the glitch WSL, and 26 noise events within the threshold for TPR=0.9\n",
      "For cnt = 35, totally 2925 noise events passed the glitch WSL, and 63 noise events within the threshold for TPR=0.9\n",
      "For cnt = 36, totally 2948 noise events passed the glitch WSL, and 69 noise events within the threshold for TPR=0.9\n",
      "For cnt = 37, totally 2937 noise events passed the glitch WSL, and 81 noise events within the threshold for TPR=0.9\n",
      "For cnt = 38, totally 2927 noise events passed the glitch WSL, and 64 noise events within the threshold for TPR=0.9\n",
      "For cnt = 39, totally 2950 noise events passed the glitch WSL, and 65 noise events within the threshold for TPR=0.9\n",
      "For cnt = 40, totally 2943 noise events passed the glitch WSL, and 288 noise events within the threshold for TPR=0.9\n",
      "For cnt = 41, totally 2964 noise events passed the glitch WSL, and 308 noise events within the threshold for TPR=0.9\n",
      "For cnt = 42, totally 2949 noise events passed the glitch WSL, and 169 noise events within the threshold for TPR=0.9\n",
      "For cnt = 43, totally 2945 noise events passed the glitch WSL, and 297 noise events within the threshold for TPR=0.9\n",
      "For cnt = 44, totally 2938 noise events passed the glitch WSL, and 325 noise events within the threshold for TPR=0.9\n",
      "For cnt = 45, totally 2955 noise events passed the glitch WSL, and 2033 noise events within the threshold for TPR=0.9\n",
      "For cnt = 46, totally 2936 noise events passed the glitch WSL, and 1840 noise events within the threshold for TPR=0.9\n",
      "For cnt = 47, totally 2926 noise events passed the glitch WSL, and 2208 noise events within the threshold for TPR=0.9\n",
      "For cnt = 48, totally 2944 noise events passed the glitch WSL, and 2712 noise events within the threshold for TPR=0.9\n",
      "For cnt = 49, totally 2928 noise events passed the glitch WSL, and 1702 noise events within the threshold for TPR=0.9\n",
      "For cnt = 50, totally 2980 noise events passed the glitch WSL, and 3 noise events within the threshold for TPR=0.9\n",
      "For cnt = 51, totally 2985 noise events passed the glitch WSL, and 9 noise events within the threshold for TPR=0.9\n",
      "For cnt = 52, totally 2980 noise events passed the glitch WSL, and 12 noise events within the threshold for TPR=0.9\n",
      "For cnt = 53, totally 2975 noise events passed the glitch WSL, and 9 noise events within the threshold for TPR=0.9\n",
      "For cnt = 54, totally 2978 noise events passed the glitch WSL, and 5 noise events within the threshold for TPR=0.9\n",
      "For cnt = 55, totally 2978 noise events passed the glitch WSL, and 30 noise events within the threshold for TPR=0.9\n",
      "For cnt = 56, totally 2979 noise events passed the glitch WSL, and 27 noise events within the threshold for TPR=0.9\n",
      "For cnt = 57, totally 2978 noise events passed the glitch WSL, and 28 noise events within the threshold for TPR=0.9\n",
      "For cnt = 58, totally 2975 noise events passed the glitch WSL, and 28 noise events within the threshold for TPR=0.9\n",
      "For cnt = 59, totally 2973 noise events passed the glitch WSL, and 41 noise events within the threshold for TPR=0.9\n",
      "For cnt = 60, totally 2983 noise events passed the glitch WSL, and 64 noise events within the threshold for TPR=0.9\n",
      "For cnt = 61, totally 2981 noise events passed the glitch WSL, and 58 noise events within the threshold for TPR=0.9\n",
      "For cnt = 62, totally 2988 noise events passed the glitch WSL, and 59 noise events within the threshold for TPR=0.9\n",
      "For cnt = 63, totally 2984 noise events passed the glitch WSL, and 73 noise events within the threshold for TPR=0.9\n",
      "For cnt = 64, totally 2979 noise events passed the glitch WSL, and 54 noise events within the threshold for TPR=0.9\n",
      "For cnt = 65, totally 2981 noise events passed the glitch WSL, and 231 noise events within the threshold for TPR=0.9\n",
      "For cnt = 66, totally 2983 noise events passed the glitch WSL, and 190 noise events within the threshold for TPR=0.9\n",
      "For cnt = 67, totally 2976 noise events passed the glitch WSL, and 216 noise events within the threshold for TPR=0.9\n",
      "For cnt = 68, totally 2981 noise events passed the glitch WSL, and 169 noise events within the threshold for TPR=0.9\n",
      "For cnt = 69, totally 2983 noise events passed the glitch WSL, and 376 noise events within the threshold for TPR=0.9\n",
      "For cnt = 70, totally 2972 noise events passed the glitch WSL, and 2416 noise events within the threshold for TPR=0.9\n",
      "For cnt = 71, totally 2984 noise events passed the glitch WSL, and 2590 noise events within the threshold for TPR=0.9\n",
      "For cnt = 72, totally 2978 noise events passed the glitch WSL, and 1606 noise events within the threshold for TPR=0.9\n",
      "For cnt = 73, totally 2970 noise events passed the glitch WSL, and 2224 noise events within the threshold for TPR=0.9\n",
      "For cnt = 74, totally 2980 noise events passed the glitch WSL, and 1843 noise events within the threshold for TPR=0.9\n",
      "For cnt = 75, totally 2992 noise events passed the glitch WSL, and 7 noise events within the threshold for TPR=0.9\n",
      "For cnt = 76, totally 2993 noise events passed the glitch WSL, and 7 noise events within the threshold for TPR=0.9\n",
      "For cnt = 77, totally 2995 noise events passed the glitch WSL, and 7 noise events within the threshold for TPR=0.9\n",
      "For cnt = 78, totally 2983 noise events passed the glitch WSL, and 6 noise events within the threshold for TPR=0.9\n",
      "For cnt = 79, totally 2991 noise events passed the glitch WSL, and 8 noise events within the threshold for TPR=0.9\n",
      "For cnt = 80, totally 2995 noise events passed the glitch WSL, and 35 noise events within the threshold for TPR=0.9\n",
      "For cnt = 81, totally 2998 noise events passed the glitch WSL, and 23 noise events within the threshold for TPR=0.9\n",
      "For cnt = 82, totally 2994 noise events passed the glitch WSL, and 18 noise events within the threshold for TPR=0.9\n",
      "For cnt = 83, totally 2993 noise events passed the glitch WSL, and 33 noise events within the threshold for TPR=0.9\n",
      "For cnt = 84, totally 2994 noise events passed the glitch WSL, and 27 noise events within the threshold for TPR=0.9\n",
      "For cnt = 85, totally 2994 noise events passed the glitch WSL, and 68 noise events within the threshold for TPR=0.9\n",
      "For cnt = 86, totally 2992 noise events passed the glitch WSL, and 56 noise events within the threshold for TPR=0.9\n",
      "For cnt = 87, totally 2994 noise events passed the glitch WSL, and 60 noise events within the threshold for TPR=0.9\n",
      "For cnt = 88, totally 2994 noise events passed the glitch WSL, and 70 noise events within the threshold for TPR=0.9\n",
      "For cnt = 89, totally 2989 noise events passed the glitch WSL, and 52 noise events within the threshold for TPR=0.9\n",
      "For cnt = 90, totally 2991 noise events passed the glitch WSL, and 207 noise events within the threshold for TPR=0.9\n",
      "For cnt = 91, totally 2989 noise events passed the glitch WSL, and 190 noise events within the threshold for TPR=0.9\n",
      "For cnt = 92, totally 2994 noise events passed the glitch WSL, and 255 noise events within the threshold for TPR=0.9\n",
      "For cnt = 93, totally 2993 noise events passed the glitch WSL, and 329 noise events within the threshold for TPR=0.9\n",
      "For cnt = 94, totally 2995 noise events passed the glitch WSL, and 251 noise events within the threshold for TPR=0.9\n",
      "For cnt = 95, totally 2996 noise events passed the glitch WSL, and 2013 noise events within the threshold for TPR=0.9\n",
      "For cnt = 96, totally 2995 noise events passed the glitch WSL, and 2027 noise events within the threshold for TPR=0.9\n",
      "For cnt = 97, totally 2991 noise events passed the glitch WSL, and 2013 noise events within the threshold for TPR=0.9\n",
      "For cnt = 98, totally 2984 noise events passed the glitch WSL, and 2012 noise events within the threshold for TPR=0.9\n",
      "For cnt = 99, totally 2991 noise events passed the glitch WSL, and 2740 noise events within the threshold for TPR=0.9\n",
      "For cnt = 100, totally 2996 noise events passed the glitch WSL, and 9 noise events within the threshold for TPR=0.9\n",
      "For cnt = 101, totally 2991 noise events passed the glitch WSL, and 9 noise events within the threshold for TPR=0.9\n",
      "For cnt = 102, totally 2996 noise events passed the glitch WSL, and 10 noise events within the threshold for TPR=0.9\n",
      "For cnt = 103, totally 2999 noise events passed the glitch WSL, and 8 noise events within the threshold for TPR=0.9\n",
      "For cnt = 104, totally 2994 noise events passed the glitch WSL, and 7 noise events within the threshold for TPR=0.9\n",
      "For cnt = 105, totally 2992 noise events passed the glitch WSL, and 28 noise events within the threshold for TPR=0.9\n",
      "For cnt = 106, totally 2992 noise events passed the glitch WSL, and 26 noise events within the threshold for TPR=0.9\n",
      "For cnt = 107, totally 2995 noise events passed the glitch WSL, and 28 noise events within the threshold for TPR=0.9\n",
      "For cnt = 108, totally 2993 noise events passed the glitch WSL, and 26 noise events within the threshold for TPR=0.9\n",
      "For cnt = 109, totally 2990 noise events passed the glitch WSL, and 27 noise events within the threshold for TPR=0.9\n",
      "For cnt = 110, totally 2995 noise events passed the glitch WSL, and 78 noise events within the threshold for TPR=0.9\n",
      "For cnt = 111, totally 2993 noise events passed the glitch WSL, and 63 noise events within the threshold for TPR=0.9\n",
      "For cnt = 112, totally 2994 noise events passed the glitch WSL, and 54 noise events within the threshold for TPR=0.9\n",
      "For cnt = 113, totally 2987 noise events passed the glitch WSL, and 52 noise events within the threshold for TPR=0.9\n",
      "For cnt = 114, totally 2990 noise events passed the glitch WSL, and 67 noise events within the threshold for TPR=0.9\n",
      "For cnt = 115, totally 2995 noise events passed the glitch WSL, and 250 noise events within the threshold for TPR=0.9\n",
      "For cnt = 116, totally 2995 noise events passed the glitch WSL, and 243 noise events within the threshold for TPR=0.9\n",
      "For cnt = 117, totally 2991 noise events passed the glitch WSL, and 381 noise events within the threshold for TPR=0.9\n",
      "For cnt = 118, totally 2992 noise events passed the glitch WSL, and 180 noise events within the threshold for TPR=0.9\n",
      "For cnt = 119, totally 2992 noise events passed the glitch WSL, and 423 noise events within the threshold for TPR=0.9\n",
      "For cnt = 120, totally 2997 noise events passed the glitch WSL, and 2079 noise events within the threshold for TPR=0.9\n",
      "For cnt = 121, totally 2988 noise events passed the glitch WSL, and 1474 noise events within the threshold for TPR=0.9\n",
      "For cnt = 122, totally 2993 noise events passed the glitch WSL, and 1786 noise events within the threshold for TPR=0.9\n",
      "For cnt = 123, totally 2994 noise events passed the glitch WSL, and 2536 noise events within the threshold for TPR=0.9\n",
      "For cnt = 124, totally 2995 noise events passed the glitch WSL, and 1949 noise events within the threshold for TPR=0.9\n"
     ]
    }
   ],
   "source": [
    "listResult = {};\n",
    "listResult[\"cut\"] = np.empty((Ncut**(len(list_datatype)-1), len(list_datatype)), dtype=\"int\");\n",
    "listResult[\"ans\"] = np.empty((Ncut**(len(list_datatype)-1), len(testset)), dtype=\"int\");\n",
    "listResult[\"accuracy_4\"] = np.empty((Ncut**(len(list_datatype)-1), len(list_datatype)))\n",
    "listResult[\"accuracy_2\"] = np.empty((Ncut**(len(list_datatype)-1), 2))\n",
    "listResult['FPR'] = np.empty((Ncut**(len(list_datatype)-1), 1))\n",
    "listResult['total_accuracy'] = np.empty((Ncut**(len(list_datatype)-1), 1))\n",
    "cnt = 0\n",
    "\n",
    "\n",
    "for ic[0], ic[1], ic[2] in itertools.product(np.arange(Ncut), np.arange(Ncut), np.arange(Ncut)):\n",
    "\n",
    "    \n",
    "    # if cnt < 86:\n",
    "    #     continue\n",
    "    \n",
    "    t0 = time.time()\n",
    "    data_filtered = {};\n",
    "    for dt in sequence:\n",
    "        data_filtered[dt] = dataset_ae_fft[dt]\n",
    "#     data_filtered[\"noise\"] = bkg_fft;\n",
    "#     data_filtered[\"bbh\"] = bbh_fft;\n",
    "#     data_filtered[\"sg\"] = sg_fft;\n",
    "\n",
    "    dataset_wsl_filtered = dataset_wsl_fft_collected\n",
    "    \n",
    "    cutID = \"\".join(str(ic[j]) for j in range(3)) + \"_\"+version\n",
    "        \n",
    "#     for iPrev in range(3):\n",
    "#         previousStep = ind2datatype[iPrev];\n",
    "#         modelPrev = models[previousStep]; # previous step AE\n",
    "        \n",
    "#         # train the WSC according to previous AE's cut\n",
    "        \n",
    "#         dataset0 = data_filtered[previousStep] # here they haven't been updated yet\n",
    "        \n",
    "#         dcd = modelPrev(torch.FloatTensor(dataset0))[1].detach().numpy();\n",
    "#         dataset1 = dataset0[np.var(dataset0-dcd, axis=1) >= cutList[previousStep][ic[iPrev]]]\n",
    "        \n",
    "#         dcd = modelPrev(torch.FloatTensor(dataset_wsl_filtered))[1].detach().numpy();\n",
    "#         dataset1 = dataset_wsl_filtered[np.var(dataset_wsl_filtered-dcd, axis=1) >= cutList[previousStep][ic[iPrev]]]\n",
    "        \n",
    "#         model = trainWSC(dataset0, dataset1, cutID)\n",
    "#         models[previousStep+\"_WSC\"] = model;\n",
    "        \n",
    "#         # filter the data according to previous WSC\n",
    "#         for j in range(iPrev, 4):\n",
    "#             dt = ind2datatype[j];\n",
    "#             dcd = nn.Sigmoid()(model(torch.FloatTensor(data_filtered[dt]))).detach().numpy().flatten();\n",
    "#             data_filtered[dt] = data_filtered[dt][dcd>0.5]\n",
    "        \n",
    "# #         # filter the data\n",
    "# #         for j in range(iPrev+1, 4):\n",
    "# #             dt = ind2datatype[j];\n",
    "# #             dcd = modelPrev(torch.FloatTensor(data_filtered[dt]))[1].detach().numpy()\n",
    "# #             data_filtered[dt] = data_filtered[dt][np.var(data_filtered[dt]-dcd, axis=1) >= cutList[previousStep][ic[iPrev]]]            \n",
    "        \n",
    "#         # train the current step AE\n",
    "#         currentStep = ind2datatype[iPrev+1];\n",
    "#         model = trainAE(data_filtered[currentStep], cutID);\n",
    "#         models[currentStep] = model;\n",
    "        \n",
    "#     torch.save(models, \"../Data_cached/SequentialTraining/WSL/trained_model\" + \"\".join(str(ic[j]) for j in range(3)) + \"_\"+version+\".json\")\n",
    "#     print(models.keys())\n",
    "    \n",
    "    models = torch.load(\"../Data_cached/SequentialTraining/WSL/trained_model\" + \"\".join(str(ic[j]) for j in range(3)) + \"_\"+version+\".json\")\n",
    "    \n",
    "    dcd = {};\n",
    "    err = {};\n",
    "    ans = np.zeros(len(testset), dtype=\"int\")\n",
    "    \n",
    "    for datatype in list_datatype:\n",
    "        if datatype == 'sg':\n",
    "            dcd[datatype] = models[datatype](torch.FloatTensor(testset))[1].detach().numpy()\n",
    "            err[datatype] = np.var(testset-dcd[datatype], axis=1)\n",
    "        else:\n",
    "            dcd[datatype] = nn.Sigmoid()(models[datatype + \"_WSC\"](torch.FloatTensor(testset))).detach().numpy().reshape(-1)\n",
    "        \n",
    "    not_select = np.array([True]*len(testset));\n",
    "\n",
    "    for iStep in range(len(list_datatype)):\n",
    "        datatype = ind2datatype[iStep];\n",
    "        if datatype == 'sg':\n",
    "            ind_pass = np.logical_and(not_select, err[datatype] <= cutList[datatype][ic[iStep]]);\n",
    "        else:\n",
    "            ind_pass = np.logical_and(not_select, dcd[datatype] <= 0.5);\n",
    "            \n",
    "        if datatype == 'noise':\n",
    "            ind_pass_fprcalc = np.logical_and(not_select, dcd[datatype] <= np.sort(dcd[datatype][-N_reserved_test['bbh']-N_reserved_test['sg']:])[int(0.1 * (N_reserved_test['bbh']+N_reserved_test['sg']))])\n",
    "            # ind_pass = np.logical_and(not_select, err[datatype] <= np.sort(err[datatype][-N_wsl['bbh']-N_wsl['sg']:])[int(0.1 * (N_wsl['bbh']+N_wsl['sg']))])\n",
    "            noise_number = np.sum(np.logical_and(not_select, correct_ans == 1))\n",
    "            passed_noise_number = noise_number - np.sum(np.logical_and(ind_pass_fprcalc, correct_ans == 1))\n",
    "            listResult['FPR'][cnt] = passed_noise_number / noise_number\n",
    "            print('For cnt = {}, totally {} noise events passed the glitch WSL, and {} noise events within the threshold for TPR=0.9'.format(cnt, noise_number, passed_noise_number))\n",
    "        \n",
    "        ans[ind_pass] = iStep;\n",
    "        not_select[ind_pass] = False;\n",
    "        \n",
    "    ans[not_select] = -1;\n",
    "\n",
    "    listResult[\"cut\"][cnt] = ic;\n",
    "    listResult[\"ans\"][cnt] = ans;\n",
    "\n",
    "    acc = np.zeros(len(ind2datatype));\n",
    "\n",
    "    for i in range(len(ind2datatype)):\n",
    "        acc[i] = np.sum(np.logical_and(ans==i, correct_ans==i))/N_reserved_test[ind2datatype[i]];\n",
    "        \n",
    "    listResult[\"accuracy_4\"][cnt] = acc;\n",
    "\n",
    "    listResult[\"accuracy_2\"][cnt] = [ np.sum(acc[datatype2ind[dtype]]*N_reserved_test[dtype] for dtype in [\"glitch\", \"noise\"])/np.sum(N_reserved_test[dtype] for dtype in [\"glitch\", \"noise\"]), \n",
    "                                        np.sum(acc[datatype2ind[dtype]]*N_reserved_test[dtype] for dtype in [\"bbh\", \"sg\"])/np.sum(N_reserved_test[dtype] for dtype in [\"bbh\", \"sg\"])]\n",
    "\n",
    "    cnt += 1;\n",
    "    \n",
    "listResult[\"total_accuracy\"] = np.sum(listResult[\"ans\"]==correct_ans, axis=1)/len(testset)"
   ]
  },
  {
   "cell_type": "markdown",
   "metadata": {},
   "source": [
    "## 1333 case"
   ]
  },
  {
   "cell_type": "markdown",
   "metadata": {},
   "source": [
    "### Best accuracy"
   ]
  },
  {
   "cell_type": "code",
   "execution_count": 256,
   "metadata": {},
   "outputs": [
    {
     "data": {
      "text/plain": [
       "0.9015"
      ]
     },
     "execution_count": 256,
     "metadata": {},
     "output_type": "execute_result"
    }
   ],
   "source": [
    "listResult['total_accuracy'][100]"
   ]
  },
  {
   "cell_type": "code",
   "execution_count": 257,
   "metadata": {},
   "outputs": [
    {
     "data": {
      "text/plain": [
       "array([0.9865    , 0.99516667, 0.92      , 0.761     ])"
      ]
     },
     "execution_count": 257,
     "metadata": {},
     "output_type": "execute_result"
    }
   ],
   "source": [
    "listResult['accuracy_4'][100]"
   ]
  },
  {
   "cell_type": "code",
   "execution_count": 244,
   "metadata": {},
   "outputs": [
    {
     "data": {
      "text/plain": [
       "0.972972972972973"
      ]
     },
     "execution_count": 244,
     "metadata": {},
     "output_type": "execute_result"
    }
   ],
   "source": [
    "listResult['total_accuracy'].max()"
   ]
  },
  {
   "cell_type": "code",
   "execution_count": 245,
   "metadata": {},
   "outputs": [
    {
     "data": {
      "text/plain": [
       "array([0, 4, 3, 0])"
      ]
     },
     "execution_count": 245,
     "metadata": {},
     "output_type": "execute_result"
    }
   ],
   "source": []
  },
  {
   "cell_type": "code",
   "execution_count": 237,
   "metadata": {},
   "outputs": [
    {
     "data": {
      "text/plain": [
       "array([0, 4, 3, 0])"
      ]
     },
     "execution_count": 237,
     "metadata": {},
     "output_type": "execute_result"
    }
   ],
   "source": [
    "listResult['cut'][np.argmax(listResult['total_accuracy'])]"
   ]
  },
  {
   "cell_type": "code",
   "execution_count": 247,
   "metadata": {},
   "outputs": [
    {
     "data": {
      "text/plain": [
       "array([[100]], dtype=int64)"
      ]
     },
     "execution_count": 247,
     "metadata": {},
     "output_type": "execute_result"
    }
   ],
   "source": [
    "np.argwhere(np.all(listResult['cut'] == [4,0,0,0], axis = 1))"
   ]
  },
  {
   "cell_type": "markdown",
   "metadata": {},
   "source": [
    "### Balanced accuracy"
   ]
  },
  {
   "cell_type": "code",
   "execution_count": 252,
   "metadata": {},
   "outputs": [
    {
     "data": {
      "text/plain": [
       "array([[30]], dtype=int64)"
      ]
     },
     "execution_count": 252,
     "metadata": {},
     "output_type": "execute_result"
    }
   ],
   "source": [
    "np.argwhere(np.all(listResult['cut'] == [1,1,0,0], axis = 1))"
   ]
  },
  {
   "cell_type": "code",
   "execution_count": 241,
   "metadata": {},
   "outputs": [
    {
     "data": {
      "text/plain": [
       "array([], shape=(0, 1, 4), dtype=int32)"
      ]
     },
     "execution_count": 241,
     "metadata": {},
     "output_type": "execute_result"
    }
   ],
   "source": [
    "listResult['cut'][np.argwhere(np.all(listResult['accuracy_4'] > 0., axis = 1))]"
   ]
  },
  {
   "cell_type": "code",
   "execution_count": 253,
   "metadata": {},
   "outputs": [
    {
     "data": {
      "text/plain": [
       "array([0.9945    , 0.94833333, 0.9585    , 0.79883333])"
      ]
     },
     "execution_count": 253,
     "metadata": {},
     "output_type": "execute_result"
    }
   ],
   "source": [
    "listResult['accuracy_4'][30]"
   ]
  },
  {
   "cell_type": "markdown",
   "metadata": {},
   "source": [
    "### Least TPR"
   ]
  },
  {
   "cell_type": "code",
   "execution_count": 258,
   "metadata": {},
   "outputs": [
    {
     "data": {
      "text/plain": [
       "array([[50]], dtype=int64)"
      ]
     },
     "execution_count": 258,
     "metadata": {},
     "output_type": "execute_result"
    }
   ],
   "source": [
    "np.argwhere(np.all(listResult['cut'] == [2,0,0,0], axis = 1))"
   ]
  },
  {
   "cell_type": "code",
   "execution_count": 260,
   "metadata": {},
   "outputs": [
    {
     "data": {
      "text/plain": [
       "array([0.00133869])"
      ]
     },
     "execution_count": 260,
     "metadata": {},
     "output_type": "execute_result"
    }
   ],
   "source": [
    "listResult['FPR'][50]"
   ]
  },
  {
   "cell_type": "markdown",
   "metadata": {},
   "source": [
    "## 5611 case"
   ]
  },
  {
   "cell_type": "markdown",
   "metadata": {},
   "source": [
    "### Best accuracy"
   ]
  },
  {
   "cell_type": "code",
   "execution_count": 268,
   "metadata": {},
   "outputs": [
    {
     "data": {
      "text/plain": [
       "0.94755"
      ]
     },
     "execution_count": 268,
     "metadata": {},
     "output_type": "execute_result"
    }
   ],
   "source": [
    "listResult['total_accuracy'][100]"
   ]
  },
  {
   "cell_type": "code",
   "execution_count": 269,
   "metadata": {},
   "outputs": [
    {
     "data": {
      "text/plain": [
       "array([0.982     , 0.99553846, 0.91666667, 0.759     ])"
      ]
     },
     "execution_count": 269,
     "metadata": {},
     "output_type": "execute_result"
    }
   ],
   "source": [
    "listResult['accuracy_4'][100]"
   ]
  },
  {
   "cell_type": "code",
   "execution_count": 270,
   "metadata": {},
   "outputs": [
    {
     "data": {
      "text/plain": [
       "0.94755"
      ]
     },
     "execution_count": 270,
     "metadata": {},
     "output_type": "execute_result"
    }
   ],
   "source": [
    "listResult['total_accuracy'].max()"
   ]
  },
  {
   "cell_type": "code",
   "execution_count": null,
   "metadata": {},
   "outputs": [
    {
     "data": {
      "text/plain": [
       "array([0, 4, 3, 0])"
      ]
     },
     "metadata": {},
     "output_type": "display_data"
    }
   ],
   "source": []
  },
  {
   "cell_type": "code",
   "execution_count": null,
   "metadata": {},
   "outputs": [
    {
     "data": {
      "text/plain": [
       "array([0, 4, 3, 0])"
      ]
     },
     "metadata": {},
     "output_type": "display_data"
    }
   ],
   "source": [
    "listResult['cut'][np.argmax(listResult['total_accuracy'])]"
   ]
  },
  {
   "cell_type": "code",
   "execution_count": null,
   "metadata": {},
   "outputs": [
    {
     "data": {
      "text/plain": [
       "array([[100]], dtype=int64)"
      ]
     },
     "metadata": {},
     "output_type": "display_data"
    }
   ],
   "source": [
    "np.argwhere(np.all(listResult['cut'] == [4,0,0,0], axis = 1))"
   ]
  },
  {
   "cell_type": "markdown",
   "metadata": {},
   "source": [
    "### Balanced accuracy"
   ]
  },
  {
   "cell_type": "code",
   "execution_count": null,
   "metadata": {},
   "outputs": [
    {
     "data": {
      "text/plain": [
       "array([[30]], dtype=int64)"
      ]
     },
     "metadata": {},
     "output_type": "display_data"
    }
   ],
   "source": [
    "np.argwhere(np.all(listResult['cut'] == [1,1,0,0], axis = 1))"
   ]
  },
  {
   "cell_type": "code",
   "execution_count": null,
   "metadata": {},
   "outputs": [
    {
     "data": {
      "text/plain": [
       "array([], shape=(0, 1, 4), dtype=int32)"
      ]
     },
     "metadata": {},
     "output_type": "display_data"
    }
   ],
   "source": [
    "listResult['cut'][np.argwhere(np.all(listResult['accuracy_4'] > 0., axis = 1))]"
   ]
  },
  {
   "cell_type": "code",
   "execution_count": 271,
   "metadata": {},
   "outputs": [
    {
     "data": {
      "text/plain": [
       "array([0.994     , 0.94446154, 0.95766667, 0.80166667])"
      ]
     },
     "execution_count": 271,
     "metadata": {},
     "output_type": "execute_result"
    }
   ],
   "source": [
    "listResult['accuracy_4'][30]"
   ]
  },
  {
   "cell_type": "markdown",
   "metadata": {},
   "source": [
    "### Least TPR"
   ]
  },
  {
   "cell_type": "code",
   "execution_count": null,
   "metadata": {},
   "outputs": [
    {
     "data": {
      "text/plain": [
       "array([[50]], dtype=int64)"
      ]
     },
     "metadata": {},
     "output_type": "display_data"
    }
   ],
   "source": [
    "np.argwhere(np.all(listResult['cut'] == [2,0,0,0], axis = 1))"
   ]
  },
  {
   "cell_type": "code",
   "execution_count": 272,
   "metadata": {},
   "outputs": [
    {
     "data": {
      "text/plain": [
       "array([0.00108125])"
      ]
     },
     "execution_count": 272,
     "metadata": {},
     "output_type": "execute_result"
    }
   ],
   "source": [
    "listResult['FPR'][50]"
   ]
  },
  {
   "cell_type": "markdown",
   "metadata": {},
   "source": [
    "## 5116 case"
   ]
  },
  {
   "cell_type": "markdown",
   "metadata": {},
   "source": [
    "### Best accuracy"
   ]
  },
  {
   "cell_type": "code",
   "execution_count": 306,
   "metadata": {},
   "outputs": [
    {
     "data": {
      "text/plain": [
       "0.8357"
      ]
     },
     "execution_count": 306,
     "metadata": {},
     "output_type": "execute_result"
    }
   ],
   "source": [
    "listResult['total_accuracy'][100]"
   ]
  },
  {
   "cell_type": "code",
   "execution_count": 307,
   "metadata": {},
   "outputs": [
    {
     "data": {
      "text/plain": [
       "array([0.989     , 0.995     , 0.92566667, 0.76638462])"
      ]
     },
     "execution_count": 307,
     "metadata": {},
     "output_type": "execute_result"
    }
   ],
   "source": [
    "listResult['accuracy_4'][100]"
   ]
  },
  {
   "cell_type": "code",
   "execution_count": null,
   "metadata": {},
   "outputs": [
    {
     "data": {
      "text/plain": [
       "0.972972972972973"
      ]
     },
     "metadata": {},
     "output_type": "display_data"
    }
   ],
   "source": [
    "listResult['total_accuracy'].max()"
   ]
  },
  {
   "cell_type": "code",
   "execution_count": null,
   "metadata": {},
   "outputs": [
    {
     "data": {
      "text/plain": [
       "array([0, 4, 3, 0])"
      ]
     },
     "metadata": {},
     "output_type": "display_data"
    }
   ],
   "source": []
  },
  {
   "cell_type": "code",
   "execution_count": null,
   "metadata": {},
   "outputs": [
    {
     "data": {
      "text/plain": [
       "array([0, 4, 3, 0])"
      ]
     },
     "metadata": {},
     "output_type": "display_data"
    }
   ],
   "source": [
    "listResult['cut'][np.argmax(listResult['total_accuracy'])]"
   ]
  },
  {
   "cell_type": "code",
   "execution_count": null,
   "metadata": {},
   "outputs": [
    {
     "data": {
      "text/plain": [
       "array([[100]], dtype=int64)"
      ]
     },
     "metadata": {},
     "output_type": "display_data"
    }
   ],
   "source": [
    "np.argwhere(np.all(listResult['cut'] == [4,0,0,0], axis = 1))"
   ]
  },
  {
   "cell_type": "markdown",
   "metadata": {},
   "source": [
    "### Balanced accuracy"
   ]
  },
  {
   "cell_type": "code",
   "execution_count": null,
   "metadata": {},
   "outputs": [
    {
     "data": {
      "text/plain": [
       "array([[30]], dtype=int64)"
      ]
     },
     "metadata": {},
     "output_type": "display_data"
    }
   ],
   "source": [
    "np.argwhere(np.all(listResult['cut'] == [1,1,0,0], axis = 1))"
   ]
  },
  {
   "cell_type": "code",
   "execution_count": null,
   "metadata": {},
   "outputs": [
    {
     "data": {
      "text/plain": [
       "array([], shape=(0, 1, 4), dtype=int32)"
      ]
     },
     "metadata": {},
     "output_type": "display_data"
    }
   ],
   "source": [
    "listResult['cut'][np.argwhere(np.all(listResult['accuracy_4'] > 0., axis = 1))]"
   ]
  },
  {
   "cell_type": "code",
   "execution_count": 308,
   "metadata": {},
   "outputs": [
    {
     "data": {
      "text/plain": [
       "array([0.994     , 0.93566667, 0.961     , 0.81030769])"
      ]
     },
     "execution_count": 308,
     "metadata": {},
     "output_type": "execute_result"
    }
   ],
   "source": [
    "listResult['accuracy_4'][30]"
   ]
  },
  {
   "cell_type": "markdown",
   "metadata": {},
   "source": [
    "### Least TPR"
   ]
  },
  {
   "cell_type": "code",
   "execution_count": null,
   "metadata": {},
   "outputs": [
    {
     "data": {
      "text/plain": [
       "array([[50]], dtype=int64)"
      ]
     },
     "metadata": {},
     "output_type": "display_data"
    }
   ],
   "source": [
    "np.argwhere(np.all(listResult['cut'] == [2,0,0,0], axis = 1))"
   ]
  },
  {
   "cell_type": "code",
   "execution_count": 309,
   "metadata": {},
   "outputs": [
    {
     "data": {
      "text/plain": [
       "array([0.00100671])"
      ]
     },
     "execution_count": 309,
     "metadata": {},
     "output_type": "execute_result"
    }
   ],
   "source": [
    "listResult['FPR'][50]"
   ]
  },
  {
   "cell_type": "code",
   "execution_count": 116,
   "metadata": {},
   "outputs": [
    {
     "data": {
      "text/plain": [
       "22500"
      ]
     },
     "execution_count": 116,
     "metadata": {},
     "output_type": "execute_result"
    }
   ],
   "source": [
    "N_wsl['noise']"
   ]
  },
  {
   "cell_type": "code",
   "execution_count": 136,
   "metadata": {},
   "outputs": [],
   "source": [
    "models = torch.load(\"../Data_cached/SequentialTraining/WSL/trained_model\" + \"040\" + \"_\"+version+\".json\")"
   ]
  },
  {
   "cell_type": "code",
   "execution_count": 124,
   "metadata": {},
   "outputs": [
    {
     "data": {
      "text/plain": [
       "{'noise': array([[1.34665214e-02, 2.01349170e-02, 3.10067479e-02, ...,\n",
       "         1.60215920e-02, 1.59940557e-02, 1.59849149e-02],\n",
       "        [5.57509265e-02, 8.69764411e-02, 6.21074795e-02, ...,\n",
       "         1.02851407e-02, 1.02688310e-02, 1.02634164e-02],\n",
       "        [2.93380820e-02, 1.70013658e-02, 1.36981558e-01, ...,\n",
       "         7.21782236e-03, 7.21582543e-03, 7.21515852e-03],\n",
       "        ...,\n",
       "        [6.87877665e-02, 8.90467854e-02, 1.13491462e-01, ...,\n",
       "         2.04125980e-04, 1.76062435e-04, 1.65783671e-04],\n",
       "        [1.65189091e-02, 1.86157280e-02, 1.92181262e-01, ...,\n",
       "         2.62652838e-03, 2.60940658e-03, 2.60369874e-03],\n",
       "        [1.76982146e-02, 1.69218170e-02, 1.97780802e-01, ...,\n",
       "         8.63501652e-04, 8.21206880e-04, 8.06785421e-04]]),\n",
       " 'bbh': array([[0.02289429, 0.05482373, 0.288669  , ..., 0.00251033, 0.00247257,\n",
       "         0.00245991],\n",
       "        [0.07471686, 0.07858148, 0.56103306, ..., 0.0034496 , 0.00339823,\n",
       "         0.00338104],\n",
       "        [0.04431833, 0.0291614 , 0.18740829, ..., 0.00613943, 0.00612685,\n",
       "         0.00612268],\n",
       "        ...,\n",
       "        [0.12925402, 0.14491339, 0.4441086 , ..., 0.00400835, 0.00396305,\n",
       "         0.00394793],\n",
       "        [0.06311171, 0.07884844, 0.11737294, ..., 0.0043991 , 0.00439781,\n",
       "         0.00439738],\n",
       "        [0.01480899, 0.0302849 , 0.39057769, ..., 0.00295395, 0.00295028,\n",
       "         0.00294906]]),\n",
       " 'sg': array([[0.00705805, 0.01383946, 0.04944145, ..., 0.00284878, 0.00284052,\n",
       "         0.00283779],\n",
       "        [0.01144369, 0.018352  , 0.05497656, ..., 0.01255036, 0.01253128,\n",
       "         0.01252494],\n",
       "        [0.05863199, 0.07147371, 0.05825062, ..., 0.0081952 , 0.00817249,\n",
       "         0.00816495],\n",
       "        ...,\n",
       "        [0.0075581 , 0.01641289, 0.06872681, ..., 0.00521714, 0.00520409,\n",
       "         0.00519976],\n",
       "        [0.01203291, 0.00861246, 0.1641531 , ..., 0.0045862 , 0.00457243,\n",
       "         0.00456786],\n",
       "        [0.00055912, 0.02499672, 0.06642191, ..., 0.000816  , 0.00081114,\n",
       "         0.00080952]]),\n",
       " 'glitch': array([[3.87266716e-02, 8.37254866e-02, 1.24069378e-01, ...,\n",
       "         9.04872730e-03, 9.02619439e-03, 9.01871033e-03],\n",
       "        [4.28740345e-02, 5.08311613e-02, 8.32417728e-02, ...,\n",
       "         2.62215643e-03, 2.61668627e-03, 2.61486930e-03],\n",
       "        [1.31860141e-02, 1.38994056e-02, 7.99576805e-02, ...,\n",
       "         5.84781321e-03, 5.82086923e-03, 5.81191886e-03],\n",
       "        ...,\n",
       "        [1.28276580e-02, 1.22252162e-02, 1.01123112e-02, ...,\n",
       "         2.38646447e-04, 1.19180390e-04, 8.76924065e-06],\n",
       "        [1.56218507e-02, 7.73841516e-02, 1.44531989e-01, ...,\n",
       "         5.51848544e-03, 5.49937241e-03, 5.49302685e-03],\n",
       "        [1.35629391e-02, 4.69534902e-02, 9.66182968e-02, ...,\n",
       "         3.15865705e-03, 3.14695502e-03, 3.14305481e-03]])}"
      ]
     },
     "execution_count": 124,
     "metadata": {},
     "output_type": "execute_result"
    }
   ],
   "source": [
    "dataset_wsl_fft"
   ]
  },
  {
   "cell_type": "code",
   "execution_count": 137,
   "metadata": {},
   "outputs": [
    {
     "data": {
      "text/plain": [
       "(0.0, 2000.0)"
      ]
     },
     "execution_count": 137,
     "metadata": {},
     "output_type": "execute_result"
    },
    {
     "data": {
      "image/png": "[encoded data removed]",
      "text/plain": [
       "<Figure size 640x480 with 1 Axes>"
      ]
     },
     "metadata": {},
     "output_type": "display_data"
    }
   ],
   "source": [
    "model = models['noise']\n",
    "\n",
    "bkg_filtered = dataset_wsl_fft['noise']\n",
    "bbh_filtered = dataset_wsl_fft['bbh']\n",
    "sg_filtered = dataset_wsl_fft['sg']\n",
    "\n",
    "# c0[currentStep] = 0.0022;\n",
    "\n",
    "dcd_bkg = model(torch.FloatTensor(bkg_filtered))[1].detach().numpy()\n",
    "dcd_bbh = model(torch.FloatTensor(bbh_filtered))[1].detach().numpy()\n",
    "dcd_sg = model(torch.FloatTensor(sg_filtered))[1].detach().numpy()\n",
    "# dcd_glitch = model(torch.FloatTensor(glitch_fft))[1].detach().numpy()\n",
    "\n",
    "foo = plt.hist(np.var(bkg_filtered-dcd_bkg, axis=1), histtype=\"step\", range=(0, 0.01), bins=50, density=True, label=\"noise\")\n",
    "foo = plt.hist(np.var(bbh_filtered-dcd_bbh, axis=1), histtype=\"step\", range=(0, 0.01), bins=50, density=True, label=\"bbh\")\n",
    "foo = plt.hist(np.var(sg_filtered-dcd_sg, axis=1), histtype=\"step\", range=(0, 0.01), bins=50, density=True, label=\"sg\")\n",
    "# foo = plt.hist(np.var(glitch_fft-dcd_glitch, axis=1), histtype=\"step\", range=(0, 0.01), bins=50, density=True, label=\"glitch\")\n",
    "plt.title(\"trained with noise\")\n",
    "# plt.axvline(c0[currentStep], color=\"k\", linestyle=\"--\")\n",
    "plt.axvline(np.sort(np.var(bbh_filtered-dcd_bbh, axis=1))[int(0.1 * len(bbh_filtered))], color = 'k', linestyle = '--')\n",
    "plt.legend()\n",
    "plt.ylim(0,2000)"
   ]
  },
  {
   "cell_type": "code",
   "execution_count": 139,
   "metadata": {},
   "outputs": [
    {
     "data": {
      "text/plain": [
       "WSClassifier(\n",
       "  (fc1): Linear(in_features=202, out_features=32, bias=True)\n",
       "  (norm1): BatchNorm1d(32, eps=1e-05, momentum=0.1, affine=True, track_running_stats=True)\n",
       "  (relu): ReLU()\n",
       "  (sigmoid): Sigmoid()\n",
       "  (fc2): Linear(in_features=32, out_features=1, bias=True)\n",
       ")"
      ]
     },
     "execution_count": 139,
     "metadata": {},
     "output_type": "execute_result"
    }
   ],
   "source": [
    "model"
   ]
  },
  {
   "cell_type": "code",
   "execution_count": 138,
   "metadata": {},
   "outputs": [
    {
     "data": {
      "text/plain": [
       "<matplotlib.legend.Legend at 0x1990ceda5d0>"
      ]
     },
     "execution_count": 138,
     "metadata": {},
     "output_type": "execute_result"
    },
    {
     "data": {
      "image/png": "[encoded data removed]",
      "text/plain": [
       "<Figure size 640x480 with 1 Axes>"
      ]
     },
     "metadata": {},
     "output_type": "display_data"
    }
   ],
   "source": [
    "model = models['noise_WSC']\n",
    "\n",
    "bkg_filtered = dataset_wsl_fft['noise']\n",
    "bbh_filtered = dataset_wsl_fft['bbh']\n",
    "sg_filtered = dataset_wsl_fft['sg']\n",
    "\n",
    "# c0[currentStep] = 0.0022;\n",
    "\n",
    "dcd_bkg = nn.Sigmoid()(model(torch.FloatTensor(bkg_filtered))).detach().numpy()\n",
    "dcd_bbh = nn.Sigmoid()(model(torch.FloatTensor(bbh_filtered))).detach().numpy()\n",
    "dcd_sg = nn.Sigmoid()(model(torch.FloatTensor(sg_filtered))).detach().numpy()\n",
    "# dcd_glitch = model(torch.FloatTensor(glitch_fft))[1].detach().numpy()\n",
    "\n",
    "# foo = plt.hist(np.var(bkg_filtered-dcd_bkg, axis=1), histtype=\"step\", range=(0, 0.01), bins=50, density=True, label=\"noise\")\n",
    "# foo = plt.hist(np.var(bbh_filtered-dcd_bbh, axis=1), histtype=\"step\", range=(0, 0.01), bins=50, density=True, label=\"bbh\")\n",
    "# foo = plt.hist(np.var(sg_filtered-dcd_sg, axis=1), histtype=\"step\", range=(0, 0.01), bins=50, density=True, label=\"sg\")\n",
    "# foo = plt.hist(np.var(glitch_fft-dcd_glitch, axis=1), histtype=\"step\", range=(0, 0.01), bins=50, density=True, label=\"glitch\")\n",
    "foo = plt.hist(dcd_bkg, histtype=\"step\", range=(0, 1), bins=50, density=True, label=\"noise\")\n",
    "foo = plt.hist(dcd_bbh, histtype=\"step\", range=(0, 1), bins=50, density=True, label=\"bbh\")\n",
    "foo = plt.hist(dcd_sg, histtype=\"step\", range=(0, 1), bins=50, density=True, label=\"sg\")\n",
    "plt.title(\"trained with noise\")\n",
    "# plt.axvline(c0[currentStep], color=\"k\", linestyle=\"--\")\n",
    "# plt.axvline(np.sort(np.var(bbh_filtered-dcd_bbh, axis=1))[int(0.1 * len(bbh_filtered))], color = 'k', linestyle = '--')\n",
    "plt.legend()\n",
    "# plt.ylim(0,2000)"
   ]
  },
  {
   "cell_type": "code",
   "execution_count": 169,
   "metadata": {},
   "outputs": [
    {
     "name": "stdout",
     "output_type": "stream",
     "text": [
      "[2 0 0 0]\n",
      "0.0018406961178045514\n"
     ]
    }
   ],
   "source": [
    "# This is the result for 0.1, 0.3, 0.3, 0.3\n",
    "\n",
    "print(listResult['cut'][np.argmin(listResult['FPR'])])\n",
    "print(listResult['FPR'].min())"
   ]
  },
  {
   "cell_type": "code",
   "execution_count": 160,
   "metadata": {},
   "outputs": [
    {
     "data": {
      "text/plain": [
       "array([2, 0, 0, 0])"
      ]
     },
     "execution_count": 160,
     "metadata": {},
     "output_type": "execute_result"
    }
   ],
   "source": [
    "listResult['cut'][np.argmin(listResult['FPR'])]"
   ]
  },
  {
   "cell_type": "code",
   "execution_count": 161,
   "metadata": {},
   "outputs": [
    {
     "data": {
      "text/plain": [
       "0.0010812480691998764"
      ]
     },
     "execution_count": 161,
     "metadata": {},
     "output_type": "execute_result"
    }
   ],
   "source": [
    "# This is the result for 0.05, 0.65, 0.15, 0.15\n",
    "\n",
    "\n",
    "listResult['FPR'].min()"
   ]
  },
  {
   "cell_type": "code",
   "execution_count": 114,
   "metadata": {},
   "outputs": [
    {
     "data": {
      "text/plain": [
       "array([[0.00269042],\n",
       "       [0.00187459],\n",
       "       [0.00153789],\n",
       "       [0.00199332],\n",
       "       [0.0018956 ],\n",
       "       [0.00875379],\n",
       "       [0.00812772],\n",
       "       [0.00654907],\n",
       "       [0.0080869 ],\n",
       "       [0.00755668],\n",
       "       [0.01912809],\n",
       "       [0.02690304],\n",
       "       [0.02102381],\n",
       "       [0.02618812],\n",
       "       [0.02710052],\n",
       "       [0.09436454],\n",
       "       [0.11363423],\n",
       "       [0.19048077],\n",
       "       [0.14568954],\n",
       "       [0.20421925],\n",
       "       [0.94098084],\n",
       "       [0.80172659],\n",
       "       [0.83388567],\n",
       "       [0.92847232],\n",
       "       [0.83878505],\n",
       "       [0.00207975],\n",
       "       [0.00171728],\n",
       "       [0.00198234],\n",
       "       [0.00180546],\n",
       "       [0.00162455],\n",
       "       [0.00651188],\n",
       "       [0.00589837],\n",
       "       [0.00599864],\n",
       "       [0.00730059],\n",
       "       [0.00866348],\n",
       "       [0.015717  ],\n",
       "       [0.02144241],\n",
       "       [0.02421801],\n",
       "       [0.01837318],\n",
       "       [0.01809975],\n",
       "       [0.09722724],\n",
       "       [0.10327986],\n",
       "       [0.0660505 ],\n",
       "       [0.0818227 ],\n",
       "       [0.10737527],\n",
       "       [0.56803456],\n",
       "       [0.62870952],\n",
       "       [0.66453079],\n",
       "       [0.92647989],\n",
       "       [0.5199112 ],\n",
       "       [0.00129435],\n",
       "       [0.00160564],\n",
       "       [0.00192084],\n",
       "       [0.00156663],\n",
       "       [0.0020533 ],\n",
       "       [0.00710107],\n",
       "       [0.00611525],\n",
       "       [0.00478105],\n",
       "       [0.00527539],\n",
       "       [0.00832625],\n",
       "       [0.02200795],\n",
       "       [0.01500938],\n",
       "       [0.01650754],\n",
       "       [0.02144293],\n",
       "       [0.01751251],\n",
       "       [0.08297236],\n",
       "       [0.07846903],\n",
       "       [0.07420984],\n",
       "       [0.06695233],\n",
       "       [0.13990262],\n",
       "       [0.7980666 ],\n",
       "       [0.72258669],\n",
       "       [0.49372067],\n",
       "       [0.81738858],\n",
       "       [0.5978125 ],\n",
       "       [0.00133577],\n",
       "       [0.0022705 ],\n",
       "       [0.00138005],\n",
       "       [0.00138319],\n",
       "       [0.00200517],\n",
       "       [0.00721636],\n",
       "       [0.00560548],\n",
       "       [0.00619043],\n",
       "       [0.00743677],\n",
       "       [0.00547445],\n",
       "       [0.02182142],\n",
       "       [0.01662433],\n",
       "       [0.01910317],\n",
       "       [0.02700535],\n",
       "       [0.01797101],\n",
       "       [0.08566208],\n",
       "       [0.07086158],\n",
       "       [0.08902645],\n",
       "       [0.09528898],\n",
       "       [0.08316258],\n",
       "       [0.64010683],\n",
       "       [0.66150285],\n",
       "       [0.67478842],\n",
       "       [0.63815086],\n",
       "       [0.77235048],\n",
       "       [0.00204727],\n",
       "       [0.00182734],\n",
       "       [0.00191451],\n",
       "       [0.00218175],\n",
       "       [0.0013363 ],\n",
       "       [0.00512546],\n",
       "       [0.00703661],\n",
       "       [0.00614672],\n",
       "       [0.00645477],\n",
       "       [0.00686213],\n",
       "       [0.03137098],\n",
       "       [0.02212823],\n",
       "       [0.01775701],\n",
       "       [0.01390374],\n",
       "       [0.01774488],\n",
       "       [0.08416459],\n",
       "       [0.09144359],\n",
       "       [0.12467116],\n",
       "       [0.06367158],\n",
       "       [0.14479779],\n",
       "       [0.63938733],\n",
       "       [0.42951944],\n",
       "       [0.54493206],\n",
       "       [0.78116368],\n",
       "       [0.62362674]])"
      ]
     },
     "execution_count": 114,
     "metadata": {},
     "output_type": "execute_result"
    }
   ],
   "source": [
    "listResult['FPR']"
   ]
  },
  {
   "cell_type": "code",
   "execution_count": 118,
   "metadata": {},
   "outputs": [
    {
     "data": {
      "text/plain": [
       "0.9409808421940138"
      ]
     },
     "execution_count": 118,
     "metadata": {},
     "output_type": "execute_result"
    }
   ],
   "source": [
    "listResult['FPR'].max()"
   ]
  },
  {
   "cell_type": "code",
   "execution_count": 117,
   "metadata": {},
   "outputs": [
    {
     "data": {
      "text/plain": [
       "array([0, 4, 0, 0])"
      ]
     },
     "execution_count": 117,
     "metadata": {},
     "output_type": "execute_result"
    }
   ],
   "source": [
    "listResult['cut'][np.argmax(listResult['FPR'])]"
   ]
  },
  {
   "cell_type": "code",
   "execution_count": 119,
   "metadata": {},
   "outputs": [
    {
     "data": {
      "text/plain": [
       "array([1.        , 0.53942222, 0.659     , 0.47433333])"
      ]
     },
     "execution_count": 119,
     "metadata": {},
     "output_type": "execute_result"
    }
   ],
   "source": [
    "listResult['accuracy_4'][np.argmax(listResult['FPR'])]"
   ]
  },
  {
   "cell_type": "code",
   "execution_count": 140,
   "metadata": {},
   "outputs": [
    {
     "data": {
      "text/plain": [
       "array([0.99733333, 0.99364444, 0.94333333, 0.74933333])"
      ]
     },
     "execution_count": 140,
     "metadata": {},
     "output_type": "execute_result"
    }
   ],
   "source": [
    "listResult['accuracy_4'][np.argmin(listResult['FPR'])]"
   ]
  },
  {
   "cell_type": "code",
   "execution_count": 141,
   "metadata": {},
   "outputs": [
    {
     "data": {
      "text/plain": [
       "array([2, 0, 0, 0])"
      ]
     },
     "execution_count": 141,
     "metadata": {},
     "output_type": "execute_result"
    }
   ],
   "source": [
    "listResult['cut'][np.argmin(listResult['FPR'])]"
   ]
  },
  {
   "cell_type": "code",
   "execution_count": 92,
   "metadata": {},
   "outputs": [
    {
     "data": {
      "text/plain": [
       "array([[0.00358823],\n",
       "       [0.00274416],\n",
       "       [0.00272489],\n",
       "       [0.00274773],\n",
       "       [0.00242937],\n",
       "       [0.00988634],\n",
       "       [0.01039433],\n",
       "       [0.00900642],\n",
       "       [0.0100362 ],\n",
       "       [0.00973696],\n",
       "       [0.02253335],\n",
       "       [0.03135414],\n",
       "       [0.02714126],\n",
       "       [0.029178  ],\n",
       "       [0.03294916],\n",
       "       [0.09553758],\n",
       "       [0.11984214],\n",
       "       [0.21123303],\n",
       "       [0.15038797],\n",
       "       [0.22227444],\n",
       "       [0.93027594],\n",
       "       [0.78834793],\n",
       "       [0.84132243],\n",
       "       [0.92044068],\n",
       "       [0.83323382],\n",
       "       [0.00271564],\n",
       "       [0.00244283],\n",
       "       [0.00307713],\n",
       "       [0.00314827],\n",
       "       [0.00230423],\n",
       "       [0.00889728],\n",
       "       [0.00782899],\n",
       "       [0.00889783],\n",
       "       [0.00998004],\n",
       "       [0.01083424],\n",
       "       [0.02235911],\n",
       "       [0.02713663],\n",
       "       [0.02823977],\n",
       "       [0.02327639],\n",
       "       [0.02240195],\n",
       "       [0.10360711],\n",
       "       [0.11741762],\n",
       "       [0.07323506],\n",
       "       [0.09423533],\n",
       "       [0.11249449],\n",
       "       [0.55623881],\n",
       "       [0.62470752],\n",
       "       [0.65772064],\n",
       "       [0.93156022],\n",
       "       [0.53431739],\n",
       "       [0.0018415 ],\n",
       "       [0.00260896],\n",
       "       [0.00315003],\n",
       "       [0.00271949],\n",
       "       [0.00281285],\n",
       "       [0.00901233],\n",
       "       [0.00897341],\n",
       "       [0.00613332],\n",
       "       [0.00808101],\n",
       "       [0.01181565],\n",
       "       [0.02520671],\n",
       "       [0.02129654],\n",
       "       [0.02063752],\n",
       "       [0.02455036],\n",
       "       [0.02061199],\n",
       "       [0.08310444],\n",
       "       [0.08460611],\n",
       "       [0.08615488],\n",
       "       [0.07460488],\n",
       "       [0.14552701],\n",
       "       [0.8015239 ],\n",
       "       [0.72530782],\n",
       "       [0.50125725],\n",
       "       [0.79635473],\n",
       "       [0.63478989],\n",
       "       [0.00243797],\n",
       "       [0.00277138],\n",
       "       [0.00226969],\n",
       "       [0.00167314],\n",
       "       [0.00247277],\n",
       "       [0.0107218 ],\n",
       "       [0.00840813],\n",
       "       [0.00804836],\n",
       "       [0.01145089],\n",
       "       [0.00824378],\n",
       "       [0.02740412],\n",
       "       [0.02454828],\n",
       "       [0.02706762],\n",
       "       [0.03562604],\n",
       "       [0.02322162],\n",
       "       [0.1036834 ],\n",
       "       [0.09107925],\n",
       "       [0.11741729],\n",
       "       [0.11617426],\n",
       "       [0.10451996],\n",
       "       [0.67431927],\n",
       "       [0.69057233],\n",
       "       [0.70151596],\n",
       "       [0.65638781],\n",
       "       [0.79755584],\n",
       "       [0.0036036 ],\n",
       "       [0.00330728],\n",
       "       [0.00407237],\n",
       "       [0.00357024],\n",
       "       [0.00293774],\n",
       "       [0.0085196 ],\n",
       "       [0.01071715],\n",
       "       [0.00994759],\n",
       "       [0.00981079],\n",
       "       [0.01112039],\n",
       "       [0.04169446],\n",
       "       [0.02954826],\n",
       "       [0.02395889],\n",
       "       [0.02057723],\n",
       "       [0.02498831],\n",
       "       [0.1037717 ],\n",
       "       [0.11186429],\n",
       "       [0.15531872],\n",
       "       [0.07560332],\n",
       "       [0.17282014],\n",
       "       [0.67899092],\n",
       "       [0.46672007],\n",
       "       [0.60349893],\n",
       "       [0.81650917],\n",
       "       [0.65183307]])"
      ]
     },
     "execution_count": 92,
     "metadata": {},
     "output_type": "execute_result"
    }
   ],
   "source": [
    "listResult['FPR']"
   ]
  },
  {
   "cell_type": "code",
   "execution_count": 95,
   "metadata": {},
   "outputs": [
    {
     "data": {
      "text/plain": [
       "array([[0, 0, 0, 0],\n",
       "       [0, 0, 1, 0],\n",
       "       [0, 0, 2, 0],\n",
       "       [0, 0, 3, 0],\n",
       "       [0, 0, 4, 0],\n",
       "       [0, 1, 0, 0],\n",
       "       [0, 1, 1, 0],\n",
       "       [0, 1, 2, 0],\n",
       "       [0, 1, 3, 0],\n",
       "       [0, 1, 4, 0],\n",
       "       [0, 2, 0, 0],\n",
       "       [0, 2, 1, 0],\n",
       "       [0, 2, 2, 0],\n",
       "       [0, 2, 3, 0],\n",
       "       [0, 2, 4, 0],\n",
       "       [0, 3, 0, 0],\n",
       "       [0, 3, 1, 0],\n",
       "       [0, 3, 2, 0],\n",
       "       [0, 3, 3, 0],\n",
       "       [0, 3, 4, 0],\n",
       "       [0, 4, 0, 0],\n",
       "       [0, 4, 1, 0],\n",
       "       [0, 4, 2, 0],\n",
       "       [0, 4, 3, 0],\n",
       "       [0, 4, 4, 0],\n",
       "       [1, 0, 0, 0],\n",
       "       [1, 0, 1, 0],\n",
       "       [1, 0, 2, 0],\n",
       "       [1, 0, 3, 0],\n",
       "       [1, 0, 4, 0],\n",
       "       [1, 1, 0, 0],\n",
       "       [1, 1, 1, 0],\n",
       "       [1, 1, 2, 0],\n",
       "       [1, 1, 3, 0],\n",
       "       [1, 1, 4, 0],\n",
       "       [1, 2, 0, 0],\n",
       "       [1, 2, 1, 0],\n",
       "       [1, 2, 2, 0],\n",
       "       [1, 2, 3, 0],\n",
       "       [1, 2, 4, 0],\n",
       "       [1, 3, 0, 0],\n",
       "       [1, 3, 1, 0],\n",
       "       [1, 3, 2, 0],\n",
       "       [1, 3, 3, 0],\n",
       "       [1, 3, 4, 0],\n",
       "       [1, 4, 0, 0],\n",
       "       [1, 4, 1, 0],\n",
       "       [1, 4, 2, 0],\n",
       "       [1, 4, 3, 0],\n",
       "       [1, 4, 4, 0],\n",
       "       [2, 0, 0, 0],\n",
       "       [2, 0, 1, 0],\n",
       "       [2, 0, 2, 0],\n",
       "       [2, 0, 3, 0],\n",
       "       [2, 0, 4, 0],\n",
       "       [2, 1, 0, 0],\n",
       "       [2, 1, 1, 0],\n",
       "       [2, 1, 2, 0],\n",
       "       [2, 1, 3, 0],\n",
       "       [2, 1, 4, 0],\n",
       "       [2, 2, 0, 0],\n",
       "       [2, 2, 1, 0],\n",
       "       [2, 2, 2, 0],\n",
       "       [2, 2, 3, 0],\n",
       "       [2, 2, 4, 0],\n",
       "       [2, 3, 0, 0],\n",
       "       [2, 3, 1, 0],\n",
       "       [2, 3, 2, 0],\n",
       "       [2, 3, 3, 0],\n",
       "       [2, 3, 4, 0],\n",
       "       [2, 4, 0, 0],\n",
       "       [2, 4, 1, 0],\n",
       "       [2, 4, 2, 0],\n",
       "       [2, 4, 3, 0],\n",
       "       [2, 4, 4, 0],\n",
       "       [3, 0, 0, 0],\n",
       "       [3, 0, 1, 0],\n",
       "       [3, 0, 2, 0],\n",
       "       [3, 0, 3, 0],\n",
       "       [3, 0, 4, 0],\n",
       "       [3, 1, 0, 0],\n",
       "       [3, 1, 1, 0],\n",
       "       [3, 1, 2, 0],\n",
       "       [3, 1, 3, 0],\n",
       "       [3, 1, 4, 0],\n",
       "       [3, 2, 0, 0],\n",
       "       [3, 2, 1, 0],\n",
       "       [3, 2, 2, 0],\n",
       "       [3, 2, 3, 0],\n",
       "       [3, 2, 4, 0],\n",
       "       [3, 3, 0, 0],\n",
       "       [3, 3, 1, 0],\n",
       "       [3, 3, 2, 0],\n",
       "       [3, 3, 3, 0],\n",
       "       [3, 3, 4, 0],\n",
       "       [3, 4, 0, 0],\n",
       "       [3, 4, 1, 0],\n",
       "       [3, 4, 2, 0],\n",
       "       [3, 4, 3, 0],\n",
       "       [3, 4, 4, 0],\n",
       "       [4, 0, 0, 0],\n",
       "       [4, 0, 1, 0],\n",
       "       [4, 0, 2, 0],\n",
       "       [4, 0, 3, 0],\n",
       "       [4, 0, 4, 0],\n",
       "       [4, 1, 0, 0],\n",
       "       [4, 1, 1, 0],\n",
       "       [4, 1, 2, 0],\n",
       "       [4, 1, 3, 0],\n",
       "       [4, 1, 4, 0],\n",
       "       [4, 2, 0, 0],\n",
       "       [4, 2, 1, 0],\n",
       "       [4, 2, 2, 0],\n",
       "       [4, 2, 3, 0],\n",
       "       [4, 2, 4, 0],\n",
       "       [4, 3, 0, 0],\n",
       "       [4, 3, 1, 0],\n",
       "       [4, 3, 2, 0],\n",
       "       [4, 3, 3, 0],\n",
       "       [4, 3, 4, 0],\n",
       "       [4, 4, 0, 0],\n",
       "       [4, 4, 1, 0],\n",
       "       [4, 4, 2, 0],\n",
       "       [4, 4, 3, 0],\n",
       "       [4, 4, 4, 0]])"
      ]
     },
     "execution_count": 95,
     "metadata": {},
     "output_type": "execute_result"
    }
   ],
   "source": [
    "listResult['cut']"
   ]
  },
  {
   "cell_type": "code",
   "execution_count": null,
   "metadata": {},
   "outputs": [],
   "source": [
    "listResult['FPR'][np.argwhere()]"
   ]
  },
  {
   "cell_type": "code",
   "execution_count": 93,
   "metadata": {},
   "outputs": [
    {
     "data": {
      "text/plain": [
       "array([[0.999     , 0.95303333, 0.91975   , 0.69625   ],\n",
       "       [1.        , 0.94086667, 0.95      , 0.69725   ],\n",
       "       [0.998     , 0.95153333, 0.9175    , 0.716     ],\n",
       "       [0.999     , 0.9555    , 0.9215    , 0.71875   ],\n",
       "       [0.9995    , 0.9578    , 0.92225   , 0.6985    ],\n",
       "       [0.9995    , 0.89296667, 0.946     , 0.74725   ],\n",
       "       [1.        , 0.87213333, 0.95225   , 0.7635    ],\n",
       "       [0.9995    , 0.89996667, 0.946     , 0.76525   ],\n",
       "       [0.9995    , 0.89676667, 0.9495    , 0.78025   ],\n",
       "       [0.999     , 0.92576667, 0.94      , 0.74075   ],\n",
       "       [0.9985    , 0.7336    , 0.975     , 0.8265    ],\n",
       "       [0.9995    , 0.72283333, 0.9705    , 0.7655    ],\n",
       "       [0.9995    , 0.72543333, 0.9775    , 0.78125   ],\n",
       "       [0.999     , 0.77806667, 0.965     , 0.7505    ],\n",
       "       [0.9995    , 0.74486667, 0.96875   , 0.7785    ],\n",
       "       [0.9995    , 0.64096667, 0.96375   , 0.82125   ],\n",
       "       [0.9995    , 0.57523333, 0.96025   , 0.7525    ],\n",
       "       [0.9995    , 0.6028    , 0.93925   , 0.72875   ],\n",
       "       [1.        , 0.6148    , 0.958     , 0.77425   ],\n",
       "       [0.9995    , 0.5772    , 0.92475   , 0.762     ],\n",
       "       [1.        , 0.54093333, 0.67      , 0.47225   ],\n",
       "       [0.9995    , 0.58526667, 0.673     , 0.5105    ],\n",
       "       [0.9985    , 0.56503333, 0.7745    , 0.48025   ],\n",
       "       [0.9995    , 0.57163333, 0.5725    , 0.29475   ],\n",
       "       [1.        , 0.64996667, 0.68875   , 0.4135    ],\n",
       "       [0.999     , 0.978     , 0.932     , 0.7405    ],\n",
       "       [0.9985    , 0.9797    , 0.92375   , 0.71325   ],\n",
       "       [0.9995    , 0.98273333, 0.9215    , 0.7165    ],\n",
       "       [0.9995    , 0.97956667, 0.94175   , 0.72075   ],\n",
       "       [0.9985    , 0.98      , 0.93125   , 0.73225   ],\n",
       "       [0.998     , 0.94366667, 0.95925   , 0.81125   ],\n",
       "       [0.9995    , 0.95253333, 0.953     , 0.734     ],\n",
       "       [0.9995    , 0.92666667, 0.96      , 0.76625   ],\n",
       "       [0.999     , 0.93523333, 0.95425   , 0.78275   ],\n",
       "       [0.9995    , 0.95556667, 0.93475   , 0.753     ],\n",
       "       [0.999     , 0.7843    , 0.97375   , 0.8215    ],\n",
       "       [0.9985    , 0.80246667, 0.9705    , 0.7655    ],\n",
       "       [0.9995    , 0.80183333, 0.968     , 0.76075   ],\n",
       "       [0.9995    , 0.79666667, 0.9715    , 0.751     ],\n",
       "       [0.9995    , 0.79633333, 0.97125   , 0.7515    ],\n",
       "       [0.9995    , 0.67433333, 0.9635    , 0.824     ],\n",
       "       [0.9985    , 0.61866667, 0.975     , 0.75975   ],\n",
       "       [0.9995    , 0.71863333, 0.9585    , 0.774     ],\n",
       "       [0.999     , 0.65276667, 0.966     , 0.7175    ],\n",
       "       [0.9995    , 0.64413333, 0.96775   , 0.74475   ],\n",
       "       [0.999     , 0.63903333, 0.879     , 0.65025   ],\n",
       "       [0.9995    , 0.68423333, 0.745     , 0.60075   ],\n",
       "       [0.999     , 0.60416667, 0.81825   , 0.575     ],\n",
       "       [0.999     , 0.64976667, 0.67825   , 0.47475   ],\n",
       "       [0.999     , 0.71523333, 0.801     , 0.61875   ],\n",
       "       [0.9965    , 0.9933    , 0.92075   , 0.74575   ],\n",
       "       [0.996     , 0.99423333, 0.9145    , 0.668     ],\n",
       "       [0.9965    , 0.99153333, 0.908     , 0.69175   ],\n",
       "       [0.998     , 0.99006667, 0.914     , 0.7065    ],\n",
       "       [0.998     , 0.99226667, 0.92325   , 0.72275   ],\n",
       "       [0.997     , 0.96366667, 0.948     , 0.7815    ],\n",
       "       [0.9965    , 0.95073333, 0.958     , 0.74075   ],\n",
       "       [0.9985    , 0.94573333, 0.966     , 0.71      ],\n",
       "       [0.9965    , 0.97133333, 0.938     , 0.747     ],\n",
       "       [0.9985    , 0.9665    , 0.93225   , 0.7115    ],\n",
       "       [0.998     , 0.7489    , 0.974     , 0.81725   ],\n",
       "       [0.997     , 0.77603333, 0.973     , 0.77175   ],\n",
       "       [0.996     , 0.85336667, 0.96375   , 0.77725   ],\n",
       "       [0.9975    , 0.7621    , 0.966     , 0.76225   ],\n",
       "       [0.9975    , 0.76666667, 0.972     , 0.77075   ],\n",
       "       [0.9975    , 0.64343333, 0.9625    , 0.8005    ],\n",
       "       [0.9975    , 0.7302    , 0.942     , 0.77025   ],\n",
       "       [0.9985    , 0.716     , 0.9545    , 0.752     ],\n",
       "       [0.9965    , 0.57736667, 0.96975   , 0.77175   ],\n",
       "       [0.998     , 0.62613333, 0.9235    , 0.766     ],\n",
       "       [0.998     , 0.63823333, 0.7845    , 0.5635    ],\n",
       "       [0.996     , 0.72543333, 0.79775   , 0.51875   ],\n",
       "       [0.9975    , 0.58343333, 0.86575   , 0.67725   ],\n",
       "       [0.999     , 0.603     , 0.7695    , 0.6225    ],\n",
       "       [0.9965    , 0.5848    , 0.82675   , 0.6575    ],\n",
       "       [0.995     , 0.99346667, 0.93925   , 0.74675   ],\n",
       "       [0.993     , 0.99563333, 0.913     , 0.69775   ],\n",
       "       [0.995     , 0.9941    , 0.939     , 0.724     ],\n",
       "       [0.9965    , 0.9928    , 0.9315    , 0.694     ],\n",
       "       [0.9955    , 0.9931    , 0.9225    , 0.70575   ],\n",
       "       [0.9955    , 0.96076667, 0.94775   , 0.78175   ],\n",
       "       [0.994     , 0.97246667, 0.94625   , 0.73975   ],\n",
       "       [0.994     , 0.9575    , 0.947     , 0.74925   ],\n",
       "       [0.991     , 0.9576    , 0.91025   , 0.74475   ],\n",
       "       [0.9855    , 0.93923333, 0.953     , 0.7815    ],\n",
       "       [0.9915    , 0.79376667, 0.962     , 0.809     ],\n",
       "       [0.989     , 0.83033333, 0.959     , 0.773     ],\n",
       "       [0.9885    , 0.78006667, 0.9705    , 0.77075   ],\n",
       "       [0.9925    , 0.80013333, 0.95025   , 0.745     ],\n",
       "       [0.9945    , 0.78996667, 0.90525   , 0.77125   ],\n",
       "       [0.9945    , 0.62173333, 0.955     , 0.85075   ],\n",
       "       [0.994     , 0.63103333, 0.9355    , 0.72075   ],\n",
       "       [0.9915    , 0.61213333, 0.9595    , 0.738     ],\n",
       "       [0.9915    , 0.5836    , 0.9635    , 0.72575   ],\n",
       "       [0.9925    , 0.60913333, 0.966     , 0.74825   ],\n",
       "       [0.9905    , 0.60423333, 0.722     , 0.64      ],\n",
       "       [0.9905    , 0.57116667, 0.728     , 0.62875   ],\n",
       "       [0.991     , 0.61953333, 0.6905    , 0.59725   ],\n",
       "       [0.992     , 0.56963333, 0.773     , 0.6125    ],\n",
       "       [0.9935    , 0.56666667, 0.833     , 0.54225   ],\n",
       "       [0.988     , 0.99393333, 0.916     , 0.7685    ],\n",
       "       [0.9935    , 0.9931    , 0.92575   , 0.71575   ],\n",
       "       [0.9915    , 0.9924    , 0.9285    , 0.74925   ],\n",
       "       [0.9885    , 0.99506667, 0.9015    , 0.70075   ],\n",
       "       [0.994     , 0.99646667, 0.8925    , 0.69425   ],\n",
       "       [0.9945    , 0.96816667, 0.93825   , 0.78425   ],\n",
       "       [0.9915    , 0.96213333, 0.939     , 0.7325    ],\n",
       "       [0.9915    , 0.9423    , 0.9545    , 0.71225   ],\n",
       "       [0.988     , 0.9511    , 0.95025   , 0.76375   ],\n",
       "       [0.994     , 0.94233333, 0.9445    , 0.74575   ],\n",
       "       [0.979     , 0.74446667, 0.965     , 0.80425   ],\n",
       "       [0.992     , 0.78623333, 0.969     , 0.7205    ],\n",
       "       [0.992     , 0.82846667, 0.96825   , 0.76875   ],\n",
       "       [0.9915    , 0.80416667, 0.96425   , 0.75375   ],\n",
       "       [0.99      , 0.7787    , 0.9625    , 0.76875   ],\n",
       "       [0.9915    , 0.68593333, 0.953     , 0.8215    ],\n",
       "       [0.981     , 0.6198    , 0.95925   , 0.7235    ],\n",
       "       [0.994     , 0.6679    , 0.928     , 0.7415    ],\n",
       "       [0.9905    , 0.5602    , 0.97725   , 0.76175   ],\n",
       "       [0.9875    , 0.60643333, 0.94725   , 0.72975   ],\n",
       "       [0.988     , 0.5928    , 0.78175   , 0.5805    ],\n",
       "       [0.987     , 0.64126667, 0.84825   , 0.67525   ],\n",
       "       [0.9875    , 0.58923333, 0.8015    , 0.65975   ],\n",
       "       [0.9925    , 0.61546667, 0.70425   , 0.504     ],\n",
       "       [0.984     , 0.64626667, 0.69075   , 0.6145    ]])"
      ]
     },
     "execution_count": 93,
     "metadata": {},
     "output_type": "execute_result"
    }
   ],
   "source": [
    "listResult[\"accuracy_4\"]"
   ]
  },
  {
   "cell_type": "code",
   "execution_count": 78,
   "metadata": {},
   "outputs": [
    {
     "data": {
      "text/plain": [
       "array([[0.999     , 0.95303333, 0.91975   , 0.69625   ],\n",
       "       [1.        , 0.94086667, 0.95      , 0.69725   ],\n",
       "       [0.998     , 0.95153333, 0.9175    , 0.716     ],\n",
       "       [0.999     , 0.9555    , 0.9215    , 0.71875   ],\n",
       "       [0.9995    , 0.9578    , 0.92225   , 0.6985    ],\n",
       "       [0.9995    , 0.89296667, 0.946     , 0.74725   ],\n",
       "       [1.        , 0.87213333, 0.95225   , 0.7635    ],\n",
       "       [0.9995    , 0.89996667, 0.946     , 0.76525   ],\n",
       "       [0.9995    , 0.89676667, 0.9495    , 0.78025   ],\n",
       "       [0.999     , 0.92576667, 0.94      , 0.74075   ],\n",
       "       [0.9985    , 0.7336    , 0.975     , 0.8265    ],\n",
       "       [0.9995    , 0.72283333, 0.9705    , 0.7655    ],\n",
       "       [0.9995    , 0.72543333, 0.9775    , 0.78125   ],\n",
       "       [0.999     , 0.77806667, 0.965     , 0.7505    ],\n",
       "       [0.9995    , 0.74486667, 0.96875   , 0.7785    ],\n",
       "       [0.9995    , 0.64096667, 0.96375   , 0.82125   ],\n",
       "       [0.9995    , 0.57523333, 0.96025   , 0.7525    ],\n",
       "       [0.9995    , 0.6028    , 0.93925   , 0.72875   ],\n",
       "       [1.        , 0.6148    , 0.958     , 0.77425   ],\n",
       "       [0.9995    , 0.5772    , 0.92475   , 0.762     ],\n",
       "       [1.        , 0.54093333, 0.67      , 0.47225   ],\n",
       "       [0.9995    , 0.58526667, 0.673     , 0.5105    ],\n",
       "       [0.9985    , 0.56503333, 0.7745    , 0.48025   ],\n",
       "       [0.9995    , 0.57163333, 0.5725    , 0.29475   ],\n",
       "       [1.        , 0.64996667, 0.68875   , 0.4135    ],\n",
       "       [0.999     , 0.978     , 0.932     , 0.7405    ],\n",
       "       [0.9985    , 0.9797    , 0.92375   , 0.71325   ],\n",
       "       [0.9995    , 0.98273333, 0.9215    , 0.7165    ],\n",
       "       [0.9995    , 0.97956667, 0.94175   , 0.72075   ],\n",
       "       [0.9985    , 0.98      , 0.93125   , 0.73225   ],\n",
       "       [0.998     , 0.94366667, 0.95925   , 0.81125   ],\n",
       "       [0.9995    , 0.95253333, 0.953     , 0.734     ],\n",
       "       [0.9995    , 0.92666667, 0.96      , 0.76625   ],\n",
       "       [0.999     , 0.93523333, 0.95425   , 0.78275   ],\n",
       "       [0.9995    , 0.95556667, 0.93475   , 0.753     ],\n",
       "       [0.999     , 0.7843    , 0.97375   , 0.8215    ],\n",
       "       [0.9985    , 0.80246667, 0.9705    , 0.7655    ],\n",
       "       [0.9995    , 0.80183333, 0.968     , 0.76075   ],\n",
       "       [0.9995    , 0.79666667, 0.9715    , 0.751     ],\n",
       "       [0.9995    , 0.79633333, 0.97125   , 0.7515    ],\n",
       "       [0.9995    , 0.67433333, 0.9635    , 0.824     ],\n",
       "       [0.9985    , 0.61866667, 0.975     , 0.75975   ],\n",
       "       [0.9995    , 0.71863333, 0.9585    , 0.774     ],\n",
       "       [0.999     , 0.65276667, 0.966     , 0.7175    ],\n",
       "       [0.9995    , 0.64413333, 0.96775   , 0.74475   ],\n",
       "       [0.999     , 0.63903333, 0.879     , 0.65025   ],\n",
       "       [0.9995    , 0.68423333, 0.745     , 0.60075   ],\n",
       "       [0.999     , 0.60416667, 0.81825   , 0.575     ],\n",
       "       [0.999     , 0.64976667, 0.67825   , 0.47475   ],\n",
       "       [0.999     , 0.71523333, 0.801     , 0.61875   ],\n",
       "       [0.9965    , 0.9933    , 0.92075   , 0.74575   ],\n",
       "       [0.996     , 0.99423333, 0.9145    , 0.668     ],\n",
       "       [0.9965    , 0.99153333, 0.908     , 0.69175   ],\n",
       "       [0.998     , 0.99006667, 0.914     , 0.7065    ],\n",
       "       [0.998     , 0.99226667, 0.92325   , 0.72275   ],\n",
       "       [0.997     , 0.96366667, 0.948     , 0.7815    ],\n",
       "       [0.9965    , 0.95073333, 0.958     , 0.74075   ],\n",
       "       [0.9985    , 0.94573333, 0.966     , 0.71      ],\n",
       "       [0.9965    , 0.97133333, 0.938     , 0.747     ],\n",
       "       [0.9985    , 0.9665    , 0.93225   , 0.7115    ],\n",
       "       [0.998     , 0.7489    , 0.974     , 0.81725   ],\n",
       "       [0.997     , 0.77603333, 0.973     , 0.77175   ],\n",
       "       [0.996     , 0.85336667, 0.96375   , 0.77725   ],\n",
       "       [0.9975    , 0.7621    , 0.966     , 0.76225   ],\n",
       "       [0.9975    , 0.76666667, 0.972     , 0.77075   ],\n",
       "       [0.9975    , 0.64343333, 0.9625    , 0.8005    ],\n",
       "       [0.9975    , 0.7302    , 0.942     , 0.77025   ],\n",
       "       [0.9985    , 0.716     , 0.9545    , 0.752     ],\n",
       "       [0.9965    , 0.57736667, 0.96975   , 0.77175   ],\n",
       "       [0.998     , 0.62613333, 0.9235    , 0.766     ],\n",
       "       [0.998     , 0.63823333, 0.7845    , 0.5635    ],\n",
       "       [0.996     , 0.72543333, 0.79775   , 0.51875   ],\n",
       "       [0.9975    , 0.58343333, 0.86575   , 0.67725   ],\n",
       "       [0.999     , 0.603     , 0.7695    , 0.6225    ],\n",
       "       [0.9965    , 0.5848    , 0.82675   , 0.6575    ],\n",
       "       [0.995     , 0.99346667, 0.93925   , 0.74675   ],\n",
       "       [0.993     , 0.99563333, 0.913     , 0.69775   ],\n",
       "       [0.995     , 0.9941    , 0.939     , 0.724     ],\n",
       "       [0.9965    , 0.9928    , 0.9315    , 0.694     ],\n",
       "       [0.9955    , 0.9931    , 0.9225    , 0.70575   ],\n",
       "       [0.9955    , 0.96076667, 0.94775   , 0.78175   ],\n",
       "       [0.994     , 0.97246667, 0.94625   , 0.73975   ],\n",
       "       [0.994     , 0.9575    , 0.947     , 0.74925   ],\n",
       "       [0.991     , 0.9576    , 0.91025   , 0.74475   ],\n",
       "       [0.9855    , 0.93923333, 0.953     , 0.7815    ],\n",
       "       [0.9915    , 0.79376667, 0.962     , 0.809     ],\n",
       "       [0.989     , 0.83033333, 0.959     , 0.773     ],\n",
       "       [0.9885    , 0.78006667, 0.9705    , 0.77075   ],\n",
       "       [0.9925    , 0.80013333, 0.95025   , 0.745     ],\n",
       "       [0.9945    , 0.78996667, 0.90525   , 0.77125   ],\n",
       "       [0.9945    , 0.62173333, 0.955     , 0.85075   ],\n",
       "       [0.994     , 0.63103333, 0.9355    , 0.72075   ],\n",
       "       [0.9915    , 0.61213333, 0.9595    , 0.738     ],\n",
       "       [0.9915    , 0.5836    , 0.9635    , 0.72575   ],\n",
       "       [0.9925    , 0.60913333, 0.966     , 0.74825   ],\n",
       "       [0.9905    , 0.60423333, 0.722     , 0.64      ],\n",
       "       [0.9905    , 0.57116667, 0.728     , 0.62875   ],\n",
       "       [0.991     , 0.61953333, 0.6905    , 0.59725   ],\n",
       "       [0.992     , 0.56963333, 0.773     , 0.6125    ],\n",
       "       [0.9935    , 0.56666667, 0.833     , 0.54225   ],\n",
       "       [0.988     , 0.99393333, 0.916     , 0.7685    ],\n",
       "       [0.9935    , 0.9931    , 0.92575   , 0.71575   ],\n",
       "       [0.9915    , 0.9924    , 0.9285    , 0.74925   ],\n",
       "       [0.9885    , 0.99506667, 0.9015    , 0.70075   ],\n",
       "       [0.994     , 0.99646667, 0.8925    , 0.69425   ],\n",
       "       [0.9945    , 0.96816667, 0.93825   , 0.78425   ],\n",
       "       [0.9915    , 0.96213333, 0.939     , 0.7325    ],\n",
       "       [0.9915    , 0.9423    , 0.9545    , 0.71225   ],\n",
       "       [0.988     , 0.9511    , 0.95025   , 0.76375   ],\n",
       "       [0.994     , 0.94233333, 0.9445    , 0.74575   ],\n",
       "       [0.979     , 0.74446667, 0.965     , 0.80425   ],\n",
       "       [0.992     , 0.78623333, 0.969     , 0.7205    ],\n",
       "       [0.992     , 0.82846667, 0.96825   , 0.76875   ],\n",
       "       [0.9915    , 0.80416667, 0.96425   , 0.75375   ],\n",
       "       [0.99      , 0.7787    , 0.9625    , 0.76875   ],\n",
       "       [0.9915    , 0.68593333, 0.953     , 0.8215    ],\n",
       "       [0.981     , 0.6198    , 0.95925   , 0.7235    ],\n",
       "       [0.994     , 0.6679    , 0.928     , 0.7415    ],\n",
       "       [0.9905    , 0.5602    , 0.97725   , 0.76175   ],\n",
       "       [0.9875    , 0.60643333, 0.94725   , 0.72975   ],\n",
       "       [0.988     , 0.5928    , 0.78175   , 0.5805    ],\n",
       "       [0.987     , 0.64126667, 0.84825   , 0.67525   ],\n",
       "       [0.9875    , 0.58923333, 0.8015    , 0.65975   ],\n",
       "       [0.9925    , 0.61546667, 0.70425   , 0.504     ],\n",
       "       [0.984     , 0.64626667, 0.69075   , 0.6145    ]])"
      ]
     },
     "execution_count": 78,
     "metadata": {},
     "output_type": "execute_result"
    }
   ],
   "source": [
    "listResult[\"accuracy_4\"]"
   ]
  },
  {
   "cell_type": "code",
   "execution_count": 89,
   "metadata": {},
   "outputs": [
    {
     "data": {
      "text/plain": [
       "{'glitch': array([0.0024 , 0.00215, 0.0019 , 0.00165, 0.0014 ]),\n",
       " 'noise': array([0.0026 , 0.00235, 0.0021 , 0.00185, 0.0016 ]),\n",
       " 'bbh': array([0.0024 , 0.00215, 0.0019 , 0.00165, 0.0014 ]),\n",
       " 'sg': array([0.0032, 0.0026, 0.002 , 0.0014, 0.0008])}"
      ]
     },
     "execution_count": 89,
     "metadata": {},
     "output_type": "execute_result"
    }
   ],
   "source": [
    "cutList"
   ]
  },
  {
   "cell_type": "code",
   "execution_count": 178,
   "metadata": {},
   "outputs": [
    {
     "data": {
      "text/plain": [
       "Text(0, 0.5, 'percentage')"
      ]
     },
     "execution_count": 178,
     "metadata": {},
     "output_type": "execute_result"
    },
    {
     "data": {
      "image/png": "[encoded data removed]",
      "text/plain": [
       "<Figure size 640x480 with 1 Axes>"
      ]
     },
     "metadata": {},
     "output_type": "display_data"
    }
   ],
   "source": [
    "foo = np.array([ [0.01*A, np.sum(np.all(listResult[\"accuracy_4\"] >= 0.01*A, axis=1))/len(listResult[\"accuracy_4\"])] for A in range(101)])\n",
    "plt.plot(foo[:, 0], foo[:, 1])\n",
    "plt.title('4-class accuracy')\n",
    "plt.xlabel('minimal accuracy larger than...')\n",
    "plt.ylabel('percentage')"
   ]
  },
  {
   "cell_type": "code",
   "execution_count": 81,
   "metadata": {},
   "outputs": [
    {
     "data": {
      "text/plain": [
       "Text(0, 0.5, 'percentage')"
      ]
     },
     "execution_count": 81,
     "metadata": {},
     "output_type": "execute_result"
    },
    {
     "data": {
      "image/png": "[encoded data removed]",
      "text/plain": [
       "<Figure size 640x480 with 1 Axes>"
      ]
     },
     "metadata": {},
     "output_type": "display_data"
    }
   ],
   "source": [
    "foo = np.array([ [0.01*A, np.sum(np.all(listResult[\"accuracy_4\"] >= 0.01*A, axis=1))/len(listResult[\"accuracy_4\"])] for A in range(101)])\n",
    "plt.plot(foo[:, 0], foo[:, 1])\n",
    "plt.title('4-class accuracy')\n",
    "plt.xlabel('minimal accuracy larger than...')\n",
    "plt.ylabel('percentage')"
   ]
  },
  {
   "cell_type": "code",
   "execution_count": 83,
   "metadata": {},
   "outputs": [
    {
     "data": {
      "text/plain": [
       "array([[0.998     , 0.94366667, 0.95925   , 0.81125   ]])"
      ]
     },
     "execution_count": 83,
     "metadata": {},
     "output_type": "execute_result"
    }
   ],
   "source": [
    "listResult[\"accuracy_4\"][np.argwhere(np.all(listResult[\"accuracy_4\"]>0.8, axis=1)).flatten()]"
   ]
  },
  {
   "cell_type": "code",
   "execution_count": 180,
   "metadata": {},
   "outputs": [],
   "source": [
    "listResult[\"total_accuracy\"] = np.sum(listResult[\"ans\"]==correct_ans, axis=1)/len(testset)"
   ]
  },
  {
   "cell_type": "markdown",
   "metadata": {},
   "source": [
    "### Below is the analysis for the most accuracy "
   ]
  },
  {
   "cell_type": "code",
   "execution_count": 184,
   "metadata": {},
   "outputs": [
    {
     "data": {
      "text/plain": [
       "0.9654666666666667"
      ]
     },
     "execution_count": 184,
     "metadata": {},
     "output_type": "execute_result"
    }
   ],
   "source": [
    "listResult[\"total_accuracy\"].max()"
   ]
  },
  {
   "cell_type": "code",
   "execution_count": 181,
   "metadata": {},
   "outputs": [
    {
     "data": {
      "text/plain": [
       "array([[4, 0, 0, 0]])"
      ]
     },
     "execution_count": 181,
     "metadata": {},
     "output_type": "execute_result"
    }
   ],
   "source": [
    "listResult[\"cut\"][np.argmax(listResult[\"total_accuracy\"]).flatten()]"
   ]
  },
  {
   "cell_type": "code",
   "execution_count": 242,
   "metadata": {},
   "outputs": [
    {
     "data": {
      "text/plain": [
       "array([23], dtype=int64)"
      ]
     },
     "execution_count": 242,
     "metadata": {},
     "output_type": "execute_result"
    }
   ],
   "source": [
    "np.argmax(listResult[\"total_accuracy\"]).flatten()"
   ]
  },
  {
   "cell_type": "code",
   "execution_count": 182,
   "metadata": {},
   "outputs": [
    {
     "data": {
      "text/plain": [
       "array([[0.99466667, 0.9952    , 0.927     , 0.76633333]])"
      ]
     },
     "execution_count": 182,
     "metadata": {},
     "output_type": "execute_result"
    }
   ],
   "source": [
    "listResult[\"accuracy_4\"][np.argmax(listResult[\"total_accuracy\"]).flatten()]"
   ]
  },
  {
   "cell_type": "code",
   "execution_count": null,
   "metadata": {},
   "outputs": [],
   "source": [
    "models = torch.load(\"../Data_cached/SequentialTraining/WSL/trained_model\" + \"\".join(str(ic[j]) for j in range(3)) + \"_\"+version+\".json\")"
   ]
  },
  {
   "cell_type": "code",
   "execution_count": 197,
   "metadata": {},
   "outputs": [
    {
     "data": {
      "image/png": "[encoded data removed]",
      "text/plain": [
       "<Figure size 640x480 with 1 Axes>"
      ]
     },
     "metadata": {},
     "output_type": "display_data"
    },
    {
     "data": {
      "image/png": "[encoded data removed]",
      "text/plain": [
       "<Figure size 640x480 with 1 Axes>"
      ]
     },
     "metadata": {},
     "output_type": "display_data"
    },
    {
     "data": {
      "image/png": "[encoded data removed]",
      "text/plain": [
       "<Figure size 640x480 with 1 Axes>"
      ]
     },
     "metadata": {},
     "output_type": "display_data"
    },
    {
     "data": {
      "image/png": "[encoded data removed]",
      "text/plain": [
       "<Figure size 640x480 with 1 Axes>"
      ]
     },
     "metadata": {},
     "output_type": "display_data"
    },
    {
     "data": {
      "image/png": "[encoded data removed]",
      "text/plain": [
       "<Figure size 640x480 with 1 Axes>"
      ]
     },
     "metadata": {},
     "output_type": "display_data"
    },
    {
     "data": {
      "image/png": "[encoded data removed]",
      "text/plain": [
       "<Figure size 640x480 with 1 Axes>"
      ]
     },
     "metadata": {},
     "output_type": "display_data"
    }
   ],
   "source": [
    "dcd = {};\n",
    "err = {};\n",
    "ans = np.zeros(len(testset), dtype=\"int\")\n",
    "\n",
    "ic = [4,0,0,0]\n",
    "\n",
    "\n",
    "models = torch.load(\"../Data_cached/SequentialTraining/WSL/trained_model\" + \"\".join(str(ic[j]) for j in range(3)) + \"_\"+version+\".json\")\n",
    "\n",
    "for datatype in list_datatype:\n",
    "    if datatype == 'sg':\n",
    "        dcd[datatype] = models[datatype](torch.FloatTensor(testset))[1].detach().numpy()\n",
    "        err[datatype] = np.var(testset-dcd[datatype], axis=1)\n",
    "    else:\n",
    "        dcd[datatype] = nn.Sigmoid()(models[datatype + \"_WSC\"](torch.FloatTensor(testset))).detach().numpy().reshape(-1)\n",
    "    \n",
    "not_select = np.array([True]*len(testset));\n",
    "\n",
    "for iStep in range(len(list_datatype)-1):\n",
    "    datatype = ind2datatype[iStep];\n",
    "    if datatype == 'sg':\n",
    "        ind_pass = np.logical_and(not_select, err[datatype] <= cutList[datatype][ic[iStep]]);\n",
    "    else:\n",
    "        ind_pass = np.logical_and(not_select, dcd[datatype] <= 0.5);\n",
    "        \n",
    "    # if datatype == 'noise':\n",
    "    #     ind_pass_fprcalc = np.logical_and(not_select, dcd[datatype] <= np.sort(dcd[datatype][-N_wsl['bbh']-N_wsl['sg']:])[int(0.1 * (N_wsl['bbh']+N_wsl['sg']))])\n",
    "        # ind_pass = np.logical_and(not_select, err[datatype] <= np.sort(err[datatype][-N_wsl['bbh']-N_wsl['sg']:])[int(0.1 * (N_wsl['bbh']+N_wsl['sg']))])\n",
    "        # noise_number = np.sum(np.logical_and(not_select, correct_ans == 1))\n",
    "        # passed_noise_number = noise_number - np.sum(np.logical_and(ind_pass_fprcalc, correct_ans == 1))\n",
    "        # listResult['FPR'][cnt] = passed_noise_number / noise_number\n",
    "        # print('For cnt = {}, totally {} noise events passed the glitch WSL, and {} noise events within the threshold for TPR=0.9'.format(cnt, noise_number, passed_noise_number))\n",
    "    \n",
    "    plotting_set= {}\n",
    "    \n",
    "    plotting_set['glitch'] = testset[np.logical_and(not_select, correct_ans == 0)]\n",
    "    plotting_set['noise'] = testset[np.logical_and(not_select, correct_ans == 1)]\n",
    "    plotting_set['bbh'] = testset[np.logical_and(not_select, correct_ans == 2)]\n",
    "    plotting_set['sg'] = testset[np.logical_and(not_select, correct_ans == 3)]\n",
    "    \n",
    "    # AE plotting\n",
    "    \n",
    "    for j in range(iStep, 4):\n",
    "        \n",
    "        type = ind2datatype[j]\n",
    "    \n",
    "        dcd_ae = models[datatype](torch.FloatTensor(plotting_set[type]))[1].detach().numpy()\n",
    "        err_ae = np.var(plotting_set[type]-dcd_ae, axis=1)\n",
    "    \n",
    "        foo = plt.hist(err_ae, histtype=\"step\", range=(0, 0.01), bins=50, density=True, label=type)\n",
    "    # foo = plt.hist(np.var(glitch_fft-dcd_glitch, axis=1), histtype=\"step\", range=(0, 0.01), bins=50, density=True, label=\"glitch\")\n",
    "    plt.title(\"AE trained with \" + datatype + \", not for cut\")\n",
    "    plt.axvline(cutList[datatype][ic[iStep]], color=\"k\", linestyle=\"--\")\n",
    "    # plt.axvline(np.sort(np.var(bbh_filtered-dcd_bbh, axis=1))[int(0.1 * len(bbh_filtered))], color = 'k', linestyle = '--')\n",
    "    plt.legend()\n",
    "    plt.ylim(0,2000)\n",
    "    plt.show()\n",
    "    \n",
    "    # WSC plotting\n",
    "    \n",
    "    for j in range(iStep,4):\n",
    "        \n",
    "        type = ind2datatype[j]\n",
    "    \n",
    "    \n",
    "        dcd_wsc = nn.Sigmoid()(models[datatype + \"_WSC\"](torch.FloatTensor(plotting_set[type]))).detach().numpy()\n",
    "\n",
    "        foo = plt.hist(dcd_wsc, histtype=\"step\", range=(-0.1, 1.1), bins=50, density=True, label=type)\n",
    "    # foo = plt.hist(np.var(glitch_fft-dcd_glitch, axis=1), histtype=\"step\", range=(0, 0.01), bins=50, density=True, label=\"glitch\")\n",
    "    plt.title(\"WSC trained with \" + datatype)\n",
    "    plt.axvline(0.5, color=\"k\", linestyle=\"--\")\n",
    "    # plt.axvline(np.sort(np.var(bbh_filtered-dcd_bbh, axis=1))[int(0.1 * len(bbh_filtered))], color = 'k', linestyle = '--')\n",
    "    plt.legend()\n",
    "    # plt.ylim(0,2000)\n",
    "    plt.show()\n",
    "    \n",
    "    ans[ind_pass] = iStep;\n",
    "    not_select[ind_pass] = False;\n",
    "    \n",
    "ans[not_select] = -1;"
   ]
  },
  {
   "cell_type": "code",
   "execution_count": 205,
   "metadata": {},
   "outputs": [
    {
     "name": "stdout",
     "output_type": "stream",
     "text": [
      "3193\n",
      "2781\n",
      "0.8709677419354839\n"
     ]
    }
   ],
   "source": [
    "flag = 2\n",
    "\n",
    "print(np.sum(ans == flag))\n",
    "print(np.sum(np.logical_and(ans == flag, correct_ans == flag)))\n",
    "print(np.sum(np.logical_and(ans == flag, correct_ans == flag)) / np.sum(ans == flag))"
   ]
  },
  {
   "cell_type": "code",
   "execution_count": null,
   "metadata": {},
   "outputs": [],
   "source": [
    "np.sum(ans == 0)"
   ]
  },
  {
   "cell_type": "code",
   "execution_count": 187,
   "metadata": {},
   "outputs": [
    {
     "data": {
      "text/plain": [
       "{0: 'glitch', 1: 'noise', 2: 'bbh', 3: 'sg'}"
      ]
     },
     "execution_count": 187,
     "metadata": {},
     "output_type": "execute_result"
    }
   ],
   "source": [
    "ind2datatype"
   ]
  },
  {
   "cell_type": "markdown",
   "metadata": {},
   "source": [
    "### Below is the analysis for the most balanced accuracy "
   ]
  },
  {
   "cell_type": "code",
   "execution_count": 179,
   "metadata": {},
   "outputs": [
    {
     "data": {
      "text/plain": [
       "array([[1, 1, 0, 0]])"
      ]
     },
     "execution_count": 179,
     "metadata": {},
     "output_type": "execute_result"
    }
   ],
   "source": [
    "listResult[\"cut\"][np.argwhere(np.all(listResult[\"accuracy_4\"]>0.8, axis=1)).flatten()]"
   ]
  },
  {
   "cell_type": "code",
   "execution_count": 183,
   "metadata": {},
   "outputs": [
    {
     "data": {
      "text/plain": [
       "array([[0.99933333, 0.94342222, 0.96733333, 0.80966667]])"
      ]
     },
     "execution_count": 183,
     "metadata": {},
     "output_type": "execute_result"
    }
   ],
   "source": [
    "listResult[\"accuracy_4\"][np.argwhere(np.all(listResult[\"accuracy_4\"]>0.8, axis=1)).flatten()]"
   ]
  },
  {
   "cell_type": "code",
   "execution_count": 94,
   "metadata": {},
   "outputs": [
    {
     "data": {
      "text/plain": [
       "array([[0.00889728]])"
      ]
     },
     "execution_count": 94,
     "metadata": {},
     "output_type": "execute_result"
    }
   ],
   "source": [
    "listResult[\"FPR\"][np.argwhere(np.all(listResult[\"accuracy_4\"]>0.8, axis=1)).flatten()]"
   ]
  },
  {
   "cell_type": "code",
   "execution_count": 209,
   "metadata": {},
   "outputs": [
    {
     "name": "stdout",
     "output_type": "stream",
     "text": [
      "(1500, 202)\n"
     ]
    },
    {
     "data": {
      "image/png": "[encoded data removed]",
      "text/plain": [
       "<Figure size 640x480 with 1 Axes>"
      ]
     },
     "metadata": {},
     "output_type": "display_data"
    },
    {
     "name": "stdout",
     "output_type": "stream",
     "text": [
      "6.3194386e-07\n",
      "0.0006726528\n",
      "0.114714034\n",
      "0.031452436\n"
     ]
    },
    {
     "data": {
      "image/png": "[encoded data removed]",
      "text/plain": [
       "<Figure size 640x480 with 1 Axes>"
      ]
     },
     "metadata": {},
     "output_type": "display_data"
    },
    {
     "name": "stdout",
     "output_type": "stream",
     "text": [
      "(1, 202)\n"
     ]
    },
    {
     "data": {
      "image/png": "[encoded data removed]",
      "text/plain": [
       "<Figure size 640x480 with 1 Axes>"
      ]
     },
     "metadata": {},
     "output_type": "display_data"
    },
    {
     "name": "stdout",
     "output_type": "stream",
     "text": [
      "6.01449e-05\n",
      "0.003197677\n",
      "0.015284974\n"
     ]
    },
    {
     "data": {
      "image/png": "[encoded data removed]",
      "text/plain": [
       "<Figure size 640x480 with 1 Axes>"
      ]
     },
     "metadata": {},
     "output_type": "display_data"
    },
    {
     "name": "stdout",
     "output_type": "stream",
     "text": [
      "(1, 202)\n"
     ]
    },
    {
     "data": {
      "image/png": "[encoded data removed]",
      "text/plain": [
       "<Figure size 640x480 with 1 Axes>"
      ]
     },
     "metadata": {},
     "output_type": "display_data"
    },
    {
     "name": "stdout",
     "output_type": "stream",
     "text": [
      "2.1962258e-07\n",
      "4.5052416e-06\n"
     ]
    },
    {
     "data": {
      "image/png": "[encoded data removed]",
      "text/plain": [
       "<Figure size 640x480 with 1 Axes>"
      ]
     },
     "metadata": {},
     "output_type": "display_data"
    }
   ],
   "source": [
    "dcd = {};\n",
    "err = {};\n",
    "ans = np.zeros(len(testset), dtype=\"int\")\n",
    "\n",
    "ic = [1,1,0,0]\n",
    "\n",
    "\n",
    "models = torch.load(\"../Data_cached/SequentialTraining/WSL/trained_model\" + \"\".join(str(ic[j]) for j in range(3)) + \"_\"+version+\".json\")\n",
    "\n",
    "for datatype in list_datatype:\n",
    "    if datatype == 'sg':\n",
    "        dcd[datatype] = models[datatype](torch.FloatTensor(testset))[1].detach().numpy()\n",
    "        err[datatype] = np.var(testset-dcd[datatype], axis=1)\n",
    "    else:\n",
    "        dcd[datatype] = nn.Sigmoid()(models[datatype + \"_WSC\"](torch.FloatTensor(testset))).detach().numpy().reshape(-1)\n",
    "    \n",
    "not_select = np.array([True]*len(testset));\n",
    "\n",
    "for iStep in range(len(list_datatype)-1):\n",
    "    datatype = ind2datatype[iStep];\n",
    "    if datatype == 'sg':\n",
    "        ind_pass = np.logical_and(not_select, err[datatype] <= cutList[datatype][ic[iStep]]);\n",
    "    else:\n",
    "        ind_pass = np.logical_and(not_select, dcd[datatype] <= 0.5);\n",
    "        \n",
    "    # if datatype == 'noise':\n",
    "    #     ind_pass_fprcalc = np.logical_and(not_select, dcd[datatype] <= np.sort(dcd[datatype][-N_wsl['bbh']-N_wsl['sg']:])[int(0.1 * (N_wsl['bbh']+N_wsl['sg']))])\n",
    "        # ind_pass = np.logical_and(not_select, err[datatype] <= np.sort(err[datatype][-N_wsl['bbh']-N_wsl['sg']:])[int(0.1 * (N_wsl['bbh']+N_wsl['sg']))])\n",
    "        # noise_number = np.sum(np.logical_and(not_select, correct_ans == 1))\n",
    "        # passed_noise_number = noise_number - np.sum(np.logical_and(ind_pass_fprcalc, correct_ans == 1))\n",
    "        # listResult['FPR'][cnt] = passed_noise_number / noise_number\n",
    "        # print('For cnt = {}, totally {} noise events passed the glitch WSL, and {} noise events within the threshold for TPR=0.9'.format(cnt, noise_number, passed_noise_number))\n",
    "    \n",
    "    plotting_set= {}\n",
    "    \n",
    "    plotting_set['glitch'] = testset[np.logical_and(not_select, correct_ans == 0)]\n",
    "    plotting_set['noise'] = testset[np.logical_and(not_select, correct_ans == 1)]\n",
    "    plotting_set['bbh'] = testset[np.logical_and(not_select, correct_ans == 2)]\n",
    "    plotting_set['sg'] = testset[np.logical_and(not_select, correct_ans == 3)]\n",
    "    print(plotting_set['glitch'].shape)\n",
    "    \n",
    "    # AE plotting\n",
    "    \n",
    "    for j in range(iStep, 4):\n",
    "        \n",
    "        type = ind2datatype[j]\n",
    "    \n",
    "        dcd_ae = models[datatype](torch.FloatTensor(plotting_set[type]))[1].detach().numpy()\n",
    "        err_ae = np.var(plotting_set[type]-dcd_ae, axis=1)\n",
    "    \n",
    "        foo = plt.hist(err_ae, histtype=\"step\", range=(0, 0.01), bins=50, density=True, label=type)\n",
    "    # foo = plt.hist(np.var(glitch_fft-dcd_glitch, axis=1), histtype=\"step\", range=(0, 0.01), bins=50, density=True, label=\"glitch\")\n",
    "    plt.title(\"AE trained with \" + datatype + \", not for cut\")\n",
    "    plt.axvline(cutList[datatype][ic[iStep]], color=\"k\", linestyle=\"--\")\n",
    "    # plt.axvline(np.sort(np.var(bbh_filtered-dcd_bbh, axis=1))[int(0.1 * len(bbh_filtered))], color = 'k', linestyle = '--')\n",
    "    plt.legend()\n",
    "    plt.ylim(0,2000)\n",
    "    plt.show()\n",
    "    \n",
    "    # WSC plotting\n",
    "    \n",
    "    for j in range(iStep,4):\n",
    "        \n",
    "        type = ind2datatype[j]\n",
    "    \n",
    "    \n",
    "        dcd_wsc = nn.Sigmoid()(models[datatype + \"_WSC\"](torch.FloatTensor(plotting_set[type]))).detach().numpy()\n",
    "\n",
    "        foo = plt.hist(dcd_wsc, histtype=\"step\", range=(-0.1, 1.1), bins=50, density=True, label=type)\n",
    "        \n",
    "        print(dcd_wsc.min())\n",
    "    # foo = plt.hist(np.var(glitch_fft-dcd_glitch, axis=1), histtype=\"step\", range=(0, 0.01), bins=50, density=True, label=\"glitch\")\n",
    "    plt.title(\"WSC trained with \" + datatype)\n",
    "    plt.axvline(0.5, color=\"k\", linestyle=\"--\")\n",
    "    # plt.axvline(np.sort(np.var(bbh_filtered-dcd_bbh, axis=1))[int(0.1 * len(bbh_filtered))], color = 'k', linestyle = '--')\n",
    "    plt.legend()\n",
    "    # plt.ylim(0,2000)\n",
    "    plt.show()\n",
    "    \n",
    "    ans[ind_pass] = iStep;\n",
    "    not_select[ind_pass] = False;\n",
    "    \n",
    "ans[not_select] = -1;"
   ]
  },
  {
   "cell_type": "code",
   "execution_count": 211,
   "metadata": {},
   "outputs": [
    {
     "name": "stdout",
     "output_type": "stream",
     "text": [
      "3491\n",
      "2902\n",
      "0.831280435405328\n"
     ]
    }
   ],
   "source": [
    "flag = 2\n",
    "\n",
    "print(np.sum(ans == flag))\n",
    "print(np.sum(np.logical_and(ans == flag, correct_ans == flag)))\n",
    "print(np.sum(np.logical_and(ans == flag, correct_ans == flag)) / np.sum(ans == flag))"
   ]
  },
  {
   "cell_type": "markdown",
   "metadata": {},
   "source": [
    "### Below is the analysis for the least TPR"
   ]
  },
  {
   "cell_type": "code",
   "execution_count": 185,
   "metadata": {},
   "outputs": [
    {
     "data": {
      "text/plain": [
       "array([[2, 0, 0, 0]])"
      ]
     },
     "execution_count": 185,
     "metadata": {},
     "output_type": "execute_result"
    }
   ],
   "source": [
    "listResult[\"cut\"][np.argmin(listResult[\"FPR\"]).flatten()]"
   ]
  },
  {
   "cell_type": "code",
   "execution_count": 221,
   "metadata": {},
   "outputs": [
    {
     "data": {
      "text/plain": [
       "array([[0.99733333, 0.99364444, 0.94333333, 0.74933333]])"
      ]
     },
     "execution_count": 221,
     "metadata": {},
     "output_type": "execute_result"
    }
   ],
   "source": [
    "listResult[\"accuracy_4\"][np.argmin(listResult[\"FPR\"]).flatten()]"
   ]
  },
  {
   "cell_type": "code",
   "execution_count": 213,
   "metadata": {},
   "outputs": [
    {
     "data": {
      "text/plain": [
       "0.0012943539388529347"
      ]
     },
     "execution_count": 213,
     "metadata": {},
     "output_type": "execute_result"
    }
   ],
   "source": [
    "listResult[\"FPR\"].min()"
   ]
  },
  {
   "cell_type": "code",
   "execution_count": 219,
   "metadata": {},
   "outputs": [
    {
     "name": "stdout",
     "output_type": "stream",
     "text": [
      "(1500, 202)\n"
     ]
    },
    {
     "data": {
      "image/png": "[encoded data removed]",
      "text/plain": [
       "<Figure size 640x480 with 1 Axes>"
      ]
     },
     "metadata": {},
     "output_type": "display_data"
    },
    {
     "name": "stdout",
     "output_type": "stream",
     "text": [
      "1.848859e-07\n",
      "2.4323588e-05\n",
      "0.1328285\n",
      "0.023303123\n"
     ]
    },
    {
     "data": {
      "image/png": "[encoded data removed]",
      "text/plain": [
       "<Figure size 640x480 with 1 Axes>"
      ]
     },
     "metadata": {},
     "output_type": "display_data"
    },
    {
     "name": "stdout",
     "output_type": "stream",
     "text": [
      "For cnt = 125, totally 22405 noise events passed the glitch WSL, and 29 noise events within the threshold for TPR=0.9\n",
      "(4, 202)\n"
     ]
    },
    {
     "data": {
      "image/png": "[encoded data removed]",
      "text/plain": [
       "<Figure size 640x480 with 1 Axes>"
      ]
     },
     "metadata": {},
     "output_type": "display_data"
    },
    {
     "name": "stdout",
     "output_type": "stream",
     "text": [
      "3.383567e-06\n",
      "0.0010596163\n",
      "0.0007986854\n"
     ]
    },
    {
     "data": {
      "image/png": "[encoded data removed]",
      "text/plain": [
       "<Figure size 640x480 with 1 Axes>"
      ]
     },
     "metadata": {},
     "output_type": "display_data"
    },
    {
     "name": "stdout",
     "output_type": "stream",
     "text": [
      "(2, 202)\n"
     ]
    },
    {
     "data": {
      "image/png": "[encoded data removed]",
      "text/plain": [
       "<Figure size 640x480 with 1 Axes>"
      ]
     },
     "metadata": {},
     "output_type": "display_data"
    },
    {
     "name": "stdout",
     "output_type": "stream",
     "text": [
      "4.0121744e-08\n",
      "9.435539e-07\n"
     ]
    },
    {
     "data": {
      "image/png": "[encoded data removed]",
      "text/plain": [
       "<Figure size 640x480 with 1 Axes>"
      ]
     },
     "metadata": {},
     "output_type": "display_data"
    }
   ],
   "source": [
    "dcd = {};\n",
    "err = {};\n",
    "ans = np.zeros(len(testset), dtype=\"int\")\n",
    "\n",
    "ic = [2,0,0,0]\n",
    "\n",
    "\n",
    "models = torch.load(\"../Data_cached/SequentialTraining/WSL/trained_model\" + \"\".join(str(ic[j]) for j in range(3)) + \"_\"+version+\".json\")\n",
    "\n",
    "for datatype in list_datatype:\n",
    "    if datatype == 'sg':\n",
    "        dcd[datatype] = models[datatype](torch.FloatTensor(testset))[1].detach().numpy()\n",
    "        err[datatype] = np.var(testset-dcd[datatype], axis=1)\n",
    "    else:\n",
    "        dcd[datatype] = nn.Sigmoid()(models[datatype + \"_WSC\"](torch.FloatTensor(testset))).detach().numpy().reshape(-1)\n",
    "    \n",
    "not_select = np.array([True]*len(testset));\n",
    "\n",
    "for iStep in range(len(list_datatype)-1):\n",
    "    datatype = ind2datatype[iStep];\n",
    "    if datatype == 'sg':\n",
    "        ind_pass = np.logical_and(not_select, err[datatype] <= cutList[datatype][ic[iStep]]);\n",
    "    else:\n",
    "        ind_pass = np.logical_and(not_select, dcd[datatype] <= 0.5);\n",
    "        \n",
    "    if datatype == 'noise':\n",
    "        threshold = np.sort(dcd[datatype][-N_wsl['bbh']-N_wsl['sg']:])[int(0.1 * (N_wsl['bbh']+N_wsl['sg']))]\n",
    "        ind_pass_fprcalc = np.logical_and(not_select, dcd[datatype] <= np.sort(dcd[datatype][-N_wsl['bbh']-N_wsl['sg']:])[int(0.1 * (N_wsl['bbh']+N_wsl['sg']))])\n",
    "        # ind_pass = np.logical_and(not_select, err[datatype] <= np.sort(err[datatype][-N_wsl['bbh']-N_wsl['sg']:])[int(0.1 * (N_wsl['bbh']+N_wsl['sg']))])\n",
    "        noise_number = np.sum(np.logical_and(not_select, correct_ans == 1))\n",
    "        passed_noise_number = noise_number - np.sum(np.logical_and(ind_pass_fprcalc, correct_ans == 1))\n",
    "        # listResult['FPR'][cnt] = passed_noise_number / noise_number\n",
    "        print('For cnt = {}, totally {} noise events passed the glitch WSL, and {} noise events within the threshold for TPR=0.9'.format(cnt, noise_number, passed_noise_number))\n",
    "    \n",
    "    plotting_set= {}\n",
    "    \n",
    "    plotting_set['glitch'] = testset[np.logical_and(not_select, correct_ans == 0)]\n",
    "    plotting_set['noise'] = testset[np.logical_and(not_select, correct_ans == 1)]\n",
    "    plotting_set['bbh'] = testset[np.logical_and(not_select, correct_ans == 2)]\n",
    "    plotting_set['sg'] = testset[np.logical_and(not_select, correct_ans == 3)]\n",
    "    print(plotting_set['glitch'].shape)\n",
    "    \n",
    "    # AE plotting\n",
    "    \n",
    "    for j in range(iStep, 4):\n",
    "        \n",
    "        type = ind2datatype[j]\n",
    "    \n",
    "        dcd_ae = models[datatype](torch.FloatTensor(plotting_set[type]))[1].detach().numpy()\n",
    "        err_ae = np.var(plotting_set[type]-dcd_ae, axis=1)\n",
    "    \n",
    "        foo = plt.hist(err_ae, histtype=\"step\", range=(0, 0.01), bins=50, density=True, label=type)\n",
    "    # foo = plt.hist(np.var(glitch_fft-dcd_glitch, axis=1), histtype=\"step\", range=(0, 0.01), bins=50, density=True, label=\"glitch\")\n",
    "    plt.title(\"AE trained with \" + datatype + \", not for cut\")\n",
    "    plt.axvline(cutList[datatype][ic[iStep]], color=\"k\", linestyle=\"--\")\n",
    "    # plt.axvline(np.sort(np.var(bbh_filtered-dcd_bbh, axis=1))[int(0.1 * len(bbh_filtered))], color = 'k', linestyle = '--')\n",
    "    plt.legend()\n",
    "    plt.ylim(0,2000)\n",
    "    plt.show()\n",
    "    \n",
    "    # WSC plotting\n",
    "    \n",
    "    for j in range(iStep,4):\n",
    "        \n",
    "        type = ind2datatype[j]\n",
    "    \n",
    "    \n",
    "        dcd_wsc = nn.Sigmoid()(models[datatype + \"_WSC\"](torch.FloatTensor(plotting_set[type]))).detach().numpy()\n",
    "\n",
    "        foo = plt.hist(dcd_wsc, histtype=\"step\", range=(-0.1, 1.1), bins=50, density=True, label=type)\n",
    "        \n",
    "        print(dcd_wsc.min())\n",
    "        \n",
    "        if iStep == 1 and j == 1:\n",
    "            plt.axvline(threshold, color = 'k', linestyle = '--')\n",
    "        \n",
    "    # foo = plt.hist(np.var(glitch_fft-dcd_glitch, axis=1), histtype=\"step\", range=(0, 0.01), bins=50, density=True, label=\"glitch\")\n",
    "    plt.title(\"WSC trained with \" + datatype)\n",
    "    # plt.axvline(, color=\"k\", linestyle=\"--\")\n",
    "    # plt.axvline(np.sort(np.var(bbh_filtered-dcd_bbh, axis=1))[int(0.1 * len(bbh_filtered))], color = 'k', linestyle = '--')\n",
    "    plt.legend()\n",
    "    # plt.ylim(0,2000)\n",
    "    plt.show()\n",
    "    \n",
    "    ans[ind_pass] = iStep;\n",
    "    not_select[ind_pass] = False;\n",
    "    \n",
    "ans[not_select] = -1;"
   ]
  },
  {
   "cell_type": "code",
   "execution_count": 222,
   "metadata": {},
   "outputs": [
    {
     "name": "stdout",
     "output_type": "stream",
     "text": [
      "22856\n",
      "22357\n",
      "0.9781676583829192\n"
     ]
    }
   ],
   "source": [
    "flag = 1\n",
    "\n",
    "print(np.sum(ans == flag))\n",
    "print(np.sum(np.logical_and(ans == flag, correct_ans == flag)))\n",
    "print(np.sum(np.logical_and(ans == flag, correct_ans == flag)) / np.sum(ans == flag))"
   ]
  },
  {
   "cell_type": "code",
   "execution_count": 82,
   "metadata": {},
   "outputs": [
    {
     "data": {
      "text/plain": [
       "Text(0, 0.5, 'percentage')"
      ]
     },
     "execution_count": 82,
     "metadata": {},
     "output_type": "execute_result"
    },
    {
     "data": {
      "image/png": "[encoded data removed]",
      "text/plain": [
       "<Figure size 640x480 with 1 Axes>"
      ]
     },
     "metadata": {},
     "output_type": "display_data"
    }
   ],
   "source": [
    "foo = np.array([ [0.01*A, np.sum(np.all(listResult[\"accuracy_2\"] >= 0.01*A, axis=1))/len(listResult[\"accuracy_2\"])] for A in range(101)])\n",
    "plt.plot(foo[:, 0], foo[:, 1])\n",
    "plt.title('2-class accuracy')\n",
    "plt.xlabel('minimal accuracy larger than...')\n",
    "plt.ylabel('percentage')"
   ]
  },
  {
   "cell_type": "code",
   "execution_count": 84,
   "metadata": {},
   "outputs": [],
   "source": [
    "listResult[\"total_accuracy\"] = np.sum(listResult[\"ans\"]==correct_ans, axis=1)/len(testset)"
   ]
  },
  {
   "cell_type": "code",
   "execution_count": 87,
   "metadata": {},
   "outputs": [
    {
     "data": {
      "text/plain": [
       "0.96345"
      ]
     },
     "execution_count": 87,
     "metadata": {},
     "output_type": "execute_result"
    }
   ],
   "source": [
    "listResult['total_accuracy'].max()"
   ]
  },
  {
   "cell_type": "code",
   "execution_count": 88,
   "metadata": {},
   "outputs": [
    {
     "data": {
      "text/plain": [
       "array([[0.999     , 0.95303333, 0.91975   , 0.69625   ]])"
      ]
     },
     "execution_count": 88,
     "metadata": {},
     "output_type": "execute_result"
    }
   ],
   "source": [
    "listResult[\"accuracy_4\"][np.argmax(listResult[\"accuracy_4\"]>0.8).flatten()]"
   ]
  },
  {
   "cell_type": "code",
   "execution_count": null,
   "metadata": {},
   "outputs": [],
   "source": []
  },
  {
   "cell_type": "code",
   "execution_count": 66,
   "metadata": {},
   "outputs": [
    {
     "data": {
      "text/plain": [
       "array([[83]], dtype=int64)"
      ]
     },
     "execution_count": 66,
     "metadata": {},
     "output_type": "execute_result"
    }
   ],
   "source": [
    "np.argwhere(np.all(np.array(list(itertools.product(np.arange(Ncut), np.arange(Ncut), np.arange(Ncut)))) == np.array([3,1,3]), axis = 1))"
   ]
  },
  {
   "cell_type": "code",
   "execution_count": 62,
   "metadata": {},
   "outputs": [
    {
     "data": {
      "text/plain": [
       "array([[0, 0, 0],\n",
       "       [0, 0, 1],\n",
       "       [0, 0, 2],\n",
       "       [0, 0, 3],\n",
       "       [0, 0, 4],\n",
       "       [0, 1, 0],\n",
       "       [0, 1, 1],\n",
       "       [0, 1, 2],\n",
       "       [0, 1, 3],\n",
       "       [0, 1, 4],\n",
       "       [0, 2, 0],\n",
       "       [0, 2, 1],\n",
       "       [0, 2, 2],\n",
       "       [0, 2, 3],\n",
       "       [0, 2, 4],\n",
       "       [0, 3, 0],\n",
       "       [0, 3, 1],\n",
       "       [0, 3, 2],\n",
       "       [0, 3, 3],\n",
       "       [0, 3, 4],\n",
       "       [0, 4, 0],\n",
       "       [0, 4, 1],\n",
       "       [0, 4, 2],\n",
       "       [0, 4, 3],\n",
       "       [0, 4, 4],\n",
       "       [1, 0, 0],\n",
       "       [1, 0, 1],\n",
       "       [1, 0, 2],\n",
       "       [1, 0, 3],\n",
       "       [1, 0, 4],\n",
       "       [1, 1, 0],\n",
       "       [1, 1, 1],\n",
       "       [1, 1, 2],\n",
       "       [1, 1, 3],\n",
       "       [1, 1, 4],\n",
       "       [1, 2, 0],\n",
       "       [1, 2, 1],\n",
       "       [1, 2, 2],\n",
       "       [1, 2, 3],\n",
       "       [1, 2, 4],\n",
       "       [1, 3, 0],\n",
       "       [1, 3, 1],\n",
       "       [1, 3, 2],\n",
       "       [1, 3, 3],\n",
       "       [1, 3, 4],\n",
       "       [1, 4, 0],\n",
       "       [1, 4, 1],\n",
       "       [1, 4, 2],\n",
       "       [1, 4, 3],\n",
       "       [1, 4, 4],\n",
       "       [2, 0, 0],\n",
       "       [2, 0, 1],\n",
       "       [2, 0, 2],\n",
       "       [2, 0, 3],\n",
       "       [2, 0, 4],\n",
       "       [2, 1, 0],\n",
       "       [2, 1, 1],\n",
       "       [2, 1, 2],\n",
       "       [2, 1, 3],\n",
       "       [2, 1, 4],\n",
       "       [2, 2, 0],\n",
       "       [2, 2, 1],\n",
       "       [2, 2, 2],\n",
       "       [2, 2, 3],\n",
       "       [2, 2, 4],\n",
       "       [2, 3, 0],\n",
       "       [2, 3, 1],\n",
       "       [2, 3, 2],\n",
       "       [2, 3, 3],\n",
       "       [2, 3, 4],\n",
       "       [2, 4, 0],\n",
       "       [2, 4, 1],\n",
       "       [2, 4, 2],\n",
       "       [2, 4, 3],\n",
       "       [2, 4, 4],\n",
       "       [3, 0, 0],\n",
       "       [3, 0, 1],\n",
       "       [3, 0, 2],\n",
       "       [3, 0, 3],\n",
       "       [3, 0, 4],\n",
       "       [3, 1, 0],\n",
       "       [3, 1, 1],\n",
       "       [3, 1, 2],\n",
       "       [3, 1, 3],\n",
       "       [3, 1, 4],\n",
       "       [3, 2, 0],\n",
       "       [3, 2, 1],\n",
       "       [3, 2, 2],\n",
       "       [3, 2, 3],\n",
       "       [3, 2, 4],\n",
       "       [3, 3, 0],\n",
       "       [3, 3, 1],\n",
       "       [3, 3, 2],\n",
       "       [3, 3, 3],\n",
       "       [3, 3, 4],\n",
       "       [3, 4, 0],\n",
       "       [3, 4, 1],\n",
       "       [3, 4, 2],\n",
       "       [3, 4, 3],\n",
       "       [3, 4, 4],\n",
       "       [4, 0, 0],\n",
       "       [4, 0, 1],\n",
       "       [4, 0, 2],\n",
       "       [4, 0, 3],\n",
       "       [4, 0, 4],\n",
       "       [4, 1, 0],\n",
       "       [4, 1, 1],\n",
       "       [4, 1, 2],\n",
       "       [4, 1, 3],\n",
       "       [4, 1, 4],\n",
       "       [4, 2, 0],\n",
       "       [4, 2, 1],\n",
       "       [4, 2, 2],\n",
       "       [4, 2, 3],\n",
       "       [4, 2, 4],\n",
       "       [4, 3, 0],\n",
       "       [4, 3, 1],\n",
       "       [4, 3, 2],\n",
       "       [4, 3, 3],\n",
       "       [4, 3, 4],\n",
       "       [4, 4, 0],\n",
       "       [4, 4, 1],\n",
       "       [4, 4, 2],\n",
       "       [4, 4, 3],\n",
       "       [4, 4, 4]])"
      ]
     },
     "execution_count": 62,
     "metadata": {},
     "output_type": "execute_result"
    }
   ],
   "source": [
    "np.array(list(itertools.product(np.arange(Ncut), np.arange(Ncut), np.arange(Ncut))))"
   ]
  },
  {
   "cell_type": "code",
   "execution_count": 73,
   "metadata": {},
   "outputs": [
    {
     "data": {
      "text/plain": [
       "array([4, 4, 4, 4])"
      ]
     },
     "execution_count": 73,
     "metadata": {},
     "output_type": "execute_result"
    }
   ],
   "source": [
    "ic"
   ]
  },
  {
   "cell_type": "code",
   "execution_count": 49,
   "metadata": {},
   "outputs": [
    {
     "data": {
      "text/plain": [
       "{'glitch': array([0.0024 , 0.00215, 0.0019 , 0.00165, 0.0014 ]),\n",
       " 'noise': array([0.0026 , 0.00235, 0.0021 , 0.00185, 0.0016 ]),\n",
       " 'bbh': array([0.0024 , 0.00215, 0.0019 , 0.00165, 0.0014 ]),\n",
       " 'sg': array([0.0032, 0.0026, 0.002 , 0.0014, 0.0008])}"
      ]
     },
     "execution_count": 49,
     "metadata": {},
     "output_type": "execute_result"
    }
   ],
   "source": [
    "cutList"
   ]
  },
  {
   "cell_type": "code",
   "execution_count": null,
   "metadata": {},
   "outputs": [],
   "source": []
  }
 ],
 "metadata": {
  "kernelspec": {
   "display_name": "Python 3 (ipykernel)",
   "language": "python",
   "name": "python3"
  }
 },
 "nbformat": 4,
 "nbformat_minor": 2
}
