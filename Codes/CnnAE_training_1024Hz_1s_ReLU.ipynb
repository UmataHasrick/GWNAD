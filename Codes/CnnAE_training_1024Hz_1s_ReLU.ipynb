{
 "cells": [
  {
   "cell_type": "code",
   "execution_count": 1,
   "metadata": {},
   "outputs": [],
   "source": [
    "import torch\n",
    "from torch.utils.data import DataLoader\n",
    "from torch.utils.data import TensorDataset\n",
    "from torch import nn, optim\n",
    "import scipy.io as sio\n",
    "import numpy as np\n",
    "import matplotlib.pyplot as plt\n",
    "import pandas as pd\n",
    "import datetime\n",
    "import os\n",
    "import readligo as rl"
   ]
  },
  {
   "cell_type": "code",
   "execution_count": 2,
   "metadata": {},
   "outputs": [],
   "source": [
    "epochs = 200\n",
    "test_sample_ratio = .2\n",
    "input_vector_length = 1024\n",
    "batch_size = 32\n",
    "num_bins = 40\n",
    "\n",
    "input_dir = \"/Volumes/Research/GWNMMAD_data/Downsampled/V1/\"\n",
    "input_file_list = [\"H-H1_GWOSC_O2_4KHZ_R1-1174978560-4096_downsampled\", \"L-L1_GWOSC_O2_4KHZ_R1-1187291136-4096_downsampled\", \"V-V1_GWOSC_O2_4KHZ_R1-1187688448-4096_downsampled\"]\n",
    "\n",
    "input_file = input_file_list[1]\n",
    "\n",
    "output_dir  = \"/Volumes/Research/GWNMMAD_data/Model/\""
   ]
  },
  {
   "cell_type": "code",
   "execution_count": 3,
   "metadata": {},
   "outputs": [],
   "source": [
    "class AutoEncoder(nn.Module):\n",
    "    def __init__(self):\n",
    "        super(AutoEncoder, self).__init__()\n",
    "        # Encoder layers\n",
    "        self.encoder = nn.Sequential(\n",
    "            nn.Conv1d(1, 256, kernel_size=3, stride=1, padding=1),\n",
    "            nn.ReLU(True),\n",
    "            nn.Conv1d(256, 128, kernel_size=3, stride=1, padding=1),\n",
    "            nn.ReLU(True)\n",
    "        )\n",
    "\n",
    "        # Decoder layers\n",
    "        self.decoder = nn.Sequential(\n",
    "            nn.ConvTranspose1d(128, 256, kernel_size=3, stride=1, padding=1),\n",
    "            nn.ReLU(True),\n",
    "            nn.ConvTranspose1d(256, 1, kernel_size=3, stride=1, padding=1),\n",
    "            nn.Sigmoid()\n",
    "        )\n",
    "\n",
    "    def forward(self, x):\n",
    "        x = x.unsqueeze(1)\n",
    "        encoded = self.encoder(x)\n",
    "        decoded = self.decoder(encoded)\n",
    "        return encoded, decoded"
   ]
  },
  {
   "cell_type": "code",
   "execution_count": 4,
   "metadata": {},
   "outputs": [],
   "source": [
    "class Autoencoder(nn.Module):\n",
    "    def __init__(self):\n",
    "        super(Autoencoder, self).__init__()\n",
    "        \n",
    "        # 编码器\n",
    "        self.encoder = nn.Sequential(\n",
    "            nn.Conv1d(1, 256, kernel_size=3, padding=1),\n",
    "            nn.ReLU(),\n",
    "            nn.MaxPool1d(kernel_size=2, padding=0),\n",
    "            nn.Conv1d(256, 128, kernel_size=3, padding=1),\n",
    "            nn.ReLU(),\n",
    "        )\n",
    "        \n",
    "        # 解码器\n",
    "        self.decoder = nn.Sequential(\n",
    "            nn.Conv1d(128, 256, kernel_size=3, padding=1),\n",
    "            nn.ReLU(),\n",
    "            nn.Upsample(scale_factor=2,mode='nearest'),\n",
    "            nn.Conv1d(256, 1, kernel_size=3, padding=1),\n",
    "            nn.Sigmoid()\n",
    "        )\n",
    "    \n",
    "    def forward(self, x):\n",
    "        encoded = self.encoder(x)\n",
    "        decoded = self.decoder(encoded)\n",
    "        return encoded, decoded"
   ]
  },
  {
   "cell_type": "code",
   "execution_count": 5,
   "metadata": {},
   "outputs": [],
   "source": [
    "def min_max_normalization(v):\n",
    "    v_flattened = v.flatten()\n",
    "    coef = max(v_flattened)-min(v_flattened)\n",
    "    minimal = min(v_flattened)\n",
    "    v_normalized = (v.copy() - minimal) / coef\n",
    "    return v_normalized, minimal, coef"
   ]
  },
  {
   "cell_type": "code",
   "execution_count": 6,
   "metadata": {},
   "outputs": [],
   "source": [
    "def bunch_min_max_normalization(v_set):\n",
    "    recover_min = list(range(len(v_set)))\n",
    "    recover_coef = list(range(len(v_set)))\n",
    "    v_set_normalized = np.zeros((v_set.shape[0], v_set.shape[1]))\n",
    "    for i in range(len(v_set)):\n",
    "        v_set_normalized[i], recover_min[i], recover_coef[i] = min_max_normalization(v_set[i])\n",
    "    return v_set_normalized, recover_min, recover_coef"
   ]
  },
  {
   "cell_type": "code",
   "execution_count": 7,
   "metadata": {},
   "outputs": [],
   "source": [
    "def normal_distribution_normalization(v):\n",
    "    v_flattened = v.flatten()\n",
    "    sigma = np.std(v_flattened)\n",
    "    mean = v_flattened.mean()\n",
    "    v_normalized = (v.copy()-mean) / sigma\n",
    "    return v_normalized, mean, sigma"
   ]
  },
  {
   "cell_type": "code",
   "execution_count": 8,
   "metadata": {},
   "outputs": [],
   "source": [
    "def bunch_standardization(v_set):\n",
    "    recover_min = list(range(len(v_set)))\n",
    "    recover_coef = list(range(len(v_set)))\n",
    "    v_set_normalized = np.zeros((v_set.shape[0], v_set.shape[1]))\n",
    "    for i in range(len(v_set)):\n",
    "        v_set_normalized[i], recover_min[i], recover_coef[i] = normal_distribution_normalization(v_set[i])\n",
    "    return v_set_normalized, recover_min, recover_coef"
   ]
  },
  {
   "cell_type": "code",
   "execution_count": 9,
   "metadata": {},
   "outputs": [],
   "source": [
    "def normalize(v):\n",
    "    norm = np.linalg.norm(v)\n",
    "    junk = 0\n",
    "    if norm == 0: \n",
    "       return v, junk, norm\n",
    "    return v / norm, junk, norm"
   ]
  },
  {
   "cell_type": "code",
   "execution_count": 10,
   "metadata": {},
   "outputs": [],
   "source": [
    "def bunch_normalization(v_set):\n",
    "    recover_min = list(range(len(v_set)))\n",
    "    recover_coef = list(range(len(v_set)))\n",
    "    v_set_normalized = np.zeros((v_set.shape[0], v_set.shape[1]))\n",
    "    for i in range(len(v_set)):\n",
    "        v_set_normalized[i], recover_min[i], recover_coef[i] = normalize(v_set[i])\n",
    "    return v_set_normalized, recover_min, recover_coef"
   ]
  },
  {
   "cell_type": "code",
   "execution_count": 12,
   "metadata": {},
   "outputs": [],
   "source": [
    "data = np.load(\"/Volumes/Research/GWNMMAD_data/Train_Data/LIGO_noise_data_downsampled_whitened_bandpassed.npy\").reshape(-1, 1024)\n",
    "data_for_training_and_testing = data"
   ]
  },
  {
   "cell_type": "code",
   "execution_count": 7,
   "metadata": {},
   "outputs": [],
   "source": [
    "data = np.load(\"D://OneDrive - HKUST Connect/Research/GWNMMAD/Data_cached/LIGO_noise_data_downsampled_whitened_bandpassed.npy\").reshape(-1, 1024)\n",
    "data_for_training_and_testing = data"
   ]
  },
  {
   "cell_type": "code",
   "execution_count": 13,
   "metadata": {},
   "outputs": [],
   "source": [
    "total_sample_number = data_for_training_and_testing.shape[0]\n",
    "test_sample_number = int(test_sample_ratio * total_sample_number)\n",
    "train_sample_number = total_sample_number-test_sample_number\n",
    "\n",
    "\n",
    "X_train_ini = data_for_training_and_testing[0:train_sample_number-1].copy()\n",
    "X_test_ini = data_for_training_and_testing[-test_sample_number:].copy()\n",
    "\n",
    "X_train, X_train_recover_min, X_train_recover_coef = bunch_normalization(X_train_ini)\n",
    "X_test, X_test_recover_min, X_test_recover_coef = bunch_normalization(X_test_ini)"
   ]
  },
  {
   "cell_type": "code",
   "execution_count": 39,
   "metadata": {},
   "outputs": [],
   "source": [
    "trainData = torch.FloatTensor(X_train)\n",
    "testData = torch.FloatTensor(X_test)"
   ]
  },
  {
   "cell_type": "code",
   "execution_count": 40,
   "metadata": {},
   "outputs": [
    {
     "name": "stdout",
     "output_type": "stream",
     "text": [
      "Epoch: 0001, Training loss=0.00097659\n",
      "Epoch: 0002, Training loss=0.00097648\n",
      "Epoch: 0003, Training loss=0.00097653\n",
      "Epoch: 0004, Training loss=0.00097656\n",
      "Epoch: 0005, Training loss=0.00097653\n",
      "Epoch: 0006, Training loss=0.00097656\n",
      "Epoch: 0007, Training loss=0.00097658\n",
      "Epoch: 0008, Training loss=0.00097656\n",
      "Epoch: 0009, Training loss=0.00097659\n",
      "Epoch: 0010, Training loss=0.00097657\n",
      "Epoch: 0011, Training loss=0.00097653\n",
      "Epoch: 0012, Training loss=0.00097654\n",
      "Epoch: 0013, Training loss=0.00097656\n",
      "Epoch: 0014, Training loss=0.00097655\n",
      "Epoch: 0015, Training loss=0.00097655\n",
      "Epoch: 0016, Training loss=0.00097658\n",
      "Epoch: 0017, Training loss=0.00097658\n",
      "Epoch: 0018, Training loss=0.00097654\n",
      "Epoch: 0019, Training loss=0.00097655\n",
      "Epoch: 0020, Training loss=0.00097659\n",
      "Epoch: 0021, Training loss=0.00097657\n",
      "Epoch: 0022, Training loss=0.00097659\n",
      "Epoch: 0023, Training loss=0.00097655\n",
      "Epoch: 0024, Training loss=0.00097659\n",
      "Epoch: 0025, Training loss=0.00097652\n",
      "Epoch: 0026, Training loss=0.00097649\n",
      "Epoch: 0027, Training loss=0.00097665\n",
      "Epoch: 0028, Training loss=0.00097662\n",
      "Epoch: 0029, Training loss=0.00097660\n",
      "Epoch: 0030, Training loss=0.00097662\n",
      "Epoch: 0031, Training loss=0.00097650\n",
      "Epoch: 0032, Training loss=0.00097665\n",
      "Epoch: 0033, Training loss=0.00097638\n",
      "Epoch: 0034, Training loss=0.00097655\n",
      "Epoch: 0035, Training loss=0.00097656\n",
      "Epoch: 0036, Training loss=0.00097656\n",
      "Epoch: 0037, Training loss=0.00097656\n",
      "Epoch: 0038, Training loss=0.00097656\n",
      "Epoch: 0039, Training loss=0.00097656\n",
      "Epoch: 0040, Training loss=0.00097656\n",
      "Epoch: 0041, Training loss=0.00097656\n",
      "Epoch: 0042, Training loss=0.00097656\n",
      "Epoch: 0043, Training loss=0.00097656\n",
      "Epoch: 0044, Training loss=0.00097656\n",
      "Epoch: 0045, Training loss=0.00097656\n",
      "Epoch: 0046, Training loss=0.00097656\n",
      "Epoch: 0047, Training loss=0.00097656\n",
      "Epoch: 0048, Training loss=0.00097656\n",
      "Epoch: 0049, Training loss=0.00097656\n",
      "Epoch: 0050, Training loss=0.00097656\n",
      "Epoch: 0051, Training loss=0.00097656\n",
      "Epoch: 0052, Training loss=0.00097656\n",
      "Epoch: 0053, Training loss=0.00097656\n",
      "Epoch: 0054, Training loss=0.00097656\n",
      "Epoch: 0055, Training loss=0.00097656\n",
      "Epoch: 0056, Training loss=0.00097656\n",
      "Epoch: 0057, Training loss=0.00097656\n",
      "Epoch: 0058, Training loss=0.00097656\n",
      "Epoch: 0059, Training loss=0.00097656\n",
      "Epoch: 0060, Training loss=0.00097656\n",
      "Epoch: 0061, Training loss=0.00097656\n",
      "Epoch: 0062, Training loss=0.00097656\n",
      "Epoch: 0063, Training loss=0.00097656\n",
      "Epoch: 0064, Training loss=0.00097656\n",
      "Epoch: 0065, Training loss=0.00097656\n",
      "Epoch: 0066, Training loss=0.00097656\n",
      "Epoch: 0067, Training loss=0.00097656\n",
      "Epoch: 0068, Training loss=0.00097656\n",
      "Epoch: 0069, Training loss=0.00097656\n",
      "Epoch: 0070, Training loss=0.00097656\n",
      "Epoch: 0071, Training loss=0.00097656\n",
      "Epoch: 0072, Training loss=0.00097656\n",
      "Epoch: 0073, Training loss=0.00097656\n",
      "Epoch: 0074, Training loss=0.00097656\n",
      "Epoch: 0075, Training loss=0.00097656\n",
      "Epoch: 0076, Training loss=0.00097656\n",
      "Epoch: 0077, Training loss=0.00097656\n",
      "Epoch: 0078, Training loss=0.00097656\n",
      "Epoch: 0079, Training loss=0.00097656\n",
      "Epoch: 0080, Training loss=0.00097656\n",
      "Epoch: 0081, Training loss=0.00097656\n",
      "Epoch: 0082, Training loss=0.00097656\n",
      "Epoch: 0083, Training loss=0.00097656\n",
      "Epoch: 0084, Training loss=0.00097656\n",
      "Epoch: 0085, Training loss=0.00097656\n",
      "Epoch: 0086, Training loss=0.00097656\n",
      "Epoch: 0087, Training loss=0.00097656\n",
      "Epoch: 0088, Training loss=0.00097656\n",
      "Epoch: 0089, Training loss=0.00097656\n",
      "Epoch: 0090, Training loss=0.00097656\n",
      "Epoch: 0091, Training loss=0.00097656\n",
      "Epoch: 0092, Training loss=0.00097656\n",
      "Epoch: 0093, Training loss=0.00097656\n",
      "Epoch: 0094, Training loss=0.00097656\n",
      "Epoch: 0095, Training loss=0.00097656\n",
      "Epoch: 0096, Training loss=0.00097656\n",
      "Epoch: 0097, Training loss=0.00097656\n",
      "Epoch: 0098, Training loss=0.00097656\n",
      "Epoch: 0099, Training loss=0.00097656\n",
      "Epoch: 0100, Training loss=0.00097656\n",
      "Epoch: 0101, Training loss=0.00097656\n",
      "Epoch: 0102, Training loss=0.00097656\n",
      "Epoch: 0103, Training loss=0.00097656\n",
      "Epoch: 0104, Training loss=0.00097656\n",
      "Epoch: 0105, Training loss=0.00097656\n",
      "Epoch: 0106, Training loss=0.00097656\n",
      "Epoch: 0107, Training loss=0.00097656\n",
      "Epoch: 0108, Training loss=0.00097656\n",
      "Epoch: 0109, Training loss=0.00097656\n",
      "Epoch: 0110, Training loss=0.00097656\n",
      "Epoch: 0111, Training loss=0.00097656\n",
      "Epoch: 0112, Training loss=0.00097656\n",
      "Epoch: 0113, Training loss=0.00097656\n",
      "Epoch: 0114, Training loss=0.00097656\n",
      "Epoch: 0115, Training loss=0.00097656\n",
      "Epoch: 0116, Training loss=0.00097656\n",
      "Epoch: 0117, Training loss=0.00097656\n",
      "Epoch: 0118, Training loss=0.00097656\n",
      "Epoch: 0119, Training loss=0.00097656\n",
      "Epoch: 0120, Training loss=0.00097656\n",
      "Epoch: 0121, Training loss=0.00097656\n",
      "Epoch: 0122, Training loss=0.00097656\n",
      "Epoch: 0123, Training loss=0.00097656\n",
      "Epoch: 0124, Training loss=0.00097656\n",
      "Epoch: 0125, Training loss=0.00097656\n",
      "Epoch: 0126, Training loss=0.00097656\n",
      "Epoch: 0127, Training loss=0.00097656\n",
      "Epoch: 0128, Training loss=0.00097656\n",
      "Epoch: 0129, Training loss=0.00097656\n",
      "Epoch: 0130, Training loss=0.00097656\n",
      "Epoch: 0131, Training loss=0.00097656\n",
      "Epoch: 0132, Training loss=0.00097656\n",
      "Epoch: 0133, Training loss=0.00097656\n",
      "Epoch: 0134, Training loss=0.00097656\n",
      "Epoch: 0135, Training loss=0.00097656\n",
      "Epoch: 0136, Training loss=0.00097656\n",
      "Epoch: 0137, Training loss=0.00097656\n",
      "Epoch: 0138, Training loss=0.00097656\n",
      "Epoch: 0139, Training loss=0.00097656\n",
      "Epoch: 0140, Training loss=0.00097656\n",
      "Epoch: 0141, Training loss=0.00097656\n",
      "Epoch: 0142, Training loss=0.00097656\n",
      "Epoch: 0143, Training loss=0.00097656\n",
      "Epoch: 0144, Training loss=0.00097656\n",
      "Epoch: 0145, Training loss=0.00097656\n",
      "Epoch: 0146, Training loss=0.00097656\n",
      "Epoch: 0147, Training loss=0.00097656\n",
      "Epoch: 0148, Training loss=0.00097656\n",
      "Epoch: 0149, Training loss=0.00097656\n",
      "Epoch: 0150, Training loss=0.00097656\n",
      "Epoch: 0151, Training loss=0.00097656\n",
      "Epoch: 0152, Training loss=0.00097656\n",
      "Epoch: 0153, Training loss=0.00097656\n",
      "Epoch: 0154, Training loss=0.00097656\n",
      "Epoch: 0155, Training loss=0.00097656\n",
      "Epoch: 0156, Training loss=0.00097656\n",
      "Epoch: 0157, Training loss=0.00097656\n",
      "Epoch: 0158, Training loss=0.00097656\n",
      "Epoch: 0159, Training loss=0.00097656\n",
      "Epoch: 0160, Training loss=0.00097656\n",
      "Epoch: 0161, Training loss=0.00097656\n",
      "Epoch: 0162, Training loss=0.00097656\n",
      "Epoch: 0163, Training loss=0.00097656\n",
      "Epoch: 0164, Training loss=0.00097656\n",
      "Epoch: 0165, Training loss=0.00097656\n",
      "Epoch: 0166, Training loss=0.00097656\n",
      "Epoch: 0167, Training loss=0.00097656\n",
      "Epoch: 0168, Training loss=0.00097656\n",
      "Epoch: 0169, Training loss=0.00097656\n",
      "Epoch: 0170, Training loss=0.00097656\n",
      "Epoch: 0171, Training loss=0.00097656\n",
      "Epoch: 0172, Training loss=0.00097656\n",
      "Epoch: 0173, Training loss=0.00097656\n",
      "Epoch: 0174, Training loss=0.00097656\n",
      "Epoch: 0175, Training loss=0.00097656\n",
      "Epoch: 0176, Training loss=0.00097656\n",
      "Epoch: 0177, Training loss=0.00097656\n",
      "Epoch: 0178, Training loss=0.00097656\n",
      "Epoch: 0179, Training loss=0.00097656\n",
      "Epoch: 0180, Training loss=0.00097656\n",
      "Epoch: 0181, Training loss=0.00097656\n",
      "Epoch: 0182, Training loss=0.00097656\n",
      "Epoch: 0183, Training loss=0.00097656\n",
      "Epoch: 0184, Training loss=0.00097656\n",
      "Epoch: 0185, Training loss=0.00097656\n",
      "Epoch: 0186, Training loss=0.00097656\n",
      "Epoch: 0187, Training loss=0.00097656\n",
      "Epoch: 0188, Training loss=0.00097656\n",
      "Epoch: 0189, Training loss=0.00097656\n",
      "Epoch: 0190, Training loss=0.00097656\n",
      "Epoch: 0191, Training loss=0.00097656\n",
      "Epoch: 0192, Training loss=0.00097656\n",
      "Epoch: 0193, Training loss=0.00097656\n",
      "Epoch: 0194, Training loss=0.00097656\n",
      "Epoch: 0195, Training loss=0.00097656\n",
      "Epoch: 0196, Training loss=0.00097656\n",
      "Epoch: 0197, Training loss=0.00097656\n",
      "Epoch: 0198, Training loss=0.00097656\n",
      "Epoch: 0199, Training loss=0.00097656\n",
      "Epoch: 0200, Training loss=0.00097656\n"
     ]
    }
   ],
   "source": [
    "train_dataset = TensorDataset(trainData, trainData)\n",
    "test_dataset = TensorDataset(testData, testData)\n",
    "trainDataLoader = DataLoader(dataset=train_dataset, batch_size=batch_size, shuffle=True)\n",
    "\n",
    "\n",
    "autoencoder = Autoencoder().cuda()\n",
    "optimizer = optim.Adam(autoencoder.parameters(), lr=0.0005)\n",
    "loss_func = nn.MSELoss().cuda()\n",
    "loss_train = np.zeros((epochs, 1))\n",
    "\n",
    "\n",
    "for epoch in range(epochs):\n",
    "    for batchidx, (x, _) in enumerate(trainDataLoader):\n",
    "        x = x.unsqueeze(1).cuda()\n",
    "        encoded, decoded = autoencoder(x)\n",
    "        loss = loss_func(decoded, x) \n",
    "        optimizer.zero_grad()\n",
    "        loss.backward()\n",
    "        optimizer.step()\n",
    "           \n",
    "    loss_train[epoch,0] = loss.item()  \n",
    "    print('Epoch: %04d, Training loss=%.8f' %\n",
    "          (epoch+1, loss.item()))"
   ]
  },
  {
   "cell_type": "code",
   "execution_count": 19,
   "metadata": {},
   "outputs": [
    {
     "data": {
      "text/plain": [
       "torch.Size([32, 128, 256])"
      ]
     },
     "execution_count": 19,
     "metadata": {},
     "output_type": "execute_result"
    }
   ],
   "source": [
    "encoded.shape"
   ]
  },
  {
   "cell_type": "code",
   "execution_count": 41,
   "metadata": {},
   "outputs": [
    {
     "data": {
      "image/png": "[encoded data removed]",
      "text/plain": [
       "<Figure size 600x300 with 1 Axes>"
      ]
     },
     "metadata": {},
     "output_type": "display_data"
    }
   ],
   "source": [
    "fig = plt.figure(figsize=(6, 3))\n",
    "ax = plt.subplot(1, 1, 1)\n",
    "ax.grid()\n",
    "ax.plot(loss_train, color=[245/255, 124/255, 0/255], linestyle='-', linewidth=2)    \n",
    "ax.set_xlabel('Epoches')\n",
    "ax.set_ylabel('Loss')\n",
    "ax.set_title('Trainging loss, 5 layer CnnAE, L bkg')\n",
    "plt.show()"
   ]
  },
  {
   "cell_type": "code",
   "execution_count": 31,
   "metadata": {},
   "outputs": [
    {
     "ename": "OutOfMemoryError",
     "evalue": "CUDA out of memory. Tried to allocate 19.19 GiB. GPU 0 has a total capacity of 11.99 GiB of which 0 bytes is free. Of the allocated memory 19.51 GiB is allocated by PyTorch, and 21.17 MiB is reserved by PyTorch but unallocated. If reserved but unallocated memory is large try setting PYTORCH_CUDA_ALLOC_CONF=expandable_segments:True to avoid fragmentation.  See documentation for Memory Management  (https://pytorch.org/docs/stable/notes/cuda.html#environment-variables)",
     "output_type": "error",
     "traceback": [
      "\u001b[1;31m---------------------------------------------------------------------------\u001b[0m",
      "\u001b[1;31mOutOfMemoryError\u001b[0m                          Traceback (most recent call last)",
      "Cell \u001b[1;32mIn[31], line 1\u001b[0m\n\u001b[1;32m----> 1\u001b[0m _, decodedTestdata \u001b[38;5;241m=\u001b[39m \u001b[43mautoencoder\u001b[49m\u001b[43m(\u001b[49m\u001b[43mtrainData\u001b[49m\u001b[38;5;241;43m.\u001b[39;49m\u001b[43munsqueeze\u001b[49m\u001b[43m(\u001b[49m\u001b[38;5;241;43m1\u001b[39;49m\u001b[43m)\u001b[49m\u001b[38;5;241;43m.\u001b[39;49m\u001b[43mcuda\u001b[49m\u001b[43m(\u001b[49m\u001b[43m)\u001b[49m\u001b[43m)\u001b[49m\n\u001b[0;32m      2\u001b[0m decodedTestdata \u001b[38;5;241m=\u001b[39m decodedTestdata\u001b[38;5;241m.\u001b[39mdouble()\n\u001b[0;32m      3\u001b[0m reconstructedData \u001b[38;5;241m=\u001b[39m decodedTestdata\u001b[38;5;241m.\u001b[39mdetach()\u001b[38;5;241m.\u001b[39mnumpy()\n",
      "File \u001b[1;32mc:\\Users\\Liyang Miao\\AppData\\Local\\Programs\\Python\\Python311\\Lib\\site-packages\\torch\\nn\\modules\\module.py:1511\u001b[0m, in \u001b[0;36mModule._wrapped_call_impl\u001b[1;34m(self, *args, **kwargs)\u001b[0m\n\u001b[0;32m   1509\u001b[0m     \u001b[38;5;28;01mreturn\u001b[39;00m \u001b[38;5;28mself\u001b[39m\u001b[38;5;241m.\u001b[39m_compiled_call_impl(\u001b[38;5;241m*\u001b[39margs, \u001b[38;5;241m*\u001b[39m\u001b[38;5;241m*\u001b[39mkwargs)  \u001b[38;5;66;03m# type: ignore[misc]\u001b[39;00m\n\u001b[0;32m   1510\u001b[0m \u001b[38;5;28;01melse\u001b[39;00m:\n\u001b[1;32m-> 1511\u001b[0m     \u001b[38;5;28;01mreturn\u001b[39;00m \u001b[38;5;28;43mself\u001b[39;49m\u001b[38;5;241;43m.\u001b[39;49m\u001b[43m_call_impl\u001b[49m\u001b[43m(\u001b[49m\u001b[38;5;241;43m*\u001b[39;49m\u001b[43margs\u001b[49m\u001b[43m,\u001b[49m\u001b[43m \u001b[49m\u001b[38;5;241;43m*\u001b[39;49m\u001b[38;5;241;43m*\u001b[39;49m\u001b[43mkwargs\u001b[49m\u001b[43m)\u001b[49m\n",
      "File \u001b[1;32mc:\\Users\\Liyang Miao\\AppData\\Local\\Programs\\Python\\Python311\\Lib\\site-packages\\torch\\nn\\modules\\module.py:1520\u001b[0m, in \u001b[0;36mModule._call_impl\u001b[1;34m(self, *args, **kwargs)\u001b[0m\n\u001b[0;32m   1515\u001b[0m \u001b[38;5;66;03m# If we don't have any hooks, we want to skip the rest of the logic in\u001b[39;00m\n\u001b[0;32m   1516\u001b[0m \u001b[38;5;66;03m# this function, and just call forward.\u001b[39;00m\n\u001b[0;32m   1517\u001b[0m \u001b[38;5;28;01mif\u001b[39;00m \u001b[38;5;129;01mnot\u001b[39;00m (\u001b[38;5;28mself\u001b[39m\u001b[38;5;241m.\u001b[39m_backward_hooks \u001b[38;5;129;01mor\u001b[39;00m \u001b[38;5;28mself\u001b[39m\u001b[38;5;241m.\u001b[39m_backward_pre_hooks \u001b[38;5;129;01mor\u001b[39;00m \u001b[38;5;28mself\u001b[39m\u001b[38;5;241m.\u001b[39m_forward_hooks \u001b[38;5;129;01mor\u001b[39;00m \u001b[38;5;28mself\u001b[39m\u001b[38;5;241m.\u001b[39m_forward_pre_hooks\n\u001b[0;32m   1518\u001b[0m         \u001b[38;5;129;01mor\u001b[39;00m _global_backward_pre_hooks \u001b[38;5;129;01mor\u001b[39;00m _global_backward_hooks\n\u001b[0;32m   1519\u001b[0m         \u001b[38;5;129;01mor\u001b[39;00m _global_forward_hooks \u001b[38;5;129;01mor\u001b[39;00m _global_forward_pre_hooks):\n\u001b[1;32m-> 1520\u001b[0m     \u001b[38;5;28;01mreturn\u001b[39;00m \u001b[43mforward_call\u001b[49m\u001b[43m(\u001b[49m\u001b[38;5;241;43m*\u001b[39;49m\u001b[43margs\u001b[49m\u001b[43m,\u001b[49m\u001b[43m \u001b[49m\u001b[38;5;241;43m*\u001b[39;49m\u001b[38;5;241;43m*\u001b[39;49m\u001b[43mkwargs\u001b[49m\u001b[43m)\u001b[49m\n\u001b[0;32m   1522\u001b[0m \u001b[38;5;28;01mtry\u001b[39;00m:\n\u001b[0;32m   1523\u001b[0m     result \u001b[38;5;241m=\u001b[39m \u001b[38;5;28;01mNone\u001b[39;00m\n",
      "Cell \u001b[1;32mIn[22], line 24\u001b[0m, in \u001b[0;36mAutoencoder.forward\u001b[1;34m(self, x)\u001b[0m\n\u001b[0;32m     23\u001b[0m \u001b[38;5;28;01mdef\u001b[39;00m \u001b[38;5;21mforward\u001b[39m(\u001b[38;5;28mself\u001b[39m, x):\n\u001b[1;32m---> 24\u001b[0m     encoded \u001b[38;5;241m=\u001b[39m \u001b[38;5;28;43mself\u001b[39;49m\u001b[38;5;241;43m.\u001b[39;49m\u001b[43mencoder\u001b[49m\u001b[43m(\u001b[49m\u001b[43mx\u001b[49m\u001b[43m)\u001b[49m\n\u001b[0;32m     25\u001b[0m     decoded \u001b[38;5;241m=\u001b[39m \u001b[38;5;28mself\u001b[39m\u001b[38;5;241m.\u001b[39mdecoder(encoded)\n\u001b[0;32m     26\u001b[0m     \u001b[38;5;28;01mreturn\u001b[39;00m encoded, decoded\n",
      "File \u001b[1;32mc:\\Users\\Liyang Miao\\AppData\\Local\\Programs\\Python\\Python311\\Lib\\site-packages\\torch\\nn\\modules\\module.py:1511\u001b[0m, in \u001b[0;36mModule._wrapped_call_impl\u001b[1;34m(self, *args, **kwargs)\u001b[0m\n\u001b[0;32m   1509\u001b[0m     \u001b[38;5;28;01mreturn\u001b[39;00m \u001b[38;5;28mself\u001b[39m\u001b[38;5;241m.\u001b[39m_compiled_call_impl(\u001b[38;5;241m*\u001b[39margs, \u001b[38;5;241m*\u001b[39m\u001b[38;5;241m*\u001b[39mkwargs)  \u001b[38;5;66;03m# type: ignore[misc]\u001b[39;00m\n\u001b[0;32m   1510\u001b[0m \u001b[38;5;28;01melse\u001b[39;00m:\n\u001b[1;32m-> 1511\u001b[0m     \u001b[38;5;28;01mreturn\u001b[39;00m \u001b[38;5;28;43mself\u001b[39;49m\u001b[38;5;241;43m.\u001b[39;49m\u001b[43m_call_impl\u001b[49m\u001b[43m(\u001b[49m\u001b[38;5;241;43m*\u001b[39;49m\u001b[43margs\u001b[49m\u001b[43m,\u001b[49m\u001b[43m \u001b[49m\u001b[38;5;241;43m*\u001b[39;49m\u001b[38;5;241;43m*\u001b[39;49m\u001b[43mkwargs\u001b[49m\u001b[43m)\u001b[49m\n",
      "File \u001b[1;32mc:\\Users\\Liyang Miao\\AppData\\Local\\Programs\\Python\\Python311\\Lib\\site-packages\\torch\\nn\\modules\\module.py:1520\u001b[0m, in \u001b[0;36mModule._call_impl\u001b[1;34m(self, *args, **kwargs)\u001b[0m\n\u001b[0;32m   1515\u001b[0m \u001b[38;5;66;03m# If we don't have any hooks, we want to skip the rest of the logic in\u001b[39;00m\n\u001b[0;32m   1516\u001b[0m \u001b[38;5;66;03m# this function, and just call forward.\u001b[39;00m\n\u001b[0;32m   1517\u001b[0m \u001b[38;5;28;01mif\u001b[39;00m \u001b[38;5;129;01mnot\u001b[39;00m (\u001b[38;5;28mself\u001b[39m\u001b[38;5;241m.\u001b[39m_backward_hooks \u001b[38;5;129;01mor\u001b[39;00m \u001b[38;5;28mself\u001b[39m\u001b[38;5;241m.\u001b[39m_backward_pre_hooks \u001b[38;5;129;01mor\u001b[39;00m \u001b[38;5;28mself\u001b[39m\u001b[38;5;241m.\u001b[39m_forward_hooks \u001b[38;5;129;01mor\u001b[39;00m \u001b[38;5;28mself\u001b[39m\u001b[38;5;241m.\u001b[39m_forward_pre_hooks\n\u001b[0;32m   1518\u001b[0m         \u001b[38;5;129;01mor\u001b[39;00m _global_backward_pre_hooks \u001b[38;5;129;01mor\u001b[39;00m _global_backward_hooks\n\u001b[0;32m   1519\u001b[0m         \u001b[38;5;129;01mor\u001b[39;00m _global_forward_hooks \u001b[38;5;129;01mor\u001b[39;00m _global_forward_pre_hooks):\n\u001b[1;32m-> 1520\u001b[0m     \u001b[38;5;28;01mreturn\u001b[39;00m \u001b[43mforward_call\u001b[49m\u001b[43m(\u001b[49m\u001b[38;5;241;43m*\u001b[39;49m\u001b[43margs\u001b[49m\u001b[43m,\u001b[49m\u001b[43m \u001b[49m\u001b[38;5;241;43m*\u001b[39;49m\u001b[38;5;241;43m*\u001b[39;49m\u001b[43mkwargs\u001b[49m\u001b[43m)\u001b[49m\n\u001b[0;32m   1522\u001b[0m \u001b[38;5;28;01mtry\u001b[39;00m:\n\u001b[0;32m   1523\u001b[0m     result \u001b[38;5;241m=\u001b[39m \u001b[38;5;28;01mNone\u001b[39;00m\n",
      "File \u001b[1;32mc:\\Users\\Liyang Miao\\AppData\\Local\\Programs\\Python\\Python311\\Lib\\site-packages\\torch\\nn\\modules\\container.py:217\u001b[0m, in \u001b[0;36mSequential.forward\u001b[1;34m(self, input)\u001b[0m\n\u001b[0;32m    215\u001b[0m \u001b[38;5;28;01mdef\u001b[39;00m \u001b[38;5;21mforward\u001b[39m(\u001b[38;5;28mself\u001b[39m, \u001b[38;5;28minput\u001b[39m):\n\u001b[0;32m    216\u001b[0m     \u001b[38;5;28;01mfor\u001b[39;00m module \u001b[38;5;129;01min\u001b[39;00m \u001b[38;5;28mself\u001b[39m:\n\u001b[1;32m--> 217\u001b[0m         \u001b[38;5;28minput\u001b[39m \u001b[38;5;241m=\u001b[39m \u001b[43mmodule\u001b[49m\u001b[43m(\u001b[49m\u001b[38;5;28;43minput\u001b[39;49m\u001b[43m)\u001b[49m\n\u001b[0;32m    218\u001b[0m     \u001b[38;5;28;01mreturn\u001b[39;00m \u001b[38;5;28minput\u001b[39m\n",
      "File \u001b[1;32mc:\\Users\\Liyang Miao\\AppData\\Local\\Programs\\Python\\Python311\\Lib\\site-packages\\torch\\nn\\modules\\module.py:1511\u001b[0m, in \u001b[0;36mModule._wrapped_call_impl\u001b[1;34m(self, *args, **kwargs)\u001b[0m\n\u001b[0;32m   1509\u001b[0m     \u001b[38;5;28;01mreturn\u001b[39;00m \u001b[38;5;28mself\u001b[39m\u001b[38;5;241m.\u001b[39m_compiled_call_impl(\u001b[38;5;241m*\u001b[39margs, \u001b[38;5;241m*\u001b[39m\u001b[38;5;241m*\u001b[39mkwargs)  \u001b[38;5;66;03m# type: ignore[misc]\u001b[39;00m\n\u001b[0;32m   1510\u001b[0m \u001b[38;5;28;01melse\u001b[39;00m:\n\u001b[1;32m-> 1511\u001b[0m     \u001b[38;5;28;01mreturn\u001b[39;00m \u001b[38;5;28;43mself\u001b[39;49m\u001b[38;5;241;43m.\u001b[39;49m\u001b[43m_call_impl\u001b[49m\u001b[43m(\u001b[49m\u001b[38;5;241;43m*\u001b[39;49m\u001b[43margs\u001b[49m\u001b[43m,\u001b[49m\u001b[43m \u001b[49m\u001b[38;5;241;43m*\u001b[39;49m\u001b[38;5;241;43m*\u001b[39;49m\u001b[43mkwargs\u001b[49m\u001b[43m)\u001b[49m\n",
      "File \u001b[1;32mc:\\Users\\Liyang Miao\\AppData\\Local\\Programs\\Python\\Python311\\Lib\\site-packages\\torch\\nn\\modules\\module.py:1520\u001b[0m, in \u001b[0;36mModule._call_impl\u001b[1;34m(self, *args, **kwargs)\u001b[0m\n\u001b[0;32m   1515\u001b[0m \u001b[38;5;66;03m# If we don't have any hooks, we want to skip the rest of the logic in\u001b[39;00m\n\u001b[0;32m   1516\u001b[0m \u001b[38;5;66;03m# this function, and just call forward.\u001b[39;00m\n\u001b[0;32m   1517\u001b[0m \u001b[38;5;28;01mif\u001b[39;00m \u001b[38;5;129;01mnot\u001b[39;00m (\u001b[38;5;28mself\u001b[39m\u001b[38;5;241m.\u001b[39m_backward_hooks \u001b[38;5;129;01mor\u001b[39;00m \u001b[38;5;28mself\u001b[39m\u001b[38;5;241m.\u001b[39m_backward_pre_hooks \u001b[38;5;129;01mor\u001b[39;00m \u001b[38;5;28mself\u001b[39m\u001b[38;5;241m.\u001b[39m_forward_hooks \u001b[38;5;129;01mor\u001b[39;00m \u001b[38;5;28mself\u001b[39m\u001b[38;5;241m.\u001b[39m_forward_pre_hooks\n\u001b[0;32m   1518\u001b[0m         \u001b[38;5;129;01mor\u001b[39;00m _global_backward_pre_hooks \u001b[38;5;129;01mor\u001b[39;00m _global_backward_hooks\n\u001b[0;32m   1519\u001b[0m         \u001b[38;5;129;01mor\u001b[39;00m _global_forward_hooks \u001b[38;5;129;01mor\u001b[39;00m _global_forward_pre_hooks):\n\u001b[1;32m-> 1520\u001b[0m     \u001b[38;5;28;01mreturn\u001b[39;00m \u001b[43mforward_call\u001b[49m\u001b[43m(\u001b[49m\u001b[38;5;241;43m*\u001b[39;49m\u001b[43margs\u001b[49m\u001b[43m,\u001b[49m\u001b[43m \u001b[49m\u001b[38;5;241;43m*\u001b[39;49m\u001b[38;5;241;43m*\u001b[39;49m\u001b[43mkwargs\u001b[49m\u001b[43m)\u001b[49m\n\u001b[0;32m   1522\u001b[0m \u001b[38;5;28;01mtry\u001b[39;00m:\n\u001b[0;32m   1523\u001b[0m     result \u001b[38;5;241m=\u001b[39m \u001b[38;5;28;01mNone\u001b[39;00m\n",
      "File \u001b[1;32mc:\\Users\\Liyang Miao\\AppData\\Local\\Programs\\Python\\Python311\\Lib\\site-packages\\torch\\nn\\modules\\activation.py:101\u001b[0m, in \u001b[0;36mReLU.forward\u001b[1;34m(self, input)\u001b[0m\n\u001b[0;32m    100\u001b[0m \u001b[38;5;28;01mdef\u001b[39;00m \u001b[38;5;21mforward\u001b[39m(\u001b[38;5;28mself\u001b[39m, \u001b[38;5;28minput\u001b[39m: Tensor) \u001b[38;5;241m-\u001b[39m\u001b[38;5;241m>\u001b[39m Tensor:\n\u001b[1;32m--> 101\u001b[0m     \u001b[38;5;28;01mreturn\u001b[39;00m \u001b[43mF\u001b[49m\u001b[38;5;241;43m.\u001b[39;49m\u001b[43mrelu\u001b[49m\u001b[43m(\u001b[49m\u001b[38;5;28;43minput\u001b[39;49m\u001b[43m,\u001b[49m\u001b[43m \u001b[49m\u001b[43minplace\u001b[49m\u001b[38;5;241;43m=\u001b[39;49m\u001b[38;5;28;43mself\u001b[39;49m\u001b[38;5;241;43m.\u001b[39;49m\u001b[43minplace\u001b[49m\u001b[43m)\u001b[49m\n",
      "File \u001b[1;32mc:\\Users\\Liyang Miao\\AppData\\Local\\Programs\\Python\\Python311\\Lib\\site-packages\\torch\\nn\\functional.py:1473\u001b[0m, in \u001b[0;36mrelu\u001b[1;34m(input, inplace)\u001b[0m\n\u001b[0;32m   1471\u001b[0m     result \u001b[38;5;241m=\u001b[39m torch\u001b[38;5;241m.\u001b[39mrelu_(\u001b[38;5;28minput\u001b[39m)\n\u001b[0;32m   1472\u001b[0m \u001b[38;5;28;01melse\u001b[39;00m:\n\u001b[1;32m-> 1473\u001b[0m     result \u001b[38;5;241m=\u001b[39m \u001b[43mtorch\u001b[49m\u001b[38;5;241;43m.\u001b[39;49m\u001b[43mrelu\u001b[49m\u001b[43m(\u001b[49m\u001b[38;5;28;43minput\u001b[39;49m\u001b[43m)\u001b[49m\n\u001b[0;32m   1474\u001b[0m \u001b[38;5;28;01mreturn\u001b[39;00m result\n",
      "\u001b[1;31mOutOfMemoryError\u001b[0m: CUDA out of memory. Tried to allocate 19.19 GiB. GPU 0 has a total capacity of 11.99 GiB of which 0 bytes is free. Of the allocated memory 19.51 GiB is allocated by PyTorch, and 21.17 MiB is reserved by PyTorch but unallocated. If reserved but unallocated memory is large try setting PYTORCH_CUDA_ALLOC_CONF=expandable_segments:True to avoid fragmentation.  See documentation for Memory Management  (https://pytorch.org/docs/stable/notes/cuda.html#environment-variables)"
     ]
    }
   ],
   "source": [
    "_, decodedTestdata = autoencoder(trainData.unsqueeze(1).cuda())\n",
    "decodedTestdata = decodedTestdata.double()\n",
    "reconstructedData = decodedTestdata.detach().numpy()\n",
    "ReconstructedError_train = torch.mean((trainData - reconstructedData)**2,dim=1)\n",
    "MSE_train = ReconstructedError_train.mean()"
   ]
  },
  {
   "cell_type": "code",
   "execution_count": 35,
   "metadata": {},
   "outputs": [
    {
     "data": {
      "text/plain": [
       "Text(0, 0.5, 'Strain')"
      ]
     },
     "execution_count": 35,
     "metadata": {},
     "output_type": "execute_result"
    },
    {
     "data": {
      "image/png": "[encoded data removed]",
      "text/plain": [
       "<Figure size 640x480 with 1 Axes>"
      ]
     },
     "metadata": {},
     "output_type": "display_data"
    }
   ],
   "source": [
    "x = np.arange(0, train_sample_number-1, 1/1024)\n",
    "\n",
    "y = np.zeros((train_sample_number-1, 1024))\n",
    "# for i in range(train_sample_number-1):\n",
    "#     y[i] = reconstructedData[i] * X_train_recover_coef + X_train_recover_min\n",
    "# y = reconstructedData\n",
    "plt.plot(x, X_train.flatten(), color = 'red', label = 'Input')\n",
    "# plt.plot(x, y.flatten(), label = 'output')\n",
    "plt.legend()\n",
    "plt.title('Strain for Reconstructed and Initial Train sample')\n",
    "plt.xlabel('Seconds')\n",
    "plt.ylabel('Strain')"
   ]
  },
  {
   "cell_type": "code",
   "execution_count": null,
   "metadata": {},
   "outputs": [],
   "source": []
  }
 ],
 "metadata": {
  "kernelspec": {
   "display_name": "Python 3",
   "language": "python",
   "name": "python3"
  },
  "language_info": {
   "codemirror_mode": {
    "name": "ipython",
    "version": 3
   },
   "file_extension": ".py",
   "mimetype": "text/x-python",
   "name": "python",
   "nbconvert_exporter": "python",
   "pygments_lexer": "ipython3",
   "version": "3.11.2"
  }
 },
 "nbformat": 4,
 "nbformat_minor": 2
}
