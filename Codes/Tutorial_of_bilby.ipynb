{
 "cells": [
  {
   "cell_type": "code",
   "execution_count": 2,
   "metadata": {},
   "outputs": [
    {
     "name": "stderr",
     "output_type": "stream",
     "text": [
      "22:27 bilby INFO    : Waveform generator initiated with\n",
      "  frequency_domain_source_model: bilby.gw.source.lal_binary_black_hole\n",
      "  time_domain_source_model: None\n",
      "  parameter_conversion: bilby.gw.conversion.convert_to_lal_binary_black_hole_parameters\n",
      "/opt/homebrew/lib/python3.11/site-packages/bilby/gw/source.py:528: UserWarning: Wswiglal-redir-stdio:\n",
      "\n",
      "SWIGLAL standard output/error redirection is enabled in IPython.\n",
      "This may lead to performance penalties. To disable locally, use:\n",
      "\n",
      "with lal.no_swig_redirect_standard_output_error():\n",
      "    ...\n",
      "\n",
      "To disable globally, use:\n",
      "\n",
      "lal.swig_redirect_standard_output_error(True)\n",
      "\n",
      "Note however that this will likely lead to error messages from\n",
      "LAL functions being either misdirected or lost when called from\n",
      "Jupyter notebooks.\n",
      "\n",
      "To suppress this warning, use:\n",
      "\n",
      "import warnings\n",
      "warnings.filterwarnings(\"ignore\", \"Wswiglal-redir-stdio\")\n",
      "import lal\n",
      "\n",
      "  import lal\n",
      "22:28 bilby INFO    : Injected signal in H1:\n",
      "22:28 bilby INFO    :   optimal SNR = 11.78\n",
      "22:28 bilby INFO    :   matched filter SNR = 10.70-1.01j\n",
      "22:28 bilby INFO    :   mass_1 = 36.0\n",
      "22:28 bilby INFO    :   mass_2 = 29.0\n",
      "22:28 bilby INFO    :   a_1 = 0.4\n",
      "22:28 bilby INFO    :   a_2 = 0.3\n",
      "22:28 bilby INFO    :   tilt_1 = 0.5\n",
      "22:28 bilby INFO    :   tilt_2 = 1.0\n",
      "22:28 bilby INFO    :   phi_12 = 1.7\n",
      "22:28 bilby INFO    :   phi_jl = 0.3\n",
      "22:28 bilby INFO    :   luminosity_distance = 2000.0\n",
      "22:28 bilby INFO    :   theta_jn = 0.4\n",
      "22:28 bilby INFO    :   psi = 2.659\n",
      "22:28 bilby INFO    :   phase = 1.3\n",
      "22:28 bilby INFO    :   geocent_time = 1126259642.413\n",
      "22:28 bilby INFO    :   ra = 1.375\n",
      "22:28 bilby INFO    :   dec = -1.2108\n",
      "22:28 bilby INFO    : Injected signal in L1:\n",
      "22:28 bilby INFO    :   optimal SNR = 9.53\n",
      "22:28 bilby INFO    :   matched filter SNR = 7.71+0.41j\n",
      "22:28 bilby INFO    :   mass_1 = 36.0\n",
      "22:28 bilby INFO    :   mass_2 = 29.0\n",
      "22:28 bilby INFO    :   a_1 = 0.4\n",
      "22:28 bilby INFO    :   a_2 = 0.3\n",
      "22:28 bilby INFO    :   tilt_1 = 0.5\n",
      "22:28 bilby INFO    :   tilt_2 = 1.0\n",
      "22:28 bilby INFO    :   phi_12 = 1.7\n",
      "22:28 bilby INFO    :   phi_jl = 0.3\n",
      "22:28 bilby INFO    :   luminosity_distance = 2000.0\n",
      "22:28 bilby INFO    :   theta_jn = 0.4\n",
      "22:28 bilby INFO    :   psi = 2.659\n",
      "22:28 bilby INFO    :   phase = 1.3\n",
      "22:28 bilby INFO    :   geocent_time = 1126259642.413\n",
      "22:28 bilby INFO    :   ra = 1.375\n",
      "22:28 bilby INFO    :   dec = -1.2108\n"
     ]
    },
    {
     "data": {
      "text/plain": [
       "[{'plus': array([0.-0.j, 0.-0.j, 0.-0.j, ..., 0.-0.j, 0.-0.j, 0.-0.j]),\n",
       "  'cross': array([0.+0.j, 0.+0.j, 0.+0.j, ..., 0.+0.j, 0.+0.j, 0.+0.j])},\n",
       " {'plus': array([0.-0.j, 0.-0.j, 0.-0.j, ..., 0.-0.j, 0.-0.j, 0.-0.j]),\n",
       "  'cross': array([0.+0.j, 0.+0.j, 0.+0.j, ..., 0.+0.j, 0.+0.j, 0.+0.j])}]"
      ]
     },
     "execution_count": 2,
     "metadata": {},
     "output_type": "execute_result"
    }
   ],
   "source": [
    "#!/usr/bin/env python\n",
    "\"\"\"\n",
    "Tutorial to demonstrate running parameter estimation on a reduced parameter\n",
    "space for an injected signal.\n",
    "\n",
    "This example estimates the masses using a uniform prior in both component masses\n",
    "and distance using a uniform in comoving volume prior on luminosity distance\n",
    "between luminosity distances of 100Mpc and 5Gpc, the cosmology is Planck15.\n",
    "\"\"\"\n",
    "\n",
    "import bilby\n",
    "\n",
    "# Set the duration and sampling frequency of the data segment that we're\n",
    "# going to inject the signal into\n",
    "duration = 4.0\n",
    "sampling_frequency = 2048.0\n",
    "minimum_frequency = 20\n",
    "\n",
    "# Specify the output directory and the name of the simulation.\n",
    "outdir = \"outdir\"\n",
    "label = \"fast_tutorial\"\n",
    "bilby.core.utils.setup_logger(outdir=outdir, label=label)\n",
    "\n",
    "# Set up a random seed for result reproducibility.  This is optional!\n",
    "bilby.core.utils.random.seed(88170235)\n",
    "\n",
    "# We are going to inject a binary black hole waveform.  We first establish a\n",
    "# dictionary of parameters that includes all of the different waveform\n",
    "# parameters, including masses of the two black holes (mass_1, mass_2),\n",
    "# spins of both black holes (a, tilt, phi), etc.\n",
    "injection_parameters = dict(\n",
    "    mass_1=36.0,\n",
    "    mass_2=29.0,\n",
    "    a_1=0.4,\n",
    "    a_2=0.3,\n",
    "    tilt_1=0.5,\n",
    "    tilt_2=1.0,\n",
    "    phi_12=1.7,\n",
    "    phi_jl=0.3,\n",
    "    luminosity_distance=2000.0,\n",
    "    theta_jn=0.4,\n",
    "    psi=2.659,\n",
    "    phase=1.3,\n",
    "    geocent_time=1126259642.413,\n",
    "    ra=1.375,\n",
    "    dec=-1.2108,\n",
    ")\n",
    "\n",
    "# Fixed arguments passed into the source model\n",
    "waveform_arguments = dict(\n",
    "    waveform_approximant=\"IMRPhenomPv2\",\n",
    "    reference_frequency=50.0,\n",
    "    minimum_frequency=minimum_frequency,\n",
    ")\n",
    "\n",
    "# Create the waveform_generator using a LAL BinaryBlackHole source function\n",
    "waveform_generator = bilby.gw.WaveformGenerator(\n",
    "    duration=duration,\n",
    "    sampling_frequency=sampling_frequency,\n",
    "    frequency_domain_source_model=bilby.gw.source.lal_binary_black_hole,\n",
    "    parameter_conversion=bilby.gw.conversion.convert_to_lal_binary_black_hole_parameters,\n",
    "    waveform_arguments=waveform_arguments,\n",
    ")\n",
    "\n",
    "# Set up interferometers.  In this case we'll use two interferometers\n",
    "# (LIGO-Hanford (H1), LIGO-Livingston (L1). These default to their design\n",
    "# sensitivity\n",
    "ifos = bilby.gw.detector.InterferometerList([\"H1\", \"L1\"])\n",
    "ifos.set_strain_data_from_power_spectral_densities(\n",
    "    sampling_frequency=sampling_frequency,\n",
    "    duration=duration,\n",
    "    start_time=injection_parameters[\"geocent_time\"] - 2,\n",
    ")\n",
    "ifos.inject_signal(\n",
    "    waveform_generator=waveform_generator, parameters=injection_parameters\n",
    ")\n"
   ]
  },
  {
   "cell_type": "code",
   "execution_count": 3,
   "metadata": {},
   "outputs": [
    {
     "data": {
      "text/plain": [
       "[Interferometer(name='H1', power_spectral_density=PowerSpectralDensity(psd_file='None', asd_file='/opt/homebrew/lib/python3.11/site-packages/bilby/gw/detector/noise_curves/aLIGO_O4_high_asd.txt'), minimum_frequency=20.0, maximum_frequency=1024.0, length=4.0, latitude=46.45514666666667, longitude=-119.4076571388889, elevation=142.554, xarm_azimuth=125.9994, yarm_azimuth=215.9994, xarm_tilt=-0.0006195, yarm_tilt=1.25e-05),\n",
       " Interferometer(name='L1', power_spectral_density=PowerSpectralDensity(psd_file='None', asd_file='/opt/homebrew/lib/python3.11/site-packages/bilby/gw/detector/noise_curves/aLIGO_O4_high_asd.txt'), minimum_frequency=20.0, maximum_frequency=1024.0, length=4.0, latitude=30.562894333333332, longitude=-90.77424038888887, elevation=-6.574, xarm_azimuth=197.7165, yarm_azimuth=287.7165, xarm_tilt=-0.0003121, yarm_tilt=-0.0006107)]"
      ]
     },
     "execution_count": 3,
     "metadata": {},
     "output_type": "execute_result"
    }
   ],
   "source": [
    "ifos"
   ]
  },
  {
   "cell_type": "code",
   "execution_count": 1,
   "metadata": {},
   "outputs": [
    {
     "ename": "AttributeError",
     "evalue": "module 'numpy' has no attribute 'float128'",
     "output_type": "error",
     "traceback": [
      "\u001b[0;31m---------------------------------------------------------------------------\u001b[0m",
      "\u001b[0;31mAttributeError\u001b[0m                            Traceback (most recent call last)",
      "Cell \u001b[0;32mIn[1], line 3\u001b[0m\n\u001b[1;32m      1\u001b[0m \u001b[38;5;28;01mimport\u001b[39;00m \u001b[38;5;21;01mnumpy\u001b[39;00m \u001b[38;5;28;01mas\u001b[39;00m \u001b[38;5;21;01mnp\u001b[39;00m\n\u001b[0;32m----> 3\u001b[0m \u001b[43mnp\u001b[49m\u001b[38;5;241;43m.\u001b[39;49m\u001b[43mfloat128\u001b[49m\n",
      "File \u001b[0;32m/opt/homebrew/lib/python3.11/site-packages/numpy/__init__.py:320\u001b[0m, in \u001b[0;36m__getattr__\u001b[0;34m(attr)\u001b[0m\n\u001b[1;32m    317\u001b[0m     \u001b[38;5;28;01mfrom\u001b[39;00m \u001b[38;5;21;01m.\u001b[39;00m\u001b[38;5;21;01mtesting\u001b[39;00m \u001b[38;5;28;01mimport\u001b[39;00m Tester\n\u001b[1;32m    318\u001b[0m     \u001b[38;5;28;01mreturn\u001b[39;00m Tester\n\u001b[0;32m--> 320\u001b[0m \u001b[38;5;28;01mraise\u001b[39;00m \u001b[38;5;167;01mAttributeError\u001b[39;00m(\u001b[38;5;124m\"\u001b[39m\u001b[38;5;124mmodule \u001b[39m\u001b[38;5;132;01m{!r}\u001b[39;00m\u001b[38;5;124m has no attribute \u001b[39m\u001b[38;5;124m\"\u001b[39m\n\u001b[1;32m    321\u001b[0m                      \u001b[38;5;124m\"\u001b[39m\u001b[38;5;132;01m{!r}\u001b[39;00m\u001b[38;5;124m\"\u001b[39m\u001b[38;5;241m.\u001b[39mformat(\u001b[38;5;18m__name__\u001b[39m, attr))\n",
      "\u001b[0;31mAttributeError\u001b[0m: module 'numpy' has no attribute 'float128'"
     ]
    }
   ],
   "source": [
    "import numpy as np\n",
    "\n",
    "np.float128"
   ]
  },
  {
   "cell_type": "code",
   "execution_count": null,
   "metadata": {},
   "outputs": [],
   "source": []
  }
 ],
 "metadata": {
  "kernelspec": {
   "display_name": "Python 3",
   "language": "python",
   "name": "python3"
  },
  "language_info": {
   "codemirror_mode": {
    "name": "ipython",
    "version": 3
   },
   "file_extension": ".py",
   "mimetype": "text/x-python",
   "name": "python",
   "nbconvert_exporter": "python",
   "pygments_lexer": "ipython3",
   "version": "3.11.2"
  }
 },
 "nbformat": 4,
 "nbformat_minor": 2
}
