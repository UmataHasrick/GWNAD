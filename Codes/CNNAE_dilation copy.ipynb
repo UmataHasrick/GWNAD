{
 "cells": [
  {
   "cell_type": "code",
   "execution_count": 1,
   "metadata": {},
   "outputs": [],
   "source": [
    "import numpy as np\n",
    "import matplotlib.pyplot as plt\n",
    "import time\n",
    "import h5py\n",
    "from scipy.stats import norm\n",
    "import torch\n",
    "from torch.utils.data import DataLoader\n",
    "from torch.utils.data import TensorDataset\n",
    "from torch import nn, optim\n",
    "import scipy.io as sio\n",
    "import torch.nn.functional as F\n",
    "# import pandas as pd\n",
    "import datetime\n",
    "import os\n",
    "# import readligo as rl\n",
    "# from gwpy.timeseries import TimeSeries\n",
    "import math\n",
    "import random\n",
    "\n",
    "import copy"
   ]
  },
  {
   "cell_type": "code",
   "execution_count": 2,
   "metadata": {},
   "outputs": [],
   "source": [
    "epochs = 100\n",
    "rTrain = 0.7;\n",
    "rTest = 0.2;\n",
    "rValidation = 0.1\n",
    "# input_vector_length = 100\n",
    "batch_size = 32\n",
    "num_bins = 40\n",
    "coef_delta = 0"
   ]
  },
  {
   "cell_type": "markdown",
   "metadata": {},
   "source": [
    "# Definition of the structure"
   ]
  },
  {
   "cell_type": "code",
   "execution_count": 3,
   "metadata": {},
   "outputs": [],
   "source": [
    "class AutoEncoder(nn.Module):\n",
    "    def __init__(self):\n",
    "        super(AutoEncoder, self).__init__()\n",
    "        self.conv1 = nn.Conv1d(in_channels=2, out_channels=50, kernel_size=2, stride=1, padding=1)# 100\n",
    "        self.batch1 = nn.BatchNorm1d(num_features=50)\n",
    "        self.act1 = nn.ReLU()\n",
    "        self.pool1 = nn.MaxPool1d(kernel_size=4, return_indices=True)\n",
    "        \n",
    "        self.conv2 = nn.Conv1d(in_channels=50, out_channels=20, kernel_size=2, stride=1, padding=1)# 40\n",
    "        self.batch2 = nn.BatchNorm1d(num_features=20)\n",
    "        self.act2 = nn.ReLU()\n",
    "#         self.pool2 = nn.MaxUnpool1d(kernel_size=4)\n",
    "        \n",
    "        self.conv3 = nn.Conv1d(in_channels=20, out_channels=50, kernel_size=2, stride=1, padding=1)# 100\n",
    "        self.batch3 = nn.BatchNorm1d(num_features=50)\n",
    "        self.act3 = nn.ReLU()\n",
    "        self.pool3 = nn.MaxUnpool1d(kernel_size=4)\n",
    "        \n",
    "        self.conv4 = nn.Conv1d(in_channels=50, out_channels=1, kernel_size=2, padding=1)\n",
    "        self.final = nn.Tanh()\n",
    "\n",
    "    def forward(self, x):\n",
    "#         print(x.shape)\n",
    "        x = self.conv1(x);\n",
    "        x = self.batch1(x);\n",
    "        x = self.act1(x);\n",
    "        x, indices = self.pool1(x);\n",
    "#         print(x.shape)\n",
    "#         x = self.pool1(self.act1(self.batch1(self.conv1(x))))\n",
    "        encoded = self.act2(self.conv2(x))\n",
    "#         print(encoded.shape)\n",
    "        \n",
    "        x = self.conv3(encoded)\n",
    "        x = self.batch3(x);\n",
    "        x = self.act3(x);\n",
    "#         print(x.shape)\n",
    "        x = self.pool3(x, indices);\n",
    "\n",
    "#         x = self.final(self.conv4(x))\n",
    "        x = self.conv4(x)\n",
    "\n",
    "        return encoded, x"
   ]
  },
  {
   "cell_type": "markdown",
   "metadata": {},
   "source": [
    "## Below is the model for Supervised Learning. We want to investigate its performance for glitch exclusion"
   ]
  },
  {
   "cell_type": "code",
   "execution_count": 44,
   "metadata": {},
   "outputs": [],
   "source": [
    "class WaveletCNNSL(nn.Module):\n",
    "    \n",
    "    def __init__(\n",
    "        self, \n",
    "        num_ifos: int,\n",
    "        c_depth: int=8, \n",
    "        n_chann: int=64, \n",
    "        l1: int=1024, \n",
    "        l2: int=128,\n",
    "        lx: int=200\n",
    "    ):\n",
    "        \n",
    "        super(WaveletCNNSL, self).__init__()\n",
    "        \n",
    "        self.c_depth = c_depth\n",
    "        self.n_chann = n_chann\n",
    "        \n",
    "        self.cap_norm = nn.GroupNorm(num_ifos, num_ifos)\n",
    "        \n",
    "        self.Conv_In = nn.Conv1d(\n",
    "                in_channels=num_ifos, \n",
    "                out_channels=self.n_chann, \n",
    "                kernel_size=1\n",
    "            )\n",
    "        \n",
    "        self.Conv_Out = nn.Conv1d(\n",
    "                in_channels=self.n_chann, \n",
    "                out_channels=1, \n",
    "                kernel_size=1\n",
    "            )\n",
    "        \n",
    "        self.body_norm = nn.GroupNorm(4 ,n_chann)\n",
    "        self.end_norm = nn.BatchNorm1d(1)\n",
    "        \n",
    "        self.WaveNet_layers = nn.ModuleList()\n",
    "        \n",
    "        \n",
    "        for i in range(self.c_depth):\n",
    "\n",
    "            conv_layer = nn.Conv1d(\n",
    "                in_channels=self.n_chann, \n",
    "                out_channels=self.n_chann,\n",
    "                kernel_size=2,\n",
    "                dilation=2**i\n",
    "            )\n",
    "            \n",
    "            self.WaveNet_layers.append(conv_layer)\n",
    "        \n",
    "        \n",
    "        # self.L1 = nn.Linear(8192-2**c_depth, l1)\n",
    "        \n",
    "        # Consider replacing other batch normalizatoin layers with other nor method\n",
    "        # Because batch norm are baised by the population of the CCSN rate in one batch \n",
    "        # This may produce overfitting model and will not be able to found at test phase\n",
    "        # Question: Will we be able to figure out the side effect at infereceing phase?\n",
    "        \n",
    "        self.L1_norm = nn.BatchNorm1d(200-2**c_depth+1)\n",
    "        self.L1 = nn.Linear(200-2**c_depth+1, l1)\n",
    "        self.L2_norm = nn.BatchNorm1d(l1)\n",
    "        self.L2 = nn.Linear(l1, l2)\n",
    "        self.L3_norm = nn.BatchNorm1d(l2)\n",
    "        self.L3 = nn.Linear(l2, 1)\n",
    "\n",
    "\n",
    "        nn.init.kaiming_normal_(self.Conv_In.weight)\n",
    "        nn.init.kaiming_normal_(self.Conv_Out.weight)\n",
    "        nn.init.constant_(self.Conv_In.bias, 0.001)\n",
    "        nn.init.constant_(self.Conv_Out.bias, 0.001)\n",
    "\n",
    "        # Initialize all the convolutional layer in between\n",
    "        for conv_layer in self.WaveNet_layers:\n",
    "            nn.init.kaiming_normal_(conv_layer.weight)\n",
    "            nn.init.constant_(conv_layer.bias, 0.001)\n",
    "\n",
    "        nn.init.kaiming_uniform_(self.L1.weight)\n",
    "        nn.init.kaiming_uniform_(self.L2.weight)\n",
    "        nn.init.constant_(self.L1.bias, 0.001)\n",
    "        nn.init.constant_(self.L2.bias, 0.001)\n",
    "        \n",
    "    def forward(self, x):\n",
    "\n",
    "        x = self.cap_norm(x)\n",
    "        x = self.Conv_In(x)\n",
    "        x = F.relu(x)\n",
    "        \n",
    "        # x = self.norm(x)\n",
    "        \n",
    "        for what_are_u_wavin_at in self.WaveNet_layers:\n",
    "            x = self.body_norm(x)\n",
    "            x = what_are_u_wavin_at(x)\n",
    "            x = F.relu(x)\n",
    "            \n",
    "        x = self.Conv_Out(x)\n",
    "        x = F.relu(x)\n",
    "        x = self.end_norm(x)\n",
    "        \n",
    "        x = torch.flatten(x, 1)\n",
    "        \n",
    "        \n",
    "        x = F.relu(self.L1(x))\n",
    "        x = self.L2_norm(x)\n",
    "        x = F.relu(self.L2(x))\n",
    "        x = self.L3_norm(x)\n",
    "        # x = F.softmax(self.L3(x), dim = 1)\n",
    "        x = self.L3(x)\n",
    "        \n",
    "        return x"
   ]
  },
  {
   "cell_type": "markdown",
   "metadata": {},
   "source": [
    "## Below is the model for AE. We don't know whether this is suitable for AE case. "
   ]
  },
  {
   "cell_type": "markdown",
   "metadata": {},
   "source": [
    "### One channel for DNN"
   ]
  },
  {
   "cell_type": "code",
   "execution_count": 4,
   "metadata": {},
   "outputs": [],
   "source": [
    "class WaveletCNNAE(nn.Module):\n",
    "    \n",
    "    def __init__(\n",
    "        self, \n",
    "        num_ifos: int,\n",
    "        c_depth: int=8, \n",
    "        n_chann: int=64, \n",
    "        l1: int=1024, \n",
    "        l2: int=128\n",
    "        # lx: int=200\n",
    "    ):\n",
    "        \n",
    "        super(WaveletCNNAE, self).__init__()\n",
    "        \n",
    "        self.c_depth = c_depth\n",
    "        self.n_chann = n_chann\n",
    "        \n",
    "        self.cap_norm = nn.GroupNorm(num_ifos, num_ifos)\n",
    "        \n",
    "        self.Conv_In_encode = nn.Conv1d(\n",
    "                in_channels=num_ifos, \n",
    "                out_channels=self.n_chann, \n",
    "                kernel_size=1\n",
    "            )\n",
    "        \n",
    "        self.Conv_Out_encode = nn.Conv1d(\n",
    "                in_channels=self.n_chann, \n",
    "                out_channels=1, \n",
    "                kernel_size=1\n",
    "            )\n",
    "        \n",
    "        self.Conv_In_decode = nn.Conv1d(\n",
    "                in_channels=1, \n",
    "                out_channels=self.n_chann, \n",
    "                kernel_size=1\n",
    "            )\n",
    "        \n",
    "        self.Conv_Out_decode = nn.Conv1d(\n",
    "                in_channels=self.n_chann, \n",
    "                out_channels=num_ifos, \n",
    "                kernel_size=1\n",
    "            )\n",
    "        \n",
    "        self.body_norm_encode = nn.GroupNorm(4 ,n_chann)\n",
    "        self.body_norm_decode = nn.GroupNorm(4 ,n_chann)\n",
    "        self.end_norm_encode = nn.BatchNorm1d(1)\n",
    "        self.end_norm_decode = nn.BatchNorm1d(1)\n",
    "        \n",
    "        self.WaveNet_layers_encode = nn.ModuleList()\n",
    "        self.WaveNet_layers_decode = nn.ModuleList()\n",
    "        \n",
    "        \n",
    "        for i in range(self.c_depth):\n",
    "\n",
    "            conv_layer = nn.Conv1d(\n",
    "                in_channels=self.n_chann, \n",
    "                out_channels=self.n_chann,\n",
    "                kernel_size=2,\n",
    "                dilation=2**i\n",
    "            )\n",
    "            \n",
    "            self.WaveNet_layers_encode.append(conv_layer)\n",
    "            \n",
    "        for i in range(self.c_depth):\n",
    "\n",
    "            conv_layer = nn.Conv1d(\n",
    "                in_channels=self.n_chann, \n",
    "                out_channels=self.n_chann,\n",
    "                kernel_size=2,\n",
    "                dilation=2**i\n",
    "            )\n",
    "            \n",
    "            self.WaveNet_layers_decode.append(conv_layer)\n",
    "        \n",
    "        \n",
    "        self.Padding_layer = nn.ZeroPad1d(2**c_depth - 1)\n",
    "                \n",
    "        # self.L1 = nn.Linear(8192-2**c_depth, l1)\n",
    "        \n",
    "        # Consider replacing other batch normalizatoin layers with other nor method\n",
    "        # Because batch norm are baised by the population of the CCSN rate in one batch \n",
    "        # This may produce overfitting model and will not be able to found at test phase\n",
    "        # Question: Will we be able to figure out the side effect at infereceing phase?\n",
    "        \n",
    "        self.L1_norm = nn.BatchNorm1d(200-2**c_depth + 1)\n",
    "        self.L1 = nn.Linear(200-2**c_depth + 1, l1)\n",
    "        self.L2_norm = nn.BatchNorm1d(l1)\n",
    "        self.L2 = nn.Linear(l1, l2)\n",
    "        # self.L3_norm = nn.BatchNorm1d(l2)\n",
    "        # self.L3 = nn.Linear(l2, 1)\n",
    "        self.L4_norm = nn.BatchNorm1d(l2)\n",
    "        self.L4 = nn.Linear(l2, l1)\n",
    "        self.L5_norm = nn.BatchNorm1d(l1)\n",
    "        self.L5 = nn.Linear(l1, 200-2**c_depth + 1)\n",
    "\n",
    "        nn.init.kaiming_normal_(self.Conv_In_encode.weight)\n",
    "        nn.init.kaiming_normal_(self.Conv_Out_encode.weight)\n",
    "        nn.init.constant_(self.Conv_In_encode.bias, 0.001)\n",
    "        nn.init.constant_(self.Conv_Out_encode.bias, 0.001)\n",
    "        \n",
    "        nn.init.kaiming_normal_(self.Conv_In_decode.weight)\n",
    "        nn.init.kaiming_normal_(self.Conv_Out_decode.weight)\n",
    "        nn.init.constant_(self.Conv_In_decode.bias, 0.001)\n",
    "        nn.init.constant_(self.Conv_Out_decode.bias, 0.001)\n",
    "\n",
    "        # Initialize all the convolutional layer in between\n",
    "        for conv_layer in self.WaveNet_layers_encode:\n",
    "            nn.init.kaiming_normal_(conv_layer.weight)\n",
    "            nn.init.constant_(conv_layer.bias, 0.001)\n",
    "            \n",
    "        for conv_layer in self.WaveNet_layers_decode:\n",
    "            nn.init.kaiming_normal_(conv_layer.weight)\n",
    "            nn.init.constant_(conv_layer.bias, 0.001)    \n",
    "\n",
    "        nn.init.kaiming_uniform_(self.L1.weight)\n",
    "        nn.init.kaiming_uniform_(self.L2.weight)\n",
    "        nn.init.constant_(self.L1.bias, 0.001)\n",
    "        nn.init.constant_(self.L2.bias, 0.001)\n",
    "        \n",
    "        nn.init.kaiming_uniform_(self.L4.weight)\n",
    "        nn.init.kaiming_uniform_(self.L5.weight)\n",
    "        nn.init.constant_(self.L4.bias, 0.001)\n",
    "        nn.init.constant_(self.L5.bias, 0.001)\n",
    "        \n",
    "    def encode(self, x):\n",
    "        \n",
    "        x = self.cap_norm(x)\n",
    "        x = self.Conv_In_encode(x)\n",
    "        x = F.relu(x)\n",
    "        \n",
    "        # x = self.norm(x)\n",
    "        \n",
    "        for what_are_u_wavin_at in self.WaveNet_layers_encode:\n",
    "            x = self.body_norm_encode(x)\n",
    "            x = what_are_u_wavin_at(x)\n",
    "            x = F.relu(x)\n",
    "            \n",
    "        # print(x.shape)\n",
    "        x = self.Conv_Out_encode(x)\n",
    "        x = F.relu(x)\n",
    "        x = self.end_norm_encode(x)\n",
    "        x = torch.flatten(x, 1)\n",
    "        \n",
    "        # print(x.shape)\n",
    "        \n",
    "        x = F.relu(self.L1(x))\n",
    "        # print(x.shape)\n",
    "        x = self.L2_norm(x)\n",
    "        # x = F.relu(self.L2(x))\n",
    "        # x = self.L3_norm(x)\n",
    "        # x = F.softmax(self.L3(x), dim = 1)\n",
    "        # x = self.L3(x)\n",
    "        x = self.L2(x)\n",
    "        \n",
    "        # print('Encoder done')\n",
    "        \n",
    "        return x\n",
    "    \n",
    "    def decode(self, x):\n",
    "        # print(x.shape)\n",
    "        x = self.L4_norm(x)\n",
    "        # print(x.shape)\n",
    "        x = F.relu(self.L4(x))\n",
    "        # print(x.shape)\n",
    "        x = self.L5_norm(x)\n",
    "        # print(x.shape)\n",
    "        # x = F.relu(self.L2(x))\n",
    "        # x = self.L3_norm(x)\n",
    "        # x = F.softmax(self.L3(x), dim = 1)\n",
    "        # x = self.L3(x)\n",
    "        x = F.relu(self.L5(x))\n",
    "        # print(x.shape)\n",
    "        # print('DNN done')\n",
    "        \n",
    "        x = self.Padding_layer(x)\n",
    "        \n",
    "        x = torch.unsqueeze(x,1)\n",
    "\n",
    "        # print(x.shape)\n",
    "        \n",
    "        # x = self.cap_norm(x)\n",
    "        x = self.Conv_In_decode(x)\n",
    "        x = F.relu(x)\n",
    "        \n",
    "        # x = self.norm(x)\n",
    "        \n",
    "        for what_are_u_wavin_at in self.WaveNet_layers_decode:\n",
    "            # print(x.shape)\n",
    "            x = self.body_norm_decode(x)\n",
    "            x = what_are_u_wavin_at(x)\n",
    "            x = F.relu(x)\n",
    "        \n",
    "        # print(x.shape)\n",
    "        # print('CNN done')\n",
    "        \n",
    "        x = self.Conv_Out_decode(x)\n",
    "        # print(x.shape)\n",
    "        x = F.tanh(x)\n",
    "        # print(x.shape)\n",
    "        # x = self.end_norm_decode(x)\n",
    "        \n",
    "        # x = torch.flatten(x, 1)\n",
    "        \n",
    "        \n",
    "        return x\n",
    "    \n",
    "    def forward(self,x):\n",
    "        return self.decode(self.encode(x))"
   ]
  },
  {
   "cell_type": "markdown",
   "metadata": {},
   "source": [
    "### Multi-channel for DNN"
   ]
  },
  {
   "cell_type": "code",
   "execution_count": null,
   "metadata": {},
   "outputs": [],
   "source": [
    "class WaveletCNNAE(nn.Module):\n",
    "    \n",
    "    def __init__(\n",
    "        self, \n",
    "        num_ifos: int,\n",
    "        c_depth: int=8, \n",
    "        n_chann: int=64, \n",
    "        l1: int=1024, \n",
    "        l2: int=128\n",
    "        # lx: int=200\n",
    "    ):\n",
    "        \n",
    "        super(WaveletCNNAE, self).__init__()\n",
    "        \n",
    "        self.c_depth = c_depth\n",
    "        self.n_chann = n_chann\n",
    "        \n",
    "        self.cap_norm = nn.GroupNorm(num_ifos, num_ifos)\n",
    "        \n",
    "        self.Conv_In_encode = nn.Conv1d(\n",
    "                in_channels=num_ifos, \n",
    "                out_channels=self.n_chann, \n",
    "                kernel_size=1\n",
    "            )\n",
    "        \n",
    "        self.Conv_Out_encode = nn.Conv1d(\n",
    "                in_channels=self.n_chann, \n",
    "                out_channels=1, \n",
    "                kernel_size=1\n",
    "            )\n",
    "        \n",
    "        self.Conv_In_decode = nn.Conv1d(\n",
    "                in_channels=1, \n",
    "                out_channels=self.n_chann, \n",
    "                kernel_size=1\n",
    "            )\n",
    "        \n",
    "        self.Conv_Out_decode = nn.Conv1d(\n",
    "                in_channels=self.n_chann, \n",
    "                out_channels=num_ifos, \n",
    "                kernel_size=1\n",
    "            )\n",
    "        \n",
    "        self.body_norm_encode = nn.GroupNorm(4 ,n_chann)\n",
    "        self.body_norm_decode = nn.GroupNorm(4 ,n_chann)\n",
    "        self.end_norm_encode = nn.BatchNorm1d(1)\n",
    "        self.end_norm_decode = nn.BatchNorm1d(1)\n",
    "        \n",
    "        self.WaveNet_layers_encode = nn.ModuleList()\n",
    "        self.WaveNet_layers_decode = nn.ModuleList()\n",
    "        \n",
    "        \n",
    "        for i in range(self.c_depth):\n",
    "\n",
    "            conv_layer = nn.Conv1d(\n",
    "                in_channels=self.n_chann, \n",
    "                out_channels=self.n_chann,\n",
    "                kernel_size=2,\n",
    "                dilation=2**i\n",
    "            )\n",
    "            \n",
    "            self.WaveNet_layers_encode.append(conv_layer)\n",
    "            \n",
    "        for i in range(self.c_depth):\n",
    "\n",
    "            conv_layer = nn.Conv1d(\n",
    "                in_channels=self.n_chann, \n",
    "                out_channels=self.n_chann,\n",
    "                kernel_size=2,\n",
    "                dilation=2**i\n",
    "            )\n",
    "            \n",
    "            self.WaveNet_layers_decode.append(conv_layer)\n",
    "        \n",
    "        \n",
    "        self.Padding_layer = nn.ZeroPad1d(2**c_depth - 1)\n",
    "                \n",
    "        # self.L1 = nn.Linear(8192-2**c_depth, l1)\n",
    "        \n",
    "        # Consider replacing other batch normalizatoin layers with other nor method\n",
    "        # Because batch norm are baised by the population of the CCSN rate in one batch \n",
    "        # This may produce overfitting model and will not be able to found at test phase\n",
    "        # Question: Will we be able to figure out the side effect at infereceing phase?\n",
    "        \n",
    "        self.L1_norm = nn.BatchNorm1d(200-2**c_depth + 1)\n",
    "        self.L1 = nn.Linear(200-2**c_depth + 1, l1)\n",
    "        self.L2_norm = nn.BatchNorm1d(l1)\n",
    "        self.L2 = nn.Linear(l1, l2)\n",
    "        # self.L3_norm = nn.BatchNorm1d(l2)\n",
    "        # self.L3 = nn.Linear(l2, 1)\n",
    "        self.L4_norm = nn.BatchNorm1d(l2)\n",
    "        self.L4 = nn.Linear(l2, l1)\n",
    "        self.L5_norm = nn.BatchNorm1d(l1)\n",
    "        self.L5 = nn.Linear(l1, 200-2**c_depth + 1)\n",
    "\n",
    "        nn.init.kaiming_normal_(self.Conv_In_encode.weight)\n",
    "        nn.init.kaiming_normal_(self.Conv_Out_encode.weight)\n",
    "        nn.init.constant_(self.Conv_In_encode.bias, 0.001)\n",
    "        nn.init.constant_(self.Conv_Out_encode.bias, 0.001)\n",
    "        \n",
    "        nn.init.kaiming_normal_(self.Conv_In_decode.weight)\n",
    "        nn.init.kaiming_normal_(self.Conv_Out_decode.weight)\n",
    "        nn.init.constant_(self.Conv_In_decode.bias, 0.001)\n",
    "        nn.init.constant_(self.Conv_Out_decode.bias, 0.001)\n",
    "\n",
    "        # Initialize all the convolutional layer in between\n",
    "        for conv_layer in self.WaveNet_layers_encode:\n",
    "            nn.init.kaiming_normal_(conv_layer.weight)\n",
    "            nn.init.constant_(conv_layer.bias, 0.001)\n",
    "            \n",
    "        for conv_layer in self.WaveNet_layers_decode:\n",
    "            nn.init.kaiming_normal_(conv_layer.weight)\n",
    "            nn.init.constant_(conv_layer.bias, 0.001)    \n",
    "\n",
    "        nn.init.kaiming_uniform_(self.L1.weight)\n",
    "        nn.init.kaiming_uniform_(self.L2.weight)\n",
    "        nn.init.constant_(self.L1.bias, 0.001)\n",
    "        nn.init.constant_(self.L2.bias, 0.001)\n",
    "        \n",
    "        nn.init.kaiming_uniform_(self.L4.weight)\n",
    "        nn.init.kaiming_uniform_(self.L5.weight)\n",
    "        nn.init.constant_(self.L4.bias, 0.001)\n",
    "        nn.init.constant_(self.L5.bias, 0.001)\n",
    "        \n",
    "    def encode(self, x):\n",
    "        \n",
    "        x = self.cap_norm(x)\n",
    "        x = self.Conv_In_encode(x)\n",
    "        x = F.relu(x)\n",
    "        \n",
    "        # x = self.norm(x)\n",
    "        \n",
    "        for what_are_u_wavin_at in self.WaveNet_layers_encode:\n",
    "            x = self.body_norm_encode(x)\n",
    "            x = what_are_u_wavin_at(x)\n",
    "            x = F.relu(x)\n",
    "            \n",
    "        # print(x.shape)\n",
    "        x = self.Conv_Out_encode(x)\n",
    "        x = F.relu(x)\n",
    "        x = self.end_norm_encode(x)\n",
    "        x = torch.flatten(x, 1)\n",
    "        \n",
    "        # print(x.shape)\n",
    "        \n",
    "        x = F.relu(self.L1(x))\n",
    "        # print(x.shape)\n",
    "        x = self.L2_norm(x)\n",
    "        # x = F.relu(self.L2(x))\n",
    "        # x = self.L3_norm(x)\n",
    "        # x = F.softmax(self.L3(x), dim = 1)\n",
    "        # x = self.L3(x)\n",
    "        x = self.L2(x)\n",
    "        \n",
    "        # print('Encoder done')\n",
    "        \n",
    "        return x\n",
    "    \n",
    "    def decode(self, x):\n",
    "        # print(x.shape)\n",
    "        x = self.L4_norm(x)\n",
    "        # print(x.shape)\n",
    "        x = F.relu(self.L4(x))\n",
    "        # print(x.shape)\n",
    "        x = self.L5_norm(x)\n",
    "        # print(x.shape)\n",
    "        # x = F.relu(self.L2(x))\n",
    "        # x = self.L3_norm(x)\n",
    "        # x = F.softmax(self.L3(x), dim = 1)\n",
    "        # x = self.L3(x)\n",
    "        x = F.relu(self.L5(x))\n",
    "        # print(x.shape)\n",
    "        # print('DNN done')\n",
    "        \n",
    "        x = self.Padding_layer(x)\n",
    "        \n",
    "        x = torch.unsqueeze(x,1)\n",
    "\n",
    "        # print(x.shape)\n",
    "        \n",
    "        # x = self.cap_norm(x)\n",
    "        x = self.Conv_In_decode(x)\n",
    "        x = F.relu(x)\n",
    "        \n",
    "        # x = self.norm(x)\n",
    "        \n",
    "        for what_are_u_wavin_at in self.WaveNet_layers_decode:\n",
    "            # print(x.shape)\n",
    "            x = self.body_norm_decode(x)\n",
    "            x = what_are_u_wavin_at(x)\n",
    "            x = F.relu(x)\n",
    "        \n",
    "        # print(x.shape)\n",
    "        # print('CNN done')\n",
    "        \n",
    "        x = self.Conv_Out_decode(x)\n",
    "        # print(x.shape)\n",
    "        x = F.tanh(x)\n",
    "        # print(x.shape)\n",
    "        # x = self.end_norm_decode(x)\n",
    "        \n",
    "        # x = torch.flatten(x, 1)\n",
    "        \n",
    "        \n",
    "        return x\n",
    "    \n",
    "    def forward(self,x):\n",
    "        return self.decode(self.encode(x))"
   ]
  },
  {
   "cell_type": "markdown",
   "metadata": {},
   "source": [
    "# Loading the dataset"
   ]
  },
  {
   "cell_type": "markdown",
   "metadata": {},
   "source": [
    "## Chia-Jui dataset"
   ]
  },
  {
   "cell_type": "markdown",
   "metadata": {},
   "source": [
    "### Reading the data from file"
   ]
  },
  {
   "cell_type": "code",
   "execution_count": 5,
   "metadata": {},
   "outputs": [],
   "source": [
    "## If one is using Chia-Jui's data\n",
    "\n",
    "renorm_factor_0 = 20;\n",
    "renorm_factor_1 = 20;\n",
    "\n",
    "realbkg_L = np.load('../Data_cached/real_bkg_2202000_63917s_4000Hz_50ms.npy')[:1000000].reshape(-1,1,200) / renorm_factor_0;\n",
    "realbkg_H = np.load('../Data_cached/real_bkg_H_1466640_58803s_4000Hz_50ms.npy')[:1000000].reshape(-1,1,200) / renorm_factor_0;\n",
    "\n",
    "realbkg = np.concatenate((realbkg_L[:1000000], realbkg_H[:1000000]), axis = 1).reshape(-1,200)\n",
    "\n",
    "del realbkg_L, realbkg_H\n",
    "\n",
    "realbbh = np.load('../Data_cached/injected_BBH_1823_around_merger_time_63917_58803.npz')['strain'].reshape(-1,200) / renorm_factor_0;\n",
    "\n",
    "realsg = np.load('../Data_cached/injected_lfsg_1835_around_merger_time_63917_58803.npz')['strain'].reshape(-1,200) / renorm_factor_0;\n",
    "# realglitch = np.load(\"../data/real_glitches_9998_4000Hz_25ms.npz\")[\"strain_time_data\"]\n",
    "realglitch_L = np.load(\"../Data_cached/real_glitches_snrlt5_60132_4000Hz_25ms.npz\")[\"strain_time_data\"][:30000].reshape(-1,1,200) / renorm_factor_1\n",
    "realglitch_H = np.load('../Data_cached/real_glitches_H_snrlt5_59732_4000Hz_25ms.npz')[\"strain_time_data\"][:30000].reshape(-1,1,200) / renorm_factor_1"
   ]
  },
  {
   "cell_type": "markdown",
   "metadata": {},
   "source": [
    "### Making the glitch set (one detector + one noise)"
   ]
  },
  {
   "cell_type": "code",
   "execution_count": 6,
   "metadata": {},
   "outputs": [],
   "source": [
    "noise_first50k = realbkg.reshape(-1,2,200)[:30000]\n",
    "\n",
    "glitch_L_noise_H = np.concatenate((realglitch_L, noise_first50k[:,[1],:]), axis = 1)\n",
    "glitch_H_noise_L = np.concatenate((realglitch_H, noise_first50k[:,[0],:]), axis = 1)\n",
    "realglitch = np.vstack((glitch_L_noise_H, glitch_H_noise_L))\n",
    "np.random.shuffle(realglitch)\n",
    "realglitch = realglitch.reshape(-1,200)\n",
    "realbkg = realbkg[60000:]\n",
    "\n",
    "del realglitch_L, realglitch_H, glitch_H_noise_L, glitch_L_noise_H"
   ]
  },
  {
   "cell_type": "markdown",
   "metadata": {},
   "source": [
    "### Reserve a certain propotion of set for further study"
   ]
  },
  {
   "cell_type": "code",
   "execution_count": 7,
   "metadata": {},
   "outputs": [],
   "source": [
    "realbkg_reserved = realbkg[-int(0.2 * len(realbkg))-int(0.2 * len(realbkg))%2:]\n",
    "realbbh_reserved = realbbh[-int(0.2 * len(realbbh))-int(0.2 * len(realbbh))%2:]\n",
    "realsg_reserved = realsg[-int(0.2 * len(realsg))-int(0.2 * len(realsg))%2:]\n",
    "realglitch_reserved = realglitch[-int(0.2 * len(realglitch))-int(0.2 * len(realglitch))%2:]\n",
    "\n",
    "realbkg = realbkg[:-int(0.2 * len(realbkg))-int(0.2 * len(realbkg))%2]\n",
    "realbbh = realbbh[:-int(0.2 * len(realbbh))-int(0.2 * len(realbbh))%2]\n",
    "realsg = realsg[:-int(0.2 * len(realsg))-int(0.2 * len(realsg))%2]\n",
    "realglitch = realglitch[:-int(0.2 * len(realglitch))-int(0.2 * len(realglitch))%2]"
   ]
  },
  {
   "cell_type": "markdown",
   "metadata": {},
   "source": []
  },
  {
   "cell_type": "code",
   "execution_count": 8,
   "metadata": {},
   "outputs": [],
   "source": [
    "realbkg = realbkg.reshape(-1,2,200)\n",
    "realbbh = realbbh.reshape(-1,2,200)\n",
    "realsg = realsg.reshape(-1,2,200)\n",
    "realglitch = realglitch.reshape(-1,2,200)"
   ]
  },
  {
   "cell_type": "code",
   "execution_count": 9,
   "metadata": {},
   "outputs": [
    {
     "data": {
      "text/plain": [
       "(776000, 2, 200)"
      ]
     },
     "execution_count": 9,
     "metadata": {},
     "output_type": "execute_result"
    }
   ],
   "source": [
    "realbkg.shape"
   ]
  },
  {
   "cell_type": "code",
   "execution_count": 10,
   "metadata": {},
   "outputs": [],
   "source": [
    "realbkg_reserved = realbkg_reserved.reshape(-1,2,200)\n",
    "realbbh_reserved = realbbh_reserved.reshape(-1,2,200)\n",
    "realsg_reserved = realsg_reserved.reshape(-1,2,200)\n",
    "realglitch_reserved = realglitch_reserved.reshape(-1,2,200)"
   ]
  },
  {
   "cell_type": "markdown",
   "metadata": {},
   "source": [
    "# Training the model"
   ]
  },
  {
   "cell_type": "markdown",
   "metadata": {},
   "source": [
    "## For supervised learning case"
   ]
  },
  {
   "cell_type": "markdown",
   "metadata": {},
   "source": [
    "### Trained with noise"
   ]
  },
  {
   "cell_type": "code",
   "execution_count": 38,
   "metadata": {},
   "outputs": [],
   "source": [
    "version = 'v1'\n",
    "dInput = 200"
   ]
  },
  {
   "cell_type": "code",
   "execution_count": 39,
   "metadata": {},
   "outputs": [],
   "source": [
    "n_BKG = len(realbkg)\n",
    "n_BBH = len(realbbh)\n",
    "n_SG = len(realsg)\n",
    "n_GLITCH = len(realglitch)"
   ]
  },
  {
   "cell_type": "code",
   "execution_count": 41,
   "metadata": {},
   "outputs": [],
   "source": [
    "# Beacuse there's already 20% of dataset reserved here, there's no meaning setting the testset. We only do\n",
    "# training and validation here. \n",
    "\n",
    "rTrain = 1-rValidation\n",
    "\n",
    "n_BKG_train = int(n_BKG * rTrain)\n",
    "n_BBH_train = int(n_BBH * rTrain)\n",
    "n_SG_train = int(n_SG * rTrain)\n",
    "n_GLITCH_train = int(n_GLITCH * rTrain)\n",
    "\n",
    "n_BKG_validation = int(n_BKG * rValidation)\n",
    "n_BBH_validation = int(n_BBH * rValidation)\n",
    "n_SG_validation = int(n_SG * rValidation)\n",
    "n_GLITCH_validation = int(n_GLITCH * rValidation)\n",
    "\n",
    "\n",
    "X_train = np.concatenate((realglitch[:n_GLITCH_train], \n",
    "                          realbbh[:n_BBH_train], \n",
    "                          realsg[:n_SG_train], \n",
    "                          realbkg[:n_BKG_train]), axis = 0)\n",
    "target_train = np.concatenate((np.ones(n_GLITCH_train + n_BBH_train + n_SG_train), np.zeros(n_BKG_train)))\n",
    "\n",
    "X_validation = np.concatenate((realglitch[-n_GLITCH_validation:], \n",
    "                          realbbh[-n_BBH_validation:], \n",
    "                          realsg[-n_SG_validation:], \n",
    "                          realbkg[-n_BKG_validation:]), axis = 0)\n",
    "target_validation = np.concatenate((np.ones(n_GLITCH_validation + n_BBH_validation + n_SG_validation), np.zeros(n_BKG_validation)))\n",
    "\n",
    "\n",
    "train_dataset = TensorDataset(torch.FloatTensor(X_train), torch.FloatTensor(target_train.reshape((len(target_train), 1))))\n",
    "# test_dataset  = TensorDataset(torch.FloatTensor(X_test.reshape((X_test.shape[0], 1, X_test.shape[1]))),  torch.FloatTensor(target_test.reshape((len(target_test), 1))))\n",
    "valid_dataset = TensorDataset(torch.FloatTensor(X_validation), torch.FloatTensor(target_validation.reshape((len(target_validation), 1))))\n",
    "\n",
    "trainDataLoader = DataLoader(dataset=train_dataset, batch_size=batch_size, shuffle=True)\n",
    "validationDataLoader = DataLoader(dataset=valid_dataset, batch_size=batch_size, shuffle=True)"
   ]
  },
  {
   "cell_type": "code",
   "execution_count": 42,
   "metadata": {},
   "outputs": [
    {
     "data": {
      "text/plain": [
       "(744233, 2, 200)"
      ]
     },
     "execution_count": 42,
     "metadata": {},
     "output_type": "execute_result"
    }
   ],
   "source": [
    "X_train.shape"
   ]
  },
  {
   "cell_type": "code",
   "execution_count": 45,
   "metadata": {},
   "outputs": [
    {
     "name": "stdout",
     "output_type": "stream",
     "text": [
      "13170\n",
      "Epoch: 0001, Training loss=0.003075, Validation loss=0.015904, valid accuracy=30.028818\n",
      "Time for this epoch: 129.90688848495483\n",
      "Epoch: 0002, Training loss=0.046359, Validation loss=0.015486, valid accuracy=30.028818\n",
      "Time for this epoch: 129.0955696105957\n",
      "Epoch: 0003, Training loss=0.003210, Validation loss=0.015535, valid accuracy=30.029169\n",
      "Time for this epoch: 131.192809343338\n"
     ]
    }
   ],
   "source": [
    "classifier = WaveletCNNSL(num_ifos=2, c_depth=5, n_chann=8, l1=64, l2=16).cuda()\n",
    "print(sum(p.numel() for p in classifier.parameters() if p.requires_grad))\n",
    "\n",
    "optimizer = optim.Adam(classifier.parameters(), lr=0.00005)\n",
    "loss_func = nn.BCEWithLogitsLoss(pos_weight=torch.FloatTensor([n_GLITCH_train/(n_BKG_train + n_BBH_train + n_SG_train)])).cuda()\n",
    "loss_train = np.empty((epochs, ))\n",
    "loss_validation = np.empty((epochs, ))\n",
    "\n",
    "for epoch in range(epochs):\n",
    "\n",
    "    t0 = time.time()\n",
    "    classifier.train()\n",
    "    for batchidx, (x, tgt_index) in enumerate(trainDataLoader):\n",
    "        x = x.cuda()\n",
    "        tgt_index = tgt_index.cuda()\n",
    "        output = classifier(x)\n",
    "        loss = loss_func(output, tgt_index)\n",
    "        \n",
    "        optimizer.zero_grad()\n",
    "        loss.backward()\n",
    "        optimizer.step()\n",
    "\n",
    "    classifier.eval()\n",
    "    with torch.no_grad():\n",
    "        val_loss = 0\n",
    "        n_correct = 0;\n",
    "        for batchidx, (x, tgt_index) in enumerate(validationDataLoader):\n",
    "            x = x.cuda()\n",
    "            tgt_index = tgt_index.cuda()\n",
    "            output = classifier(x)\n",
    "            lossVal = loss_func(output, tgt_index)\n",
    "            val_loss += lossVal.item()\n",
    "            n_correct += torch.eq(tgt_index, torch.argmax(output, dim=1)).sum().item()\n",
    "\n",
    "        val_loss /= len(validationDataLoader)\n",
    "\n",
    "    loss_train[epoch] = loss.item()\n",
    "    loss_validation[epoch] = val_loss\n",
    "    print('Epoch: %04d, Training loss=%f, Validation loss=%f, valid accuracy=%f' % (epoch+1, loss_train[epoch], val_loss, n_correct*1./len(X_validation)))\n",
    "    print('Time for this epoch: ' + str(time.time() - t0))\n",
    "\n",
    "#     print(time.time() - t0)\n",
    "\n",
    "plt.plot(loss_train)\n",
    "plt.plot(loss_validation)\n",
    "\n",
    "torch.save(classifier.cuda(), \"../Model_cached/Wavelet_model_SL_noisetrained\"+version+\".pt\")\n",
    "# np.savetxt(\"../data/SupLearn/lossClassifierTraining_64-64-16.dat\", [loss_train, loss_validation])"
   ]
  },
  {
   "cell_type": "markdown",
   "metadata": {},
   "source": [
    "### Trained with glitch"
   ]
  },
  {
   "cell_type": "code",
   "execution_count": null,
   "metadata": {},
   "outputs": [],
   "source": [
    "version = 'v1'\n",
    "dInput = 200"
   ]
  },
  {
   "cell_type": "code",
   "execution_count": null,
   "metadata": {},
   "outputs": [],
   "source": [
    "n_BKG = len(realbkg)\n",
    "n_BBH = len(realbbh)\n",
    "n_SG = len(realsg)\n",
    "n_GLITCH = len(realglitch)"
   ]
  },
  {
   "cell_type": "code",
   "execution_count": null,
   "metadata": {},
   "outputs": [],
   "source": [
    "# Beacuse there's already 20% of dataset reserved here, there's no meaning setting the testset. We only do\n",
    "# training and validation here. \n",
    "\n",
    "rTrain = 1-rValidation\n",
    "\n",
    "n_BKG_train = int(n_BKG * rTrain)\n",
    "n_BBH_train = int(n_BBH * rTrain)\n",
    "n_SG_train = int(n_SG * rTrain)\n",
    "n_GLITCH_train = int(n_GLITCH * rTrain)\n",
    "\n",
    "n_BKG_validation = int(n_BKG * rValidation)\n",
    "n_BBH_validation = int(n_BBH * rValidation)\n",
    "n_SG_validation = int(n_SG * rValidation)\n",
    "n_GLITCH_validation = int(n_GLITCH * rValidation)\n",
    "\n",
    "\n",
    "X_train = np.concatenate((realbkg[:n_BKG_train], \n",
    "                          realbbh[:n_BBH_train], \n",
    "                          realsg[:n_SG_train], \n",
    "                          realglitch[:n_GLITCH_train]), axis = 0)\n",
    "target_train = np.concatenate((np.ones(n_BKG_train + n_BBH_train + n_SG_train), np.zeros(n_GLITCH_train)))\n",
    "\n",
    "X_validation = np.concatenate((realbkg[:n_BKG_validation], \n",
    "                          realbbh[:n_BBH_validation], \n",
    "                          realsg[:n_SG_validation], \n",
    "                          realglitch[:n_GLITCH_validation]), axis = 0)\n",
    "target_validation = np.concatenate((np.ones(n_BKG_validation + n_BBH_validation + n_SG_validation), np.zeros(n_GLITCH_validation)))\n",
    "\n",
    "\n",
    "train_dataset = TensorDataset(torch.FloatTensor(X_train), torch.FloatTensor(target_train.reshape((len(target_train), 1))))\n",
    "# test_dataset  = TensorDataset(torch.FloatTensor(X_test.reshape((X_test.shape[0], 1, X_test.shape[1]))),  torch.FloatTensor(target_test.reshape((len(target_test), 1))))\n",
    "valid_dataset = TensorDataset(torch.FloatTensor(X_validation), torch.FloatTensor(target_validation.reshape((len(target_validation), 1))))\n",
    "\n",
    "trainDataLoader = DataLoader(dataset=train_dataset, batch_size=batch_size, shuffle=True)\n",
    "validationDataLoader = DataLoader(dataset=valid_dataset, batch_size=batch_size, shuffle=True)"
   ]
  },
  {
   "cell_type": "code",
   "execution_count": null,
   "metadata": {},
   "outputs": [
    {
     "data": {
      "text/plain": [
       "(744233, 2, 200)"
      ]
     },
     "metadata": {},
     "output_type": "display_data"
    }
   ],
   "source": [
    "X_train.shape"
   ]
  },
  {
   "cell_type": "code",
   "execution_count": null,
   "metadata": {},
   "outputs": [
    {
     "ename": "NameError",
     "evalue": "name 'WaveletCNNSL' is not defined",
     "output_type": "error",
     "traceback": [
      "\u001b[1;31m---------------------------------------------------------------------------\u001b[0m\n",
      "\u001b[1;31mNameError\u001b[0m                                 Traceback (most recent call last)\n",
      "Cell \u001b[1;32mIn[16], line 1\u001b[0m\n",
      "\u001b[1;32m----> 1\u001b[0m classifier \u001b[38;5;241m=\u001b[39m \u001b[43mWaveletCNNSL\u001b[49m(num_ifos\u001b[38;5;241m=\u001b[39m\u001b[38;5;241m2\u001b[39m, c_depth\u001b[38;5;241m=\u001b[39m\u001b[38;5;241m5\u001b[39m, n_chann\u001b[38;5;241m=\u001b[39m\u001b[38;5;241m8\u001b[39m, l1\u001b[38;5;241m=\u001b[39m\u001b[38;5;241m64\u001b[39m, l2\u001b[38;5;241m=\u001b[39m\u001b[38;5;241m16\u001b[39m)\u001b[38;5;241m.\u001b[39mcuda()\n",
      "\u001b[0;32m      2\u001b[0m \u001b[38;5;28mprint\u001b[39m(\u001b[38;5;28msum\u001b[39m(p\u001b[38;5;241m.\u001b[39mnumel() \u001b[38;5;28;01mfor\u001b[39;00m p \u001b[38;5;129;01min\u001b[39;00m classifier\u001b[38;5;241m.\u001b[39mparameters() \u001b[38;5;28;01mif\u001b[39;00m p\u001b[38;5;241m.\u001b[39mrequires_grad))\n",
      "\u001b[0;32m      4\u001b[0m optimizer \u001b[38;5;241m=\u001b[39m optim\u001b[38;5;241m.\u001b[39mAdam(classifier\u001b[38;5;241m.\u001b[39mparameters(), lr\u001b[38;5;241m=\u001b[39m\u001b[38;5;241m0.00005\u001b[39m)\n",
      "\n",
      "\u001b[1;31mNameError\u001b[0m: name 'WaveletCNNSL' is not defined"
     ]
    }
   ],
   "source": [
    "classifier = WaveletCNNSL(num_ifos=2, c_depth=5, n_chann=8, l1=64, l2=16).cuda()\n",
    "print(sum(p.numel() for p in classifier.parameters() if p.requires_grad))\n",
    "\n",
    "optimizer = optim.Adam(classifier.parameters(), lr=0.00005)\n",
    "loss_func = nn.BCEWithLogitsLoss(pos_weight=torch.FloatTensor([n_GLITCH_train/(n_BKG_train + n_BBH_train + n_SG_train)])).cuda()\n",
    "loss_train = np.empty((epochs, ))\n",
    "loss_validation = np.empty((epochs, ))\n",
    "\n",
    "for epoch in range(epochs):\n",
    "\n",
    "    t0 = time.time()\n",
    "    classifier.train()\n",
    "    for batchidx, (x, tgt_index) in enumerate(trainDataLoader):\n",
    "        x = x.cuda()\n",
    "        tgt_index = tgt_index.cuda()\n",
    "        output = classifier(x)\n",
    "        loss = loss_func(output, tgt_index)\n",
    "        \n",
    "        optimizer.zero_grad()\n",
    "        loss.backward()\n",
    "        optimizer.step()\n",
    "\n",
    "    classifier.eval()\n",
    "    with torch.no_grad():\n",
    "        val_loss = 0\n",
    "        n_correct = 0;\n",
    "        for batchidx, (x, tgt_index) in enumerate(validationDataLoader):\n",
    "            x = x.cuda()\n",
    "            tgt_index = tgt_index.cuda()\n",
    "            output = classifier(x)\n",
    "            lossVal = loss_func(output, tgt_index)\n",
    "            val_loss += lossVal.item()\n",
    "            n_correct += torch.eq(tgt_index, torch.argmax(output, dim=1)).sum().item()\n",
    "\n",
    "        val_loss /= len(validationDataLoader)\n",
    "\n",
    "    loss_train[epoch] = loss.item()\n",
    "    loss_validation[epoch] = val_loss\n",
    "    print('Epoch: %04d, Training loss=%f, Validation loss=%f, valid accuracy=%f' % (epoch+1, loss_train[epoch], val_loss, n_correct*1./len(X_validation)))\n",
    "    print('Time for this epoch: ' + str(time.time() - t0))\n",
    "\n",
    "#     print(time.time() - t0)\n",
    "\n",
    "plt.plot(loss_train)\n",
    "plt.plot(loss_validation)\n",
    "\n",
    "torch.save(classifier.cuda(), \"../Model_cached/Wavelet_model_SL\"+version+\".pt\")\n",
    "# np.savetxt(\"../data/SupLearn/lossClassifierTraining_64-64-16.dat\", [loss_train, loss_validation])"
   ]
  },
  {
   "cell_type": "code",
   "execution_count": null,
   "metadata": {},
   "outputs": [],
   "source": []
  },
  {
   "cell_type": "markdown",
   "metadata": {},
   "source": [
    "### Trained with noise"
   ]
  },
  {
   "cell_type": "code",
   "execution_count": null,
   "metadata": {},
   "outputs": [],
   "source": []
  },
  {
   "cell_type": "markdown",
   "metadata": {},
   "source": [
    "## For unsupervised learning case"
   ]
  },
  {
   "cell_type": "markdown",
   "metadata": {},
   "source": [
    "### Trained with glitch"
   ]
  },
  {
   "cell_type": "code",
   "execution_count": 70,
   "metadata": {},
   "outputs": [],
   "source": [
    "version = 'v2'\n",
    "dInput = 200"
   ]
  },
  {
   "cell_type": "code",
   "execution_count": 71,
   "metadata": {},
   "outputs": [],
   "source": [
    "n_BKG = len(realbkg)\n",
    "n_BBH = len(realbbh)\n",
    "n_SG = len(realsg)\n",
    "n_GLITCH = len(realglitch)"
   ]
  },
  {
   "cell_type": "code",
   "execution_count": 72,
   "metadata": {},
   "outputs": [],
   "source": [
    "# Beacuse there's already 20% of dataset reserved here, there's no meaning setting the testset. We only do\n",
    "# training and validation here. \n",
    "\n",
    "rTrain = 1-rValidation\n",
    "\n",
    "n_BKG_train = int(n_BKG * rTrain)\n",
    "n_BBH_train = int(n_BBH * rTrain)\n",
    "n_SG_train = int(n_SG * rTrain)\n",
    "n_GLITCH_train = int(n_GLITCH * rTrain)\n",
    "\n",
    "n_BKG_validation = int(n_BKG * rValidation)\n",
    "n_BBH_validation = int(n_BBH * rValidation)\n",
    "n_SG_validation = int(n_SG * rValidation)\n",
    "n_GLITCH_validation = int(n_GLITCH * rValidation)"
   ]
  },
  {
   "cell_type": "code",
   "execution_count": null,
   "metadata": {},
   "outputs": [
    {
     "ename": "MemoryError",
     "evalue": "Unable to allocate 2.22 GiB for an array with shape (744233, 2, 200) and data type float64",
     "output_type": "error",
     "traceback": [
      "\u001b[1;31m---------------------------------------------------------------------------\u001b[0m\n",
      "\u001b[1;31mMemoryError\u001b[0m                               Traceback (most recent call last)\n",
      "Cell \u001b[1;32mIn[37], line 17\u001b[0m\n",
      "\u001b[0;32m     13\u001b[0m n_SG_validation \u001b[38;5;241m=\u001b[39m \u001b[38;5;28mint\u001b[39m(n_SG \u001b[38;5;241m*\u001b[39m rValidation)\n",
      "\u001b[0;32m     14\u001b[0m n_GLITCH_validation \u001b[38;5;241m=\u001b[39m \u001b[38;5;28mint\u001b[39m(n_GLITCH \u001b[38;5;241m*\u001b[39m rValidation)\n",
      "\u001b[1;32m---> 17\u001b[0m X_train \u001b[38;5;241m=\u001b[39m \u001b[43mnp\u001b[49m\u001b[38;5;241;43m.\u001b[39;49m\u001b[43mconcatenate\u001b[49m\u001b[43m(\u001b[49m\u001b[43m(\u001b[49m\u001b[43mrealbkg\u001b[49m\u001b[43m[\u001b[49m\u001b[43m:\u001b[49m\u001b[43mn_BKG_train\u001b[49m\u001b[43m]\u001b[49m\u001b[43m,\u001b[49m\u001b[43m \u001b[49m\n",
      "\u001b[0;32m     18\u001b[0m \u001b[43m                          \u001b[49m\u001b[43mrealbbh\u001b[49m\u001b[43m[\u001b[49m\u001b[43m:\u001b[49m\u001b[43mn_BBH_train\u001b[49m\u001b[43m]\u001b[49m\u001b[43m,\u001b[49m\u001b[43m \u001b[49m\n",
      "\u001b[0;32m     19\u001b[0m \u001b[43m                          \u001b[49m\u001b[43mrealsg\u001b[49m\u001b[43m[\u001b[49m\u001b[43m:\u001b[49m\u001b[43mn_SG_train\u001b[49m\u001b[43m]\u001b[49m\u001b[43m,\u001b[49m\u001b[43m \u001b[49m\n",
      "\u001b[0;32m     20\u001b[0m \u001b[43m                          \u001b[49m\u001b[43mrealglitch\u001b[49m\u001b[43m[\u001b[49m\u001b[43m:\u001b[49m\u001b[43mn_GLITCH_train\u001b[49m\u001b[43m]\u001b[49m\u001b[43m)\u001b[49m\u001b[43m,\u001b[49m\u001b[43m \u001b[49m\u001b[43maxis\u001b[49m\u001b[43m \u001b[49m\u001b[38;5;241;43m=\u001b[39;49m\u001b[43m \u001b[49m\u001b[38;5;241;43m0\u001b[39;49m\u001b[43m)\u001b[49m\n",
      "\u001b[0;32m     21\u001b[0m target_train \u001b[38;5;241m=\u001b[39m np\u001b[38;5;241m.\u001b[39mconcatenate((np\u001b[38;5;241m.\u001b[39mones(n_BKG_train \u001b[38;5;241m+\u001b[39m n_BBH_train \u001b[38;5;241m+\u001b[39m n_SG_train), np\u001b[38;5;241m.\u001b[39mzeros(n_GLITCH_train)))\n",
      "\u001b[0;32m     23\u001b[0m X_validation \u001b[38;5;241m=\u001b[39m np\u001b[38;5;241m.\u001b[39mconcatenate((realbkg[\u001b[38;5;241m-\u001b[39mn_BKG_validation:], \n",
      "\u001b[0;32m     24\u001b[0m                           realbbh[\u001b[38;5;241m-\u001b[39mn_BBH_validation:], \n",
      "\u001b[0;32m     25\u001b[0m                           realsg[\u001b[38;5;241m-\u001b[39mn_SG_validation:], \n",
      "\u001b[0;32m     26\u001b[0m                           realglitch[\u001b[38;5;241m-\u001b[39mn_GLITCH_validation:]), axis \u001b[38;5;241m=\u001b[39m \u001b[38;5;241m0\u001b[39m)\n",
      "\n",
      "\u001b[1;31mMemoryError\u001b[0m: Unable to allocate 2.22 GiB for an array with shape (744233, 2, 200) and data type float64"
     ]
    }
   ],
   "source": [
    "# Beacuse there's already 20% of dataset reserved here, there's no meaning setting the testset. We only do\n",
    "# training and validation here. \n",
    "\n",
    "rTrain = 1-rValidation\n",
    "\n",
    "n_BKG_train = int(n_BKG * rTrain)\n",
    "n_BBH_train = int(n_BBH * rTrain)\n",
    "n_SG_train = int(n_SG * rTrain)\n",
    "n_GLITCH_train = int(n_GLITCH * rTrain)\n",
    "\n",
    "n_BKG_validation = int(n_BKG * rValidation)\n",
    "n_BBH_validation = int(n_BBH * rValidation)\n",
    "n_SG_validation = int(n_SG * rValidation)\n",
    "n_GLITCH_validation = int(n_GLITCH * rValidation)\n",
    "\n",
    "\n",
    "X_train = np.concatenate((realbkg[:n_BKG_train], \n",
    "                          realbbh[:n_BBH_train], \n",
    "                          realsg[:n_SG_train], \n",
    "                          realglitch[:n_GLITCH_train]), axis = 0)\n",
    "target_train = np.concatenate((np.ones(n_BKG_train + n_BBH_train + n_SG_train), np.zeros(n_GLITCH_train)))\n",
    "\n",
    "X_validation = np.concatenate((realbkg[-n_BKG_validation:], \n",
    "                          realbbh[-n_BBH_validation:], \n",
    "                          realsg[-n_SG_validation:], \n",
    "                          realglitch[-n_GLITCH_validation:]), axis = 0)\n",
    "target_validation = np.concatenate((np.ones(n_BKG_validation + n_BBH_validation + n_SG_validation), np.zeros(n_GLITCH_validation)))\n",
    "\n",
    "\n",
    "train_dataset = TensorDataset(torch.FloatTensor(X_train), torch.FloatTensor(target_train.reshape((len(target_train), 1))))\n",
    "# test_dataset  = TensorDataset(torch.FloatTensor(X_test.reshape((X_test.shape[0], 1, X_test.shape[1]))),  torch.FloatTensor(target_test.reshape((len(target_test), 1))))\n",
    "valid_dataset = TensorDataset(torch.FloatTensor(X_validation), torch.FloatTensor(target_validation.reshape((len(target_validation), 1))))\n",
    "\n",
    "trainDataLoader = DataLoader(dataset=train_dataset, batch_size=batch_size, shuffle=True)\n",
    "validationDataLoader = DataLoader(dataset=valid_dataset, batch_size=batch_size, shuffle=True)"
   ]
  },
  {
   "cell_type": "code",
   "execution_count": 73,
   "metadata": {},
   "outputs": [],
   "source": [
    "X_train = realglitch[:n_GLITCH_train]\n",
    "X_validation = realglitch[-n_GLITCH_validation:]\n",
    "\n",
    "train_dataset = TensorDataset(torch.FloatTensor(X_train))\n",
    "# test_dataset  = TensorDataset(torch.FloatTensor(X_test.reshape((X_test.shape[0], 1, X_test.shape[1]))),  torch.FloatTensor(target_test.reshape((len(target_test), 1))))\n",
    "valid_dataset = TensorDataset(torch.FloatTensor(X_validation))\n",
    "\n",
    "trainDataLoader = DataLoader(dataset=train_dataset, batch_size=batch_size, shuffle=True)\n",
    "validationDataLoader = DataLoader(dataset=valid_dataset, batch_size=batch_size, shuffle=True)"
   ]
  },
  {
   "cell_type": "code",
   "execution_count": 74,
   "metadata": {},
   "outputs": [
    {
     "data": {
      "text/plain": [
       "(43200, 2, 200)"
      ]
     },
     "execution_count": 74,
     "metadata": {},
     "output_type": "execute_result"
    }
   ],
   "source": [
    "X_train.shape"
   ]
  },
  {
   "cell_type": "code",
   "execution_count": 78,
   "metadata": {},
   "outputs": [
    {
     "name": "stdout",
     "output_type": "stream",
     "text": [
      "13518\n",
      "Epoch: 0001, Training loss=0.039150, Validation loss=0.049243, valid accuracy=0.000000\n",
      "Time for this epoch: 11.35332465171814\n",
      "Epoch: 0002, Training loss=0.011171, Validation loss=0.020070, valid accuracy=0.000000\n",
      "Time for this epoch: 11.288604021072388\n",
      "Epoch: 0003, Training loss=0.004177, Validation loss=0.012966, valid accuracy=0.000000\n",
      "Time for this epoch: 11.240143775939941\n",
      "Epoch: 0004, Training loss=0.001893, Validation loss=0.010958, valid accuracy=0.000000\n",
      "Time for this epoch: 11.386743068695068\n",
      "Epoch: 0005, Training loss=0.358197, Validation loss=0.010321, valid accuracy=0.000000\n",
      "Time for this epoch: 11.142413854598999\n",
      "Epoch: 0006, Training loss=0.001221, Validation loss=0.010022, valid accuracy=0.000000\n",
      "Time for this epoch: 11.1263906955719\n",
      "Epoch: 0007, Training loss=0.000885, Validation loss=0.009912, valid accuracy=0.000000\n",
      "Time for this epoch: 11.430962324142456\n",
      "Epoch: 0008, Training loss=0.000776, Validation loss=0.009794, valid accuracy=0.000000\n",
      "Time for this epoch: 11.425986289978027\n",
      "Epoch: 0009, Training loss=0.000951, Validation loss=0.009749, valid accuracy=0.000000\n",
      "Time for this epoch: 11.2670259475708\n",
      "Epoch: 0010, Training loss=0.000712, Validation loss=0.009718, valid accuracy=0.000000\n",
      "Time for this epoch: 11.16205883026123\n",
      "Epoch: 0011, Training loss=0.000655, Validation loss=0.009704, valid accuracy=0.000000\n",
      "Time for this epoch: 11.140558242797852\n",
      "Epoch: 0012, Training loss=0.000718, Validation loss=0.009692, valid accuracy=0.000000\n",
      "Time for this epoch: 11.34341025352478\n",
      "Epoch: 0013, Training loss=0.000675, Validation loss=0.009684, valid accuracy=0.000000\n",
      "Time for this epoch: 11.359284162521362\n",
      "Epoch: 0014, Training loss=0.000621, Validation loss=0.009679, valid accuracy=0.000000\n",
      "Time for this epoch: 11.308399438858032\n",
      "Epoch: 0015, Training loss=0.000684, Validation loss=0.009697, valid accuracy=0.000000\n",
      "Time for this epoch: 11.23651933670044\n",
      "Epoch: 0016, Training loss=0.000652, Validation loss=0.009667, valid accuracy=0.000000\n",
      "Time for this epoch: 11.30934476852417\n",
      "Epoch: 0017, Training loss=0.001219, Validation loss=0.009664, valid accuracy=0.000000\n",
      "Time for this epoch: 11.184781074523926\n",
      "Epoch: 0018, Training loss=0.001030, Validation loss=0.009663, valid accuracy=0.000000\n",
      "Time for this epoch: 11.218797445297241\n",
      "Epoch: 0019, Training loss=0.001378, Validation loss=0.009658, valid accuracy=0.000000\n",
      "Time for this epoch: 11.251250982284546\n",
      "Epoch: 0020, Training loss=0.000584, Validation loss=0.009665, valid accuracy=0.000000\n",
      "Time for this epoch: 11.237527847290039\n",
      "Epoch: 0021, Training loss=0.000592, Validation loss=0.009654, valid accuracy=0.000000\n",
      "Time for this epoch: 11.217314958572388\n",
      "Epoch: 0022, Training loss=0.035086, Validation loss=0.009653, valid accuracy=0.000000\n",
      "Time for this epoch: 11.277093648910522\n",
      "Epoch: 0023, Training loss=0.000651, Validation loss=0.009650, valid accuracy=0.000000\n",
      "Time for this epoch: 11.263965368270874\n",
      "Epoch: 0024, Training loss=0.018142, Validation loss=0.009649, valid accuracy=0.000000\n",
      "Time for this epoch: 11.131126880645752\n",
      "Epoch: 0025, Training loss=0.000580, Validation loss=0.009648, valid accuracy=0.000000\n",
      "Time for this epoch: 11.296973943710327\n",
      "Epoch: 0026, Training loss=0.000608, Validation loss=0.009648, valid accuracy=0.000000\n",
      "Time for this epoch: 11.608066082000732\n",
      "Epoch: 0027, Training loss=0.000685, Validation loss=0.009678, valid accuracy=0.000000\n",
      "Time for this epoch: 11.253041505813599\n",
      "Epoch: 0028, Training loss=0.292201, Validation loss=0.009645, valid accuracy=0.000000\n",
      "Time for this epoch: 11.243052244186401\n",
      "Epoch: 0029, Training loss=0.000571, Validation loss=0.009644, valid accuracy=0.000000\n",
      "Time for this epoch: 11.267513751983643\n",
      "Epoch: 0030, Training loss=0.000563, Validation loss=0.009643, valid accuracy=0.000000\n",
      "Time for this epoch: 11.196837186813354\n",
      "Epoch: 0031, Training loss=0.000581, Validation loss=0.009646, valid accuracy=0.000000\n",
      "Time for this epoch: 11.377614736557007\n",
      "Epoch: 0032, Training loss=0.000651, Validation loss=0.009641, valid accuracy=0.000000\n",
      "Time for this epoch: 11.404400110244751\n",
      "Epoch: 0033, Training loss=0.000663, Validation loss=0.009641, valid accuracy=0.000000\n",
      "Time for this epoch: 11.211341857910156\n",
      "Epoch: 0034, Training loss=0.000552, Validation loss=0.009641, valid accuracy=0.000000\n",
      "Time for this epoch: 11.249319553375244\n",
      "Epoch: 0035, Training loss=0.000579, Validation loss=0.009645, valid accuracy=0.000000\n",
      "Time for this epoch: 11.22543215751648\n",
      "Epoch: 0036, Training loss=0.000583, Validation loss=0.009644, valid accuracy=0.000000\n",
      "Time for this epoch: 11.189220905303955\n",
      "Epoch: 0037, Training loss=0.000675, Validation loss=0.009640, valid accuracy=0.000000\n",
      "Time for this epoch: 11.316203594207764\n",
      "Epoch: 0038, Training loss=0.000588, Validation loss=0.009641, valid accuracy=0.000000\n",
      "Time for this epoch: 11.367738962173462\n",
      "Epoch: 0039, Training loss=0.000597, Validation loss=0.009639, valid accuracy=0.000000\n",
      "Time for this epoch: 11.20282506942749\n",
      "Epoch: 0040, Training loss=0.000623, Validation loss=0.009639, valid accuracy=0.000000\n",
      "Time for this epoch: 11.269286394119263\n",
      "Epoch: 0041, Training loss=0.000572, Validation loss=0.009638, valid accuracy=0.000000\n",
      "Time for this epoch: 11.178239107131958\n",
      "Epoch: 0042, Training loss=0.000584, Validation loss=0.009638, valid accuracy=0.000000\n",
      "Time for this epoch: 11.210329294204712\n",
      "Epoch: 0043, Training loss=0.000672, Validation loss=0.009639, valid accuracy=0.000000\n",
      "Time for this epoch: 11.223187446594238\n",
      "Epoch: 0044, Training loss=0.000622, Validation loss=0.009638, valid accuracy=0.000000\n",
      "Time for this epoch: 11.263036012649536\n",
      "Epoch: 0045, Training loss=0.000573, Validation loss=0.009637, valid accuracy=0.000000\n",
      "Time for this epoch: 11.341802835464478\n",
      "Epoch: 0046, Training loss=0.000821, Validation loss=0.009637, valid accuracy=0.000000\n",
      "Time for this epoch: 11.226070880889893\n",
      "Epoch: 0047, Training loss=0.000932, Validation loss=0.009638, valid accuracy=0.000000\n",
      "Time for this epoch: 11.119601726531982\n",
      "Epoch: 0048, Training loss=0.000565, Validation loss=0.009637, valid accuracy=0.000000\n",
      "Time for this epoch: 11.191644191741943\n",
      "Epoch: 0049, Training loss=0.000565, Validation loss=0.009637, valid accuracy=0.000000\n",
      "Time for this epoch: 11.249821186065674\n",
      "Epoch: 0050, Training loss=0.000541, Validation loss=0.009637, valid accuracy=0.000000\n",
      "Time for this epoch: 11.73007082939148\n",
      "Epoch: 0051, Training loss=0.001814, Validation loss=0.009659, valid accuracy=0.000000\n",
      "Time for this epoch: 11.250735759735107\n",
      "Epoch: 0052, Training loss=0.000618, Validation loss=0.009637, valid accuracy=0.000000\n",
      "Time for this epoch: 11.21132230758667\n",
      "Epoch: 0053, Training loss=0.000611, Validation loss=0.009637, valid accuracy=0.000000\n",
      "Time for this epoch: 11.233234643936157\n",
      "Epoch: 0054, Training loss=0.000756, Validation loss=0.009638, valid accuracy=0.000000\n",
      "Time for this epoch: 11.247932434082031\n",
      "Epoch: 0055, Training loss=0.000586, Validation loss=0.009638, valid accuracy=0.000000\n",
      "Time for this epoch: 11.300148010253906\n",
      "Epoch: 0056, Training loss=0.000685, Validation loss=0.009645, valid accuracy=0.000000\n",
      "Time for this epoch: 11.399094104766846\n",
      "Epoch: 0057, Training loss=0.002779, Validation loss=0.009638, valid accuracy=0.000000\n",
      "Time for this epoch: 11.234660625457764\n",
      "Epoch: 0058, Training loss=0.000639, Validation loss=0.009636, valid accuracy=0.000000\n",
      "Time for this epoch: 11.238948822021484\n",
      "Epoch: 0059, Training loss=0.000621, Validation loss=0.009636, valid accuracy=0.000000\n",
      "Time for this epoch: 11.351048469543457\n",
      "Epoch: 0060, Training loss=0.000587, Validation loss=0.009644, valid accuracy=0.000000\n",
      "Time for this epoch: 11.218309164047241\n",
      "Epoch: 0061, Training loss=0.000685, Validation loss=0.009636, valid accuracy=0.000000\n",
      "Time for this epoch: 11.228907585144043\n",
      "Epoch: 0062, Training loss=0.000846, Validation loss=0.009647, valid accuracy=0.000000\n",
      "Time for this epoch: 11.43705940246582\n",
      "Epoch: 0063, Training loss=0.000559, Validation loss=0.009636, valid accuracy=0.000000\n",
      "Time for this epoch: 11.200421810150146\n",
      "Epoch: 0064, Training loss=0.000711, Validation loss=0.009637, valid accuracy=0.000000\n",
      "Time for this epoch: 11.385185480117798\n",
      "Epoch: 0065, Training loss=0.000577, Validation loss=0.009636, valid accuracy=0.000000\n",
      "Time for this epoch: 11.301769495010376\n",
      "Epoch: 0066, Training loss=0.000538, Validation loss=0.009636, valid accuracy=0.000000\n",
      "Time for this epoch: 11.187734127044678\n",
      "Epoch: 0067, Training loss=0.000559, Validation loss=0.009640, valid accuracy=0.000000\n",
      "Time for this epoch: 11.188359022140503\n",
      "Epoch: 0068, Training loss=0.000569, Validation loss=0.009636, valid accuracy=0.000000\n",
      "Time for this epoch: 11.467617750167847\n",
      "Epoch: 0069, Training loss=0.001351, Validation loss=0.009636, valid accuracy=0.000000\n",
      "Time for this epoch: 11.358722686767578\n",
      "Epoch: 0070, Training loss=0.003756, Validation loss=0.009635, valid accuracy=0.000000\n",
      "Time for this epoch: 11.285028457641602\n",
      "Epoch: 0071, Training loss=0.000555, Validation loss=0.009636, valid accuracy=0.000000\n",
      "Time for this epoch: 11.265157461166382\n",
      "Epoch: 0072, Training loss=0.000610, Validation loss=0.009635, valid accuracy=0.000000\n",
      "Time for this epoch: 11.194380521774292\n",
      "Epoch: 0073, Training loss=0.000595, Validation loss=0.009635, valid accuracy=0.000000\n",
      "Time for this epoch: 11.31390643119812\n",
      "Epoch: 0074, Training loss=0.000940, Validation loss=0.009635, valid accuracy=0.000000\n",
      "Time for this epoch: 11.408578634262085\n",
      "Epoch: 0075, Training loss=0.000588, Validation loss=0.009637, valid accuracy=0.000000\n",
      "Time for this epoch: 11.294163703918457\n",
      "Epoch: 0076, Training loss=0.000601, Validation loss=0.009635, valid accuracy=0.000000\n",
      "Time for this epoch: 11.239116668701172\n",
      "Epoch: 0077, Training loss=0.000682, Validation loss=0.009636, valid accuracy=0.000000\n",
      "Time for this epoch: 11.20992112159729\n",
      "Epoch: 0078, Training loss=0.000837, Validation loss=0.009635, valid accuracy=0.000000\n",
      "Time for this epoch: 11.352860450744629\n",
      "Epoch: 0079, Training loss=0.000566, Validation loss=0.009635, valid accuracy=0.000000\n",
      "Time for this epoch: 11.234899997711182\n",
      "Epoch: 0080, Training loss=0.000678, Validation loss=0.009636, valid accuracy=0.000000\n",
      "Time for this epoch: 11.465934038162231\n",
      "Epoch: 0081, Training loss=0.042583, Validation loss=0.009636, valid accuracy=0.000000\n",
      "Time for this epoch: 11.307136535644531\n",
      "Epoch: 0082, Training loss=0.000649, Validation loss=0.009635, valid accuracy=0.000000\n",
      "Time for this epoch: 11.231889963150024\n",
      "Epoch: 0083, Training loss=0.000616, Validation loss=0.009635, valid accuracy=0.000000\n",
      "Time for this epoch: 11.316475868225098\n",
      "Epoch: 0084, Training loss=0.000607, Validation loss=0.009636, valid accuracy=0.000000\n",
      "Time for this epoch: 11.29636001586914\n",
      "Epoch: 0085, Training loss=0.001996, Validation loss=0.009635, valid accuracy=0.000000\n",
      "Time for this epoch: 11.199371099472046\n",
      "Epoch: 0086, Training loss=0.000629, Validation loss=0.009635, valid accuracy=0.000000\n",
      "Time for this epoch: 11.235298871994019\n",
      "Epoch: 0087, Training loss=0.012018, Validation loss=0.009635, valid accuracy=0.000000\n",
      "Time for this epoch: 11.400633096694946\n",
      "Epoch: 0088, Training loss=0.000578, Validation loss=0.009635, valid accuracy=0.000000\n",
      "Time for this epoch: 11.302886724472046\n",
      "Epoch: 0089, Training loss=0.000559, Validation loss=0.009635, valid accuracy=0.000000\n",
      "Time for this epoch: 11.198380947113037\n",
      "Epoch: 0090, Training loss=0.000621, Validation loss=0.009636, valid accuracy=0.000000\n",
      "Time for this epoch: 11.199688196182251\n",
      "Epoch: 0091, Training loss=0.000629, Validation loss=0.009635, valid accuracy=0.000000\n",
      "Time for this epoch: 11.127113342285156\n",
      "Epoch: 0092, Training loss=0.000584, Validation loss=0.009635, valid accuracy=0.000000\n",
      "Time for this epoch: 11.500296831130981\n",
      "Epoch: 0093, Training loss=0.000646, Validation loss=0.009635, valid accuracy=0.000000\n",
      "Time for this epoch: 11.294873714447021\n",
      "Epoch: 0094, Training loss=0.000610, Validation loss=0.009635, valid accuracy=0.000000\n",
      "Time for this epoch: 11.174171447753906\n",
      "Epoch: 0095, Training loss=0.000604, Validation loss=0.009635, valid accuracy=0.000000\n",
      "Time for this epoch: 11.232843399047852\n",
      "Epoch: 0096, Training loss=0.000698, Validation loss=0.009639, valid accuracy=0.000000\n",
      "Time for this epoch: 11.168530225753784\n",
      "Epoch: 0097, Training loss=0.000662, Validation loss=0.009637, valid accuracy=0.000000\n",
      "Time for this epoch: 11.240627527236938\n",
      "Epoch: 0098, Training loss=0.000661, Validation loss=0.009635, valid accuracy=0.000000\n",
      "Time for this epoch: 11.299926996231079\n",
      "Epoch: 0099, Training loss=0.000648, Validation loss=0.009635, valid accuracy=0.000000\n",
      "Time for this epoch: 11.227580785751343\n",
      "Epoch: 0100, Training loss=0.000575, Validation loss=0.009637, valid accuracy=0.000000\n",
      "Time for this epoch: 11.171997308731079\n"
     ]
    },
    {
     "data": {
      "image/png": "[encoded data removed]",
      "text/plain": [
       "<Figure size 640x480 with 1 Axes>"
      ]
     },
     "metadata": {},
     "output_type": "display_data"
    }
   ],
   "source": [
    "classifier = WaveletCNNAE(num_ifos=2, c_depth=5, n_chann=8, l1=32, l2=8).cuda()\n",
    "print(sum(p.numel() for p in classifier.parameters() if p.requires_grad))\n",
    "\n",
    "optimizer = optim.Adam(classifier.parameters(), lr=0.00005)\n",
    "loss_func = nn.MSELoss().cuda()\n",
    "loss_train = np.empty((epochs, ))\n",
    "loss_validation = np.empty((epochs, ))\n",
    "\n",
    "for epoch in range(epochs):\n",
    "\n",
    "    t0 = time.time()\n",
    "    classifier.train()\n",
    "    for batchidx, x in enumerate(trainDataLoader):\n",
    "        x = x[0].cuda()\n",
    "        # print(x.shape)\n",
    "        # tgt_index = tgt_index.cuda()\n",
    "        output = classifier(x)\n",
    "        loss = loss_func(output, x)\n",
    "        \n",
    "        optimizer.zero_grad()\n",
    "        loss.backward()\n",
    "        optimizer.step()\n",
    "\n",
    "    classifier.eval()\n",
    "    with torch.no_grad():\n",
    "        val_loss = 0\n",
    "        n_correct = 0;\n",
    "        for batchidx, x in enumerate(validationDataLoader):\n",
    "            x = x[0].cuda()\n",
    "            # tgt_index = tgt_index.cuda()\n",
    "            output = classifier(x)\n",
    "            lossVal = loss_func(output, x)\n",
    "            val_loss += lossVal.item()\n",
    "            # n_correct += torch.eq(tgt_index, torch.argmax(output, dim=1)).sum().item()\n",
    "\n",
    "        val_loss /= len(validationDataLoader)\n",
    "\n",
    "    loss_train[epoch] = loss.item()\n",
    "    loss_validation[epoch] = val_loss\n",
    "    print('Epoch: %04d, Training loss=%f, Validation loss=%f, valid accuracy=%f' % (epoch+1, loss_train[epoch], val_loss, n_correct*1./len(X_validation)))\n",
    "    print('Time for this epoch: ' + str(time.time() - t0))\n",
    "\n",
    "#     print(time.time() - t0)\n",
    "\n",
    "plt.plot(loss_train)\n",
    "plt.plot(loss_validation)\n",
    "\n",
    "torch.save(classifier.cuda(), \"../Model_cached/Wavelet_model_glitchtrained_AE\"+version+\"_32_8.pt\")\n",
    "# np.savetxt(\"../data/SupLearn/lossClassifierTraining_64-64-16.dat\", [loss_train, loss_validation])"
   ]
  },
  {
   "cell_type": "code",
   "execution_count": 79,
   "metadata": {},
   "outputs": [
    {
     "data": {
      "text/plain": [
       "[<matplotlib.lines.Line2D at 0x2d5743aeb90>]"
      ]
     },
     "execution_count": 79,
     "metadata": {},
     "output_type": "execute_result"
    },
    {
     "data": {
      "image/png": "[encoded data removed]",
      "text/plain": [
       "<Figure size 640x480 with 1 Axes>"
      ]
     },
     "metadata": {},
     "output_type": "display_data"
    }
   ],
   "source": [
    "plt.plot(loss_train)\n",
    "plt.plot(loss_validation)"
   ]
  },
  {
   "cell_type": "markdown",
   "metadata": {},
   "source": [
    "### Trained with noise"
   ]
  },
  {
   "cell_type": "code",
   "execution_count": 9,
   "metadata": {},
   "outputs": [],
   "source": [
    "version = 'v1'\n",
    "dInput = 200"
   ]
  },
  {
   "cell_type": "code",
   "execution_count": 10,
   "metadata": {},
   "outputs": [],
   "source": [
    "n_BKG = len(realbkg)\n",
    "n_BBH = len(realbbh)\n",
    "n_SG = len(realsg)\n",
    "n_GLITCH = len(realglitch)"
   ]
  },
  {
   "cell_type": "code",
   "execution_count": 12,
   "metadata": {},
   "outputs": [],
   "source": [
    "# Beacuse there's already 20% of dataset reserved here, there's no meaning setting the testset. We only do\n",
    "# training and validation here. \n",
    "\n",
    "rTrain = 1-rValidation\n",
    "\n",
    "n_BKG_train = int(n_BKG * rTrain)\n",
    "n_BBH_train = int(n_BBH * rTrain)\n",
    "n_SG_train = int(n_SG * rTrain)\n",
    "n_GLITCH_train = int(n_GLITCH * rTrain)\n",
    "\n",
    "n_BKG_validation = int(n_BKG * rValidation)\n",
    "n_BBH_validation = int(n_BBH * rValidation)\n",
    "n_SG_validation = int(n_SG * rValidation)\n",
    "n_GLITCH_validation = int(n_GLITCH * rValidation)"
   ]
  },
  {
   "cell_type": "code",
   "execution_count": 37,
   "metadata": {},
   "outputs": [
    {
     "ename": "MemoryError",
     "evalue": "Unable to allocate 2.22 GiB for an array with shape (744233, 2, 200) and data type float64",
     "output_type": "error",
     "traceback": [
      "\u001b[1;31m---------------------------------------------------------------------------\u001b[0m",
      "\u001b[1;31mMemoryError\u001b[0m                               Traceback (most recent call last)",
      "Cell \u001b[1;32mIn[37], line 17\u001b[0m\n\u001b[0;32m     13\u001b[0m n_SG_validation \u001b[38;5;241m=\u001b[39m \u001b[38;5;28mint\u001b[39m(n_SG \u001b[38;5;241m*\u001b[39m rValidation)\n\u001b[0;32m     14\u001b[0m n_GLITCH_validation \u001b[38;5;241m=\u001b[39m \u001b[38;5;28mint\u001b[39m(n_GLITCH \u001b[38;5;241m*\u001b[39m rValidation)\n\u001b[1;32m---> 17\u001b[0m X_train \u001b[38;5;241m=\u001b[39m \u001b[43mnp\u001b[49m\u001b[38;5;241;43m.\u001b[39;49m\u001b[43mconcatenate\u001b[49m\u001b[43m(\u001b[49m\u001b[43m(\u001b[49m\u001b[43mrealbkg\u001b[49m\u001b[43m[\u001b[49m\u001b[43m:\u001b[49m\u001b[43mn_BKG_train\u001b[49m\u001b[43m]\u001b[49m\u001b[43m,\u001b[49m\u001b[43m \u001b[49m\n\u001b[0;32m     18\u001b[0m \u001b[43m                          \u001b[49m\u001b[43mrealbbh\u001b[49m\u001b[43m[\u001b[49m\u001b[43m:\u001b[49m\u001b[43mn_BBH_train\u001b[49m\u001b[43m]\u001b[49m\u001b[43m,\u001b[49m\u001b[43m \u001b[49m\n\u001b[0;32m     19\u001b[0m \u001b[43m                          \u001b[49m\u001b[43mrealsg\u001b[49m\u001b[43m[\u001b[49m\u001b[43m:\u001b[49m\u001b[43mn_SG_train\u001b[49m\u001b[43m]\u001b[49m\u001b[43m,\u001b[49m\u001b[43m \u001b[49m\n\u001b[0;32m     20\u001b[0m \u001b[43m                          \u001b[49m\u001b[43mrealglitch\u001b[49m\u001b[43m[\u001b[49m\u001b[43m:\u001b[49m\u001b[43mn_GLITCH_train\u001b[49m\u001b[43m]\u001b[49m\u001b[43m)\u001b[49m\u001b[43m,\u001b[49m\u001b[43m \u001b[49m\u001b[43maxis\u001b[49m\u001b[43m \u001b[49m\u001b[38;5;241;43m=\u001b[39;49m\u001b[43m \u001b[49m\u001b[38;5;241;43m0\u001b[39;49m\u001b[43m)\u001b[49m\n\u001b[0;32m     21\u001b[0m target_train \u001b[38;5;241m=\u001b[39m np\u001b[38;5;241m.\u001b[39mconcatenate((np\u001b[38;5;241m.\u001b[39mones(n_BKG_train \u001b[38;5;241m+\u001b[39m n_BBH_train \u001b[38;5;241m+\u001b[39m n_SG_train), np\u001b[38;5;241m.\u001b[39mzeros(n_GLITCH_train)))\n\u001b[0;32m     23\u001b[0m X_validation \u001b[38;5;241m=\u001b[39m np\u001b[38;5;241m.\u001b[39mconcatenate((realbkg[\u001b[38;5;241m-\u001b[39mn_BKG_validation:], \n\u001b[0;32m     24\u001b[0m                           realbbh[\u001b[38;5;241m-\u001b[39mn_BBH_validation:], \n\u001b[0;32m     25\u001b[0m                           realsg[\u001b[38;5;241m-\u001b[39mn_SG_validation:], \n\u001b[0;32m     26\u001b[0m                           realglitch[\u001b[38;5;241m-\u001b[39mn_GLITCH_validation:]), axis \u001b[38;5;241m=\u001b[39m \u001b[38;5;241m0\u001b[39m)\n",
      "\u001b[1;31mMemoryError\u001b[0m: Unable to allocate 2.22 GiB for an array with shape (744233, 2, 200) and data type float64"
     ]
    }
   ],
   "source": [
    "# Beacuse there's already 20% of dataset reserved here, there's no meaning setting the testset. We only do\n",
    "# training and validation here. \n",
    "\n",
    "rTrain = 1-rValidation\n",
    "\n",
    "n_BKG_train = int(n_BKG * rTrain)\n",
    "n_BBH_train = int(n_BBH * rTrain)\n",
    "n_SG_train = int(n_SG * rTrain)\n",
    "n_GLITCH_train = int(n_GLITCH * rTrain)\n",
    "\n",
    "n_BKG_validation = int(n_BKG * rValidation)\n",
    "n_BBH_validation = int(n_BBH * rValidation)\n",
    "n_SG_validation = int(n_SG * rValidation)\n",
    "n_GLITCH_validation = int(n_GLITCH * rValidation)\n",
    "\n",
    "\n",
    "X_train = np.concatenate((realbkg[:n_BKG_train], \n",
    "                          realbbh[:n_BBH_train], \n",
    "                          realsg[:n_SG_train], \n",
    "                          realglitch[:n_GLITCH_train]), axis = 0)\n",
    "target_train = np.concatenate((np.ones(n_BKG_train + n_BBH_train + n_SG_train), np.zeros(n_GLITCH_train)))\n",
    "\n",
    "X_validation = np.concatenate((realbkg[-n_BKG_validation:], \n",
    "                          realbbh[-n_BBH_validation:], \n",
    "                          realsg[-n_SG_validation:], \n",
    "                          realglitch[-n_GLITCH_validation:]), axis = 0)\n",
    "target_validation = np.concatenate((np.ones(n_BKG_validation + n_BBH_validation + n_SG_validation), np.zeros(n_GLITCH_validation)))\n",
    "\n",
    "\n",
    "train_dataset = TensorDataset(torch.FloatTensor(X_train), torch.FloatTensor(target_train.reshape((len(target_train), 1))))\n",
    "# test_dataset  = TensorDataset(torch.FloatTensor(X_test.reshape((X_test.shape[0], 1, X_test.shape[1]))),  torch.FloatTensor(target_test.reshape((len(target_test), 1))))\n",
    "valid_dataset = TensorDataset(torch.FloatTensor(X_validation), torch.FloatTensor(target_validation.reshape((len(target_validation), 1))))\n",
    "\n",
    "trainDataLoader = DataLoader(dataset=train_dataset, batch_size=batch_size, shuffle=True)\n",
    "validationDataLoader = DataLoader(dataset=valid_dataset, batch_size=batch_size, shuffle=True)"
   ]
  },
  {
   "cell_type": "code",
   "execution_count": 31,
   "metadata": {},
   "outputs": [],
   "source": [
    "X_train = realbkg[:n_BKG_train]\n",
    "X_validation = realbkg[-n_BKG_validation:]\n",
    "\n",
    "train_dataset = TensorDataset(torch.FloatTensor(X_train))\n",
    "# test_dataset  = TensorDataset(torch.FloatTensor(X_test.reshape((X_test.shape[0], 1, X_test.shape[1]))),  torch.FloatTensor(target_test.reshape((len(target_test), 1))))\n",
    "valid_dataset = TensorDataset(torch.FloatTensor(X_validation))\n",
    "\n",
    "trainDataLoader = DataLoader(dataset=train_dataset, batch_size=batch_size, shuffle=True)\n",
    "validationDataLoader = DataLoader(dataset=valid_dataset, batch_size=batch_size, shuffle=True)"
   ]
  },
  {
   "cell_type": "code",
   "execution_count": 32,
   "metadata": {},
   "outputs": [
    {
     "data": {
      "text/plain": [
       "(698400, 2, 200)"
      ]
     },
     "execution_count": 32,
     "metadata": {},
     "output_type": "execute_result"
    }
   ],
   "source": [
    "X_train.shape"
   ]
  },
  {
   "cell_type": "code",
   "execution_count": 68,
   "metadata": {},
   "outputs": [
    {
     "name": "stdout",
     "output_type": "stream",
     "text": [
      "26086\n",
      "Epoch: 0001, Training loss=0.000638, Validation loss=0.000648, valid accuracy=0.000000\n",
      "Time for this epoch: 185.81360530853271\n",
      "Epoch: 0002, Training loss=0.000614, Validation loss=0.000648, valid accuracy=0.000000\n",
      "Time for this epoch: 186.54733681678772\n",
      "Epoch: 0003, Training loss=0.000630, Validation loss=0.000648, valid accuracy=0.000000\n",
      "Time for this epoch: 185.68968844413757\n",
      "Epoch: 0004, Training loss=0.000664, Validation loss=0.000648, valid accuracy=0.000000\n",
      "Time for this epoch: 187.56746172904968\n",
      "Epoch: 0005, Training loss=0.000612, Validation loss=0.000648, valid accuracy=0.000000\n",
      "Time for this epoch: 187.13603138923645\n",
      "Epoch: 0006, Training loss=0.000691, Validation loss=0.000648, valid accuracy=0.000000\n",
      "Time for this epoch: 186.87501120567322\n",
      "Epoch: 0007, Training loss=0.000698, Validation loss=0.000648, valid accuracy=0.000000\n",
      "Time for this epoch: 187.67735385894775\n",
      "Epoch: 0008, Training loss=0.000621, Validation loss=0.000648, valid accuracy=0.000000\n",
      "Time for this epoch: 187.92877912521362\n",
      "Epoch: 0009, Training loss=0.000747, Validation loss=0.000648, valid accuracy=0.000000\n",
      "Time for this epoch: 186.971444606781\n",
      "Epoch: 0010, Training loss=0.000660, Validation loss=0.000648, valid accuracy=0.000000\n",
      "Time for this epoch: 187.8248007297516\n",
      "Epoch: 0011, Training loss=0.000668, Validation loss=0.000648, valid accuracy=0.000000\n",
      "Time for this epoch: 187.2546169757843\n",
      "Epoch: 0012, Training loss=0.000600, Validation loss=0.000648, valid accuracy=0.000000\n",
      "Time for this epoch: 184.9070267677307\n",
      "Epoch: 0013, Training loss=0.000700, Validation loss=0.000648, valid accuracy=0.000000\n",
      "Time for this epoch: 183.1097264289856\n",
      "Epoch: 0014, Training loss=0.000683, Validation loss=0.000648, valid accuracy=0.000000\n",
      "Time for this epoch: 182.95203495025635\n",
      "Epoch: 0015, Training loss=0.000650, Validation loss=0.000648, valid accuracy=0.000000\n",
      "Time for this epoch: 182.85502195358276\n",
      "Epoch: 0016, Training loss=0.000648, Validation loss=0.000648, valid accuracy=0.000000\n",
      "Time for this epoch: 183.4045603275299\n",
      "Epoch: 0017, Training loss=0.000612, Validation loss=0.000648, valid accuracy=0.000000\n",
      "Time for this epoch: 183.81003594398499\n",
      "Epoch: 0018, Training loss=0.000672, Validation loss=0.000648, valid accuracy=0.000000\n",
      "Time for this epoch: 184.37700724601746\n",
      "Epoch: 0019, Training loss=0.000625, Validation loss=0.000648, valid accuracy=0.000000\n",
      "Time for this epoch: 184.36870408058167\n",
      "Epoch: 0020, Training loss=0.000669, Validation loss=0.000648, valid accuracy=0.000000\n",
      "Time for this epoch: 183.67844438552856\n",
      "Epoch: 0021, Training loss=0.000642, Validation loss=0.000648, valid accuracy=0.000000\n",
      "Time for this epoch: 183.7364137172699\n",
      "Epoch: 0022, Training loss=0.000715, Validation loss=0.000648, valid accuracy=0.000000\n",
      "Time for this epoch: 183.96750807762146\n"
     ]
    }
   ],
   "source": [
    "classifier = WaveletCNNAE(num_ifos=2, c_depth=5, n_chann=8, l1=64, l2=16).cuda()\n",
    "print(sum(p.numel() for p in classifier.parameters() if p.requires_grad))\n",
    "\n",
    "optimizer = optim.Adam(classifier.parameters(), lr=0.00005)\n",
    "loss_func = nn.MSELoss().cuda()\n",
    "loss_train = np.empty((epochs, ))\n",
    "loss_validation = np.empty((epochs, ))\n",
    "\n",
    "for epoch in range(epochs):\n",
    "\n",
    "    t0 = time.time()\n",
    "    classifier.train()\n",
    "    for batchidx, x in enumerate(trainDataLoader):\n",
    "        x = x[0].cuda()\n",
    "        # print(x.shape)\n",
    "        # tgt_index = tgt_index.cuda()\n",
    "        output = classifier(x)\n",
    "        loss = loss_func(output, x)\n",
    "        \n",
    "        optimizer.zero_grad()\n",
    "        loss.backward()\n",
    "        optimizer.step()\n",
    "\n",
    "    classifier.eval()\n",
    "    with torch.no_grad():\n",
    "        val_loss = 0\n",
    "        n_correct = 0;\n",
    "        for batchidx, x in enumerate(validationDataLoader):\n",
    "            x = x[0].cuda()\n",
    "            # tgt_index = tgt_index.cuda()\n",
    "            output = classifier(x)\n",
    "            lossVal = loss_func(output, x)\n",
    "            val_loss += lossVal.item()\n",
    "            # n_correct += torch.eq(tgt_index, torch.argmax(output, dim=1)).sum().item()\n",
    "\n",
    "        val_loss /= len(validationDataLoader)\n",
    "\n",
    "    loss_train[epoch] = loss.item()\n",
    "    loss_validation[epoch] = val_loss\n",
    "    print('Epoch: %04d, Training loss=%f, Validation loss=%f, valid accuracy=%f' % (epoch+1, loss_train[epoch], val_loss, n_correct*1./len(X_validation)))\n",
    "    print('Time for this epoch: ' + str(time.time() - t0))\n",
    "\n",
    "#     print(time.time() - t0)\n",
    "\n",
    "plt.plot(loss_train)\n",
    "plt.plot(loss_validation)\n",
    "\n",
    "torch.save(classifier.cuda(), \"../Model_cached/Wavelet_model_AE\"+version+\".pt\")\n",
    "# np.savetxt(\"../data/SupLearn/lossClassifierTraining_64-64-16.dat\", [loss_train, loss_validation])"
   ]
  },
  {
   "cell_type": "code",
   "execution_count": 69,
   "metadata": {},
   "outputs": [
    {
     "data": {
      "text/plain": [
       "[<matplotlib.lines.Line2D at 0x2d56f657610>]"
      ]
     },
     "execution_count": 69,
     "metadata": {},
     "output_type": "execute_result"
    },
    {
     "data": {
      "image/png": "[encoded data removed]",
      "text/plain": [
       "<Figure size 640x480 with 1 Axes>"
      ]
     },
     "metadata": {},
     "output_type": "display_data"
    }
   ],
   "source": [
    "plt.plot(loss_train)\n",
    "plt.plot(loss_validation)"
   ]
  },
  {
   "cell_type": "markdown",
   "metadata": {},
   "source": [
    "# Evaluating the model"
   ]
  },
  {
   "cell_type": "markdown",
   "metadata": {},
   "source": [
    "## Supervised case"
   ]
  },
  {
   "cell_type": "markdown",
   "metadata": {},
   "source": [
    "### Glitch trained"
   ]
  },
  {
   "cell_type": "code",
   "execution_count": 31,
   "metadata": {},
   "outputs": [],
   "source": [
    "version = 'v1'"
   ]
  },
  {
   "cell_type": "code",
   "execution_count": 34,
   "metadata": {},
   "outputs": [],
   "source": [
    "classifier = torch.load(\"../Model_cached/Wavelet_model_SL\"+version+\".pt\")"
   ]
  },
  {
   "cell_type": "code",
   "execution_count": 35,
   "metadata": {},
   "outputs": [
    {
     "data": {
      "text/plain": [
       "WaveletCNNSL(\n",
       "  (cap_norm): GroupNorm(2, 2, eps=1e-05, affine=True)\n",
       "  (Conv_In): Conv1d(2, 8, kernel_size=(1,), stride=(1,))\n",
       "  (Conv_Out): Conv1d(8, 1, kernel_size=(1,), stride=(1,))\n",
       "  (body_norm): GroupNorm(4, 8, eps=1e-05, affine=True)\n",
       "  (end_norm): BatchNorm1d(1, eps=1e-05, momentum=0.1, affine=True, track_running_stats=True)\n",
       "  (WaveNet_layers): ModuleList(\n",
       "    (0): Conv1d(8, 8, kernel_size=(2,), stride=(1,))\n",
       "    (1): Conv1d(8, 8, kernel_size=(2,), stride=(1,), dilation=(2,))\n",
       "    (2): Conv1d(8, 8, kernel_size=(2,), stride=(1,), dilation=(4,))\n",
       "    (3): Conv1d(8, 8, kernel_size=(2,), stride=(1,), dilation=(8,))\n",
       "    (4): Conv1d(8, 8, kernel_size=(2,), stride=(1,), dilation=(16,))\n",
       "  )\n",
       "  (L1_norm): BatchNorm1d(169, eps=1e-05, momentum=0.1, affine=True, track_running_stats=True)\n",
       "  (L1): Linear(in_features=169, out_features=64, bias=True)\n",
       "  (L2_norm): BatchNorm1d(64, eps=1e-05, momentum=0.1, affine=True, track_running_stats=True)\n",
       "  (L2): Linear(in_features=64, out_features=16, bias=True)\n",
       "  (L3_norm): BatchNorm1d(16, eps=1e-05, momentum=0.1, affine=True, track_running_stats=True)\n",
       "  (L3): Linear(in_features=16, out_features=1, bias=True)\n",
       ")"
      ]
     },
     "execution_count": 35,
     "metadata": {},
     "output_type": "execute_result"
    }
   ],
   "source": [
    "classifier.cpu()"
   ]
  },
  {
   "cell_type": "code",
   "execution_count": 37,
   "metadata": {},
   "outputs": [
    {
     "data": {
      "text/plain": [
       "<matplotlib.legend.Legend at 0x23c14bde010>"
      ]
     },
     "execution_count": 37,
     "metadata": {},
     "output_type": "execute_result"
    },
    {
     "data": {
      "image/png": "[encoded data removed]",
      "text/plain": [
       "<Figure size 640x480 with 1 Axes>"
      ]
     },
     "metadata": {},
     "output_type": "display_data"
    }
   ],
   "source": [
    "dcd_bkg = nn.Sigmoid()(classifier(torch.FloatTensor(realbkg_reserved))).detach().numpy()\n",
    "dcd_bbh = nn.Sigmoid()(classifier(torch.FloatTensor(realbbh_reserved))).detach().numpy()\n",
    "dcd_sg = nn.Sigmoid()(classifier(torch.FloatTensor(realsg_reserved))).detach().numpy()\n",
    "dcd_glitch = nn.Sigmoid()(classifier(torch.FloatTensor(realglitch_reserved))).detach().numpy()\n",
    "\n",
    "foo = plt.hist(dcd_bkg, histtype=\"step\", range=(0, 1), bins=50, density=True, label=\"noise\")\n",
    "foo = plt.hist(dcd_bbh, histtype=\"step\", range=(0, 1), bins=50, density=True, label=\"bbh\")\n",
    "foo = plt.hist(dcd_sg, histtype=\"step\", range=(0, 1), bins=50, density=True, label=\"sg\")\n",
    "foo = plt.hist(dcd_glitch, histtype=\"step\", range=(0, 1), bins=50, density=True, label=\"glitch\")\n",
    "plt.title(\"trained with glitch\")\n",
    "# plt.axvline(c0[\"glitch\"], color=\"k\", linestyle=\"--\")\n",
    "plt.legend()"
   ]
  },
  {
   "cell_type": "code",
   "execution_count": null,
   "metadata": {},
   "outputs": [],
   "source": []
  },
  {
   "cell_type": "markdown",
   "metadata": {},
   "source": [
    "## Unsupervised case"
   ]
  },
  {
   "cell_type": "markdown",
   "metadata": {},
   "source": [
    "### Glitch trained"
   ]
  },
  {
   "cell_type": "code",
   "execution_count": null,
   "metadata": {},
   "outputs": [],
   "source": [
    "version = 'v2'"
   ]
  },
  {
   "cell_type": "code",
   "execution_count": null,
   "metadata": {},
   "outputs": [],
   "source": [
    "classifier = torch.load(\"../Model_cached/Wavelet_model_glitchtrained_AE\"+version+\"_32_8.pt\")"
   ]
  },
  {
   "cell_type": "code",
   "execution_count": null,
   "metadata": {},
   "outputs": [
    {
     "data": {
      "text/plain": [
       "WaveletCNNAE(\n",
       "  (cap_norm): GroupNorm(2, 2, eps=1e-05, affine=True)\n",
       "  (Conv_In_encode): Conv1d(2, 8, kernel_size=(1,), stride=(1,))\n",
       "  (Conv_Out_encode): Conv1d(8, 1, kernel_size=(1,), stride=(1,))\n",
       "  (Conv_In_decode): Conv1d(1, 8, kernel_size=(1,), stride=(1,))\n",
       "  (Conv_Out_decode): Conv1d(8, 2, kernel_size=(1,), stride=(1,))\n",
       "  (body_norm_encode): GroupNorm(4, 8, eps=1e-05, affine=True)\n",
       "  (body_norm_decode): GroupNorm(4, 8, eps=1e-05, affine=True)\n",
       "  (end_norm_encode): BatchNorm1d(1, eps=1e-05, momentum=0.1, affine=True, track_running_stats=True)\n",
       "  (end_norm_decode): BatchNorm1d(1, eps=1e-05, momentum=0.1, affine=True, track_running_stats=True)\n",
       "  (WaveNet_layers_encode): ModuleList(\n",
       "    (0): Conv1d(8, 8, kernel_size=(2,), stride=(1,))\n",
       "    (1): Conv1d(8, 8, kernel_size=(2,), stride=(1,), dilation=(2,))\n",
       "    (2): Conv1d(8, 8, kernel_size=(2,), stride=(1,), dilation=(4,))\n",
       "    (3): Conv1d(8, 8, kernel_size=(2,), stride=(1,), dilation=(8,))\n",
       "    (4): Conv1d(8, 8, kernel_size=(2,), stride=(1,), dilation=(16,))\n",
       "  )\n",
       "  (WaveNet_layers_decode): ModuleList(\n",
       "    (0): Conv1d(8, 8, kernel_size=(2,), stride=(1,))\n",
       "    (1): Conv1d(8, 8, kernel_size=(2,), stride=(1,), dilation=(2,))\n",
       "    (2): Conv1d(8, 8, kernel_size=(2,), stride=(1,), dilation=(4,))\n",
       "    (3): Conv1d(8, 8, kernel_size=(2,), stride=(1,), dilation=(8,))\n",
       "    (4): Conv1d(8, 8, kernel_size=(2,), stride=(1,), dilation=(16,))\n",
       "  )\n",
       "  (Padding_layer): ZeroPad1d((31, 31))\n",
       "  (L1_norm): BatchNorm1d(169, eps=1e-05, momentum=0.1, affine=True, track_running_stats=True)\n",
       "  (L1): Linear(in_features=169, out_features=32, bias=True)\n",
       "  (L2_norm): BatchNorm1d(32, eps=1e-05, momentum=0.1, affine=True, track_running_stats=True)\n",
       "  (L2): Linear(in_features=32, out_features=8, bias=True)\n",
       "  (L4_norm): BatchNorm1d(8, eps=1e-05, momentum=0.1, affine=True, track_running_stats=True)\n",
       "  (L4): Linear(in_features=8, out_features=32, bias=True)\n",
       "  (L5_norm): BatchNorm1d(32, eps=1e-05, momentum=0.1, affine=True, track_running_stats=True)\n",
       "  (L5): Linear(in_features=32, out_features=169, bias=True)\n",
       ")"
      ]
     },
     "metadata": {},
     "output_type": "display_data"
    }
   ],
   "source": [
    "classifier.cpu()"
   ]
  },
  {
   "cell_type": "code",
   "execution_count": null,
   "metadata": {},
   "outputs": [
    {
     "data": {
      "text/plain": [
       "<matplotlib.legend.Legend at 0x23bef1e8150>"
      ]
     },
     "metadata": {},
     "output_type": "display_data"
    },
    {
     "data": {
      "image/png": "[encoded data removed]",
      "text/plain": [
       "<Figure size 640x480 with 1 Axes>"
      ]
     },
     "metadata": {},
     "output_type": "display_data"
    }
   ],
   "source": [
    "dcd_bkg = classifier(torch.FloatTensor(realbkg_reserved)).detach().numpy().reshape(-1,200)\n",
    "dcd_bbh = classifier(torch.FloatTensor(realbbh_reserved)).detach().numpy().reshape(-1,200)\n",
    "dcd_sg = classifier(torch.FloatTensor(realsg_reserved)).detach().numpy().reshape(-1,200)\n",
    "dcd_glitch = classifier(torch.FloatTensor(realglitch_reserved)).detach().numpy().reshape(-1,200)\n",
    "\n",
    "foo = plt.hist(np.var(realbkg_reserved.reshape(-1,200)-dcd_bkg, axis=1), histtype=\"step\", range=(0, 0.01), bins=50, density=True, label=\"noise\")\n",
    "foo = plt.hist(np.var(realbbh_reserved.reshape(-1,200)-dcd_bbh, axis=1), histtype=\"step\", range=(0, 0.01), bins=50, density=True, label=\"bbh\")\n",
    "foo = plt.hist(np.var(realsg_reserved.reshape(-1,200)-dcd_sg, axis=1), histtype=\"step\", range=(0, 0.01), bins=50, density=True, label=\"sg\")\n",
    "foo = plt.hist(np.var(realglitch_reserved.reshape(-1,200)-dcd_glitch, axis=1), histtype=\"step\", range=(0, 0.01), bins=50, density=True, label=\"glitch\")\n",
    "plt.title(\"trained with glitch\")\n",
    "# plt.axvline(c0[\"glitch\"], color=\"k\", linestyle=\"--\")\n",
    "plt.legend()"
   ]
  },
  {
   "cell_type": "markdown",
   "metadata": {},
   "source": [
    "### Noise trained"
   ]
  },
  {
   "cell_type": "code",
   "execution_count": 24,
   "metadata": {},
   "outputs": [],
   "source": [
    "version = 'v1'"
   ]
  },
  {
   "cell_type": "code",
   "execution_count": 26,
   "metadata": {},
   "outputs": [],
   "source": [
    "classifier = torch.load(\"../Model_cached/Wavelet_model_AE\"+version+\".pt\")"
   ]
  },
  {
   "cell_type": "code",
   "execution_count": 27,
   "metadata": {},
   "outputs": [
    {
     "data": {
      "text/plain": [
       "WaveletCNNAE(\n",
       "  (cap_norm): GroupNorm(2, 2, eps=1e-05, affine=True)\n",
       "  (Conv_In_encode): Conv1d(2, 8, kernel_size=(1,), stride=(1,))\n",
       "  (Conv_Out_encode): Conv1d(8, 1, kernel_size=(1,), stride=(1,))\n",
       "  (Conv_In_decode): Conv1d(1, 8, kernel_size=(1,), stride=(1,))\n",
       "  (Conv_Out_decode): Conv1d(8, 2, kernel_size=(1,), stride=(1,))\n",
       "  (body_norm_encode): GroupNorm(4, 8, eps=1e-05, affine=True)\n",
       "  (body_norm_decode): GroupNorm(4, 8, eps=1e-05, affine=True)\n",
       "  (end_norm_encode): BatchNorm1d(1, eps=1e-05, momentum=0.1, affine=True, track_running_stats=True)\n",
       "  (end_norm_decode): BatchNorm1d(1, eps=1e-05, momentum=0.1, affine=True, track_running_stats=True)\n",
       "  (WaveNet_layers_encode): ModuleList(\n",
       "    (0): Conv1d(8, 8, kernel_size=(2,), stride=(1,))\n",
       "    (1): Conv1d(8, 8, kernel_size=(2,), stride=(1,), dilation=(2,))\n",
       "    (2): Conv1d(8, 8, kernel_size=(2,), stride=(1,), dilation=(4,))\n",
       "    (3): Conv1d(8, 8, kernel_size=(2,), stride=(1,), dilation=(8,))\n",
       "    (4): Conv1d(8, 8, kernel_size=(2,), stride=(1,), dilation=(16,))\n",
       "  )\n",
       "  (WaveNet_layers_decode): ModuleList(\n",
       "    (0): Conv1d(8, 8, kernel_size=(2,), stride=(1,))\n",
       "    (1): Conv1d(8, 8, kernel_size=(2,), stride=(1,), dilation=(2,))\n",
       "    (2): Conv1d(8, 8, kernel_size=(2,), stride=(1,), dilation=(4,))\n",
       "    (3): Conv1d(8, 8, kernel_size=(2,), stride=(1,), dilation=(8,))\n",
       "    (4): Conv1d(8, 8, kernel_size=(2,), stride=(1,), dilation=(16,))\n",
       "  )\n",
       "  (Padding_layer): ZeroPad1d((31, 31))\n",
       "  (L1_norm): BatchNorm1d(169, eps=1e-05, momentum=0.1, affine=True, track_running_stats=True)\n",
       "  (L1): Linear(in_features=169, out_features=64, bias=True)\n",
       "  (L2_norm): BatchNorm1d(64, eps=1e-05, momentum=0.1, affine=True, track_running_stats=True)\n",
       "  (L2): Linear(in_features=64, out_features=16, bias=True)\n",
       "  (L4_norm): BatchNorm1d(16, eps=1e-05, momentum=0.1, affine=True, track_running_stats=True)\n",
       "  (L4): Linear(in_features=16, out_features=64, bias=True)\n",
       "  (L5_norm): BatchNorm1d(64, eps=1e-05, momentum=0.1, affine=True, track_running_stats=True)\n",
       "  (L5): Linear(in_features=64, out_features=169, bias=True)\n",
       ")"
      ]
     },
     "execution_count": 27,
     "metadata": {},
     "output_type": "execute_result"
    }
   ],
   "source": [
    "classifier.cpu()"
   ]
  },
  {
   "cell_type": "code",
   "execution_count": 30,
   "metadata": {},
   "outputs": [
    {
     "data": {
      "text/plain": [
       "<matplotlib.legend.Legend at 0x23c14b24350>"
      ]
     },
     "execution_count": 30,
     "metadata": {},
     "output_type": "execute_result"
    },
    {
     "data": {
      "image/png": "[encoded data removed]",
      "text/plain": [
       "<Figure size 640x480 with 1 Axes>"
      ]
     },
     "metadata": {},
     "output_type": "display_data"
    }
   ],
   "source": [
    "dcd_bkg = classifier(torch.FloatTensor(realbkg_reserved)).detach().numpy().reshape(-1,200)\n",
    "dcd_bbh = classifier(torch.FloatTensor(realbbh_reserved)).detach().numpy().reshape(-1,200)\n",
    "dcd_sg = classifier(torch.FloatTensor(realsg_reserved)).detach().numpy().reshape(-1,200)\n",
    "dcd_glitch = classifier(torch.FloatTensor(realglitch_reserved)).detach().numpy().reshape(-1,200)\n",
    "\n",
    "foo = plt.hist(np.var(realbkg_reserved.reshape(-1,200)-dcd_bkg, axis=1), histtype=\"step\", range=(0, 0.1), bins=50, density=True, label=\"noise\")\n",
    "foo = plt.hist(np.var(realbbh_reserved.reshape(-1,200)-dcd_bbh, axis=1), histtype=\"step\", range=(0, 0.1), bins=50, density=True, label=\"bbh\")\n",
    "foo = plt.hist(np.var(realsg_reserved.reshape(-1,200)-dcd_sg, axis=1), histtype=\"step\", range=(0, 0.1), bins=50, density=True, label=\"sg\")\n",
    "foo = plt.hist(np.var(realglitch_reserved.reshape(-1,200)-dcd_glitch, axis=1), histtype=\"step\", range=(0, 0.1), bins=50, density=True, label=\"glitch\")\n",
    "plt.title(\"trained with glitch\")\n",
    "# plt.axvline(c0[\"glitch\"], color=\"k\", linestyle=\"--\")\n",
    "plt.legend()"
   ]
  },
  {
   "cell_type": "code",
   "execution_count": 29,
   "metadata": {},
   "outputs": [
    {
     "data": {
      "text/plain": [
       "array([0.02201537, 0.05003922, 0.02644901, ..., 0.05077039, 0.02142253,\n",
       "       0.05276636])"
      ]
     },
     "execution_count": 29,
     "metadata": {},
     "output_type": "execute_result"
    }
   ],
   "source": [
    "np.var(realbkg_reserved.reshape(-1,200)-dcd_bkg, axis=1)"
   ]
  },
  {
   "cell_type": "code",
   "execution_count": null,
   "metadata": {},
   "outputs": [],
   "source": []
  }
 ],
 "metadata": {
  "kernelspec": {
   "display_name": "Python 3 (ipykernel)",
   "language": "python",
   "name": "python3"
  },
  "language_info": {
   "codemirror_mode": {
    "name": "ipython",
    "version": 3
   },
   "file_extension": ".py",
   "mimetype": "text/x-python",
   "name": "python",
   "nbconvert_exporter": "python",
   "pygments_lexer": "ipython3",
   "version": "3.11.7"
  }
 },
 "nbformat": 4,
 "nbformat_minor": 2
}
