{
 "cells": [
  {
   "cell_type": "code",
   "execution_count": 1,
   "metadata": {},
   "outputs": [],
   "source": [
    "import numpy as np\n",
    "import matplotlib.pyplot as plt\n",
    "import time\n",
    "import h5py\n",
    "from scipy.stats import norm\n",
    "import torch\n",
    "from torch.utils.data import DataLoader\n",
    "from torch.utils.data import TensorDataset\n",
    "from torch import nn, optim\n",
    "import scipy.io as sio\n",
    "import torch.nn.functional as F\n",
    "# import pandas as pd\n",
    "import datetime\n",
    "import os\n",
    "# import readligo as rl\n",
    "# from gwpy.timeseries import TimeSeries\n",
    "import math\n",
    "import random\n",
    "\n",
    "import copy"
   ]
  },
  {
   "cell_type": "code",
   "execution_count": 86,
   "metadata": {},
   "outputs": [],
   "source": [
    "epochs = 200\n",
    "rTrain = 0.7;\n",
    "rTest = 0.2;\n",
    "rValidation = 0.1\n",
    "# input_vector_length = 100\n",
    "batch_size = 32\n",
    "num_bins = 40\n",
    "coef_delta = 0"
   ]
  },
  {
   "cell_type": "markdown",
   "metadata": {},
   "source": [
    "# Definition of the structure"
   ]
  },
  {
   "cell_type": "code",
   "execution_count": 3,
   "metadata": {},
   "outputs": [],
   "source": [
    "class AutoEncoder(nn.Module):\n",
    "    def __init__(self):\n",
    "        super(AutoEncoder, self).__init__()\n",
    "        self.conv1 = nn.Conv1d(in_channels=2, out_channels=50, kernel_size=2, stride=1, padding=1)# 100\n",
    "        self.batch1 = nn.BatchNorm1d(num_features=50)\n",
    "        self.act1 = nn.ReLU()\n",
    "        self.pool1 = nn.MaxPool1d(kernel_size=4, return_indices=True)\n",
    "        \n",
    "        self.conv2 = nn.Conv1d(in_channels=50, out_channels=20, kernel_size=2, stride=1, padding=1)# 40\n",
    "        self.batch2 = nn.BatchNorm1d(num_features=20)\n",
    "        self.act2 = nn.ReLU()\n",
    "#         self.pool2 = nn.MaxUnpool1d(kernel_size=4)\n",
    "        \n",
    "        self.conv3 = nn.Conv1d(in_channels=20, out_channels=50, kernel_size=2, stride=1, padding=1)# 100\n",
    "        self.batch3 = nn.BatchNorm1d(num_features=50)\n",
    "        self.act3 = nn.ReLU()\n",
    "        self.pool3 = nn.MaxUnpool1d(kernel_size=4)\n",
    "        \n",
    "        self.conv4 = nn.Conv1d(in_channels=50, out_channels=1, kernel_size=2, padding=1)\n",
    "        self.final = nn.Tanh()\n",
    "\n",
    "    def forward(self, x):\n",
    "#         print(x.shape)\n",
    "        x = self.conv1(x);\n",
    "        x = self.batch1(x);\n",
    "        x = self.act1(x);\n",
    "        x, indices = self.pool1(x);\n",
    "#         print(x.shape)\n",
    "#         x = self.pool1(self.act1(self.batch1(self.conv1(x))))\n",
    "        encoded = self.act2(self.conv2(x))\n",
    "#         print(encoded.shape)\n",
    "        \n",
    "        x = self.conv3(encoded)\n",
    "        x = self.batch3(x);\n",
    "        x = self.act3(x);\n",
    "#         print(x.shape)\n",
    "        x = self.pool3(x, indices);\n",
    "\n",
    "#         x = self.final(self.conv4(x))\n",
    "        x = self.conv4(x)\n",
    "\n",
    "        return encoded, x"
   ]
  },
  {
   "cell_type": "markdown",
   "metadata": {},
   "source": [
    "## Below is the model for Supervised Learning. We want to investigate its performance for glitch exclusion"
   ]
  },
  {
   "cell_type": "code",
   "execution_count": 44,
   "metadata": {},
   "outputs": [],
   "source": [
    "class WaveletCNNSL(nn.Module):\n",
    "    \n",
    "    def __init__(\n",
    "        self, \n",
    "        num_ifos: int,\n",
    "        c_depth: int=8, \n",
    "        n_chann: int=64, \n",
    "        l1: int=1024, \n",
    "        l2: int=128,\n",
    "        lx: int=200\n",
    "    ):\n",
    "        \n",
    "        super(WaveletCNNSL, self).__init__()\n",
    "        \n",
    "        self.c_depth = c_depth\n",
    "        self.n_chann = n_chann\n",
    "        \n",
    "        self.cap_norm = nn.GroupNorm(num_ifos, num_ifos)\n",
    "        \n",
    "        self.Conv_In = nn.Conv1d(\n",
    "                in_channels=num_ifos, \n",
    "                out_channels=self.n_chann, \n",
    "                kernel_size=1\n",
    "            )\n",
    "        \n",
    "        self.Conv_Out = nn.Conv1d(\n",
    "                in_channels=self.n_chann, \n",
    "                out_channels=1, \n",
    "                kernel_size=1\n",
    "            )\n",
    "        \n",
    "        self.body_norm = nn.GroupNorm(4 ,n_chann)\n",
    "        self.end_norm = nn.BatchNorm1d(1)\n",
    "        \n",
    "        self.WaveNet_layers = nn.ModuleList()\n",
    "        \n",
    "        \n",
    "        for i in range(self.c_depth):\n",
    "\n",
    "            conv_layer = nn.Conv1d(\n",
    "                in_channels=self.n_chann, \n",
    "                out_channels=self.n_chann,\n",
    "                kernel_size=2,\n",
    "                dilation=2**i\n",
    "            )\n",
    "            \n",
    "            self.WaveNet_layers.append(conv_layer)\n",
    "        \n",
    "        \n",
    "        # self.L1 = nn.Linear(8192-2**c_depth, l1)\n",
    "        \n",
    "        # Consider replacing other batch normalizatoin layers with other nor method\n",
    "        # Because batch norm are baised by the population of the CCSN rate in one batch \n",
    "        # This may produce overfitting model and will not be able to found at test phase\n",
    "        # Question: Will we be able to figure out the side effect at infereceing phase?\n",
    "        \n",
    "        self.L1_norm = nn.BatchNorm1d(200-2**c_depth+1)\n",
    "        self.L1 = nn.Linear(200-2**c_depth+1, l1)\n",
    "        self.L2_norm = nn.BatchNorm1d(l1)\n",
    "        self.L2 = nn.Linear(l1, l2)\n",
    "        self.L3_norm = nn.BatchNorm1d(l2)\n",
    "        self.L3 = nn.Linear(l2, 1)\n",
    "\n",
    "\n",
    "        nn.init.kaiming_normal_(self.Conv_In.weight)\n",
    "        nn.init.kaiming_normal_(self.Conv_Out.weight)\n",
    "        nn.init.constant_(self.Conv_In.bias, 0.001)\n",
    "        nn.init.constant_(self.Conv_Out.bias, 0.001)\n",
    "\n",
    "        # Initialize all the convolutional layer in between\n",
    "        for conv_layer in self.WaveNet_layers:\n",
    "            nn.init.kaiming_normal_(conv_layer.weight)\n",
    "            nn.init.constant_(conv_layer.bias, 0.001)\n",
    "\n",
    "        nn.init.kaiming_uniform_(self.L1.weight)\n",
    "        nn.init.kaiming_uniform_(self.L2.weight)\n",
    "        nn.init.constant_(self.L1.bias, 0.001)\n",
    "        nn.init.constant_(self.L2.bias, 0.001)\n",
    "        \n",
    "    def forward(self, x):\n",
    "\n",
    "        x = self.cap_norm(x)\n",
    "        x = self.Conv_In(x)\n",
    "        x = F.relu(x)\n",
    "        \n",
    "        # x = self.norm(x)\n",
    "        \n",
    "        for what_are_u_wavin_at in self.WaveNet_layers:\n",
    "            x = self.body_norm(x)\n",
    "            x = what_are_u_wavin_at(x)\n",
    "            x = F.relu(x)\n",
    "            \n",
    "        x = self.Conv_Out(x)\n",
    "        x = F.relu(x)\n",
    "        x = self.end_norm(x)\n",
    "        \n",
    "        x = torch.flatten(x, 1)\n",
    "        \n",
    "        \n",
    "        x = F.relu(self.L1(x))\n",
    "        x = self.L2_norm(x)\n",
    "        x = F.relu(self.L2(x))\n",
    "        x = self.L3_norm(x)\n",
    "        # x = F.softmax(self.L3(x), dim = 1)\n",
    "        x = self.L3(x)\n",
    "        \n",
    "        return x"
   ]
  },
  {
   "cell_type": "markdown",
   "metadata": {},
   "source": [
    "## Below is the model for AE. We don't know whether this is suitable for AE case. "
   ]
  },
  {
   "cell_type": "markdown",
   "metadata": {},
   "source": [
    "### One channel for DNN"
   ]
  },
  {
   "cell_type": "code",
   "execution_count": 4,
   "metadata": {},
   "outputs": [],
   "source": [
    "class WaveletCNNAE(nn.Module):\n",
    "    \n",
    "    def __init__(\n",
    "        self, \n",
    "        num_ifos: int,\n",
    "        c_depth: int=8, \n",
    "        n_chann: int=64, \n",
    "        l1: int=1024, \n",
    "        l2: int=128\n",
    "        # lx: int=200\n",
    "    ):\n",
    "        \n",
    "        super(WaveletCNNAE, self).__init__()\n",
    "        \n",
    "        self.c_depth = c_depth\n",
    "        self.n_chann = n_chann\n",
    "        \n",
    "        self.cap_norm = nn.GroupNorm(num_ifos, num_ifos)\n",
    "        \n",
    "        self.Conv_In_encode = nn.Conv1d(\n",
    "                in_channels=num_ifos, \n",
    "                out_channels=self.n_chann, \n",
    "                kernel_size=1\n",
    "            )\n",
    "        \n",
    "        self.Conv_Out_encode = nn.Conv1d(\n",
    "                in_channels=self.n_chann, \n",
    "                out_channels=1, \n",
    "                kernel_size=1\n",
    "            )\n",
    "        \n",
    "        self.Conv_In_decode = nn.Conv1d(\n",
    "                in_channels=1, \n",
    "                out_channels=self.n_chann, \n",
    "                kernel_size=1\n",
    "            )\n",
    "        \n",
    "        self.Conv_Out_decode = nn.Conv1d(\n",
    "                in_channels=self.n_chann, \n",
    "                out_channels=num_ifos, \n",
    "                kernel_size=1\n",
    "            )\n",
    "        \n",
    "        self.body_norm_encode = nn.GroupNorm(4 ,n_chann)\n",
    "        self.body_norm_decode = nn.GroupNorm(4 ,n_chann)\n",
    "        self.end_norm_encode = nn.BatchNorm1d(1)\n",
    "        self.end_norm_decode = nn.BatchNorm1d(1)\n",
    "        \n",
    "        self.WaveNet_layers_encode = nn.ModuleList()\n",
    "        self.WaveNet_layers_decode = nn.ModuleList()\n",
    "        \n",
    "        \n",
    "        for i in range(self.c_depth):\n",
    "\n",
    "            conv_layer = nn.Conv1d(\n",
    "                in_channels=self.n_chann, \n",
    "                out_channels=self.n_chann,\n",
    "                kernel_size=2,\n",
    "                dilation=2**i\n",
    "            )\n",
    "            \n",
    "            self.WaveNet_layers_encode.append(conv_layer)\n",
    "            \n",
    "        for i in range(self.c_depth):\n",
    "\n",
    "            conv_layer = nn.Conv1d(\n",
    "                in_channels=self.n_chann, \n",
    "                out_channels=self.n_chann,\n",
    "                kernel_size=2,\n",
    "                dilation=2**i\n",
    "            )\n",
    "            \n",
    "            self.WaveNet_layers_decode.append(conv_layer)\n",
    "        \n",
    "        \n",
    "        self.Padding_layer = nn.ZeroPad1d(2**c_depth - 1)\n",
    "                \n",
    "        # self.L1 = nn.Linear(8192-2**c_depth, l1)\n",
    "        \n",
    "        # Consider replacing other batch normalizatoin layers with other nor method\n",
    "        # Because batch norm are baised by the population of the CCSN rate in one batch \n",
    "        # This may produce overfitting model and will not be able to found at test phase\n",
    "        # Question: Will we be able to figure out the side effect at infereceing phase?\n",
    "        \n",
    "        self.L1_norm = nn.BatchNorm1d(200-2**c_depth + 1)\n",
    "        self.L1 = nn.Linear(200-2**c_depth + 1, l1)\n",
    "        self.L2_norm = nn.BatchNorm1d(l1)\n",
    "        self.L2 = nn.Linear(l1, l2)\n",
    "        # self.L3_norm = nn.BatchNorm1d(l2)\n",
    "        # self.L3 = nn.Linear(l2, 1)\n",
    "        self.L4_norm = nn.BatchNorm1d(l2)\n",
    "        self.L4 = nn.Linear(l2, l1)\n",
    "        self.L5_norm = nn.BatchNorm1d(l1)\n",
    "        self.L5 = nn.Linear(l1, 200-2**c_depth + 1)\n",
    "\n",
    "        nn.init.kaiming_normal_(self.Conv_In_encode.weight)\n",
    "        nn.init.kaiming_normal_(self.Conv_Out_encode.weight)\n",
    "        nn.init.constant_(self.Conv_In_encode.bias, 0.001)\n",
    "        nn.init.constant_(self.Conv_Out_encode.bias, 0.001)\n",
    "        \n",
    "        nn.init.kaiming_normal_(self.Conv_In_decode.weight)\n",
    "        nn.init.kaiming_normal_(self.Conv_Out_decode.weight)\n",
    "        nn.init.constant_(self.Conv_In_decode.bias, 0.001)\n",
    "        nn.init.constant_(self.Conv_Out_decode.bias, 0.001)\n",
    "\n",
    "        # Initialize all the convolutional layer in between\n",
    "        for conv_layer in self.WaveNet_layers_encode:\n",
    "            nn.init.kaiming_normal_(conv_layer.weight)\n",
    "            nn.init.constant_(conv_layer.bias, 0.001)\n",
    "            \n",
    "        for conv_layer in self.WaveNet_layers_decode:\n",
    "            nn.init.kaiming_normal_(conv_layer.weight)\n",
    "            nn.init.constant_(conv_layer.bias, 0.001)    \n",
    "\n",
    "        nn.init.kaiming_uniform_(self.L1.weight)\n",
    "        nn.init.kaiming_uniform_(self.L2.weight)\n",
    "        nn.init.constant_(self.L1.bias, 0.001)\n",
    "        nn.init.constant_(self.L2.bias, 0.001)\n",
    "        \n",
    "        nn.init.kaiming_uniform_(self.L4.weight)\n",
    "        nn.init.kaiming_uniform_(self.L5.weight)\n",
    "        nn.init.constant_(self.L4.bias, 0.001)\n",
    "        nn.init.constant_(self.L5.bias, 0.001)\n",
    "        \n",
    "    def encode(self, x):\n",
    "        \n",
    "        x = self.cap_norm(x)\n",
    "        x = self.Conv_In_encode(x)\n",
    "        x = F.relu(x)\n",
    "        \n",
    "        # x = self.norm(x)\n",
    "        \n",
    "        for what_are_u_wavin_at in self.WaveNet_layers_encode:\n",
    "            x = self.body_norm_encode(x)\n",
    "            x = what_are_u_wavin_at(x)\n",
    "            x = F.relu(x)\n",
    "            \n",
    "        # print(x.shape)\n",
    "        x = self.Conv_Out_encode(x)\n",
    "        x = F.relu(x)\n",
    "        x = self.end_norm_encode(x)\n",
    "        x = torch.flatten(x, 1)\n",
    "        \n",
    "        # print(x.shape)\n",
    "        \n",
    "        x = F.relu(self.L1(x))\n",
    "        # print(x.shape)\n",
    "        x = self.L2_norm(x)\n",
    "        # x = F.relu(self.L2(x))\n",
    "        # x = self.L3_norm(x)\n",
    "        # x = F.softmax(self.L3(x), dim = 1)\n",
    "        # x = self.L3(x)\n",
    "        x = self.L2(x)\n",
    "        x = F.relu(x)\n",
    "        # print('Encoder done')\n",
    "        \n",
    "        return x\n",
    "    \n",
    "    def decode(self, x):\n",
    "        # print(x.shape)\n",
    "        x = self.L4_norm(x)\n",
    "        # print(x.shape)\n",
    "        x = F.relu(self.L4(x))\n",
    "        # print(x.shape)\n",
    "        x = self.L5_norm(x)\n",
    "        # print(x.shape)\n",
    "        # x = F.relu(self.L2(x))\n",
    "        # x = self.L3_norm(x)\n",
    "        # x = F.softmax(self.L3(x), dim = 1)\n",
    "        # x = self.L3(x)\n",
    "        x = F.relu(self.L5(x))\n",
    "        # print(x.shape)\n",
    "        # print('DNN done')\n",
    "        \n",
    "        x = self.Padding_layer(x)\n",
    "        \n",
    "        x = torch.unsqueeze(x,1)\n",
    "\n",
    "        # print(x.shape)\n",
    "        \n",
    "        # x = self.cap_norm(x)\n",
    "        x = self.Conv_In_decode(x)\n",
    "        x = F.relu(x)\n",
    "        \n",
    "        # x = self.norm(x)\n",
    "        \n",
    "        for what_are_u_wavin_at in self.WaveNet_layers_decode:\n",
    "            # print(x.shape)\n",
    "            x = self.body_norm_decode(x)\n",
    "            x = what_are_u_wavin_at(x)\n",
    "            x = F.relu(x)\n",
    "        \n",
    "        # print(x.shape)\n",
    "        # print('CNN done')\n",
    "        \n",
    "        x = self.Conv_Out_decode(x)\n",
    "        # print(x.shape)\n",
    "        x = F.tanh(x)\n",
    "        # print(x.shape)\n",
    "        # x = self.end_norm_decode(x)\n",
    "        \n",
    "        # x = torch.flatten(x, 1)\n",
    "        \n",
    "        \n",
    "        return x\n",
    "    \n",
    "    def forward(self,x):\n",
    "        return self.decode(self.encode(x))"
   ]
  },
  {
   "cell_type": "markdown",
   "metadata": {},
   "source": [
    "### Multi-channel for DNN"
   ]
  },
  {
   "cell_type": "code",
   "execution_count": 56,
   "metadata": {},
   "outputs": [],
   "source": [
    "class WaveletCNNAEMC(nn.Module):\n",
    "    \n",
    "    def __init__(\n",
    "        self, \n",
    "        num_ifos: int,\n",
    "        c_depth: int=8, \n",
    "        n_chann: int=64, \n",
    "        l1: int=1024, \n",
    "        l2: int=128\n",
    "        # lx: int=200\n",
    "    ):\n",
    "        \n",
    "        super(WaveletCNNAEMC, self).__init__()\n",
    "        \n",
    "        self.c_depth = c_depth\n",
    "        self.n_chann = n_chann\n",
    "        \n",
    "        self.cap_norm = nn.GroupNorm(num_ifos, num_ifos)\n",
    "        \n",
    "        self.Conv_In_encode = nn.Conv1d(\n",
    "                in_channels=num_ifos, \n",
    "                out_channels=self.n_chann, \n",
    "                kernel_size=1\n",
    "            )\n",
    "        \n",
    "        self.Conv_Out_encode = nn.Conv1d(\n",
    "                in_channels=self.n_chann, \n",
    "                out_channels=self.n_chann, \n",
    "                kernel_size=1\n",
    "            )\n",
    "        \n",
    "        self.Conv_In_decode = nn.Conv1d(\n",
    "                in_channels=self.n_chann, \n",
    "                out_channels=self.n_chann, \n",
    "                kernel_size=1\n",
    "            )\n",
    "        \n",
    "        self.Conv_Out_decode = nn.Conv1d(\n",
    "                in_channels=self.n_chann, \n",
    "                out_channels=num_ifos, \n",
    "                kernel_size=1\n",
    "            )\n",
    "        \n",
    "        self.body_norm_encode = nn.GroupNorm(4 ,n_chann)\n",
    "        self.body_norm_decode = nn.GroupNorm(4 ,n_chann)\n",
    "        self.end_norm_encode = nn.BatchNorm1d(n_chann)\n",
    "        self.end_norm_decode = nn.BatchNorm1d(1)\n",
    "        \n",
    "        self.WaveNet_layers_encode = nn.ModuleList()\n",
    "        self.WaveNet_layers_decode = nn.ModuleList()\n",
    "        \n",
    "        \n",
    "        for i in range(self.c_depth):\n",
    "\n",
    "            conv_layer = nn.Conv1d(\n",
    "                in_channels=self.n_chann, \n",
    "                out_channels=self.n_chann,\n",
    "                kernel_size=2,\n",
    "                dilation=2**i\n",
    "            )\n",
    "            \n",
    "            self.WaveNet_layers_encode.append(conv_layer)\n",
    "            \n",
    "        for i in range(self.c_depth):\n",
    "\n",
    "            conv_layer = nn.Conv1d(\n",
    "                in_channels=self.n_chann, \n",
    "                out_channels=self.n_chann,\n",
    "                kernel_size=2,\n",
    "                dilation=2**i\n",
    "            )\n",
    "            \n",
    "            self.WaveNet_layers_decode.append(conv_layer)\n",
    "        \n",
    "        \n",
    "        self.Padding_layer = nn.ZeroPad1d(2**c_depth - 1)\n",
    "                \n",
    "        # self.L1 = nn.Linear(8192-2**c_depth, l1)\n",
    "        \n",
    "        # Consider replacing other batch normalizatoin layers with other nor method\n",
    "        # Because batch norm are baised by the population of the CCSN rate in one batch \n",
    "        # This may produce overfitting model and will not be able to found at test phase\n",
    "        # Question: Will we be able to figure out the side effect at infereceing phase?\n",
    "        \n",
    "        self.L1_norm = nn.BatchNorm1d(200-2**c_depth + 1)\n",
    "        self.L1 = nn.Linear(200-2**c_depth + 1, l1)\n",
    "        self.L2_norm = nn.BatchNorm1d(l1)\n",
    "        self.L2 = nn.Linear(l1, l2)\n",
    "        # self.L3_norm = nn.BatchNorm1d(l2)\n",
    "        # self.L3 = nn.Linear(l2, 1)\n",
    "        self.L4_norm = nn.BatchNorm1d(l2)\n",
    "        self.L4 = nn.Linear(l2, l1)\n",
    "        self.L5_norm = nn.BatchNorm1d(l1)\n",
    "        self.L5 = nn.Linear(l1, 200-2**c_depth + 1)\n",
    "\n",
    "        nn.init.kaiming_normal_(self.Conv_In_encode.weight)\n",
    "        nn.init.kaiming_normal_(self.Conv_Out_encode.weight)\n",
    "        nn.init.constant_(self.Conv_In_encode.bias, 0.001)\n",
    "        nn.init.constant_(self.Conv_Out_encode.bias, 0.001)\n",
    "        \n",
    "        nn.init.kaiming_normal_(self.Conv_In_decode.weight)\n",
    "        nn.init.kaiming_normal_(self.Conv_Out_decode.weight)\n",
    "        nn.init.constant_(self.Conv_In_decode.bias, 0.001)\n",
    "        nn.init.constant_(self.Conv_Out_decode.bias, 0.001)\n",
    "\n",
    "        # Initialize all the convolutional layer in between\n",
    "        for conv_layer in self.WaveNet_layers_encode:\n",
    "            nn.init.kaiming_normal_(conv_layer.weight)\n",
    "            nn.init.constant_(conv_layer.bias, 0.001)\n",
    "            \n",
    "        for conv_layer in self.WaveNet_layers_decode:\n",
    "            nn.init.kaiming_normal_(conv_layer.weight)\n",
    "            nn.init.constant_(conv_layer.bias, 0.001)    \n",
    "\n",
    "        nn.init.kaiming_uniform_(self.L1.weight)\n",
    "        nn.init.kaiming_uniform_(self.L2.weight)\n",
    "        nn.init.constant_(self.L1.bias, 0.001)\n",
    "        nn.init.constant_(self.L2.bias, 0.001)\n",
    "        \n",
    "        nn.init.kaiming_uniform_(self.L4.weight)\n",
    "        nn.init.kaiming_uniform_(self.L5.weight)\n",
    "        nn.init.constant_(self.L4.bias, 0.001)\n",
    "        nn.init.constant_(self.L5.bias, 0.001)\n",
    "        \n",
    "    def encode(self, x):\n",
    "        \n",
    "        x = self.cap_norm(x)\n",
    "        x = self.Conv_In_encode(x)\n",
    "        x = F.relu(x)\n",
    "        \n",
    "        # x = self.norm(x)\n",
    "        \n",
    "        for what_are_u_wavin_at in self.WaveNet_layers_encode:\n",
    "            x = self.body_norm_encode(x)\n",
    "            x = what_are_u_wavin_at(x)\n",
    "            x = F.relu(x)\n",
    "            \n",
    "        # print(x.shape)\n",
    "        x = self.Conv_Out_encode(x)\n",
    "        x = F.relu(x)\n",
    "        x = self.end_norm_encode(x)\n",
    "        # x = torch.flatten(x, 1)\n",
    "        \n",
    "        # print(x.shape)\n",
    "        \n",
    "        x = F.relu(self.L1(x))\n",
    "        # print(x.shape)\n",
    "        x = self.L2_norm(x.permute(0,2,1)).permute(0,2,1)\n",
    "        # x = F.relu(self.L2(x))\n",
    "        # x = self.L3_norm(x)\n",
    "        # x = F.softmax(self.L3(x), dim = 1)\n",
    "        # x = self.L3(x)\n",
    "        x = self.L2(x)\n",
    "        x = F.relu(x)\n",
    "        # print('Encoder done')\n",
    "        \n",
    "        return x\n",
    "    \n",
    "    def decode(self, x):\n",
    "        # print(x.shape)\n",
    "        x = self.L4_norm(x.permute(0,2,1)).permute(0,2,1)\n",
    "        # print(x.shape)\n",
    "        x = F.relu(self.L4(x))\n",
    "        # print(x.shape)\n",
    "        x = self.L5_norm(x.permute(0,2,1)).permute(0,2,1)\n",
    "        # print(x.shape)\n",
    "        # x = F.relu(self.L2(x))\n",
    "        # x = self.L3_norm(x)\n",
    "        # x = F.softmax(self.L3(x), dim = 1)\n",
    "        # x = self.L3(x)\n",
    "        x = F.relu(self.L5(x))\n",
    "        # print(x.shape)\n",
    "        # print('DNN done')\n",
    "        \n",
    "        x = self.Padding_layer(x)\n",
    "        \n",
    "        # x = torch.unsqueeze(x,1)\n",
    "\n",
    "        # print(x.shape)\n",
    "        \n",
    "        # x = self.cap_norm(x)\n",
    "        x = self.Conv_In_decode(x)\n",
    "        x = F.relu(x)\n",
    "        \n",
    "        # x = self.norm(x)\n",
    "        \n",
    "        for what_are_u_wavin_at in self.WaveNet_layers_decode:\n",
    "            # print(x.shape)\n",
    "            x = self.body_norm_decode(x)\n",
    "            x = what_are_u_wavin_at(x)\n",
    "            x = F.relu(x)\n",
    "        \n",
    "        # print(x.shape)\n",
    "        # print('CNN done')\n",
    "        \n",
    "        x = self.Conv_Out_decode(x)\n",
    "        # print(x.shape)\n",
    "        x = F.tanh(x)\n",
    "        # print(x.shape)\n",
    "        # x = self.end_norm_decode(x)\n",
    "        \n",
    "        # x = torch.flatten(x, 1)\n",
    "        \n",
    "        \n",
    "        return x\n",
    "    \n",
    "    def forward(self,x):\n",
    "        return self.decode(self.encode(x))"
   ]
  },
  {
   "cell_type": "markdown",
   "metadata": {},
   "source": [
    "# Loading the dataset"
   ]
  },
  {
   "cell_type": "markdown",
   "metadata": {},
   "source": [
    "## Chia-Jui dataset"
   ]
  },
  {
   "cell_type": "markdown",
   "metadata": {},
   "source": [
    "### Reading the data from file"
   ]
  },
  {
   "cell_type": "code",
   "execution_count": 65,
   "metadata": {},
   "outputs": [],
   "source": [
    "## If one is using Chia-Jui's data\n",
    "\n",
    "renorm_factor_0 = 20;\n",
    "renorm_factor_1 = 20;\n",
    "\n",
    "realbkg_L = np.load('../Data_cached/real_bkg_2202000_63917s_4000Hz_50ms.npy')[:1000000].reshape(-1,1,200) / renorm_factor_0;\n",
    "realbkg_H = np.load('../Data_cached/real_bkg_H_1466640_58803s_4000Hz_50ms.npy')[:1000000].reshape(-1,1,200) / renorm_factor_0;\n",
    "\n",
    "realbkg = np.concatenate((realbkg_L[:1000000], realbkg_H[:1000000]), axis = 1).reshape(-1,200)\n",
    "\n",
    "del realbkg_L, realbkg_H\n",
    "\n",
    "realbbh = np.load('../Data_cached/injected_BBH_1823_around_merger_time_63917_58803.npz')['strain'].reshape(-1,200) / renorm_factor_0;\n",
    "\n",
    "realsg = np.load('../Data_cached/injected_lfsg_1835_around_merger_time_63917_58803.npz')['strain'].reshape(-1,200) / renorm_factor_0;\n",
    "# realglitch = np.load(\"../data/real_glitches_9998_4000Hz_25ms.npz\")[\"strain_time_data\"]\n",
    "realglitch_L = np.load(\"../Data_cached/real_glitches_snrlt5_60132_4000Hz_25ms.npz\")[\"strain_time_data\"][:30000].reshape(-1,1,200) / renorm_factor_1\n",
    "realglitch_H = np.load('../Data_cached/real_glitches_H_snrlt5_59732_4000Hz_25ms.npz')[\"strain_time_data\"][:30000].reshape(-1,1,200) / renorm_factor_1"
   ]
  },
  {
   "cell_type": "markdown",
   "metadata": {},
   "source": [
    "### Making the glitch set (one detector + one noise)"
   ]
  },
  {
   "cell_type": "code",
   "execution_count": 66,
   "metadata": {},
   "outputs": [],
   "source": [
    "noise_first50k = realbkg.reshape(-1,2,200)[:30000]\n",
    "\n",
    "glitch_L_noise_H = np.concatenate((realglitch_L, noise_first50k[:,[1],:]), axis = 1)\n",
    "glitch_H_noise_L = np.concatenate((realglitch_H, noise_first50k[:,[0],:]), axis = 1)\n",
    "realglitch = np.vstack((glitch_L_noise_H, glitch_H_noise_L))\n",
    "np.random.shuffle(realglitch)\n",
    "realglitch = realglitch.reshape(-1,200)\n",
    "realbkg = realbkg[60000:]\n",
    "\n",
    "del realglitch_L, realglitch_H, glitch_H_noise_L, glitch_L_noise_H"
   ]
  },
  {
   "cell_type": "markdown",
   "metadata": {},
   "source": [
    "### Normalize the dataset"
   ]
  },
  {
   "cell_type": "code",
   "execution_count": 67,
   "metadata": {},
   "outputs": [],
   "source": [
    "realbkg = (realbkg - np.transpose([np.mean(realbkg, axis=1)]))/np.transpose([np.std(realbkg, axis=1)]);\n",
    "realbbh = (realbbh - np.transpose([np.mean(realbbh, axis=1)]))/np.transpose([np.std(realbbh, axis=1)]);\n",
    "realsg  = (realsg  - np.transpose([np.mean(realsg , axis=1)]))/np.transpose([np.std(realsg, axis=1)]);\n",
    "realglitch = (realglitch - np.transpose([np.mean(realglitch, axis=1)]))/np.transpose([np.std(realglitch, axis=1)])"
   ]
  },
  {
   "cell_type": "markdown",
   "metadata": {},
   "source": [
    "### Reserve a certain propotion of set for further study"
   ]
  },
  {
   "cell_type": "code",
   "execution_count": 68,
   "metadata": {},
   "outputs": [],
   "source": [
    "realbkg_reserved = realbkg[-int(0.2 * len(realbkg))-int(0.2 * len(realbkg))%2:]\n",
    "realbbh_reserved = realbbh[-int(0.2 * len(realbbh))-int(0.2 * len(realbbh))%2:]\n",
    "realsg_reserved = realsg[-int(0.2 * len(realsg))-int(0.2 * len(realsg))%2:]\n",
    "realglitch_reserved = realglitch[-int(0.2 * len(realglitch))-int(0.2 * len(realglitch))%2:]\n",
    "\n",
    "realbkg = realbkg[:-int(0.2 * len(realbkg))-int(0.2 * len(realbkg))%2]\n",
    "realbbh = realbbh[:-int(0.2 * len(realbbh))-int(0.2 * len(realbbh))%2]\n",
    "realsg = realsg[:-int(0.2 * len(realsg))-int(0.2 * len(realsg))%2]\n",
    "realglitch = realglitch[:-int(0.2 * len(realglitch))-int(0.2 * len(realglitch))%2]"
   ]
  },
  {
   "cell_type": "markdown",
   "metadata": {},
   "source": [
    "### Final Package"
   ]
  },
  {
   "cell_type": "code",
   "execution_count": 69,
   "metadata": {},
   "outputs": [],
   "source": [
    "realbkg = realbkg.reshape(-1,2,200)\n",
    "realbbh = realbbh.reshape(-1,2,200)\n",
    "realsg = realsg.reshape(-1,2,200)\n",
    "realglitch = realglitch.reshape(-1,2,200)"
   ]
  },
  {
   "cell_type": "code",
   "execution_count": 70,
   "metadata": {},
   "outputs": [
    {
     "data": {
      "text/plain": [
       "(776000, 2, 200)"
      ]
     },
     "execution_count": 70,
     "metadata": {},
     "output_type": "execute_result"
    }
   ],
   "source": [
    "realbkg.shape"
   ]
  },
  {
   "cell_type": "code",
   "execution_count": 71,
   "metadata": {},
   "outputs": [],
   "source": [
    "realbkg_reserved = realbkg_reserved.reshape(-1,2,200)\n",
    "realbbh_reserved = realbbh_reserved.reshape(-1,2,200)\n",
    "realsg_reserved = realsg_reserved.reshape(-1,2,200)\n",
    "realglitch_reserved = realglitch_reserved.reshape(-1,2,200)"
   ]
  },
  {
   "cell_type": "markdown",
   "metadata": {},
   "source": [
    "# Training the model"
   ]
  },
  {
   "cell_type": "markdown",
   "metadata": {},
   "source": [
    "## For supervised learning case"
   ]
  },
  {
   "cell_type": "markdown",
   "metadata": {},
   "source": [
    "### Trained with noise"
   ]
  },
  {
   "cell_type": "code",
   "execution_count": 38,
   "metadata": {},
   "outputs": [],
   "source": [
    "version = 'v1'\n",
    "dInput = 200"
   ]
  },
  {
   "cell_type": "code",
   "execution_count": 45,
   "metadata": {},
   "outputs": [
    {
     "name": "stdout",
     "output_type": "stream",
     "text": [
      "Epoch: 0094, Training loss=0.000597, Validation loss=0.015089, valid accuracy=30.028818\n",
      "Time for this epoch: 128.94940900802612\n"
     ]
    }
   ],
   "source": [
    "n_BKG = len(realbkg)\n",
    "n_BBH = len(realbbh)\n",
    "n_SG = len(realsg)\n",
    "n_GLITCH = len(realglitch)"
   ]
  },
  {
   "cell_type": "code",
   "execution_count": 41,
   "metadata": {},
   "outputs": [],
   "source": [
    "# Beacuse there's already 20% of dataset reserved here, there's no meaning setting the testset. We only do\n",
    "# training and validation here. \n",
    "\n",
    "rTrain = 1-rValidation\n",
    "\n",
    "n_BKG_train = int(n_BKG * rTrain)\n",
    "n_BBH_train = int(n_BBH * rTrain)\n",
    "n_SG_train = int(n_SG * rTrain)\n",
    "n_GLITCH_train = int(n_GLITCH * rTrain)\n",
    "\n",
    "n_BKG_validation = int(n_BKG * rValidation)\n",
    "n_BBH_validation = int(n_BBH * rValidation)\n",
    "n_SG_validation = int(n_SG * rValidation)\n",
    "n_GLITCH_validation = int(n_GLITCH * rValidation)\n",
    "\n",
    "\n",
    "X_train = np.concatenate((realglitch[:n_GLITCH_train], \n",
    "                          realbbh[:n_BBH_train], \n",
    "                          realsg[:n_SG_train], \n",
    "                          realbkg[:n_BKG_train]), axis = 0)\n",
    "target_train = np.concatenate((np.ones(n_GLITCH_train + n_BBH_train + n_SG_train), np.zeros(n_BKG_train)))\n",
    "\n",
    "X_validation = np.concatenate((realglitch[-n_GLITCH_validation:], \n",
    "                          realbbh[-n_BBH_validation:], \n",
    "                          realsg[-n_SG_validation:], \n",
    "                          realbkg[-n_BKG_validation:]), axis = 0)\n",
    "target_validation = np.concatenate((np.ones(n_GLITCH_validation + n_BBH_validation + n_SG_validation), np.zeros(n_BKG_validation)))\n",
    "\n",
    "\n",
    "train_dataset = TensorDataset(torch.FloatTensor(X_train), torch.FloatTensor(target_train.reshape((len(target_train), 1))))\n",
    "# test_dataset  = TensorDataset(torch.FloatTensor(X_test.reshape((X_test.shape[0], 1, X_test.shape[1]))),  torch.FloatTensor(target_test.reshape((len(target_test), 1))))\n",
    "valid_dataset = TensorDataset(torch.FloatTensor(X_validation), torch.FloatTensor(target_validation.reshape((len(target_validation), 1))))\n",
    "\n",
    "trainDataLoader = DataLoader(dataset=train_dataset, batch_size=batch_size, shuffle=True)\n",
    "validationDataLoader = DataLoader(dataset=valid_dataset, batch_size=batch_size, shuffle=True)"
   ]
  },
  {
   "cell_type": "code",
   "execution_count": 42,
   "metadata": {},
   "outputs": [
    {
     "data": {
      "text/plain": [
       "(744233, 2, 200)"
      ]
     },
     "execution_count": 42,
     "metadata": {},
     "output_type": "execute_result"
    }
   ],
   "source": [
    "X_train.shape"
   ]
  },
  {
   "cell_type": "code",
   "execution_count": 45,
   "metadata": {},
   "outputs": [
    {
     "name": "stdout",
     "output_type": "stream",
     "text": [
      "13170\n",
      "Epoch: 0001, Training loss=0.003075, Validation loss=0.015904, valid accuracy=30.028818\n",
      "Time for this epoch: 129.90688848495483\n",
      "Epoch: 0002, Training loss=0.046359, Validation loss=0.015486, valid accuracy=30.028818\n",
      "Time for this epoch: 129.0955696105957\n",
      "Epoch: 0003, Training loss=0.003210, Validation loss=0.015535, valid accuracy=30.029169\n",
      "Time for this epoch: 131.192809343338\n",
      "Epoch: 0004, Training loss=0.001686, Validation loss=0.015377, valid accuracy=30.029169\n",
      "Time for this epoch: 129.25594282150269\n",
      "Epoch: 0005, Training loss=0.001491, Validation loss=0.015311, valid accuracy=30.028818\n",
      "Time for this epoch: 128.64245557785034\n",
      "Epoch: 0006, Training loss=0.000947, Validation loss=0.015329, valid accuracy=30.029169\n",
      "Time for this epoch: 128.9802668094635\n",
      "Epoch: 0007, Training loss=0.051127, Validation loss=0.015243, valid accuracy=30.029169\n",
      "Time for this epoch: 128.92957282066345\n",
      "Epoch: 0008, Training loss=0.002679, Validation loss=0.015149, valid accuracy=30.028818\n",
      "Time for this epoch: 128.41595816612244\n",
      "Epoch: 0009, Training loss=0.003205, Validation loss=0.015100, valid accuracy=30.028818\n",
      "Time for this epoch: 128.90597128868103\n",
      "Epoch: 0010, Training loss=0.000892, Validation loss=0.015157, valid accuracy=30.028818\n",
      "Time for this epoch: 128.7139925956726\n",
      "Epoch: 0011, Training loss=0.002924, Validation loss=0.015080, valid accuracy=30.028818\n",
      "Time for this epoch: 129.00804495811462\n",
      "Epoch: 0012, Training loss=0.002869, Validation loss=0.015136, valid accuracy=30.029169\n",
      "Time for this epoch: 128.51688361167908\n",
      "Epoch: 0013, Training loss=0.002880, Validation loss=0.015002, valid accuracy=30.028818\n",
      "Time for this epoch: 128.51589059829712\n",
      "Epoch: 0014, Training loss=0.042003, Validation loss=0.015005, valid accuracy=30.028818\n",
      "Time for this epoch: 129.0394377708435\n",
      "Epoch: 0015, Training loss=0.002792, Validation loss=0.014983, valid accuracy=30.028818\n",
      "Time for this epoch: 128.79438304901123\n",
      "Epoch: 0016, Training loss=0.004774, Validation loss=0.015000, valid accuracy=30.029169\n",
      "Time for this epoch: 129.05596804618835\n",
      "Epoch: 0017, Training loss=0.002952, Validation loss=0.014978, valid accuracy=30.028818\n",
      "Time for this epoch: 129.1198399066925\n",
      "Epoch: 0018, Training loss=0.002809, Validation loss=0.014960, valid accuracy=30.028818\n",
      "Time for this epoch: 128.88936114311218\n",
      "Epoch: 0019, Training loss=0.007043, Validation loss=0.014997, valid accuracy=30.029169\n",
      "Time for this epoch: 128.9186770915985\n",
      "Epoch: 0020, Training loss=0.000813, Validation loss=0.014974, valid accuracy=30.028818\n",
      "Time for this epoch: 128.84731769561768\n",
      "Epoch: 0021, Training loss=0.002889, Validation loss=0.014971, valid accuracy=30.029169\n",
      "Time for this epoch: 128.4558026790619\n",
      "Epoch: 0022, Training loss=0.002957, Validation loss=0.014929, valid accuracy=30.028818\n",
      "Time for this epoch: 128.89282965660095\n",
      "Epoch: 0023, Training loss=0.000736, Validation loss=0.014962, valid accuracy=30.028818\n",
      "Time for this epoch: 128.80530834197998\n",
      "Epoch: 0024, Training loss=0.003045, Validation loss=0.014967, valid accuracy=30.029169\n",
      "Time for this epoch: 128.664391040802\n",
      "Epoch: 0025, Training loss=0.089254, Validation loss=0.014928, valid accuracy=30.029169\n",
      "Time for this epoch: 128.44145607948303\n",
      "Epoch: 0026, Training loss=0.002955, Validation loss=0.014912, valid accuracy=30.028818\n",
      "Time for this epoch: 128.70380425453186\n",
      "Epoch: 0027, Training loss=0.081200, Validation loss=0.014925, valid accuracy=30.028818\n",
      "Time for this epoch: 128.47017431259155\n",
      "Epoch: 0028, Training loss=0.003074, Validation loss=0.014915, valid accuracy=30.028818\n",
      "Time for this epoch: 128.62665009498596\n",
      "Epoch: 0029, Training loss=0.038707, Validation loss=0.014931, valid accuracy=30.028818\n",
      "Time for this epoch: 128.60903549194336\n",
      "Epoch: 0030, Training loss=0.002820, Validation loss=0.014950, valid accuracy=30.028818\n",
      "Time for this epoch: 128.69329690933228\n",
      "Epoch: 0031, Training loss=0.002848, Validation loss=0.014925, valid accuracy=30.029169\n",
      "Time for this epoch: 129.07243847846985\n",
      "Epoch: 0032, Training loss=0.002796, Validation loss=0.014967, valid accuracy=30.028818\n",
      "Time for this epoch: 128.8790521621704\n",
      "Epoch: 0033, Training loss=0.002972, Validation loss=0.014930, valid accuracy=30.028818\n",
      "Time for this epoch: 128.40217518806458\n",
      "Epoch: 0034, Training loss=0.003012, Validation loss=0.014906, valid accuracy=30.028818\n",
      "Time for this epoch: 128.74064135551453\n",
      "Epoch: 0035, Training loss=0.057705, Validation loss=0.015045, valid accuracy=30.028818\n",
      "Time for this epoch: 128.54094552993774\n",
      "Epoch: 0036, Training loss=0.000886, Validation loss=0.014948, valid accuracy=30.028818\n",
      "Time for this epoch: 128.7644612789154\n",
      "Epoch: 0037, Training loss=0.020028, Validation loss=0.014917, valid accuracy=30.028818\n",
      "Time for this epoch: 128.65878748893738\n",
      "Epoch: 0038, Training loss=0.003501, Validation loss=0.014908, valid accuracy=30.028818\n",
      "Time for this epoch: 128.60500955581665\n",
      "Epoch: 0039, Training loss=0.094032, Validation loss=0.014965, valid accuracy=30.029169\n",
      "Time for this epoch: 128.81924986839294\n",
      "Epoch: 0040, Training loss=0.003202, Validation loss=0.014911, valid accuracy=30.028818\n",
      "Time for this epoch: 128.60434484481812\n",
      "Epoch: 0041, Training loss=0.002861, Validation loss=0.014907, valid accuracy=30.028818\n",
      "Time for this epoch: 128.80524063110352\n",
      "Epoch: 0042, Training loss=0.000840, Validation loss=0.014927, valid accuracy=30.028818\n",
      "Time for this epoch: 128.77477478981018\n",
      "Epoch: 0043, Training loss=0.003397, Validation loss=0.014893, valid accuracy=30.028818\n",
      "Time for this epoch: 128.25607419013977\n",
      "Epoch: 0044, Training loss=0.003868, Validation loss=0.014917, valid accuracy=30.028818\n",
      "Time for this epoch: 128.86815857887268\n",
      "Epoch: 0045, Training loss=0.000857, Validation loss=0.014966, valid accuracy=30.028818\n",
      "Time for this epoch: 128.6274597644806\n",
      "Epoch: 0046, Training loss=0.000602, Validation loss=0.014919, valid accuracy=30.028818\n",
      "Time for this epoch: 128.6252076625824\n",
      "Epoch: 0047, Training loss=0.002994, Validation loss=0.014923, valid accuracy=30.029169\n",
      "Time for this epoch: 128.9644284248352\n",
      "Epoch: 0048, Training loss=0.044415, Validation loss=0.014888, valid accuracy=30.028818\n",
      "Time for this epoch: 128.43752551078796\n",
      "Epoch: 0049, Training loss=0.042253, Validation loss=0.014883, valid accuracy=30.028818\n",
      "Time for this epoch: 129.24150681495667\n",
      "Epoch: 0050, Training loss=0.002821, Validation loss=0.014930, valid accuracy=30.028818\n",
      "Time for this epoch: 130.57002234458923\n",
      "Epoch: 0051, Training loss=0.041008, Validation loss=0.014905, valid accuracy=30.028818\n",
      "Time for this epoch: 130.59125924110413\n",
      "Epoch: 0052, Training loss=0.000816, Validation loss=0.014984, valid accuracy=30.028818\n",
      "Time for this epoch: 131.4729814529419\n",
      "Epoch: 0053, Training loss=0.002894, Validation loss=0.014923, valid accuracy=30.028818\n",
      "Time for this epoch: 128.4645345211029\n",
      "Epoch: 0054, Training loss=0.012705, Validation loss=0.014891, valid accuracy=30.028818\n",
      "Time for this epoch: 129.66250658035278\n",
      "Epoch: 0055, Training loss=0.002912, Validation loss=0.014929, valid accuracy=30.028818\n",
      "Time for this epoch: 129.6992642879486\n",
      "Epoch: 0056, Training loss=0.002867, Validation loss=0.015020, valid accuracy=30.028818\n",
      "Time for this epoch: 129.45585203170776\n",
      "Epoch: 0057, Training loss=0.002735, Validation loss=0.014905, valid accuracy=30.028818\n",
      "Time for this epoch: 129.11029314994812\n",
      "Epoch: 0058, Training loss=0.003037, Validation loss=0.014990, valid accuracy=30.029169\n",
      "Time for this epoch: 128.86988997459412\n",
      "Epoch: 0059, Training loss=0.002848, Validation loss=0.014953, valid accuracy=30.028818\n",
      "Time for this epoch: 129.35318279266357\n",
      "Epoch: 0060, Training loss=0.003540, Validation loss=0.014974, valid accuracy=30.029169\n",
      "Time for this epoch: 128.98039293289185\n",
      "Epoch: 0061, Training loss=0.041444, Validation loss=0.014909, valid accuracy=30.029169\n",
      "Time for this epoch: 129.05684351921082\n",
      "Epoch: 0062, Training loss=0.044084, Validation loss=0.014960, valid accuracy=30.028818\n",
      "Time for this epoch: 133.97868609428406\n",
      "Epoch: 0063, Training loss=0.003055, Validation loss=0.014979, valid accuracy=30.028818\n",
      "Time for this epoch: 133.7147252559662\n",
      "Epoch: 0064, Training loss=0.003495, Validation loss=0.014984, valid accuracy=30.028818\n",
      "Time for this epoch: 126.6516044139862\n",
      "Epoch: 0065, Training loss=0.003239, Validation loss=0.014940, valid accuracy=30.029169\n",
      "Time for this epoch: 128.6104702949524\n",
      "Epoch: 0066, Training loss=0.000777, Validation loss=0.014958, valid accuracy=30.028818\n",
      "Time for this epoch: 129.37237691879272\n",
      "Epoch: 0067, Training loss=0.000690, Validation loss=0.015009, valid accuracy=30.028818\n",
      "Time for this epoch: 129.85340857505798\n",
      "Epoch: 0068, Training loss=0.084540, Validation loss=0.014968, valid accuracy=30.028818\n",
      "Time for this epoch: 133.9189019203186\n",
      "Epoch: 0069, Training loss=0.002931, Validation loss=0.014968, valid accuracy=30.028818\n",
      "Time for this epoch: 133.23480558395386\n",
      "Epoch: 0070, Training loss=0.002865, Validation loss=0.014993, valid accuracy=30.029169\n",
      "Time for this epoch: 133.3212594985962\n",
      "Epoch: 0071, Training loss=0.002815, Validation loss=0.014952, valid accuracy=30.028818\n",
      "Time for this epoch: 131.66971468925476\n",
      "Epoch: 0072, Training loss=0.000762, Validation loss=0.015020, valid accuracy=30.029169\n",
      "Time for this epoch: 133.19462037086487\n",
      "Epoch: 0073, Training loss=0.002760, Validation loss=0.014990, valid accuracy=30.029169\n",
      "Time for this epoch: 129.0454170703888\n",
      "Epoch: 0074, Training loss=0.043011, Validation loss=0.014986, valid accuracy=30.028818\n",
      "Time for this epoch: 128.81866121292114\n",
      "Epoch: 0075, Training loss=0.003442, Validation loss=0.014980, valid accuracy=30.028818\n",
      "Time for this epoch: 128.61318016052246\n",
      "Epoch: 0076, Training loss=0.044250, Validation loss=0.014959, valid accuracy=30.028818\n",
      "Time for this epoch: 129.21666145324707\n",
      "Epoch: 0077, Training loss=0.002845, Validation loss=0.014971, valid accuracy=30.028818\n",
      "Time for this epoch: 128.61528778076172\n",
      "Epoch: 0078, Training loss=0.084077, Validation loss=0.014943, valid accuracy=30.028818\n",
      "Time for this epoch: 128.89099287986755\n",
      "Epoch: 0079, Training loss=0.051939, Validation loss=0.014976, valid accuracy=30.028818\n",
      "Time for this epoch: 129.22530603408813\n",
      "Epoch: 0080, Training loss=0.000634, Validation loss=0.014951, valid accuracy=30.028818\n",
      "Time for this epoch: 128.70614910125732\n",
      "Epoch: 0081, Training loss=0.003396, Validation loss=0.015004, valid accuracy=30.029169\n",
      "Time for this epoch: 129.23920702934265\n",
      "Epoch: 0082, Training loss=0.003607, Validation loss=0.015073, valid accuracy=30.028818\n",
      "Time for this epoch: 128.3695993423462\n",
      "Epoch: 0083, Training loss=0.002863, Validation loss=0.014991, valid accuracy=30.029169\n",
      "Time for this epoch: 128.67028975486755\n",
      "Epoch: 0084, Training loss=0.039878, Validation loss=0.014978, valid accuracy=30.028818\n",
      "Time for this epoch: 129.02111744880676\n",
      "Epoch: 0085, Training loss=0.000760, Validation loss=0.015029, valid accuracy=30.028818\n",
      "Time for this epoch: 129.01308226585388\n",
      "Epoch: 0086, Training loss=0.000826, Validation loss=0.014971, valid accuracy=30.028818\n",
      "Time for this epoch: 129.1067500114441\n",
      "Epoch: 0087, Training loss=0.003014, Validation loss=0.015054, valid accuracy=30.028818\n",
      "Time for this epoch: 132.60006666183472\n",
      "Epoch: 0088, Training loss=0.046813, Validation loss=0.014970, valid accuracy=30.028818\n",
      "Time for this epoch: 131.72143459320068\n",
      "Epoch: 0089, Training loss=0.043192, Validation loss=0.015008, valid accuracy=30.028818\n",
      "Time for this epoch: 130.04005002975464\n",
      "Epoch: 0090, Training loss=0.003008, Validation loss=0.014953, valid accuracy=30.028818\n",
      "Time for this epoch: 128.65765690803528\n",
      "Epoch: 0091, Training loss=0.002839, Validation loss=0.014999, valid accuracy=30.028818\n",
      "Time for this epoch: 129.1068036556244\n"
     ]
    }
   ],
   "source": [
    "classifier = WaveletCNNSL(num_ifos=2, c_depth=5, n_chann=8, l1=64, l2=16).cuda()\n",
    "print(sum(p.numel() for p in classifier.parameters() if p.requires_grad))\n",
    "\n",
    "optimizer = optim.Adam(classifier.parameters(), lr=0.00005)\n",
    "loss_func = nn.BCEWithLogitsLoss(pos_weight=torch.FloatTensor([n_GLITCH_train/(n_BKG_train + n_BBH_train + n_SG_train)])).cuda()\n",
    "loss_train = np.empty((epochs, ))\n",
    "loss_validation = np.empty((epochs, ))\n",
    "\n",
    "for epoch in range(epochs):\n",
    "\n",
    "    t0 = time.time()\n",
    "    classifier.train()\n",
    "    for batchidx, (x, tgt_index) in enumerate(trainDataLoader):\n",
    "        x = x.cuda()\n",
    "        tgt_index = tgt_index.cuda()\n",
    "        output = classifier(x)\n",
    "        loss = loss_func(output, tgt_index)\n",
    "        \n",
    "        optimizer.zero_grad()\n",
    "        loss.backward()\n",
    "        optimizer.step()\n",
    "\n",
    "    classifier.eval()\n",
    "    with torch.no_grad():\n",
    "        val_loss = 0\n",
    "        n_correct = 0;\n",
    "        for batchidx, (x, tgt_index) in enumerate(validationDataLoader):\n",
    "            x = x.cuda()\n",
    "            tgt_index = tgt_index.cuda()\n",
    "            output = classifier(x)\n",
    "            lossVal = loss_func(output, tgt_index)\n",
    "            val_loss += lossVal.item()\n",
    "            n_correct += torch.eq(tgt_index, torch.argmax(output, dim=1)).sum().item()\n",
    "\n",
    "        val_loss /= len(validationDataLoader)\n",
    "\n",
    "    loss_train[epoch] = loss.item()\n",
    "    loss_validation[epoch] = val_loss\n",
    "    print('Epoch: %04d, Training loss=%f, Validation loss=%f, valid accuracy=%f' % (epoch+1, loss_train[epoch], val_loss, n_correct*1./len(X_validation)))\n",
    "    print('Time for this epoch: ' + str(time.time() - t0))\n",
    "\n",
    "#     print(time.time() - t0)\n",
    "\n",
    "plt.plot(loss_train)\n",
    "plt.plot(loss_validation)\n",
    "\n",
    "torch.save(classifier.cuda(), \"../Model_cached/Wavelet_model_SL_noisetrained\"+version+\".pt\")\n",
    "# np.savetxt(\"../data/SupLearn/lossClassifierTraining_64-64-16.dat\", [loss_train, loss_validation])"
   ]
  },
  {
   "cell_type": "markdown",
   "metadata": {},
   "source": [
    "### Trained with glitch"
   ]
  },
  {
   "cell_type": "code",
   "execution_count": null,
   "metadata": {},
   "outputs": [],
   "source": [
    "version = 'v1'\n",
    "dInput = 200"
   ]
  },
  {
   "cell_type": "code",
   "execution_count": null,
   "metadata": {},
   "outputs": [],
   "source": [
    "n_BKG = len(realbkg)\n",
    "n_BBH = len(realbbh)\n",
    "n_SG = len(realsg)\n",
    "n_GLITCH = len(realglitch)"
   ]
  },
  {
   "cell_type": "code",
   "execution_count": null,
   "metadata": {},
   "outputs": [],
   "source": [
    "# Beacuse there's already 20% of dataset reserved here, there's no meaning setting the testset. We only do\n",
    "# training and validation here. \n",
    "\n",
    "rTrain = 1-rValidation\n",
    "\n",
    "n_BKG_train = int(n_BKG * rTrain)\n",
    "n_BBH_train = int(n_BBH * rTrain)\n",
    "n_SG_train = int(n_SG * rTrain)\n",
    "n_GLITCH_train = int(n_GLITCH * rTrain)\n",
    "\n",
    "n_BKG_validation = int(n_BKG * rValidation)\n",
    "n_BBH_validation = int(n_BBH * rValidation)\n",
    "n_SG_validation = int(n_SG * rValidation)\n",
    "n_GLITCH_validation = int(n_GLITCH * rValidation)\n",
    "\n",
    "\n",
    "X_train = np.concatenate((realbkg[:n_BKG_train], \n",
    "                          realbbh[:n_BBH_train], \n",
    "                          realsg[:n_SG_train], \n",
    "                          realglitch[:n_GLITCH_train]), axis = 0)\n",
    "target_train = np.concatenate((np.ones(n_BKG_train + n_BBH_train + n_SG_train), np.zeros(n_GLITCH_train)))\n",
    "\n",
    "X_validation = np.concatenate((realbkg[:n_BKG_validation], \n",
    "                          realbbh[:n_BBH_validation], \n",
    "                          realsg[:n_SG_validation], \n",
    "                          realglitch[:n_GLITCH_validation]), axis = 0)\n",
    "target_validation = np.concatenate((np.ones(n_BKG_validation + n_BBH_validation + n_SG_validation), np.zeros(n_GLITCH_validation)))\n",
    "\n",
    "\n",
    "train_dataset = TensorDataset(torch.FloatTensor(X_train), torch.FloatTensor(target_train.reshape((len(target_train), 1))))\n",
    "# test_dataset  = TensorDataset(torch.FloatTensor(X_test.reshape((X_test.shape[0], 1, X_test.shape[1]))),  torch.FloatTensor(target_test.reshape((len(target_test), 1))))\n",
    "valid_dataset = TensorDataset(torch.FloatTensor(X_validation), torch.FloatTensor(target_validation.reshape((len(target_validation), 1))))\n",
    "\n",
    "trainDataLoader = DataLoader(dataset=train_dataset, batch_size=batch_size, shuffle=True)\n",
    "validationDataLoader = DataLoader(dataset=valid_dataset, batch_size=batch_size, shuffle=True)"
   ]
  },
  {
   "cell_type": "code",
   "execution_count": null,
   "metadata": {},
   "outputs": [
    {
     "data": {
      "text/plain": [
       "(744233, 2, 200)"
      ]
     },
     "metadata": {},
     "output_type": "display_data"
    }
   ],
   "source": [
    "X_train.shape"
   ]
  },
  {
   "cell_type": "code",
   "execution_count": null,
   "metadata": {},
   "outputs": [
    {
     "ename": "NameError",
     "evalue": "name 'WaveletCNNSL' is not defined",
     "output_type": "error",
     "traceback": [
      "\u001b[1;31m---------------------------------------------------------------------------\u001b[0m\n",
      "\u001b[1;31mNameError\u001b[0m                                 Traceback (most recent call last)\n",
      "Cell \u001b[1;32mIn[16], line 1\u001b[0m\n",
      "\u001b[1;32m----> 1\u001b[0m classifier \u001b[38;5;241m=\u001b[39m \u001b[43mWaveletCNNSL\u001b[49m(num_ifos\u001b[38;5;241m=\u001b[39m\u001b[38;5;241m2\u001b[39m, c_depth\u001b[38;5;241m=\u001b[39m\u001b[38;5;241m5\u001b[39m, n_chann\u001b[38;5;241m=\u001b[39m\u001b[38;5;241m8\u001b[39m, l1\u001b[38;5;241m=\u001b[39m\u001b[38;5;241m64\u001b[39m, l2\u001b[38;5;241m=\u001b[39m\u001b[38;5;241m16\u001b[39m)\u001b[38;5;241m.\u001b[39mcuda()\n",
      "\u001b[0;32m      2\u001b[0m \u001b[38;5;28mprint\u001b[39m(\u001b[38;5;28msum\u001b[39m(p\u001b[38;5;241m.\u001b[39mnumel() \u001b[38;5;28;01mfor\u001b[39;00m p \u001b[38;5;129;01min\u001b[39;00m classifier\u001b[38;5;241m.\u001b[39mparameters() \u001b[38;5;28;01mif\u001b[39;00m p\u001b[38;5;241m.\u001b[39mrequires_grad))\n",
      "\u001b[0;32m      4\u001b[0m optimizer \u001b[38;5;241m=\u001b[39m optim\u001b[38;5;241m.\u001b[39mAdam(classifier\u001b[38;5;241m.\u001b[39mparameters(), lr\u001b[38;5;241m=\u001b[39m\u001b[38;5;241m0.00005\u001b[39m)\n",
      "\n",
      "\u001b[1;31mNameError\u001b[0m: name 'WaveletCNNSL' is not defined"
     ]
    }
   ],
   "source": [
    "classifier = WaveletCNNSL(num_ifos=2, c_depth=5, n_chann=8, l1=64, l2=16).cuda()\n",
    "print(sum(p.numel() for p in classifier.parameters() if p.requires_grad))\n",
    "\n",
    "optimizer = optim.Adam(classifier.parameters(), lr=0.00005)\n",
    "loss_func = nn.BCEWithLogitsLoss(pos_weight=torch.FloatTensor([n_GLITCH_train/(n_BKG_train + n_BBH_train + n_SG_train)])).cuda()\n",
    "loss_train = np.empty((epochs, ))\n",
    "loss_validation = np.empty((epochs, ))\n",
    "\n",
    "for epoch in range(epochs):\n",
    "\n",
    "    t0 = time.time()\n",
    "    classifier.train()\n",
    "    for batchidx, (x, tgt_index) in enumerate(trainDataLoader):\n",
    "        x = x.cuda()\n",
    "        tgt_index = tgt_index.cuda()\n",
    "        output = classifier(x)\n",
    "        loss = loss_func(output, tgt_index)\n",
    "        \n",
    "        optimizer.zero_grad()\n",
    "        loss.backward()\n",
    "        optimizer.step()\n",
    "\n",
    "    classifier.eval()\n",
    "    with torch.no_grad():\n",
    "        val_loss = 0\n",
    "        n_correct = 0;\n",
    "        for batchidx, (x, tgt_index) in enumerate(validationDataLoader):\n",
    "            x = x.cuda()\n",
    "            tgt_index = tgt_index.cuda()\n",
    "            output = classifier(x)\n",
    "            lossVal = loss_func(output, tgt_index)\n",
    "            val_loss += lossVal.item()\n",
    "            n_correct += torch.eq(tgt_index, torch.argmax(output, dim=1)).sum().item()\n",
    "\n",
    "        val_loss /= len(validationDataLoader)\n",
    "\n",
    "    loss_train[epoch] = loss.item()\n",
    "    loss_validation[epoch] = val_loss\n",
    "    print('Epoch: %04d, Training loss=%f, Validation loss=%f, valid accuracy=%f' % (epoch+1, loss_train[epoch], val_loss, n_correct*1./len(X_validation)))\n",
    "    print('Time for this epoch: ' + str(time.time() - t0))\n",
    "\n",
    "#     print(time.time() - t0)\n",
    "\n",
    "plt.plot(loss_train)\n",
    "plt.plot(loss_validation)\n",
    "\n",
    "torch.save(classifier.cuda(), \"../Model_cached/Wavelet_model_SL\"+version+\".pt\")\n",
    "# np.savetxt(\"../data/SupLearn/lossClassifierTraining_64-64-16.dat\", [loss_train, loss_validation])"
   ]
  },
  {
   "cell_type": "code",
   "execution_count": null,
   "metadata": {},
   "outputs": [],
   "source": []
  },
  {
   "cell_type": "markdown",
   "metadata": {},
   "source": [
    "### Trained with noise"
   ]
  },
  {
   "cell_type": "code",
   "execution_count": null,
   "metadata": {},
   "outputs": [],
   "source": []
  },
  {
   "cell_type": "markdown",
   "metadata": {},
   "source": [
    "## For unsupervised learning case"
   ]
  },
  {
   "cell_type": "markdown",
   "metadata": {},
   "source": [
    "### Trained with glitch"
   ]
  },
  {
   "cell_type": "code",
   "execution_count": 87,
   "metadata": {},
   "outputs": [],
   "source": [
    "version = 'v5'\n",
    "dInput = 200"
   ]
  },
  {
   "cell_type": "code",
   "execution_count": 76,
   "metadata": {},
   "outputs": [],
   "source": [
    "n_BKG = len(realbkg)\n",
    "n_BBH = len(realbbh)\n",
    "n_SG = len(realsg)\n",
    "n_GLITCH = len(realglitch)"
   ]
  },
  {
   "cell_type": "code",
   "execution_count": 77,
   "metadata": {},
   "outputs": [],
   "source": [
    "# Beacuse there's already 20% of dataset reserved here, there's no meaning setting the testset. We only do\n",
    "# training and validation here. \n",
    "\n",
    "rTrain = 1-rValidation\n",
    "\n",
    "n_BKG_train = int(n_BKG * rTrain)\n",
    "n_BBH_train = int(n_BBH * rTrain)\n",
    "n_SG_train = int(n_SG * rTrain)\n",
    "n_GLITCH_train = int(n_GLITCH * rTrain)\n",
    "\n",
    "n_BKG_validation = int(n_BKG * rValidation)\n",
    "n_BBH_validation = int(n_BBH * rValidation)\n",
    "n_SG_validation = int(n_SG * rValidation)\n",
    "n_GLITCH_validation = int(n_GLITCH * rValidation)"
   ]
  },
  {
   "cell_type": "code",
   "execution_count": null,
   "metadata": {},
   "outputs": [
    {
     "ename": "MemoryError",
     "evalue": "Unable to allocate 2.22 GiB for an array with shape (744233, 2, 200) and data type float64",
     "output_type": "error",
     "traceback": [
      "\u001b[1;31m---------------------------------------------------------------------------\u001b[0m\n",
      "\u001b[1;31mMemoryError\u001b[0m                               Traceback (most recent call last)\n",
      "Cell \u001b[1;32mIn[37], line 17\u001b[0m\n",
      "\u001b[0;32m     13\u001b[0m n_SG_validation \u001b[38;5;241m=\u001b[39m \u001b[38;5;28mint\u001b[39m(n_SG \u001b[38;5;241m*\u001b[39m rValidation)\n",
      "\u001b[0;32m     14\u001b[0m n_GLITCH_validation \u001b[38;5;241m=\u001b[39m \u001b[38;5;28mint\u001b[39m(n_GLITCH \u001b[38;5;241m*\u001b[39m rValidation)\n",
      "\u001b[1;32m---> 17\u001b[0m X_train \u001b[38;5;241m=\u001b[39m \u001b[43mnp\u001b[49m\u001b[38;5;241;43m.\u001b[39;49m\u001b[43mconcatenate\u001b[49m\u001b[43m(\u001b[49m\u001b[43m(\u001b[49m\u001b[43mrealbkg\u001b[49m\u001b[43m[\u001b[49m\u001b[43m:\u001b[49m\u001b[43mn_BKG_train\u001b[49m\u001b[43m]\u001b[49m\u001b[43m,\u001b[49m\u001b[43m \u001b[49m\n",
      "\u001b[0;32m     18\u001b[0m \u001b[43m                          \u001b[49m\u001b[43mrealbbh\u001b[49m\u001b[43m[\u001b[49m\u001b[43m:\u001b[49m\u001b[43mn_BBH_train\u001b[49m\u001b[43m]\u001b[49m\u001b[43m,\u001b[49m\u001b[43m \u001b[49m\n",
      "\u001b[0;32m     19\u001b[0m \u001b[43m                          \u001b[49m\u001b[43mrealsg\u001b[49m\u001b[43m[\u001b[49m\u001b[43m:\u001b[49m\u001b[43mn_SG_train\u001b[49m\u001b[43m]\u001b[49m\u001b[43m,\u001b[49m\u001b[43m \u001b[49m\n",
      "\u001b[0;32m     20\u001b[0m \u001b[43m                          \u001b[49m\u001b[43mrealglitch\u001b[49m\u001b[43m[\u001b[49m\u001b[43m:\u001b[49m\u001b[43mn_GLITCH_train\u001b[49m\u001b[43m]\u001b[49m\u001b[43m)\u001b[49m\u001b[43m,\u001b[49m\u001b[43m \u001b[49m\u001b[43maxis\u001b[49m\u001b[43m \u001b[49m\u001b[38;5;241;43m=\u001b[39;49m\u001b[43m \u001b[49m\u001b[38;5;241;43m0\u001b[39;49m\u001b[43m)\u001b[49m\n",
      "\u001b[0;32m     21\u001b[0m target_train \u001b[38;5;241m=\u001b[39m np\u001b[38;5;241m.\u001b[39mconcatenate((np\u001b[38;5;241m.\u001b[39mones(n_BKG_train \u001b[38;5;241m+\u001b[39m n_BBH_train \u001b[38;5;241m+\u001b[39m n_SG_train), np\u001b[38;5;241m.\u001b[39mzeros(n_GLITCH_train)))\n",
      "\u001b[0;32m     23\u001b[0m X_validation \u001b[38;5;241m=\u001b[39m np\u001b[38;5;241m.\u001b[39mconcatenate((realbkg[\u001b[38;5;241m-\u001b[39mn_BKG_validation:], \n",
      "\u001b[0;32m     24\u001b[0m                           realbbh[\u001b[38;5;241m-\u001b[39mn_BBH_validation:], \n",
      "\u001b[0;32m     25\u001b[0m                           realsg[\u001b[38;5;241m-\u001b[39mn_SG_validation:], \n",
      "\u001b[0;32m     26\u001b[0m                           realglitch[\u001b[38;5;241m-\u001b[39mn_GLITCH_validation:]), axis \u001b[38;5;241m=\u001b[39m \u001b[38;5;241m0\u001b[39m)\n",
      "\n",
      "\u001b[1;31mMemoryError\u001b[0m: Unable to allocate 2.22 GiB for an array with shape (744233, 2, 200) and data type float64"
     ]
    }
   ],
   "source": [
    "# Beacuse there's already 20% of dataset reserved here, there's no meaning setting the testset. We only do\n",
    "# training and validation here. \n",
    "\n",
    "rTrain = 1-rValidation\n",
    "\n",
    "n_BKG_train = int(n_BKG * rTrain)\n",
    "n_BBH_train = int(n_BBH * rTrain)\n",
    "n_SG_train = int(n_SG * rTrain)\n",
    "n_GLITCH_train = int(n_GLITCH * rTrain)\n",
    "\n",
    "n_BKG_validation = int(n_BKG * rValidation)\n",
    "n_BBH_validation = int(n_BBH * rValidation)\n",
    "n_SG_validation = int(n_SG * rValidation)\n",
    "n_GLITCH_validation = int(n_GLITCH * rValidation)\n",
    "\n",
    "\n",
    "X_train = np.concatenate((realbkg[:n_BKG_train], \n",
    "                          realbbh[:n_BBH_train], \n",
    "                          realsg[:n_SG_train], \n",
    "                          realglitch[:n_GLITCH_train]), axis = 0)\n",
    "target_train = np.concatenate((np.ones(n_BKG_train + n_BBH_train + n_SG_train), np.zeros(n_GLITCH_train)))\n",
    "\n",
    "X_validation = np.concatenate((realbkg[-n_BKG_validation:], \n",
    "                          realbbh[-n_BBH_validation:], \n",
    "                          realsg[-n_SG_validation:], \n",
    "                          realglitch[-n_GLITCH_validation:]), axis = 0)\n",
    "target_validation = np.concatenate((np.ones(n_BKG_validation + n_BBH_validation + n_SG_validation), np.zeros(n_GLITCH_validation)))\n",
    "\n",
    "\n",
    "train_dataset = TensorDataset(torch.FloatTensor(X_train), torch.FloatTensor(target_train.reshape((len(target_train), 1))))\n",
    "# test_dataset  = TensorDataset(torch.FloatTensor(X_test.reshape((X_test.shape[0], 1, X_test.shape[1]))),  torch.FloatTensor(target_test.reshape((len(target_test), 1))))\n",
    "valid_dataset = TensorDataset(torch.FloatTensor(X_validation), torch.FloatTensor(target_validation.reshape((len(target_validation), 1))))\n",
    "\n",
    "trainDataLoader = DataLoader(dataset=train_dataset, batch_size=batch_size, shuffle=True)\n",
    "validationDataLoader = DataLoader(dataset=valid_dataset, batch_size=batch_size, shuffle=True)"
   ]
  },
  {
   "cell_type": "code",
   "execution_count": 78,
   "metadata": {},
   "outputs": [],
   "source": [
    "X_train = realglitch[:n_GLITCH_train]\n",
    "X_validation = realglitch[-n_GLITCH_validation:]\n",
    "\n",
    "train_dataset = TensorDataset(torch.FloatTensor(X_train))\n",
    "# test_dataset  = TensorDataset(torch.FloatTensor(X_test.reshape((X_test.shape[0], 1, X_test.shape[1]))),  torch.FloatTensor(target_test.reshape((len(target_test), 1))))\n",
    "valid_dataset = TensorDataset(torch.FloatTensor(X_validation))\n",
    "\n",
    "trainDataLoader = DataLoader(dataset=train_dataset, batch_size=batch_size, shuffle=True)\n",
    "validationDataLoader = DataLoader(dataset=valid_dataset, batch_size=batch_size, shuffle=True)"
   ]
  },
  {
   "cell_type": "code",
   "execution_count": 79,
   "metadata": {},
   "outputs": [
    {
     "data": {
      "text/plain": [
       "(43200, 2, 200)"
      ]
     },
     "execution_count": 79,
     "metadata": {},
     "output_type": "execute_result"
    }
   ],
   "source": [
    "X_train.shape"
   ]
  },
  {
   "cell_type": "code",
   "execution_count": 88,
   "metadata": {},
   "outputs": [
    {
     "name": "stdout",
     "output_type": "stream",
     "text": [
      "12503\n"
     ]
    },
    {
     "name": "stdout",
     "output_type": "stream",
     "text": [
      "Epoch: 0001, Training loss=1.000166, Validation loss=1.000137, valid accuracy=0.000000\n",
      "Time for this epoch: 12.532595157623291\n",
      "Epoch: 0002, Training loss=0.999957, Validation loss=1.000017, valid accuracy=0.000000\n",
      "Time for this epoch: 11.971664428710938\n",
      "Epoch: 0003, Training loss=1.000120, Validation loss=1.000008, valid accuracy=0.000000\n",
      "Time for this epoch: 12.080516576766968\n",
      "Epoch: 0004, Training loss=1.000082, Validation loss=1.000017, valid accuracy=0.000000\n",
      "Time for this epoch: 11.879301309585571\n",
      "Epoch: 0005, Training loss=0.999855, Validation loss=1.000036, valid accuracy=0.000000\n",
      "Time for this epoch: 11.9529869556427\n",
      "Epoch: 0006, Training loss=0.999977, Validation loss=0.999972, valid accuracy=0.000000\n",
      "Time for this epoch: 12.152062892913818\n",
      "Epoch: 0007, Training loss=0.998572, Validation loss=0.999436, valid accuracy=0.000000\n",
      "Time for this epoch: 11.97234034538269\n",
      "Epoch: 0008, Training loss=0.917145, Validation loss=0.920108, valid accuracy=0.000000\n",
      "Time for this epoch: 12.133613109588623\n",
      "Epoch: 0009, Training loss=0.882991, Validation loss=0.866207, valid accuracy=0.000000\n",
      "Time for this epoch: 11.987987279891968\n",
      "Epoch: 0010, Training loss=0.785495, Validation loss=0.835557, valid accuracy=0.000000\n",
      "Time for this epoch: 11.881027936935425\n",
      "Epoch: 0011, Training loss=0.805063, Validation loss=0.793124, valid accuracy=0.000000\n",
      "Time for this epoch: 12.016440629959106\n",
      "Epoch: 0012, Training loss=0.730425, Validation loss=0.742578, valid accuracy=0.000000\n",
      "Time for this epoch: 11.885299921035767\n",
      "Epoch: 0013, Training loss=0.731566, Validation loss=0.716066, valid accuracy=0.000000\n",
      "Time for this epoch: 11.855983972549438\n",
      "Epoch: 0014, Training loss=0.726874, Validation loss=0.699491, valid accuracy=0.000000\n",
      "Time for this epoch: 12.00303602218628\n",
      "Epoch: 0015, Training loss=0.667143, Validation loss=0.689075, valid accuracy=0.000000\n",
      "Time for this epoch: 12.115074157714844\n",
      "Epoch: 0016, Training loss=0.662531, Validation loss=0.681600, valid accuracy=0.000000\n",
      "Time for this epoch: 12.132534980773926\n",
      "Epoch: 0017, Training loss=0.697098, Validation loss=0.676071, valid accuracy=0.000000\n",
      "Time for this epoch: 11.899506568908691\n",
      "Epoch: 0018, Training loss=0.639612, Validation loss=0.670524, valid accuracy=0.000000\n",
      "Time for this epoch: 11.847976446151733\n",
      "Epoch: 0019, Training loss=0.648540, Validation loss=0.665104, valid accuracy=0.000000\n",
      "Time for this epoch: 11.797715187072754\n",
      "Epoch: 0020, Training loss=0.687533, Validation loss=0.659378, valid accuracy=0.000000\n",
      "Time for this epoch: 11.795596599578857\n",
      "Epoch: 0021, Training loss=0.653927, Validation loss=0.653979, valid accuracy=0.000000\n",
      "Time for this epoch: 12.306190252304077\n",
      "Epoch: 0022, Training loss=0.664203, Validation loss=0.649703, valid accuracy=0.000000\n",
      "Time for this epoch: 12.23330307006836\n",
      "Epoch: 0023, Training loss=0.652764, Validation loss=0.646267, valid accuracy=0.000000\n",
      "Time for this epoch: 11.964296102523804\n",
      "Epoch: 0024, Training loss=0.624555, Validation loss=0.643167, valid accuracy=0.000000\n",
      "Time for this epoch: 11.947858810424805\n",
      "Epoch: 0025, Training loss=0.672001, Validation loss=0.641227, valid accuracy=0.000000\n",
      "Time for this epoch: 11.856095314025879\n",
      "Epoch: 0026, Training loss=0.668938, Validation loss=0.639691, valid accuracy=0.000000\n",
      "Time for this epoch: 11.941241979598999\n",
      "Epoch: 0027, Training loss=0.651652, Validation loss=0.638567, valid accuracy=0.000000\n",
      "Time for this epoch: 11.943084478378296\n",
      "Epoch: 0028, Training loss=0.645329, Validation loss=0.637296, valid accuracy=0.000000\n",
      "Time for this epoch: 12.043967008590698\n",
      "Epoch: 0029, Training loss=0.630271, Validation loss=0.636454, valid accuracy=0.000000\n",
      "Time for this epoch: 12.091617107391357\n",
      "Epoch: 0030, Training loss=0.655021, Validation loss=0.635564, valid accuracy=0.000000\n",
      "Time for this epoch: 11.917760133743286\n",
      "Epoch: 0031, Training loss=0.633691, Validation loss=0.634654, valid accuracy=0.000000\n",
      "Time for this epoch: 12.081032991409302\n",
      "Epoch: 0032, Training loss=0.649671, Validation loss=0.634410, valid accuracy=0.000000\n",
      "Time for this epoch: 12.014867067337036\n",
      "Epoch: 0033, Training loss=0.640640, Validation loss=0.633745, valid accuracy=0.000000\n",
      "Time for this epoch: 11.9712495803833\n",
      "Epoch: 0034, Training loss=0.653287, Validation loss=0.633258, valid accuracy=0.000000\n",
      "Time for this epoch: 12.068586826324463\n",
      "Epoch: 0035, Training loss=0.628047, Validation loss=0.632896, valid accuracy=0.000000\n",
      "Time for this epoch: 12.120654582977295\n",
      "Epoch: 0036, Training loss=0.646926, Validation loss=0.632384, valid accuracy=0.000000\n",
      "Time for this epoch: 11.933902740478516\n",
      "Epoch: 0037, Training loss=0.699014, Validation loss=0.632065, valid accuracy=0.000000\n",
      "Time for this epoch: 12.25208306312561\n",
      "Epoch: 0038, Training loss=0.585723, Validation loss=0.631456, valid accuracy=0.000000\n",
      "Time for this epoch: 11.964845657348633\n",
      "Epoch: 0039, Training loss=0.646582, Validation loss=0.631124, valid accuracy=0.000000\n",
      "Time for this epoch: 11.88729190826416\n",
      "Epoch: 0040, Training loss=0.644119, Validation loss=0.630639, valid accuracy=0.000000\n",
      "Time for this epoch: 11.855283498764038\n",
      "Epoch: 0041, Training loss=0.634699, Validation loss=0.630449, valid accuracy=0.000000\n",
      "Time for this epoch: 12.097694396972656\n",
      "Epoch: 0042, Training loss=0.614921, Validation loss=0.630091, valid accuracy=0.000000\n",
      "Time for this epoch: 12.320682525634766\n",
      "Epoch: 0043, Training loss=0.643973, Validation loss=0.629887, valid accuracy=0.000000\n",
      "Time for this epoch: 12.06273365020752\n",
      "Epoch: 0044, Training loss=0.633858, Validation loss=0.629506, valid accuracy=0.000000\n",
      "Time for this epoch: 11.899193048477173\n",
      "Epoch: 0045, Training loss=0.647820, Validation loss=0.628875, valid accuracy=0.000000\n",
      "Time for this epoch: 11.807864904403687\n",
      "Epoch: 0046, Training loss=0.656688, Validation loss=0.628904, valid accuracy=0.000000\n",
      "Time for this epoch: 11.792109251022339\n",
      "Epoch: 0047, Training loss=0.691769, Validation loss=0.628603, valid accuracy=0.000000\n",
      "Time for this epoch: 12.08046579360962\n",
      "Epoch: 0048, Training loss=0.606065, Validation loss=0.628589, valid accuracy=0.000000\n",
      "Time for this epoch: 12.245447397232056\n",
      "Epoch: 0049, Training loss=0.620011, Validation loss=0.628016, valid accuracy=0.000000\n",
      "Time for this epoch: 12.074000358581543\n",
      "Epoch: 0050, Training loss=0.629017, Validation loss=0.627659, valid accuracy=0.000000\n",
      "Time for this epoch: 12.020114183425903\n",
      "Epoch: 0051, Training loss=0.586046, Validation loss=0.627520, valid accuracy=0.000000\n",
      "Time for this epoch: 11.876524686813354\n",
      "Epoch: 0052, Training loss=0.595416, Validation loss=0.627237, valid accuracy=0.000000\n",
      "Time for this epoch: 11.883331537246704\n",
      "Epoch: 0053, Training loss=0.621891, Validation loss=0.626872, valid accuracy=0.000000\n",
      "Time for this epoch: 12.09058427810669\n",
      "Epoch: 0054, Training loss=0.624534, Validation loss=0.626896, valid accuracy=0.000000\n",
      "Time for this epoch: 12.028797626495361\n",
      "Epoch: 0055, Training loss=0.648583, Validation loss=0.626754, valid accuracy=0.000000\n",
      "Time for this epoch: 12.037983417510986\n",
      "Epoch: 0056, Training loss=0.625579, Validation loss=0.626472, valid accuracy=0.000000\n",
      "Time for this epoch: 12.010410785675049\n",
      "Epoch: 0057, Training loss=0.631047, Validation loss=0.626371, valid accuracy=0.000000\n",
      "Time for this epoch: 11.897603273391724\n",
      "Epoch: 0058, Training loss=0.632443, Validation loss=0.625995, valid accuracy=0.000000\n",
      "Time for this epoch: 11.951258420944214\n",
      "Epoch: 0059, Training loss=0.620556, Validation loss=0.625857, valid accuracy=0.000000\n",
      "Time for this epoch: 11.90466570854187\n",
      "Epoch: 0060, Training loss=0.654472, Validation loss=0.625800, valid accuracy=0.000000\n",
      "Time for this epoch: 11.88317322731018\n",
      "Epoch: 0061, Training loss=0.619077, Validation loss=0.625529, valid accuracy=0.000000\n",
      "Time for this epoch: 12.13662576675415\n",
      "Epoch: 0062, Training loss=0.618235, Validation loss=0.625760, valid accuracy=0.000000\n",
      "Time for this epoch: 12.149465560913086\n",
      "Epoch: 0063, Training loss=0.619417, Validation loss=0.625154, valid accuracy=0.000000\n",
      "Time for this epoch: 12.085498332977295\n",
      "Epoch: 0064, Training loss=0.634246, Validation loss=0.624838, valid accuracy=0.000000\n",
      "Time for this epoch: 12.00555944442749\n",
      "Epoch: 0065, Training loss=0.640994, Validation loss=0.624754, valid accuracy=0.000000\n",
      "Time for this epoch: 11.965299844741821\n",
      "Epoch: 0066, Training loss=0.619396, Validation loss=0.624848, valid accuracy=0.000000\n",
      "Time for this epoch: 11.95024824142456\n",
      "Epoch: 0067, Training loss=0.669067, Validation loss=0.624519, valid accuracy=0.000000\n",
      "Time for this epoch: 11.810144186019897\n",
      "Epoch: 0068, Training loss=0.667379, Validation loss=0.624724, valid accuracy=0.000000\n",
      "Time for this epoch: 12.15976858139038\n",
      "Epoch: 0069, Training loss=0.583946, Validation loss=0.624159, valid accuracy=0.000000\n",
      "Time for this epoch: 12.07789158821106\n",
      "Epoch: 0070, Training loss=0.655393, Validation loss=0.623943, valid accuracy=0.000000\n",
      "Time for this epoch: 12.138541460037231\n",
      "Epoch: 0071, Training loss=0.625326, Validation loss=0.624626, valid accuracy=0.000000\n",
      "Time for this epoch: 11.88779902458191\n",
      "Epoch: 0072, Training loss=0.632463, Validation loss=0.623670, valid accuracy=0.000000\n",
      "Time for this epoch: 11.839888572692871\n",
      "Epoch: 0073, Training loss=0.665751, Validation loss=0.624007, valid accuracy=0.000000\n",
      "Time for this epoch: 11.955941438674927\n",
      "Epoch: 0074, Training loss=0.595314, Validation loss=0.623699, valid accuracy=0.000000\n",
      "Time for this epoch: 12.133158922195435\n",
      "Epoch: 0075, Training loss=0.633924, Validation loss=0.623520, valid accuracy=0.000000\n",
      "Time for this epoch: 12.174116849899292\n",
      "Epoch: 0076, Training loss=0.608071, Validation loss=0.623325, valid accuracy=0.000000\n",
      "Time for this epoch: 12.159874200820923\n",
      "Epoch: 0077, Training loss=0.589290, Validation loss=0.623272, valid accuracy=0.000000\n",
      "Time for this epoch: 11.907770156860352\n",
      "Epoch: 0078, Training loss=0.641636, Validation loss=0.623289, valid accuracy=0.000000\n",
      "Time for this epoch: 11.898948669433594\n",
      "Epoch: 0079, Training loss=0.606530, Validation loss=0.622907, valid accuracy=0.000000\n",
      "Time for this epoch: 12.030460119247437\n",
      "Epoch: 0080, Training loss=0.628910, Validation loss=0.623259, valid accuracy=0.000000\n",
      "Time for this epoch: 11.882576704025269\n",
      "Epoch: 0081, Training loss=0.608142, Validation loss=0.622571, valid accuracy=0.000000\n",
      "Time for this epoch: 12.132012367248535\n",
      "Epoch: 0082, Training loss=0.633030, Validation loss=0.622928, valid accuracy=0.000000\n",
      "Time for this epoch: 11.91942834854126\n",
      "Epoch: 0083, Training loss=0.627244, Validation loss=0.623196, valid accuracy=0.000000\n",
      "Time for this epoch: 11.9675874710083\n",
      "Epoch: 0084, Training loss=0.645735, Validation loss=0.622715, valid accuracy=0.000000\n",
      "Time for this epoch: 11.976779699325562\n",
      "Epoch: 0085, Training loss=0.691853, Validation loss=0.622519, valid accuracy=0.000000\n",
      "Time for this epoch: 11.889138221740723\n",
      "Epoch: 0086, Training loss=0.663854, Validation loss=0.622516, valid accuracy=0.000000\n",
      "Time for this epoch: 11.976884365081787\n",
      "Epoch: 0087, Training loss=0.613678, Validation loss=0.622384, valid accuracy=0.000000\n",
      "Time for this epoch: 11.889427185058594\n",
      "Epoch: 0088, Training loss=0.650141, Validation loss=0.622340, valid accuracy=0.000000\n",
      "Time for this epoch: 12.178355932235718\n",
      "Epoch: 0089, Training loss=0.635173, Validation loss=0.622291, valid accuracy=0.000000\n",
      "Time for this epoch: 12.030111074447632\n",
      "Epoch: 0090, Training loss=0.641487, Validation loss=0.622182, valid accuracy=0.000000\n",
      "Time for this epoch: 11.87903380393982\n",
      "Epoch: 0091, Training loss=0.648657, Validation loss=0.622229, valid accuracy=0.000000\n",
      "Time for this epoch: 12.134264469146729\n",
      "Epoch: 0092, Training loss=0.593476, Validation loss=0.622299, valid accuracy=0.000000\n",
      "Time for this epoch: 11.940480947494507\n",
      "Epoch: 0093, Training loss=0.597680, Validation loss=0.621940, valid accuracy=0.000000\n",
      "Time for this epoch: 11.900733709335327\n",
      "Epoch: 0094, Training loss=0.682245, Validation loss=0.622721, valid accuracy=0.000000\n",
      "Time for this epoch: 12.129781246185303\n",
      "Epoch: 0095, Training loss=0.643750, Validation loss=0.621940, valid accuracy=0.000000\n",
      "Time for this epoch: 12.117544174194336\n",
      "Epoch: 0096, Training loss=0.610478, Validation loss=0.621774, valid accuracy=0.000000\n",
      "Time for this epoch: 12.011992454528809\n",
      "Epoch: 0097, Training loss=0.608552, Validation loss=0.622233, valid accuracy=0.000000\n",
      "Time for this epoch: 12.011168956756592\n",
      "Epoch: 0098, Training loss=0.623347, Validation loss=0.621972, valid accuracy=0.000000\n",
      "Time for this epoch: 11.897575616836548\n",
      "Epoch: 0099, Training loss=0.639545, Validation loss=0.621899, valid accuracy=0.000000\n",
      "Time for this epoch: 11.868636846542358\n",
      "Epoch: 0100, Training loss=0.623843, Validation loss=0.621597, valid accuracy=0.000000\n",
      "Time for this epoch: 12.110039710998535\n",
      "Epoch: 0101, Training loss=0.594816, Validation loss=0.622050, valid accuracy=0.000000\n",
      "Time for this epoch: 12.013443946838379\n",
      "Epoch: 0102, Training loss=0.611320, Validation loss=0.621406, valid accuracy=0.000000\n",
      "Time for this epoch: 11.990676879882812\n",
      "Epoch: 0103, Training loss=0.681289, Validation loss=0.621542, valid accuracy=0.000000\n",
      "Time for this epoch: 12.005754470825195\n",
      "Epoch: 0104, Training loss=0.599081, Validation loss=0.621581, valid accuracy=0.000000\n",
      "Time for this epoch: 11.957513809204102\n",
      "Epoch: 0105, Training loss=0.636369, Validation loss=0.621555, valid accuracy=0.000000\n",
      "Time for this epoch: 12.077705144882202\n",
      "Epoch: 0106, Training loss=0.604539, Validation loss=0.621361, valid accuracy=0.000000\n",
      "Time for this epoch: 12.022302389144897\n",
      "Epoch: 0107, Training loss=0.651290, Validation loss=0.621696, valid accuracy=0.000000\n",
      "Time for this epoch: 11.9242103099823\n",
      "Epoch: 0108, Training loss=0.576510, Validation loss=0.621227, valid accuracy=0.000000\n",
      "Time for this epoch: 11.98511815071106\n",
      "Epoch: 0109, Training loss=0.650789, Validation loss=0.620873, valid accuracy=0.000000\n",
      "Time for this epoch: 11.882655143737793\n",
      "Epoch: 0110, Training loss=0.602599, Validation loss=0.621338, valid accuracy=0.000000\n",
      "Time for this epoch: 12.125902891159058\n",
      "Epoch: 0111, Training loss=0.613913, Validation loss=0.620776, valid accuracy=0.000000\n",
      "Time for this epoch: 12.202003240585327\n",
      "Epoch: 0112, Training loss=0.625432, Validation loss=0.620796, valid accuracy=0.000000\n",
      "Time for this epoch: 11.972854852676392\n",
      "Epoch: 0113, Training loss=0.590154, Validation loss=0.620649, valid accuracy=0.000000\n",
      "Time for this epoch: 12.090618133544922\n",
      "Epoch: 0114, Training loss=0.620132, Validation loss=0.620816, valid accuracy=0.000000\n",
      "Time for this epoch: 12.133326292037964\n",
      "Epoch: 0115, Training loss=0.631232, Validation loss=0.620463, valid accuracy=0.000000\n",
      "Time for this epoch: 12.037320375442505\n",
      "Epoch: 0116, Training loss=0.642635, Validation loss=0.620227, valid accuracy=0.000000\n",
      "Time for this epoch: 12.057227611541748\n",
      "Epoch: 0117, Training loss=0.616869, Validation loss=0.620815, valid accuracy=0.000000\n",
      "Time for this epoch: 12.017001152038574\n",
      "Epoch: 0118, Training loss=0.622638, Validation loss=0.620681, valid accuracy=0.000000\n",
      "Time for this epoch: 12.757617950439453\n",
      "Epoch: 0119, Training loss=0.637693, Validation loss=0.620551, valid accuracy=0.000000\n",
      "Time for this epoch: 11.979372501373291\n",
      "Epoch: 0120, Training loss=0.606783, Validation loss=0.620321, valid accuracy=0.000000\n",
      "Time for this epoch: 12.048956394195557\n",
      "Epoch: 0121, Training loss=0.629419, Validation loss=0.620301, valid accuracy=0.000000\n",
      "Time for this epoch: 12.533652067184448\n",
      "Epoch: 0122, Training loss=0.626360, Validation loss=0.619995, valid accuracy=0.000000\n",
      "Time for this epoch: 12.533178091049194\n",
      "Epoch: 0123, Training loss=0.620215, Validation loss=0.620063, valid accuracy=0.000000\n",
      "Time for this epoch: 12.67264437675476\n",
      "Epoch: 0124, Training loss=0.667848, Validation loss=0.619900, valid accuracy=0.000000\n",
      "Time for this epoch: 11.852980375289917\n",
      "Epoch: 0125, Training loss=0.631934, Validation loss=0.619838, valid accuracy=0.000000\n",
      "Time for this epoch: 11.93154501914978\n",
      "Epoch: 0126, Training loss=0.601596, Validation loss=0.619718, valid accuracy=0.000000\n",
      "Time for this epoch: 11.968323469161987\n",
      "Epoch: 0127, Training loss=0.651428, Validation loss=0.619901, valid accuracy=0.000000\n",
      "Time for this epoch: 12.064884424209595\n",
      "Epoch: 0128, Training loss=0.629598, Validation loss=0.619795, valid accuracy=0.000000\n",
      "Time for this epoch: 12.073307275772095\n",
      "Epoch: 0129, Training loss=0.634984, Validation loss=0.619624, valid accuracy=0.000000\n",
      "Time for this epoch: 12.120832681655884\n",
      "Epoch: 0130, Training loss=0.595077, Validation loss=0.619719, valid accuracy=0.000000\n",
      "Time for this epoch: 11.968915939331055\n",
      "Epoch: 0131, Training loss=0.628528, Validation loss=0.619767, valid accuracy=0.000000\n",
      "Time for this epoch: 12.05266547203064\n",
      "Epoch: 0132, Training loss=0.606218, Validation loss=0.619457, valid accuracy=0.000000\n",
      "Time for this epoch: 11.920679807662964\n",
      "Epoch: 0133, Training loss=0.618945, Validation loss=0.619506, valid accuracy=0.000000\n",
      "Time for this epoch: 11.99360990524292\n",
      "Epoch: 0134, Training loss=0.633207, Validation loss=0.619361, valid accuracy=0.000000\n",
      "Time for this epoch: 11.980100393295288\n",
      "Epoch: 0135, Training loss=0.658548, Validation loss=0.619404, valid accuracy=0.000000\n",
      "Time for this epoch: 12.11035442352295\n",
      "Epoch: 0136, Training loss=0.591892, Validation loss=0.619198, valid accuracy=0.000000\n",
      "Time for this epoch: 12.057282447814941\n",
      "Epoch: 0137, Training loss=0.627580, Validation loss=0.619011, valid accuracy=0.000000\n",
      "Time for this epoch: 12.01044249534607\n",
      "Epoch: 0138, Training loss=0.648690, Validation loss=0.619725, valid accuracy=0.000000\n",
      "Time for this epoch: 12.046759605407715\n",
      "Epoch: 0139, Training loss=0.606919, Validation loss=0.619489, valid accuracy=0.000000\n",
      "Time for this epoch: 11.875554323196411\n",
      "Epoch: 0140, Training loss=0.644162, Validation loss=0.618942, valid accuracy=0.000000\n",
      "Time for this epoch: 11.974096775054932\n",
      "Epoch: 0141, Training loss=0.607082, Validation loss=0.618766, valid accuracy=0.000000\n",
      "Time for this epoch: 12.313857316970825\n",
      "Epoch: 0142, Training loss=0.630979, Validation loss=0.618797, valid accuracy=0.000000\n",
      "Time for this epoch: 12.001397848129272\n",
      "Epoch: 0143, Training loss=0.620727, Validation loss=0.618815, valid accuracy=0.000000\n",
      "Time for this epoch: 12.082093000411987\n",
      "Epoch: 0144, Training loss=0.597755, Validation loss=0.619148, valid accuracy=0.000000\n",
      "Time for this epoch: 11.990153074264526\n",
      "Epoch: 0145, Training loss=0.614322, Validation loss=0.618526, valid accuracy=0.000000\n",
      "Time for this epoch: 12.009031057357788\n",
      "Epoch: 0146, Training loss=0.636816, Validation loss=0.618709, valid accuracy=0.000000\n",
      "Time for this epoch: 12.978235960006714\n",
      "Epoch: 0147, Training loss=0.627401, Validation loss=0.618400, valid accuracy=0.000000\n",
      "Time for this epoch: 12.235145568847656\n",
      "Epoch: 0148, Training loss=0.592616, Validation loss=0.618885, valid accuracy=0.000000\n",
      "Time for this epoch: 12.08161449432373\n",
      "Epoch: 0149, Training loss=0.630194, Validation loss=0.618221, valid accuracy=0.000000\n",
      "Time for this epoch: 11.962258100509644\n",
      "Epoch: 0150, Training loss=0.596368, Validation loss=0.618326, valid accuracy=0.000000\n",
      "Time for this epoch: 11.978582620620728\n",
      "Epoch: 0151, Training loss=0.621360, Validation loss=0.618226, valid accuracy=0.000000\n",
      "Time for this epoch: 11.994098424911499\n",
      "Epoch: 0152, Training loss=0.591044, Validation loss=0.618327, valid accuracy=0.000000\n",
      "Time for this epoch: 12.083226442337036\n",
      "Epoch: 0153, Training loss=0.644438, Validation loss=0.617718, valid accuracy=0.000000\n",
      "Time for this epoch: 12.040617227554321\n",
      "Epoch: 0154, Training loss=0.606335, Validation loss=0.618031, valid accuracy=0.000000\n",
      "Time for this epoch: 12.289864778518677\n",
      "Epoch: 0155, Training loss=0.669293, Validation loss=0.617827, valid accuracy=0.000000\n",
      "Time for this epoch: 12.046704053878784\n",
      "Epoch: 0156, Training loss=0.631359, Validation loss=0.617852, valid accuracy=0.000000\n",
      "Time for this epoch: 12.782726764678955\n",
      "Epoch: 0157, Training loss=0.588204, Validation loss=0.617790, valid accuracy=0.000000\n",
      "Time for this epoch: 12.243062496185303\n",
      "Epoch: 0158, Training loss=0.643641, Validation loss=0.617842, valid accuracy=0.000000\n",
      "Time for this epoch: 11.96539855003357\n",
      "Epoch: 0159, Training loss=0.603810, Validation loss=0.618012, valid accuracy=0.000000\n",
      "Time for this epoch: 11.946685791015625\n",
      "Epoch: 0160, Training loss=0.633604, Validation loss=0.617736, valid accuracy=0.000000\n",
      "Time for this epoch: 12.111329078674316\n",
      "Epoch: 0161, Training loss=0.582453, Validation loss=0.617530, valid accuracy=0.000000\n",
      "Time for this epoch: 13.018199443817139\n",
      "Epoch: 0162, Training loss=0.608611, Validation loss=0.617438, valid accuracy=0.000000\n",
      "Time for this epoch: 12.661717891693115\n",
      "Epoch: 0163, Training loss=0.572555, Validation loss=0.617462, valid accuracy=0.000000\n",
      "Time for this epoch: 11.979121923446655\n",
      "Epoch: 0164, Training loss=0.622870, Validation loss=0.617540, valid accuracy=0.000000\n",
      "Time for this epoch: 12.000312328338623\n",
      "Epoch: 0165, Training loss=0.589007, Validation loss=0.617462, valid accuracy=0.000000\n",
      "Time for this epoch: 11.998175621032715\n",
      "Epoch: 0166, Training loss=0.632718, Validation loss=0.617158, valid accuracy=0.000000\n",
      "Time for this epoch: 12.708554983139038\n",
      "Epoch: 0167, Training loss=0.627505, Validation loss=0.617574, valid accuracy=0.000000\n",
      "Time for this epoch: 12.405212163925171\n",
      "Epoch: 0168, Training loss=0.587069, Validation loss=0.617102, valid accuracy=0.000000\n",
      "Time for this epoch: 11.931827306747437\n",
      "Epoch: 0169, Training loss=0.637046, Validation loss=0.617222, valid accuracy=0.000000\n",
      "Time for this epoch: 11.89278531074524\n",
      "Epoch: 0170, Training loss=0.606383, Validation loss=0.617075, valid accuracy=0.000000\n",
      "Time for this epoch: 11.999133586883545\n",
      "Epoch: 0171, Training loss=0.595462, Validation loss=0.616811, valid accuracy=0.000000\n",
      "Time for this epoch: 11.903427600860596\n",
      "Epoch: 0172, Training loss=0.612122, Validation loss=0.617012, valid accuracy=0.000000\n",
      "Time for this epoch: 12.060675859451294\n",
      "Epoch: 0173, Training loss=0.611446, Validation loss=0.617022, valid accuracy=0.000000\n",
      "Time for this epoch: 12.082544088363647\n",
      "Epoch: 0174, Training loss=0.609923, Validation loss=0.616936, valid accuracy=0.000000\n",
      "Time for this epoch: 12.187360286712646\n",
      "Epoch: 0175, Training loss=0.607359, Validation loss=0.617049, valid accuracy=0.000000\n",
      "Time for this epoch: 12.006121158599854\n",
      "Epoch: 0176, Training loss=0.624952, Validation loss=0.617441, valid accuracy=0.000000\n",
      "Time for this epoch: 11.889027118682861\n",
      "Epoch: 0177, Training loss=0.633968, Validation loss=0.616918, valid accuracy=0.000000\n",
      "Time for this epoch: 12.049185276031494\n",
      "Epoch: 0178, Training loss=0.628667, Validation loss=0.617494, valid accuracy=0.000000\n",
      "Time for this epoch: 11.95975375175476\n",
      "Epoch: 0179, Training loss=0.606816, Validation loss=0.617078, valid accuracy=0.000000\n",
      "Time for this epoch: 12.100518703460693\n",
      "Epoch: 0180, Training loss=0.647997, Validation loss=0.616964, valid accuracy=0.000000\n",
      "Time for this epoch: 12.224680662155151\n",
      "Epoch: 0181, Training loss=0.646464, Validation loss=0.616811, valid accuracy=0.000000\n",
      "Time for this epoch: 12.061598777770996\n",
      "Epoch: 0182, Training loss=0.609193, Validation loss=0.616743, valid accuracy=0.000000\n",
      "Time for this epoch: 11.939810752868652\n",
      "Epoch: 0183, Training loss=0.634105, Validation loss=0.617250, valid accuracy=0.000000\n",
      "Time for this epoch: 12.540681600570679\n",
      "Epoch: 0184, Training loss=0.638642, Validation loss=0.617788, valid accuracy=0.000000\n",
      "Time for this epoch: 13.160995960235596\n",
      "Epoch: 0185, Training loss=0.646883, Validation loss=0.616912, valid accuracy=0.000000\n",
      "Time for this epoch: 12.034149646759033\n",
      "Epoch: 0186, Training loss=0.612992, Validation loss=0.616977, valid accuracy=0.000000\n",
      "Time for this epoch: 12.015109539031982\n",
      "Epoch: 0187, Training loss=0.639270, Validation loss=0.616598, valid accuracy=0.000000\n",
      "Time for this epoch: 12.086423635482788\n",
      "Epoch: 0188, Training loss=0.629236, Validation loss=0.616509, valid accuracy=0.000000\n",
      "Time for this epoch: 12.199389219284058\n",
      "Epoch: 0189, Training loss=0.612665, Validation loss=0.616916, valid accuracy=0.000000\n",
      "Time for this epoch: 12.044680118560791\n",
      "Epoch: 0190, Training loss=0.623368, Validation loss=0.616559, valid accuracy=0.000000\n",
      "Time for this epoch: 12.078635931015015\n",
      "Epoch: 0191, Training loss=0.655482, Validation loss=0.616798, valid accuracy=0.000000\n",
      "Time for this epoch: 11.89389967918396\n",
      "Epoch: 0192, Training loss=0.592014, Validation loss=0.616381, valid accuracy=0.000000\n",
      "Time for this epoch: 11.888949155807495\n",
      "Epoch: 0193, Training loss=0.665960, Validation loss=0.616697, valid accuracy=0.000000\n",
      "Time for this epoch: 12.438924074172974\n",
      "Epoch: 0194, Training loss=0.581814, Validation loss=0.616506, valid accuracy=0.000000\n",
      "Time for this epoch: 12.211243867874146\n",
      "Epoch: 0195, Training loss=0.602594, Validation loss=0.616478, valid accuracy=0.000000\n",
      "Time for this epoch: 12.091824293136597\n",
      "Epoch: 0196, Training loss=0.638550, Validation loss=0.616487, valid accuracy=0.000000\n",
      "Time for this epoch: 12.119095802307129\n",
      "Epoch: 0197, Training loss=0.602354, Validation loss=0.616811, valid accuracy=0.000000\n",
      "Time for this epoch: 12.054573774337769\n",
      "Epoch: 0198, Training loss=0.583947, Validation loss=0.616517, valid accuracy=0.000000\n",
      "Time for this epoch: 12.414414644241333\n",
      "Epoch: 0199, Training loss=0.653536, Validation loss=0.616213, valid accuracy=0.000000\n",
      "Time for this epoch: 12.163693189620972\n",
      "Epoch: 0200, Training loss=0.623572, Validation loss=0.616160, valid accuracy=0.000000\n",
      "Time for this epoch: 12.114328861236572\n"
     ]
    },
    {
     "data": {
      "image/png": "[encoded data removed]",
      "text/plain": [
       "<Figure size 640x480 with 1 Axes>"
      ]
     },
     "metadata": {},
     "output_type": "display_data"
    }
   ],
   "source": [
    "classifier = WaveletCNNAEMC(num_ifos=2, c_depth=5, n_chann=4, l1=32, l2=8).cuda()\n",
    "print(sum(p.numel() for p in classifier.parameters() if p.requires_grad))\n",
    "\n",
    "optimizer = optim.Adam(classifier.parameters(), lr=0.0005)\n",
    "loss_func = nn.MSELoss().cuda()\n",
    "loss_train = np.empty((epochs, ))\n",
    "loss_validation = np.empty((epochs, ))\n",
    "\n",
    "for epoch in range(epochs):\n",
    "\n",
    "    t0 = time.time()\n",
    "    classifier.train()\n",
    "    for batchidx, x in enumerate(trainDataLoader):\n",
    "        x = x[0].cuda()\n",
    "        # print(x.shape)\n",
    "        # tgt_index = tgt_index.cuda()\n",
    "        output = classifier(x)\n",
    "        loss = loss_func(output, x)\n",
    "        \n",
    "        optimizer.zero_grad()\n",
    "        loss.backward()\n",
    "        optimizer.step()\n",
    "\n",
    "    classifier.eval()\n",
    "    with torch.no_grad():\n",
    "        val_loss = 0\n",
    "        n_correct = 0;\n",
    "        for batchidx, x in enumerate(validationDataLoader):\n",
    "            x = x[0].cuda()\n",
    "            # tgt_index = tgt_index.cuda()\n",
    "            output = classifier(x)\n",
    "            lossVal = loss_func(output, x)\n",
    "            val_loss += lossVal.item()\n",
    "            # n_correct += torch.eq(tgt_index, torch.argmax(output, dim=1)).sum().item()\n",
    "\n",
    "        val_loss /= len(validationDataLoader)\n",
    "\n",
    "    loss_train[epoch] = loss.item()\n",
    "    loss_validation[epoch] = val_loss\n",
    "    print('Epoch: %04d, Training loss=%f, Validation loss=%f, valid accuracy=%f' % (epoch+1, loss_train[epoch], val_loss, n_correct*1./len(X_validation)))\n",
    "    print('Time for this epoch: ' + str(time.time() - t0))\n",
    "\n",
    "#     print(time.time() - t0)\n",
    "\n",
    "plt.plot(loss_train)\n",
    "plt.plot(loss_validation)\n",
    "\n",
    "torch.save(classifier.cuda(), \"../Model_cached/Wavelet_model_glitchtrained_AE\"+version+\"_32_8.pt\")\n",
    "# np.savetxt(\"../data/SupLearn/lossClassifierTraining_64-64-16.dat\", [loss_train, loss_validation])"
   ]
  },
  {
   "cell_type": "code",
   "execution_count": 79,
   "metadata": {},
   "outputs": [
    {
     "data": {
      "text/plain": [
       "[<matplotlib.lines.Line2D at 0x2d5743aeb90>]"
      ]
     },
     "execution_count": 79,
     "metadata": {},
     "output_type": "execute_result"
    },
    {
     "data": {
      "image/png": "[encoded data removed]",
      "text/plain": [
       "<Figure size 640x480 with 1 Axes>"
      ]
     },
     "metadata": {},
     "output_type": "display_data"
    }
   ],
   "source": [
    "plt.plot(loss_train)\n",
    "plt.plot(loss_validation)"
   ]
  },
  {
   "cell_type": "markdown",
   "metadata": {},
   "source": [
    "### Trained with noise"
   ]
  },
  {
   "cell_type": "code",
   "execution_count": 9,
   "metadata": {},
   "outputs": [],
   "source": [
    "version = 'v1'\n",
    "dInput = 200"
   ]
  },
  {
   "cell_type": "code",
   "execution_count": 10,
   "metadata": {},
   "outputs": [],
   "source": [
    "n_BKG = len(realbkg)\n",
    "n_BBH = len(realbbh)\n",
    "n_SG = len(realsg)\n",
    "n_GLITCH = len(realglitch)"
   ]
  },
  {
   "cell_type": "code",
   "execution_count": 12,
   "metadata": {},
   "outputs": [],
   "source": [
    "# Beacuse there's already 20% of dataset reserved here, there's no meaning setting the testset. We only do\n",
    "# training and validation here. \n",
    "\n",
    "rTrain = 1-rValidation\n",
    "\n",
    "n_BKG_train = int(n_BKG * rTrain)\n",
    "n_BBH_train = int(n_BBH * rTrain)\n",
    "n_SG_train = int(n_SG * rTrain)\n",
    "n_GLITCH_train = int(n_GLITCH * rTrain)\n",
    "\n",
    "n_BKG_validation = int(n_BKG * rValidation)\n",
    "n_BBH_validation = int(n_BBH * rValidation)\n",
    "n_SG_validation = int(n_SG * rValidation)\n",
    "n_GLITCH_validation = int(n_GLITCH * rValidation)"
   ]
  },
  {
   "cell_type": "code",
   "execution_count": 37,
   "metadata": {},
   "outputs": [
    {
     "ename": "MemoryError",
     "evalue": "Unable to allocate 2.22 GiB for an array with shape (744233, 2, 200) and data type float64",
     "output_type": "error",
     "traceback": [
      "\u001b[1;31m---------------------------------------------------------------------------\u001b[0m",
      "\u001b[1;31mMemoryError\u001b[0m                               Traceback (most recent call last)",
      "Cell \u001b[1;32mIn[37], line 17\u001b[0m\n\u001b[0;32m     13\u001b[0m n_SG_validation \u001b[38;5;241m=\u001b[39m \u001b[38;5;28mint\u001b[39m(n_SG \u001b[38;5;241m*\u001b[39m rValidation)\n\u001b[0;32m     14\u001b[0m n_GLITCH_validation \u001b[38;5;241m=\u001b[39m \u001b[38;5;28mint\u001b[39m(n_GLITCH \u001b[38;5;241m*\u001b[39m rValidation)\n\u001b[1;32m---> 17\u001b[0m X_train \u001b[38;5;241m=\u001b[39m \u001b[43mnp\u001b[49m\u001b[38;5;241;43m.\u001b[39;49m\u001b[43mconcatenate\u001b[49m\u001b[43m(\u001b[49m\u001b[43m(\u001b[49m\u001b[43mrealbkg\u001b[49m\u001b[43m[\u001b[49m\u001b[43m:\u001b[49m\u001b[43mn_BKG_train\u001b[49m\u001b[43m]\u001b[49m\u001b[43m,\u001b[49m\u001b[43m \u001b[49m\n\u001b[0;32m     18\u001b[0m \u001b[43m                          \u001b[49m\u001b[43mrealbbh\u001b[49m\u001b[43m[\u001b[49m\u001b[43m:\u001b[49m\u001b[43mn_BBH_train\u001b[49m\u001b[43m]\u001b[49m\u001b[43m,\u001b[49m\u001b[43m \u001b[49m\n\u001b[0;32m     19\u001b[0m \u001b[43m                          \u001b[49m\u001b[43mrealsg\u001b[49m\u001b[43m[\u001b[49m\u001b[43m:\u001b[49m\u001b[43mn_SG_train\u001b[49m\u001b[43m]\u001b[49m\u001b[43m,\u001b[49m\u001b[43m \u001b[49m\n\u001b[0;32m     20\u001b[0m \u001b[43m                          \u001b[49m\u001b[43mrealglitch\u001b[49m\u001b[43m[\u001b[49m\u001b[43m:\u001b[49m\u001b[43mn_GLITCH_train\u001b[49m\u001b[43m]\u001b[49m\u001b[43m)\u001b[49m\u001b[43m,\u001b[49m\u001b[43m \u001b[49m\u001b[43maxis\u001b[49m\u001b[43m \u001b[49m\u001b[38;5;241;43m=\u001b[39;49m\u001b[43m \u001b[49m\u001b[38;5;241;43m0\u001b[39;49m\u001b[43m)\u001b[49m\n\u001b[0;32m     21\u001b[0m target_train \u001b[38;5;241m=\u001b[39m np\u001b[38;5;241m.\u001b[39mconcatenate((np\u001b[38;5;241m.\u001b[39mones(n_BKG_train \u001b[38;5;241m+\u001b[39m n_BBH_train \u001b[38;5;241m+\u001b[39m n_SG_train), np\u001b[38;5;241m.\u001b[39mzeros(n_GLITCH_train)))\n\u001b[0;32m     23\u001b[0m X_validation \u001b[38;5;241m=\u001b[39m np\u001b[38;5;241m.\u001b[39mconcatenate((realbkg[\u001b[38;5;241m-\u001b[39mn_BKG_validation:], \n\u001b[0;32m     24\u001b[0m                           realbbh[\u001b[38;5;241m-\u001b[39mn_BBH_validation:], \n\u001b[0;32m     25\u001b[0m                           realsg[\u001b[38;5;241m-\u001b[39mn_SG_validation:], \n\u001b[0;32m     26\u001b[0m                           realglitch[\u001b[38;5;241m-\u001b[39mn_GLITCH_validation:]), axis \u001b[38;5;241m=\u001b[39m \u001b[38;5;241m0\u001b[39m)\n",
      "\u001b[1;31mMemoryError\u001b[0m: Unable to allocate 2.22 GiB for an array with shape (744233, 2, 200) and data type float64"
     ]
    }
   ],
   "source": [
    "# Beacuse there's already 20% of dataset reserved here, there's no meaning setting the testset. We only do\n",
    "# training and validation here. \n",
    "\n",
    "rTrain = 1-rValidation\n",
    "\n",
    "n_BKG_train = int(n_BKG * rTrain)\n",
    "n_BBH_train = int(n_BBH * rTrain)\n",
    "n_SG_train = int(n_SG * rTrain)\n",
    "n_GLITCH_train = int(n_GLITCH * rTrain)\n",
    "\n",
    "n_BKG_validation = int(n_BKG * rValidation)\n",
    "n_BBH_validation = int(n_BBH * rValidation)\n",
    "n_SG_validation = int(n_SG * rValidation)\n",
    "n_GLITCH_validation = int(n_GLITCH * rValidation)\n",
    "\n",
    "\n",
    "X_train = np.concatenate((realbkg[:n_BKG_train], \n",
    "                          realbbh[:n_BBH_train], \n",
    "                          realsg[:n_SG_train], \n",
    "                          realglitch[:n_GLITCH_train]), axis = 0)\n",
    "target_train = np.concatenate((np.ones(n_BKG_train + n_BBH_train + n_SG_train), np.zeros(n_GLITCH_train)))\n",
    "\n",
    "X_validation = np.concatenate((realbkg[-n_BKG_validation:], \n",
    "                          realbbh[-n_BBH_validation:], \n",
    "                          realsg[-n_SG_validation:], \n",
    "                          realglitch[-n_GLITCH_validation:]), axis = 0)\n",
    "target_validation = np.concatenate((np.ones(n_BKG_validation + n_BBH_validation + n_SG_validation), np.zeros(n_GLITCH_validation)))\n",
    "\n",
    "\n",
    "train_dataset = TensorDataset(torch.FloatTensor(X_train), torch.FloatTensor(target_train.reshape((len(target_train), 1))))\n",
    "# test_dataset  = TensorDataset(torch.FloatTensor(X_test.reshape((X_test.shape[0], 1, X_test.shape[1]))),  torch.FloatTensor(target_test.reshape((len(target_test), 1))))\n",
    "valid_dataset = TensorDataset(torch.FloatTensor(X_validation), torch.FloatTensor(target_validation.reshape((len(target_validation), 1))))\n",
    "\n",
    "trainDataLoader = DataLoader(dataset=train_dataset, batch_size=batch_size, shuffle=True)\n",
    "validationDataLoader = DataLoader(dataset=valid_dataset, batch_size=batch_size, shuffle=True)"
   ]
  },
  {
   "cell_type": "code",
   "execution_count": 31,
   "metadata": {},
   "outputs": [],
   "source": [
    "X_train = realbkg[:n_BKG_train]\n",
    "X_validation = realbkg[-n_BKG_validation:]\n",
    "\n",
    "train_dataset = TensorDataset(torch.FloatTensor(X_train))\n",
    "# test_dataset  = TensorDataset(torch.FloatTensor(X_test.reshape((X_test.shape[0], 1, X_test.shape[1]))),  torch.FloatTensor(target_test.reshape((len(target_test), 1))))\n",
    "valid_dataset = TensorDataset(torch.FloatTensor(X_validation))\n",
    "\n",
    "trainDataLoader = DataLoader(dataset=train_dataset, batch_size=batch_size, shuffle=True)\n",
    "validationDataLoader = DataLoader(dataset=valid_dataset, batch_size=batch_size, shuffle=True)"
   ]
  },
  {
   "cell_type": "code",
   "execution_count": 32,
   "metadata": {},
   "outputs": [
    {
     "data": {
      "text/plain": [
       "(698400, 2, 200)"
      ]
     },
     "execution_count": 32,
     "metadata": {},
     "output_type": "execute_result"
    }
   ],
   "source": [
    "X_train.shape"
   ]
  },
  {
   "cell_type": "code",
   "execution_count": 68,
   "metadata": {},
   "outputs": [
    {
     "name": "stdout",
     "output_type": "stream",
     "text": [
      "26086\n",
      "Epoch: 0001, Training loss=0.000638, Validation loss=0.000648, valid accuracy=0.000000\n",
      "Time for this epoch: 185.81360530853271\n",
      "Epoch: 0002, Training loss=0.000614, Validation loss=0.000648, valid accuracy=0.000000\n",
      "Time for this epoch: 186.54733681678772\n",
      "Epoch: 0003, Training loss=0.000630, Validation loss=0.000648, valid accuracy=0.000000\n",
      "Time for this epoch: 185.68968844413757\n",
      "Epoch: 0004, Training loss=0.000664, Validation loss=0.000648, valid accuracy=0.000000\n",
      "Time for this epoch: 187.56746172904968\n",
      "Epoch: 0005, Training loss=0.000612, Validation loss=0.000648, valid accuracy=0.000000\n",
      "Time for this epoch: 187.13603138923645\n",
      "Epoch: 0006, Training loss=0.000691, Validation loss=0.000648, valid accuracy=0.000000\n",
      "Time for this epoch: 186.87501120567322\n",
      "Epoch: 0007, Training loss=0.000698, Validation loss=0.000648, valid accuracy=0.000000\n",
      "Time for this epoch: 187.67735385894775\n",
      "Epoch: 0008, Training loss=0.000621, Validation loss=0.000648, valid accuracy=0.000000\n",
      "Time for this epoch: 187.92877912521362\n",
      "Epoch: 0009, Training loss=0.000747, Validation loss=0.000648, valid accuracy=0.000000\n",
      "Time for this epoch: 186.971444606781\n",
      "Epoch: 0010, Training loss=0.000660, Validation loss=0.000648, valid accuracy=0.000000\n",
      "Time for this epoch: 187.8248007297516\n",
      "Epoch: 0011, Training loss=0.000668, Validation loss=0.000648, valid accuracy=0.000000\n",
      "Time for this epoch: 187.2546169757843\n",
      "Epoch: 0012, Training loss=0.000600, Validation loss=0.000648, valid accuracy=0.000000\n",
      "Time for this epoch: 184.9070267677307\n",
      "Epoch: 0013, Training loss=0.000700, Validation loss=0.000648, valid accuracy=0.000000\n",
      "Time for this epoch: 183.1097264289856\n",
      "Epoch: 0014, Training loss=0.000683, Validation loss=0.000648, valid accuracy=0.000000\n",
      "Time for this epoch: 182.95203495025635\n",
      "Epoch: 0015, Training loss=0.000650, Validation loss=0.000648, valid accuracy=0.000000\n",
      "Time for this epoch: 182.85502195358276\n",
      "Epoch: 0016, Training loss=0.000648, Validation loss=0.000648, valid accuracy=0.000000\n",
      "Time for this epoch: 183.4045603275299\n",
      "Epoch: 0017, Training loss=0.000612, Validation loss=0.000648, valid accuracy=0.000000\n",
      "Time for this epoch: 183.81003594398499\n",
      "Epoch: 0018, Training loss=0.000672, Validation loss=0.000648, valid accuracy=0.000000\n",
      "Time for this epoch: 184.37700724601746\n",
      "Epoch: 0019, Training loss=0.000625, Validation loss=0.000648, valid accuracy=0.000000\n",
      "Time for this epoch: 184.36870408058167\n",
      "Epoch: 0020, Training loss=0.000669, Validation loss=0.000648, valid accuracy=0.000000\n",
      "Time for this epoch: 183.67844438552856\n",
      "Epoch: 0021, Training loss=0.000642, Validation loss=0.000648, valid accuracy=0.000000\n",
      "Time for this epoch: 183.7364137172699\n",
      "Epoch: 0022, Training loss=0.000715, Validation loss=0.000648, valid accuracy=0.000000\n",
      "Time for this epoch: 183.96750807762146\n"
     ]
    }
   ],
   "source": [
    "classifier = WaveletCNNAE(num_ifos=2, c_depth=5, n_chann=8, l1=64, l2=16).cuda()\n",
    "print(sum(p.numel() for p in classifier.parameters() if p.requires_grad))\n",
    "\n",
    "optimizer = optim.Adam(classifier.parameters(), lr=0.00005)\n",
    "loss_func = nn.MSELoss().cuda()\n",
    "loss_train = np.empty((epochs, ))\n",
    "loss_validation = np.empty((epochs, ))\n",
    "\n",
    "for epoch in range(epochs):\n",
    "\n",
    "    t0 = time.time()\n",
    "    classifier.train()\n",
    "    for batchidx, x in enumerate(trainDataLoader):\n",
    "        x = x[0].cuda()\n",
    "        # print(x.shape)\n",
    "        # tgt_index = tgt_index.cuda()\n",
    "        output = classifier(x)\n",
    "        loss = loss_func(output, x)\n",
    "        \n",
    "        optimizer.zero_grad()\n",
    "        loss.backward()\n",
    "        optimizer.step()\n",
    "\n",
    "    classifier.eval()\n",
    "    with torch.no_grad():\n",
    "        val_loss = 0\n",
    "        n_correct = 0;\n",
    "        for batchidx, x in enumerate(validationDataLoader):\n",
    "            x = x[0].cuda()\n",
    "            # tgt_index = tgt_index.cuda()\n",
    "            output = classifier(x)\n",
    "            lossVal = loss_func(output, x)\n",
    "            val_loss += lossVal.item()\n",
    "            # n_correct += torch.eq(tgt_index, torch.argmax(output, dim=1)).sum().item()\n",
    "\n",
    "        val_loss /= len(validationDataLoader)\n",
    "\n",
    "    loss_train[epoch] = loss.item()\n",
    "    loss_validation[epoch] = val_loss\n",
    "    print('Epoch: %04d, Training loss=%f, Validation loss=%f, valid accuracy=%f' % (epoch+1, loss_train[epoch], val_loss, n_correct*1./len(X_validation)))\n",
    "    print('Time for this epoch: ' + str(time.time() - t0))\n",
    "\n",
    "#     print(time.time() - t0)\n",
    "\n",
    "plt.plot(loss_train)\n",
    "plt.plot(loss_validation)\n",
    "\n",
    "torch.save(classifier.cuda(), \"../Model_cached/Wavelet_model_AE\"+version+\".pt\")\n",
    "# np.savetxt(\"../data/SupLearn/lossClassifierTraining_64-64-16.dat\", [loss_train, loss_validation])"
   ]
  },
  {
   "cell_type": "code",
   "execution_count": 69,
   "metadata": {},
   "outputs": [
    {
     "data": {
      "text/plain": [
       "[<matplotlib.lines.Line2D at 0x2d56f657610>]"
      ]
     },
     "execution_count": 69,
     "metadata": {},
     "output_type": "execute_result"
    },
    {
     "data": {
      "image/png": "[encoded data removed]",
      "text/plain": [
       "<Figure size 640x480 with 1 Axes>"
      ]
     },
     "metadata": {},
     "output_type": "display_data"
    }
   ],
   "source": [
    "plt.plot(loss_train)\n",
    "plt.plot(loss_validation)"
   ]
  },
  {
   "cell_type": "markdown",
   "metadata": {},
   "source": [
    "# Evaluating the model"
   ]
  },
  {
   "cell_type": "markdown",
   "metadata": {},
   "source": [
    "## Supervised case"
   ]
  },
  {
   "cell_type": "markdown",
   "metadata": {},
   "source": [
    "### Glitch trained"
   ]
  },
  {
   "cell_type": "code",
   "execution_count": 31,
   "metadata": {},
   "outputs": [],
   "source": [
    "version = 'v1'"
   ]
  },
  {
   "cell_type": "code",
   "execution_count": 34,
   "metadata": {},
   "outputs": [],
   "source": [
    "classifier = torch.load(\"../Model_cached/Wavelet_model_SL\"+version+\".pt\")"
   ]
  },
  {
   "cell_type": "code",
   "execution_count": 35,
   "metadata": {},
   "outputs": [
    {
     "data": {
      "text/plain": [
       "WaveletCNNSL(\n",
       "  (cap_norm): GroupNorm(2, 2, eps=1e-05, affine=True)\n",
       "  (Conv_In): Conv1d(2, 8, kernel_size=(1,), stride=(1,))\n",
       "  (Conv_Out): Conv1d(8, 1, kernel_size=(1,), stride=(1,))\n",
       "  (body_norm): GroupNorm(4, 8, eps=1e-05, affine=True)\n",
       "  (end_norm): BatchNorm1d(1, eps=1e-05, momentum=0.1, affine=True, track_running_stats=True)\n",
       "  (WaveNet_layers): ModuleList(\n",
       "    (0): Conv1d(8, 8, kernel_size=(2,), stride=(1,))\n",
       "    (1): Conv1d(8, 8, kernel_size=(2,), stride=(1,), dilation=(2,))\n",
       "    (2): Conv1d(8, 8, kernel_size=(2,), stride=(1,), dilation=(4,))\n",
       "    (3): Conv1d(8, 8, kernel_size=(2,), stride=(1,), dilation=(8,))\n",
       "    (4): Conv1d(8, 8, kernel_size=(2,), stride=(1,), dilation=(16,))\n",
       "  )\n",
       "  (L1_norm): BatchNorm1d(169, eps=1e-05, momentum=0.1, affine=True, track_running_stats=True)\n",
       "  (L1): Linear(in_features=169, out_features=64, bias=True)\n",
       "  (L2_norm): BatchNorm1d(64, eps=1e-05, momentum=0.1, affine=True, track_running_stats=True)\n",
       "  (L2): Linear(in_features=64, out_features=16, bias=True)\n",
       "  (L3_norm): BatchNorm1d(16, eps=1e-05, momentum=0.1, affine=True, track_running_stats=True)\n",
       "  (L3): Linear(in_features=16, out_features=1, bias=True)\n",
       ")"
      ]
     },
     "execution_count": 35,
     "metadata": {},
     "output_type": "execute_result"
    }
   ],
   "source": [
    "classifier.cpu()"
   ]
  },
  {
   "cell_type": "code",
   "execution_count": 37,
   "metadata": {},
   "outputs": [
    {
     "data": {
      "text/plain": [
       "<matplotlib.legend.Legend at 0x23c14bde010>"
      ]
     },
     "execution_count": 37,
     "metadata": {},
     "output_type": "execute_result"
    },
    {
     "data": {
      "image/png": "[encoded data removed]",
      "text/plain": [
       "<Figure size 640x480 with 1 Axes>"
      ]
     },
     "metadata": {},
     "output_type": "display_data"
    }
   ],
   "source": [
    "dcd_bkg = nn.Sigmoid()(classifier(torch.FloatTensor(realbkg_reserved))).detach().numpy()\n",
    "dcd_bbh = nn.Sigmoid()(classifier(torch.FloatTensor(realbbh_reserved))).detach().numpy()\n",
    "dcd_sg = nn.Sigmoid()(classifier(torch.FloatTensor(realsg_reserved))).detach().numpy()\n",
    "dcd_glitch = nn.Sigmoid()(classifier(torch.FloatTensor(realglitch_reserved))).detach().numpy()\n",
    "\n",
    "foo = plt.hist(dcd_bkg, histtype=\"step\", range=(0, 1), bins=50, density=True, label=\"noise\")\n",
    "foo = plt.hist(dcd_bbh, histtype=\"step\", range=(0, 1), bins=50, density=True, label=\"bbh\")\n",
    "foo = plt.hist(dcd_sg, histtype=\"step\", range=(0, 1), bins=50, density=True, label=\"sg\")\n",
    "foo = plt.hist(dcd_glitch, histtype=\"step\", range=(0, 1), bins=50, density=True, label=\"glitch\")\n",
    "plt.title(\"trained with glitch\")\n",
    "# plt.axvline(c0[\"glitch\"], color=\"k\", linestyle=\"--\")\n",
    "plt.legend()"
   ]
  },
  {
   "cell_type": "markdown",
   "metadata": {},
   "source": [
    "### Noise trained"
   ]
  },
  {
   "cell_type": "code",
   "execution_count": 46,
   "metadata": {},
   "outputs": [],
   "source": [
    "version = 'v1'"
   ]
  },
  {
   "cell_type": "code",
   "execution_count": null,
   "metadata": {},
   "outputs": [],
   "source": [
    "classifier = torch.load(\"../Model_cached/Wavelet_model_SL\"+version+\".pt\")"
   ]
  },
  {
   "cell_type": "code",
   "execution_count": 47,
   "metadata": {},
   "outputs": [
    {
     "data": {
      "text/plain": [
       "WaveletCNNSL(\n",
       "  (cap_norm): GroupNorm(2, 2, eps=1e-05, affine=True)\n",
       "  (Conv_In): Conv1d(2, 8, kernel_size=(1,), stride=(1,))\n",
       "  (Conv_Out): Conv1d(8, 1, kernel_size=(1,), stride=(1,))\n",
       "  (body_norm): GroupNorm(4, 8, eps=1e-05, affine=True)\n",
       "  (end_norm): BatchNorm1d(1, eps=1e-05, momentum=0.1, affine=True, track_running_stats=True)\n",
       "  (WaveNet_layers): ModuleList(\n",
       "    (0): Conv1d(8, 8, kernel_size=(2,), stride=(1,))\n",
       "    (1): Conv1d(8, 8, kernel_size=(2,), stride=(1,), dilation=(2,))\n",
       "    (2): Conv1d(8, 8, kernel_size=(2,), stride=(1,), dilation=(4,))\n",
       "    (3): Conv1d(8, 8, kernel_size=(2,), stride=(1,), dilation=(8,))\n",
       "    (4): Conv1d(8, 8, kernel_size=(2,), stride=(1,), dilation=(16,))\n",
       "  )\n",
       "  (L1_norm): BatchNorm1d(169, eps=1e-05, momentum=0.1, affine=True, track_running_stats=True)\n",
       "  (L1): Linear(in_features=169, out_features=64, bias=True)\n",
       "  (L2_norm): BatchNorm1d(64, eps=1e-05, momentum=0.1, affine=True, track_running_stats=True)\n",
       "  (L2): Linear(in_features=64, out_features=16, bias=True)\n",
       "  (L3_norm): BatchNorm1d(16, eps=1e-05, momentum=0.1, affine=True, track_running_stats=True)\n",
       "  (L3): Linear(in_features=16, out_features=1, bias=True)\n",
       ")"
      ]
     },
     "execution_count": 47,
     "metadata": {},
     "output_type": "execute_result"
    }
   ],
   "source": [
    "classifier.cpu()"
   ]
  },
  {
   "cell_type": "code",
   "execution_count": 49,
   "metadata": {},
   "outputs": [
    {
     "data": {
      "text/plain": [
       "<matplotlib.legend.Legend at 0x23c29d02610>"
      ]
     },
     "execution_count": 49,
     "metadata": {},
     "output_type": "execute_result"
    },
    {
     "data": {
      "image/png": "[encoded data removed]",
      "text/plain": [
       "<Figure size 640x480 with 1 Axes>"
      ]
     },
     "metadata": {},
     "output_type": "display_data"
    }
   ],
   "source": [
    "dcd_bkg = nn.Sigmoid()(classifier(torch.FloatTensor(realbkg_reserved))).detach().numpy()\n",
    "dcd_bbh = nn.Sigmoid()(classifier(torch.FloatTensor(realbbh_reserved))).detach().numpy()\n",
    "dcd_sg = nn.Sigmoid()(classifier(torch.FloatTensor(realsg_reserved))).detach().numpy()\n",
    "dcd_glitch = nn.Sigmoid()(classifier(torch.FloatTensor(realglitch_reserved))).detach().numpy()\n",
    "\n",
    "foo = plt.hist(dcd_bkg, histtype=\"step\", range=(0, 1), bins=50, density=True, label=\"noise\")\n",
    "foo = plt.hist(dcd_bbh, histtype=\"step\", range=(0, 1), bins=50, density=True, label=\"bbh\")\n",
    "foo = plt.hist(dcd_sg, histtype=\"step\", range=(0, 1), bins=50, density=True, label=\"sg\")\n",
    "foo = plt.hist(dcd_glitch, histtype=\"step\", range=(0, 1), bins=50, density=True, label=\"glitch\")\n",
    "plt.title(\"trained with noise\")\n",
    "# plt.axvline(c0[\"glitch\"], color=\"k\", linestyle=\"--\")\n",
    "plt.legend()"
   ]
  },
  {
   "cell_type": "code",
   "execution_count": null,
   "metadata": {},
   "outputs": [],
   "source": []
  },
  {
   "cell_type": "markdown",
   "metadata": {},
   "source": [
    "## Unsupervised case"
   ]
  },
  {
   "cell_type": "markdown",
   "metadata": {},
   "source": [
    "### Glitch trained"
   ]
  },
  {
   "cell_type": "code",
   "execution_count": 81,
   "metadata": {},
   "outputs": [],
   "source": [
    "version = 'v5'"
   ]
  },
  {
   "cell_type": "code",
   "execution_count": 82,
   "metadata": {},
   "outputs": [],
   "source": [
    "classifier = torch.load(\"../Model_cached/Wavelet_model_glitchtrained_AE\"+version+\"_32_8.pt\")"
   ]
  },
  {
   "cell_type": "code",
   "execution_count": 89,
   "metadata": {},
   "outputs": [
    {
     "data": {
      "text/plain": [
       "WaveletCNNAEMC(\n",
       "  (cap_norm): GroupNorm(2, 2, eps=1e-05, affine=True)\n",
       "  (Conv_In_encode): Conv1d(2, 4, kernel_size=(1,), stride=(1,))\n",
       "  (Conv_Out_encode): Conv1d(4, 4, kernel_size=(1,), stride=(1,))\n",
       "  (Conv_In_decode): Conv1d(4, 4, kernel_size=(1,), stride=(1,))\n",
       "  (Conv_Out_decode): Conv1d(4, 2, kernel_size=(1,), stride=(1,))\n",
       "  (body_norm_encode): GroupNorm(4, 4, eps=1e-05, affine=True)\n",
       "  (body_norm_decode): GroupNorm(4, 4, eps=1e-05, affine=True)\n",
       "  (end_norm_encode): BatchNorm1d(4, eps=1e-05, momentum=0.1, affine=True, track_running_stats=True)\n",
       "  (end_norm_decode): BatchNorm1d(1, eps=1e-05, momentum=0.1, affine=True, track_running_stats=True)\n",
       "  (WaveNet_layers_encode): ModuleList(\n",
       "    (0): Conv1d(4, 4, kernel_size=(2,), stride=(1,))\n",
       "    (1): Conv1d(4, 4, kernel_size=(2,), stride=(1,), dilation=(2,))\n",
       "    (2): Conv1d(4, 4, kernel_size=(2,), stride=(1,), dilation=(4,))\n",
       "    (3): Conv1d(4, 4, kernel_size=(2,), stride=(1,), dilation=(8,))\n",
       "    (4): Conv1d(4, 4, kernel_size=(2,), stride=(1,), dilation=(16,))\n",
       "  )\n",
       "  (WaveNet_layers_decode): ModuleList(\n",
       "    (0): Conv1d(4, 4, kernel_size=(2,), stride=(1,))\n",
       "    (1): Conv1d(4, 4, kernel_size=(2,), stride=(1,), dilation=(2,))\n",
       "    (2): Conv1d(4, 4, kernel_size=(2,), stride=(1,), dilation=(4,))\n",
       "    (3): Conv1d(4, 4, kernel_size=(2,), stride=(1,), dilation=(8,))\n",
       "    (4): Conv1d(4, 4, kernel_size=(2,), stride=(1,), dilation=(16,))\n",
       "  )\n",
       "  (Padding_layer): ZeroPad1d((31, 31))\n",
       "  (L1_norm): BatchNorm1d(169, eps=1e-05, momentum=0.1, affine=True, track_running_stats=True)\n",
       "  (L1): Linear(in_features=169, out_features=32, bias=True)\n",
       "  (L2_norm): BatchNorm1d(32, eps=1e-05, momentum=0.1, affine=True, track_running_stats=True)\n",
       "  (L2): Linear(in_features=32, out_features=8, bias=True)\n",
       "  (L4_norm): BatchNorm1d(8, eps=1e-05, momentum=0.1, affine=True, track_running_stats=True)\n",
       "  (L4): Linear(in_features=8, out_features=32, bias=True)\n",
       "  (L5_norm): BatchNorm1d(32, eps=1e-05, momentum=0.1, affine=True, track_running_stats=True)\n",
       "  (L5): Linear(in_features=32, out_features=169, bias=True)\n",
       ")"
      ]
     },
     "execution_count": 89,
     "metadata": {},
     "output_type": "execute_result"
    }
   ],
   "source": [
    "classifier.cpu()"
   ]
  },
  {
   "cell_type": "code",
   "execution_count": 90,
   "metadata": {},
   "outputs": [
    {
     "data": {
      "text/plain": [
       "<matplotlib.legend.Legend at 0x23c29ddc810>"
      ]
     },
     "execution_count": 90,
     "metadata": {},
     "output_type": "execute_result"
    },
    {
     "data": {
      "image/png": "[encoded data removed]",
      "text/plain": [
       "<Figure size 640x480 with 1 Axes>"
      ]
     },
     "metadata": {},
     "output_type": "display_data"
    }
   ],
   "source": [
    "dcd_bkg = classifier(torch.FloatTensor(realbkg_reserved)).detach().numpy().reshape(-1,200)\n",
    "dcd_bbh = classifier(torch.FloatTensor(realbbh_reserved)).detach().numpy().reshape(-1,200)\n",
    "dcd_sg = classifier(torch.FloatTensor(realsg_reserved)).detach().numpy().reshape(-1,200)\n",
    "dcd_glitch = classifier(torch.FloatTensor(realglitch_reserved)).detach().numpy().reshape(-1,200)\n",
    "\n",
    "foo = plt.hist(np.var(realbkg_reserved.reshape(-1,200)-dcd_bkg, axis=1), histtype=\"step\", range=(0, 2), bins=50, density=True, label=\"noise\")\n",
    "foo = plt.hist(np.var(realbbh_reserved.reshape(-1,200)-dcd_bbh, axis=1), histtype=\"step\", range=(0, 2), bins=50, density=True, label=\"bbh\")\n",
    "foo = plt.hist(np.var(realsg_reserved.reshape(-1,200)-dcd_sg, axis=1), histtype=\"step\", range=(0, 2), bins=50, density=True, label=\"sg\")\n",
    "foo = plt.hist(np.var(realglitch_reserved.reshape(-1,200)-dcd_glitch, axis=1), histtype=\"step\", range=(0, 2), bins=50, density=True, label=\"glitch\")\n",
    "plt.title(\"trained with glitch\")\n",
    "# plt.axvline(c0[\"glitch\"], color=\"k\", linestyle=\"--\")\n",
    "plt.legend()"
   ]
  },
  {
   "cell_type": "code",
   "execution_count": 85,
   "metadata": {},
   "outputs": [
    {
     "data": {
      "text/plain": [
       "<matplotlib.legend.Legend at 0x23c29922610>"
      ]
     },
     "execution_count": 85,
     "metadata": {},
     "output_type": "execute_result"
    },
    {
     "data": {
      "image/png": "[encoded data removed]",
      "text/plain": [
       "<Figure size 640x480 with 1 Axes>"
      ]
     },
     "metadata": {},
     "output_type": "display_data"
    }
   ],
   "source": [
    "dcd_bkg = classifier(torch.FloatTensor(realbkg_reserved)).detach().numpy().reshape(-1,200)\n",
    "dcd_bbh = classifier(torch.FloatTensor(realbbh_reserved)).detach().numpy().reshape(-1,200)\n",
    "dcd_sg = classifier(torch.FloatTensor(realsg_reserved)).detach().numpy().reshape(-1,200)\n",
    "dcd_glitch = classifier(torch.FloatTensor(realglitch_reserved)).detach().numpy().reshape(-1,200)\n",
    "\n",
    "foo = plt.hist(np.var(realbkg_reserved.reshape(-1,200)-dcd_bkg, axis=1), histtype=\"step\", range=(0, 2), bins=50, density=True, label=\"noise\")\n",
    "foo = plt.hist(np.var(realbbh_reserved.reshape(-1,200)-dcd_bbh, axis=1), histtype=\"step\", range=(0, 2), bins=50, density=True, label=\"bbh\")\n",
    "foo = plt.hist(np.var(realsg_reserved.reshape(-1,200)-dcd_sg, axis=1), histtype=\"step\", range=(0, 2), bins=50, density=True, label=\"sg\")\n",
    "foo = plt.hist(np.var(realglitch_reserved.reshape(-1,200)-dcd_glitch, axis=1), histtype=\"step\", range=(0, 2), bins=50, density=True, label=\"glitch\")\n",
    "plt.title(\"trained with glitch\")\n",
    "# plt.axvline(c0[\"glitch\"], color=\"k\", linestyle=\"--\")\n",
    "plt.legend()"
   ]
  },
  {
   "cell_type": "code",
   "execution_count": 59,
   "metadata": {},
   "outputs": [
    {
     "data": {
      "text/plain": [
       "<matplotlib.legend.Legend at 0x23e1f002dd0>"
      ]
     },
     "execution_count": 59,
     "metadata": {},
     "output_type": "execute_result"
    },
    {
     "data": {
      "image/png": "[encoded data removed]",
      "text/plain": [
       "<Figure size 640x480 with 1 Axes>"
      ]
     },
     "metadata": {},
     "output_type": "display_data"
    }
   ],
   "source": [
    "dcd_bkg = classifier(torch.FloatTensor(realbkg_reserved)).detach().numpy().reshape(-1,200)\n",
    "dcd_bbh = classifier(torch.FloatTensor(realbbh_reserved)).detach().numpy().reshape(-1,200)\n",
    "dcd_sg = classifier(torch.FloatTensor(realsg_reserved)).detach().numpy().reshape(-1,200)\n",
    "dcd_glitch = classifier(torch.FloatTensor(realglitch_reserved)).detach().numpy().reshape(-1,200)\n",
    "\n",
    "foo = plt.hist(np.var(realbkg_reserved.reshape(-1,200)-dcd_bkg, axis=1), histtype=\"step\", range=(0, 0.01), bins=50, density=True, label=\"noise\")\n",
    "foo = plt.hist(np.var(realbbh_reserved.reshape(-1,200)-dcd_bbh, axis=1), histtype=\"step\", range=(0, 0.01), bins=50, density=True, label=\"bbh\")\n",
    "foo = plt.hist(np.var(realsg_reserved.reshape(-1,200)-dcd_sg, axis=1), histtype=\"step\", range=(0, 0.01), bins=50, density=True, label=\"sg\")\n",
    "foo = plt.hist(np.var(realglitch_reserved.reshape(-1,200)-dcd_glitch, axis=1), histtype=\"step\", range=(0, 0.01), bins=50, density=True, label=\"glitch\")\n",
    "plt.title(\"trained with glitch\")\n",
    "# plt.axvline(c0[\"glitch\"], color=\"k\", linestyle=\"--\")\n",
    "plt.legend()"
   ]
  },
  {
   "cell_type": "code",
   "execution_count": null,
   "metadata": {},
   "outputs": [
    {
     "data": {
      "text/plain": [
       "<matplotlib.legend.Legend at 0x23bef1e8150>"
      ]
     },
     "metadata": {},
     "output_type": "display_data"
    },
    {
     "data": {
      "image/png": "[encoded data removed]",
      "text/plain": [
       "<Figure size 640x480 with 1 Axes>"
      ]
     },
     "metadata": {},
     "output_type": "display_data"
    }
   ],
   "source": [
    "dcd_bkg = classifier(torch.FloatTensor(realbkg_reserved)).detach().numpy().reshape(-1,200)\n",
    "dcd_bbh = classifier(torch.FloatTensor(realbbh_reserved)).detach().numpy().reshape(-1,200)\n",
    "dcd_sg = classifier(torch.FloatTensor(realsg_reserved)).detach().numpy().reshape(-1,200)\n",
    "dcd_glitch = classifier(torch.FloatTensor(realglitch_reserved)).detach().numpy().reshape(-1,200)\n",
    "\n",
    "foo = plt.hist(np.var(realbkg_reserved.reshape(-1,200)-dcd_bkg, axis=1), histtype=\"step\", range=(0, 0.01), bins=50, density=True, label=\"noise\")\n",
    "foo = plt.hist(np.var(realbbh_reserved.reshape(-1,200)-dcd_bbh, axis=1), histtype=\"step\", range=(0, 0.01), bins=50, density=True, label=\"bbh\")\n",
    "foo = plt.hist(np.var(realsg_reserved.reshape(-1,200)-dcd_sg, axis=1), histtype=\"step\", range=(0, 0.01), bins=50, density=True, label=\"sg\")\n",
    "foo = plt.hist(np.var(realglitch_reserved.reshape(-1,200)-dcd_glitch, axis=1), histtype=\"step\", range=(0, 0.01), bins=50, density=True, label=\"glitch\")\n",
    "plt.title(\"trained with glitch\")\n",
    "# plt.axvline(c0[\"glitch\"], color=\"k\", linestyle=\"--\")\n",
    "plt.legend()"
   ]
  },
  {
   "cell_type": "markdown",
   "metadata": {},
   "source": [
    "### Noise trained"
   ]
  },
  {
   "cell_type": "code",
   "execution_count": 24,
   "metadata": {},
   "outputs": [],
   "source": [
    "version = 'v1'"
   ]
  },
  {
   "cell_type": "code",
   "execution_count": 26,
   "metadata": {},
   "outputs": [],
   "source": [
    "classifier = torch.load(\"../Model_cached/Wavelet_model_AE\"+version+\".pt\")"
   ]
  },
  {
   "cell_type": "code",
   "execution_count": 27,
   "metadata": {},
   "outputs": [
    {
     "data": {
      "text/plain": [
       "WaveletCNNAE(\n",
       "  (cap_norm): GroupNorm(2, 2, eps=1e-05, affine=True)\n",
       "  (Conv_In_encode): Conv1d(2, 8, kernel_size=(1,), stride=(1,))\n",
       "  (Conv_Out_encode): Conv1d(8, 1, kernel_size=(1,), stride=(1,))\n",
       "  (Conv_In_decode): Conv1d(1, 8, kernel_size=(1,), stride=(1,))\n",
       "  (Conv_Out_decode): Conv1d(8, 2, kernel_size=(1,), stride=(1,))\n",
       "  (body_norm_encode): GroupNorm(4, 8, eps=1e-05, affine=True)\n",
       "  (body_norm_decode): GroupNorm(4, 8, eps=1e-05, affine=True)\n",
       "  (end_norm_encode): BatchNorm1d(1, eps=1e-05, momentum=0.1, affine=True, track_running_stats=True)\n",
       "  (end_norm_decode): BatchNorm1d(1, eps=1e-05, momentum=0.1, affine=True, track_running_stats=True)\n",
       "  (WaveNet_layers_encode): ModuleList(\n",
       "    (0): Conv1d(8, 8, kernel_size=(2,), stride=(1,))\n",
       "    (1): Conv1d(8, 8, kernel_size=(2,), stride=(1,), dilation=(2,))\n",
       "    (2): Conv1d(8, 8, kernel_size=(2,), stride=(1,), dilation=(4,))\n",
       "    (3): Conv1d(8, 8, kernel_size=(2,), stride=(1,), dilation=(8,))\n",
       "    (4): Conv1d(8, 8, kernel_size=(2,), stride=(1,), dilation=(16,))\n",
       "  )\n",
       "  (WaveNet_layers_decode): ModuleList(\n",
       "    (0): Conv1d(8, 8, kernel_size=(2,), stride=(1,))\n",
       "    (1): Conv1d(8, 8, kernel_size=(2,), stride=(1,), dilation=(2,))\n",
       "    (2): Conv1d(8, 8, kernel_size=(2,), stride=(1,), dilation=(4,))\n",
       "    (3): Conv1d(8, 8, kernel_size=(2,), stride=(1,), dilation=(8,))\n",
       "    (4): Conv1d(8, 8, kernel_size=(2,), stride=(1,), dilation=(16,))\n",
       "  )\n",
       "  (Padding_layer): ZeroPad1d((31, 31))\n",
       "  (L1_norm): BatchNorm1d(169, eps=1e-05, momentum=0.1, affine=True, track_running_stats=True)\n",
       "  (L1): Linear(in_features=169, out_features=64, bias=True)\n",
       "  (L2_norm): BatchNorm1d(64, eps=1e-05, momentum=0.1, affine=True, track_running_stats=True)\n",
       "  (L2): Linear(in_features=64, out_features=16, bias=True)\n",
       "  (L4_norm): BatchNorm1d(16, eps=1e-05, momentum=0.1, affine=True, track_running_stats=True)\n",
       "  (L4): Linear(in_features=16, out_features=64, bias=True)\n",
       "  (L5_norm): BatchNorm1d(64, eps=1e-05, momentum=0.1, affine=True, track_running_stats=True)\n",
       "  (L5): Linear(in_features=64, out_features=169, bias=True)\n",
       ")"
      ]
     },
     "execution_count": 27,
     "metadata": {},
     "output_type": "execute_result"
    }
   ],
   "source": [
    "classifier.cpu()"
   ]
  },
  {
   "cell_type": "code",
   "execution_count": 30,
   "metadata": {},
   "outputs": [
    {
     "data": {
      "text/plain": [
       "<matplotlib.legend.Legend at 0x23c14b24350>"
      ]
     },
     "execution_count": 30,
     "metadata": {},
     "output_type": "execute_result"
    },
    {
     "data": {
      "image/png": "[encoded data removed]",
      "text/plain": [
       "<Figure size 640x480 with 1 Axes>"
      ]
     },
     "metadata": {},
     "output_type": "display_data"
    }
   ],
   "source": [
    "dcd_bkg = classifier(torch.FloatTensor(realbkg_reserved)).detach().numpy().reshape(-1,200)\n",
    "dcd_bbh = classifier(torch.FloatTensor(realbbh_reserved)).detach().numpy().reshape(-1,200)\n",
    "dcd_sg = classifier(torch.FloatTensor(realsg_reserved)).detach().numpy().reshape(-1,200)\n",
    "dcd_glitch = classifier(torch.FloatTensor(realglitch_reserved)).detach().numpy().reshape(-1,200)\n",
    "\n",
    "foo = plt.hist(np.var(realbkg_reserved.reshape(-1,200)-dcd_bkg, axis=1), histtype=\"step\", range=(0, 0.1), bins=50, density=True, label=\"noise\")\n",
    "foo = plt.hist(np.var(realbbh_reserved.reshape(-1,200)-dcd_bbh, axis=1), histtype=\"step\", range=(0, 0.1), bins=50, density=True, label=\"bbh\")\n",
    "foo = plt.hist(np.var(realsg_reserved.reshape(-1,200)-dcd_sg, axis=1), histtype=\"step\", range=(0, 0.1), bins=50, density=True, label=\"sg\")\n",
    "foo = plt.hist(np.var(realglitch_reserved.reshape(-1,200)-dcd_glitch, axis=1), histtype=\"step\", range=(0, 0.1), bins=50, density=True, label=\"glitch\")\n",
    "plt.title(\"trained with glitch\")\n",
    "# plt.axvline(c0[\"glitch\"], color=\"k\", linestyle=\"--\")\n",
    "plt.legend()"
   ]
  },
  {
   "cell_type": "code",
   "execution_count": 29,
   "metadata": {},
   "outputs": [
    {
     "data": {
      "text/plain": [
       "array([0.02201537, 0.05003922, 0.02644901, ..., 0.05077039, 0.02142253,\n",
       "       0.05276636])"
      ]
     },
     "execution_count": 29,
     "metadata": {},
     "output_type": "execute_result"
    }
   ],
   "source": [
    "np.var(realbkg_reserved.reshape(-1,200)-dcd_bkg, axis=1)"
   ]
  },
  {
   "cell_type": "code",
   "execution_count": null,
   "metadata": {},
   "outputs": [],
   "source": []
  }
 ],
 "metadata": {
  "kernelspec": {
   "display_name": "Python 3 (ipykernel)",
   "language": "python",
   "name": "python3"
  }
 },
 "nbformat": 4,
 "nbformat_minor": 2
}
