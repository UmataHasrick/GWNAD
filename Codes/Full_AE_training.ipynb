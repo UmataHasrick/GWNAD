{
 "cells": [
  {
   "cell_type": "code",
   "execution_count": 1,
   "metadata": {},
   "outputs": [],
   "source": [
    "import torch\n",
    "from torch.utils.data import DataLoader\n",
    "from torch.utils.data import TensorDataset\n",
    "from torch import nn, optim\n",
    "import scipy.io as sio\n",
    "import numpy as np\n",
    "import matplotlib.pyplot as plt\n",
    "import pandas as pd\n",
    "import datetime\n",
    "import os\n",
    "import readligo as rl"
   ]
  },
  {
   "cell_type": "code",
   "execution_count": 2,
   "metadata": {},
   "outputs": [],
   "source": [
    "epochs = 50\n",
    "test_sample_ratio = .2\n",
    "input_vector_length = 1024\n",
    "batch_size = 200\n",
    "num_bins = 40\n",
    "\n",
    "input_dir = \"/Volumes/Research/GWNMMAD_data/Downsampled/V1/\"\n",
    "input_file_list = [\"H-H1_GWOSC_O2_4KHZ_R1-1174978560-4096_downsampled\", \"L-L1_GWOSC_O2_4KHZ_R1-1187291136-4096_downsampled\", \"V-V1_GWOSC_O2_4KHZ_R1-1187688448-4096_downsampled\"]\n",
    "\n",
    "input_file = input_file_list[1]\n",
    "\n",
    "output_dir  = \"/Volumes/Research/GWNMMAD_data/Model/\""
   ]
  },
  {
   "cell_type": "code",
   "execution_count": null,
   "metadata": {},
   "outputs": [],
   "source": [
    "class AutoEncoder(nn.Module):\n",
    "    def __init__(self):\n",
    "        super(AutoEncoder, self).__init__()\n",
    "        self.encoder = nn.Sequential(\n",
    "            nn.Linear(1024, 768),\n",
    "            nn.ReLU(),\n",
    "            nn.Linear(768, 384),\n",
    "            nn.ReLU(),\n",
    "\n",
    "        )\n",
    "        self.decoder = nn.Sequential(\n",
    "            nn.Linear(384, 768),\n",
    "            nn.ReLU(),\n",
    "            nn.Linear(768, 1024),\n",
    "            nn.Sigmoid()\n",
    "        )\n",
    "\n",
    "    def forward(self, x):\n",
    "        encoded = self.encoder(x)\n",
    "        decoded = self.decoder(encoded)\n",
    "        return encoded, decoded"
   ]
  },
  {
   "cell_type": "code",
   "execution_count": null,
   "metadata": {},
   "outputs": [],
   "source": []
  },
  {
   "cell_type": "code",
   "execution_count": null,
   "metadata": {},
   "outputs": [],
   "source": [
    "def bunch_normalize(v_set):\n",
    "    recover_min = list(range(len(v_set)))\n",
    "    recover_coef = list(range(len(v_set)))\n",
    "    for i in range(len(v_set)):\n",
    "        v_set[i], recover_min[i], recover_coef[i] = min_max_normalization(v_set[i])\n",
    "    return v_set, recover_min, recover_coef"
   ]
  }
 ],
 "metadata": {
  "kernelspec": {
   "display_name": "Python 3",
   "language": "python",
   "name": "python3"
  },
  "language_info": {
   "codemirror_mode": {
    "name": "ipython",
    "version": 3
   },
   "file_extension": ".py",
   "mimetype": "text/x-python",
   "name": "python",
   "nbconvert_exporter": "python",
   "pygments_lexer": "ipython3",
   "version": "3.undefined.undefined"
  }
 },
 "nbformat": 4,
 "nbformat_minor": 2
}
