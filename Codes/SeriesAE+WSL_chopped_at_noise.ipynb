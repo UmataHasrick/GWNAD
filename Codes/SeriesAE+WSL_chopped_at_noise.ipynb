{
 "cells": [
  {
   "cell_type": "code",
   "execution_count": 1,
   "metadata": {},
   "outputs": [],
   "source": [
    "import numpy as np\n",
    "import matplotlib.pyplot as plt\n",
    "import time"
   ]
  },
  {
   "cell_type": "code",
   "execution_count": 2,
   "metadata": {},
   "outputs": [
    {
     "data": {
      "text/plain": [
       "[<matplotlib.lines.Line2D at 0x1c841fdf150>]"
      ]
     },
     "execution_count": 2,
     "metadata": {},
     "output_type": "execute_result"
    },
    {
     "data": {
      "image/png": "[encoded data removed]",
      "text/plain": [
       "<Figure size 640x480 with 1 Axes>"
      ]
     },
     "metadata": {},
     "output_type": "display_data"
    }
   ],
   "source": [
    "plt.plot(np.arange(0, 1, 0.1), 2*np.arange(0, 1, 0.1))"
   ]
  },
  {
   "cell_type": "code",
   "execution_count": 3,
   "metadata": {},
   "outputs": [],
   "source": [
    "import h5py"
   ]
  },
  {
   "cell_type": "code",
   "execution_count": 4,
   "metadata": {},
   "outputs": [],
   "source": [
    "from scipy.stats import norm"
   ]
  },
  {
   "cell_type": "code",
   "execution_count": 5,
   "metadata": {},
   "outputs": [],
   "source": [
    "import torch\n",
    "from torch.utils.data import DataLoader\n",
    "from torch.utils.data import TensorDataset\n",
    "from torch import nn, optim\n",
    "import scipy.io as sio\n",
    "# import pandas as pd\n",
    "import datetime\n",
    "import os\n",
    "# import readligo as rl\n",
    "# from gwpy.timeseries import TimeSeries\n",
    "import math\n",
    "import random\n",
    "\n",
    "import copy"
   ]
  },
  {
   "cell_type": "code",
   "execution_count": 6,
   "metadata": {},
   "outputs": [
    {
     "ename": "FileNotFoundError",
     "evalue": "[WinError 2] 系统找不到指定的文件。: 'D:\\\\OneDrive - HKUST Connect\\\\Research\\\\GWNMMAD\\\\Codes'",
     "output_type": "error",
     "traceback": [
      "\u001b[1;31m---------------------------------------------------------------------------\u001b[0m",
      "\u001b[1;31mFileNotFoundError\u001b[0m                         Traceback (most recent call last)",
      "Cell \u001b[1;32mIn[6], line 1\u001b[0m\n\u001b[1;32m----> 1\u001b[0m \u001b[43mos\u001b[49m\u001b[38;5;241;43m.\u001b[39;49m\u001b[43mchdir\u001b[49m\u001b[43m(\u001b[49m\u001b[38;5;124;43m'\u001b[39;49m\u001b[38;5;124;43mD:\u001b[39;49m\u001b[38;5;124;43m\\\u001b[39;49m\u001b[38;5;124;43mOneDrive - HKUST Connect\u001b[39;49m\u001b[38;5;124;43m\\\u001b[39;49m\u001b[38;5;124;43mResearch\u001b[39;49m\u001b[38;5;124;43m\\\u001b[39;49m\u001b[38;5;124;43mGWNMMAD\u001b[39;49m\u001b[38;5;124;43m\\\u001b[39;49m\u001b[38;5;124;43mCodes\u001b[39;49m\u001b[38;5;124;43m'\u001b[39;49m\u001b[43m)\u001b[49m\n",
      "\u001b[1;31mFileNotFoundError\u001b[0m: [WinError 2] 系统找不到指定的文件。: 'D:\\\\OneDrive - HKUST Connect\\\\Research\\\\GWNMMAD\\\\Codes'"
     ]
    }
   ],
   "source": [
    "os.chdir('D:\\OneDrive - HKUST Connect\\Research\\GWNMMAD\\Codes')"
   ]
  },
  {
   "cell_type": "code",
   "execution_count": 7,
   "metadata": {},
   "outputs": [],
   "source": [
    "import torch.nn.functional as F"
   ]
  },
  {
   "cell_type": "code",
   "execution_count": 8,
   "metadata": {},
   "outputs": [],
   "source": [
    "epochs_wsl = 100;"
   ]
  },
  {
   "cell_type": "code",
   "execution_count": 9,
   "metadata": {},
   "outputs": [],
   "source": [
    "epochs = 100\n",
    "rTrain = 0.7;\n",
    "rTest = 0.2;\n",
    "# input_vector_length = 100\n",
    "batch_size = 32\n",
    "num_bins = 40\n",
    "coef_delta = 0"
   ]
  },
  {
   "cell_type": "markdown",
   "metadata": {},
   "source": [
    "# 4-AE + WSL"
   ]
  },
  {
   "cell_type": "markdown",
   "metadata": {
    "heading_collapsed": true
   },
   "source": [
    "## Networks"
   ]
  },
  {
   "cell_type": "code",
   "execution_count": 9,
   "metadata": {
    "hidden": true
   },
   "outputs": [],
   "source": [
    "class AutoEncoder(nn.Module):\n",
    "    def __init__(self):\n",
    "        super(AutoEncoder, self).__init__()\n",
    "        self.encoder = nn.Sequential(\n",
    "            nn.Linear(101, 20),\n",
    "            nn.ReLU()\n",
    "        )\n",
    "        self.decoder = nn.Sequential(\n",
    "            nn.Linear(20, 101),\n",
    "            nn.Sigmoid()\n",
    "        )\n",
    "\n",
    "    def forward(self, x):\n",
    "        encoded = self.encoder(x)\n",
    "        decoded = self.decoder(encoded)\n",
    "        return encoded, decoded"
   ]
  },
  {
   "cell_type": "code",
   "execution_count": 34,
   "metadata": {},
   "outputs": [],
   "source": [
    "class AutoEncoder(nn.Module):\n",
    "    def __init__(self):\n",
    "        super(AutoEncoder, self).__init__()\n",
    "        self.encoder = nn.Sequential(\n",
    "            nn.Linear(202, 20),\n",
    "            nn.ReLU(),\n",
    "            nn.Linear(20, 10),\n",
    "            nn.ReLU()\n",
    "        )\n",
    "        self.decoder = nn.Sequential(\n",
    "            nn.Linear(10, 20),\n",
    "            nn.ReLU(),\n",
    "            nn.Linear(20, 202),\n",
    "            nn.Sigmoid()\n",
    "        )\n",
    "\n",
    "    def forward(self, x):\n",
    "        encoded = self.encoder(x)\n",
    "        decoded = self.decoder(encoded)\n",
    "        return encoded, decoded"
   ]
  },
  {
   "cell_type": "code",
   "execution_count": 43,
   "metadata": {
    "hidden": true
   },
   "outputs": [],
   "source": [
    "class WSClassifier(nn.Module):\n",
    "    def __init__(self):\n",
    "        super(WSClassifier, self).__init__()\n",
    "        self.fc1 = nn.Linear(101, 32)  # 第一层全连接层，输入维度为4，输出维度为64\n",
    "        self.norm1 = nn.BatchNorm1d(32)\n",
    "        self.relu = nn.ReLU()  # 激活函数\n",
    "        self.sigmoid = nn.Sigmoid()\n",
    "        self.fc2 = nn.Linear(32, 8)\n",
    "        self.norm2 = nn.BatchNorm1d(8)\n",
    "        self.fc4 = nn.Linear(8, 1)  # 第三层全连接层，输入维度为32，输出维度为类别数目\n",
    "        \n",
    "        nn.init.kaiming_normal_(self.fc1.weight)\n",
    "        nn.init.kaiming_normal_(self.fc2.weight)\n",
    "        nn.init.kaiming_normal_(self.fc4.weight)\n",
    "\n",
    "    def forward(self, x):\n",
    "        x = self.norm1(self.relu(self.fc1(x)))\n",
    "        x = self.norm2(self.relu(self.fc2(x)))\n",
    "        return self.fc4(x)\n",
    "        # x = self.relu(x)\n",
    "#         x = self.sigmoid(x)"
   ]
  },
  {
   "cell_type": "code",
   "execution_count": 10,
   "metadata": {},
   "outputs": [],
   "source": [
    "class WSClassifier(nn.Module):\n",
    "    def __init__(self):\n",
    "        super(WSClassifier, self).__init__()\n",
    "        self.fc1 = nn.Linear(101, 32)  # 第一层全连接层，输入维度为4，输出维度为64\n",
    "        self.norm1 = nn.BatchNorm1d(32)\n",
    "        self.relu = nn.ReLU()  # 激活函数\n",
    "        self.sigmoid = nn.Sigmoid()\n",
    "        self.fc2 = nn.Linear(32, 1)\n",
    "        # self.norm2 = nn.BatchNorm1d(8)\n",
    "        # self.fc4 = nn.Linear(8, 1)  # 第三层全连接层，输入维度为32，输出维度为类别数目\n",
    "        \n",
    "        nn.init.kaiming_normal_(self.fc1.weight)\n",
    "        nn.init.kaiming_normal_(self.fc2.weight)\n",
    "        # nn.init.kaiming_normal_(self.fc4.weight)\n",
    "\n",
    "    def forward(self, x):\n",
    "        x = self.norm1(self.relu(self.fc1(x)))\n",
    "        return self.fc2(x)\n",
    "        # x = self.relu(x)\n",
    "#         x = self.sigmoid(x)"
   ]
  },
  {
   "cell_type": "code",
   "execution_count": 10,
   "metadata": {},
   "outputs": [],
   "source": [
    "class WSClassifier(nn.Module):\n",
    "    def __init__(self):\n",
    "        super(WSClassifier, self).__init__()\n",
    "        self.fc1 = nn.Linear(202, 32)  # 第一层全连接层，输入维度为4，输出维度为64\n",
    "        self.norm1 = nn.BatchNorm1d(32)\n",
    "        self.relu = nn.ReLU()  # 激活函数\n",
    "        self.sigmoid = nn.Sigmoid()\n",
    "        self.fc2 = nn.Linear(32, 1)\n",
    "        # self.norm2 = nn.BatchNorm1d(8)\n",
    "        # self.fc4 = nn.Linear(8, 1)  # 第三层全连接层，输入维度为32，输出维度为类别数目\n",
    "        \n",
    "        nn.init.kaiming_normal_(self.fc1.weight)\n",
    "        nn.init.kaiming_normal_(self.fc2.weight)\n",
    "        # nn.init.kaiming_normal_(self.fc4.weight)\n",
    "\n",
    "    def forward(self, x):\n",
    "        x = self.norm1(self.relu(self.fc1(x)))\n",
    "        return self.fc2(x)\n",
    "        # x = self.relu(x)\n",
    "#         x = self.sigmoid(x)"
   ]
  },
  {
   "cell_type": "code",
   "execution_count": 12,
   "metadata": {
    "hidden": true
   },
   "outputs": [
    {
     "name": "stdout",
     "output_type": "stream",
     "text": [
      "8732\n"
     ]
    }
   ],
   "source": [
    "ae = AutoEncoder().cuda()\n",
    "print(sum(p.numel() for p in ae.parameters() if p.requires_grad))"
   ]
  },
  {
   "cell_type": "code",
   "execution_count": 13,
   "metadata": {
    "hidden": true
   },
   "outputs": [
    {
     "name": "stdout",
     "output_type": "stream",
     "text": [
      "6593\n"
     ]
    }
   ],
   "source": [
    "wsc = WSClassifier().cuda()\n",
    "print(sum(p.numel() for p in wsc.parameters() if p.requires_grad))"
   ]
  },
  {
   "cell_type": "code",
   "execution_count": 13,
   "metadata": {},
   "outputs": [
    {
     "data": {
      "text/plain": [
       "WSClassifier(\n",
       "  (fc1): Linear(in_features=202, out_features=32, bias=True)\n",
       "  (norm1): BatchNorm1d(32, eps=1e-05, momentum=0.1, affine=True, track_running_stats=True)\n",
       "  (relu): ReLU()\n",
       "  (sigmoid): Sigmoid()\n",
       "  (fc2): Linear(in_features=32, out_features=1, bias=True)\n",
       ")"
      ]
     },
     "execution_count": 13,
     "metadata": {},
     "output_type": "execute_result"
    }
   ],
   "source": [
    "wsc"
   ]
  },
  {
   "cell_type": "markdown",
   "metadata": {},
   "source": [
    "## data loading"
   ]
  },
  {
   "cell_type": "code",
   "execution_count": 45,
   "metadata": {},
   "outputs": [],
   "source": [
    "list_datatype = [\"noise\", \"bbh\", \"sg\", \"glitch\"]"
   ]
  },
  {
   "cell_type": "code",
   "execution_count": 46,
   "metadata": {},
   "outputs": [],
   "source": [
    "N_wsl_total = 3000;\n",
    "N_wsl = {}\n",
    "N_wsl[\"noise\"] = int(0.75*N_wsl_total)\n",
    "N_wsl[\"bbh\"] = int(0.1*N_wsl_total)\n",
    "N_wsl[\"sg\"] = int(0.1*N_wsl_total)\n",
    "N_wsl[\"glitch\"] = int(0.05*N_wsl_total)"
   ]
  },
  {
   "cell_type": "code",
   "execution_count": 68,
   "metadata": {},
   "outputs": [],
   "source": [
    "renorm_factor_0 = 20;\n",
    "renorm_factor_1 = 20;\n",
    "\n",
    "realbkg = np.load('E://GWNMMAD_data/Tw_dataset/Datasets/background.npz')['data'].reshape(-1,200) / renorm_factor_0;\n",
    "realbbh = np.load('E://GWNMMAD_data/Tw_dataset/Datasets/bbh_for_challenge.npy').reshape(-1,200) / renorm_factor_0;\n",
    "\n",
    "realsg = np.load('E://GWNMMAD_data/Tw_dataset/Datasets/sglf_for_challenge.npy').reshape(-1,200) / renorm_factor_0;\n",
    "# realglitch = np.load(\"../data/real_glitches_9998_4000Hz_25ms.npz\")[\"strain_time_data\"]\n",
    "realglitch_L = np.load(\"../Data_cached/real_glitches_snrlt5_60132_4000Hz_25ms.npz\")[\"strain_time_data\"][:30000].reshape(-1,1,200) / renorm_factor_1\n",
    "realglitch_H = np.load('../Data_cached/real_glitches_H_snrlt5_59732_4000Hz_25ms.npz')[\"strain_time_data\"][:30000].reshape(-1,1,200) / renorm_factor_1"
   ]
  },
  {
   "cell_type": "code",
   "execution_count": null,
   "metadata": {},
   "outputs": [],
   "source": []
  },
  {
   "cell_type": "code",
   "execution_count": 47,
   "metadata": {},
   "outputs": [],
   "source": [
    "## If one is using Chia-Jui's data\n",
    "\n",
    "renorm_factor_0 = 20;\n",
    "renorm_factor_1 = 20;\n",
    "\n",
    "realbkg_L = np.load('../Data_cached/real_bkg_2202000_63917s_4000Hz_50ms.npy')[:1000000].reshape(-1,1,200) / renorm_factor_0;\n",
    "realbkg_H = np.load('../Data_cached/real_bkg_H_1466640_58803s_4000Hz_50ms.npy')[:1000000].reshape(-1,1,200) / renorm_factor_0;\n",
    "\n",
    "realbkg = np.concatenate((realbkg_L, realbkg_H), axis = 1).reshape(-1,200)\n",
    "\n",
    "realbbh = np.load('../Data_cached/injected_BBH_1823_around_merger_time_63917_58803.npz')['strain'].reshape(-1,200) / renorm_factor_0;\n",
    "\n",
    "realsg = np.load('../Data_cached/injected_lfsg_1835_around_merger_time_63917_58803.npz')['strain'].reshape(-1,200) / renorm_factor_0;\n",
    "# realglitch = np.load(\"../data/real_glitches_9998_4000Hz_25ms.npz\")[\"strain_time_data\"]\n",
    "realglitch_L = np.load(\"../Data_cached/real_glitches_snrlt5_60132_4000Hz_25ms.npz\")[\"strain_time_data\"][:30000].reshape(-1,1,200) / renorm_factor_1\n",
    "realglitch_H = np.load('../Data_cached/real_glitches_H_snrlt5_59732_4000Hz_25ms.npz')[\"strain_time_data\"][:30000].reshape(-1,1,200) / renorm_factor_1"
   ]
  },
  {
   "cell_type": "code",
   "execution_count": 48,
   "metadata": {},
   "outputs": [],
   "source": [
    "noise_first50k = realbkg.reshape(-1,2,200)[:30000]\n",
    "\n",
    "glitch_L_noise_H = np.concatenate((realglitch_L, noise_first50k[:,[1],:]), axis = 1)\n",
    "glitch_H_noise_L = np.concatenate((realglitch_H, noise_first50k[:,[0],:]), axis = 1)\n",
    "realglitch = np.vstack((glitch_L_noise_H, glitch_H_noise_L))\n",
    "np.random.shuffle(realglitch)\n",
    "realglitch = realglitch.reshape(-1,200)\n",
    "realbkg = realbkg[60000:]"
   ]
  },
  {
   "cell_type": "code",
   "execution_count": 49,
   "metadata": {},
   "outputs": [],
   "source": [
    "realbkg_reserved = realbkg[-int(0.2 * len(realbkg)):]\n",
    "realbbh_reserved = realbbh[-int(0.2 * len(realbbh)):]\n",
    "realsg_reserved = realsg[-int(0.2 * len(realsg)):]\n",
    "realglitch_reserved = realglitch[-int(0.2 * len(realglitch)):]\n",
    "\n",
    "realbkg = realbkg[:-int(0.2 * len(realbkg))]\n",
    "realbbh = realbbh[:-int(0.2 * len(realbbh))-int(0.2 * len(realbbh))%2]\n",
    "realsg = realsg[:-int(0.2 * len(realsg))-int(0.2 * len(realsg))%2]\n",
    "realglitch = realglitch[:-int(0.2 * len(realglitch))]"
   ]
  },
  {
   "cell_type": "code",
   "execution_count": 50,
   "metadata": {},
   "outputs": [],
   "source": [
    "bkg_fft = abs(np.fft.rfft(realbkg))\n",
    "bkg_fft = bkg_fft/np.linalg.norm([bkg_fft], axis=2).T\n",
    "\n",
    "bbh_fft = abs(np.fft.rfft(realbbh))\n",
    "bbh_fft = bbh_fft/np.linalg.norm([bbh_fft], axis=2).T\n",
    "\n",
    "sg_fft = abs(np.fft.rfft(realsg))\n",
    "sg_fft = sg_fft/np.linalg.norm([sg_fft], axis=2).T\n",
    "\n",
    "glitch_fft = abs(np.fft.rfft(realglitch))\n",
    "glitch_fft = glitch_fft/np.linalg.norm([glitch_fft], axis=2).T"
   ]
  },
  {
   "cell_type": "code",
   "execution_count": 51,
   "metadata": {},
   "outputs": [
    {
     "data": {
      "text/plain": [
       "(1552000, 101)"
      ]
     },
     "execution_count": 51,
     "metadata": {},
     "output_type": "execute_result"
    }
   ],
   "source": [
    "bkg_fft.shape"
   ]
  },
  {
   "cell_type": "code",
   "execution_count": 52,
   "metadata": {},
   "outputs": [
    {
     "data": {
      "text/plain": [
       "(96000, 101)"
      ]
     },
     "execution_count": 52,
     "metadata": {},
     "output_type": "execute_result"
    }
   ],
   "source": [
    "glitch_fft.shape"
   ]
  },
  {
   "cell_type": "code",
   "execution_count": 53,
   "metadata": {},
   "outputs": [
    {
     "data": {
      "text/plain": [
       "(2916, 101)"
      ]
     },
     "execution_count": 53,
     "metadata": {},
     "output_type": "execute_result"
    }
   ],
   "source": [
    "bbh_fft.shape"
   ]
  },
  {
   "cell_type": "code",
   "execution_count": 54,
   "metadata": {},
   "outputs": [],
   "source": [
    "bkg_fft = bkg_fft.reshape(-1,202)\n",
    "\n",
    "bbh_fft = bbh_fft.reshape(-1,202)\n",
    "\n",
    "sg_fft = sg_fft.reshape(-1,202)\n",
    "\n",
    "glitch_fft = glitch_fft.reshape(-1,202)"
   ]
  },
  {
   "cell_type": "code",
   "execution_count": 55,
   "metadata": {},
   "outputs": [],
   "source": [
    "del realbkg_L, realbkg_H, realglitch_L, realglitch_H, glitch_L_noise_H, glitch_H_noise_L"
   ]
  },
  {
   "cell_type": "code",
   "execution_count": 59,
   "metadata": {},
   "outputs": [],
   "source": [
    "# dataset_raw = {};\n",
    "# dataset_raw[\"noise\"] = np.load(\"E://GWNMMAD_data/Tw_dataset/Datasets/background.npz\")['data'].reshape(-1,200);\n",
    "# dataset_raw[\"bbh\"] = np.load(\"E://GWNMMAD_data/Tw_dataset/Datasets/bbh_for_challenge.npy\").reshape(-1,200);\n",
    "# dataset_raw[\"sg\"] = np.load(\"E://GWNMMAD_data/Tw_dataset/Datasets/sglf_for_challenge.npy\").reshape(-1,200);\n",
    "# # realglitch = np.load(\"../data/real_glitches_9998_4000Hz_25ms.npz\")[\"strain_time_data\"]\n",
    "# dataset_raw[\"glitch\"] = np.load(\"../Data_cached/real_glitches_snrlt5_60132_4000Hz_25ms.npz\")[\"strain_time_data\"]\n",
    "\n",
    "# dataset_wsl = {};\n",
    "# dataset_ae = {};\n",
    "# dataset_wsl_fft = {};\n",
    "# dataset_ae_fft = {};\n",
    "\n",
    "# for dt in list_datatype:\n",
    "#     perm = np.random.permutation(len(dataset_raw[dt]))\n",
    "#     nwsl = N_wsl[dt]\n",
    "#     dataset_wsl[dt] = dataset_raw[dt][perm[:nwsl]]\n",
    "#     dataset_wsl[dt] = dataset_wsl[dt] / np.linalg.norm([dataset_wsl[dt]], axis=2).T\n",
    "#     dataset_wsl_fft[dt] = abs(np.fft.rfft(dataset_wsl[dt]))\n",
    "#     dataset_wsl_fft[dt] = dataset_wsl_fft[dt]/np.linalg.norm([dataset_wsl_fft[dt]], axis=2).T\n",
    "    \n",
    "#     dataset_ae[dt]  = dataset_raw[dt][perm[nwsl:]]\n",
    "#     dataset_ae[dt] = dataset_ae[dt] / np.linalg.norm([dataset_ae[dt]], axis=2).T\n",
    "#     dataset_ae_fft[dt] = abs(np.fft.rfft(dataset_ae[dt]))\n",
    "#     dataset_ae_fft[dt] = dataset_ae_fft[dt]/np.linalg.norm([dataset_ae_fft[dt]], axis=2).T\n",
    "    \n",
    "#     np.savetxt(\"../Data_Cached/SequentialTraining/WSL/perm_\"+dt+\"_2det.dat\", perm)"
   ]
  },
  {
   "cell_type": "code",
   "execution_count": 56,
   "metadata": {},
   "outputs": [],
   "source": [
    "dataset_raw_fft = {}\n",
    "\n",
    "dataset_raw_fft[\"noise\"] = bkg_fft\n",
    "dataset_raw_fft[\"bbh\"] = bbh_fft\n",
    "dataset_raw_fft[\"sg\"] = sg_fft\n",
    "dataset_raw_fft[\"glitch\"] = glitch_fft\n",
    "\n",
    "dataset_wsl = {};\n",
    "dataset_ae = {};\n",
    "dataset_wsl_fft = {};\n",
    "dataset_ae_fft = {};\n",
    "\n",
    "for dt in list_datatype:\n",
    "    perm = np.random.permutation(len(dataset_raw_fft[dt]))\n",
    "    nwsl = N_wsl[dt]\n",
    "    dataset_wsl_fft[dt] = dataset_raw_fft[dt][perm[:nwsl]]\n",
    "    # dataset_wsl[dt] = dataset_wsl[dt] / np.linalg.norm([dataset_wsl[dt]], axis=2).T\n",
    "    # dataset_wsl_fft[dt] = abs(np.fft.rfft(dataset_wsl[dt]))\n",
    "    # dataset_wsl_fft[dt] = dataset_wsl_fft[dt]/np.linalg.norm([dataset_wsl_fft[dt]], axis=2).T\n",
    "    \n",
    "    dataset_ae_fft[dt]  = dataset_raw_fft[dt][perm[nwsl:]]\n",
    "    # dataset_ae[dt] = dataset_ae[dt] / np.linalg.norm([dataset_ae[dt]], axis=2).T\n",
    "    # dataset_ae_fft[dt] = abs(np.fft.rfft(dataset_ae[dt]))\n",
    "    # dataset_ae_fft[dt] = dataset_ae_fft[dt]/np.linalg.norm([dataset_ae_fft[dt]], axis=2).T\n",
    "    \n",
    "    np.savetxt(\"../Data_Cached/SequentialTraining/WSL/perm_\"+dt+\"_2det_Chia-Jui_\"+version+\"_2.dat\", perm)"
   ]
  },
  {
   "cell_type": "code",
   "execution_count": 57,
   "metadata": {},
   "outputs": [
    {
     "data": {
      "text/plain": [
       "1.4142135623730951"
      ]
     },
     "execution_count": 57,
     "metadata": {},
     "output_type": "execute_result"
    }
   ],
   "source": [
    "np.linalg.norm(dataset_ae_fft['noise'][0])"
   ]
  },
  {
   "cell_type": "code",
   "execution_count": 58,
   "metadata": {},
   "outputs": [
    {
     "name": "stdout",
     "output_type": "stream",
     "text": [
      "noise\n",
      "(773750, 202)\n",
      "bbh\n",
      "(1158, 202)\n",
      "sg\n",
      "(1168, 202)\n",
      "glitch\n",
      "(47850, 202)\n"
     ]
    }
   ],
   "source": [
    "for key in dataset_ae_fft.keys():\n",
    "    print(key)\n",
    "    print(dataset_ae_fft[key].shape)"
   ]
  },
  {
   "cell_type": "code",
   "execution_count": 106,
   "metadata": {},
   "outputs": [
    {
     "name": "stdout",
     "output_type": "stream",
     "text": [
      "noise\n",
      "(2250, 202)\n",
      "bbh\n",
      "(300, 202)\n",
      "sg\n",
      "(300, 202)\n",
      "glitch\n",
      "(150, 202)\n"
     ]
    }
   ],
   "source": [
    "for key in dataset_wsl_fft.keys():\n",
    "    print(key)\n",
    "    print(dataset_wsl_fft[key].shape)"
   ]
  },
  {
   "cell_type": "code",
   "execution_count": 29,
   "metadata": {},
   "outputs": [],
   "source": [
    "bkg_reserved_fft = abs(np.fft.rfft(realbkg_reserved))\n",
    "bkg_reserved_fft = bkg_reserved_fft/np.linalg.norm([bkg_reserved_fft], axis=2).T\n",
    "\n",
    "bbh_reserved_fft = abs(np.fft.rfft(realbbh_reserved))\n",
    "bbh_reserved_fft = bbh_reserved_fft/np.linalg.norm([bbh_reserved_fft], axis=2).T\n",
    "\n",
    "sg_reserved_fft = abs(np.fft.rfft(realsg_reserved))\n",
    "sg_reserved_fft = sg_reserved_fft/np.linalg.norm([sg_reserved_fft], axis=2).T\n",
    "\n",
    "glitch_reserved_fft = abs(np.fft.rfft(realglitch_reserved))\n",
    "glitch_reserved_fft = glitch_reserved_fft/np.linalg.norm([glitch_reserved_fft], axis=2).T"
   ]
  },
  {
   "cell_type": "code",
   "execution_count": 30,
   "metadata": {},
   "outputs": [
    {
     "ename": "ValueError",
     "evalue": "cannot reshape array of size 73629 into shape (202)",
     "output_type": "error",
     "traceback": [
      "\u001b[1;31m---------------------------------------------------------------------------\u001b[0m",
      "\u001b[1;31mValueError\u001b[0m                                Traceback (most recent call last)",
      "Cell \u001b[1;32mIn[30], line 3\u001b[0m\n\u001b[0;32m      1\u001b[0m bkg_reserved_fft \u001b[38;5;241m=\u001b[39m bkg_reserved_fft\u001b[38;5;241m.\u001b[39mreshape(\u001b[38;5;241m-\u001b[39m\u001b[38;5;241m1\u001b[39m,\u001b[38;5;241m202\u001b[39m)\n\u001b[1;32m----> 3\u001b[0m bbh_reserved_fft \u001b[38;5;241m=\u001b[39m \u001b[43mbbh_reserved_fft\u001b[49m\u001b[38;5;241;43m.\u001b[39;49m\u001b[43mreshape\u001b[49m\u001b[43m(\u001b[49m\u001b[38;5;241;43m-\u001b[39;49m\u001b[38;5;241;43m1\u001b[39;49m\u001b[43m,\u001b[49m\u001b[38;5;241;43m202\u001b[39;49m\u001b[43m)\u001b[49m\n\u001b[0;32m      5\u001b[0m sg_reserved_fft \u001b[38;5;241m=\u001b[39m sg_reserved_fft\u001b[38;5;241m.\u001b[39mreshape(\u001b[38;5;241m-\u001b[39m\u001b[38;5;241m1\u001b[39m,\u001b[38;5;241m202\u001b[39m)\n\u001b[0;32m      7\u001b[0m glitch_reserved_fft \u001b[38;5;241m=\u001b[39m glitch_reserved_fft\u001b[38;5;241m.\u001b[39mreshape(\u001b[38;5;241m-\u001b[39m\u001b[38;5;241m1\u001b[39m,\u001b[38;5;241m202\u001b[39m)\n",
      "\u001b[1;31mValueError\u001b[0m: cannot reshape array of size 73629 into shape (202)"
     ]
    }
   ],
   "source": [
    "bkg_reserved_fft = bkg_reserved_fft.reshape(-1,202)\n",
    "\n",
    "bbh_reserved_fft = bbh_reserved_fft.reshape(-1,202)\n",
    "\n",
    "sg_reserved_fft = sg_reserved_fft.reshape(-1,202)\n",
    "\n",
    "glitch_reserved_fft = glitch_reserved_fft.reshape(-1,202)"
   ]
  },
  {
   "cell_type": "code",
   "execution_count": 59,
   "metadata": {},
   "outputs": [
    {
     "ename": "ValueError",
     "evalue": "all the input array dimensions except for the concatenation axis must match exactly, but along dimension 1, the array at index 0 has size 101 and the array at index 1 has size 202",
     "output_type": "error",
     "traceback": [
      "\u001b[1;31m---------------------------------------------------------------------------\u001b[0m",
      "\u001b[1;31mValueError\u001b[0m                                Traceback (most recent call last)",
      "Cell \u001b[1;32mIn[59], line 10\u001b[0m\n\u001b[0;32m      7\u001b[0m N_reserved_test[\u001b[38;5;124m'\u001b[39m\u001b[38;5;124mbbh\u001b[39m\u001b[38;5;124m'\u001b[39m] \u001b[38;5;241m=\u001b[39m \u001b[38;5;28mint\u001b[39m(\u001b[38;5;241m0.15\u001b[39m \u001b[38;5;241m*\u001b[39m N_reserved_test_total)\n\u001b[0;32m      8\u001b[0m N_reserved_test[\u001b[38;5;124m'\u001b[39m\u001b[38;5;124msg\u001b[39m\u001b[38;5;124m'\u001b[39m] \u001b[38;5;241m=\u001b[39m \u001b[38;5;28mint\u001b[39m(\u001b[38;5;241m0.15\u001b[39m \u001b[38;5;241m*\u001b[39m N_reserved_test_total)\n\u001b[1;32m---> 10\u001b[0m dataset_reserved_test_collected \u001b[38;5;241m=\u001b[39m \u001b[43mnp\u001b[49m\u001b[38;5;241;43m.\u001b[39;49m\u001b[43mvstack\u001b[49m\u001b[43m(\u001b[49m\u001b[43m(\u001b[49m\u001b[43mglitch_reserved_fft\u001b[49m\u001b[43m[\u001b[49m\u001b[43m:\u001b[49m\u001b[43mN_reserved_test\u001b[49m\u001b[43m[\u001b[49m\u001b[38;5;124;43m'\u001b[39;49m\u001b[38;5;124;43mglitch\u001b[39;49m\u001b[38;5;124;43m'\u001b[39;49m\u001b[43m]\u001b[49m\u001b[43m]\u001b[49m\u001b[43m,\u001b[49m\u001b[43m \u001b[49m\u001b[43mbkg_reserved_fft\u001b[49m\u001b[43m[\u001b[49m\u001b[43m:\u001b[49m\u001b[43mN_reserved_test\u001b[49m\u001b[43m[\u001b[49m\u001b[38;5;124;43m'\u001b[39;49m\u001b[38;5;124;43mnoise\u001b[39;49m\u001b[38;5;124;43m'\u001b[39;49m\u001b[43m]\u001b[49m\u001b[43m]\u001b[49m\u001b[43m,\u001b[49m\n\u001b[0;32m     11\u001b[0m \u001b[43m                                             \u001b[49m\u001b[43mbbh_reserved_fft\u001b[49m\u001b[43m[\u001b[49m\u001b[43m:\u001b[49m\u001b[43mN_reserved_test\u001b[49m\u001b[43m[\u001b[49m\u001b[38;5;124;43m'\u001b[39;49m\u001b[38;5;124;43mbbh\u001b[39;49m\u001b[38;5;124;43m'\u001b[39;49m\u001b[43m]\u001b[49m\u001b[43m]\u001b[49m\u001b[43m,\u001b[49m\u001b[43m \u001b[49m\u001b[43msg_reserved_fft\u001b[49m\u001b[43m[\u001b[49m\u001b[43m:\u001b[49m\u001b[43mN_reserved_test\u001b[49m\u001b[43m[\u001b[49m\u001b[38;5;124;43m'\u001b[39;49m\u001b[38;5;124;43msg\u001b[39;49m\u001b[38;5;124;43m'\u001b[39;49m\u001b[43m]\u001b[49m\u001b[43m]\u001b[49m\u001b[43m)\u001b[49m\u001b[43m)\u001b[49m\n",
      "File \u001b[1;32m~\\AppData\\Local\\Programs\\Python\\Python311\\Lib\\site-packages\\numpy\\core\\shape_base.py:289\u001b[0m, in \u001b[0;36mvstack\u001b[1;34m(tup, dtype, casting)\u001b[0m\n\u001b[0;32m    287\u001b[0m \u001b[38;5;28;01mif\u001b[39;00m \u001b[38;5;129;01mnot\u001b[39;00m \u001b[38;5;28misinstance\u001b[39m(arrs, \u001b[38;5;28mlist\u001b[39m):\n\u001b[0;32m    288\u001b[0m     arrs \u001b[38;5;241m=\u001b[39m [arrs]\n\u001b[1;32m--> 289\u001b[0m \u001b[38;5;28;01mreturn\u001b[39;00m \u001b[43m_nx\u001b[49m\u001b[38;5;241;43m.\u001b[39;49m\u001b[43mconcatenate\u001b[49m\u001b[43m(\u001b[49m\u001b[43marrs\u001b[49m\u001b[43m,\u001b[49m\u001b[43m \u001b[49m\u001b[38;5;241;43m0\u001b[39;49m\u001b[43m,\u001b[49m\u001b[43m \u001b[49m\u001b[43mdtype\u001b[49m\u001b[38;5;241;43m=\u001b[39;49m\u001b[43mdtype\u001b[49m\u001b[43m,\u001b[49m\u001b[43m \u001b[49m\u001b[43mcasting\u001b[49m\u001b[38;5;241;43m=\u001b[39;49m\u001b[43mcasting\u001b[49m\u001b[43m)\u001b[49m\n",
      "\u001b[1;31mValueError\u001b[0m: all the input array dimensions except for the concatenation axis must match exactly, but along dimension 1, the array at index 0 has size 101 and the array at index 1 has size 202"
     ]
    }
   ],
   "source": [
    "N_reserved_test = {}\n",
    "\n",
    "N_reserved_test_total = 20000\n",
    "\n",
    "N_reserved_test['glitch'] = int(0.05 * N_reserved_test_total)\n",
    "N_reserved_test['noise'] = int(0.65 * N_reserved_test_total)\n",
    "N_reserved_test['bbh'] = int(0.15 * N_reserved_test_total)\n",
    "N_reserved_test['sg'] = int(0.15 * N_reserved_test_total)\n",
    "\n",
    "dataset_reserved_test_collected = np.vstack((glitch_reserved_fft[:N_reserved_test['glitch']], bkg_reserved_fft[:N_reserved_test['noise']],\n",
    "                                             bbh_reserved_fft[:N_reserved_test['bbh']], sg_reserved_fft[:N_reserved_test['sg']]))"
   ]
  },
  {
   "cell_type": "code",
   "execution_count": 31,
   "metadata": {},
   "outputs": [
    {
     "ename": "NameError",
     "evalue": "name 'dataset_reserved_test_collected' is not defined",
     "output_type": "error",
     "traceback": [
      "\u001b[1;31m---------------------------------------------------------------------------\u001b[0m",
      "\u001b[1;31mNameError\u001b[0m                                 Traceback (most recent call last)",
      "Cell \u001b[1;32mIn[31], line 1\u001b[0m\n\u001b[1;32m----> 1\u001b[0m \u001b[43mdataset_reserved_test_collected\u001b[49m\u001b[38;5;241m.\u001b[39mshape\n",
      "\u001b[1;31mNameError\u001b[0m: name 'dataset_reserved_test_collected' is not defined"
     ]
    }
   ],
   "source": [
    "dataset_reserved_test_collected.shape"
   ]
  },
  {
   "cell_type": "markdown",
   "metadata": {},
   "source": [
    "## training"
   ]
  },
  {
   "cell_type": "code",
   "execution_count": 62,
   "metadata": {},
   "outputs": [],
   "source": [
    "version = \"v7\";"
   ]
  },
  {
   "cell_type": "code",
   "execution_count": 63,
   "metadata": {},
   "outputs": [],
   "source": [
    "epochs = 50;"
   ]
  },
  {
   "cell_type": "code",
   "execution_count": 61,
   "metadata": {},
   "outputs": [],
   "source": [
    "sequence = [\"glitch\", \"noise\", \"bbh\", \"sg\"];\n",
    "ind2datatype = {};\n",
    "datatype2ind = {};\n",
    "for i, dt in enumerate(sequence):\n",
    "    ind2datatype[i] = dt;\n",
    "    datatype2ind[dt] = i;\n",
    "    \n",
    "torch.save(ind2datatype, \"../Data_cached/SequentialTraining/WSL/sequence_\"+version+\".json\")"
   ]
  },
  {
   "cell_type": "code",
   "execution_count": 60,
   "metadata": {},
   "outputs": [],
   "source": [
    "dataset_wsl_fft_collected = np.empty((0, dataset_wsl_fft[\"glitch\"].shape[1]))\n",
    "for dt in sequence:\n",
    "    dataset_wsl_fft_collected = np.vstack((dataset_wsl_fft_collected, dataset_wsl_fft[dt]))"
   ]
  },
  {
   "cell_type": "code",
   "execution_count": 30,
   "metadata": {},
   "outputs": [],
   "source": [
    "# N_bkg = len(bkg_reserved_fft);\n",
    "# N_glitch = int(N_bkg/15);\n",
    "# N_bbh = int(N_bkg*2/15);\n",
    "# N_sg = int(N_bkg*2/15);\n",
    "\n",
    "# testset = np.empty((N_bkg+N_glitch+N_bbh+N_sg, len(bkg_reserved_fft[0])))\n",
    "\n",
    "# s = 0;\n",
    "# testset[s : s+N_glitch] = glitch_reserved_fft[np.random.permutation(len(glitch_reserved_fft))[:N_glitch]];\n",
    "# s += N_glitch;\n",
    "\n",
    "# testset[s : s+N_bkg] = bkg_reserved_fft[np.random.permutation(len(bkg_reserved_fft))[:N_bkg]];\n",
    "# s += N_bkg;\n",
    "\n",
    "# testset[s : s+N_bbh] = bbh_reserved_fft[np.random.permutation(len(bbh_reserved_fft))[:N_bbh]];\n",
    "# s += N_bbh;\n",
    "\n",
    "# testset[s : s+N_sg] = sg_reserved_fft[np.random.permutation(len(sg_reserved_fft))[:N_sg]];\n",
    "# s += N_sg;\n",
    "\n",
    "# correct_ans = np.concatenate(([0]*N_glitch, [1]*N_bkg, [2]*N_bbh, [3]*N_sg))\n",
    "\n",
    "# Nsample = {};\n",
    "# Nsample[\"glitch\"] = N_glitch;\n",
    "# Nsample[\"noise\"] = N_bkg;\n",
    "# Nsample[\"bbh\"] = N_bbh;\n",
    "# Nsample[\"sg\"] = N_sg"
   ]
  },
  {
   "cell_type": "code",
   "execution_count": 31,
   "metadata": {},
   "outputs": [],
   "source": [
    "# Ncut = 5;\n",
    "# cutList = {};\n",
    "\n",
    "# max_glitch = 0.0026;\n",
    "# min_glitch = 0.001;\n",
    "# cutList[\"glitch\"] = np.linspace(min_glitch, max_glitch, Ncut);\n",
    "\n",
    "# max_bkg = 0.0026;\n",
    "# min_bkg = 0.001;\n",
    "# cutList[\"noise\"] = np.linspace(min_bkg, max_bkg, Ncut);\n",
    "\n",
    "# max_bbh = 0.0024;\n",
    "# min_bbh = 0.0008;\n",
    "# cutList[\"bbh\"] = np.linspace(min_bbh, max_bbh, Ncut);\n",
    "\n",
    "# max_sg = 0.003;\n",
    "# min_sg = 0.0003;\n",
    "# cutList[\"sg\"] = np.linspace(min_sg, max_sg, Ncut);\n",
    "\n",
    "# torch.save(cutList, \"../Data_cached/SequentialTraining/WSL/cut_\"+version+\".json\")"
   ]
  },
  {
   "cell_type": "code",
   "execution_count": 34,
   "metadata": {},
   "outputs": [],
   "source": [
    "Ncut = 5;\n",
    "cutList = {};\n",
    "\n",
    "max_glitch = 0.001;\n",
    "min_glitch = 0.0024;\n",
    "cutList[\"glitch\"] = np.linspace(min_glitch, max_glitch, Ncut);\n",
    "\n",
    "max_bkg = 0.0008;\n",
    "min_bkg = 0.0018;\n",
    "cutList[\"noise\"] = np.linspace(min_bkg, max_bkg, Ncut);\n",
    "\n",
    "max_bbh = 0.0014;\n",
    "min_bbh = 0.0024;\n",
    "cutList[\"bbh\"] = np.linspace(min_bbh, max_bbh, Ncut);\n",
    "\n",
    "max_sg = 0.0008;\n",
    "min_sg = 0.0032;\n",
    "cutList[\"sg\"] = np.linspace(min_sg, max_sg, Ncut);\n",
    "\n",
    "torch.save(cutList, \"../Data_cached/SequentialTraining/WSL/cut_\"+version+\".json\")"
   ]
  },
  {
   "cell_type": "code",
   "execution_count": 33,
   "metadata": {},
   "outputs": [],
   "source": [
    "# models = {};\n",
    "# models[\"glitch\"] = torch.load(\"../Model_cached/4ae_3.pt\")\n",
    "# models[\"glitch\"].cpu().eval()"
   ]
  },
  {
   "cell_type": "code",
   "execution_count": 35,
   "metadata": {},
   "outputs": [
    {
     "data": {
      "text/plain": [
       "AutoEncoder(\n",
       "  (encoder): Sequential(\n",
       "    (0): Linear(in_features=202, out_features=20, bias=True)\n",
       "    (1): ReLU()\n",
       "  )\n",
       "  (decoder): Sequential(\n",
       "    (0): Linear(in_features=20, out_features=202, bias=True)\n",
       "    (1): Sigmoid()\n",
       "  )\n",
       ")"
      ]
     },
     "execution_count": 35,
     "metadata": {},
     "output_type": "execute_result"
    }
   ],
   "source": [
    "models = {};\n",
    "models[\"glitch\"] = torch.load('../Model_cached/2_det_oneglitchonenoise_Chia-Jui_glitch_trained_202-20-202.pt')\n",
    "models[\"glitch\"].cpu().eval()"
   ]
  },
  {
   "cell_type": "code",
   "execution_count": 36,
   "metadata": {},
   "outputs": [],
   "source": [
    "def trainAE(dataset, cutID, version, datatype):\n",
    "    \n",
    "    nTotal = len(dataset);\n",
    "    nTrain = int(rTrain * nTotal)\n",
    "    nTest = int(rTest * nTotal)\n",
    "\n",
    "    X_train = dataset[:nTrain]\n",
    "    X_test = dataset[-nTest:]\n",
    "    X_validation = dataset[nTrain:-nTest]\n",
    "\n",
    "    trainData = torch.FloatTensor(X_train)\n",
    "    testData = torch.FloatTensor(X_test)\n",
    "    validationData = torch.FloatTensor(X_validation)\n",
    "\n",
    "    train_dataset = TensorDataset(trainData)\n",
    "    test_dataset = TensorDataset(testData)\n",
    "    validation_dataset = TensorDataset(validationData)\n",
    "\n",
    "    trainDataLoader = DataLoader(dataset=train_dataset, batch_size=batch_size, shuffle=True)\n",
    "    validationDataLoader = DataLoader(dataset=validation_dataset, batch_size=batch_size, shuffle = True)\n",
    "\n",
    "    autoencoder = AutoEncoder().cuda()\n",
    "    optimizer = optim.Adam(autoencoder.parameters(), lr=0.00005)\n",
    "    loss_func = nn.MSELoss().cuda()\n",
    "    \n",
    "    loss_train = np.empty(epochs)\n",
    "    loss_validation = np.empty(epochs)\n",
    "\n",
    "    for epoch in range(epochs):\n",
    "\n",
    "        autoencoder.train()\n",
    "        for batchidx, x in enumerate(trainDataLoader):\n",
    "            x = x[0].cuda()\n",
    "            encoded, decoded = autoencoder(x)\n",
    "            loss_overall = loss_func(decoded, x)\n",
    "            weighted_lossTrain = loss_overall\n",
    "\n",
    "            optimizer.zero_grad()\n",
    "            weighted_lossTrain.backward()\n",
    "            optimizer.step()\n",
    "            \n",
    "        autoencoder.eval()\n",
    "        with torch.no_grad():\n",
    "            val_loss = 0\n",
    "            for batchidx, x in enumerate(validationDataLoader):\n",
    "                x = x[0].cuda()\n",
    "                encoded, decoded = autoencoder(x)\n",
    "                lossVal = loss_func(decoded, x)\n",
    "                val_loss += lossVal.item()\n",
    "\n",
    "            val_loss /= len(validationDataLoader)\n",
    "\n",
    "        loss_train[epoch] = weighted_lossTrain.item()\n",
    "        loss_validation[epoch] = val_loss\n",
    "    \n",
    "    autoencoder.cpu().eval()\n",
    "    _, ax = plt.subplots(1, 2, figsize=(14, 5))\n",
    "    ax[0].plot(loss_train)\n",
    "    ax[0].plot(loss_validation)\n",
    "    \n",
    "    dcd_train = autoencoder(torch.FloatTensor(X_train))[1].detach().numpy()\n",
    "    err_train = np.var(X_train-dcd_train, axis=1)\n",
    "    dcd_test = autoencoder(torch.FloatTensor(X_test))[1].detach().numpy()\n",
    "    err_test = np.var(X_test-dcd_test, axis=1)\n",
    "    foo = ax[1].hist(err_train, range=(0, max(err_train)), bins=50, density=True, histtype=\"step\")\n",
    "    foo = ax[1].hist(err_test, range=(0, max(err_train)), bins=50, density=True, histtype=\"step\")\n",
    "    \n",
    "    plt.savefig(\"../Pic_cached/SequentialTraining/WSL/training_AE_\"+cutID+\"_\" + version + \"_\" + datatype +\"_trained.jpg\")\n",
    "    plt.close()\n",
    "            \n",
    "    return autoencoder.cpu().eval()"
   ]
  },
  {
   "cell_type": "code",
   "execution_count": 37,
   "metadata": {},
   "outputs": [],
   "source": [
    "def trainWSC(dataset0, dataset1, cutID, version, datatype):\n",
    "# dataset0: bkg set from AE\n",
    "# dataset1: identified signal from AE\n",
    "    \n",
    "    nTotal0, nTotal1 = len(dataset0), len(dataset1);\n",
    "    nTrain0, nTrain1 = int(rTrain * nTotal0), int(rTrain * nTotal1)\n",
    "    nTest0 , nTest1  = int(rTest * nTotal0) , int(rTest * nTotal1)\n",
    "\n",
    "    X_train = np.concatenate((dataset0[:nTrain0], dataset1[:nTrain1]))\n",
    "    X_test = np.concatenate((dataset0[-nTest0:], dataset1[-nTest1:]))\n",
    "    X_validation = np.concatenate((dataset0[nTrain0:-nTest0], dataset1[nTrain1:-nTest1]))\n",
    "    \n",
    "    Y_train = np.concatenate((np.zeros((nTrain0, 1)), np.ones((nTrain1, 1))))\n",
    "    Y_test = np.concatenate((np.zeros((nTest0, 1)), np.ones((nTest1, 1))))\n",
    "    Y_validation = np.concatenate((np.zeros((dataset0[nTrain0:-nTest0].shape[0], 1)), np.ones((dataset1[nTrain1:-nTest1].shape[0], 1))))\n",
    "\n",
    "#     trainData = torch.FloatTensor(X_train)\n",
    "#     testData = torch.FloatTensor(X_test)\n",
    "#     validationData = torch.FloatTensor(X_validation)\n",
    "\n",
    "    train_dataset = TensorDataset(torch.FloatTensor(X_train), torch.FloatTensor(Y_train))\n",
    "    validation_dataset = TensorDataset(torch.FloatTensor(X_validation), torch.FloatTensor(Y_validation))\n",
    "#     train_dataset = TensorDataset(torch.FloatTensor(X_train.reshape((X_train.shape[0], 1, X_train.shape[1]))), torch.FloatTensor(Y_train.reshape((Y_train.shape[0], 1, Y_train.shape[1]))))\n",
    "#     validation_dataset = TensorDataset(torch.FloatTensor(X_validation.reshape((X_validation.shape[0], 1, X_validation.shape[1]))), torch.FloatTensor(Y_validation.reshape((Y_validation.shape[0], 1, Y_validation.shape[1]))))\n",
    "\n",
    "    trainDataLoader = DataLoader(dataset=train_dataset, batch_size=batch_size, shuffle=True, drop_last=True)\n",
    "    validationDataLoader = DataLoader(dataset=validation_dataset, batch_size=batch_size, shuffle = True, drop_last=True)\n",
    "\n",
    "    wsc = WSClassifier().cuda()\n",
    "    optimizer = optim.Adam(wsc.parameters(), lr=0.00005)\n",
    "    loss_func = nn.BCEWithLogitsLoss(pos_weight=torch.FloatTensor([nTrain0/nTrain1])).cuda()\n",
    "    \n",
    "    loss_train = np.empty(epochs)\n",
    "    loss_validation = np.empty(epochs)\n",
    "\n",
    "    for epoch in range(epochs):\n",
    "#         t0 = time.time()\n",
    "        wsc.train()\n",
    "        for batchidx, (x, y) in enumerate(trainDataLoader):\n",
    "            x = x.cuda()\n",
    "            y = y.cuda()\n",
    "            yprime = wsc(x)\n",
    "            loss = loss_func(yprime, y)\n",
    "\n",
    "            optimizer.zero_grad()\n",
    "            loss.backward()\n",
    "            optimizer.step()\n",
    "            \n",
    "        wsc.eval()\n",
    "        with torch.no_grad():\n",
    "            val_loss = 0\n",
    "            for batchidx, (x, y) in enumerate(validationDataLoader):\n",
    "                x = x.cuda()\n",
    "                y = y.cuda()\n",
    "                yprime = wsc(x)\n",
    "                lossVal = loss_func(yprime, y)\n",
    "                val_loss += lossVal.item()\n",
    "\n",
    "            val_loss /= len(validationDataLoader)\n",
    "\n",
    "        loss_train[epoch] = loss.item()\n",
    "        loss_validation[epoch] = val_loss\n",
    "#         print(time.time() - t0)\n",
    "        \n",
    "    wsc.cpu().eval()\n",
    "    \n",
    "    _, ax = plt.subplots(1, 2, figsize=(14, 5))\n",
    "    ax[0].plot(loss_train)\n",
    "    ax[0].plot(loss_validation)\n",
    "    foo = ax[1].hist(nn.Sigmoid()(wsc(torch.FloatTensor(X_train))).detach().numpy().flatten(), range=(0, 1), bins=20, density=True, histtype=\"step\")\n",
    "    foo = ax[1].hist(nn.Sigmoid()(wsc(torch.FloatTensor(X_test ))).detach().numpy().flatten(), range=(0, 1), bins=20, density=True, histtype=\"step\")\n",
    "    \n",
    "    plt.savefig(\"../Pic_cached/SequentialTraining/WSL/training_WSC_\"+cutID+\"_\" + version + \"_\" + datatype +\"_trained.jpg\")\n",
    "    plt.close()\n",
    "    \n",
    "    return wsc.cpu().eval()"
   ]
  },
  {
   "cell_type": "code",
   "execution_count": 37,
   "metadata": {},
   "outputs": [
    {
     "ename": "NameError",
     "evalue": "name 'dataset0' is not defined",
     "output_type": "error",
     "traceback": [
      "\u001b[1;31m---------------------------------------------------------------------------\u001b[0m",
      "\u001b[1;31mNameError\u001b[0m                                 Traceback (most recent call last)",
      "Cell \u001b[1;32mIn[37], line 1\u001b[0m\n\u001b[1;32m----> 1\u001b[0m model1 \u001b[38;5;241m=\u001b[39m trainWSC(\u001b[43mdataset0\u001b[49m, dataset1, \u001b[38;5;124m\"\u001b[39m\u001b[38;5;124mtest\u001b[39m\u001b[38;5;124m\"\u001b[39m)\u001b[38;5;241m.\u001b[39mcpu()\u001b[38;5;241m.\u001b[39meval();\n",
      "\u001b[1;31mNameError\u001b[0m: name 'dataset0' is not defined"
     ]
    }
   ],
   "source": [
    "model1 = trainWSC(dataset0, dataset1, \"test\").cpu().eval();"
   ]
  },
  {
   "cell_type": "code",
   "execution_count": 75,
   "metadata": {},
   "outputs": [],
   "source": [
    "import itertools"
   ]
  },
  {
   "cell_type": "code",
   "execution_count": 42,
   "metadata": {
    "scrolled": false
   },
   "outputs": [],
   "source": [
    "cnt = 0;\n",
    "\n",
    "ic = np.zeros(4, dtype=\"int\")\n",
    "\n",
    "# loop for only the cut in glitch, noise and bbh as it's not really meaningful to set cut in sg w/o new signals\n",
    "ic[2] = Ncut-1;\n",
    "ic[3] = Ncut-1;\n",
    "\n",
    "# listResult = {};\n",
    "# listResult[\"cut\"] = np.empty((Ncut**(len(list_datatype)-1), len(list_datatype)), dtype=\"int\");\n",
    "# listResult[\"ans\"] = np.empty((Ncut**(len(list_datatype)-1), len(testset)), dtype=\"int\");\n",
    "# listResult[\"accuracy_4\"] = np.empty((Ncut**(len(list_datatype)-1), len(list_datatype)))\n",
    "# listResult[\"accuracy_2\"] = np.empty((Ncut**(len(list_datatype)-1), 2))\n",
    "\n",
    "for ic[0], ic[1] in itertools.product(np.arange(Ncut), np.arange(Ncut)):\n",
    "# for ic[0], ic[1], ic[2], ic[3] in itertools.product(np.arange(Ncut), np.arange(Ncut), np.arange(Ncut), np.arange(Ncut)):\n",
    "    cnt += 1;\n",
    "    \n",
    "    if cnt < 11:\n",
    "        continue\n",
    "    # elif cnt > 85:\n",
    "    #     continue\n",
    "    \n",
    "    t0 = time.time()\n",
    "    data_filtered = {};\n",
    "    for dt in sequence:\n",
    "        data_filtered[dt] = dataset_ae_fft[dt]\n",
    "#     data_filtered[\"noise\"] = bkg_fft;\n",
    "#     data_filtered[\"bbh\"] = bbh_fft;\n",
    "#     data_filtered[\"sg\"] = sg_fft;\n",
    "\n",
    "    dataset_wsl_filtered = dataset_wsl_fft_collected\n",
    "    \n",
    "    cutID = \"\".join(str(ic[j]) for j in range(3)) + \"_\"+version\n",
    "        \n",
    "    for iPrev in range(2):\n",
    "        previousStep = ind2datatype[iPrev];\n",
    "        modelPrev = models[previousStep]; # previous step AE\n",
    "        \n",
    "        # train the WSC according to previous AE's cut\n",
    "        \n",
    "        dataset0 = data_filtered[previousStep] # here they haven't been updated yet\n",
    "        \n",
    "        dcd = modelPrev(torch.FloatTensor(dataset0))[1].detach().numpy();\n",
    "        dataset1 = dataset0[np.var(dataset0-dcd, axis=1) >= cutList[previousStep][ic[iPrev]]]\n",
    "        \n",
    "        dcd = modelPrev(torch.FloatTensor(dataset_wsl_filtered))[1].detach().numpy();\n",
    "        dataset1 = dataset_wsl_filtered[np.var(dataset_wsl_filtered-dcd, axis=1) >= cutList[previousStep][ic[iPrev]]]\n",
    "        \n",
    "        model = trainWSC(dataset0, dataset1, cutID, version, previousStep)\n",
    "        models[previousStep+\"_WSC\"] = model;\n",
    "        \n",
    "        # filter the data according to previous WSC\n",
    "        for j in range(iPrev, 4):\n",
    "            dt = ind2datatype[j];\n",
    "            dcd = nn.Sigmoid()(model(torch.FloatTensor(data_filtered[dt]))).detach().numpy().flatten();\n",
    "            data_filtered[dt] = data_filtered[dt][dcd>0.5]\n",
    "        \n",
    "#         # filter the data\n",
    "#         for j in range(iPrev+1, 4):\n",
    "#             dt = ind2datatype[j];\n",
    "#             dcd = modelPrev(torch.FloatTensor(data_filtered[dt]))[1].detach().numpy()\n",
    "#             data_filtered[dt] = data_filtered[dt][np.var(data_filtered[dt]-dcd, axis=1) >= cutList[previousStep][ic[iPrev]]]            \n",
    "        \n",
    "        # train the current step AE\n",
    "        currentStep = ind2datatype[iPrev+1];\n",
    "        model = trainAE(data_filtered[currentStep], cutID, version, currentStep);\n",
    "        models[currentStep] = model;\n",
    "        \n",
    "    torch.save(models, \"../Data_cached/SequentialTraining/WSL/trained_model\" + \"\".join(str(ic[j]) for j in range(2)) + \"_\"+version+\".json\")\n",
    "    print(models.keys())\n",
    "    \n",
    "#     dcd = {};\n",
    "#     err = {};\n",
    "#     ans = np.zeros(len(testset), dtype=\"int\")\n",
    "    \n",
    "#     for datatype in list_datatype:\n",
    "#         dcd[datatype] = models[datatype](torch.FloatTensor(testset))[1].detach().numpy()\n",
    "#         err[datatype] = np.var(testset-dcd[datatype], axis=1)\n",
    "        \n",
    "#     not_select = np.array([True]*len(testset));\n",
    "\n",
    "#     for iStep in range(len(list_datatype)):\n",
    "#         datatype = ind2datatype[iStep];\n",
    "#         ind_pass = np.logical_and(not_select, err[datatype] <= cutList[datatype][ic[iStep]]);\n",
    "#         ans[ind_pass] = iStep;\n",
    "#         not_select[ind_pass] = False;\n",
    "        \n",
    "#     ans[not_select] = -1;\n",
    "    \n",
    "#     listResult[\"cut\"][cnt] = ic;\n",
    "#     listResult[\"ans\"][cnt] = ans;\n",
    "    \n",
    "#     acc = np.zeros(len(ind2datatype));\n",
    "    \n",
    "#     for i in range(len(ind2datatype)):\n",
    "#         acc[i] = np.sum(np.logical_and(ans==i, correct_ans==i))/Nsample[ind2datatype[i]];\n",
    "        \n",
    "#     listResult[\"accuracy_4\"][cnt] = acc;\n",
    "    \n",
    "#     listResult[\"accuracy_2\"][cnt] = [ np.sum(acc[datatype2ind[dtype]]*Nsample[dtype] for dtype in [\"glitch\", \"noise\"])/np.sum(Nsample[dtype] for dtype in [\"glitch\", \"noise\"]), \n",
    "#                                      np.sum(acc[datatype2ind[dtype]]*Nsample[dtype] for dtype in [\"bbh\", \"sg\"])/np.sum(Nsample[dtype] for dtype in [\"bbh\", \"sg\"])]\n",
    "    # cnt += 1\n",
    "    print(cnt)\n",
    "    print(time.time() - t0)\n",
    "    \n",
    "# listResult[\"total_accuracy\"] = np.sum(listResult[\"ans\"]==correct_ans, axis=1)/len(testset);\n",
    "# torch.save(listResult, \"../data/SequentialTraining/training_performance_\"+version+\".json\")"
   ]
  },
  {
   "cell_type": "code",
   "execution_count": 40,
   "metadata": {},
   "outputs": [],
   "source": [
    "testset = dataset_wsl_fft_collected"
   ]
  },
  {
   "cell_type": "code",
   "execution_count": 171,
   "metadata": {},
   "outputs": [],
   "source": [
    "testset = dataset_reserved_test_collected"
   ]
  },
  {
   "cell_type": "code",
   "execution_count": 109,
   "metadata": {},
   "outputs": [
    {
     "data": {
      "text/plain": [
       "(3000, 202)"
      ]
     },
     "execution_count": 109,
     "metadata": {},
     "output_type": "execute_result"
    }
   ],
   "source": [
    "testset.shape"
   ]
  },
  {
   "cell_type": "code",
   "execution_count": 81,
   "metadata": {},
   "outputs": [],
   "source": [
    "correct_ans = np.hstack(([0]*N_wsl['glitch'], [1]*N_wsl['noise'], [2]*N_wsl['bbh'], [3]*N_wsl['sg']))"
   ]
  },
  {
   "cell_type": "code",
   "execution_count": 81,
   "metadata": {},
   "outputs": [],
   "source": [
    "correct_ans_withoutsignal = np.hstack(([0]*N_wsl['glitch'], [1]*N_wsl['noise'], [-1]*(N_wsl['bbh']+N_wsl['sg'])))"
   ]
  },
  {
   "cell_type": "code",
   "execution_count": 173,
   "metadata": {},
   "outputs": [],
   "source": [
    "correct_ans_withoutsignal = np.hstack(([0]*N_reserved_test['glitch'], [1]*N_reserved_test['noise'], [2]*N_reserved_test['bbh'], [3]*N_reserved_test['sg']))"
   ]
  },
  {
   "cell_type": "code",
   "execution_count": 82,
   "metadata": {},
   "outputs": [
    {
     "data": {
      "text/plain": [
       "(3000,)"
      ]
     },
     "execution_count": 82,
     "metadata": {},
     "output_type": "execute_result"
    }
   ],
   "source": [
    "correct_ans.shape"
   ]
  },
  {
   "cell_type": "code",
   "execution_count": 174,
   "metadata": {},
   "outputs": [
    {
     "data": {
      "text/plain": [
       "(20000,)"
      ]
     },
     "execution_count": 174,
     "metadata": {},
     "output_type": "execute_result"
    }
   ],
   "source": [
    "correct_ans_withoutsignal.shape"
   ]
  },
  {
   "cell_type": "code",
   "execution_count": 83,
   "metadata": {},
   "outputs": [],
   "source": [
    "ic[3] = 0"
   ]
  },
  {
   "cell_type": "code",
   "execution_count": 84,
   "metadata": {},
   "outputs": [],
   "source": [
    "list_datatype_withoutsignal = [\"noise\", \"glitch\"]"
   ]
  },
  {
   "cell_type": "code",
   "execution_count": 85,
   "metadata": {},
   "outputs": [],
   "source": [
    "ic_withoutsignal = np.array([0,0])"
   ]
  },
  {
   "cell_type": "code",
   "execution_count": 86,
   "metadata": {},
   "outputs": [
    {
     "data": {
      "text/plain": [
       "5"
      ]
     },
     "execution_count": 86,
     "metadata": {},
     "output_type": "execute_result"
    }
   ],
   "source": [
    "Ncut"
   ]
  },
  {
   "cell_type": "code",
   "execution_count": 175,
   "metadata": {},
   "outputs": [
    {
     "name": "stdout",
     "output_type": "stream",
     "text": [
      "For cnt = 0, totally 12776 noise events passed the glitch WSL, and 63 noise events within the threshold for TPR=0.9\n",
      "For cnt = 1, totally 12765 noise events passed the glitch WSL, and 146 noise events within the threshold for TPR=0.9\n",
      "For cnt = 2, totally 12606 noise events passed the glitch WSL, and 290 noise events within the threshold for TPR=0.9\n",
      "For cnt = 3, totally 12799 noise events passed the glitch WSL, and 928 noise events within the threshold for TPR=0.9\n",
      "For cnt = 4, totally 12734 noise events passed the glitch WSL, and 3701 noise events within the threshold for TPR=0.9\n",
      "For cnt = 5, totally 12877 noise events passed the glitch WSL, and 57 noise events within the threshold for TPR=0.9\n",
      "For cnt = 6, totally 12878 noise events passed the glitch WSL, and 133 noise events within the threshold for TPR=0.9\n",
      "For cnt = 7, totally 12882 noise events passed the glitch WSL, and 298 noise events within the threshold for TPR=0.9\n",
      "For cnt = 8, totally 12888 noise events passed the glitch WSL, and 576 noise events within the threshold for TPR=0.9\n",
      "For cnt = 9, totally 12882 noise events passed the glitch WSL, and 3395 noise events within the threshold for TPR=0.9\n",
      "For cnt = 10, totally 12934 noise events passed the glitch WSL, and 41 noise events within the threshold for TPR=0.9\n",
      "For cnt = 11, totally 12949 noise events passed the glitch WSL, and 148 noise events within the threshold for TPR=0.9\n",
      "For cnt = 12, totally 12937 noise events passed the glitch WSL, and 309 noise events within the threshold for TPR=0.9\n",
      "For cnt = 13, totally 12946 noise events passed the glitch WSL, and 674 noise events within the threshold for TPR=0.9\n",
      "For cnt = 14, totally 12930 noise events passed the glitch WSL, and 3276 noise events within the threshold for TPR=0.9\n",
      "For cnt = 15, totally 12952 noise events passed the glitch WSL, and 48 noise events within the threshold for TPR=0.9\n",
      "For cnt = 16, totally 12943 noise events passed the glitch WSL, and 82 noise events within the threshold for TPR=0.9\n",
      "For cnt = 17, totally 12942 noise events passed the glitch WSL, and 327 noise events within the threshold for TPR=0.9\n",
      "For cnt = 18, totally 12949 noise events passed the glitch WSL, and 1699 noise events within the threshold for TPR=0.9\n",
      "For cnt = 19, totally 12970 noise events passed the glitch WSL, and 3378 noise events within the threshold for TPR=0.9\n",
      "For cnt = 20, totally 12951 noise events passed the glitch WSL, and 48 noise events within the threshold for TPR=0.9\n",
      "For cnt = 21, totally 12954 noise events passed the glitch WSL, and 163 noise events within the threshold for TPR=0.9\n",
      "For cnt = 22, totally 12962 noise events passed the glitch WSL, and 281 noise events within the threshold for TPR=0.9\n",
      "For cnt = 23, totally 12957 noise events passed the glitch WSL, and 982 noise events within the threshold for TPR=0.9\n",
      "For cnt = 24, totally 12940 noise events passed the glitch WSL, and 1744 noise events within the threshold for TPR=0.9\n"
     ]
    }
   ],
   "source": [
    "listResult = {};\n",
    "listResult[\"cut\"] = np.empty((Ncut**(len(list_datatype_withoutsignal)), len(list_datatype_withoutsignal)), dtype=\"int\");\n",
    "listResult[\"ans\"] = np.empty((Ncut**(len(list_datatype_withoutsignal)), len(testset)), dtype=\"int\");\n",
    "listResult[\"accuracy_4\"] = np.empty((Ncut**(len(list_datatype_withoutsignal)), len(list_datatype_withoutsignal)))\n",
    "listResult[\"accuracy_2\"] = np.empty((Ncut**(len(list_datatype_withoutsignal)), 2))\n",
    "cnt = 0\n",
    "\n",
    "listResult[\"FPR\"] = np.empty((Ncut**(len(list_datatype_withoutsignal)),1))\n",
    "\n",
    "\n",
    "for ic_withoutsignal[0], ic_withoutsignal[1] in itertools.product(np.arange(Ncut), np.arange(Ncut)):\n",
    "\n",
    "    \n",
    "    # if cnt < 86:\n",
    "    #     continue\n",
    "    \n",
    "    t0 = time.time()\n",
    "    data_filtered = {};\n",
    "    for dt in sequence:\n",
    "        data_filtered[dt] = dataset_ae_fft[dt]\n",
    "#     data_filtered[\"noise\"] = bkg_fft;\n",
    "#     data_filtered[\"bbh\"] = bbh_fft;\n",
    "#     data_filtered[\"sg\"] = sg_fft;\n",
    "\n",
    "    dataset_wsl_filtered = dataset_wsl_fft_collected\n",
    "    \n",
    "    cutID = \"\".join(str(ic[j]) for j in range(3)) + \"_\"+version\n",
    "        \n",
    "#     for iPrev in range(3):\n",
    "#         previousStep = ind2datatype[iPrev];\n",
    "#         modelPrev = models[previousStep]; # previous step AE\n",
    "        \n",
    "#         # train the WSC according to previous AE's cut\n",
    "        \n",
    "#         dataset0 = data_filtered[previousStep] # here they haven't been updated yet\n",
    "        \n",
    "#         dcd = modelPrev(torch.FloatTensor(dataset0))[1].detach().numpy();\n",
    "#         dataset1 = dataset0[np.var(dataset0-dcd, axis=1) >= cutList[previousStep][ic[iPrev]]]\n",
    "        \n",
    "#         dcd = modelPrev(torch.FloatTensor(dataset_wsl_filtered))[1].detach().numpy();\n",
    "#         dataset1 = dataset_wsl_filtered[np.var(dataset_wsl_filtered-dcd, axis=1) >= cutList[previousStep][ic[iPrev]]]\n",
    "        \n",
    "#         model = trainWSC(dataset0, dataset1, cutID)\n",
    "#         models[previousStep+\"_WSC\"] = model;\n",
    "        \n",
    "#         # filter the data according to previous WSC\n",
    "#         for j in range(iPrev, 4):\n",
    "#             dt = ind2datatype[j];\n",
    "#             dcd = nn.Sigmoid()(model(torch.FloatTensor(data_filtered[dt]))).detach().numpy().flatten();\n",
    "#             data_filtered[dt] = data_filtered[dt][dcd>0.5]\n",
    "        \n",
    "# #         # filter the data\n",
    "# #         for j in range(iPrev+1, 4):\n",
    "# #             dt = ind2datatype[j];\n",
    "# #             dcd = modelPrev(torch.FloatTensor(data_filtered[dt]))[1].detach().numpy()\n",
    "# #             data_filtered[dt] = data_filtered[dt][np.var(data_filtered[dt]-dcd, axis=1) >= cutList[previousStep][ic[iPrev]]]            \n",
    "        \n",
    "#         # train the current step AE\n",
    "#         currentStep = ind2datatype[iPrev+1];\n",
    "#         model = trainAE(data_filtered[currentStep], cutID);\n",
    "#         models[currentStep] = model;\n",
    "        \n",
    "#     torch.save(models, \"../Data_cached/SequentialTraining/WSL/trained_model\" + \"\".join(str(ic[j]) for j in range(3)) + \"_\"+version+\".json\")\n",
    "#     print(models.keys())\n",
    "    \n",
    "    models = torch.load(\"../Data_cached/SequentialTraining/WSL/trained_model\" + \"\".join(str(ic_withoutsignal[j]) for j in range(2)) + \"_\"+version+\".json\")\n",
    "    # print(\"../Data_cached/SequentialTraining/WSL/trained_model\" + \"\".join(str(ic[j]) for j in range(2)) + \"_\"+version+\".json\")\n",
    "    dcd = {};\n",
    "    err = {};\n",
    "    ans = np.zeros(len(testset), dtype=\"int\")\n",
    "    \n",
    "    for datatype in list_datatype_withoutsignal:\n",
    "        if datatype == 'sg':\n",
    "            dcd[datatype] = models[datatype](torch.FloatTensor(testset))[1].detach().numpy()\n",
    "            err[datatype] = np.var(testset-dcd[datatype], axis=1)\n",
    "        \n",
    "        # elif datatype == 'noise':\n",
    "        #     dcd[datatype] = models[datatype](torch.FloatTensor(testset))[1].detach().numpy()\n",
    "        #     err[datatype] = np.var(testset-dcd[datatype], axis=1)\n",
    "            \n",
    "        else:\n",
    "            dcd[datatype] = nn.Sigmoid()(models[datatype + \"_WSC\"](torch.FloatTensor(testset))).detach().numpy().reshape(-1)\n",
    "        \n",
    "    not_select = np.array([True]*len(testset));\n",
    "\n",
    "    # for iStep in range(len(list_datatype_withoutsignal)):\n",
    "    #     datatype = ind2datatype[iStep];\n",
    "    #     if datatype == 'sg':\n",
    "    #         ind_pass = np.logical_and(not_select, err[datatype] <= cutList[datatype][ic[iStep]]);\n",
    "    #     else:\n",
    "    #         ind_pass = np.logical_and(not_select, dcd[datatype] <= 0.5);\n",
    "    #     ans[ind_pass] = iStep;\n",
    "    #     not_select[ind_pass] = False;\n",
    "        \n",
    "    # Pass glitch first\n",
    "    \n",
    "    datatype = 'glitch'\n",
    "    ind_pass = np.logical_and(not_select, dcd[datatype] <= 0.5)\n",
    "    ans[ind_pass] = 0;\n",
    "    not_select[ind_pass] = False;\n",
    "    # print(dcd['glitch'])\n",
    "    \n",
    "    # Leftover are noise and signals\n",
    "    \n",
    "    datatype = 'noise'\n",
    "    ind_pass = np.logical_and(not_select, dcd[datatype] <= np.sort(dcd[datatype][-N_wsl['bbh']-N_wsl['sg']:])[int(0.1 * (N_wsl['bbh']+N_wsl['sg']))])\n",
    "    # ind_pass = np.logical_and(not_select, err[datatype] <= np.sort(err[datatype][-N_wsl['bbh']-N_wsl['sg']:])[int(0.1 * (N_wsl['bbh']+N_wsl['sg']))])\n",
    "    noise_number = np.sum(np.logical_and(not_select, correct_ans_withoutsignal == 1))\n",
    "    passed_noise_number = noise_number - np.sum(np.logical_and(ind_pass, correct_ans_withoutsignal == 1))\n",
    "    ans[ind_pass] = 1;\n",
    "    not_select[ind_pass] = False;\n",
    "    \n",
    "    ans[not_select] = -1\n",
    "    \n",
    "    FPR = passed_noise_number / noise_number\n",
    "    \n",
    "    # print(dcd['noise'])\n",
    "    print('For cnt = {}, totally {} noise events passed the glitch WSL, and {} noise events within the threshold for TPR=0.9'.format(cnt, noise_number, passed_noise_number))\n",
    "    listResult['FPR'][cnt] = FPR\n",
    "    listResult['cut'][cnt] = ic_withoutsignal\n",
    "        \n",
    "    # ans[not_select] = -1;\n",
    "\n",
    "    # listResult[\"cut\"][cnt] = ic_withoutsignal;\n",
    "    # listResult[\"ans\"][cnt] = ans;\n",
    "\n",
    "    # acc = np.zeros(len(ind2datatype));\n",
    "\n",
    "    # for i in range(len(ind2datatype)):\n",
    "    #     acc[i] = np.sum(np.logical_and(ans==i, correct_ans_withoutsignal==i))/N_wsl[ind2datatype[i]];\n",
    "        \n",
    "    # listResult[\"accuracy_4\"][cnt] = acc;\n",
    "\n",
    "    # listResult[\"accuracy_2\"][cnt] = [ np.sum(acc[datatype2ind[dtype]]*N_wsl[dtype] for dtype in [\"glitch\", \"noise\"])/np.sum(N_wsl[dtype] for dtype in [\"glitch\", \"noise\"]), \n",
    "    #                                     np.sum(acc[datatype2ind[dtype]]*N_wsl[dtype] for dtype in [\"bbh\", \"sg\"])/np.sum(N_wsl[dtype] for dtype in [\"bbh\", \"sg\"])]\n",
    "\n",
    "    cnt += 1;"
   ]
  },
  {
   "cell_type": "code",
   "execution_count": 168,
   "metadata": {},
   "outputs": [
    {
     "data": {
      "text/plain": [
       "array([[0.00491109],\n",
       "       [0.00763618],\n",
       "       [0.01615398],\n",
       "       [0.02552832],\n",
       "       [0.3534116 ],\n",
       "       [0.00538358],\n",
       "       [0.00857143],\n",
       "       [0.01058646],\n",
       "       [0.02269289],\n",
       "       [0.26255669],\n",
       "       [0.00435657],\n",
       "       [0.01003512],\n",
       "       [0.01658014],\n",
       "       [0.02795447],\n",
       "       [0.22990623],\n",
       "       [0.00518742],\n",
       "       [0.00602611],\n",
       "       [0.01271754],\n",
       "       [0.02942652],\n",
       "       [0.24256599],\n",
       "       [0.00384808],\n",
       "       [0.00886436],\n",
       "       [0.01120401],\n",
       "       [0.03178321],\n",
       "       [0.13259669]])"
      ]
     },
     "execution_count": 168,
     "metadata": {},
     "output_type": "execute_result"
    }
   ],
   "source": [
    "listResult['FPR']"
   ]
  },
  {
   "cell_type": "code",
   "execution_count": 176,
   "metadata": {},
   "outputs": [
    {
     "name": "stdout",
     "output_type": "stream",
     "text": [
      "[2 0]\n",
      "0.0031699396938302147\n"
     ]
    }
   ],
   "source": [
    "# This is the result for 0.05, 0.65, 0.15, 0.15\n",
    "\n",
    "print(listResult['cut'][np.argmin(listResult['FPR'])])\n",
    "print(listResult['FPR'].min())"
   ]
  },
  {
   "cell_type": "code",
   "execution_count": 167,
   "metadata": {},
   "outputs": [
    {
     "name": "stdout",
     "output_type": "stream",
     "text": [
      "[4 0]\n",
      "0.003848084323239083\n"
     ]
    }
   ],
   "source": [
    "# This is the result for 0.1, 0.3, 0.3, 0.3\n",
    "\n",
    "print(listResult['cut'][np.argmin(listResult['FPR'])])\n",
    "print(listResult['FPR'].min())"
   ]
  },
  {
   "cell_type": "code",
   "execution_count": 126,
   "metadata": {},
   "outputs": [
    {
     "data": {
      "text/plain": [
       "(597, 1)"
      ]
     },
     "execution_count": 126,
     "metadata": {},
     "output_type": "execute_result"
    }
   ],
   "source": [
    "np.argwhere(ans[-6000:] == 1).shape"
   ]
  },
  {
   "cell_type": "code",
   "execution_count": 129,
   "metadata": {},
   "outputs": [
    {
     "data": {
      "text/plain": [
       "22500"
      ]
     },
     "execution_count": 129,
     "metadata": {},
     "output_type": "execute_result"
    }
   ],
   "source": [
    "N_wsl['noise']"
   ]
  },
  {
   "cell_type": "code",
   "execution_count": 133,
   "metadata": {},
   "outputs": [
    {
     "data": {
      "text/plain": [
       "(19118, 1)"
      ]
     },
     "execution_count": 133,
     "metadata": {},
     "output_type": "execute_result"
    }
   ],
   "source": [
    "np.argwhere(ans[1500:-6000] == 1).shape"
   ]
  },
  {
   "cell_type": "code",
   "execution_count": 132,
   "metadata": {},
   "outputs": [
    {
     "data": {
      "text/plain": [
       "(3320, 1)"
      ]
     },
     "execution_count": 132,
     "metadata": {},
     "output_type": "execute_result"
    }
   ],
   "source": [
    "np.argwhere(ans[1500:-6000] == -1).shape"
   ]
  },
  {
   "cell_type": "code",
   "execution_count": 102,
   "metadata": {},
   "outputs": [
    {
     "data": {
      "text/plain": [
       "(5398, 1)"
      ]
     },
     "execution_count": 102,
     "metadata": {},
     "output_type": "execute_result"
    }
   ],
   "source": [
    "np.argwhere(ans[-6000:] == -1).shape"
   ]
  },
  {
   "cell_type": "code",
   "execution_count": 103,
   "metadata": {},
   "outputs": [
    {
     "data": {
      "text/plain": [
       "(135, 1)"
      ]
     },
     "execution_count": 103,
     "metadata": {},
     "output_type": "execute_result"
    }
   ],
   "source": [
    "np.argwhere(ans[1500:-6000] == -1).shape"
   ]
  },
  {
   "cell_type": "code",
   "execution_count": 87,
   "metadata": {},
   "outputs": [],
   "source": [
    "models = torch.load(\"../Data_cached/SequentialTraining/WSL/trained_model\" + \"04\" + \"_\"+version+\".json\")"
   ]
  },
  {
   "cell_type": "code",
   "execution_count": 140,
   "metadata": {},
   "outputs": [
    {
     "data": {
      "text/plain": [
       "{'noise': array([[0.07080046, 0.09553859, 0.19265593, ..., 0.005506  , 0.00548673,\n",
       "         0.00548033],\n",
       "        [0.00350913, 0.01590752, 0.04546304, ..., 0.00958689, 0.0095726 ,\n",
       "         0.00956786],\n",
       "        [0.02841971, 0.02774303, 0.12648465, ..., 0.00032194, 0.00025489,\n",
       "         0.00022843],\n",
       "        ...,\n",
       "        [0.01154601, 0.02048553, 0.07837814, ..., 0.00322309, 0.00322733,\n",
       "         0.00322873],\n",
       "        [0.02085013, 0.02871224, 0.07719078, ..., 0.00583792, 0.00581294,\n",
       "         0.00580466],\n",
       "        [0.02815016, 0.04444268, 0.06928183, ..., 0.00045849, 0.00046117,\n",
       "         0.00046205]]),\n",
       " 'bbh': array([[0.03002271, 0.05669204, 0.20245602, ..., 0.00119762, 0.00119157,\n",
       "         0.00118956],\n",
       "        [0.03218402, 0.02064762, 0.34987885, ..., 0.00649457, 0.00647916,\n",
       "         0.00647405],\n",
       "        [0.0601964 , 0.07775103, 0.32046378, ..., 0.00607216, 0.00606419,\n",
       "         0.00606152],\n",
       "        ...,\n",
       "        [0.04526151, 0.07766662, 0.34861724, ..., 0.00926247, 0.00922017,\n",
       "         0.00920612],\n",
       "        [0.00079433, 0.01143785, 0.2345061 , ..., 0.00668154, 0.00667231,\n",
       "         0.00666924],\n",
       "        [0.00137241, 0.06905673, 0.08808694, ..., 0.00482827, 0.00478788,\n",
       "         0.00477444]]),\n",
       " 'sg': array([[0.02320987, 0.07433789, 0.22149826, ..., 0.0041672 , 0.00416331,\n",
       "         0.00416201],\n",
       "        [0.00802508, 0.08663775, 0.19075297, ..., 0.00575135, 0.00573856,\n",
       "         0.00573431],\n",
       "        [0.02850385, 0.04338768, 0.02297616, ..., 0.00627538, 0.00624453,\n",
       "         0.0062343 ],\n",
       "        ...,\n",
       "        [0.01337463, 0.03099831, 0.05329237, ..., 0.01026234, 0.01022763,\n",
       "         0.01021612],\n",
       "        [0.03031755, 0.02143605, 0.1534227 , ..., 0.00098804, 0.00097282,\n",
       "         0.00096774],\n",
       "        [0.01673258, 0.03090892, 0.05771148, ..., 0.0062876 , 0.00627377,\n",
       "         0.00626919]]),\n",
       " 'glitch': array([[2.27921991e-02, 1.75923960e-01, 3.68760765e-01, ...,\n",
       "         7.02005348e-04, 6.83068204e-04, 6.76667176e-04],\n",
       "        [3.46342896e-02, 3.42021146e-02, 1.24853096e-01, ...,\n",
       "         4.81670967e-03, 4.81758356e-03, 4.81786068e-03],\n",
       "        [1.19401528e-02, 1.26018231e-02, 1.45689437e-02, ...,\n",
       "         1.05258335e-02, 1.05059836e-02, 1.04993900e-02],\n",
       "        ...,\n",
       "        [3.13160050e-02, 3.51462135e-02, 8.85122326e-02, ...,\n",
       "         3.46721172e-03, 3.43485877e-03, 3.42412581e-03],\n",
       "        [7.33158548e-02, 1.09063669e-01, 1.67519192e-01, ...,\n",
       "         2.54058503e-04, 1.41085540e-04, 7.20454745e-05],\n",
       "        [1.44186695e-02, 2.82697829e-02, 1.19993250e-01, ...,\n",
       "         5.63853858e-03, 5.61369023e-03, 5.60542895e-03]])}"
      ]
     },
     "execution_count": 140,
     "metadata": {},
     "output_type": "execute_result"
    }
   ],
   "source": [
    "dataset_wsl_fft"
   ]
  },
  {
   "cell_type": "code",
   "execution_count": 141,
   "metadata": {},
   "outputs": [
    {
     "data": {
      "text/plain": [
       "(0.0, 2000.0)"
      ]
     },
     "execution_count": 141,
     "metadata": {},
     "output_type": "execute_result"
    },
    {
     "data": {
      "image/png": "[encoded data removed]",
      "text/plain": [
       "<Figure size 640x480 with 1 Axes>"
      ]
     },
     "metadata": {},
     "output_type": "display_data"
    }
   ],
   "source": [
    "model = models['noise']\n",
    "\n",
    "bkg_filtered = dataset_wsl_fft['noise']\n",
    "bbh_filtered = dataset_wsl_fft['bbh']\n",
    "sg_filtered = dataset_wsl_fft['sg']\n",
    "\n",
    "# c0[currentStep] = 0.0022;\n",
    "\n",
    "dcd_bkg = model(torch.FloatTensor(bkg_filtered))[1].detach().numpy()\n",
    "dcd_bbh = model(torch.FloatTensor(bbh_filtered))[1].detach().numpy()\n",
    "dcd_sg = model(torch.FloatTensor(sg_filtered))[1].detach().numpy()\n",
    "# dcd_glitch = model(torch.FloatTensor(glitch_fft))[1].detach().numpy()\n",
    "\n",
    "foo = plt.hist(np.var(bkg_filtered-dcd_bkg, axis=1), histtype=\"step\", range=(0, 0.01), bins=50, density=True, label=\"noise\")\n",
    "foo = plt.hist(np.var(bbh_filtered-dcd_bbh, axis=1), histtype=\"step\", range=(0, 0.01), bins=50, density=True, label=\"bbh\")\n",
    "foo = plt.hist(np.var(sg_filtered-dcd_sg, axis=1), histtype=\"step\", range=(0, 0.01), bins=50, density=True, label=\"sg\")\n",
    "# foo = plt.hist(np.var(glitch_fft-dcd_glitch, axis=1), histtype=\"step\", range=(0, 0.01), bins=50, density=True, label=\"glitch\")\n",
    "plt.title(\"trained with noise\")\n",
    "# plt.axvline(c0[currentStep], color=\"k\", linestyle=\"--\")\n",
    "plt.axvline(np.sort(np.var(bbh_filtered-dcd_bbh, axis=1))[int(0.1 * len(bbh_filtered))], color = 'k', linestyle = '--')\n",
    "plt.legend()\n",
    "plt.ylim(0,2000)"
   ]
  },
  {
   "cell_type": "code",
   "execution_count": 147,
   "metadata": {},
   "outputs": [
    {
     "data": {
      "text/plain": [
       "WSClassifier(\n",
       "  (fc1): Linear(in_features=202, out_features=32, bias=True)\n",
       "  (norm1): BatchNorm1d(32, eps=1e-05, momentum=0.1, affine=True, track_running_stats=True)\n",
       "  (relu): ReLU()\n",
       "  (sigmoid): Sigmoid()\n",
       "  (fc2): Linear(in_features=32, out_features=1, bias=True)\n",
       ")"
      ]
     },
     "execution_count": 147,
     "metadata": {},
     "output_type": "execute_result"
    }
   ],
   "source": [
    "model"
   ]
  },
  {
   "cell_type": "code",
   "execution_count": 146,
   "metadata": {},
   "outputs": [
    {
     "data": {
      "text/plain": [
       "<matplotlib.legend.Legend at 0x1771a328c50>"
      ]
     },
     "execution_count": 146,
     "metadata": {},
     "output_type": "execute_result"
    },
    {
     "data": {
      "image/png": "[encoded data removed]",
      "text/plain": [
       "<Figure size 640x480 with 1 Axes>"
      ]
     },
     "metadata": {},
     "output_type": "display_data"
    }
   ],
   "source": [
    "model = models['noise_WSC']\n",
    "\n",
    "bkg_filtered = dataset_wsl_fft['noise']\n",
    "bbh_filtered = dataset_wsl_fft['bbh']\n",
    "sg_filtered = dataset_wsl_fft['sg']\n",
    "\n",
    "# c0[currentStep] = 0.0022;\n",
    "\n",
    "dcd_bkg = nn.Sigmoid()(model(torch.FloatTensor(bkg_filtered))).detach().numpy()\n",
    "dcd_bbh = nn.Sigmoid()(model(torch.FloatTensor(bbh_filtered))).detach().numpy()\n",
    "dcd_sg = nn.Sigmoid()(model(torch.FloatTensor(sg_filtered))).detach().numpy()\n",
    "# dcd_glitch = model(torch.FloatTensor(glitch_fft))[1].detach().numpy()\n",
    "\n",
    "# foo = plt.hist(np.var(bkg_filtered-dcd_bkg, axis=1), histtype=\"step\", range=(0, 0.01), bins=50, density=True, label=\"noise\")\n",
    "# foo = plt.hist(np.var(bbh_filtered-dcd_bbh, axis=1), histtype=\"step\", range=(0, 0.01), bins=50, density=True, label=\"bbh\")\n",
    "# foo = plt.hist(np.var(sg_filtered-dcd_sg, axis=1), histtype=\"step\", range=(0, 0.01), bins=50, density=True, label=\"sg\")\n",
    "# foo = plt.hist(np.var(glitch_fft-dcd_glitch, axis=1), histtype=\"step\", range=(0, 0.01), bins=50, density=True, label=\"glitch\")\n",
    "foo = plt.hist(dcd_bkg, histtype=\"step\", range=(0, 1), bins=50, density=True, label=\"noise\")\n",
    "foo = plt.hist(dcd_bbh, histtype=\"step\", range=(0, 1), bins=50, density=True, label=\"bbh\")\n",
    "foo = plt.hist(dcd_sg, histtype=\"step\", range=(0, 1), bins=50, density=True, label=\"sg\")\n",
    "plt.title(\"trained with noise\")\n",
    "# plt.axvline(c0[currentStep], color=\"k\", linestyle=\"--\")\n",
    "plt.axvline(np.sort(dcd_bbh.flatten())[int(0.1 * len(bbh_filtered))], color = 'k', linestyle = '--')\n",
    "plt.legend()\n",
    "# plt.ylim(0,2000)"
   ]
  },
  {
   "cell_type": "code",
   "execution_count": 135,
   "metadata": {},
   "outputs": [
    {
     "data": {
      "text/plain": [
       "array([[0.00560376],\n",
       "       [0.01588806],\n",
       "       [0.02525922],\n",
       "       [0.07428777],\n",
       "       [0.29004525],\n",
       "       [0.00577879],\n",
       "       [0.01164927],\n",
       "       [0.02279853],\n",
       "       [0.04604085],\n",
       "       [0.27701613],\n",
       "       [0.00392454],\n",
       "       [0.0139595 ],\n",
       "       [0.02496768],\n",
       "       [0.04971686],\n",
       "       [0.27548517],\n",
       "       [0.00623608],\n",
       "       [0.0083835 ],\n",
       "       [0.02873179],\n",
       "       [0.14465073],\n",
       "       [0.30256365],\n",
       "       [0.00623664],\n",
       "       [0.01376821],\n",
       "       [0.02466388],\n",
       "       [0.08350033],\n",
       "       [0.14796328]])"
      ]
     },
     "execution_count": 135,
     "metadata": {},
     "output_type": "execute_result"
    }
   ],
   "source": [
    "listResult['FPR']"
   ]
  },
  {
   "cell_type": "code",
   "execution_count": 155,
   "metadata": {},
   "outputs": [
    {
     "data": {
      "text/plain": [
       "0.003924541765151853"
      ]
     },
     "execution_count": 155,
     "metadata": {},
     "output_type": "execute_result"
    }
   ],
   "source": [
    "listResult['FPR'].min()"
   ]
  },
  {
   "cell_type": "code",
   "execution_count": 151,
   "metadata": {},
   "outputs": [
    {
     "data": {
      "text/plain": [
       "array([], shape=(0, 1), dtype=float64)"
      ]
     },
     "execution_count": 151,
     "metadata": {},
     "output_type": "execute_result"
    }
   ],
   "source": [
    "listResult['FPR'][np.argwhere(listResult['cut'] == [2,0]).flatten()]"
   ]
  },
  {
   "cell_type": "code",
   "execution_count": 138,
   "metadata": {},
   "outputs": [
    {
     "data": {
      "text/plain": [
       "array([[0.0382321 ],\n",
       "       [0.03678628],\n",
       "       [0.03791166],\n",
       "       [0.0369185 ],\n",
       "       [0.03972851],\n",
       "       [0.03664382],\n",
       "       [0.03754649],\n",
       "       [0.03628057],\n",
       "       [0.03802401],\n",
       "       [0.03817204],\n",
       "       [0.0379521 ],\n",
       "       [0.04192311],\n",
       "       [0.03758527],\n",
       "       [0.03910465],\n",
       "       [0.03774258],\n",
       "       [0.03995546],\n",
       "       [0.0367893 ],\n",
       "       [0.03808633],\n",
       "       [0.03779885],\n",
       "       [0.03760904],\n",
       "       [0.03973628],\n",
       "       [0.03720536],\n",
       "       [0.03948891],\n",
       "       [0.04333111],\n",
       "       [0.03725822]])"
      ]
     },
     "execution_count": 138,
     "metadata": {},
     "output_type": "execute_result"
    }
   ],
   "source": [
    "listResult['FPR']"
   ]
  },
  {
   "cell_type": "code",
   "execution_count": 104,
   "metadata": {},
   "outputs": [
    {
     "data": {
      "text/plain": [
       "0.006"
      ]
     },
     "execution_count": 104,
     "metadata": {},
     "output_type": "execute_result"
    }
   ],
   "source": [
    "135 / 22500"
   ]
  },
  {
   "cell_type": "code",
   "execution_count": 115,
   "metadata": {},
   "outputs": [
    {
     "data": {
      "text/plain": [
       "{'glitch': array([0.0024 , 0.00215, 0.0019 , 0.00165, 0.0014 ]),\n",
       " 'noise': array([0.0026, 0.0024, 0.0022, 0.002 , 0.0018]),\n",
       " 'bbh': array([0.0024 , 0.00215, 0.0019 , 0.00165, 0.0014 ]),\n",
       " 'sg': array([0.0032, 0.0026, 0.002 , 0.0014, 0.0008])}"
      ]
     },
     "execution_count": 115,
     "metadata": {},
     "output_type": "execute_result"
    }
   ],
   "source": [
    "cutList"
   ]
  },
  {
   "cell_type": "code",
   "execution_count": 81,
   "metadata": {},
   "outputs": [
    {
     "data": {
      "text/plain": [
       "Text(0, 0.5, 'percentage')"
      ]
     },
     "execution_count": 81,
     "metadata": {},
     "output_type": "execute_result"
    },
    {
     "data": {
      "image/png": "[encoded data removed]",
      "text/plain": [
       "<Figure size 640x480 with 1 Axes>"
      ]
     },
     "metadata": {},
     "output_type": "display_data"
    }
   ],
   "source": [
    "foo = np.array([ [0.01*A, np.sum(np.all(listResult[\"accuracy_4\"] >= 0.01*A, axis=1))/len(listResult[\"accuracy_4\"])] for A in range(101)])\n",
    "plt.plot(foo[:, 0], foo[:, 1])\n",
    "plt.title('4-class accuracy')\n",
    "plt.xlabel('minimal accuracy larger than...')\n",
    "plt.ylabel('percentage')"
   ]
  },
  {
   "cell_type": "code",
   "execution_count": 83,
   "metadata": {},
   "outputs": [
    {
     "data": {
      "text/plain": [
       "array([[0.998     , 0.94366667, 0.95925   , 0.81125   ]])"
      ]
     },
     "execution_count": 83,
     "metadata": {},
     "output_type": "execute_result"
    }
   ],
   "source": [
    "listResult[\"accuracy_4\"][np.argwhere(np.all(listResult[\"accuracy_4\"]>0.8, axis=1)).flatten()]"
   ]
  },
  {
   "cell_type": "code",
   "execution_count": 82,
   "metadata": {},
   "outputs": [
    {
     "data": {
      "text/plain": [
       "Text(0, 0.5, 'percentage')"
      ]
     },
     "execution_count": 82,
     "metadata": {},
     "output_type": "execute_result"
    },
    {
     "data": {
      "image/png": "[encoded data removed]",
      "text/plain": [
       "<Figure size 640x480 with 1 Axes>"
      ]
     },
     "metadata": {},
     "output_type": "display_data"
    }
   ],
   "source": [
    "foo = np.array([ [0.01*A, np.sum(np.all(listResult[\"accuracy_2\"] >= 0.01*A, axis=1))/len(listResult[\"accuracy_2\"])] for A in range(101)])\n",
    "plt.plot(foo[:, 0], foo[:, 1])\n",
    "plt.title('2-class accuracy')\n",
    "plt.xlabel('minimal accuracy larger than...')\n",
    "plt.ylabel('percentage')"
   ]
  },
  {
   "cell_type": "code",
   "execution_count": 84,
   "metadata": {},
   "outputs": [],
   "source": [
    "listResult[\"total_accuracy\"] = np.sum(listResult[\"ans\"]==correct_ans, axis=1)/len(testset)"
   ]
  },
  {
   "cell_type": "code",
   "execution_count": 87,
   "metadata": {},
   "outputs": [
    {
     "data": {
      "text/plain": [
       "0.96345"
      ]
     },
     "execution_count": 87,
     "metadata": {},
     "output_type": "execute_result"
    }
   ],
   "source": [
    "listResult['total_accuracy'].max()"
   ]
  },
  {
   "cell_type": "code",
   "execution_count": 88,
   "metadata": {},
   "outputs": [
    {
     "data": {
      "text/plain": [
       "array([[0.999     , 0.95303333, 0.91975   , 0.69625   ]])"
      ]
     },
     "execution_count": 88,
     "metadata": {},
     "output_type": "execute_result"
    }
   ],
   "source": [
    "listResult[\"accuracy_4\"][np.argmax(listResult[\"accuracy_4\"]>0.8).flatten()]"
   ]
  },
  {
   "cell_type": "code",
   "execution_count": null,
   "metadata": {},
   "outputs": [],
   "source": []
  },
  {
   "cell_type": "code",
   "execution_count": 66,
   "metadata": {},
   "outputs": [
    {
     "data": {
      "text/plain": [
       "array([[83]], dtype=int64)"
      ]
     },
     "execution_count": 66,
     "metadata": {},
     "output_type": "execute_result"
    }
   ],
   "source": [
    "np.argwhere(np.all(np.array(list(itertools.product(np.arange(Ncut), np.arange(Ncut), np.arange(Ncut)))) == np.array([3,1,3]), axis = 1))"
   ]
  },
  {
   "cell_type": "code",
   "execution_count": 62,
   "metadata": {},
   "outputs": [
    {
     "data": {
      "text/plain": [
       "array([[0, 0, 0],\n",
       "       [0, 0, 1],\n",
       "       [0, 0, 2],\n",
       "       [0, 0, 3],\n",
       "       [0, 0, 4],\n",
       "       [0, 1, 0],\n",
       "       [0, 1, 1],\n",
       "       [0, 1, 2],\n",
       "       [0, 1, 3],\n",
       "       [0, 1, 4],\n",
       "       [0, 2, 0],\n",
       "       [0, 2, 1],\n",
       "       [0, 2, 2],\n",
       "       [0, 2, 3],\n",
       "       [0, 2, 4],\n",
       "       [0, 3, 0],\n",
       "       [0, 3, 1],\n",
       "       [0, 3, 2],\n",
       "       [0, 3, 3],\n",
       "       [0, 3, 4],\n",
       "       [0, 4, 0],\n",
       "       [0, 4, 1],\n",
       "       [0, 4, 2],\n",
       "       [0, 4, 3],\n",
       "       [0, 4, 4],\n",
       "       [1, 0, 0],\n",
       "       [1, 0, 1],\n",
       "       [1, 0, 2],\n",
       "       [1, 0, 3],\n",
       "       [1, 0, 4],\n",
       "       [1, 1, 0],\n",
       "       [1, 1, 1],\n",
       "       [1, 1, 2],\n",
       "       [1, 1, 3],\n",
       "       [1, 1, 4],\n",
       "       [1, 2, 0],\n",
       "       [1, 2, 1],\n",
       "       [1, 2, 2],\n",
       "       [1, 2, 3],\n",
       "       [1, 2, 4],\n",
       "       [1, 3, 0],\n",
       "       [1, 3, 1],\n",
       "       [1, 3, 2],\n",
       "       [1, 3, 3],\n",
       "       [1, 3, 4],\n",
       "       [1, 4, 0],\n",
       "       [1, 4, 1],\n",
       "       [1, 4, 2],\n",
       "       [1, 4, 3],\n",
       "       [1, 4, 4],\n",
       "       [2, 0, 0],\n",
       "       [2, 0, 1],\n",
       "       [2, 0, 2],\n",
       "       [2, 0, 3],\n",
       "       [2, 0, 4],\n",
       "       [2, 1, 0],\n",
       "       [2, 1, 1],\n",
       "       [2, 1, 2],\n",
       "       [2, 1, 3],\n",
       "       [2, 1, 4],\n",
       "       [2, 2, 0],\n",
       "       [2, 2, 1],\n",
       "       [2, 2, 2],\n",
       "       [2, 2, 3],\n",
       "       [2, 2, 4],\n",
       "       [2, 3, 0],\n",
       "       [2, 3, 1],\n",
       "       [2, 3, 2],\n",
       "       [2, 3, 3],\n",
       "       [2, 3, 4],\n",
       "       [2, 4, 0],\n",
       "       [2, 4, 1],\n",
       "       [2, 4, 2],\n",
       "       [2, 4, 3],\n",
       "       [2, 4, 4],\n",
       "       [3, 0, 0],\n",
       "       [3, 0, 1],\n",
       "       [3, 0, 2],\n",
       "       [3, 0, 3],\n",
       "       [3, 0, 4],\n",
       "       [3, 1, 0],\n",
       "       [3, 1, 1],\n",
       "       [3, 1, 2],\n",
       "       [3, 1, 3],\n",
       "       [3, 1, 4],\n",
       "       [3, 2, 0],\n",
       "       [3, 2, 1],\n",
       "       [3, 2, 2],\n",
       "       [3, 2, 3],\n",
       "       [3, 2, 4],\n",
       "       [3, 3, 0],\n",
       "       [3, 3, 1],\n",
       "       [3, 3, 2],\n",
       "       [3, 3, 3],\n",
       "       [3, 3, 4],\n",
       "       [3, 4, 0],\n",
       "       [3, 4, 1],\n",
       "       [3, 4, 2],\n",
       "       [3, 4, 3],\n",
       "       [3, 4, 4],\n",
       "       [4, 0, 0],\n",
       "       [4, 0, 1],\n",
       "       [4, 0, 2],\n",
       "       [4, 0, 3],\n",
       "       [4, 0, 4],\n",
       "       [4, 1, 0],\n",
       "       [4, 1, 1],\n",
       "       [4, 1, 2],\n",
       "       [4, 1, 3],\n",
       "       [4, 1, 4],\n",
       "       [4, 2, 0],\n",
       "       [4, 2, 1],\n",
       "       [4, 2, 2],\n",
       "       [4, 2, 3],\n",
       "       [4, 2, 4],\n",
       "       [4, 3, 0],\n",
       "       [4, 3, 1],\n",
       "       [4, 3, 2],\n",
       "       [4, 3, 3],\n",
       "       [4, 3, 4],\n",
       "       [4, 4, 0],\n",
       "       [4, 4, 1],\n",
       "       [4, 4, 2],\n",
       "       [4, 4, 3],\n",
       "       [4, 4, 4]])"
      ]
     },
     "execution_count": 62,
     "metadata": {},
     "output_type": "execute_result"
    }
   ],
   "source": [
    "np.array(list(itertools.product(np.arange(Ncut), np.arange(Ncut), np.arange(Ncut))))"
   ]
  },
  {
   "cell_type": "code",
   "execution_count": 73,
   "metadata": {},
   "outputs": [
    {
     "data": {
      "text/plain": [
       "array([4, 4, 4, 4])"
      ]
     },
     "execution_count": 73,
     "metadata": {},
     "output_type": "execute_result"
    }
   ],
   "source": [
    "ic"
   ]
  },
  {
   "cell_type": "code",
   "execution_count": 49,
   "metadata": {},
   "outputs": [
    {
     "data": {
      "text/plain": [
       "{'glitch': array([0.0024 , 0.00215, 0.0019 , 0.00165, 0.0014 ]),\n",
       " 'noise': array([0.0026 , 0.00235, 0.0021 , 0.00185, 0.0016 ]),\n",
       " 'bbh': array([0.0024 , 0.00215, 0.0019 , 0.00165, 0.0014 ]),\n",
       " 'sg': array([0.0032, 0.0026, 0.002 , 0.0014, 0.0008])}"
      ]
     },
     "execution_count": 49,
     "metadata": {},
     "output_type": "execute_result"
    }
   ],
   "source": [
    "cutList"
   ]
  },
  {
   "cell_type": "code",
   "execution_count": null,
   "metadata": {},
   "outputs": [],
   "source": []
  },
  {
   "cell_type": "markdown",
   "metadata": {},
   "source": [
    "# Result for Chia-Jui noise trained model"
   ]
  },
  {
   "cell_type": "code",
   "execution_count": 64,
   "metadata": {},
   "outputs": [],
   "source": [
    "testset = dataset_wsl_fft_collected"
   ]
  },
  {
   "cell_type": "code",
   "execution_count": null,
   "metadata": {},
   "outputs": [],
   "source": [
    "testset = dataset_reserved_test_collected"
   ]
  },
  {
   "cell_type": "code",
   "execution_count": 49,
   "metadata": {},
   "outputs": [
    {
     "data": {
      "text/plain": [
       "(3000, 202)"
      ]
     },
     "execution_count": 49,
     "metadata": {},
     "output_type": "execute_result"
    }
   ],
   "source": [
    "testset.shape"
   ]
  },
  {
   "cell_type": "code",
   "execution_count": 50,
   "metadata": {},
   "outputs": [],
   "source": [
    "correct_ans = np.hstack(([0]*N_wsl['glitch'], [1]*N_wsl['noise'], [2]*N_wsl['bbh'], [3]*N_wsl['sg']))"
   ]
  },
  {
   "cell_type": "code",
   "execution_count": 65,
   "metadata": {},
   "outputs": [],
   "source": [
    "correct_ans_withoutsignal = np.hstack(([0]*N_wsl['glitch'], [1]*N_wsl['noise'], [-1]*(N_wsl['bbh']+N_wsl['sg'])))"
   ]
  },
  {
   "cell_type": "code",
   "execution_count": null,
   "metadata": {},
   "outputs": [],
   "source": [
    "correct_ans_withoutsignal = np.hstack(([0]*N_reserved_test['glitch'], [1]*N_reserved_test['noise'], [2]*N_reserved_test['bbh'], [3]*N_reserved_test['sg']))"
   ]
  },
  {
   "cell_type": "code",
   "execution_count": 66,
   "metadata": {},
   "outputs": [
    {
     "ename": "NameError",
     "evalue": "name 'correct_ans' is not defined",
     "output_type": "error",
     "traceback": [
      "\u001b[1;31m---------------------------------------------------------------------------\u001b[0m",
      "\u001b[1;31mNameError\u001b[0m                                 Traceback (most recent call last)",
      "Cell \u001b[1;32mIn[66], line 1\u001b[0m\n\u001b[1;32m----> 1\u001b[0m \u001b[43mcorrect_ans\u001b[49m\u001b[38;5;241m.\u001b[39mshape\n",
      "\u001b[1;31mNameError\u001b[0m: name 'correct_ans' is not defined"
     ]
    }
   ],
   "source": [
    "correct_ans.shape"
   ]
  },
  {
   "cell_type": "code",
   "execution_count": 67,
   "metadata": {},
   "outputs": [
    {
     "data": {
      "text/plain": [
       "(3000,)"
      ]
     },
     "execution_count": 67,
     "metadata": {},
     "output_type": "execute_result"
    }
   ],
   "source": [
    "correct_ans_withoutsignal.shape"
   ]
  },
  {
   "cell_type": "code",
   "execution_count": 68,
   "metadata": {},
   "outputs": [
    {
     "ename": "NameError",
     "evalue": "name 'ic' is not defined",
     "output_type": "error",
     "traceback": [
      "\u001b[1;31m---------------------------------------------------------------------------\u001b[0m",
      "\u001b[1;31mNameError\u001b[0m                                 Traceback (most recent call last)",
      "Cell \u001b[1;32mIn[68], line 1\u001b[0m\n\u001b[1;32m----> 1\u001b[0m \u001b[43mic\u001b[49m[\u001b[38;5;241m3\u001b[39m] \u001b[38;5;241m=\u001b[39m \u001b[38;5;241m0\u001b[39m\n",
      "\u001b[1;31mNameError\u001b[0m: name 'ic' is not defined"
     ]
    }
   ],
   "source": [
    "ic[3] = 0"
   ]
  },
  {
   "cell_type": "code",
   "execution_count": 69,
   "metadata": {},
   "outputs": [],
   "source": [
    "list_datatype_withoutsignal = [\"noise\", \"glitch\"]"
   ]
  },
  {
   "cell_type": "code",
   "execution_count": 70,
   "metadata": {},
   "outputs": [],
   "source": [
    "ic_withoutsignal = np.array([0,0])"
   ]
  },
  {
   "cell_type": "code",
   "execution_count": 73,
   "metadata": {},
   "outputs": [],
   "source": [
    "Ncut = 5"
   ]
  },
  {
   "cell_type": "code",
   "execution_count": 76,
   "metadata": {},
   "outputs": [
    {
     "ename": "NameError",
     "evalue": "name 'ic' is not defined",
     "output_type": "error",
     "traceback": [
      "\u001b[1;31m---------------------------------------------------------------------------\u001b[0m",
      "\u001b[1;31mNameError\u001b[0m                                 Traceback (most recent call last)",
      "Cell \u001b[1;32mIn[76], line 27\u001b[0m\n\u001b[0;32m     21\u001b[0m \u001b[38;5;66;03m#     data_filtered[\"noise\"] = bkg_fft;\u001b[39;00m\n\u001b[0;32m     22\u001b[0m \u001b[38;5;66;03m#     data_filtered[\"bbh\"] = bbh_fft;\u001b[39;00m\n\u001b[0;32m     23\u001b[0m \u001b[38;5;66;03m#     data_filtered[\"sg\"] = sg_fft;\u001b[39;00m\n\u001b[0;32m     25\u001b[0m     dataset_wsl_filtered \u001b[38;5;241m=\u001b[39m dataset_wsl_fft_collected\n\u001b[1;32m---> 27\u001b[0m     cutID \u001b[38;5;241m=\u001b[39m \u001b[38;5;124;43m\"\u001b[39;49m\u001b[38;5;124;43m\"\u001b[39;49m\u001b[38;5;241;43m.\u001b[39;49m\u001b[43mjoin\u001b[49m\u001b[43m(\u001b[49m\u001b[38;5;28;43mstr\u001b[39;49m\u001b[43m(\u001b[49m\u001b[43mic\u001b[49m\u001b[43m[\u001b[49m\u001b[43mj\u001b[49m\u001b[43m]\u001b[49m\u001b[43m)\u001b[49m\u001b[43m \u001b[49m\u001b[38;5;28;43;01mfor\u001b[39;49;00m\u001b[43m \u001b[49m\u001b[43mj\u001b[49m\u001b[43m \u001b[49m\u001b[38;5;129;43;01min\u001b[39;49;00m\u001b[43m \u001b[49m\u001b[38;5;28;43mrange\u001b[39;49m\u001b[43m(\u001b[49m\u001b[38;5;241;43m3\u001b[39;49m\u001b[43m)\u001b[49m\u001b[43m)\u001b[49m \u001b[38;5;241m+\u001b[39m \u001b[38;5;124m\"\u001b[39m\u001b[38;5;124m_\u001b[39m\u001b[38;5;124m\"\u001b[39m\u001b[38;5;241m+\u001b[39mversion\n\u001b[0;32m     29\u001b[0m \u001b[38;5;66;03m#     for iPrev in range(3):\u001b[39;00m\n\u001b[0;32m     30\u001b[0m \u001b[38;5;66;03m#         previousStep = ind2datatype[iPrev];\u001b[39;00m\n\u001b[0;32m     31\u001b[0m \u001b[38;5;66;03m#         modelPrev = models[previousStep]; # previous step AE\u001b[39;00m\n\u001b[1;32m   (...)\u001b[0m\n\u001b[0;32m     63\u001b[0m \u001b[38;5;66;03m#     torch.save(models, \"../Data_cached/SequentialTraining/WSL/trained_model\" + \"\".join(str(ic[j]) for j in range(3)) + \"_\"+version+\".json\")\u001b[39;00m\n\u001b[0;32m     64\u001b[0m \u001b[38;5;66;03m#     print(models.keys())\u001b[39;00m\n\u001b[0;32m     66\u001b[0m     models \u001b[38;5;241m=\u001b[39m torch\u001b[38;5;241m.\u001b[39mload(\u001b[38;5;124m\"\u001b[39m\u001b[38;5;124m../Data_cached/SequentialTraining/WSL/trained_model\u001b[39m\u001b[38;5;124m\"\u001b[39m \u001b[38;5;241m+\u001b[39m \u001b[38;5;124m\"\u001b[39m\u001b[38;5;124m\"\u001b[39m\u001b[38;5;241m.\u001b[39mjoin(\u001b[38;5;28mstr\u001b[39m(ic_withoutsignal[j]) \u001b[38;5;28;01mfor\u001b[39;00m j \u001b[38;5;129;01min\u001b[39;00m \u001b[38;5;28mrange\u001b[39m(\u001b[38;5;241m2\u001b[39m)) \u001b[38;5;241m+\u001b[39m \u001b[38;5;124m\"\u001b[39m\u001b[38;5;124m_\u001b[39m\u001b[38;5;124m\"\u001b[39m\u001b[38;5;241m+\u001b[39mversion\u001b[38;5;241m+\u001b[39m\u001b[38;5;124m\"\u001b[39m\u001b[38;5;124m.json\u001b[39m\u001b[38;5;124m\"\u001b[39m)\n",
      "Cell \u001b[1;32mIn[76], line 27\u001b[0m, in \u001b[0;36m<genexpr>\u001b[1;34m(.0)\u001b[0m\n\u001b[0;32m     21\u001b[0m \u001b[38;5;66;03m#     data_filtered[\"noise\"] = bkg_fft;\u001b[39;00m\n\u001b[0;32m     22\u001b[0m \u001b[38;5;66;03m#     data_filtered[\"bbh\"] = bbh_fft;\u001b[39;00m\n\u001b[0;32m     23\u001b[0m \u001b[38;5;66;03m#     data_filtered[\"sg\"] = sg_fft;\u001b[39;00m\n\u001b[0;32m     25\u001b[0m     dataset_wsl_filtered \u001b[38;5;241m=\u001b[39m dataset_wsl_fft_collected\n\u001b[1;32m---> 27\u001b[0m     cutID \u001b[38;5;241m=\u001b[39m \u001b[38;5;124m\"\u001b[39m\u001b[38;5;124m\"\u001b[39m\u001b[38;5;241m.\u001b[39mjoin(\u001b[38;5;28mstr\u001b[39m(\u001b[43mic\u001b[49m[j]) \u001b[38;5;28;01mfor\u001b[39;00m j \u001b[38;5;129;01min\u001b[39;00m \u001b[38;5;28mrange\u001b[39m(\u001b[38;5;241m3\u001b[39m)) \u001b[38;5;241m+\u001b[39m \u001b[38;5;124m\"\u001b[39m\u001b[38;5;124m_\u001b[39m\u001b[38;5;124m\"\u001b[39m\u001b[38;5;241m+\u001b[39mversion\n\u001b[0;32m     29\u001b[0m \u001b[38;5;66;03m#     for iPrev in range(3):\u001b[39;00m\n\u001b[0;32m     30\u001b[0m \u001b[38;5;66;03m#         previousStep = ind2datatype[iPrev];\u001b[39;00m\n\u001b[0;32m     31\u001b[0m \u001b[38;5;66;03m#         modelPrev = models[previousStep]; # previous step AE\u001b[39;00m\n\u001b[1;32m   (...)\u001b[0m\n\u001b[0;32m     63\u001b[0m \u001b[38;5;66;03m#     torch.save(models, \"../Data_cached/SequentialTraining/WSL/trained_model\" + \"\".join(str(ic[j]) for j in range(3)) + \"_\"+version+\".json\")\u001b[39;00m\n\u001b[0;32m     64\u001b[0m \u001b[38;5;66;03m#     print(models.keys())\u001b[39;00m\n\u001b[0;32m     66\u001b[0m     models \u001b[38;5;241m=\u001b[39m torch\u001b[38;5;241m.\u001b[39mload(\u001b[38;5;124m\"\u001b[39m\u001b[38;5;124m../Data_cached/SequentialTraining/WSL/trained_model\u001b[39m\u001b[38;5;124m\"\u001b[39m \u001b[38;5;241m+\u001b[39m \u001b[38;5;124m\"\u001b[39m\u001b[38;5;124m\"\u001b[39m\u001b[38;5;241m.\u001b[39mjoin(\u001b[38;5;28mstr\u001b[39m(ic_withoutsignal[j]) \u001b[38;5;28;01mfor\u001b[39;00m j \u001b[38;5;129;01min\u001b[39;00m \u001b[38;5;28mrange\u001b[39m(\u001b[38;5;241m2\u001b[39m)) \u001b[38;5;241m+\u001b[39m \u001b[38;5;124m\"\u001b[39m\u001b[38;5;124m_\u001b[39m\u001b[38;5;124m\"\u001b[39m\u001b[38;5;241m+\u001b[39mversion\u001b[38;5;241m+\u001b[39m\u001b[38;5;124m\"\u001b[39m\u001b[38;5;124m.json\u001b[39m\u001b[38;5;124m\"\u001b[39m)\n",
      "\u001b[1;31mNameError\u001b[0m: name 'ic' is not defined"
     ]
    }
   ],
   "source": [
    "listResult = {};\n",
    "listResult[\"cut\"] = np.empty((Ncut**(len(list_datatype_withoutsignal)), len(list_datatype_withoutsignal)), dtype=\"int\");\n",
    "listResult[\"ans\"] = np.empty((Ncut**(len(list_datatype_withoutsignal)), len(testset)), dtype=\"int\");\n",
    "listResult[\"accuracy_4\"] = np.empty((Ncut**(len(list_datatype_withoutsignal)), len(list_datatype_withoutsignal)))\n",
    "listResult[\"accuracy_2\"] = np.empty((Ncut**(len(list_datatype_withoutsignal)), 2))\n",
    "cnt = 0\n",
    "\n",
    "listResult[\"FPR\"] = np.empty((Ncut**(len(list_datatype_withoutsignal)),1))\n",
    "\n",
    "\n",
    "for ic_withoutsignal[0], ic_withoutsignal[1] in itertools.product(np.arange(Ncut), np.arange(Ncut)):\n",
    "\n",
    "    \n",
    "    # if cnt < 86:\n",
    "    #     continue\n",
    "    \n",
    "    t0 = time.time()\n",
    "    data_filtered = {};\n",
    "    for dt in sequence:\n",
    "        data_filtered[dt] = dataset_ae_fft[dt]\n",
    "#     data_filtered[\"noise\"] = bkg_fft;\n",
    "#     data_filtered[\"bbh\"] = bbh_fft;\n",
    "#     data_filtered[\"sg\"] = sg_fft;\n",
    "\n",
    "    dataset_wsl_filtered = dataset_wsl_fft_collected\n",
    "    \n",
    "    cutID = \"\".join(str(ic[j]) for j in range(3)) + \"_\"+version\n",
    "        \n",
    "#     for iPrev in range(3):\n",
    "#         previousStep = ind2datatype[iPrev];\n",
    "#         modelPrev = models[previousStep]; # previous step AE\n",
    "        \n",
    "#         # train the WSC according to previous AE's cut\n",
    "        \n",
    "#         dataset0 = data_filtered[previousStep] # here they haven't been updated yet\n",
    "        \n",
    "#         dcd = modelPrev(torch.FloatTensor(dataset0))[1].detach().numpy();\n",
    "#         dataset1 = dataset0[np.var(dataset0-dcd, axis=1) >= cutList[previousStep][ic[iPrev]]]\n",
    "        \n",
    "#         dcd = modelPrev(torch.FloatTensor(dataset_wsl_filtered))[1].detach().numpy();\n",
    "#         dataset1 = dataset_wsl_filtered[np.var(dataset_wsl_filtered-dcd, axis=1) >= cutList[previousStep][ic[iPrev]]]\n",
    "        \n",
    "#         model = trainWSC(dataset0, dataset1, cutID)\n",
    "#         models[previousStep+\"_WSC\"] = model;\n",
    "        \n",
    "#         # filter the data according to previous WSC\n",
    "#         for j in range(iPrev, 4):\n",
    "#             dt = ind2datatype[j];\n",
    "#             dcd = nn.Sigmoid()(model(torch.FloatTensor(data_filtered[dt]))).detach().numpy().flatten();\n",
    "#             data_filtered[dt] = data_filtered[dt][dcd>0.5]\n",
    "        \n",
    "# #         # filter the data\n",
    "# #         for j in range(iPrev+1, 4):\n",
    "# #             dt = ind2datatype[j];\n",
    "# #             dcd = modelPrev(torch.FloatTensor(data_filtered[dt]))[1].detach().numpy()\n",
    "# #             data_filtered[dt] = data_filtered[dt][np.var(data_filtered[dt]-dcd, axis=1) >= cutList[previousStep][ic[iPrev]]]            \n",
    "        \n",
    "#         # train the current step AE\n",
    "#         currentStep = ind2datatype[iPrev+1];\n",
    "#         model = trainAE(data_filtered[currentStep], cutID);\n",
    "#         models[currentStep] = model;\n",
    "        \n",
    "#     torch.save(models, \"../Data_cached/SequentialTraining/WSL/trained_model\" + \"\".join(str(ic[j]) for j in range(3)) + \"_\"+version+\".json\")\n",
    "#     print(models.keys())\n",
    "    \n",
    "    models = torch.load(\"../Data_cached/SequentialTraining/WSL/trained_model\" + \"\".join(str(ic_withoutsignal[j]) for j in range(2)) + \"_\"+version+\".json\")\n",
    "    # print(\"../Data_cached/SequentialTraining/WSL/trained_model\" + \"\".join(str(ic[j]) for j in range(2)) + \"_\"+version+\".json\")\n",
    "    dcd = {};\n",
    "    err = {};\n",
    "    ans = np.zeros(len(testset), dtype=\"int\")\n",
    "    \n",
    "    for datatype in list_datatype_withoutsignal:\n",
    "        if datatype == 'sg':\n",
    "            dcd[datatype] = models[datatype](torch.FloatTensor(testset))[1].detach().numpy()\n",
    "            err[datatype] = np.var(testset-dcd[datatype], axis=1)\n",
    "        \n",
    "        # elif datatype == 'noise':\n",
    "        #     dcd[datatype] = models[datatype](torch.FloatTensor(testset))[1].detach().numpy()\n",
    "        #     err[datatype] = np.var(testset-dcd[datatype], axis=1)\n",
    "            \n",
    "        else:\n",
    "            dcd[datatype] = nn.Sigmoid()(models[datatype + \"_WSC\"](torch.FloatTensor(testset))).detach().numpy().reshape(-1)\n",
    "        \n",
    "    not_select = np.array([True]*len(testset));\n",
    "\n",
    "    # for iStep in range(len(list_datatype_withoutsignal)):\n",
    "    #     datatype = ind2datatype[iStep];\n",
    "    #     if datatype == 'sg':\n",
    "    #         ind_pass = np.logical_and(not_select, err[datatype] <= cutList[datatype][ic[iStep]]);\n",
    "    #     else:\n",
    "    #         ind_pass = np.logical_and(not_select, dcd[datatype] <= 0.5);\n",
    "    #     ans[ind_pass] = iStep;\n",
    "    #     not_select[ind_pass] = False;\n",
    "        \n",
    "    # Pass glitch first\n",
    "    \n",
    "    datatype = 'glitch'\n",
    "    ind_pass = np.logical_and(not_select, dcd[datatype] <= 0.5)\n",
    "    ans[ind_pass] = 0;\n",
    "    not_select[ind_pass] = False;\n",
    "    # print(dcd['glitch'])\n",
    "    \n",
    "    # Leftover are noise and signals\n",
    "    \n",
    "    datatype = 'noise'\n",
    "    ind_pass = np.logical_and(not_select, dcd[datatype] <= np.sort(dcd[datatype][-N_wsl['bbh']-N_wsl['sg']:])[int(0.1 * (N_wsl['bbh']+N_wsl['sg']))])\n",
    "    # ind_pass = np.logical_and(not_select, err[datatype] <= np.sort(err[datatype][-N_wsl['bbh']-N_wsl['sg']:])[int(0.1 * (N_wsl['bbh']+N_wsl['sg']))])\n",
    "    noise_number = np.sum(np.logical_and(not_select, correct_ans_withoutsignal == 1))\n",
    "    passed_noise_number = noise_number - np.sum(np.logical_and(ind_pass, correct_ans_withoutsignal == 1))\n",
    "    ans[ind_pass] = 1;\n",
    "    not_select[ind_pass] = False;\n",
    "    \n",
    "    ans[not_select] = -1\n",
    "    \n",
    "    FPR = passed_noise_number / noise_number\n",
    "    \n",
    "    # print(dcd['noise'])\n",
    "    print('For cnt = {}, totally {} noise events passed the glitch WSL, and {} noise events within the threshold for TPR=0.9'.format(cnt, noise_number, passed_noise_number))\n",
    "    listResult['FPR'][cnt] = FPR\n",
    "    listResult['cut'][cnt] = ic_withoutsignal\n",
    "        \n",
    "    # ans[not_select] = -1;\n",
    "\n",
    "    # listResult[\"cut\"][cnt] = ic_withoutsignal;\n",
    "    # listResult[\"ans\"][cnt] = ans;\n",
    "\n",
    "    # acc = np.zeros(len(ind2datatype));\n",
    "\n",
    "    # for i in range(len(ind2datatype)):\n",
    "    #     acc[i] = np.sum(np.logical_and(ans==i, correct_ans_withoutsignal==i))/N_wsl[ind2datatype[i]];\n",
    "        \n",
    "    # listResult[\"accuracy_4\"][cnt] = acc;\n",
    "\n",
    "    # listResult[\"accuracy_2\"][cnt] = [ np.sum(acc[datatype2ind[dtype]]*N_wsl[dtype] for dtype in [\"glitch\", \"noise\"])/np.sum(N_wsl[dtype] for dtype in [\"glitch\", \"noise\"]), \n",
    "    #                                     np.sum(acc[datatype2ind[dtype]]*N_wsl[dtype] for dtype in [\"bbh\", \"sg\"])/np.sum(N_wsl[dtype] for dtype in [\"bbh\", \"sg\"])]\n",
    "\n",
    "    cnt += 1;"
   ]
  },
  {
   "cell_type": "code",
   "execution_count": 61,
   "metadata": {},
   "outputs": [
    {
     "data": {
      "text/plain": [
       "array([[0.5395189 ],\n",
       "       [0.6257485 ],\n",
       "       [0.97066667],\n",
       "       [0.97749196],\n",
       "       [0.96601942],\n",
       "       [0.76397516],\n",
       "       [0.79538217],\n",
       "       [0.85144928],\n",
       "       [0.80729167],\n",
       "       [0.82121212],\n",
       "       [0.72485962],\n",
       "       [0.74706183],\n",
       "       [0.84575569],\n",
       "       [0.94507772],\n",
       "       [0.96520424],\n",
       "       [0.75650118],\n",
       "       [0.72650376],\n",
       "       [0.84892086],\n",
       "       [0.95040534],\n",
       "       [0.97270588],\n",
       "       [0.73227969],\n",
       "       [0.87494167],\n",
       "       [0.84670147],\n",
       "       [0.93411765],\n",
       "       [0.97877358]])"
      ]
     },
     "execution_count": 61,
     "metadata": {},
     "output_type": "execute_result"
    }
   ],
   "source": [
    "listResult['FPR']"
   ]
  },
  {
   "cell_type": "code",
   "execution_count": 62,
   "metadata": {},
   "outputs": [
    {
     "name": "stdout",
     "output_type": "stream",
     "text": [
      "[0 0]\n",
      "0.5395189003436426\n"
     ]
    }
   ],
   "source": [
    "# This is the result for 0.05, 0.65, 0.15, 0.15\n",
    "\n",
    "print(listResult['cut'][np.argmin(listResult['FPR'])])\n",
    "print(listResult['FPR'].min())"
   ]
  },
  {
   "cell_type": "code",
   "execution_count": null,
   "metadata": {},
   "outputs": [
    {
     "name": "stdout",
     "output_type": "stream",
     "text": [
      "[4 0]\n",
      "0.003848084323239083\n"
     ]
    }
   ],
   "source": [
    "# This is the result for 0.1, 0.3, 0.3, 0.3\n",
    "\n",
    "print(listResult['cut'][np.argmin(listResult['FPR'])])\n",
    "print(listResult['FPR'].min())"
   ]
  },
  {
   "cell_type": "code",
   "execution_count": null,
   "metadata": {},
   "outputs": [
    {
     "data": {
      "text/plain": [
       "(597, 1)"
      ]
     },
     "metadata": {},
     "output_type": "display_data"
    }
   ],
   "source": [
    "np.argwhere(ans[-6000:] == 1).shape"
   ]
  },
  {
   "cell_type": "code",
   "execution_count": null,
   "metadata": {},
   "outputs": [
    {
     "data": {
      "text/plain": [
       "22500"
      ]
     },
     "metadata": {},
     "output_type": "display_data"
    }
   ],
   "source": [
    "N_wsl['noise']"
   ]
  },
  {
   "cell_type": "code",
   "execution_count": null,
   "metadata": {},
   "outputs": [
    {
     "data": {
      "text/plain": [
       "(19118, 1)"
      ]
     },
     "metadata": {},
     "output_type": "display_data"
    }
   ],
   "source": [
    "np.argwhere(ans[1500:-6000] == 1).shape"
   ]
  },
  {
   "cell_type": "code",
   "execution_count": null,
   "metadata": {},
   "outputs": [
    {
     "data": {
      "text/plain": [
       "(3320, 1)"
      ]
     },
     "metadata": {},
     "output_type": "display_data"
    }
   ],
   "source": [
    "np.argwhere(ans[1500:-6000] == -1).shape"
   ]
  },
  {
   "cell_type": "code",
   "execution_count": null,
   "metadata": {},
   "outputs": [
    {
     "data": {
      "text/plain": [
       "(5398, 1)"
      ]
     },
     "metadata": {},
     "output_type": "display_data"
    }
   ],
   "source": [
    "np.argwhere(ans[-6000:] == -1).shape"
   ]
  },
  {
   "cell_type": "code",
   "execution_count": null,
   "metadata": {},
   "outputs": [
    {
     "data": {
      "text/plain": [
       "(135, 1)"
      ]
     },
     "metadata": {},
     "output_type": "display_data"
    }
   ],
   "source": [
    "np.argwhere(ans[1500:-6000] == -1).shape"
   ]
  },
  {
   "cell_type": "code",
   "execution_count": 77,
   "metadata": {},
   "outputs": [],
   "source": [
    "models = torch.load(\"../Data_cached/SequentialTraining/WSL/trained_model\" + \"00\" + \"_\"+version+\".json\")"
   ]
  },
  {
   "cell_type": "code",
   "execution_count": 84,
   "metadata": {},
   "outputs": [],
   "source": [
    "models = torch.load(\"../Data_cached/SequentialTraining/WSL/trained_model\" + \"00\" + \"_v6.json\")"
   ]
  },
  {
   "cell_type": "code",
   "execution_count": 64,
   "metadata": {},
   "outputs": [
    {
     "data": {
      "text/plain": [
       "{'noise': array([[3.75803461e-02, 5.19980410e-02, 7.11897231e-02, ...,\n",
       "         5.70335581e-03, 5.66126335e-03, 5.66705806e-03],\n",
       "        [5.11109784e-03, 2.90017348e-02, 6.21384329e-02, ...,\n",
       "         5.31911077e-03, 5.28157705e-03, 5.30578589e-03],\n",
       "        [2.67082197e-02, 3.85819943e-02, 2.05402769e-02, ...,\n",
       "         7.47662214e-03, 7.44311073e-03, 7.42143186e-03],\n",
       "        ...,\n",
       "        [3.61762312e-02, 4.94204426e-02, 2.43239822e-02, ...,\n",
       "         5.79947266e-04, 3.12861138e-04, 5.83874447e-05],\n",
       "        [7.07041750e-03, 1.06595149e-02, 8.05424030e-02, ...,\n",
       "         1.02448389e-02, 1.02258828e-02, 1.01878053e-02],\n",
       "        [3.28809822e-02, 4.43646698e-02, 2.00710775e-02, ...,\n",
       "         3.62308188e-03, 3.62523057e-03, 3.64992646e-03]]),\n",
       " 'bbh': array([[7.57095507e-02, 8.49995596e-02, 1.87917767e-01, ...,\n",
       "         9.56477804e-03, 9.59237338e-03, 9.53138379e-03],\n",
       "        [4.18299326e-03, 3.26492974e-02, 1.64341977e-01, ...,\n",
       "         9.86156797e-03, 9.92180863e-03, 9.95067674e-03],\n",
       "        [2.66389492e-02, 3.69944381e-02, 2.10323386e-01, ...,\n",
       "         1.30396185e-03, 1.27212352e-03, 1.26476064e-03],\n",
       "        ...,\n",
       "        [6.83051821e-02, 9.01989120e-02, 1.01486669e-01, ...,\n",
       "         3.97767511e-03, 3.98674225e-03, 3.98347803e-03],\n",
       "        [4.22842414e-02, 7.74620245e-02, 1.94908650e-01, ...,\n",
       "         2.70530062e-04, 2.55268977e-04, 2.08212319e-04],\n",
       "        [8.34229598e-03, 8.99058692e-03, 1.15503769e-01, ...,\n",
       "         1.32128848e-02, 1.32229065e-02, 1.31457590e-02]]),\n",
       " 'sg': array([[0.02373314, 0.02897624, 0.11418588, ..., 0.00103425, 0.00096395,\n",
       "         0.00095237],\n",
       "        [0.00043497, 0.01611009, 0.13988607, ..., 0.00126028, 0.00123319,\n",
       "         0.00120879],\n",
       "        [0.02390531, 0.03773128, 0.10459711, ..., 0.00114834, 0.00117722,\n",
       "         0.00109944],\n",
       "        ...,\n",
       "        [0.00684692, 0.01153714, 0.0461053 , ..., 0.00225283, 0.00222494,\n",
       "         0.00220488],\n",
       "        [0.00746953, 0.01162936, 0.04266429, ..., 0.01071365, 0.01069745,\n",
       "         0.01068257],\n",
       "        [0.03550944, 0.04262653, 0.09602077, ..., 0.00641978, 0.00641154,\n",
       "         0.00637905]]),\n",
       " 'glitch': array([[0.01346487, 0.05162443, 0.13825373, ..., 0.00233562, 0.0023307 ,\n",
       "         0.00223912],\n",
       "        [0.02269664, 0.03026378, 0.10422269, ..., 0.00852089, 0.00848066,\n",
       "         0.00848982],\n",
       "        [0.09577052, 0.18967097, 0.43335181, ..., 0.00347755, 0.00343203,\n",
       "         0.00347222],\n",
       "        ...,\n",
       "        [0.02923123, 0.0325911 , 0.05353972, ..., 0.00421662, 0.00419744,\n",
       "         0.00420109],\n",
       "        [0.02360194, 0.02618901, 0.11436014, ..., 0.00176157, 0.00170491,\n",
       "         0.00169693],\n",
       "        [0.03148184, 0.05174595, 0.12128017, ..., 0.00123065, 0.00123954,\n",
       "         0.00118023]])}"
      ]
     },
     "execution_count": 64,
     "metadata": {},
     "output_type": "execute_result"
    }
   ],
   "source": [
    "dataset_wsl_fft"
   ]
  },
  {
   "cell_type": "code",
   "execution_count": 90,
   "metadata": {},
   "outputs": [
    {
     "data": {
      "text/plain": [
       "(0.0, 2000.0)"
      ]
     },
     "execution_count": 90,
     "metadata": {},
     "output_type": "execute_result"
    },
    {
     "data": {
      "image/png": "[encoded data removed]",
      "text/plain": [
       "<Figure size 640x480 with 1 Axes>"
      ]
     },
     "metadata": {},
     "output_type": "display_data"
    }
   ],
   "source": [
    "model = models['glitch']\n",
    "\n",
    "bkg_filtered = dataset_wsl_fft['noise']\n",
    "bbh_filtered = dataset_wsl_fft['bbh']\n",
    "sg_filtered = dataset_wsl_fft['sg']\n",
    "\n",
    "# c0[currentStep] = 0.0022;\n",
    "\n",
    "dcd_bkg = model(torch.FloatTensor(bkg_filtered))[1].detach().numpy()\n",
    "dcd_bbh = model(torch.FloatTensor(bbh_filtered))[1].detach().numpy()\n",
    "dcd_sg = model(torch.FloatTensor(sg_filtered))[1].detach().numpy()\n",
    "dcd_glitch = model(torch.FloatTensor(glitch_fft))[1].detach().numpy()\n",
    "\n",
    "foo = plt.hist(np.var(bkg_filtered-dcd_bkg, axis=1), histtype=\"step\", range=(0, 0.01), bins=50, density=True, label=\"noise\")\n",
    "foo = plt.hist(np.var(bbh_filtered-dcd_bbh, axis=1), histtype=\"step\", range=(0, 0.01), bins=50, density=True, label=\"bbh\")\n",
    "foo = plt.hist(np.var(sg_filtered-dcd_sg, axis=1), histtype=\"step\", range=(0, 0.01), bins=50, density=True, label=\"sg\")\n",
    "foo = plt.hist(np.var(glitch_fft-dcd_glitch, axis=1), histtype=\"step\", range=(0, 0.01), bins=50, density=True, label=\"glitch\")\n",
    "plt.title(\"trained with noise\")\n",
    "# plt.axvline(c0[currentStep], color=\"k\", linestyle=\"--\")\n",
    "plt.axvline(np.sort(np.var(bbh_filtered-dcd_bbh, axis=1))[int(0.1 * len(bbh_filtered))], color = 'k', linestyle = '--')\n",
    "plt.legend()\n",
    "plt.ylim(0,2000)"
   ]
  },
  {
   "cell_type": "code",
   "execution_count": 43,
   "metadata": {},
   "outputs": [
    {
     "data": {
      "text/plain": [
       "(0.0, 2000.0)"
      ]
     },
     "execution_count": 43,
     "metadata": {},
     "output_type": "execute_result"
    },
    {
     "data": {
      "image/png": "[encoded data removed]",
      "text/plain": [
       "<Figure size 640x480 with 1 Axes>"
      ]
     },
     "metadata": {},
     "output_type": "display_data"
    }
   ],
   "source": [
    "# Chia-Jui data + GWAK model\n",
    "\n",
    "model = models['glitch']\n",
    "\n",
    "bkg_filtered = dataset_wsl_fft['noise']\n",
    "bbh_filtered = dataset_wsl_fft['bbh']\n",
    "sg_filtered = dataset_wsl_fft['sg']\n",
    "\n",
    "# c0[currentStep] = 0.0022;\n",
    "\n",
    "dcd_bkg = model(torch.FloatTensor(bkg_filtered))[1].detach().numpy()\n",
    "dcd_bbh = model(torch.FloatTensor(bbh_filtered))[1].detach().numpy()\n",
    "dcd_sg = model(torch.FloatTensor(sg_filtered))[1].detach().numpy()\n",
    "dcd_glitch = model(torch.FloatTensor(glitch_fft))[1].detach().numpy()\n",
    "\n",
    "foo = plt.hist(np.var(bkg_filtered-dcd_bkg, axis=1), histtype=\"step\", range=(0, 0.01), bins=50, density=True, label=\"noise\")\n",
    "foo = plt.hist(np.var(bbh_filtered-dcd_bbh, axis=1), histtype=\"step\", range=(0, 0.01), bins=50, density=True, label=\"bbh\")\n",
    "foo = plt.hist(np.var(sg_filtered-dcd_sg, axis=1), histtype=\"step\", range=(0, 0.01), bins=50, density=True, label=\"sg\")\n",
    "foo = plt.hist(np.var(glitch_fft-dcd_glitch, axis=1), histtype=\"step\", range=(0, 0.01), bins=50, density=True, label=\"glitch\")\n",
    "plt.title(\"trained with glitch\")\n",
    "# plt.axvline(c0[currentStep], color=\"k\", linestyle=\"--\")\n",
    "plt.axvline(np.sort(np.var(bbh_filtered-dcd_bbh, axis=1))[int(0.1 * len(bbh_filtered))], color = 'k', linestyle = '--')\n",
    "plt.legend()\n",
    "plt.ylim(0,2000)"
   ]
  },
  {
   "cell_type": "code",
   "execution_count": 89,
   "metadata": {},
   "outputs": [
    {
     "data": {
      "text/plain": [
       "(0.0, 2000.0)"
      ]
     },
     "execution_count": 89,
     "metadata": {},
     "output_type": "execute_result"
    },
    {
     "data": {
      "image/png": "[encoded data removed]",
      "text/plain": [
       "<Figure size 640x480 with 1 Axes>"
      ]
     },
     "metadata": {},
     "output_type": "display_data"
    }
   ],
   "source": [
    "# Chia-Jui data + GWAK model\n",
    "\n",
    "model = models['noise']\n",
    "\n",
    "bkg_filtered = dataset_wsl_fft['noise']\n",
    "bbh_filtered = dataset_wsl_fft['bbh']\n",
    "sg_filtered = dataset_wsl_fft['sg']\n",
    "\n",
    "# c0[currentStep] = 0.0022;\n",
    "\n",
    "dcd_bkg = model(torch.FloatTensor(bkg_filtered))[1].detach().numpy()\n",
    "dcd_bbh = model(torch.FloatTensor(bbh_filtered))[1].detach().numpy()\n",
    "dcd_sg = model(torch.FloatTensor(sg_filtered))[1].detach().numpy()\n",
    "dcd_glitch = model(torch.FloatTensor(glitch_fft))[1].detach().numpy()\n",
    "\n",
    "foo = plt.hist(np.var(bkg_filtered-dcd_bkg, axis=1), histtype=\"step\", range=(0, 0.01), bins=50, density=True, label=\"noise\")\n",
    "foo = plt.hist(np.var(bbh_filtered-dcd_bbh, axis=1), histtype=\"step\", range=(0, 0.01), bins=50, density=True, label=\"bbh\")\n",
    "foo = plt.hist(np.var(sg_filtered-dcd_sg, axis=1), histtype=\"step\", range=(0, 0.01), bins=50, density=True, label=\"sg\")\n",
    "foo = plt.hist(np.var(glitch_fft-dcd_glitch, axis=1), histtype=\"step\", range=(0, 0.01), bins=50, density=True, label=\"glitch\")\n",
    "plt.title(\"trained with noise\")\n",
    "# plt.axvline(c0[currentStep], color=\"k\", linestyle=\"--\")\n",
    "plt.axvline(np.sort(np.var(bbh_filtered-dcd_bbh, axis=1))[int(0.1 * len(bbh_filtered))], color = 'k', linestyle = '--')\n",
    "plt.legend()\n",
    "plt.ylim(0,2000)"
   ]
  },
  {
   "cell_type": "code",
   "execution_count": 82,
   "metadata": {},
   "outputs": [
    {
     "data": {
      "text/plain": [
       "(0.0, 2000.0)"
      ]
     },
     "execution_count": 82,
     "metadata": {},
     "output_type": "execute_result"
    },
    {
     "data": {
      "image/png": "[encoded data removed]",
      "text/plain": [
       "<Figure size 640x480 with 1 Axes>"
      ]
     },
     "metadata": {},
     "output_type": "display_data"
    }
   ],
   "source": [
    "model = models['glitch']\n",
    "\n",
    "bkg_filtered = dataset_wsl_fft['noise']\n",
    "bbh_filtered = dataset_wsl_fft['bbh']\n",
    "sg_filtered = dataset_wsl_fft['sg']\n",
    "\n",
    "# c0[currentStep] = 0.0022;\n",
    "\n",
    "dcd_bkg = model(torch.FloatTensor(bkg_filtered))[1].detach().numpy()\n",
    "dcd_bbh = model(torch.FloatTensor(bbh_filtered))[1].detach().numpy()\n",
    "dcd_sg = model(torch.FloatTensor(sg_filtered))[1].detach().numpy()\n",
    "dcd_glitch = model(torch.FloatTensor(glitch_fft))[1].detach().numpy()\n",
    "\n",
    "foo = plt.hist(np.var(bkg_filtered-dcd_bkg, axis=1), histtype=\"step\", range=(0, 0.01), bins=50, density=True, label=\"noise\")\n",
    "foo = plt.hist(np.var(bbh_filtered-dcd_bbh, axis=1), histtype=\"step\", range=(0, 0.01), bins=50, density=True, label=\"bbh\")\n",
    "foo = plt.hist(np.var(sg_filtered-dcd_sg, axis=1), histtype=\"step\", range=(0, 0.01), bins=50, density=True, label=\"sg\")\n",
    "foo = plt.hist(np.var(glitch_fft-dcd_glitch, axis=1), histtype=\"step\", range=(0, 0.01), bins=50, density=True, label=\"glitch\")\n",
    "plt.title(\"trained with glitch\")\n",
    "# plt.axvline(c0[currentStep], color=\"k\", linestyle=\"--\")\n",
    "# plt.axvline(np.sort(np.var(bbh_filtered-dcd_bbh, axis=1))[int(0.1 * len(bbh_filtered))], color = 'k', linestyle = '--')\n",
    "plt.legend()\n",
    "plt.ylim(0,2000)"
   ]
  },
  {
   "cell_type": "code",
   "execution_count": 83,
   "metadata": {},
   "outputs": [
    {
     "data": {
      "text/plain": [
       "AutoEncoder(\n",
       "  (encoder): Sequential(\n",
       "    (0): Linear(in_features=202, out_features=20, bias=True)\n",
       "    (1): ReLU()\n",
       "  )\n",
       "  (decoder): Sequential(\n",
       "    (0): Linear(in_features=20, out_features=202, bias=True)\n",
       "    (1): Sigmoid()\n",
       "  )\n",
       ")"
      ]
     },
     "execution_count": 83,
     "metadata": {},
     "output_type": "execute_result"
    }
   ],
   "source": [
    "model"
   ]
  },
  {
   "cell_type": "code",
   "execution_count": 110,
   "metadata": {},
   "outputs": [
    {
     "data": {
      "text/plain": [
       "(0.0, 2000.0)"
      ]
     },
     "execution_count": 110,
     "metadata": {},
     "output_type": "execute_result"
    },
    {
     "data": {
      "image/png": "[encoded data removed]",
      "text/plain": [
       "<Figure size 640x480 with 1 Axes>"
      ]
     },
     "metadata": {},
     "output_type": "display_data"
    }
   ],
   "source": [
    "model = models['glitch']\n",
    "\n",
    "bkg_filtered = dataset_wsl_fft['noise']\n",
    "bbh_filtered = dataset_wsl_fft['bbh']\n",
    "sg_filtered = dataset_wsl_fft['sg']\n",
    "\n",
    "# c0[currentStep] = 0.0022;\n",
    "\n",
    "dcd_bkg = model(torch.FloatTensor(bkg_filtered))[1].detach().numpy()\n",
    "dcd_bbh = model(torch.FloatTensor(bbh_filtered))[1].detach().numpy()\n",
    "dcd_sg = model(torch.FloatTensor(sg_filtered))[1].detach().numpy()\n",
    "dcd_glitch = model(torch.FloatTensor(glitch_fft))[1].detach().numpy()\n",
    "\n",
    "foo = plt.hist(np.var(bkg_filtered-dcd_bkg, axis=1), histtype=\"step\", range=(0, 0.01), bins=50, density=True, label=\"noise\")\n",
    "foo = plt.hist(np.var(bbh_filtered-dcd_bbh, axis=1), histtype=\"step\", range=(0, 0.01), bins=50, density=True, label=\"bbh\")\n",
    "foo = plt.hist(np.var(sg_filtered-dcd_sg, axis=1), histtype=\"step\", range=(0, 0.01), bins=50, density=True, label=\"sg\")\n",
    "foo = plt.hist(np.var(glitch_fft-dcd_glitch, axis=1), histtype=\"step\", range=(0, 0.01), bins=50, density=True, label=\"glitch\")\n",
    "plt.title(\"trained with glitch\")\n",
    "# plt.axvline(c0[currentStep], color=\"k\", linestyle=\"--\")\n",
    "plt.axvline(np.sort(np.var(bbh_filtered-dcd_bbh, axis=1))[int(0.1 * len(bbh_filtered))], color = 'k', linestyle = '--')\n",
    "plt.legend()\n",
    "plt.ylim(0,2000)"
   ]
  },
  {
   "cell_type": "code",
   "execution_count": 80,
   "metadata": {},
   "outputs": [
    {
     "data": {
      "text/plain": [
       "(0.0, 2000.0)"
      ]
     },
     "execution_count": 80,
     "metadata": {},
     "output_type": "execute_result"
    },
    {
     "data": {
      "image/png": "[encoded data removed]",
      "text/plain": [
       "<Figure size 640x480 with 1 Axes>"
      ]
     },
     "metadata": {},
     "output_type": "display_data"
    }
   ],
   "source": [
    "model = models['noise']\n",
    "\n",
    "bkg_filtered = dataset_wsl_fft['noise']\n",
    "bbh_filtered = dataset_wsl_fft['bbh']\n",
    "sg_filtered = dataset_wsl_fft['sg']\n",
    "\n",
    "# c0[currentStep] = 0.0022;\n",
    "\n",
    "dcd_bkg = model(torch.FloatTensor(bkg_filtered))[1].detach().numpy()\n",
    "dcd_bbh = model(torch.FloatTensor(bbh_filtered))[1].detach().numpy()\n",
    "dcd_sg = model(torch.FloatTensor(sg_filtered))[1].detach().numpy()\n",
    "dcd_glitch = model(torch.FloatTensor(glitch_fft))[1].detach().numpy()\n",
    "\n",
    "foo = plt.hist(np.var(bkg_filtered-dcd_bkg, axis=1), histtype=\"step\", range=(0, 0.01), bins=50, density=True, label=\"noise\")\n",
    "foo = plt.hist(np.var(bbh_filtered-dcd_bbh, axis=1), histtype=\"step\", range=(0, 0.01), bins=50, density=True, label=\"bbh\")\n",
    "foo = plt.hist(np.var(sg_filtered-dcd_sg, axis=1), histtype=\"step\", range=(0, 0.01), bins=50, density=True, label=\"sg\")\n",
    "foo = plt.hist(np.var(glitch_fft-dcd_glitch, axis=1), histtype=\"step\", range=(0, 0.01), bins=50, density=True, label=\"glitch\")\n",
    "plt.title(\"trained with noise\")\n",
    "# plt.axvline(c0[currentStep], color=\"k\", linestyle=\"--\")\n",
    "plt.axvline(np.sort(np.var(bbh_filtered-dcd_bbh, axis=1))[int(0.1 * len(bbh_filtered))], color = 'k', linestyle = '--')\n",
    "plt.legend()\n",
    "plt.ylim(0,2000)"
   ]
  },
  {
   "cell_type": "code",
   "execution_count": 65,
   "metadata": {},
   "outputs": [
    {
     "data": {
      "text/plain": [
       "(0.0, 2000.0)"
      ]
     },
     "execution_count": 65,
     "metadata": {},
     "output_type": "execute_result"
    },
    {
     "data": {
      "image/png": "[encoded data removed]",
      "text/plain": [
       "<Figure size 640x480 with 1 Axes>"
      ]
     },
     "metadata": {},
     "output_type": "display_data"
    }
   ],
   "source": [
    "model = models['noise']\n",
    "\n",
    "bkg_filtered = dataset_wsl_fft['noise']\n",
    "bbh_filtered = dataset_wsl_fft['bbh']\n",
    "sg_filtered = dataset_wsl_fft['sg']\n",
    "\n",
    "# c0[currentStep] = 0.0022;\n",
    "\n",
    "dcd_bkg = model(torch.FloatTensor(bkg_filtered))[1].detach().numpy()\n",
    "dcd_bbh = model(torch.FloatTensor(bbh_filtered))[1].detach().numpy()\n",
    "dcd_sg = model(torch.FloatTensor(sg_filtered))[1].detach().numpy()\n",
    "# dcd_glitch = model(torch.FloatTensor(glitch_fft))[1].detach().numpy()\n",
    "\n",
    "foo = plt.hist(np.var(bkg_filtered-dcd_bkg, axis=1), histtype=\"step\", range=(0, 0.01), bins=50, density=True, label=\"noise\")\n",
    "foo = plt.hist(np.var(bbh_filtered-dcd_bbh, axis=1), histtype=\"step\", range=(0, 0.01), bins=50, density=True, label=\"bbh\")\n",
    "foo = plt.hist(np.var(sg_filtered-dcd_sg, axis=1), histtype=\"step\", range=(0, 0.01), bins=50, density=True, label=\"sg\")\n",
    "# foo = plt.hist(np.var(glitch_fft-dcd_glitch, axis=1), histtype=\"step\", range=(0, 0.01), bins=50, density=True, label=\"glitch\")\n",
    "plt.title(\"trained with noise\")\n",
    "# plt.axvline(c0[currentStep], color=\"k\", linestyle=\"--\")\n",
    "plt.axvline(np.sort(np.var(bbh_filtered-dcd_bbh, axis=1))[int(0.1 * len(bbh_filtered))], color = 'k', linestyle = '--')\n",
    "plt.legend()\n",
    "plt.ylim(0,2000)"
   ]
  },
  {
   "cell_type": "code",
   "execution_count": 66,
   "metadata": {},
   "outputs": [
    {
     "data": {
      "text/plain": [
       "AutoEncoder(\n",
       "  (encoder): Sequential(\n",
       "    (0): Linear(in_features=202, out_features=20, bias=True)\n",
       "    (1): ReLU()\n",
       "    (2): Linear(in_features=20, out_features=10, bias=True)\n",
       "    (3): ReLU()\n",
       "  )\n",
       "  (decoder): Sequential(\n",
       "    (0): Linear(in_features=10, out_features=20, bias=True)\n",
       "    (1): ReLU()\n",
       "    (2): Linear(in_features=20, out_features=202, bias=True)\n",
       "    (3): Sigmoid()\n",
       "  )\n",
       ")"
      ]
     },
     "execution_count": 66,
     "metadata": {},
     "output_type": "execute_result"
    }
   ],
   "source": [
    "model"
   ]
  },
  {
   "cell_type": "code",
   "execution_count": 94,
   "metadata": {},
   "outputs": [
    {
     "data": {
      "text/plain": [
       "<matplotlib.legend.Legend at 0x1c81edb2690>"
      ]
     },
     "execution_count": 94,
     "metadata": {},
     "output_type": "execute_result"
    },
    {
     "data": {
      "image/png": "[encoded data removed]",
      "text/plain": [
       "<Figure size 640x480 with 1 Axes>"
      ]
     },
     "metadata": {},
     "output_type": "display_data"
    }
   ],
   "source": [
    "# Chia-Jui data + GWAK model\n",
    "\n",
    "model = models['glitch_WSC']\n",
    "\n",
    "bkg_filtered = dataset_wsl_fft['noise']\n",
    "bbh_filtered = dataset_wsl_fft['bbh']\n",
    "sg_filtered = dataset_wsl_fft['sg']\n",
    "\n",
    "\n",
    "# c0[currentStep] = 0.0022;\n",
    "\n",
    "dcd_bkg = nn.Sigmoid()(model(torch.FloatTensor(bkg_filtered))).detach().numpy()\n",
    "dcd_bbh = nn.Sigmoid()(model(torch.FloatTensor(bbh_filtered))).detach().numpy()\n",
    "dcd_sg = nn.Sigmoid()(model(torch.FloatTensor(sg_filtered))).detach().numpy()\n",
    "dcd_glitch = nn.Sigmoid()(model(torch.FloatTensor(glitch_fft))).detach().numpy()\n",
    "\n",
    "# foo = plt.hist(np.var(bkg_filtered-dcd_bkg, axis=1), histtype=\"step\", range=(0, 0.01), bins=50, density=True, label=\"noise\")\n",
    "# foo = plt.hist(np.var(bbh_filtered-dcd_bbh, axis=1), histtype=\"step\", range=(0, 0.01), bins=50, density=True, label=\"bbh\")\n",
    "# foo = plt.hist(np.var(sg_filtered-dcd_sg, axis=1), histtype=\"step\", range=(0, 0.01), bins=50, density=True, label=\"sg\")\n",
    "# foo = plt.hist(np.var(glitch_fft-dcd_glitch, axis=1), histtype=\"step\", range=(0, 0.01), bins=50, density=True, label=\"glitch\")\n",
    "foo = plt.hist(dcd_bkg, histtype=\"step\", range=(0, 1), bins=50, density=True, label=\"noise\")\n",
    "foo = plt.hist(dcd_bbh, histtype=\"step\", range=(0, 1), bins=50, density=True, label=\"bbh\")\n",
    "foo = plt.hist(dcd_sg, histtype=\"step\", range=(0, 1), bins=50, density=True, label=\"sg\")\n",
    "foo = plt.hist(dcd_glitch, histtype=\"step\", range=(0, 1), bins=50, density=True, label=\"glitch\")\n",
    "plt.title(\"trained with glitch\")\n",
    "# plt.axvline(c0[currentStep], color=\"k\", linestyle=\"--\")\n",
    "plt.axvline(np.sort(dcd_bbh.flatten())[int(0.1 * len(bbh_filtered))], color = 'k', linestyle = '--')\n",
    "plt.legend()\n",
    "# plt.ylim(0,2000)"
   ]
  },
  {
   "cell_type": "code",
   "execution_count": 44,
   "metadata": {},
   "outputs": [
    {
     "data": {
      "text/plain": [
       "<matplotlib.legend.Legend at 0x1c8256671d0>"
      ]
     },
     "execution_count": 44,
     "metadata": {},
     "output_type": "execute_result"
    },
    {
     "data": {
      "image/png": "[encoded data removed]",
      "text/plain": [
       "<Figure size 640x480 with 1 Axes>"
      ]
     },
     "metadata": {},
     "output_type": "display_data"
    }
   ],
   "source": [
    "# Chia-Jui data + GWAK model\n",
    "\n",
    "model = models['glitch_WSC']\n",
    "\n",
    "bkg_filtered = dataset_wsl_fft['noise']\n",
    "bbh_filtered = dataset_wsl_fft['bbh']\n",
    "sg_filtered = dataset_wsl_fft['sg']\n",
    "\n",
    "\n",
    "# c0[currentStep] = 0.0022;\n",
    "\n",
    "dcd_bkg = nn.Sigmoid()(model(torch.FloatTensor(bkg_filtered))).detach().numpy()\n",
    "dcd_bbh = nn.Sigmoid()(model(torch.FloatTensor(bbh_filtered))).detach().numpy()\n",
    "dcd_sg = nn.Sigmoid()(model(torch.FloatTensor(sg_filtered))).detach().numpy()\n",
    "dcd_glitch = nn.Sigmoid()(model(torch.FloatTensor(glitch_fft))).detach().numpy()\n",
    "\n",
    "# foo = plt.hist(np.var(bkg_filtered-dcd_bkg, axis=1), histtype=\"step\", range=(0, 0.01), bins=50, density=True, label=\"noise\")\n",
    "# foo = plt.hist(np.var(bbh_filtered-dcd_bbh, axis=1), histtype=\"step\", range=(0, 0.01), bins=50, density=True, label=\"bbh\")\n",
    "# foo = plt.hist(np.var(sg_filtered-dcd_sg, axis=1), histtype=\"step\", range=(0, 0.01), bins=50, density=True, label=\"sg\")\n",
    "# foo = plt.hist(np.var(glitch_fft-dcd_glitch, axis=1), histtype=\"step\", range=(0, 0.01), bins=50, density=True, label=\"glitch\")\n",
    "foo = plt.hist(dcd_bkg, histtype=\"step\", range=(0, 1), bins=50, density=True, label=\"noise\")\n",
    "foo = plt.hist(dcd_bbh, histtype=\"step\", range=(0, 1), bins=50, density=True, label=\"bbh\")\n",
    "foo = plt.hist(dcd_sg, histtype=\"step\", range=(0, 1), bins=50, density=True, label=\"sg\")\n",
    "foo = plt.hist(dcd_glitch, histtype=\"step\", range=(0, 1), bins=50, density=True, label=\"glitch\")\n",
    "plt.title(\"trained with noise\")\n",
    "# plt.axvline(c0[currentStep], color=\"k\", linestyle=\"--\")\n",
    "plt.axvline(np.sort(dcd_bbh.flatten())[int(0.1 * len(bbh_filtered))], color = 'k', linestyle = '--')\n",
    "plt.legend()\n",
    "# plt.ylim(0,2000)"
   ]
  },
  {
   "cell_type": "code",
   "execution_count": 92,
   "metadata": {},
   "outputs": [
    {
     "data": {
      "text/plain": [
       "<matplotlib.legend.Legend at 0x1c8253ee4d0>"
      ]
     },
     "execution_count": 92,
     "metadata": {},
     "output_type": "execute_result"
    },
    {
     "data": {
      "image/png": "[encoded data removed]",
      "text/plain": [
       "<Figure size 640x480 with 1 Axes>"
      ]
     },
     "metadata": {},
     "output_type": "display_data"
    }
   ],
   "source": [
    "# Chia-Jui data + GWAK model\n",
    "\n",
    "model = models['noise_WSC']\n",
    "\n",
    "bkg_filtered = dataset_wsl_fft['noise']\n",
    "bbh_filtered = dataset_wsl_fft['bbh']\n",
    "sg_filtered = dataset_wsl_fft['sg']\n",
    "\n",
    "\n",
    "# c0[currentStep] = 0.0022;\n",
    "\n",
    "dcd_bkg = nn.Sigmoid()(model(torch.FloatTensor(bkg_filtered))).detach().numpy()\n",
    "dcd_bbh = nn.Sigmoid()(model(torch.FloatTensor(bbh_filtered))).detach().numpy()\n",
    "dcd_sg = nn.Sigmoid()(model(torch.FloatTensor(sg_filtered))).detach().numpy()\n",
    "dcd_glitch = nn.Sigmoid()(model(torch.FloatTensor(glitch_fft))).detach().numpy()\n",
    "\n",
    "# foo = plt.hist(np.var(bkg_filtered-dcd_bkg, axis=1), histtype=\"step\", range=(0, 0.01), bins=50, density=True, label=\"noise\")\n",
    "# foo = plt.hist(np.var(bbh_filtered-dcd_bbh, axis=1), histtype=\"step\", range=(0, 0.01), bins=50, density=True, label=\"bbh\")\n",
    "# foo = plt.hist(np.var(sg_filtered-dcd_sg, axis=1), histtype=\"step\", range=(0, 0.01), bins=50, density=True, label=\"sg\")\n",
    "# foo = plt.hist(np.var(glitch_fft-dcd_glitch, axis=1), histtype=\"step\", range=(0, 0.01), bins=50, density=True, label=\"glitch\")\n",
    "foo = plt.hist(dcd_bkg, histtype=\"step\", range=(0, 1), bins=50, density=True, label=\"noise\")\n",
    "foo = plt.hist(dcd_bbh, histtype=\"step\", range=(0, 1), bins=50, density=True, label=\"bbh\")\n",
    "foo = plt.hist(dcd_sg, histtype=\"step\", range=(0, 1), bins=50, density=True, label=\"sg\")\n",
    "foo = plt.hist(dcd_glitch, histtype=\"step\", range=(0, 1), bins=50, density=True, label=\"glitch\")\n",
    "plt.title(\"trained with noise\")\n",
    "# plt.axvline(c0[currentStep], color=\"k\", linestyle=\"--\")\n",
    "plt.axvline(np.sort(dcd_bbh.flatten())[int(0.1 * len(bbh_filtered))], color = 'k', linestyle = '--')\n",
    "plt.legend()\n",
    "# plt.ylim(0,2000)"
   ]
  },
  {
   "cell_type": "code",
   "execution_count": null,
   "metadata": {},
   "outputs": [],
   "source": []
  },
  {
   "cell_type": "code",
   "execution_count": 78,
   "metadata": {},
   "outputs": [
    {
     "data": {
      "text/plain": [
       "<matplotlib.legend.Legend at 0x1c82570f1d0>"
      ]
     },
     "execution_count": 78,
     "metadata": {},
     "output_type": "execute_result"
    },
    {
     "data": {
      "image/png": "[encoded data removed]",
      "text/plain": [
       "<Figure size 640x480 with 1 Axes>"
      ]
     },
     "metadata": {},
     "output_type": "display_data"
    }
   ],
   "source": [
    "# Chia-Jui data + Chia-Jui model\n",
    "\n",
    "model = models['glitch_WSC']\n",
    "\n",
    "bkg_filtered = dataset_wsl_fft['noise']\n",
    "bbh_filtered = dataset_wsl_fft['bbh']\n",
    "sg_filtered = dataset_wsl_fft['sg']\n",
    "\n",
    "\n",
    "# c0[currentStep] = 0.0022;\n",
    "\n",
    "dcd_bkg = nn.Sigmoid()(model(torch.FloatTensor(bkg_filtered))).detach().numpy()\n",
    "dcd_bbh = nn.Sigmoid()(model(torch.FloatTensor(bbh_filtered))).detach().numpy()\n",
    "dcd_sg = nn.Sigmoid()(model(torch.FloatTensor(sg_filtered))).detach().numpy()\n",
    "dcd_glitch = nn.Sigmoid()(model(torch.FloatTensor(glitch_fft))).detach().numpy()\n",
    "\n",
    "# foo = plt.hist(np.var(bkg_filtered-dcd_bkg, axis=1), histtype=\"step\", range=(0, 0.01), bins=50, density=True, label=\"noise\")\n",
    "# foo = plt.hist(np.var(bbh_filtered-dcd_bbh, axis=1), histtype=\"step\", range=(0, 0.01), bins=50, density=True, label=\"bbh\")\n",
    "# foo = plt.hist(np.var(sg_filtered-dcd_sg, axis=1), histtype=\"step\", range=(0, 0.01), bins=50, density=True, label=\"sg\")\n",
    "# foo = plt.hist(np.var(glitch_fft-dcd_glitch, axis=1), histtype=\"step\", range=(0, 0.01), bins=50, density=True, label=\"glitch\")\n",
    "foo = plt.hist(dcd_bkg, histtype=\"step\", range=(0, 1), bins=50, density=True, label=\"noise\")\n",
    "foo = plt.hist(dcd_bbh, histtype=\"step\", range=(0, 1), bins=50, density=True, label=\"bbh\")\n",
    "foo = plt.hist(dcd_sg, histtype=\"step\", range=(0, 1), bins=50, density=True, label=\"sg\")\n",
    "foo = plt.hist(dcd_glitch, histtype=\"step\", range=(0, 1), bins=50, density=True, label=\"glitch\")\n",
    "plt.title(\"trained with noise\")\n",
    "# plt.axvline(c0[currentStep], color=\"k\", linestyle=\"--\")\n",
    "plt.axvline(np.sort(dcd_bbh.flatten())[int(0.1 * len(bbh_filtered))], color = 'k', linestyle = '--')\n",
    "plt.legend()\n",
    "# plt.ylim(0,2000)"
   ]
  },
  {
   "cell_type": "code",
   "execution_count": 67,
   "metadata": {},
   "outputs": [
    {
     "data": {
      "text/plain": [
       "<matplotlib.legend.Legend at 0x1aec8b0c410>"
      ]
     },
     "execution_count": 67,
     "metadata": {},
     "output_type": "execute_result"
    },
    {
     "data": {
      "image/png": "[encoded data removed]",
      "text/plain": [
       "<Figure size 640x480 with 1 Axes>"
      ]
     },
     "metadata": {},
     "output_type": "display_data"
    }
   ],
   "source": [
    "model = models['noise_WSC']\n",
    "\n",
    "bkg_filtered = dataset_wsl_fft['noise']\n",
    "bbh_filtered = dataset_wsl_fft['bbh']\n",
    "sg_filtered = dataset_wsl_fft['sg']\n",
    "\n",
    "# c0[currentStep] = 0.0022;\n",
    "\n",
    "dcd_bkg = nn.Sigmoid()(model(torch.FloatTensor(bkg_filtered))).detach().numpy()\n",
    "dcd_bbh = nn.Sigmoid()(model(torch.FloatTensor(bbh_filtered))).detach().numpy()\n",
    "dcd_sg = nn.Sigmoid()(model(torch.FloatTensor(sg_filtered))).detach().numpy()\n",
    "# dcd_glitch = model(torch.FloatTensor(glitch_fft))[1].detach().numpy()\n",
    "\n",
    "# foo = plt.hist(np.var(bkg_filtered-dcd_bkg, axis=1), histtype=\"step\", range=(0, 0.01), bins=50, density=True, label=\"noise\")\n",
    "# foo = plt.hist(np.var(bbh_filtered-dcd_bbh, axis=1), histtype=\"step\", range=(0, 0.01), bins=50, density=True, label=\"bbh\")\n",
    "# foo = plt.hist(np.var(sg_filtered-dcd_sg, axis=1), histtype=\"step\", range=(0, 0.01), bins=50, density=True, label=\"sg\")\n",
    "# foo = plt.hist(np.var(glitch_fft-dcd_glitch, axis=1), histtype=\"step\", range=(0, 0.01), bins=50, density=True, label=\"glitch\")\n",
    "foo = plt.hist(dcd_bkg, histtype=\"step\", range=(0, 1), bins=50, density=True, label=\"noise\")\n",
    "foo = plt.hist(dcd_bbh, histtype=\"step\", range=(0, 1), bins=50, density=True, label=\"bbh\")\n",
    "foo = plt.hist(dcd_sg, histtype=\"step\", range=(0, 1), bins=50, density=True, label=\"sg\")\n",
    "plt.title(\"trained with noise\")\n",
    "# plt.axvline(c0[currentStep], color=\"k\", linestyle=\"--\")\n",
    "plt.axvline(np.sort(dcd_bbh.flatten())[int(0.1 * len(bbh_filtered))], color = 'k', linestyle = '--')\n",
    "plt.legend()\n",
    "# plt.ylim(0,2000)"
   ]
  },
  {
   "cell_type": "code",
   "execution_count": null,
   "metadata": {},
   "outputs": [
    {
     "data": {
      "text/plain": [
       "array([[0.00560376],\n",
       "       [0.01588806],\n",
       "       [0.02525922],\n",
       "       [0.07428777],\n",
       "       [0.29004525],\n",
       "       [0.00577879],\n",
       "       [0.01164927],\n",
       "       [0.02279853],\n",
       "       [0.04604085],\n",
       "       [0.27701613],\n",
       "       [0.00392454],\n",
       "       [0.0139595 ],\n",
       "       [0.02496768],\n",
       "       [0.04971686],\n",
       "       [0.27548517],\n",
       "       [0.00623608],\n",
       "       [0.0083835 ],\n",
       "       [0.02873179],\n",
       "       [0.14465073],\n",
       "       [0.30256365],\n",
       "       [0.00623664],\n",
       "       [0.01376821],\n",
       "       [0.02466388],\n",
       "       [0.08350033],\n",
       "       [0.14796328]])"
      ]
     },
     "metadata": {},
     "output_type": "display_data"
    }
   ],
   "source": [
    "listResult['FPR']"
   ]
  },
  {
   "cell_type": "code",
   "execution_count": null,
   "metadata": {},
   "outputs": [
    {
     "data": {
      "text/plain": [
       "0.003924541765151853"
      ]
     },
     "metadata": {},
     "output_type": "display_data"
    }
   ],
   "source": [
    "listResult['FPR'].min()"
   ]
  },
  {
   "cell_type": "code",
   "execution_count": null,
   "metadata": {},
   "outputs": [
    {
     "data": {
      "text/plain": [
       "array([], shape=(0, 1), dtype=float64)"
      ]
     },
     "metadata": {},
     "output_type": "display_data"
    }
   ],
   "source": [
    "listResult['FPR'][np.argwhere(listResult['cut'] == [2,0]).flatten()]"
   ]
  },
  {
   "cell_type": "code",
   "execution_count": null,
   "metadata": {},
   "outputs": [
    {
     "data": {
      "text/plain": [
       "array([[0.0382321 ],\n",
       "       [0.03678628],\n",
       "       [0.03791166],\n",
       "       [0.0369185 ],\n",
       "       [0.03972851],\n",
       "       [0.03664382],\n",
       "       [0.03754649],\n",
       "       [0.03628057],\n",
       "       [0.03802401],\n",
       "       [0.03817204],\n",
       "       [0.0379521 ],\n",
       "       [0.04192311],\n",
       "       [0.03758527],\n",
       "       [0.03910465],\n",
       "       [0.03774258],\n",
       "       [0.03995546],\n",
       "       [0.0367893 ],\n",
       "       [0.03808633],\n",
       "       [0.03779885],\n",
       "       [0.03760904],\n",
       "       [0.03973628],\n",
       "       [0.03720536],\n",
       "       [0.03948891],\n",
       "       [0.04333111],\n",
       "       [0.03725822]])"
      ]
     },
     "metadata": {},
     "output_type": "display_data"
    }
   ],
   "source": [
    "listResult['FPR']"
   ]
  },
  {
   "cell_type": "code",
   "execution_count": null,
   "metadata": {},
   "outputs": [
    {
     "data": {
      "text/plain": [
       "0.006"
      ]
     },
     "metadata": {},
     "output_type": "display_data"
    }
   ],
   "source": [
    "135 / 22500"
   ]
  },
  {
   "cell_type": "code",
   "execution_count": null,
   "metadata": {},
   "outputs": [
    {
     "data": {
      "text/plain": [
       "{'glitch': array([0.0024 , 0.00215, 0.0019 , 0.00165, 0.0014 ]),\n",
       " 'noise': array([0.0026, 0.0024, 0.0022, 0.002 , 0.0018]),\n",
       " 'bbh': array([0.0024 , 0.00215, 0.0019 , 0.00165, 0.0014 ]),\n",
       " 'sg': array([0.0032, 0.0026, 0.002 , 0.0014, 0.0008])}"
      ]
     },
     "metadata": {},
     "output_type": "display_data"
    }
   ],
   "source": [
    "cutList"
   ]
  },
  {
   "cell_type": "code",
   "execution_count": null,
   "metadata": {},
   "outputs": [
    {
     "data": {
      "text/plain": [
       "Text(0, 0.5, 'percentage')"
      ]
     },
     "metadata": {},
     "output_type": "display_data"
    },
    {
     "data": {
      "image/png": "[encoded data removed]",
      "text/plain": [
       "<Figure size 640x480 with 1 Axes>"
      ]
     },
     "metadata": {},
     "output_type": "display_data"
    }
   ],
   "source": [
    "foo = np.array([ [0.01*A, np.sum(np.all(listResult[\"accuracy_4\"] >= 0.01*A, axis=1))/len(listResult[\"accuracy_4\"])] for A in range(101)])\n",
    "plt.plot(foo[:, 0], foo[:, 1])\n",
    "plt.title('4-class accuracy')\n",
    "plt.xlabel('minimal accuracy larger than...')\n",
    "plt.ylabel('percentage')"
   ]
  },
  {
   "cell_type": "code",
   "execution_count": null,
   "metadata": {},
   "outputs": [
    {
     "data": {
      "text/plain": [
       "array([[0.998     , 0.94366667, 0.95925   , 0.81125   ]])"
      ]
     },
     "metadata": {},
     "output_type": "display_data"
    }
   ],
   "source": [
    "listResult[\"accuracy_4\"][np.argwhere(np.all(listResult[\"accuracy_4\"]>0.8, axis=1)).flatten()]"
   ]
  },
  {
   "cell_type": "code",
   "execution_count": null,
   "metadata": {},
   "outputs": [
    {
     "data": {
      "text/plain": [
       "Text(0, 0.5, 'percentage')"
      ]
     },
     "metadata": {},
     "output_type": "display_data"
    },
    {
     "data": {
      "image/png": "[encoded data removed]",
      "text/plain": [
       "<Figure size 640x480 with 1 Axes>"
      ]
     },
     "metadata": {},
     "output_type": "display_data"
    }
   ],
   "source": [
    "foo = np.array([ [0.01*A, np.sum(np.all(listResult[\"accuracy_2\"] >= 0.01*A, axis=1))/len(listResult[\"accuracy_2\"])] for A in range(101)])\n",
    "plt.plot(foo[:, 0], foo[:, 1])\n",
    "plt.title('2-class accuracy')\n",
    "plt.xlabel('minimal accuracy larger than...')\n",
    "plt.ylabel('percentage')"
   ]
  },
  {
   "cell_type": "code",
   "execution_count": null,
   "metadata": {},
   "outputs": [],
   "source": [
    "listResult[\"total_accuracy\"] = np.sum(listResult[\"ans\"]==correct_ans, axis=1)/len(testset)"
   ]
  },
  {
   "cell_type": "code",
   "execution_count": null,
   "metadata": {},
   "outputs": [
    {
     "data": {
      "text/plain": [
       "0.96345"
      ]
     },
     "metadata": {},
     "output_type": "display_data"
    }
   ],
   "source": [
    "listResult['total_accuracy'].max()"
   ]
  },
  {
   "cell_type": "code",
   "execution_count": null,
   "metadata": {},
   "outputs": [
    {
     "data": {
      "text/plain": [
       "array([[0.999     , 0.95303333, 0.91975   , 0.69625   ]])"
      ]
     },
     "metadata": {},
     "output_type": "display_data"
    }
   ],
   "source": [
    "listResult[\"accuracy_4\"][np.argmax(listResult[\"accuracy_4\"]>0.8).flatten()]"
   ]
  },
  {
   "cell_type": "code",
   "execution_count": null,
   "metadata": {},
   "outputs": [],
   "source": []
  },
  {
   "cell_type": "code",
   "execution_count": null,
   "metadata": {},
   "outputs": [
    {
     "data": {
      "text/plain": [
       "array([[83]], dtype=int64)"
      ]
     },
     "metadata": {},
     "output_type": "display_data"
    }
   ],
   "source": [
    "np.argwhere(np.all(np.array(list(itertools.product(np.arange(Ncut), np.arange(Ncut), np.arange(Ncut)))) == np.array([3,1,3]), axis = 1))"
   ]
  },
  {
   "cell_type": "code",
   "execution_count": null,
   "metadata": {},
   "outputs": [
    {
     "data": {
      "text/plain": [
       "array([[0, 0, 0],\n",
       "       [0, 0, 1],\n",
       "       [0, 0, 2],\n",
       "       [0, 0, 3],\n",
       "       [0, 0, 4],\n",
       "       [0, 1, 0],\n",
       "       [0, 1, 1],\n",
       "       [0, 1, 2],\n",
       "       [0, 1, 3],\n",
       "       [0, 1, 4],\n",
       "       [0, 2, 0],\n",
       "       [0, 2, 1],\n",
       "       [0, 2, 2],\n",
       "       [0, 2, 3],\n",
       "       [0, 2, 4],\n",
       "       [0, 3, 0],\n",
       "       [0, 3, 1],\n",
       "       [0, 3, 2],\n",
       "       [0, 3, 3],\n",
       "       [0, 3, 4],\n",
       "       [0, 4, 0],\n",
       "       [0, 4, 1],\n",
       "       [0, 4, 2],\n",
       "       [0, 4, 3],\n",
       "       [0, 4, 4],\n",
       "       [1, 0, 0],\n",
       "       [1, 0, 1],\n",
       "       [1, 0, 2],\n",
       "       [1, 0, 3],\n",
       "       [1, 0, 4],\n",
       "       [1, 1, 0],\n",
       "       [1, 1, 1],\n",
       "       [1, 1, 2],\n",
       "       [1, 1, 3],\n",
       "       [1, 1, 4],\n",
       "       [1, 2, 0],\n",
       "       [1, 2, 1],\n",
       "       [1, 2, 2],\n",
       "       [1, 2, 3],\n",
       "       [1, 2, 4],\n",
       "       [1, 3, 0],\n",
       "       [1, 3, 1],\n",
       "       [1, 3, 2],\n",
       "       [1, 3, 3],\n",
       "       [1, 3, 4],\n",
       "       [1, 4, 0],\n",
       "       [1, 4, 1],\n",
       "       [1, 4, 2],\n",
       "       [1, 4, 3],\n",
       "       [1, 4, 4],\n",
       "       [2, 0, 0],\n",
       "       [2, 0, 1],\n",
       "       [2, 0, 2],\n",
       "       [2, 0, 3],\n",
       "       [2, 0, 4],\n",
       "       [2, 1, 0],\n",
       "       [2, 1, 1],\n",
       "       [2, 1, 2],\n",
       "       [2, 1, 3],\n",
       "       [2, 1, 4],\n",
       "       [2, 2, 0],\n",
       "       [2, 2, 1],\n",
       "       [2, 2, 2],\n",
       "       [2, 2, 3],\n",
       "       [2, 2, 4],\n",
       "       [2, 3, 0],\n",
       "       [2, 3, 1],\n",
       "       [2, 3, 2],\n",
       "       [2, 3, 3],\n",
       "       [2, 3, 4],\n",
       "       [2, 4, 0],\n",
       "       [2, 4, 1],\n",
       "       [2, 4, 2],\n",
       "       [2, 4, 3],\n",
       "       [2, 4, 4],\n",
       "       [3, 0, 0],\n",
       "       [3, 0, 1],\n",
       "       [3, 0, 2],\n",
       "       [3, 0, 3],\n",
       "       [3, 0, 4],\n",
       "       [3, 1, 0],\n",
       "       [3, 1, 1],\n",
       "       [3, 1, 2],\n",
       "       [3, 1, 3],\n",
       "       [3, 1, 4],\n",
       "       [3, 2, 0],\n",
       "       [3, 2, 1],\n",
       "       [3, 2, 2],\n",
       "       [3, 2, 3],\n",
       "       [3, 2, 4],\n",
       "       [3, 3, 0],\n",
       "       [3, 3, 1],\n",
       "       [3, 3, 2],\n",
       "       [3, 3, 3],\n",
       "       [3, 3, 4],\n",
       "       [3, 4, 0],\n",
       "       [3, 4, 1],\n",
       "       [3, 4, 2],\n",
       "       [3, 4, 3],\n",
       "       [3, 4, 4],\n",
       "       [4, 0, 0],\n",
       "       [4, 0, 1],\n",
       "       [4, 0, 2],\n",
       "       [4, 0, 3],\n",
       "       [4, 0, 4],\n",
       "       [4, 1, 0],\n",
       "       [4, 1, 1],\n",
       "       [4, 1, 2],\n",
       "       [4, 1, 3],\n",
       "       [4, 1, 4],\n",
       "       [4, 2, 0],\n",
       "       [4, 2, 1],\n",
       "       [4, 2, 2],\n",
       "       [4, 2, 3],\n",
       "       [4, 2, 4],\n",
       "       [4, 3, 0],\n",
       "       [4, 3, 1],\n",
       "       [4, 3, 2],\n",
       "       [4, 3, 3],\n",
       "       [4, 3, 4],\n",
       "       [4, 4, 0],\n",
       "       [4, 4, 1],\n",
       "       [4, 4, 2],\n",
       "       [4, 4, 3],\n",
       "       [4, 4, 4]])"
      ]
     },
     "metadata": {},
     "output_type": "display_data"
    }
   ],
   "source": [
    "np.array(list(itertools.product(np.arange(Ncut), np.arange(Ncut), np.arange(Ncut))))"
   ]
  },
  {
   "cell_type": "code",
   "execution_count": null,
   "metadata": {},
   "outputs": [
    {
     "data": {
      "text/plain": [
       "array([4, 4, 4, 4])"
      ]
     },
     "metadata": {},
     "output_type": "display_data"
    }
   ],
   "source": [
    "ic"
   ]
  },
  {
   "cell_type": "code",
   "execution_count": null,
   "metadata": {},
   "outputs": [
    {
     "data": {
      "text/plain": [
       "{'glitch': array([0.0024 , 0.00215, 0.0019 , 0.00165, 0.0014 ]),\n",
       " 'noise': array([0.0026 , 0.00235, 0.0021 , 0.00185, 0.0016 ]),\n",
       " 'bbh': array([0.0024 , 0.00215, 0.0019 , 0.00165, 0.0014 ]),\n",
       " 'sg': array([0.0032, 0.0026, 0.002 , 0.0014, 0.0008])}"
      ]
     },
     "metadata": {},
     "output_type": "display_data"
    }
   ],
   "source": [
    "cutList"
   ]
  },
  {
   "cell_type": "markdown",
   "metadata": {},
   "source": []
  }
 ],
 "metadata": {
  "kernelspec": {
   "display_name": "Python 3 (ipykernel)",
   "language": "python",
   "name": "python3"
  }
 },
 "nbformat": 4,
 "nbformat_minor": 2
}
