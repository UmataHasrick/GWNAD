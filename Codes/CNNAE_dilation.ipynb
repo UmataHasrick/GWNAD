{
 "cells": [
  {
   "cell_type": "code",
   "execution_count": 1,
   "metadata": {},
   "outputs": [
    {
     "data": {
      "image/png": "[encoded data removed]",
      "text/plain": [
       "<Figure size 640x480 with 1 Axes>"
      ]
     },
     "metadata": {},
     "output_type": "display_data"
    }
   ],
   "source": [
    "import numpy as np\n",
    "import matplotlib.pyplot as plt\n",
    "import time\n",
    "import h5py\n",
    "from scipy.stats import norm\n",
    "import torch\n",
    "from torch.utils.data import DataLoader\n",
    "from torch.utils.data import TensorDataset\n",
    "from torch import nn, optim\n",
    "import scipy.io as sio\n",
    "import torch.nn.functional as F\n",
    "# import pandas as pd\n",
    "import datetime\n",
    "import os\n",
    "# import readligo as rl\n",
    "# from gwpy.timeseries import TimeSeries\n",
    "import math\n",
    "import random\n",
    "\n",
    "import copy"
   ]
  },
  {
   "cell_type": "code",
   "execution_count": 13,
   "metadata": {},
   "outputs": [],
   "source": [
    "epochs = 100\n",
    "rTrain = 0.7;\n",
    "rTest = 0.2;\n",
    "rValidation = 0.1\n",
    "# input_vector_length = 100\n",
    "batch_size = 32\n",
    "num_bins = 40\n",
    "coef_delta = 0"
   ]
  },
  {
   "cell_type": "markdown",
   "metadata": {},
   "source": [
    "# Definition of the structure"
   ]
  },
  {
   "cell_type": "code",
   "execution_count": null,
   "metadata": {},
   "outputs": [],
   "source": [
    "class AutoEncoder(nn.Module):\n",
    "    def __init__(self):\n",
    "        super(AutoEncoder, self).__init__()\n",
    "        self.conv1 = nn.Conv1d(in_channels=2, out_channels=50, kernel_size=2, stride=1, padding=1)# 100\n",
    "        self.batch1 = nn.BatchNorm1d(num_features=50)\n",
    "        self.act1 = nn.ReLU()\n",
    "        self.pool1 = nn.MaxPool1d(kernel_size=4, return_indices=True)\n",
    "        \n",
    "        self.conv2 = nn.Conv1d(in_channels=50, out_channels=20, kernel_size=2, stride=1, padding=1)# 40\n",
    "        self.batch2 = nn.BatchNorm1d(num_features=20)\n",
    "        self.act2 = nn.ReLU()\n",
    "#         self.pool2 = nn.MaxUnpool1d(kernel_size=4)\n",
    "        \n",
    "        self.conv3 = nn.Conv1d(in_channels=20, out_channels=50, kernel_size=2, stride=1, padding=1)# 100\n",
    "        self.batch3 = nn.BatchNorm1d(num_features=50)\n",
    "        self.act3 = nn.ReLU()\n",
    "        self.pool3 = nn.MaxUnpool1d(kernel_size=4)\n",
    "        \n",
    "        self.conv4 = nn.Conv1d(in_channels=50, out_channels=1, kernel_size=2, padding=1)\n",
    "        self.final = nn.Tanh()\n",
    "\n",
    "    def forward(self, x):\n",
    "#         print(x.shape)\n",
    "        x = self.conv1(x);\n",
    "        x = self.batch1(x);\n",
    "        x = self.act1(x);\n",
    "        x, indices = self.pool1(x);\n",
    "#         print(x.shape)\n",
    "#         x = self.pool1(self.act1(self.batch1(self.conv1(x))))\n",
    "        encoded = self.act2(self.conv2(x))\n",
    "#         print(encoded.shape)\n",
    "        \n",
    "        x = self.conv3(encoded)\n",
    "        x = self.batch3(x);\n",
    "        x = self.act3(x);\n",
    "#         print(x.shape)\n",
    "        x = self.pool3(x, indices);\n",
    "\n",
    "#         x = self.final(self.conv4(x))\n",
    "        x = self.conv4(x)\n",
    "\n",
    "        return encoded, x"
   ]
  },
  {
   "cell_type": "markdown",
   "metadata": {},
   "source": [
    "## Below is the model for Supervised Learning. We want to investigate its performance for glitch exclusion"
   ]
  },
  {
   "cell_type": "code",
   "execution_count": 3,
   "metadata": {},
   "outputs": [],
   "source": [
    "class WaveletCNNSL(nn.Module):\n",
    "    \n",
    "    def __init__(\n",
    "        self, \n",
    "        num_ifos: int,\n",
    "        c_depth: int=8, \n",
    "        n_chann: int=64, \n",
    "        l1: int=1024, \n",
    "        l2: int=128,\n",
    "        lx: int=200\n",
    "    ):\n",
    "        \n",
    "        super(WaveletCNNSL, self).__init__()\n",
    "        \n",
    "        self.c_depth = c_depth\n",
    "        self.n_chann = n_chann\n",
    "        \n",
    "        self.cap_norm = nn.GroupNorm(num_ifos, num_ifos)\n",
    "        \n",
    "        self.Conv_In = nn.Conv1d(\n",
    "                in_channels=num_ifos, \n",
    "                out_channels=self.n_chann, \n",
    "                kernel_size=1\n",
    "            )\n",
    "        \n",
    "        self.Conv_Out = nn.Conv1d(\n",
    "                in_channels=self.n_chann, \n",
    "                out_channels=1, \n",
    "                kernel_size=1\n",
    "            )\n",
    "        \n",
    "        self.body_norm = nn.GroupNorm(4 ,n_chann)\n",
    "        self.end_norm = nn.BatchNorm1d(1)\n",
    "        \n",
    "        self.WaveNet_layers = nn.ModuleList()\n",
    "        \n",
    "        \n",
    "        for i in range(self.c_depth):\n",
    "\n",
    "            conv_layer = nn.Conv1d(\n",
    "                in_channels=self.n_chann, \n",
    "                out_channels=self.n_chann,\n",
    "                kernel_size=2,\n",
    "                dilation=2**i\n",
    "            )\n",
    "            \n",
    "            self.WaveNet_layers.append(conv_layer)\n",
    "        \n",
    "        \n",
    "        # self.L1 = nn.Linear(8192-2**c_depth, l1)\n",
    "        \n",
    "        # Consider replacing other batch normalizatoin layers with other nor method\n",
    "        # Because batch norm are baised by the population of the CCSN rate in one batch \n",
    "        # This may produce overfitting model and will not be able to found at test phase\n",
    "        # Question: Will we be able to figure out the side effect at infereceing phase?\n",
    "        \n",
    "        self.L1_norm = nn.BatchNorm1d(200-2**c_depth)\n",
    "        self.L1 = nn.Linear(200-2**c_depth, l1)\n",
    "        self.L2_norm = nn.BatchNorm1d(l1)\n",
    "        self.L2 = nn.Linear(l1, l2)\n",
    "        self.L3_norm = nn.BatchNorm1d(l2)\n",
    "        self.L3 = nn.Linear(l2, 1)\n",
    "\n",
    "\n",
    "        nn.init.kaiming_normal_(self.Conv_In.weight)\n",
    "        nn.init.kaiming_normal_(self.Conv_Out.weight)\n",
    "        nn.init.constant_(self.Conv_In.bias, 0.001)\n",
    "        nn.init.constant_(self.Conv_Out.bias, 0.001)\n",
    "\n",
    "        # Initialize all the convolutional layer in between\n",
    "        for conv_layer in self.WaveNet_layers:\n",
    "            nn.init.kaiming_normal_(conv_layer.weight)\n",
    "            nn.init.constant_(conv_layer.bias, 0.001)\n",
    "\n",
    "        nn.init.kaiming_uniform_(self.L1.weight)\n",
    "        nn.init.kaiming_uniform_(self.L2.weight)\n",
    "        nn.init.constant_(self.L1.bias, 0.001)\n",
    "        nn.init.constant_(self.L2.bias, 0.001)\n",
    "        \n",
    "    def forward(self, x):\n",
    "\n",
    "        x = self.cap_norm(x)\n",
    "        x = self.Conv_In(x)\n",
    "        x = F.relu(x)\n",
    "        \n",
    "        # x = self.norm(x)\n",
    "        \n",
    "        for what_are_u_wavin_at in self.WaveNet_layers:\n",
    "            x = self.body_norm(x)\n",
    "            x = what_are_u_wavin_at(x)\n",
    "            x = F.relu(x)\n",
    "            \n",
    "        x = self.Conv_Out(x)\n",
    "        x = F.relu(x)\n",
    "        x = self.end_norm(x)\n",
    "        \n",
    "        x = torch.flatten(x, 1)\n",
    "        \n",
    "        \n",
    "        x = F.relu(self.L1(x))\n",
    "        x = self.L2_norm(x)\n",
    "        x = F.relu(self.L2(x))\n",
    "        x = self.L3_norm(x)\n",
    "        # x = F.softmax(self.L3(x), dim = 1)\n",
    "        x = self.L3(x)\n",
    "        \n",
    "        return x"
   ]
  },
  {
   "cell_type": "markdown",
   "metadata": {},
   "source": [
    "## Below is the model for AE. We don't know whether this is suitable for AE case. "
   ]
  },
  {
   "cell_type": "code",
   "execution_count": 28,
   "metadata": {},
   "outputs": [],
   "source": [
    "class WaveletCNNAE(nn.Module):\n",
    "    \n",
    "    def __init__(\n",
    "        self, \n",
    "        num_ifos: int,\n",
    "        c_depth: int=8, \n",
    "        n_chann: int=64, \n",
    "        l1: int=1024, \n",
    "        l2: int=128\n",
    "        # lx: int=200\n",
    "    ):\n",
    "        \n",
    "        super(WaveletCNNSL, self).__init__()\n",
    "        \n",
    "        self.c_depth = c_depth\n",
    "        self.n_chann = n_chann\n",
    "        \n",
    "        self.cap_norm = nn.GroupNorm(num_ifos, num_ifos)\n",
    "        \n",
    "        self.Conv_In_encode = nn.Conv1d(\n",
    "                in_channels=num_ifos, \n",
    "                out_channels=self.n_chann, \n",
    "                kernel_size=1\n",
    "            )\n",
    "        \n",
    "        self.Conv_Out_encode = nn.Conv1d(\n",
    "                in_channels=self.n_chann, \n",
    "                out_channels=1, \n",
    "                kernel_size=1\n",
    "            )\n",
    "        \n",
    "        self.Conv_In_decode = nn.Conv1d(\n",
    "                in_channels=1, \n",
    "                out_channels=self.n_chann, \n",
    "                kernel_size=1\n",
    "            )\n",
    "        \n",
    "        self.Conv_Out_decode = nn.Conv1d(\n",
    "                in_channels=self.n_chann, \n",
    "                out_channels=num_ifos, \n",
    "                kernel_size=1\n",
    "            )\n",
    "        \n",
    "        self.body_norm_encode = nn.GroupNorm(4 ,n_chann)\n",
    "        self.body_norm_decode = nn.GroupNorm(4 ,n_chann)\n",
    "        self.end_norm_encode = nn.BatchNorm1d(1)\n",
    "        self.end_norm_decode = nn.BatchNorm1d(1)\n",
    "        \n",
    "        self.WaveNet_layers_encode = nn.ModuleList()\n",
    "        self.WaveNet_layers_decode = nn.ModuleList()\n",
    "        \n",
    "        \n",
    "        for i in range(self.c_depth):\n",
    "\n",
    "            conv_layer = nn.Conv1d(\n",
    "                in_channels=self.n_chann, \n",
    "                out_channels=self.n_chann,\n",
    "                kernel_size=2,\n",
    "                dilation=2**i\n",
    "            )\n",
    "            \n",
    "            self.WaveNet_layers_encode.append(conv_layer)\n",
    "            \n",
    "        for i in range(self.c_depth):\n",
    "\n",
    "            conv_layer = nn.Conv1d(\n",
    "                in_channels=self.n_chann, \n",
    "                out_channels=self.n_chann,\n",
    "                kernel_size=2,\n",
    "                dilation=2**i\n",
    "            )\n",
    "            \n",
    "            self.WaveNet_layers_decode.append(conv_layer)\n",
    "        \n",
    "        \n",
    "        self.Padding_layer = nn.ZeroPad1d(2**c_depth - 1)\n",
    "                \n",
    "        # self.L1 = nn.Linear(8192-2**c_depth, l1)\n",
    "        \n",
    "        # Consider replacing other batch normalizatoin layers with other nor method\n",
    "        # Because batch norm are baised by the population of the CCSN rate in one batch \n",
    "        # This may produce overfitting model and will not be able to found at test phase\n",
    "        # Question: Will we be able to figure out the side effect at infereceing phase?\n",
    "        \n",
    "        self.L1_norm = nn.BatchNorm1d(200-2**c_depth + 1)\n",
    "        self.L1 = nn.Linear(200-2**c_depth + 1, l1)\n",
    "        self.L2_norm = nn.BatchNorm1d(l1)\n",
    "        self.L2 = nn.Linear(l1, l2)\n",
    "        # self.L3_norm = nn.BatchNorm1d(l2)\n",
    "        # self.L3 = nn.Linear(l2, 1)\n",
    "        self.L4_norm = nn.BatchNorm1d(l2)\n",
    "        self.L4 = nn.Linear(l2, l1)\n",
    "        self.L5_norm = nn.BatchNorm1d(l1)\n",
    "        self.L5 = nn.Linear(l1, 200-2**c_depth + 1)\n",
    "\n",
    "        nn.init.kaiming_normal_(self.Conv_In_encode.weight)\n",
    "        nn.init.kaiming_normal_(self.Conv_Out_encode.weight)\n",
    "        nn.init.constant_(self.Conv_In_encode.bias, 0.001)\n",
    "        nn.init.constant_(self.Conv_Out_encode.bias, 0.001)\n",
    "        \n",
    "        nn.init.kaiming_normal_(self.Conv_In_decode.weight)\n",
    "        nn.init.kaiming_normal_(self.Conv_Out_decode.weight)\n",
    "        nn.init.constant_(self.Conv_In_decode.bias, 0.001)\n",
    "        nn.init.constant_(self.Conv_Out_decode.bias, 0.001)\n",
    "\n",
    "        # Initialize all the convolutional layer in between\n",
    "        for conv_layer in self.WaveNet_layers_encode:\n",
    "            nn.init.kaiming_normal_(conv_layer.weight)\n",
    "            nn.init.constant_(conv_layer.bias, 0.001)\n",
    "            \n",
    "        for conv_layer in self.WaveNet_layers_decode:\n",
    "            nn.init.kaiming_normal_(conv_layer.weight)\n",
    "            nn.init.constant_(conv_layer.bias, 0.001)    \n",
    "\n",
    "        nn.init.kaiming_uniform_(self.L1.weight)\n",
    "        nn.init.kaiming_uniform_(self.L2.weight)\n",
    "        nn.init.constant_(self.L1.bias, 0.001)\n",
    "        nn.init.constant_(self.L2.bias, 0.001)\n",
    "        \n",
    "        nn.init.kaiming_uniform_(self.L4.weight)\n",
    "        nn.init.kaiming_uniform_(self.L5.weight)\n",
    "        nn.init.constant_(self.L4.bias, 0.001)\n",
    "        nn.init.constant_(self.L5.bias, 0.001)\n",
    "        \n",
    "    def encode(self, x):\n",
    "\n",
    "        x = self.cap_norm(x)\n",
    "        x = self.Conv_In_encode(x)\n",
    "        x = F.relu(x)\n",
    "        \n",
    "        # x = self.norm(x)\n",
    "        \n",
    "        for what_are_u_wavin_at in self.WaveNet_layers:\n",
    "            x = self.body_norm_encode(x)\n",
    "            x = what_are_u_wavin_at(x)\n",
    "            x = F.relu(x)\n",
    "            \n",
    "        x = self.Conv_Out_encode(x)\n",
    "        x = F.relu(x)\n",
    "        x = self.end_norm_encode(x)\n",
    "        \n",
    "        x = torch.flatten(x, 1)\n",
    "        \n",
    "        \n",
    "        x = F.relu(self.L1(x))\n",
    "        x = self.L2_norm(x)\n",
    "        # x = F.relu(self.L2(x))\n",
    "        # x = self.L3_norm(x)\n",
    "        # x = F.softmax(self.L3(x), dim = 1)\n",
    "        # x = self.L3(x)\n",
    "        x = self.L2(x)\n",
    "        \n",
    "        return x\n",
    "    \n",
    "    def decode(self, x):\n",
    "        \n",
    "        x = self.L4_norm(x)\n",
    "        x = F.relu(self.L4(x))\n",
    "        x = self.L5_norm(x)\n",
    "        # x = F.relu(self.L2(x))\n",
    "        # x = self.L3_norm(x)\n",
    "        # x = F.softmax(self.L3(x), dim = 1)\n",
    "        # x = self.L3(x)\n",
    "        x = F.relu(self.L5(x))\n",
    "        \n",
    "        x = self.Padding_layer(x)\n",
    "        \n",
    "        x = torch.unsqueeze(x,1)\n",
    "\n",
    "        # x = self.cap_norm(x)\n",
    "        x = self.Conv_In_decode(x)\n",
    "        x = F.relu(x)\n",
    "        \n",
    "        # x = self.norm(x)\n",
    "        \n",
    "        for what_are_u_wavin_at in self.WaveNet_layers_decode:\n",
    "            x = self.body_norm_decode(x)\n",
    "            x = what_are_u_wavin_at(x)\n",
    "            x = F.relu(x)\n",
    "            \n",
    "        x = self.Conv_Out_decode(x)\n",
    "        x = F.relu(x)\n",
    "        x = self.end_norm_decode(x)\n",
    "        \n",
    "        # x = torch.flatten(x, 1)\n",
    "        \n",
    "        \n",
    "        return x"
   ]
  },
  {
   "cell_type": "markdown",
   "metadata": {},
   "source": [
    "# Loading the dataset"
   ]
  },
  {
   "cell_type": "markdown",
   "metadata": {},
   "source": [
    "## Chia-Jui dataset"
   ]
  },
  {
   "cell_type": "markdown",
   "metadata": {},
   "source": [
    "### Reading the data from file"
   ]
  },
  {
   "cell_type": "code",
   "execution_count": 7,
   "metadata": {},
   "outputs": [],
   "source": [
    "## If one is using Chia-Jui's data\n",
    "\n",
    "renorm_factor_0 = 20;\n",
    "renorm_factor_1 = 20;\n",
    "\n",
    "realbkg_L = np.load('../Data_cached/real_bkg_2202000_63917s_4000Hz_50ms.npy')[:1000000].reshape(-1,1,200) / renorm_factor_0;\n",
    "realbkg_H = np.load('../Data_cached/real_bkg_H_1466640_58803s_4000Hz_50ms.npy')[:1000000].reshape(-1,1,200) / renorm_factor_0;\n",
    "\n",
    "realbkg = np.concatenate((realbkg_L[:1000000], realbkg_H[:1000000]), axis = 1).reshape(-1,200)\n",
    "\n",
    "del realbkg_L, realbkg_H\n",
    "\n",
    "realbbh = np.load('../Data_cached/injected_BBH_1823_around_merger_time_63917_58803.npz')['strain'].reshape(-1,200) / renorm_factor_0;\n",
    "\n",
    "realsg = np.load('../Data_cached/injected_lfsg_1835_around_merger_time_63917_58803.npz')['strain'].reshape(-1,200) / renorm_factor_0;\n",
    "# realglitch = np.load(\"../data/real_glitches_9998_4000Hz_25ms.npz\")[\"strain_time_data\"]\n",
    "realglitch_L = np.load(\"../Data_cached/real_glitches_snrlt5_60132_4000Hz_25ms.npz\")[\"strain_time_data\"][:30000].reshape(-1,1,200) / renorm_factor_1\n",
    "realglitch_H = np.load('../Data_cached/real_glitches_H_snrlt5_59732_4000Hz_25ms.npz')[\"strain_time_data\"][:30000].reshape(-1,1,200) / renorm_factor_1"
   ]
  },
  {
   "cell_type": "markdown",
   "metadata": {},
   "source": [
    "### Making the glitch set (one detector + one noise)"
   ]
  },
  {
   "cell_type": "code",
   "execution_count": 8,
   "metadata": {},
   "outputs": [],
   "source": [
    "noise_first50k = realbkg.reshape(-1,2,200)[:30000]\n",
    "\n",
    "glitch_L_noise_H = np.concatenate((realglitch_L, noise_first50k[:,[1],:]), axis = 1)\n",
    "glitch_H_noise_L = np.concatenate((realglitch_H, noise_first50k[:,[0],:]), axis = 1)\n",
    "realglitch = np.vstack((glitch_L_noise_H, glitch_H_noise_L))\n",
    "np.random.shuffle(realglitch)\n",
    "realglitch = realglitch.reshape(-1,200)\n",
    "realbkg = realbkg[60000:]\n",
    "\n",
    "del realglitch_L, realglitch_H, glitch_H_noise_L, glitch_L_noise_H"
   ]
  },
  {
   "cell_type": "markdown",
   "metadata": {},
   "source": [
    "### Reserve a certain propotion of set for further study"
   ]
  },
  {
   "cell_type": "code",
   "execution_count": 9,
   "metadata": {},
   "outputs": [],
   "source": [
    "realbkg_reserved = realbkg[-int(0.2 * len(realbkg))-int(0.2 * len(realbkg))%2:]\n",
    "realbbh_reserved = realbbh[-int(0.2 * len(realbbh))-int(0.2 * len(realbbh))%2:]\n",
    "realsg_reserved = realsg[-int(0.2 * len(realsg))-int(0.2 * len(realsg))%2:]\n",
    "realglitch_reserved = realglitch[-int(0.2 * len(realglitch))-int(0.2 * len(realglitch))%2:]\n",
    "\n",
    "realbkg = realbkg[:-int(0.2 * len(realbkg))-int(0.2 * len(realbkg))%2]\n",
    "realbbh = realbbh[:-int(0.2 * len(realbbh))-int(0.2 * len(realbbh))%2]\n",
    "realsg = realsg[:-int(0.2 * len(realsg))-int(0.2 * len(realsg))%2]\n",
    "realglitch = realglitch[:-int(0.2 * len(realglitch))-int(0.2 * len(realglitch))%2]"
   ]
  },
  {
   "cell_type": "markdown",
   "metadata": {},
   "source": []
  },
  {
   "cell_type": "code",
   "execution_count": 11,
   "metadata": {},
   "outputs": [],
   "source": [
    "realbkg = realbkg.reshape(-1,2,200)\n",
    "realbbh = realbbh.reshape(-1,2,200)\n",
    "realsg = realsg.reshape(-1,2,200)\n",
    "realglitch = realglitch.reshape(-1,2,200)"
   ]
  },
  {
   "cell_type": "code",
   "execution_count": 12,
   "metadata": {},
   "outputs": [
    {
     "data": {
      "text/plain": [
       "(776000, 2, 200)"
      ]
     },
     "execution_count": 12,
     "metadata": {},
     "output_type": "execute_result"
    }
   ],
   "source": [
    "realbkg.shape"
   ]
  },
  {
   "cell_type": "markdown",
   "metadata": {},
   "source": [
    "# Training the model"
   ]
  },
  {
   "cell_type": "markdown",
   "metadata": {},
   "source": [
    "## For supervised learning case"
   ]
  },
  {
   "cell_type": "markdown",
   "metadata": {},
   "source": [
    "### Trained with glitch"
   ]
  },
  {
   "cell_type": "code",
   "execution_count": 14,
   "metadata": {},
   "outputs": [],
   "source": [
    "version = 'v1'\n",
    "dInput = 200"
   ]
  },
  {
   "cell_type": "code",
   "execution_count": 15,
   "metadata": {},
   "outputs": [],
   "source": [
    "n_BKG = len(realbkg)\n",
    "n_BBH = len(realbbh)\n",
    "n_SG = len(realsg)\n",
    "n_GLITCH = len(realglitch)"
   ]
  },
  {
   "cell_type": "code",
   "execution_count": 17,
   "metadata": {},
   "outputs": [],
   "source": [
    "# Beacuse there's already 20% of dataset reserved here, there's no meaning setting the testset. We only do\n",
    "# training and validation here. \n",
    "\n",
    "rTrain = 1-rValidation\n",
    "\n",
    "n_BKG_train = int(n_BKG * rTrain)\n",
    "n_BBH_train = int(n_BBH * rTrain)\n",
    "n_SG_train = int(n_SG * rTrain)\n",
    "n_GLITCH_train = int(n_GLITCH * rTrain)\n",
    "\n",
    "n_BKG_validation = int(n_BKG * rValidation)\n",
    "n_BBH_validation = int(n_BBH * rValidation)\n",
    "n_SG_validation = int(n_SG * rValidation)\n",
    "n_GLITCH_validation = int(n_GLITCH * rValidation)\n",
    "\n",
    "\n",
    "X_train = np.concatenate((realbkg[:n_BKG_train], \n",
    "                          realbbh[:n_BBH_train], \n",
    "                          realsg[:n_SG_train], \n",
    "                          realglitch[:n_GLITCH_train]), axis = 0)\n",
    "target_train = np.concatenate((np.ones(n_BKG_train + n_BBH_train + n_SG_train), np.zeros(n_GLITCH_train)))\n",
    "\n",
    "X_validation = np.concatenate((realbkg[:n_BKG_validation], \n",
    "                          realbbh[:n_BBH_validation], \n",
    "                          realsg[:n_SG_validation], \n",
    "                          realglitch[:n_GLITCH_validation]), axis = 0)\n",
    "target_validation = np.concatenate((np.ones(n_BKG_validation + n_BBH_validation + n_SG_validation), np.zeros(n_GLITCH_validation)))\n",
    "\n",
    "\n",
    "train_dataset = TensorDataset(torch.FloatTensor(X_train), torch.FloatTensor(target_train.reshape((len(target_train), 1))))\n",
    "# test_dataset  = TensorDataset(torch.FloatTensor(X_test.reshape((X_test.shape[0], 1, X_test.shape[1]))),  torch.FloatTensor(target_test.reshape((len(target_test), 1))))\n",
    "valid_dataset = TensorDataset(torch.FloatTensor(X_validation), torch.FloatTensor(target_validation.reshape((len(target_validation), 1))))\n",
    "\n",
    "trainDataLoader = DataLoader(dataset=train_dataset, batch_size=batch_size, shuffle=True)\n",
    "validationDataLoader = DataLoader(dataset=valid_dataset, batch_size=batch_size, shuffle=True)"
   ]
  },
  {
   "cell_type": "code",
   "execution_count": 24,
   "metadata": {},
   "outputs": [
    {
     "data": {
      "text/plain": [
       "(744233, 2, 200)"
      ]
     },
     "execution_count": 24,
     "metadata": {},
     "output_type": "execute_result"
    }
   ],
   "source": [
    "X_train.shape"
   ]
  },
  {
   "cell_type": "code",
   "execution_count": 27,
   "metadata": {},
   "outputs": [
    {
     "name": "stdout",
     "output_type": "stream",
     "text": [
      "13170\n",
      "Epoch: 0001, Training loss=0.037754, Validation loss=0.059051, valid accuracy=1.857518\n",
      "Time for this epoch: 129.35500860214233\n",
      "Epoch: 0002, Training loss=0.028095, Validation loss=0.053606, valid accuracy=1.857518\n",
      "Time for this epoch: 129.29373621940613\n",
      "Epoch: 0003, Training loss=0.026145, Validation loss=0.051845, valid accuracy=1.857518\n",
      "Time for this epoch: 129.56812858581543\n",
      "Epoch: 0004, Training loss=0.029749, Validation loss=0.049628, valid accuracy=1.857518\n",
      "Time for this epoch: 129.38330221176147\n",
      "Epoch: 0005, Training loss=0.139652, Validation loss=0.047037, valid accuracy=1.857167\n",
      "Time for this epoch: 129.222026348114\n",
      "Epoch: 0006, Training loss=0.024876, Validation loss=0.045656, valid accuracy=1.857518\n",
      "Time for this epoch: 129.46034908294678\n",
      "Epoch: 0007, Training loss=0.027429, Validation loss=0.043826, valid accuracy=1.857518\n",
      "Time for this epoch: 129.19301772117615\n",
      "Epoch: 0008, Training loss=0.254040, Validation loss=0.042822, valid accuracy=1.857518\n",
      "Time for this epoch: 129.30180168151855\n",
      "Epoch: 0009, Training loss=0.021231, Validation loss=0.041177, valid accuracy=1.857518\n",
      "Time for this epoch: 126.49892830848694\n",
      "Epoch: 0010, Training loss=0.025257, Validation loss=0.040137, valid accuracy=1.857167\n",
      "Time for this epoch: 129.24515652656555\n",
      "Epoch: 0011, Training loss=0.023295, Validation loss=0.039187, valid accuracy=1.857518\n",
      "Time for this epoch: 130.15297055244446\n",
      "Epoch: 0012, Training loss=0.008199, Validation loss=0.038869, valid accuracy=1.857518\n",
      "Time for this epoch: 128.92166948318481\n",
      "Epoch: 0013, Training loss=0.197874, Validation loss=0.037929, valid accuracy=1.857518\n",
      "Time for this epoch: 129.70059370994568\n",
      "Epoch: 0014, Training loss=0.209379, Validation loss=0.037498, valid accuracy=1.857518\n",
      "Time for this epoch: 129.03663539886475\n",
      "Epoch: 0015, Training loss=0.021201, Validation loss=0.037091, valid accuracy=1.857167\n",
      "Time for this epoch: 129.07131004333496\n",
      "Epoch: 0016, Training loss=0.032622, Validation loss=0.036879, valid accuracy=1.857518\n",
      "Time for this epoch: 129.50362062454224\n",
      "Epoch: 0017, Training loss=0.022343, Validation loss=0.036443, valid accuracy=1.857167\n",
      "Time for this epoch: 129.01704502105713\n",
      "Epoch: 0018, Training loss=0.279922, Validation loss=0.036229, valid accuracy=1.857518\n",
      "Time for this epoch: 129.40656232833862\n",
      "Epoch: 0019, Training loss=0.255057, Validation loss=0.036132, valid accuracy=1.857518\n",
      "Time for this epoch: 129.16957116127014\n",
      "Epoch: 0020, Training loss=0.022202, Validation loss=0.035599, valid accuracy=1.857518\n",
      "Time for this epoch: 129.16380143165588\n",
      "Epoch: 0021, Training loss=0.018748, Validation loss=0.035725, valid accuracy=1.857518\n",
      "Time for this epoch: 129.68562364578247\n",
      "Epoch: 0022, Training loss=0.008288, Validation loss=0.035623, valid accuracy=1.857518\n",
      "Time for this epoch: 129.32492089271545\n",
      "Epoch: 0023, Training loss=0.019252, Validation loss=0.035295, valid accuracy=1.857518\n",
      "Time for this epoch: 128.93617701530457\n",
      "Epoch: 0024, Training loss=0.021200, Validation loss=0.035152, valid accuracy=1.857518\n",
      "Time for this epoch: 129.17462682724\n",
      "Epoch: 0025, Training loss=0.020407, Validation loss=0.035158, valid accuracy=1.857518\n",
      "Time for this epoch: 129.29855346679688\n",
      "Epoch: 0026, Training loss=0.015407, Validation loss=0.034990, valid accuracy=1.857167\n",
      "Time for this epoch: 129.83095455169678\n",
      "Epoch: 0027, Training loss=0.006870, Validation loss=0.035156, valid accuracy=1.857518\n",
      "Time for this epoch: 129.75401830673218\n",
      "Epoch: 0028, Training loss=0.018608, Validation loss=0.034705, valid accuracy=1.857518\n",
      "Time for this epoch: 129.73700737953186\n",
      "Epoch: 0029, Training loss=0.038459, Validation loss=0.034445, valid accuracy=1.857518\n",
      "Time for this epoch: 130.0805323123932\n",
      "Epoch: 0030, Training loss=0.007513, Validation loss=0.034597, valid accuracy=1.857518\n",
      "Time for this epoch: 129.80109882354736\n",
      "Epoch: 0031, Training loss=0.006774, Validation loss=0.034607, valid accuracy=1.857518\n",
      "Time for this epoch: 130.24758434295654\n",
      "Epoch: 0032, Training loss=0.022930, Validation loss=0.034330, valid accuracy=1.857518\n",
      "Time for this epoch: 129.92624497413635\n",
      "Epoch: 0033, Training loss=0.020741, Validation loss=0.034244, valid accuracy=1.857518\n",
      "Time for this epoch: 130.0248363018036\n"
     ]
    }
   ],
   "source": [
    "classifier = WaveletCNNSL(num_ifos=2, c_depth=5, n_chann=8, l1=64, l2=16).cuda()\n",
    "print(sum(p.numel() for p in classifier.parameters() if p.requires_grad))\n",
    "\n",
    "optimizer = optim.Adam(classifier.parameters(), lr=0.00005)\n",
    "loss_func = nn.BCEWithLogitsLoss(pos_weight=torch.FloatTensor([n_GLITCH_train/(n_BKG_train + n_BBH_train + n_SG_train)])).cuda()\n",
    "loss_train = np.empty((epochs, ))\n",
    "loss_validation = np.empty((epochs, ))\n",
    "\n",
    "for epoch in range(epochs):\n",
    "\n",
    "    t0 = time.time()\n",
    "    classifier.train()\n",
    "    for batchidx, (x, tgt_index) in enumerate(trainDataLoader):\n",
    "        x = x.cuda()\n",
    "        tgt_index = tgt_index.cuda()\n",
    "        output = classifier(x)\n",
    "        loss = loss_func(output, tgt_index)\n",
    "        \n",
    "        optimizer.zero_grad()\n",
    "        loss.backward()\n",
    "        optimizer.step()\n",
    "\n",
    "    classifier.eval()\n",
    "    with torch.no_grad():\n",
    "        val_loss = 0\n",
    "        n_correct = 0;\n",
    "        for batchidx, (x, tgt_index) in enumerate(validationDataLoader):\n",
    "            x = x.cuda()\n",
    "            tgt_index = tgt_index.cuda()\n",
    "            output = classifier(x)\n",
    "            lossVal = loss_func(output, tgt_index)\n",
    "            val_loss += lossVal.item()\n",
    "            n_correct += torch.eq(tgt_index, torch.argmax(output, dim=1)).sum().item()\n",
    "\n",
    "        val_loss /= len(validationDataLoader)\n",
    "\n",
    "    loss_train[epoch] = loss.item()\n",
    "    loss_validation[epoch] = val_loss\n",
    "    print('Epoch: %04d, Training loss=%f, Validation loss=%f, valid accuracy=%f' % (epoch+1, loss_train[epoch], val_loss, n_correct*1./len(X_validation)))\n",
    "    print('Time for this epoch: ' + str(time.time() - t0))\n",
    "\n",
    "#     print(time.time() - t0)\n",
    "\n",
    "plt.plot(loss_train)\n",
    "plt.plot(loss_validation)\n",
    "\n",
    "torch.save(classifier.cuda(), \"../Model_cached/Wavelet_model_SL\"+version+\".pt\")\n",
    "# np.savetxt(\"../data/SupLearn/lossClassifierTraining_64-64-16.dat\", [loss_train, loss_validation])"
   ]
  },
  {
   "cell_type": "code",
   "execution_count": 30,
   "metadata": {},
   "outputs": [
    {
     "data": {
      "text/plain": [
       "[<matplotlib.lines.Line2D at 0x15742ef00d0>]"
      ]
     },
     "execution_count": 30,
     "metadata": {},
     "output_type": "execute_result"
    },
    {
     "data": {
      "image/png": "[encoded data removed]",
      "text/plain": [
       "<Figure size 640x480 with 1 Axes>"
      ]
     },
     "metadata": {},
     "output_type": "display_data"
    }
   ],
   "source": [
    "plt.plot(loss_train)\n",
    "plt.plot(loss_validation)"
   ]
  },
  {
   "cell_type": "code",
   "execution_count": 29,
   "metadata": {},
   "outputs": [
    {
     "data": {
      "text/plain": [
       "1"
      ]
     },
     "execution_count": 29,
     "metadata": {},
     "output_type": "execute_result"
    }
   ],
   "source": [
    "1"
   ]
  },
  {
   "cell_type": "markdown",
   "metadata": {},
   "source": [
    "### Trained with noise"
   ]
  },
  {
   "cell_type": "code",
   "execution_count": null,
   "metadata": {},
   "outputs": [],
   "source": []
  },
  {
   "cell_type": "markdown",
   "metadata": {},
   "source": [
    "# Evaluating the model"
   ]
  },
  {
   "cell_type": "markdown",
   "metadata": {},
   "source": []
  }
 ],
 "metadata": {
  "kernelspec": {
   "display_name": "Python 3 (ipykernel)",
   "language": "python",
   "name": "python3"
  }
 },
 "nbformat": 4,
 "nbformat_minor": 2
}
