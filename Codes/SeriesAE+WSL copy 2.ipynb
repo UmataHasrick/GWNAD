{
 "cells": [
  {
   "cell_type": "code",
   "execution_count": 1,
   "metadata": {},
   "outputs": [],
   "source": [
    "import numpy as np\n",
    "import matplotlib.pyplot as plt\n",
    "import time"
   ]
  },
  {
   "cell_type": "code",
   "execution_count": 2,
   "metadata": {},
   "outputs": [
    {
     "data": {
      "text/plain": [
       "[<matplotlib.lines.Line2D at 0x244ff32fb90>]"
      ]
     },
     "execution_count": 2,
     "metadata": {},
     "output_type": "execute_result"
    },
    {
     "data": {
      "image/png": "[encoded data removed]",
      "text/plain": [
       "<Figure size 640x480 with 1 Axes>"
      ]
     },
     "metadata": {},
     "output_type": "display_data"
    }
   ],
   "source": [
    "plt.plot(np.arange(0, 1, 0.1), 2*np.arange(0, 1, 0.1))"
   ]
  },
  {
   "cell_type": "code",
   "execution_count": 3,
   "metadata": {},
   "outputs": [],
   "source": [
    "import h5py"
   ]
  },
  {
   "cell_type": "code",
   "execution_count": 4,
   "metadata": {},
   "outputs": [],
   "source": [
    "from scipy.stats import norm"
   ]
  },
  {
   "cell_type": "code",
   "execution_count": 5,
   "metadata": {},
   "outputs": [],
   "source": [
    "import torch\n",
    "from torch.utils.data import DataLoader\n",
    "from torch.utils.data import TensorDataset\n",
    "from torch import nn, optim\n",
    "import scipy.io as sio\n",
    "# import pandas as pd\n",
    "import datetime\n",
    "import os\n",
    "# import readligo as rl\n",
    "# from gwpy.timeseries import TimeSeries\n",
    "import math\n",
    "import random\n",
    "\n",
    "import copy"
   ]
  },
  {
   "cell_type": "code",
   "execution_count": 16,
   "metadata": {},
   "outputs": [],
   "source": [
    "os.chdir('D:\\OneDrive - HKUST Connect\\Research\\GWNMMAD\\Codes')"
   ]
  },
  {
   "cell_type": "code",
   "execution_count": 6,
   "metadata": {},
   "outputs": [],
   "source": [
    "import torch.nn.functional as F"
   ]
  },
  {
   "cell_type": "code",
   "execution_count": 7,
   "metadata": {},
   "outputs": [],
   "source": [
    "epochs_wsl = 100;"
   ]
  },
  {
   "cell_type": "code",
   "execution_count": 8,
   "metadata": {},
   "outputs": [],
   "source": [
    "epochs = 100\n",
    "rTrain = 0.7;\n",
    "rTest = 0.2;\n",
    "# input_vector_length = 100\n",
    "batch_size = 32\n",
    "num_bins = 40\n",
    "coef_delta = 0"
   ]
  },
  {
   "cell_type": "markdown",
   "metadata": {},
   "source": [
    "# 4-AE + WSL"
   ]
  },
  {
   "cell_type": "markdown",
   "metadata": {
    "heading_collapsed": true
   },
   "source": [
    "## Networks"
   ]
  },
  {
   "cell_type": "code",
   "execution_count": 9,
   "metadata": {
    "hidden": true
   },
   "outputs": [],
   "source": [
    "class AutoEncoder(nn.Module):\n",
    "    def __init__(self):\n",
    "        super(AutoEncoder, self).__init__()\n",
    "        self.encoder = nn.Sequential(\n",
    "            nn.Linear(101, 20),\n",
    "            nn.ReLU()\n",
    "        )\n",
    "        self.decoder = nn.Sequential(\n",
    "            nn.Linear(20, 101),\n",
    "            nn.Sigmoid()\n",
    "        )\n",
    "\n",
    "    def forward(self, x):\n",
    "        encoded = self.encoder(x)\n",
    "        decoded = self.decoder(encoded)\n",
    "        return encoded, decoded"
   ]
  },
  {
   "cell_type": "code",
   "execution_count": 8,
   "metadata": {},
   "outputs": [],
   "source": [
    "class AutoEncoder(nn.Module):\n",
    "    def __init__(self):\n",
    "        super(AutoEncoder, self).__init__()\n",
    "        self.encoder = nn.Sequential(\n",
    "            nn.Linear(202, 20),\n",
    "            nn.ReLU()\n",
    "        )\n",
    "        self.decoder = nn.Sequential(\n",
    "            nn.Linear(20, 202),\n",
    "            nn.Sigmoid()\n",
    "        )\n",
    "\n",
    "    def forward(self, x):\n",
    "        encoded = self.encoder(x)\n",
    "        decoded = self.decoder(encoded)\n",
    "        return encoded, decoded"
   ]
  },
  {
   "cell_type": "code",
   "execution_count": 43,
   "metadata": {
    "hidden": true
   },
   "outputs": [],
   "source": [
    "class WSClassifier(nn.Module):\n",
    "    def __init__(self):\n",
    "        super(WSClassifier, self).__init__()\n",
    "        self.fc1 = nn.Linear(101, 32)  # 第一层全连接层，输入维度为4，输出维度为64\n",
    "        self.norm1 = nn.BatchNorm1d(32)\n",
    "        self.relu = nn.ReLU()  # 激活函数\n",
    "        self.sigmoid = nn.Sigmoid()\n",
    "        self.fc2 = nn.Linear(32, 8)\n",
    "        self.norm2 = nn.BatchNorm1d(8)\n",
    "        self.fc4 = nn.Linear(8, 1)  # 第三层全连接层，输入维度为32，输出维度为类别数目\n",
    "        \n",
    "        nn.init.kaiming_normal_(self.fc1.weight)\n",
    "        nn.init.kaiming_normal_(self.fc2.weight)\n",
    "        nn.init.kaiming_normal_(self.fc4.weight)\n",
    "\n",
    "    def forward(self, x):\n",
    "        x = self.norm1(self.relu(self.fc1(x)))\n",
    "        x = self.norm2(self.relu(self.fc2(x)))\n",
    "        return self.fc4(x)\n",
    "        # x = self.relu(x)\n",
    "#         x = self.sigmoid(x)"
   ]
  },
  {
   "cell_type": "code",
   "execution_count": 10,
   "metadata": {},
   "outputs": [],
   "source": [
    "class WSClassifier(nn.Module):\n",
    "    def __init__(self):\n",
    "        super(WSClassifier, self).__init__()\n",
    "        self.fc1 = nn.Linear(101, 32)  # 第一层全连接层，输入维度为4，输出维度为64\n",
    "        self.norm1 = nn.BatchNorm1d(32)\n",
    "        self.relu = nn.ReLU()  # 激活函数\n",
    "        self.sigmoid = nn.Sigmoid()\n",
    "        self.fc2 = nn.Linear(32, 1)\n",
    "        # self.norm2 = nn.BatchNorm1d(8)\n",
    "        # self.fc4 = nn.Linear(8, 1)  # 第三层全连接层，输入维度为32，输出维度为类别数目\n",
    "        \n",
    "        nn.init.kaiming_normal_(self.fc1.weight)\n",
    "        nn.init.kaiming_normal_(self.fc2.weight)\n",
    "        # nn.init.kaiming_normal_(self.fc4.weight)\n",
    "\n",
    "    def forward(self, x):\n",
    "        x = self.norm1(self.relu(self.fc1(x)))\n",
    "        return self.fc2(x)\n",
    "        # x = self.relu(x)\n",
    "#         x = self.sigmoid(x)"
   ]
  },
  {
   "cell_type": "code",
   "execution_count": 9,
   "metadata": {},
   "outputs": [],
   "source": [
    "class WSClassifier(nn.Module):\n",
    "    def __init__(self):\n",
    "        super(WSClassifier, self).__init__()\n",
    "        self.fc1 = nn.Linear(202, 32)  # 第一层全连接层，输入维度为4，输出维度为64\n",
    "        self.norm1 = nn.BatchNorm1d(32)\n",
    "        self.relu = nn.ReLU()  # 激活函数\n",
    "        self.sigmoid = nn.Sigmoid()\n",
    "        self.fc2 = nn.Linear(32, 1)\n",
    "        # self.norm2 = nn.BatchNorm1d(8)\n",
    "        # self.fc4 = nn.Linear(8, 1)  # 第三层全连接层，输入维度为32，输出维度为类别数目\n",
    "        \n",
    "        nn.init.kaiming_normal_(self.fc1.weight)\n",
    "        nn.init.kaiming_normal_(self.fc2.weight)\n",
    "        # nn.init.kaiming_normal_(self.fc4.weight)\n",
    "\n",
    "    def forward(self, x):\n",
    "        x = self.norm1(self.relu(self.fc1(x)))\n",
    "        return self.fc2(x)\n",
    "        # x = self.relu(x)\n",
    "#         x = self.sigmoid(x)"
   ]
  },
  {
   "cell_type": "code",
   "execution_count": 11,
   "metadata": {
    "hidden": true
   },
   "outputs": [
    {
     "name": "stdout",
     "output_type": "stream",
     "text": [
      "4161\n"
     ]
    }
   ],
   "source": [
    "ae = AutoEncoder().cuda()\n",
    "print(sum(p.numel() for p in ae.parameters() if p.requires_grad))"
   ]
  },
  {
   "cell_type": "code",
   "execution_count": 12,
   "metadata": {
    "hidden": true
   },
   "outputs": [
    {
     "name": "stdout",
     "output_type": "stream",
     "text": [
      "3361\n"
     ]
    }
   ],
   "source": [
    "wsc = WSClassifier().cuda()\n",
    "print(sum(p.numel() for p in wsc.parameters() if p.requires_grad))"
   ]
  },
  {
   "cell_type": "code",
   "execution_count": 13,
   "metadata": {},
   "outputs": [
    {
     "data": {
      "text/plain": [
       "WSClassifier(\n",
       "  (fc1): Linear(in_features=101, out_features=32, bias=True)\n",
       "  (norm1): BatchNorm1d(32, eps=1e-05, momentum=0.1, affine=True, track_running_stats=True)\n",
       "  (relu): ReLU()\n",
       "  (sigmoid): Sigmoid()\n",
       "  (fc2): Linear(in_features=32, out_features=1, bias=True)\n",
       ")"
      ]
     },
     "execution_count": 13,
     "metadata": {},
     "output_type": "execute_result"
    }
   ],
   "source": [
    "wsc"
   ]
  },
  {
   "cell_type": "markdown",
   "metadata": {},
   "source": [
    "## data loading"
   ]
  },
  {
   "cell_type": "code",
   "execution_count": 14,
   "metadata": {},
   "outputs": [],
   "source": [
    "list_datatype = [\"noise\", \"bbh\", \"sg\", \"glitch\"]"
   ]
  },
  {
   "cell_type": "code",
   "execution_count": 13,
   "metadata": {},
   "outputs": [],
   "source": [
    "N_wsl_total = 40000;\n",
    "N_wsl = {}\n",
    "N_wsl[\"noise\"] = int(0.75*N_wsl_total)\n",
    "N_wsl[\"bbh\"] = int(0.1*N_wsl_total)\n",
    "N_wsl[\"sg\"] = int(0.1*N_wsl_total)\n",
    "N_wsl[\"glitch\"] = int(0.05*N_wsl_total)"
   ]
  },
  {
   "cell_type": "code",
   "execution_count": 15,
   "metadata": {},
   "outputs": [],
   "source": [
    "### Let's try a new scheme, or propotion of data to see its roburtness\n",
    "\n",
    "### What if the test sample is mostly bbh\n",
    "\n",
    "N_wsl_total = 40000;\n",
    "N_wsl = {}\n",
    "N_wsl[\"noise\"] = int(0.1*N_wsl_total)\n",
    "N_wsl[\"bbh\"] = int(0.75*N_wsl_total)\n",
    "N_wsl[\"sg\"] = int(0.1*N_wsl_total)\n",
    "N_wsl[\"glitch\"] = int(0.05*N_wsl_total)"
   ]
  },
  {
   "cell_type": "code",
   "execution_count": 95,
   "metadata": {},
   "outputs": [],
   "source": [
    "### Let's try a new scheme, or propotion of data to see its roburtness\n",
    "\n",
    "### What if the test sample is mostly sg\n",
    "\n",
    "N_wsl_total = 40000;\n",
    "N_wsl = {}\n",
    "N_wsl[\"noise\"] = int(0.1*N_wsl_total)\n",
    "N_wsl[\"bbh\"] = int(0.1*N_wsl_total)\n",
    "N_wsl[\"sg\"] = int(0.75*N_wsl_total)\n",
    "N_wsl[\"glitch\"] = int(0.05*N_wsl_total)"
   ]
  },
  {
   "cell_type": "code",
   "execution_count": 17,
   "metadata": {},
   "outputs": [],
   "source": [
    "renorm_factor_0 = 20;\n",
    "renorm_factor_1 = 20;\n",
    "\n",
    "realbkg = np.load('E://GWNMMAD_data/Tw_dataset/Datasets/background.npz')['data'].reshape(-1,200) / renorm_factor_0;\n",
    "realbbh = np.load('E://GWNMMAD_data/Tw_dataset/Datasets/bbh_for_challenge.npy').reshape(-1,200) / renorm_factor_0;\n",
    "\n",
    "realsg = np.load('E://GWNMMAD_data/Tw_dataset/Datasets/sglf_for_challenge.npy').reshape(-1,200) / renorm_factor_0;\n",
    "# realglitch = np.load(\"../data/real_glitches_9998_4000Hz_25ms.npz\")[\"strain_time_data\"]\n",
    "realglitch_L = np.load(\"../Data_cached/real_glitches_snrlt5_60132_4000Hz_25ms.npz\")[\"strain_time_data\"][:50000].reshape(-1,1,200) / renorm_factor_1\n",
    "realglitch_H = np.load('../Data_cached/real_glitches_H_snrlt5_59732_4000Hz_25ms.npz')[\"strain_time_data\"][:50000].reshape(-1,1,200) / renorm_factor_1"
   ]
  },
  {
   "cell_type": "code",
   "execution_count": 18,
   "metadata": {},
   "outputs": [],
   "source": [
    "noise_first50k = realbkg.reshape(-1,2,200)[:50000]\n",
    "\n",
    "glitch_L_noise_H = np.concatenate((realglitch_L, noise_first50k[:,[1],:]), axis = 1)\n",
    "glitch_H_noise_L = np.concatenate((realglitch_H, noise_first50k[:,[0],:]), axis = 1)\n",
    "realglitch = np.vstack((glitch_L_noise_H, glitch_H_noise_L))\n",
    "np.random.shuffle(realglitch)\n",
    "realglitch = realglitch.reshape(-1,200)\n",
    "realbkg = realbkg[100000:]"
   ]
  },
  {
   "cell_type": "code",
   "execution_count": 19,
   "metadata": {},
   "outputs": [],
   "source": [
    "bkg_fft = abs(np.fft.rfft(realbkg))\n",
    "bkg_fft = bkg_fft/np.linalg.norm([bkg_fft], axis=2).T\n",
    "\n",
    "bbh_fft = abs(np.fft.rfft(realbbh))\n",
    "bbh_fft = bbh_fft/np.linalg.norm([bbh_fft], axis=2).T\n",
    "\n",
    "sg_fft = abs(np.fft.rfft(realsg))\n",
    "sg_fft = sg_fft/np.linalg.norm([sg_fft], axis=2).T\n",
    "\n",
    "glitch_fft = abs(np.fft.rfft(realglitch))\n",
    "glitch_fft = glitch_fft/np.linalg.norm([glitch_fft], axis=2).T"
   ]
  },
  {
   "cell_type": "code",
   "execution_count": 20,
   "metadata": {},
   "outputs": [
    {
     "data": {
      "text/plain": [
       "(100000, 101)"
      ]
     },
     "execution_count": 20,
     "metadata": {},
     "output_type": "execute_result"
    }
   ],
   "source": [
    "bkg_fft.shape"
   ]
  },
  {
   "cell_type": "code",
   "execution_count": 21,
   "metadata": {},
   "outputs": [
    {
     "data": {
      "text/plain": [
       "(200000, 101)"
      ]
     },
     "execution_count": 21,
     "metadata": {},
     "output_type": "execute_result"
    }
   ],
   "source": [
    "glitch_fft.shape"
   ]
  },
  {
   "cell_type": "code",
   "execution_count": 22,
   "metadata": {},
   "outputs": [],
   "source": [
    "bkg_fft = bkg_fft.reshape(-1,202)\n",
    "\n",
    "bbh_fft = bbh_fft.reshape(-1,202)\n",
    "\n",
    "sg_fft = sg_fft.reshape(-1,202)\n",
    "\n",
    "glitch_fft = glitch_fft.reshape(-1,202)"
   ]
  },
  {
   "cell_type": "code",
   "execution_count": 96,
   "metadata": {},
   "outputs": [],
   "source": [
    "dataset_raw = {};\n",
    "dataset_raw[\"noise\"] = np.load(\"E://GWNMMAD_data/Tw_dataset/Datasets/background.npz\")['data'].reshape(-1,200);\n",
    "dataset_raw[\"bbh\"] = np.load(\"E://GWNMMAD_data/Tw_dataset/Datasets/bbh_for_challenge.npy\").reshape(-1,200);\n",
    "dataset_raw[\"sg\"] = np.load(\"E://GWNMMAD_data/Tw_dataset/Datasets/sglf_for_challenge.npy\").reshape(-1,200);\n",
    "# realglitch = np.load(\"../data/real_glitches_9998_4000Hz_25ms.npz\")[\"strain_time_data\"]\n",
    "dataset_raw[\"glitch\"] = np.load(\"../Data_cached/real_glitches_snrlt5_60132_4000Hz_25ms.npz\")[\"strain_time_data\"]\n",
    "\n",
    "dataset_wsl = {};\n",
    "dataset_ae = {};\n",
    "dataset_wsl_fft = {};\n",
    "dataset_ae_fft = {};\n",
    "\n",
    "for dt in list_datatype:\n",
    "    # perm = np.random.permutation(len(dataset_raw[dt]))\n",
    "    perm = np.loadtxt(\"../Data_Cached/SequentialTraining/WSL/perm_\"+dt+\".dat\").astype(int)\n",
    "    nwsl = N_wsl[dt]\n",
    "    dataset_wsl[dt] = dataset_raw[dt][perm[:nwsl]]\n",
    "    dataset_wsl[dt] = dataset_wsl[dt] / np.linalg.norm([dataset_wsl[dt]], axis=2).T\n",
    "    dataset_wsl_fft[dt] = abs(np.fft.rfft(dataset_wsl[dt]))\n",
    "    dataset_wsl_fft[dt] = dataset_wsl_fft[dt]/np.linalg.norm([dataset_wsl_fft[dt]], axis=2).T\n",
    "    \n",
    "    dataset_ae[dt]  = dataset_raw[dt][perm[nwsl:]]\n",
    "    dataset_ae[dt] = dataset_ae[dt] / np.linalg.norm([dataset_ae[dt]], axis=2).T\n",
    "    dataset_ae_fft[dt] = abs(np.fft.rfft(dataset_ae[dt]))\n",
    "    dataset_ae_fft[dt] = dataset_ae_fft[dt]/np.linalg.norm([dataset_ae_fft[dt]], axis=2).T\n",
    "    \n",
    "    # np.savetxt(\"../Data_Cached/SequentialTraining/WSL/perm_\"+dt+\".dat\", perm)"
   ]
  },
  {
   "cell_type": "code",
   "execution_count": 23,
   "metadata": {},
   "outputs": [],
   "source": [
    "dataset_raw_fft = {}\n",
    "\n",
    "dataset_raw_fft[\"noise\"] = bkg_fft\n",
    "dataset_raw_fft[\"bbh\"] = bbh_fft\n",
    "dataset_raw_fft[\"sg\"] = sg_fft\n",
    "dataset_raw_fft[\"glitch\"] = glitch_fft\n",
    "\n",
    "dataset_wsl = {};\n",
    "dataset_ae = {};\n",
    "dataset_wsl_fft = {};\n",
    "dataset_ae_fft = {};\n",
    "\n",
    "for dt in list_datatype:\n",
    "    perm = np.random.permutation(len(dataset_raw_fft[dt]))\n",
    "    nwsl = N_wsl[dt]\n",
    "    dataset_wsl_fft[dt] = dataset_raw_fft[dt][perm[:nwsl]]\n",
    "    # dataset_wsl[dt] = dataset_wsl[dt] / np.linalg.norm([dataset_wsl[dt]], axis=2).T\n",
    "    # dataset_wsl_fft[dt] = abs(np.fft.rfft(dataset_wsl[dt]))\n",
    "    # dataset_wsl_fft[dt] = dataset_wsl_fft[dt]/np.linalg.norm([dataset_wsl_fft[dt]], axis=2).T\n",
    "    \n",
    "    dataset_ae_fft[dt]  = dataset_raw_fft[dt][perm[nwsl:]]\n",
    "    # dataset_ae[dt] = dataset_ae[dt] / np.linalg.norm([dataset_ae[dt]], axis=2).T\n",
    "    # dataset_ae_fft[dt] = abs(np.fft.rfft(dataset_ae[dt]))\n",
    "    # dataset_ae_fft[dt] = dataset_ae_fft[dt]/np.linalg.norm([dataset_ae_fft[dt]], axis=2).T\n",
    "    \n",
    "    np.savetxt(\"../Data_Cached/SequentialTraining/WSL/perm_\"+dt+\"_2det.dat\", perm)"
   ]
  },
  {
   "cell_type": "code",
   "execution_count": 97,
   "metadata": {},
   "outputs": [
    {
     "data": {
      "text/plain": [
       "1.0"
      ]
     },
     "execution_count": 97,
     "metadata": {},
     "output_type": "execute_result"
    }
   ],
   "source": [
    "np.linalg.norm(dataset_ae_fft['noise'][0])"
   ]
  },
  {
   "cell_type": "code",
   "execution_count": 28,
   "metadata": {},
   "outputs": [
    {
     "name": "stdout",
     "output_type": "stream",
     "text": [
      "noise\n",
      "(20000, 202)\n",
      "bbh\n",
      "(96000, 202)\n",
      "sg\n",
      "(96000, 202)\n",
      "glitch\n",
      "(98000, 202)\n"
     ]
    }
   ],
   "source": [
    "for key in dataset_ae_fft.keys():\n",
    "    print(key)\n",
    "    print(dataset_ae_fft[key].shape)"
   ]
  },
  {
   "cell_type": "code",
   "execution_count": 22,
   "metadata": {},
   "outputs": [
    {
     "name": "stdout",
     "output_type": "stream",
     "text": [
      "noise\n",
      "(96000, 101)\n",
      "bbh\n",
      "(70000, 101)\n",
      "sg\n",
      "(96000, 101)\n",
      "glitch\n",
      "(58132, 101)\n"
     ]
    }
   ],
   "source": [
    "for key in dataset_ae_fft.keys():\n",
    "    print(key)\n",
    "    print(dataset_ae_fft[key].shape)"
   ]
  },
  {
   "cell_type": "code",
   "execution_count": 98,
   "metadata": {},
   "outputs": [
    {
     "name": "stdout",
     "output_type": "stream",
     "text": [
      "noise\n",
      "(4000, 200)\n",
      "bbh\n",
      "(4000, 200)\n",
      "sg\n",
      "(30000, 200)\n",
      "glitch\n",
      "(2000, 200)\n"
     ]
    }
   ],
   "source": [
    "for key in dataset_wsl.keys():\n",
    "    print(key)\n",
    "    print(dataset_wsl[key].shape)"
   ]
  },
  {
   "cell_type": "markdown",
   "metadata": {},
   "source": [
    "## training"
   ]
  },
  {
   "cell_type": "code",
   "execution_count": 28,
   "metadata": {},
   "outputs": [],
   "source": [
    "version = \"v2\";"
   ]
  },
  {
   "cell_type": "code",
   "execution_count": 29,
   "metadata": {},
   "outputs": [],
   "source": [
    "epochs = 50;"
   ]
  },
  {
   "cell_type": "code",
   "execution_count": 30,
   "metadata": {},
   "outputs": [],
   "source": [
    "sequence = [\"glitch\", \"noise\", \"bbh\", \"sg\"];\n",
    "ind2datatype = {};\n",
    "datatype2ind = {};\n",
    "for i, dt in enumerate(sequence):\n",
    "    ind2datatype[i] = dt;\n",
    "    datatype2ind[dt] = i;\n",
    "    \n",
    "torch.save(ind2datatype, \"../Data_cached/SequentialTraining/WSL/sequence_\"+version+\".json\")"
   ]
  },
  {
   "cell_type": "code",
   "execution_count": 99,
   "metadata": {},
   "outputs": [],
   "source": [
    "dataset_wsl_fft_collected = np.empty((0, dataset_wsl_fft[\"glitch\"].shape[1]))\n",
    "for dt in sequence:\n",
    "    dataset_wsl_fft_collected = np.vstack((dataset_wsl_fft_collected, dataset_wsl_fft[dt]))"
   ]
  },
  {
   "cell_type": "code",
   "execution_count": 30,
   "metadata": {},
   "outputs": [],
   "source": [
    "# N_bkg = len(bkg_reserved_fft);\n",
    "# N_glitch = int(N_bkg/15);\n",
    "# N_bbh = int(N_bkg*2/15);\n",
    "# N_sg = int(N_bkg*2/15);\n",
    "\n",
    "# testset = np.empty((N_bkg+N_glitch+N_bbh+N_sg, len(bkg_reserved_fft[0])))\n",
    "\n",
    "# s = 0;\n",
    "# testset[s : s+N_glitch] = glitch_reserved_fft[np.random.permutation(len(glitch_reserved_fft))[:N_glitch]];\n",
    "# s += N_glitch;\n",
    "\n",
    "# testset[s : s+N_bkg] = bkg_reserved_fft[np.random.permutation(len(bkg_reserved_fft))[:N_bkg]];\n",
    "# s += N_bkg;\n",
    "\n",
    "# testset[s : s+N_bbh] = bbh_reserved_fft[np.random.permutation(len(bbh_reserved_fft))[:N_bbh]];\n",
    "# s += N_bbh;\n",
    "\n",
    "# testset[s : s+N_sg] = sg_reserved_fft[np.random.permutation(len(sg_reserved_fft))[:N_sg]];\n",
    "# s += N_sg;\n",
    "\n",
    "# correct_ans = np.concatenate(([0]*N_glitch, [1]*N_bkg, [2]*N_bbh, [3]*N_sg))\n",
    "\n",
    "# Nsample = {};\n",
    "# Nsample[\"glitch\"] = N_glitch;\n",
    "# Nsample[\"noise\"] = N_bkg;\n",
    "# Nsample[\"bbh\"] = N_bbh;\n",
    "# Nsample[\"sg\"] = N_sg"
   ]
  },
  {
   "cell_type": "code",
   "execution_count": 26,
   "metadata": {},
   "outputs": [],
   "source": [
    "# Ncut = 5;\n",
    "# cutList = {};\n",
    "\n",
    "# max_glitch = 0.0026;\n",
    "# min_glitch = 0.001;\n",
    "# cutList[\"glitch\"] = np.linspace(min_glitch, max_glitch, Ncut);\n",
    "\n",
    "# max_bkg = 0.0026;\n",
    "# min_bkg = 0.001;\n",
    "# cutList[\"noise\"] = np.linspace(min_bkg, max_bkg, Ncut);\n",
    "\n",
    "# max_bbh = 0.0024;\n",
    "# min_bbh = 0.0008;\n",
    "# cutList[\"bbh\"] = np.linspace(min_bbh, max_bbh, Ncut);\n",
    "\n",
    "# max_sg = 0.003;\n",
    "# min_sg = 0.0003;\n",
    "# cutList[\"sg\"] = np.linspace(min_sg, max_sg, Ncut);\n",
    "\n",
    "# torch.save(cutList, \"../Data_cached/SequentialTraining/WSL/cut_\"+version+\".json\")"
   ]
  },
  {
   "cell_type": "code",
   "execution_count": 32,
   "metadata": {},
   "outputs": [],
   "source": [
    "Ncut = 5;\n",
    "cutList = {};\n",
    "\n",
    "max_glitch = 0.0014;\n",
    "min_glitch = 0.0024;\n",
    "cutList[\"glitch\"] = np.linspace(min_glitch, max_glitch, Ncut);\n",
    "\n",
    "max_bkg = 0.0016;\n",
    "min_bkg = 0.0026;\n",
    "cutList[\"noise\"] = np.linspace(min_bkg, max_bkg, Ncut);\n",
    "\n",
    "max_bbh = 0.0014;\n",
    "min_bbh = 0.0024;\n",
    "cutList[\"bbh\"] = np.linspace(min_bbh, max_bbh, Ncut);\n",
    "\n",
    "max_sg = 0.0008;\n",
    "min_sg = 0.0032;\n",
    "cutList[\"sg\"] = np.linspace(min_sg, max_sg, Ncut);\n",
    "\n",
    "torch.save(cutList, \"../Data_cached/SequentialTraining/WSL/cut_\"+version+\".json\")"
   ]
  },
  {
   "cell_type": "code",
   "execution_count": 27,
   "metadata": {},
   "outputs": [
    {
     "data": {
      "text/plain": [
       "AutoEncoder(\n",
       "  (encoder): Sequential(\n",
       "    (0): Linear(in_features=101, out_features=20, bias=True)\n",
       "    (1): ReLU()\n",
       "  )\n",
       "  (decoder): Sequential(\n",
       "    (0): Linear(in_features=20, out_features=101, bias=True)\n",
       "    (1): Sigmoid()\n",
       "  )\n",
       ")"
      ]
     },
     "execution_count": 27,
     "metadata": {},
     "output_type": "execute_result"
    }
   ],
   "source": [
    "# models = {};\n",
    "# models[\"glitch\"] = torch.load(\"../Model_cached/4ae_3.pt\")\n",
    "# models[\"glitch\"].cpu().eval()"
   ]
  },
  {
   "cell_type": "code",
   "execution_count": 34,
   "metadata": {},
   "outputs": [
    {
     "data": {
      "text/plain": [
       "AutoEncoder(\n",
       "  (encoder): Sequential(\n",
       "    (0): Linear(in_features=202, out_features=20, bias=True)\n",
       "    (1): ReLU()\n",
       "  )\n",
       "  (decoder): Sequential(\n",
       "    (0): Linear(in_features=20, out_features=202, bias=True)\n",
       "    (1): Sigmoid()\n",
       "  )\n",
       ")"
      ]
     },
     "execution_count": 34,
     "metadata": {},
     "output_type": "execute_result"
    }
   ],
   "source": [
    "models = {};\n",
    "models[\"glitch\"] = torch.load(\"../Model_cached/2_det_oneglitchonenoise_trained.pt\")\n",
    "models[\"glitch\"].cpu().eval()"
   ]
  },
  {
   "cell_type": "code",
   "execution_count": 35,
   "metadata": {},
   "outputs": [],
   "source": [
    "def trainAE(dataset, cutID):\n",
    "    \n",
    "    nTotal = len(dataset);\n",
    "    nTrain = int(rTrain * nTotal)\n",
    "    nTest = int(rTest * nTotal)\n",
    "\n",
    "    X_train = dataset[:nTrain]\n",
    "    X_test = dataset[-nTest:]\n",
    "    X_validation = dataset[nTrain:-nTest]\n",
    "\n",
    "    trainData = torch.FloatTensor(X_train)\n",
    "    testData = torch.FloatTensor(X_test)\n",
    "    validationData = torch.FloatTensor(X_validation)\n",
    "\n",
    "    train_dataset = TensorDataset(trainData)\n",
    "    test_dataset = TensorDataset(testData)\n",
    "    validation_dataset = TensorDataset(validationData)\n",
    "\n",
    "    trainDataLoader = DataLoader(dataset=train_dataset, batch_size=batch_size, shuffle=True)\n",
    "    validationDataLoader = DataLoader(dataset=validation_dataset, batch_size=batch_size, shuffle = True)\n",
    "\n",
    "    autoencoder = AutoEncoder().cuda()\n",
    "    optimizer = optim.Adam(autoencoder.parameters(), lr=0.00005)\n",
    "    loss_func = nn.MSELoss().cuda()\n",
    "    \n",
    "    loss_train = np.empty(epochs)\n",
    "    loss_validation = np.empty(epochs)\n",
    "\n",
    "    for epoch in range(epochs):\n",
    "\n",
    "        autoencoder.train()\n",
    "        for batchidx, x in enumerate(trainDataLoader):\n",
    "            x = x[0].cuda()\n",
    "            encoded, decoded = autoencoder(x)\n",
    "            loss_overall = loss_func(decoded, x)\n",
    "            weighted_lossTrain = loss_overall\n",
    "\n",
    "            optimizer.zero_grad()\n",
    "            weighted_lossTrain.backward()\n",
    "            optimizer.step()\n",
    "            \n",
    "        autoencoder.eval()\n",
    "        with torch.no_grad():\n",
    "            val_loss = 0\n",
    "            for batchidx, x in enumerate(validationDataLoader):\n",
    "                x = x[0].cuda()\n",
    "                encoded, decoded = autoencoder(x)\n",
    "                lossVal = loss_func(decoded, x)\n",
    "                val_loss += lossVal.item()\n",
    "\n",
    "            val_loss /= len(validationDataLoader)\n",
    "\n",
    "        loss_train[epoch] = weighted_lossTrain.item()\n",
    "        loss_validation[epoch] = val_loss\n",
    "    \n",
    "    autoencoder.cpu().eval()\n",
    "    _, ax = plt.subplots(1, 2, figsize=(14, 5))\n",
    "    ax[0].plot(loss_train)\n",
    "    ax[0].plot(loss_validation)\n",
    "    \n",
    "    dcd_train = autoencoder(torch.FloatTensor(X_train))[1].detach().numpy()\n",
    "    err_train = np.var(X_train-dcd_train, axis=1)\n",
    "    dcd_test = autoencoder(torch.FloatTensor(X_test))[1].detach().numpy()\n",
    "    err_test = np.var(X_test-dcd_test, axis=1)\n",
    "    foo = ax[1].hist(err_train, range=(0, max(err_train)), bins=50, density=True, histtype=\"step\")\n",
    "    foo = ax[1].hist(err_test, range=(0, max(err_train)), bins=50, density=True, histtype=\"step\")\n",
    "    \n",
    "    plt.savefig(\"../Pic_cached/SequentialTraining/WSL/training_AE_\"+cutID+\"_1.jpg\")\n",
    "    plt.close()\n",
    "            \n",
    "    return autoencoder.cpu().eval()"
   ]
  },
  {
   "cell_type": "code",
   "execution_count": 36,
   "metadata": {},
   "outputs": [],
   "source": [
    "def trainWSC(dataset0, dataset1, cutID):\n",
    "# dataset0: bkg set from AE\n",
    "# dataset1: identified signal from AE\n",
    "    \n",
    "    nTotal0, nTotal1 = len(dataset0), len(dataset1);\n",
    "    nTrain0, nTrain1 = int(rTrain * nTotal0), int(rTrain * nTotal1)\n",
    "    nTest0 , nTest1  = int(rTest * nTotal0) , int(rTest * nTotal1)\n",
    "\n",
    "    X_train = np.concatenate((dataset0[:nTrain0], dataset1[:nTrain1]))\n",
    "    X_test = np.concatenate((dataset0[-nTest0:], dataset1[-nTest1:]))\n",
    "    X_validation = np.concatenate((dataset0[nTrain0:-nTest0], dataset1[nTrain1:-nTest1]))\n",
    "    \n",
    "    Y_train = np.concatenate((np.zeros((nTrain0, 1)), np.ones((nTrain1, 1))))\n",
    "    Y_test = np.concatenate((np.zeros((nTest0, 1)), np.ones((nTest1, 1))))\n",
    "    Y_validation = np.concatenate((np.zeros((dataset0[nTrain0:-nTest0].shape[0], 1)), np.ones((dataset1[nTrain1:-nTest1].shape[0], 1))))\n",
    "\n",
    "#     trainData = torch.FloatTensor(X_train)\n",
    "#     testData = torch.FloatTensor(X_test)\n",
    "#     validationData = torch.FloatTensor(X_validation)\n",
    "\n",
    "    train_dataset = TensorDataset(torch.FloatTensor(X_train), torch.FloatTensor(Y_train))\n",
    "    validation_dataset = TensorDataset(torch.FloatTensor(X_validation), torch.FloatTensor(Y_validation))\n",
    "#     train_dataset = TensorDataset(torch.FloatTensor(X_train.reshape((X_train.shape[0], 1, X_train.shape[1]))), torch.FloatTensor(Y_train.reshape((Y_train.shape[0], 1, Y_train.shape[1]))))\n",
    "#     validation_dataset = TensorDataset(torch.FloatTensor(X_validation.reshape((X_validation.shape[0], 1, X_validation.shape[1]))), torch.FloatTensor(Y_validation.reshape((Y_validation.shape[0], 1, Y_validation.shape[1]))))\n",
    "\n",
    "    trainDataLoader = DataLoader(dataset=train_dataset, batch_size=batch_size, shuffle=True, drop_last=True)\n",
    "    validationDataLoader = DataLoader(dataset=validation_dataset, batch_size=batch_size, shuffle = True, drop_last=True)\n",
    "\n",
    "    wsc = WSClassifier().cuda()\n",
    "    optimizer = optim.Adam(wsc.parameters(), lr=0.00005)\n",
    "    loss_func = nn.BCEWithLogitsLoss(pos_weight=torch.FloatTensor([nTrain0/nTrain1])).cuda()\n",
    "    \n",
    "    loss_train = np.empty(epochs)\n",
    "    loss_validation = np.empty(epochs)\n",
    "\n",
    "    for epoch in range(epochs):\n",
    "#         t0 = time.time()\n",
    "        wsc.train()\n",
    "        for batchidx, (x, y) in enumerate(trainDataLoader):\n",
    "            x = x.cuda()\n",
    "            y = y.cuda()\n",
    "            yprime = wsc(x)\n",
    "            loss = loss_func(yprime, y)\n",
    "\n",
    "            optimizer.zero_grad()\n",
    "            loss.backward()\n",
    "            optimizer.step()\n",
    "            \n",
    "        wsc.eval()\n",
    "        with torch.no_grad():\n",
    "            val_loss = 0\n",
    "            for batchidx, (x, y) in enumerate(validationDataLoader):\n",
    "                x = x.cuda()\n",
    "                y = y.cuda()\n",
    "                yprime = wsc(x)\n",
    "                lossVal = loss_func(yprime, y)\n",
    "                val_loss += lossVal.item()\n",
    "\n",
    "            val_loss /= len(validationDataLoader)\n",
    "\n",
    "        loss_train[epoch] = loss.item()\n",
    "        loss_validation[epoch] = val_loss\n",
    "#         print(time.time() - t0)\n",
    "        \n",
    "    wsc.cpu().eval()\n",
    "    \n",
    "    _, ax = plt.subplots(1, 2, figsize=(14, 5))\n",
    "    ax[0].plot(loss_train)\n",
    "    ax[0].plot(loss_validation)\n",
    "    foo = ax[1].hist(nn.Sigmoid()(wsc(torch.FloatTensor(X_train))).detach().numpy().flatten(), range=(0, 1), bins=20, density=True, histtype=\"step\")\n",
    "    foo = ax[1].hist(nn.Sigmoid()(wsc(torch.FloatTensor(X_test ))).detach().numpy().flatten(), range=(0, 1), bins=20, density=True, histtype=\"step\")\n",
    "    \n",
    "    plt.savefig(\"../Pic_cached/SequentialTraining/WSL/training_WSC_\"+cutID+\"_1.jpg\")\n",
    "    plt.close()\n",
    "    \n",
    "    return wsc.cpu().eval()"
   ]
  },
  {
   "cell_type": "code",
   "execution_count": 37,
   "metadata": {},
   "outputs": [
    {
     "ename": "NameError",
     "evalue": "name 'dataset0' is not defined",
     "output_type": "error",
     "traceback": [
      "\u001b[1;31m---------------------------------------------------------------------------\u001b[0m",
      "\u001b[1;31mNameError\u001b[0m                                 Traceback (most recent call last)",
      "Cell \u001b[1;32mIn[37], line 1\u001b[0m\n\u001b[1;32m----> 1\u001b[0m model1 \u001b[38;5;241m=\u001b[39m trainWSC(\u001b[43mdataset0\u001b[49m, dataset1, \u001b[38;5;124m\"\u001b[39m\u001b[38;5;124mtest\u001b[39m\u001b[38;5;124m\"\u001b[39m)\u001b[38;5;241m.\u001b[39mcpu()\u001b[38;5;241m.\u001b[39meval();\n",
      "\u001b[1;31mNameError\u001b[0m: name 'dataset0' is not defined"
     ]
    }
   ],
   "source": [
    "model1 = trainWSC(dataset0, dataset1, \"test\").cpu().eval();"
   ]
  },
  {
   "cell_type": "code",
   "execution_count": 33,
   "metadata": {},
   "outputs": [],
   "source": [
    "import itertools"
   ]
  },
  {
   "cell_type": "code",
   "execution_count": 67,
   "metadata": {
    "scrolled": false
   },
   "outputs": [],
   "source": [
    "cnt = 0;\n",
    "\n",
    "ic = np.zeros(4, dtype=\"int\")\n",
    "\n",
    "# loop for only the cut in glitch, noise and bbh as it's not really meaningful to set cut in sg w/o new signals\n",
    "ic[3] = Ncut-1;\n",
    "\n",
    "# listResult = {};\n",
    "# listResult[\"cut\"] = np.empty((Ncut**(len(list_datatype)-1), len(list_datatype)), dtype=\"int\");\n",
    "# listResult[\"ans\"] = np.empty((Ncut**(len(list_datatype)-1), len(testset)), dtype=\"int\");\n",
    "# listResult[\"accuracy_4\"] = np.empty((Ncut**(len(list_datatype)-1), len(list_datatype)))\n",
    "# listResult[\"accuracy_2\"] = np.empty((Ncut**(len(list_datatype)-1), 2))\n",
    "\n",
    "for ic[0], ic[1], ic[2] in itertools.product(np.arange(Ncut), np.arange(Ncut), np.arange(Ncut)):\n",
    "# for ic[0], ic[1], ic[2], ic[3] in itertools.product(np.arange(Ncut), np.arange(Ncut), np.arange(Ncut), np.arange(Ncut)):\n",
    "    cnt += 1;\n",
    "    \n",
    "    if cnt < 83:\n",
    "        continue\n",
    "    elif cnt > 84:\n",
    "        continue\n",
    "    \n",
    "    t0 = time.time()\n",
    "    data_filtered = {};\n",
    "    for dt in sequence:\n",
    "        data_filtered[dt] = dataset_ae_fft[dt]\n",
    "#     data_filtered[\"noise\"] = bkg_fft;\n",
    "#     data_filtered[\"bbh\"] = bbh_fft;\n",
    "#     data_filtered[\"sg\"] = sg_fft;\n",
    "\n",
    "    dataset_wsl_filtered = dataset_wsl_fft_collected\n",
    "    \n",
    "    cutID = \"\".join(str(ic[j]) for j in range(3)) + \"_\"+version\n",
    "        \n",
    "    for iPrev in range(3):\n",
    "        previousStep = ind2datatype[iPrev];\n",
    "        modelPrev = models[previousStep]; # previous step AE\n",
    "        \n",
    "        # train the WSC according to previous AE's cut\n",
    "        \n",
    "        dataset0 = data_filtered[previousStep] # here they haven't been updated yet\n",
    "        \n",
    "        dcd = modelPrev(torch.FloatTensor(dataset0))[1].detach().numpy();\n",
    "        dataset1 = dataset0[np.var(dataset0-dcd, axis=1) >= cutList[previousStep][ic[iPrev]]]\n",
    "        \n",
    "        dcd = modelPrev(torch.FloatTensor(dataset_wsl_filtered))[1].detach().numpy();\n",
    "        dataset1 = dataset_wsl_filtered[np.var(dataset_wsl_filtered-dcd, axis=1) >= cutList[previousStep][ic[iPrev]]]\n",
    "        \n",
    "        model = trainWSC(dataset0, dataset1, cutID)\n",
    "        models[previousStep+\"_WSC\"] = model;\n",
    "        \n",
    "        # filter the data according to previous WSC\n",
    "        for j in range(iPrev, 4):\n",
    "            dt = ind2datatype[j];\n",
    "            dcd = nn.Sigmoid()(model(torch.FloatTensor(data_filtered[dt]))).detach().numpy().flatten();\n",
    "            data_filtered[dt] = data_filtered[dt][dcd>0.5]\n",
    "        \n",
    "#         # filter the data\n",
    "#         for j in range(iPrev+1, 4):\n",
    "#             dt = ind2datatype[j];\n",
    "#             dcd = modelPrev(torch.FloatTensor(data_filtered[dt]))[1].detach().numpy()\n",
    "#             data_filtered[dt] = data_filtered[dt][np.var(data_filtered[dt]-dcd, axis=1) >= cutList[previousStep][ic[iPrev]]]            \n",
    "        \n",
    "        # train the current step AE\n",
    "        currentStep = ind2datatype[iPrev+1];\n",
    "        model = trainAE(data_filtered[currentStep], cutID);\n",
    "        models[currentStep] = model;\n",
    "        \n",
    "    torch.save(models, \"../Data_cached/SequentialTraining/WSL/trained_model\" + \"\".join(str(ic[j]) for j in range(3)) + \"_\"+version+\".json\")\n",
    "    print(models.keys())\n",
    "    \n",
    "#     dcd = {};\n",
    "#     err = {};\n",
    "#     ans = np.zeros(len(testset), dtype=\"int\")\n",
    "    \n",
    "#     for datatype in list_datatype:\n",
    "#         dcd[datatype] = models[datatype](torch.FloatTensor(testset))[1].detach().numpy()\n",
    "#         err[datatype] = np.var(testset-dcd[datatype], axis=1)\n",
    "        \n",
    "#     not_select = np.array([True]*len(testset));\n",
    "\n",
    "#     for iStep in range(len(list_datatype)):\n",
    "#         datatype = ind2datatype[iStep];\n",
    "#         ind_pass = np.logical_and(not_select, err[datatype] <= cutList[datatype][ic[iStep]]);\n",
    "#         ans[ind_pass] = iStep;\n",
    "#         not_select[ind_pass] = False;\n",
    "        \n",
    "#     ans[not_select] = -1;\n",
    "    \n",
    "#     listResult[\"cut\"][cnt] = ic;\n",
    "#     listResult[\"ans\"][cnt] = ans;\n",
    "    \n",
    "#     acc = np.zeros(len(ind2datatype));\n",
    "    \n",
    "#     for i in range(len(ind2datatype)):\n",
    "#         acc[i] = np.sum(np.logical_and(ans==i, correct_ans==i))/Nsample[ind2datatype[i]];\n",
    "        \n",
    "#     listResult[\"accuracy_4\"][cnt] = acc;\n",
    "    \n",
    "#     listResult[\"accuracy_2\"][cnt] = [ np.sum(acc[datatype2ind[dtype]]*Nsample[dtype] for dtype in [\"glitch\", \"noise\"])/np.sum(Nsample[dtype] for dtype in [\"glitch\", \"noise\"]), \n",
    "#                                      np.sum(acc[datatype2ind[dtype]]*Nsample[dtype] for dtype in [\"bbh\", \"sg\"])/np.sum(Nsample[dtype] for dtype in [\"bbh\", \"sg\"])]\n",
    "    \n",
    "    \n",
    "    print(cnt)\n",
    "    print(time.time() - t0)\n",
    "    \n",
    "# listResult[\"total_accuracy\"] = np.sum(listResult[\"ans\"]==correct_ans, axis=1)/len(testset);\n",
    "# torch.save(listResult, \"../data/SequentialTraining/training_performance_\"+version+\".json\")"
   ]
  },
  {
   "cell_type": "code",
   "execution_count": 100,
   "metadata": {},
   "outputs": [],
   "source": [
    "testset = dataset_wsl_fft_collected"
   ]
  },
  {
   "cell_type": "code",
   "execution_count": 101,
   "metadata": {},
   "outputs": [
    {
     "data": {
      "text/plain": [
       "(40000, 101)"
      ]
     },
     "execution_count": 101,
     "metadata": {},
     "output_type": "execute_result"
    }
   ],
   "source": [
    "testset.shape"
   ]
  },
  {
   "cell_type": "code",
   "execution_count": 102,
   "metadata": {},
   "outputs": [],
   "source": [
    "correct_ans = np.hstack(([0]*N_wsl['glitch'], [1]*N_wsl['noise'], [2]*N_wsl['bbh'], [3]*N_wsl['sg']))"
   ]
  },
  {
   "cell_type": "code",
   "execution_count": 103,
   "metadata": {},
   "outputs": [
    {
     "data": {
      "text/plain": [
       "(40000,)"
      ]
     },
     "execution_count": 103,
     "metadata": {},
     "output_type": "execute_result"
    }
   ],
   "source": [
    "correct_ans.shape"
   ]
  },
  {
   "cell_type": "code",
   "execution_count": 52,
   "metadata": {},
   "outputs": [
    {
     "name": "stderr",
     "output_type": "stream",
     "text": [
      "C:\\Users\\Liyang Miao\\AppData\\Local\\Temp\\ipykernel_11852\\1107368471.py:97: DeprecationWarning: Calling np.sum(generator) is deprecated, and in the future will give a different result. Use np.sum(np.fromiter(generator)) or the python sum builtin instead.\n",
      "  listResult[\"accuracy_2\"][cnt] = [ np.sum(acc[datatype2ind[dtype]]*N_wsl[dtype] for dtype in [\"glitch\", \"noise\"])/np.sum(N_wsl[dtype] for dtype in [\"glitch\", \"noise\"]),\n",
      "C:\\Users\\Liyang Miao\\AppData\\Local\\Temp\\ipykernel_11852\\1107368471.py:98: DeprecationWarning: Calling np.sum(generator) is deprecated, and in the future will give a different result. Use np.sum(np.fromiter(generator)) or the python sum builtin instead.\n",
      "  np.sum(acc[datatype2ind[dtype]]*N_wsl[dtype] for dtype in [\"bbh\", \"sg\"])/np.sum(N_wsl[dtype] for dtype in [\"bbh\", \"sg\"])]\n"
     ]
    },
    {
     "ename": "FileNotFoundError",
     "evalue": "[Errno 2] No such file or directory: '../Data_cached/SequentialTraining/WSL/trained_model313_v5.json'",
     "output_type": "error",
     "traceback": [
      "\u001b[1;31m---------------------------------------------------------------------------\u001b[0m",
      "\u001b[1;31mFileNotFoundError\u001b[0m                         Traceback (most recent call last)",
      "Cell \u001b[1;32mIn[52], line 64\u001b[0m\n\u001b[0;32m     25\u001b[0m     cutID \u001b[38;5;241m=\u001b[39m \u001b[38;5;124m\"\u001b[39m\u001b[38;5;124m\"\u001b[39m\u001b[38;5;241m.\u001b[39mjoin(\u001b[38;5;28mstr\u001b[39m(ic[j]) \u001b[38;5;28;01mfor\u001b[39;00m j \u001b[38;5;129;01min\u001b[39;00m \u001b[38;5;28mrange\u001b[39m(\u001b[38;5;241m3\u001b[39m)) \u001b[38;5;241m+\u001b[39m \u001b[38;5;124m\"\u001b[39m\u001b[38;5;124m_\u001b[39m\u001b[38;5;124m\"\u001b[39m\u001b[38;5;241m+\u001b[39mversion\n\u001b[0;32m     27\u001b[0m \u001b[38;5;66;03m#     for iPrev in range(3):\u001b[39;00m\n\u001b[0;32m     28\u001b[0m \u001b[38;5;66;03m#         previousStep = ind2datatype[iPrev];\u001b[39;00m\n\u001b[0;32m     29\u001b[0m \u001b[38;5;66;03m#         modelPrev = models[previousStep]; # previous step AE\u001b[39;00m\n\u001b[1;32m   (...)\u001b[0m\n\u001b[0;32m     61\u001b[0m \u001b[38;5;66;03m#     torch.save(models, \"../Data_cached/SequentialTraining/WSL/trained_model\" + \"\".join(str(ic[j]) for j in range(3)) + \"_\"+version+\".json\")\u001b[39;00m\n\u001b[0;32m     62\u001b[0m \u001b[38;5;66;03m#     print(models.keys())\u001b[39;00m\n\u001b[1;32m---> 64\u001b[0m     models \u001b[38;5;241m=\u001b[39m \u001b[43mtorch\u001b[49m\u001b[38;5;241;43m.\u001b[39;49m\u001b[43mload\u001b[49m\u001b[43m(\u001b[49m\u001b[38;5;124;43m\"\u001b[39;49m\u001b[38;5;124;43m../Data_cached/SequentialTraining/WSL/trained_model\u001b[39;49m\u001b[38;5;124;43m\"\u001b[39;49m\u001b[43m \u001b[49m\u001b[38;5;241;43m+\u001b[39;49m\u001b[43m \u001b[49m\u001b[38;5;124;43m\"\u001b[39;49m\u001b[38;5;124;43m\"\u001b[39;49m\u001b[38;5;241;43m.\u001b[39;49m\u001b[43mjoin\u001b[49m\u001b[43m(\u001b[49m\u001b[38;5;28;43mstr\u001b[39;49m\u001b[43m(\u001b[49m\u001b[43mic\u001b[49m\u001b[43m[\u001b[49m\u001b[43mj\u001b[49m\u001b[43m]\u001b[49m\u001b[43m)\u001b[49m\u001b[43m \u001b[49m\u001b[38;5;28;43;01mfor\u001b[39;49;00m\u001b[43m \u001b[49m\u001b[43mj\u001b[49m\u001b[43m \u001b[49m\u001b[38;5;129;43;01min\u001b[39;49;00m\u001b[43m \u001b[49m\u001b[38;5;28;43mrange\u001b[39;49m\u001b[43m(\u001b[49m\u001b[38;5;241;43m3\u001b[39;49m\u001b[43m)\u001b[49m\u001b[43m)\u001b[49m\u001b[43m \u001b[49m\u001b[38;5;241;43m+\u001b[39;49m\u001b[43m \u001b[49m\u001b[38;5;124;43m\"\u001b[39;49m\u001b[38;5;124;43m_\u001b[39;49m\u001b[38;5;124;43m\"\u001b[39;49m\u001b[38;5;241;43m+\u001b[39;49m\u001b[43mversion\u001b[49m\u001b[38;5;241;43m+\u001b[39;49m\u001b[38;5;124;43m\"\u001b[39;49m\u001b[38;5;124;43m.json\u001b[39;49m\u001b[38;5;124;43m\"\u001b[39;49m\u001b[43m)\u001b[49m\n\u001b[0;32m     66\u001b[0m     dcd \u001b[38;5;241m=\u001b[39m {};\n\u001b[0;32m     67\u001b[0m     err \u001b[38;5;241m=\u001b[39m {};\n",
      "File \u001b[1;32m~\\AppData\\Local\\Programs\\Python\\Python311\\Lib\\site-packages\\torch\\serialization.py:998\u001b[0m, in \u001b[0;36mload\u001b[1;34m(f, map_location, pickle_module, weights_only, mmap, **pickle_load_args)\u001b[0m\n\u001b[0;32m    995\u001b[0m \u001b[38;5;28;01mif\u001b[39;00m \u001b[38;5;124m'\u001b[39m\u001b[38;5;124mencoding\u001b[39m\u001b[38;5;124m'\u001b[39m \u001b[38;5;129;01mnot\u001b[39;00m \u001b[38;5;129;01min\u001b[39;00m pickle_load_args\u001b[38;5;241m.\u001b[39mkeys():\n\u001b[0;32m    996\u001b[0m     pickle_load_args[\u001b[38;5;124m'\u001b[39m\u001b[38;5;124mencoding\u001b[39m\u001b[38;5;124m'\u001b[39m] \u001b[38;5;241m=\u001b[39m \u001b[38;5;124m'\u001b[39m\u001b[38;5;124mutf-8\u001b[39m\u001b[38;5;124m'\u001b[39m\n\u001b[1;32m--> 998\u001b[0m \u001b[38;5;28;01mwith\u001b[39;00m \u001b[43m_open_file_like\u001b[49m\u001b[43m(\u001b[49m\u001b[43mf\u001b[49m\u001b[43m,\u001b[49m\u001b[43m \u001b[49m\u001b[38;5;124;43m'\u001b[39;49m\u001b[38;5;124;43mrb\u001b[39;49m\u001b[38;5;124;43m'\u001b[39;49m\u001b[43m)\u001b[49m \u001b[38;5;28;01mas\u001b[39;00m opened_file:\n\u001b[0;32m    999\u001b[0m     \u001b[38;5;28;01mif\u001b[39;00m _is_zipfile(opened_file):\n\u001b[0;32m   1000\u001b[0m         \u001b[38;5;66;03m# The zipfile reader is going to advance the current file position.\u001b[39;00m\n\u001b[0;32m   1001\u001b[0m         \u001b[38;5;66;03m# If we want to actually tail call to torch.jit.load, we need to\u001b[39;00m\n\u001b[0;32m   1002\u001b[0m         \u001b[38;5;66;03m# reset back to the original position.\u001b[39;00m\n\u001b[0;32m   1003\u001b[0m         orig_position \u001b[38;5;241m=\u001b[39m opened_file\u001b[38;5;241m.\u001b[39mtell()\n",
      "File \u001b[1;32m~\\AppData\\Local\\Programs\\Python\\Python311\\Lib\\site-packages\\torch\\serialization.py:445\u001b[0m, in \u001b[0;36m_open_file_like\u001b[1;34m(name_or_buffer, mode)\u001b[0m\n\u001b[0;32m    443\u001b[0m \u001b[38;5;28;01mdef\u001b[39;00m \u001b[38;5;21m_open_file_like\u001b[39m(name_or_buffer, mode):\n\u001b[0;32m    444\u001b[0m     \u001b[38;5;28;01mif\u001b[39;00m _is_path(name_or_buffer):\n\u001b[1;32m--> 445\u001b[0m         \u001b[38;5;28;01mreturn\u001b[39;00m \u001b[43m_open_file\u001b[49m\u001b[43m(\u001b[49m\u001b[43mname_or_buffer\u001b[49m\u001b[43m,\u001b[49m\u001b[43m \u001b[49m\u001b[43mmode\u001b[49m\u001b[43m)\u001b[49m\n\u001b[0;32m    446\u001b[0m     \u001b[38;5;28;01melse\u001b[39;00m:\n\u001b[0;32m    447\u001b[0m         \u001b[38;5;28;01mif\u001b[39;00m \u001b[38;5;124m'\u001b[39m\u001b[38;5;124mw\u001b[39m\u001b[38;5;124m'\u001b[39m \u001b[38;5;129;01min\u001b[39;00m mode:\n",
      "File \u001b[1;32m~\\AppData\\Local\\Programs\\Python\\Python311\\Lib\\site-packages\\torch\\serialization.py:426\u001b[0m, in \u001b[0;36m_open_file.__init__\u001b[1;34m(self, name, mode)\u001b[0m\n\u001b[0;32m    425\u001b[0m \u001b[38;5;28;01mdef\u001b[39;00m \u001b[38;5;21m__init__\u001b[39m(\u001b[38;5;28mself\u001b[39m, name, mode):\n\u001b[1;32m--> 426\u001b[0m     \u001b[38;5;28msuper\u001b[39m()\u001b[38;5;241m.\u001b[39m\u001b[38;5;21m__init__\u001b[39m(\u001b[38;5;28mopen\u001b[39m(name, mode))\n",
      "\u001b[1;31mFileNotFoundError\u001b[0m: [Errno 2] No such file or directory: '../Data_cached/SequentialTraining/WSL/trained_model313_v5.json'"
     ]
    }
   ],
   "source": [
    "listResult = {};\n",
    "listResult[\"cut\"] = np.empty((Ncut**(len(list_datatype)-1), len(list_datatype)), dtype=\"int\");\n",
    "listResult[\"ans\"] = np.empty((Ncut**(len(list_datatype)-1), len(testset)), dtype=\"int\");\n",
    "listResult[\"accuracy_4\"] = np.empty((Ncut**(len(list_datatype)-1), len(list_datatype)))\n",
    "listResult[\"accuracy_2\"] = np.empty((Ncut**(len(list_datatype)-1), 2))\n",
    "cnt = 0\n",
    "\n",
    "\n",
    "for ic[0], ic[1], ic[2] in itertools.product(np.arange(Ncut), np.arange(Ncut), np.arange(Ncut)):\n",
    "\n",
    "    \n",
    "    # if cnt < 86:\n",
    "    #     continue\n",
    "    \n",
    "    t0 = time.time()\n",
    "    data_filtered = {};\n",
    "    for dt in sequence:\n",
    "        data_filtered[dt] = dataset_ae_fft[dt]\n",
    "#     data_filtered[\"noise\"] = bkg_fft;\n",
    "#     data_filtered[\"bbh\"] = bbh_fft;\n",
    "#     data_filtered[\"sg\"] = sg_fft;\n",
    "\n",
    "    dataset_wsl_filtered = dataset_wsl_fft_collected\n",
    "    \n",
    "    cutID = \"\".join(str(ic[j]) for j in range(3)) + \"_\"+version\n",
    "        \n",
    "#     for iPrev in range(3):\n",
    "#         previousStep = ind2datatype[iPrev];\n",
    "#         modelPrev = models[previousStep]; # previous step AE\n",
    "        \n",
    "#         # train the WSC according to previous AE's cut\n",
    "        \n",
    "#         dataset0 = data_filtered[previousStep] # here they haven't been updated yet\n",
    "        \n",
    "#         dcd = modelPrev(torch.FloatTensor(dataset0))[1].detach().numpy();\n",
    "#         dataset1 = dataset0[np.var(dataset0-dcd, axis=1) >= cutList[previousStep][ic[iPrev]]]\n",
    "        \n",
    "#         dcd = modelPrev(torch.FloatTensor(dataset_wsl_filtered))[1].detach().numpy();\n",
    "#         dataset1 = dataset_wsl_filtered[np.var(dataset_wsl_filtered-dcd, axis=1) >= cutList[previousStep][ic[iPrev]]]\n",
    "        \n",
    "#         model = trainWSC(dataset0, dataset1, cutID)\n",
    "#         models[previousStep+\"_WSC\"] = model;\n",
    "        \n",
    "#         # filter the data according to previous WSC\n",
    "#         for j in range(iPrev, 4):\n",
    "#             dt = ind2datatype[j];\n",
    "#             dcd = nn.Sigmoid()(model(torch.FloatTensor(data_filtered[dt]))).detach().numpy().flatten();\n",
    "#             data_filtered[dt] = data_filtered[dt][dcd>0.5]\n",
    "        \n",
    "# #         # filter the data\n",
    "# #         for j in range(iPrev+1, 4):\n",
    "# #             dt = ind2datatype[j];\n",
    "# #             dcd = modelPrev(torch.FloatTensor(data_filtered[dt]))[1].detach().numpy()\n",
    "# #             data_filtered[dt] = data_filtered[dt][np.var(data_filtered[dt]-dcd, axis=1) >= cutList[previousStep][ic[iPrev]]]            \n",
    "        \n",
    "#         # train the current step AE\n",
    "#         currentStep = ind2datatype[iPrev+1];\n",
    "#         model = trainAE(data_filtered[currentStep], cutID);\n",
    "#         models[currentStep] = model;\n",
    "        \n",
    "#     torch.save(models, \"../Data_cached/SequentialTraining/WSL/trained_model\" + \"\".join(str(ic[j]) for j in range(3)) + \"_\"+version+\".json\")\n",
    "#     print(models.keys())\n",
    "    \n",
    "    models = torch.load(\"../Data_cached/SequentialTraining/WSL/trained_model\" + \"\".join(str(ic[j]) for j in range(3)) + \"_\"+version+\".json\")\n",
    "    \n",
    "    dcd = {};\n",
    "    err = {};\n",
    "    ans = np.zeros(len(testset), dtype=\"int\")\n",
    "    \n",
    "    for datatype in list_datatype:\n",
    "        if datatype == 'sg':\n",
    "            dcd[datatype] = models[datatype](torch.FloatTensor(testset))[1].detach().numpy()\n",
    "        else:\n",
    "            dcd[datatype] = models[datatype + \"_WSC\"](torch.FloatTensor(testset))[1].detach().numpy()\n",
    "        err[datatype] = np.var(testset-dcd[datatype], axis=1)\n",
    "        \n",
    "    not_select = np.array([True]*len(testset));\n",
    "\n",
    "    for iStep in range(len(list_datatype)):\n",
    "        datatype = ind2datatype[iStep];\n",
    "        ind_pass = np.logical_and(not_select, err[datatype] <= cutList[datatype][ic[iStep]]);\n",
    "        ans[ind_pass] = iStep;\n",
    "        not_select[ind_pass] = False;\n",
    "        \n",
    "    ans[not_select] = -1;\n",
    "    \n",
    "    listResult[\"cut\"][cnt] = ic;\n",
    "    listResult[\"ans\"][cnt] = ans;\n",
    "    \n",
    "    acc = np.zeros(len(ind2datatype));\n",
    "    \n",
    "    for i in range(len(ind2datatype)):\n",
    "        acc[i] = np.sum(np.logical_and(ans==i, correct_ans==i))/N_wsl[ind2datatype[i]];\n",
    "        \n",
    "    listResult[\"accuracy_4\"][cnt] = acc;\n",
    "    \n",
    "    listResult[\"accuracy_2\"][cnt] = [ np.sum(acc[datatype2ind[dtype]]*N_wsl[dtype] for dtype in [\"glitch\", \"noise\"])/np.sum(N_wsl[dtype] for dtype in [\"glitch\", \"noise\"]), \n",
    "                                     np.sum(acc[datatype2ind[dtype]]*N_wsl[dtype] for dtype in [\"bbh\", \"sg\"])/np.sum(N_wsl[dtype] for dtype in [\"bbh\", \"sg\"])]\n",
    "\n",
    "    cnt += 1;"
   ]
  },
  {
   "cell_type": "code",
   "execution_count": 56,
   "metadata": {},
   "outputs": [
    {
     "data": {
      "text/plain": [
       "{'glitch': array([0.0024 , 0.00215, 0.0019 , 0.00165, 0.0014 ]),\n",
       " 'noise': array([0.0026 , 0.00235, 0.0021 , 0.00185, 0.0016 ]),\n",
       " 'bbh': array([0.0024 , 0.00215, 0.0019 , 0.00165, 0.0014 ]),\n",
       " 'sg': array([0.0032, 0.0026, 0.002 , 0.0014, 0.0008])}"
      ]
     },
     "execution_count": 56,
     "metadata": {},
     "output_type": "execute_result"
    }
   ],
   "source": [
    "cutList"
   ]
  },
  {
   "cell_type": "code",
   "execution_count": 66,
   "metadata": {},
   "outputs": [
    {
     "data": {
      "text/plain": [
       "array([[83]], dtype=int64)"
      ]
     },
     "execution_count": 66,
     "metadata": {},
     "output_type": "execute_result"
    }
   ],
   "source": [
    "np.argwhere(np.all(np.array(list(itertools.product(np.arange(Ncut), np.arange(Ncut), np.arange(Ncut)))) == np.array([3,1,3]), axis = 1))"
   ]
  },
  {
   "cell_type": "code",
   "execution_count": 34,
   "metadata": {},
   "outputs": [
    {
     "data": {
      "text/plain": [
       "array([2, 3, 4])"
      ]
     },
     "execution_count": 34,
     "metadata": {},
     "output_type": "execute_result"
    }
   ],
   "source": [
    "np.array(list(itertools.product(np.arange(Ncut), np.arange(Ncut), np.arange(Ncut))))[69]"
   ]
  },
  {
   "cell_type": "code",
   "execution_count": 50,
   "metadata": {},
   "outputs": [
    {
     "data": {
      "text/plain": [
       "array([0, 0, 0, 4])"
      ]
     },
     "execution_count": 50,
     "metadata": {},
     "output_type": "execute_result"
    }
   ],
   "source": [
    "ic"
   ]
  },
  {
   "cell_type": "code",
   "execution_count": 48,
   "metadata": {},
   "outputs": [
    {
     "data": {
      "text/plain": [
       "{'glitch': array([0.001 , 0.0014, 0.0018, 0.0022, 0.0026]),\n",
       " 'noise': array([0.001 , 0.0014, 0.0018, 0.0022, 0.0026]),\n",
       " 'bbh': array([0.0008, 0.0012, 0.0016, 0.002 , 0.0024]),\n",
       " 'sg': array([0.0003  , 0.000975, 0.00165 , 0.002325, 0.003   ])}"
      ]
     },
     "execution_count": 48,
     "metadata": {},
     "output_type": "execute_result"
    }
   ],
   "source": [
    "cutList"
   ]
  },
  {
   "cell_type": "code",
   "execution_count": 56,
   "metadata": {},
   "outputs": [
    {
     "data": {
      "text/plain": [
       "['noise', 'bbh', 'sg', 'glitch']"
      ]
     },
     "execution_count": 56,
     "metadata": {},
     "output_type": "execute_result"
    }
   ],
   "source": [
    "list_datatype"
   ]
  },
  {
   "cell_type": "code",
   "execution_count": 104,
   "metadata": {},
   "outputs": [
    {
     "name": "stderr",
     "output_type": "stream",
     "text": [
      "C:\\Users\\Liyang Miao\\AppData\\Local\\Temp\\ipykernel_30640\\149171650.py:48: DeprecationWarning: Calling np.sum(generator) is deprecated, and in the future will give a different result. Use np.sum(np.fromiter(generator)) or the python sum builtin instead.\n",
      "  listResult[\"accuracy_2\"][cnt] = [ np.sum(acc[datatype2ind[dtype]]*N_wsl[dtype] for dtype in [\"glitch\", \"noise\"])/np.sum(N_wsl[dtype] for dtype in [\"glitch\", \"noise\"]),\n",
      "C:\\Users\\Liyang Miao\\AppData\\Local\\Temp\\ipykernel_30640\\149171650.py:49: DeprecationWarning: Calling np.sum(generator) is deprecated, and in the future will give a different result. Use np.sum(np.fromiter(generator)) or the python sum builtin instead.\n",
      "  np.sum(acc[datatype2ind[dtype]]*N_wsl[dtype] for dtype in [\"bbh\", \"sg\"])/np.sum(N_wsl[dtype] for dtype in [\"bbh\", \"sg\"])]\n"
     ]
    }
   ],
   "source": [
    "listResult = {};\n",
    "listResult[\"cut\"] = np.empty((Ncut**(len(list_datatype)-1), len(list_datatype)), dtype=\"int\");\n",
    "listResult[\"ans\"] = np.empty((Ncut**(len(list_datatype)-1), len(testset)), dtype=\"int\");\n",
    "listResult[\"accuracy_4\"] = np.empty((Ncut**(len(list_datatype)-1), len(list_datatype)))\n",
    "listResult[\"accuracy_2\"] = np.empty((Ncut**(len(list_datatype)-1), 2))\n",
    "\n",
    "\n",
    "models = torch.load(\"../Data_cached/SequentialTraining/WSL/trained_model234\" + \"_\"+version+\".json\")\n",
    "\n",
    "ic = [2,3,4,4]\n",
    "\n",
    "cnt = 69\n",
    " \n",
    "dcd = {};\n",
    "err = {};\n",
    "ans = np.zeros(len(testset), dtype=\"int\")\n",
    "\n",
    "for datatype in list_datatype:\n",
    "    if datatype == 'sg':\n",
    "        dcd[datatype] = models[datatype](torch.FloatTensor(testset))[1].detach().numpy()\n",
    "        err[datatype] = np.var(testset-dcd[datatype], axis=1)\n",
    "    else:\n",
    "        dcd[datatype] = nn.Sigmoid()(models[datatype + \"_WSC\"](torch.FloatTensor(testset))).detach().numpy().reshape(-1)\n",
    "    \n",
    "not_select = np.array([True]*len(testset));\n",
    "\n",
    "for iStep in range(len(list_datatype)):\n",
    "    datatype = ind2datatype[iStep];\n",
    "    if datatype == 'sg':\n",
    "        ind_pass = np.logical_and(not_select, err[datatype] <= cutList[datatype][ic[iStep]]);\n",
    "    else:\n",
    "        ind_pass = np.logical_and(not_select, dcd[datatype] <= 0.5);\n",
    "    ans[ind_pass] = iStep;\n",
    "    not_select[ind_pass] = False;\n",
    "    \n",
    "ans[not_select] = -1;\n",
    "\n",
    "listResult[\"cut\"][cnt] = ic;\n",
    "listResult[\"ans\"][cnt] = ans;\n",
    "\n",
    "acc = np.zeros(len(ind2datatype));\n",
    "\n",
    "for i in range(len(ind2datatype)):\n",
    "    acc[i] = np.sum(np.logical_and(ans==i, correct_ans==i))/N_wsl[ind2datatype[i]];\n",
    "    \n",
    "listResult[\"accuracy_4\"][cnt] = acc;\n",
    "\n",
    "listResult[\"accuracy_2\"][cnt] = [ np.sum(acc[datatype2ind[dtype]]*N_wsl[dtype] for dtype in [\"glitch\", \"noise\"])/np.sum(N_wsl[dtype] for dtype in [\"glitch\", \"noise\"]), \n",
    "                                    np.sum(acc[datatype2ind[dtype]]*N_wsl[dtype] for dtype in [\"bbh\", \"sg\"])/np.sum(N_wsl[dtype] for dtype in [\"bbh\", \"sg\"])]"
   ]
  },
  {
   "cell_type": "code",
   "execution_count": 85,
   "metadata": {},
   "outputs": [
    {
     "data": {
      "text/plain": [
       "array([0.977 , 0.976 , 0.7806, 0.6305])"
      ]
     },
     "execution_count": 85,
     "metadata": {},
     "output_type": "execute_result"
    }
   ],
   "source": [
    "listResult['accuracy_4'][69]"
   ]
  },
  {
   "cell_type": "code",
   "execution_count": 105,
   "metadata": {},
   "outputs": [
    {
     "data": {
      "text/plain": [
       "array([0.977     , 0.976     , 0.7955    , 0.62236667])"
      ]
     },
     "execution_count": 105,
     "metadata": {},
     "output_type": "execute_result"
    }
   ],
   "source": [
    "# Below is the result for 0.75 sg\n",
    "listResult['accuracy_4'][69]"
   ]
  },
  {
   "cell_type": "code",
   "execution_count": 116,
   "metadata": {},
   "outputs": [
    {
     "data": {
      "text/plain": [
       "{'sg': array([0.00451602, 0.0025333 , 0.00160951, ..., 0.00090683, 0.00214158,\n",
       "        0.00206059])}"
      ]
     },
     "execution_count": 116,
     "metadata": {},
     "output_type": "execute_result"
    }
   ],
   "source": [
    "err"
   ]
  },
  {
   "cell_type": "code",
   "execution_count": 115,
   "metadata": {},
   "outputs": [
    {
     "data": {
      "text/plain": [
       "{'noise': array([0.9999442 , 0.9796825 , 0.9128403 , ..., 0.6633201 , 0.46464553,\n",
       "        0.2889956 ], dtype=float32),\n",
       " 'bbh': array([0.9999831 , 0.98511606, 0.82954043, ..., 0.99999917, 0.00114036,\n",
       "        0.23513603], dtype=float32),\n",
       " 'sg': array([[0.03459989, 0.04457035, 0.09483806, ..., 0.00964832, 0.00899084,\n",
       "         0.00922357],\n",
       "        [0.02848431, 0.04531   , 0.09156237, ..., 0.00825534, 0.00780367,\n",
       "         0.008074  ],\n",
       "        [0.02812543, 0.04217976, 0.08721285, ..., 0.00721938, 0.00685893,\n",
       "         0.0073244 ],\n",
       "        ...,\n",
       "        [0.02270237, 0.030991  , 0.06366357, ..., 0.00560454, 0.00527439,\n",
       "         0.00541654],\n",
       "        [0.02963375, 0.04724742, 0.09873857, ..., 0.00735726, 0.00794172,\n",
       "         0.00793119],\n",
       "        [0.02629772, 0.04116438, 0.09110257, ..., 0.00663446, 0.00791417,\n",
       "         0.00724479]], dtype=float32),\n",
       " 'glitch': array([0.00441079, 0.02439942, 0.03001123, ..., 0.99699676, 0.99909115,\n",
       "        0.9998821 ], dtype=float32)}"
      ]
     },
     "execution_count": 115,
     "metadata": {},
     "output_type": "execute_result"
    }
   ],
   "source": [
    "dcd"
   ]
  },
  {
   "cell_type": "code",
   "execution_count": 68,
   "metadata": {},
   "outputs": [
    {
     "data": {
      "text/plain": [
       "tensor([[0.0272, 0.0478, 0.0733,  ..., 0.0042, 0.0047, 0.0049],\n",
       "        [0.0253, 0.0410, 0.1282,  ..., 0.0057, 0.0052, 0.0062],\n",
       "        [0.0330, 0.0573, 0.1352,  ..., 0.0056, 0.0054, 0.0050],\n",
       "        ...,\n",
       "        [0.0284, 0.0611, 0.1066,  ..., 0.0055, 0.0046, 0.0048],\n",
       "        [0.0322, 0.0510, 0.0856,  ..., 0.0059, 0.0054, 0.0042],\n",
       "        [0.0241, 0.0474, 0.1303,  ..., 0.0049, 0.0056, 0.0051]],\n",
       "       grad_fn=<SigmoidBackward0>)"
      ]
     },
     "execution_count": 68,
     "metadata": {},
     "output_type": "execute_result"
    }
   ],
   "source": [
    "models['glitch'](torch.FloatTensor(testset))[1]"
   ]
  },
  {
   "cell_type": "code",
   "execution_count": 65,
   "metadata": {},
   "outputs": [
    {
     "data": {
      "text/plain": [
       "torch.Size([40000, 1])"
      ]
     },
     "execution_count": 65,
     "metadata": {},
     "output_type": "execute_result"
    }
   ],
   "source": [
    "models[\"glitch_WSC\"](torch.FloatTensor(testset)).shape"
   ]
  },
  {
   "cell_type": "code",
   "execution_count": 62,
   "metadata": {},
   "outputs": [
    {
     "data": {
      "text/plain": [
       "array([0.02439942], dtype=float32)"
      ]
     },
     "execution_count": 62,
     "metadata": {},
     "output_type": "execute_result"
    }
   ],
   "source": [
    "nn.Sigmoid()(models[\"glitch_WSC\"](torch.FloatTensor(testset))[1]).detach().numpy()"
   ]
  },
  {
   "cell_type": "code",
   "execution_count": 70,
   "metadata": {},
   "outputs": [
    {
     "data": {
      "text/plain": [
       "array([[ True,  True,  True, ...,  True,  True,  True],\n",
       "       [ True,  True,  True, ...,  True,  True,  True],\n",
       "       [ True,  True,  True, ...,  True,  True,  True],\n",
       "       ...,\n",
       "       [False, False, False, ..., False, False, False],\n",
       "       [False, False, False, ..., False, False, False],\n",
       "       [False, False, False, ..., False, False, False]])"
      ]
     },
     "execution_count": 70,
     "metadata": {},
     "output_type": "execute_result"
    }
   ],
   "source": [
    "ind_pass"
   ]
  },
  {
   "cell_type": "code",
   "execution_count": 80,
   "metadata": {},
   "outputs": [
    {
     "data": {
      "text/plain": [
       "array([0.0003  , 0.000975, 0.00165 , 0.002325, 0.003   ])"
      ]
     },
     "execution_count": 80,
     "metadata": {},
     "output_type": "execute_result"
    }
   ],
   "source": [
    "cutList['sg']"
   ]
  },
  {
   "cell_type": "code",
   "execution_count": 81,
   "metadata": {},
   "outputs": [
    {
     "data": {
      "text/plain": [
       "(7, 1)"
      ]
     },
     "execution_count": 81,
     "metadata": {},
     "output_type": "execute_result"
    }
   ],
   "source": [
    "np.argwhere(ans[-4000:] == -1).shape"
   ]
  },
  {
   "cell_type": "code",
   "execution_count": 112,
   "metadata": {},
   "outputs": [
    {
     "data": {
      "text/plain": [
       "(18671, 1)"
      ]
     },
     "execution_count": 112,
     "metadata": {},
     "output_type": "execute_result"
    }
   ],
   "source": [
    "np.argwhere(ans[10000:] == 3).shape"
   ]
  },
  {
   "cell_type": "code",
   "execution_count": 114,
   "metadata": {},
   "outputs": [
    {
     "data": {
      "text/plain": [
       "(55, 1)"
      ]
     },
     "execution_count": 114,
     "metadata": {},
     "output_type": "execute_result"
    }
   ],
   "source": [
    "np.argwhere(ans == -1).shape"
   ]
  },
  {
   "cell_type": "code",
   "execution_count": null,
   "metadata": {},
   "outputs": [],
   "source": []
  }
 ],
 "metadata": {
  "kernelspec": {
   "display_name": "Python 3 (ipykernel)",
   "language": "python",
   "name": "python3"
  },
  "language_info": {
   "codemirror_mode": {
    "name": "ipython",
    "version": 3
   },
   "file_extension": ".py",
   "mimetype": "text/x-python",
   "name": "python",
   "nbconvert_exporter": "python",
   "pygments_lexer": "ipython3",
   "version": "3.11.7"
  }
 },
 "nbformat": 4,
 "nbformat_minor": 2
}
