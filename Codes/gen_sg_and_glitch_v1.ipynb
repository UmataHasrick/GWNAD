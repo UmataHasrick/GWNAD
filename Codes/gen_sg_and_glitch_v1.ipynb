{
 "cells": [
  {
   "cell_type": "code",
   "execution_count": 1,
   "id": "be9f7172",
   "metadata": {},
   "outputs": [],
   "source": [
    "import numpy as np\n",
    "import matplotlib.pyplot as plt\n",
    "import scipy"
   ]
  },
  {
   "cell_type": "code",
   "execution_count": null,
   "id": "3ca2f97f",
   "metadata": {},
   "outputs": [
    {
     "name": "stdout",
     "output_type": "stream",
     "text": [
      "[98599, 12169, 57961, 44653, 89809, 86107, 68895]\n",
      "[66241, 37586, 66244, 52653]\n"
     ]
    }
   ],
   "source": [
    "bkg = np.load('/Users/SidaLu/Documents/Projects/2023/GW_ML/data/GW_data/background.npz')\n",
    "\n",
    "bkg_flatten_0 = bkg['data'][:, 0].flatten();\n",
    "bkg_flatten_1 = bkg['data'][:, 1].flatten();\n",
    "\n",
    "glitch_trigger = 10\n",
    "\n",
    "possible_glitch_batch_0 = list(set(np.arange(len(bkg_flatten_0))[abs(bkg_flatten_0)>glitch_trigger] // 200));\n",
    "possible_glitch_batch_1 = list(set(np.arange(len(bkg_flatten_1))[abs(bkg_flatten_1)>glitch_trigger] // 200));\n",
    "print(possible_glitch_batch_0)\n",
    "print(possible_glitch_batch_1)\n",
    "\n",
    "for i in range(len(possible_glitch_batch_0)):\n",
    "    plt.plot(bkg['data'][possible_glitch_batch_0[i], 0])\n",
    "    \n",
    "plt.show()"
   ]
  },
  {
   "cell_type": "code",
   "execution_count": null,
   "id": "e67baa9f",
   "metadata": {},
   "outputs": [],
   "source": [
    "## generate sine-Gaussian\n",
    "\n",
    "mulist = np.random.uniform(10, 90, 200)\n",
    "siglist = np.random.uniform(0, 30, 200)\n",
    "omegalist = 2*np.pi*np.random.uniform(0, 0.05, 200)\n",
    "\n",
    "xlist = np.arange(0, 100, 1)\n",
    "\n",
    "sine_gauss = np.zeros((200, 100))\n",
    "\n",
    "for i in range(200):\n",
    "    sine_gauss[i] = np.sin(omegalist[i]*(xlist-mulist[i]))*1/((2*np.pi)**0.5*siglist[i])*np.exp(-(xlist-mulist[i])**2/(2*siglist[i]**2))\n",
    "    \n",
    "# np.save('/Users/SidaLu/Documents/Projects/2023/GW_ML/data/sample_sg.npy', sine_gauss)\n",
    "\n",
    "for i in range(10):\n",
    "    plt.plot(np.sin(omegalist[i]*(xlist-mulist[i]))*1/((2*np.pi)**0.5*siglist[i])*np.exp(-(xlist-mulist[i])**2/(2*siglist[i]**2)))\n",
    "    \n",
    "plt.show()"
   ]
  },
  {
   "cell_type": "code",
   "execution_count": null,
   "id": "66bb2dd9",
   "metadata": {},
   "outputs": [],
   "source": [
    "## generate glitches\n",
    "##\n",
    "## glitch is taken to have the form of sinc * skewed_gaussian\n",
    "##\n",
    "## skewed gaussian: https://en.wikipedia.org/wiki/Skew_normal_distribution\n",
    "\n",
    "mulist = np.random.uniform(10, 90, 200)\n",
    "siglist = np.pi/np.random.uniform(0.2, 0.8, 200)\n",
    "\n",
    "alphalist = np.random.uniform(0.05, 0.2, 200)\n",
    "\n",
    "normlist = np.random.uniform(0.3, 1, 200)\n",
    "\n",
    "xlist = np.arange(0, 100, 1)\n",
    "\n",
    "skewed_sinc = np.zeros((200, 100))\n",
    "\n",
    "# for i in range(10):\n",
    "#     mask = np.all([(xlist-mulist[i])/siglist[i] > -2, (xlist-mulist[i])/siglist[i] < 2], axis=0)\n",
    "#     plt.plot(normlist[i] * np.sinc(abs((xlist-mulist[i])/siglist[i])**0.5) * scipy.special.erfc(alphalist[i]*(xlist-mulist[i])/siglist[i]) * 1/((2*np.pi)**0.5*siglist[i]*2)*np.exp(-(xlist-mulist[i])**2/(2*2**2*siglist[i]**2)))\n",
    "\n",
    "for i in range(200):\n",
    "    skewed_sinc[i] = normlist[i] * np.sinc(abs((xlist-mulist[i])/siglist[i])**0.5) * scipy.special.erfc(alphalist[i]*(xlist-mulist[i])/siglist[i]) * 1/((2*np.pi)**0.5*siglist[i]*2)*np.exp(-(xlist-mulist[i])**2/(2*2**2*siglist[i]**2))\n",
    "    \n",
    "# np.save('/Users/SidaLu/Documents/Projects/2023/GW_ML/data/sample_glitch_skewed_sinc.npy', skewed_sinc)\n",
    "\n",
    "for i in range(10):\n",
    "    mask = np.all([(xlist-mulist[i])/siglist[i] > -2, (xlist-mulist[i])/siglist[i] < 2], axis=0)\n",
    "    plt.plot(normlist[i] * np.sinc(abs((xlist-mulist[i])/siglist[i])**0.5) * scipy.special.erfc(alphalist[i]*(xlist-mulist[i])/siglist[i]) * 1/((2*np.pi)**0.5*siglist[i]*2)*np.exp(-(xlist-mulist[i])**2/(2*2**2*siglist[i]**2)))"
   ]
  },
  {
   "cell_type": "code",
   "execution_count": null,
   "id": "58c6ec56",
   "metadata": {},
   "outputs": [],
   "source": []
  }
 ],
 "metadata": {
  "kernelspec": {
   "display_name": "Python 3 (ipykernel)",
   "language": "python",
   "name": "python3"
  },
  "language_info": {
   "codemirror_mode": {
    "name": "ipython",
    "version": 3
   },
   "file_extension": ".py",
   "mimetype": "text/x-python",
   "name": "python",
   "nbconvert_exporter": "python",
   "pygments_lexer": "ipython3",
   "version": "3.10.11"
  }
 },
 "nbformat": 4,
 "nbformat_minor": 5
}
