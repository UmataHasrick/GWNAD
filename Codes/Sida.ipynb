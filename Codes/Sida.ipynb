{
 "cells": [
  {
   "cell_type": "code",
   "execution_count": null,
   "metadata": {},
   "outputs": [],
   "source": [
    "import torch\n",
    "from torch.utils.data import DataLoader\n",
    "from torch.utils.data import TensorDataset\n",
    "from torch import nn, optim\n",
    "import scipy.io as sio\n",
    "import numpy as np\n",
    "import matplotlib.pyplot as plt\n",
    "import pandas as pd\n",
    "import datetime\n",
    "import os\n",
    "import readligo as rl\n",
    "from gwpy.timeseries import TimeSeries\n",
    "import math\n",
    "import random\n",
    "from matplotlib.lines import Line2D\n",
    "\n",
    "from scipy import integrate"
   ]
  },
  {
   "cell_type": "code",
   "execution_count": null,
   "metadata": {},
   "outputs": [],
   "source": [
    "epochs = 400\n",
    "test_sample_ratio = .2\n",
    "validation_sample_ratio = 0.1\n",
    "batch_size = 32\n",
    "coef_delta = 0"
   ]
  },
  {
   "cell_type": "code",
   "execution_count": null,
   "metadata": {},
   "outputs": [],
   "source": [
    "class SupervisedModel(nn.Module):\n",
    "    def __init__(self):\n",
    "        super(SupervisedModel, self).__init__()\n",
    "        self.fc1 = nn.Linear(2, 8)\n",
    "        self.relu = nn.ReLU()\n",
    "        self.fc2 = nn.Linear(8, 6)\n",
    "        self.fc3 = nn.Linear(6, 4)\n",
    "        self.fc4 = nn.Linear(4, 1)\n",
    "        self.sigmoid = nn.Sigmoid()\n",
    "\n",
    "    def forward(self, x):\n",
    "        x = self.fc1(x)\n",
    "        x = self.relu(x)\n",
    "        x = self.fc2(x)\n",
    "        x = self.relu(x)\n",
    "        x = self.fc3(x)\n",
    "        x = self.relu(x)\n",
    "        x = self.fc4(x)\n",
    "        x = self.sigmoid(x)\n",
    "        return x"
   ]
  },
  {
   "cell_type": "code",
   "execution_count": null,
   "metadata": {},
   "outputs": [],
   "source": [
    "Reconstruction_error_L = np.load('../Data_cached/Reconstruction_error_GWAKset_L_1.npz')\n",
    "Reconstruction_error_H = np.load('../Data_cached/Reconstruction_error_GWAKset_H_1.npz')"
   ]
  },
  {
   "cell_type": "code",
   "execution_count": null,
   "metadata": {},
   "outputs": [],
   "source": [
    "Feature_space_noise_train = np.vstack((Reconstruction_error_L['noise_train_pattern'],Reconstruction_error_H['noise_train_pattern'])).T\n",
    "Feature_space_noise_test = np.vstack((Reconstruction_error_L['noise_test_pattern'],Reconstruction_error_H['noise_test_pattern'])).T\n",
    "Feature_space_bbh = np.vstack((Reconstruction_error_L['bbh_pattern'],Reconstruction_error_H['bbh_pattern'])).T\n",
    "Feature_space_sg = np.vstack((Reconstruction_error_L['sg_pattern'],Reconstruction_error_H['sg_pattern'])).T"
   ]
  },
  {
   "cell_type": "code",
   "execution_count": null,
   "metadata": {},
   "outputs": [],
   "source": [
    "Geometric_mean_train = np.sqrt(Feature_space_noise_train[:,0] * Feature_space_noise_train[:,1])\n",
    "Geometric_mean_test = np.sqrt(Feature_space_noise_test[:,0] * Feature_space_noise_test[:,1])\n",
    "Geometric_mean_bbh = np.sqrt(Feature_space_bbh[:,0] * Feature_space_bbh[:,1])\n",
    "Geometric_mean_sg = np.sqrt(Feature_space_sg[:,0] * Feature_space_sg[:,1])"
   ]
  },
  {
   "cell_type": "code",
   "execution_count": null,
   "metadata": {},
   "outputs": [],
   "source": [
    "data_train = Feature_space_noise_train\n",
    "data_signal_noise = Feature_space_noise_test[np.argwhere(Geometric_mean_test > 0.0033)].reshape(-1,2)\n",
    "data_signal_bbh = Feature_space_bbh[np.argwhere(Geometric_mean_bbh > 0.0033)].reshape(-1,2)"
   ]
  },
  {
   "cell_type": "code",
   "execution_count": null,
   "metadata": {},
   "outputs": [],
   "source": [
    "snr_list = np.arange(1,37,7)"
   ]
  },
  {
   "cell_type": "code",
   "execution_count": null,
   "metadata": {},
   "outputs": [],
   "source": [
    "for i in range(len(snr_list)):\n",
    "    \n",
    "    data_signal = np.vstack((data_signal_noise, data_signal_bbh[np.random.choice(len(data_signal_bbh), size = int(snr_list[i] * len(data_signal_noise)))]))\n",
    "    data_bkg = data_train[np.random.choice(len(data_train),size = len(data_signal),  replace=False)]\n",
    "    \n",
    "    print(data_signal.shape)\n",
    "    print(data_bkg.shape)\n",
    "    \n",
    "    data_signal_labeled = np.hstack((data_signal,np.ones(len(data_signal)).reshape(-1,1)))\n",
    "    data_bkg_labeled = np.hstack((data_bkg,np.zeros(len(data_bkg)).reshape(-1,1)))\n",
    "    \n",
    "    Final_training_and_validation_set = np.vstack((data_signal_labeled, data_bkg_labeled))\n",
    "    np.random.shuffle(Final_training_and_validation_set)\n",
    "\n",
    "    trainData = torch.FloatTensor(Final_training_and_validation_set[:int(0.9 * len(Final_training_and_validation_set))])\n",
    "    validationData = torch.FloatTensor(Final_training_and_validation_set[int(0.9 * len(Final_training_and_validation_set)):])\n",
    "    train_dataset = TensorDataset(trainData, trainData)\n",
    "    validation_dataset = TensorDataset(validationData, validationData)\n",
    "\n",
    "    trainDataLoader = DataLoader(dataset=train_dataset, batch_size=batch_size, shuffle=True)\n",
    "    validationDataLoader = DataLoader(dataset=validation_dataset, batch_size=batch_size, shuffle = True)\n",
    "\n",
    "\n",
    "    autoencoder = SupervisedModel().cuda()\n",
    "    optimizer = optim.Adam(autoencoder.parameters(), lr=0.00005)\n",
    "    loss_func = nn.BCELoss().cuda()\n",
    "    loss_train = np.zeros((epochs, 1))\n",
    "    loss_validation = np.zeros((epochs, 1))\n",
    "\n",
    "\n",
    "    for epoch in range(epochs):\n",
    "        # 训练阶段\n",
    "        autoencoder.train()\n",
    "        for batchidx, (x, _) in enumerate(trainDataLoader):\n",
    "            x = x.cuda()\n",
    "            decoded = autoencoder(x[:,:2])\n",
    "            # weighted_lossTrain = loss_func(decoded, x)\n",
    "            loss_overall = loss_func(decoded.flatten(), x[:,-1])\n",
    "            # loss_norm = loss_func(decoded[:, -1], x[:, -1])\n",
    "            \n",
    "            weighted_lossTrain = loss_overall\n",
    "            # weighted_lossTrain = loss_overall + loss_norm * coef_delta\n",
    "            \n",
    "            # output_norm = torch.norm(decoded[:, :100], dim=1) \n",
    "            # penalty_term = torch.mean((output_norm - 1) ** 2) \n",
    "            # weighted_lossTrain = lossTrain + coef_delta * penalty_term\n",
    "            \n",
    "            optimizer.zero_grad()\n",
    "            weighted_lossTrain.backward()\n",
    "            optimizer.step()\n",
    "\n",
    "        # 验证阶段\n",
    "        autoencoder.eval()\n",
    "        with torch.no_grad():\n",
    "            val_loss = 0\n",
    "            for batchidx, (x, _) in enumerate(validationDataLoader):\n",
    "                x = x.cuda()\n",
    "                decoded = autoencoder(x[:,:2])\n",
    "                lossVal_overall = loss_func(decoded.flatten(), x[:,-1])\n",
    "                lossVal_norm = loss_func(decoded[:, -1], x[:, -1])\n",
    "                lossVal = lossVal_overall + lossVal_norm * coef_delta\n",
    "                val_loss += lossVal.item()\n",
    "\n",
    "            val_loss /= len(validationDataLoader)\n",
    "        \n",
    "        loss_train[epoch,0] = weighted_lossTrain.item()\n",
    "        loss_validation[epoch,0] = val_loss\n",
    "        # print('Epoch: %04d, Training loss=%.8f' % (epoch+1, weighted_lossTrain.item()))\n",
    "        print('Epoch: %04d, Training loss=%.8f, Validation loss=%.8f' % (epoch+1, weighted_lossTrain.item(), val_loss))\n",
    "        \n",
    "    torch.save(autoencoder.cpu(),'../Model_cached/model_weakly_supervised_2-8-6-4-1_GWAK_snr'+str(snr_list[i])+'.pt')\n",
    "    \n",
    "    \n",
    "    fig = plt.figure(figsize=(6, 3))\n",
    "    ax = plt.subplot(1, 1, 1)\n",
    "    ax.grid()\n",
    "    ax.plot(loss_train, color=[245/255, 124/255, 0/255], linestyle='-', linewidth=2, label = 'Train set') \n",
    "    ax.plot(loss_validation, color=[245/255, 124/255, 0/255], linestyle='--', linewidth=2, label = 'Validation set') \n",
    "    ax.set_xlabel('Epoches')\n",
    "    ax.set_ylabel('Loss')\n",
    "    ax.set_title('Trainging loss, weakly supervised learning model, 0.1 anomaly cut, snr' +str(snr_list[i]))\n",
    "    plt.ylim(0,1)\n",
    "    plt.legend()\n",
    "    # plt.show()\n",
    "    plt.savefig('../Pic_cached/Trainging loss, weakly supervised learning model, 0.1 anomaly cut, snr'+str(snr_list[i])+',2-8-6-4-1.png')"
   ]
  }
 ],
 "metadata": {
  "language_info": {
   "name": "python"
  }
 },
 "nbformat": 4,
 "nbformat_minor": 2
}
