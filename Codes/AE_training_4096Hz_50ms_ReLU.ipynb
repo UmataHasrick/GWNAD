{
 "cells": [
  {
   "cell_type": "code",
   "execution_count": null,
   "metadata": {},
   "outputs": [],
   "source": [
    "import torch\n",
    "from torch.utils.data import DataLoader\n",
    "from torch.utils.data import TensorDataset\n",
    "from torch import nn, optim\n",
    "import scipy.io as sio\n",
    "import numpy as np\n",
    "import matplotlib.pyplot as plt\n",
    "import pandas as pd\n",
    "import datetime\n",
    "import os\n",
    "import readligo as rl"
   ]
  },
  {
   "cell_type": "code",
   "execution_count": null,
   "metadata": {},
   "outputs": [],
   "source": [
    "epochs = 200\n",
    "test_sample_ratio = .2\n",
    "validation_sample_ratio = 0.1\n",
    "input_vector_length = 1024\n",
    "batch_size = 200\n",
    "num_bins = 40\n",
    "\n",
    "input_dir = \"/Volumes/Research/GWNMMAD_data/Downsampled/V1/\"\n",
    "input_file_list = [\"H-H1_GWOSC_O2_4KHZ_R1-1174978560-4096_downsampled\", \"L-L1_GWOSC_O2_4KHZ_R1-1187291136-4096_downsampled\", \"V-V1_GWOSC_O2_4KHZ_R1-1187688448-4096_downsampled\"]\n",
    "\n",
    "input_file = input_file_list[1]\n",
    "\n",
    "output_dir  = \"/Volumes/Research/GWNMMAD_data/Model/\""
   ]
  },
  {
   "cell_type": "code",
   "execution_count": null,
   "metadata": {},
   "outputs": [],
   "source": [
    "class AutoEncoder(nn.Module):\n",
    "    def __init__(self):\n",
    "        super(AutoEncoder, self).__init__()\n",
    "        self.encoder = nn.Sequential(\n",
    "            nn.Linear(200, 768),\n",
    "            nn.ReLU(),\n",
    "            nn.Linear(768, 384),\n",
    "            nn.ReLU(),\n",
    "\n",
    "        )\n",
    "        self.decoder = nn.Sequential(\n",
    "            nn.Linear(384, 768),\n",
    "            nn.ReLU(),\n",
    "            nn.Linear(768, 200),\n",
    "            nn.Tanh()\n",
    "        )\n",
    "\n",
    "    def forward(self, x):\n",
    "        encoded = self.encoder(x)\n",
    "        decoded = self.decoder(encoded)\n",
    "        return encoded, decoded"
   ]
  }
 ],
 "metadata": {
  "language_info": {
   "name": "python"
  }
 },
 "nbformat": 4,
 "nbformat_minor": 2
}
